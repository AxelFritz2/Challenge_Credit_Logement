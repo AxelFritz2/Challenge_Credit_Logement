{
 "cells": [
  {
   "cell_type": "code",
   "execution_count": 103,
   "outputs": [],
   "source": [
    "import pandas as pd\n",
    "import numpy as np\n",
    "from optbinning import OptimalBinning"
   ],
   "metadata": {
    "collapsed": false,
    "ExecuteTime": {
     "end_time": "2024-02-10T21:37:30.302873Z",
     "start_time": "2024-02-10T21:37:30.019492Z"
    }
   },
   "id": "2fd8a9ee1034e5f5"
  },
  {
   "cell_type": "markdown",
   "source": [
    "# Traitement des données"
   ],
   "metadata": {
    "collapsed": false
   },
   "id": "5f571dee4cab98ee"
  },
  {
   "cell_type": "markdown",
   "source": [
    "## Import des données"
   ],
   "metadata": {
    "collapsed": false
   },
   "id": "7a09ccd207b0d92d"
  },
  {
   "cell_type": "code",
   "execution_count": 104,
   "outputs": [],
   "source": [
    "df = pd.read_csv('../data/base_modelis_pass_det.csv',sep = ';')"
   ],
   "metadata": {
    "collapsed": false,
    "ExecuteTime": {
     "end_time": "2024-02-10T21:37:32.619729Z",
     "start_time": "2024-02-10T21:37:30.074433Z"
    }
   },
   "id": "895faa9f0e78d993"
  },
  {
   "cell_type": "code",
   "execution_count": 105,
   "outputs": [],
   "source": [
    "liste_var = ['AMI', 'regroup_natur_op' , 'fl_fonc', 'fl_prt_Conso', 'nb_empr_ope' , 'niv_gravite_mtf_dfs', 'CD_MTF_DFC', 'sol_echec', 'fam_PCD', 'solution', 'dat_dec_echec', 'NB_RP_HOP', 'CD_DNE_CHR_LGD_SAIN', 'CD_SITFAM_EMP1', 'CD_CSP_EMP1', 'CD_ETAT_CIVIL', 'CD_NATUR_OP_PFI', 'MT_CHA_CSM_REV', 'MT_CHA_IMP', 'MT_CHA_PIP', 'MT_CHA_PIV', 'mt_rev_dispo', 'MT_CHG_MSL', 'MT_REST_VIVRE', 'ANC_BANC_MAX_PFI', 'TX_ENDET', 'CD_MTF_ENE_CTX', 'MT_PATRIM_NET', 'ANC_PRO_MAX_PFI', 'MT_CHA_HORS_OPE_PFI', 'NB_CHARGE_HORS_OPE_PFI', 'max_age_ctx', 'EAD_1an_avant_def', 'MT_REV_PFI', 'TX_APPOR', 'cum_frs_externes', 'MT_PATRIM_MOB', 'AGE_EMP1', 'dls_ges_def', 'NB_DUR_PFI', 'mt_dec_cum_IMP_tot', 'MT_FMG', 'MT_EAD_RESID', 'cum_dec', 'nb_bienHOP', 'dls_mep_entree_def', 'CD_POST_BIEN_PFI', 'cum_rec', 'MT_EAD_DNE_CHR_d', 'MR_arr', 'NB_LO_HOP','fl_pass_DET', 'arrete', 'cd_op','date_entree_defaut', 'NB_DUR_PFI','fl_prise_de_gar','PTG','CD_NATUR_OP_PFI',\n",
    "'regroup_natur_op','DT_MEP_OPE','nb_prt','FL_REL_NON_ANNULE']"
   ],
   "metadata": {
    "collapsed": false,
    "ExecuteTime": {
     "end_time": "2024-02-10T21:37:32.624353Z",
     "start_time": "2024-02-10T21:37:32.621696Z"
    }
   },
   "id": "d82dc6b4dd60b3f1"
  },
  {
   "cell_type": "code",
   "execution_count": 106,
   "outputs": [],
   "source": [
    "liste_var = list(set(liste_var))"
   ],
   "metadata": {
    "collapsed": false,
    "ExecuteTime": {
     "end_time": "2024-02-10T21:37:32.628303Z",
     "start_time": "2024-02-10T21:37:32.624607Z"
    }
   },
   "id": "52394b13f693ccaf"
  },
  {
   "cell_type": "code",
   "execution_count": 107,
   "outputs": [],
   "source": [
    "df = df[liste_var]"
   ],
   "metadata": {
    "collapsed": false,
    "ExecuteTime": {
     "end_time": "2024-02-10T21:37:32.716749Z",
     "start_time": "2024-02-10T21:37:32.627821Z"
    }
   },
   "id": "afffe601db96f54a"
  },
  {
   "cell_type": "markdown",
   "source": [
    "## Traitement des types de variables\n",
    "##### Passage des variables numériques ayant moins de 10 valeurs uniques en catégorie"
   ],
   "metadata": {
    "collapsed": false
   },
   "id": "7f142ae84004c47e"
  },
  {
   "cell_type": "code",
   "execution_count": 108,
   "outputs": [],
   "source": [
    "filtre = (df.select_dtypes(include = 'number').nunique()<10)\n",
    "\n",
    "for col in df.select_dtypes(include = 'number').loc[:,filtre].columns:\n",
    "    df[col] = df[col].astype('object')"
   ],
   "metadata": {
    "collapsed": false,
    "ExecuteTime": {
     "end_time": "2024-02-10T21:37:33.028088Z",
     "start_time": "2024-02-10T21:37:32.717275Z"
    }
   },
   "id": "aa7cace37d6e2bb1"
  },
  {
   "cell_type": "code",
   "execution_count": 109,
   "outputs": [],
   "source": [
    "df['fl_pass_DET'] = df['fl_pass_DET'].astype('int')"
   ],
   "metadata": {
    "collapsed": false,
    "ExecuteTime": {
     "end_time": "2024-02-10T21:37:33.042705Z",
     "start_time": "2024-02-10T21:37:33.035588Z"
    }
   },
   "id": "ba212d30dbcfd349"
  },
  {
   "cell_type": "markdown",
   "source": [
    "##### Traitement des variables de types Datetime"
   ],
   "metadata": {
    "collapsed": false
   },
   "id": "77aa21daf7f50f7c"
  },
  {
   "cell_type": "code",
   "execution_count": 110,
   "outputs": [
    {
     "name": "stderr",
     "output_type": "stream",
     "text": [
      "/var/folders/12/33kq22951gn7jfpz3d32v_qc0000gn/T/ipykernel_8505/2107458667.py:1: UserWarning: Could not infer format, so each element will be parsed individually, falling back to `dateutil`. To ensure parsing is consistent and as-expected, please specify a format.\n",
      "  df['arrete'] = pd.to_datetime(df['arrete'])\n",
      "/var/folders/12/33kq22951gn7jfpz3d32v_qc0000gn/T/ipykernel_8505/2107458667.py:2: UserWarning: Could not infer format, so each element will be parsed individually, falling back to `dateutil`. To ensure parsing is consistent and as-expected, please specify a format.\n",
      "  df['date_entree_defaut'] = pd.to_datetime(df['date_entree_defaut'])\n"
     ]
    }
   ],
   "source": [
    "df['arrete'] = pd.to_datetime(df['arrete'])\n",
    "df['date_entree_defaut'] = pd.to_datetime(df['date_entree_defaut'])"
   ],
   "metadata": {
    "collapsed": false,
    "ExecuteTime": {
     "end_time": "2024-02-10T21:37:33.154281Z",
     "start_time": "2024-02-10T21:37:33.047942Z"
    }
   },
   "id": "d94f59cb4cc1e2a"
  },
  {
   "cell_type": "code",
   "execution_count": 111,
   "outputs": [],
   "source": [
    "df['DT_MEP_OPE'] = pd.to_datetime(df['DT_MEP_OPE'], format='%d%b%Y:%H:%M:%S.%f')"
   ],
   "metadata": {
    "collapsed": false,
    "ExecuteTime": {
     "end_time": "2024-02-10T21:37:33.215700Z",
     "start_time": "2024-02-10T21:37:33.161408Z"
    }
   },
   "id": "9bc7263e2ad29e5e"
  },
  {
   "cell_type": "code",
   "execution_count": 112,
   "outputs": [],
   "source": [
    "df['DT_MEP_OPE'] = df['arrete'] - df['DT_MEP_OPE'] # Pour récupérer l'information de la recence du prêt\n",
    "df['DT_MEP_OPE'] = df['DT_MEP_OPE'].dt.days"
   ],
   "metadata": {
    "collapsed": false,
    "ExecuteTime": {
     "end_time": "2024-02-10T21:37:33.215979Z",
     "start_time": "2024-02-10T21:37:33.205156Z"
    }
   },
   "id": "1afd26b2cebdbaca"
  },
  {
   "cell_type": "markdown",
   "source": [
    "##### Création d'une variable DET indiquant dans la première ligne le passage en DET"
   ],
   "metadata": {
    "collapsed": false
   },
   "id": "f6bc3a5813e30010"
  },
  {
   "cell_type": "code",
   "execution_count": 113,
   "outputs": [],
   "source": [
    "liste_det = df[df['fl_pass_DET'] == 1]['cd_op']\n",
    "df['DET'] = np.where(df['cd_op'].isin(liste_det), 1, 0)"
   ],
   "metadata": {
    "collapsed": false,
    "ExecuteTime": {
     "end_time": "2024-02-10T21:37:33.256101Z",
     "start_time": "2024-02-10T21:37:33.216973Z"
    }
   },
   "id": "918ef75caa45756d"
  },
  {
   "cell_type": "markdown",
   "source": [
    "## Traitement des anomalies\n",
    "##### Suppression des individus n’ayant qu’une ligne"
   ],
   "metadata": {
    "collapsed": false
   },
   "id": "1e3281a42097f5e"
  },
  {
   "cell_type": "code",
   "execution_count": 114,
   "outputs": [],
   "source": [
    "anomalie = (df['cd_op'].value_counts() ==1)\n",
    "anomalie = pd.DataFrame(anomalie)\n",
    "liste_anomalie = anomalie[anomalie['count']==True].index"
   ],
   "metadata": {
    "collapsed": false,
    "ExecuteTime": {
     "end_time": "2024-02-10T21:37:33.260505Z",
     "start_time": "2024-02-10T21:37:33.253177Z"
    }
   },
   "id": "868a66ba1c1da56a"
  },
  {
   "cell_type": "code",
   "execution_count": 115,
   "outputs": [],
   "source": [
    "df['anomalie'] = np.where(df['cd_op'].isin(liste_anomalie), 1, 0)"
   ],
   "metadata": {
    "collapsed": false,
    "ExecuteTime": {
     "end_time": "2024-02-10T21:37:33.276083Z",
     "start_time": "2024-02-10T21:37:33.271485Z"
    }
   },
   "id": "7cf959384d62b702"
  },
  {
   "cell_type": "code",
   "execution_count": 116,
   "outputs": [],
   "source": [
    "df = df[df['anomalie'] == 0]"
   ],
   "metadata": {
    "collapsed": false,
    "ExecuteTime": {
     "end_time": "2024-02-10T21:37:33.416811Z",
     "start_time": "2024-02-10T21:37:33.275862Z"
    }
   },
   "id": "a0c8240852529c02"
  },
  {
   "cell_type": "code",
   "execution_count": 117,
   "outputs": [],
   "source": [
    "df.drop(columns = ['fl_pass_DET','anomalie'], inplace = True)"
   ],
   "metadata": {
    "collapsed": false,
    "ExecuteTime": {
     "end_time": "2024-02-10T21:37:33.549830Z",
     "start_time": "2024-02-10T21:37:33.428789Z"
    }
   },
   "id": "f29776eb82c391e3"
  },
  {
   "cell_type": "markdown",
   "source": [
    "##### Récupération de la première ligne de chaque individu"
   ],
   "metadata": {
    "collapsed": false
   },
   "id": "71f47127730446ca"
  },
  {
   "cell_type": "code",
   "execution_count": 118,
   "outputs": [],
   "source": [
    "df_ph = df.drop_duplicates(subset = 'cd_op' , keep = 'last')\n",
    "df = df.drop_duplicates(subset = 'cd_op' , keep = 'first')"
   ],
   "metadata": {
    "collapsed": false,
    "ExecuteTime": {
     "end_time": "2024-02-10T21:37:33.632477Z",
     "start_time": "2024-02-10T21:37:33.553275Z"
    }
   },
   "id": "58c6815dd10c3f06"
  },
  {
   "cell_type": "code",
   "execution_count": 119,
   "outputs": [],
   "source": [
    "df_ph['date_entree_defaut'] = np.where((df_ph['arrete'] - df_ph['date_entree_defaut']).dt.days < 0,\n",
    "                                       df_ph['date_entree_defaut'] - pd.DateOffset(years=1),\n",
    "                                       df_ph['date_entree_defaut'])"
   ],
   "metadata": {
    "collapsed": false,
    "ExecuteTime": {
     "end_time": "2024-02-10T21:37:33.655829Z",
     "start_time": "2024-02-10T21:37:33.633981Z"
    }
   },
   "id": "ebcfdfbd806aebe4"
  },
  {
   "cell_type": "markdown",
   "source": [
    "## Traitement des valeurs manquantes"
   ],
   "metadata": {
    "collapsed": false
   },
   "id": "c593813ebdd7a8d4"
  },
  {
   "cell_type": "code",
   "execution_count": 120,
   "outputs": [
    {
     "data": {
      "text/plain": "DT_MEP_OPE                    0\nNB_RP_HOP                 11363\ndls_ges_def                   0\nmt_dec_cum_IMP_tot            0\nAMI                        4580\nCD_MTF_ENE_CTX              801\ncd_op                         0\ncum_frs_externes              0\nCD_POST_BIEN_PFI              0\nANC_PRO_MAX_PFI             241\nMT_CHA_HORS_OPE_PFI         155\nMT_PATRIM_NET               280\nTX_ENDET                   1504\nnb_empr_ope                   0\nEAD_1an_avant_def             2\nNB_DUR_PFI                    0\nMT_CHG_MSL                 3562\nAGE_EMP1                      0\nCD_SITFAM_EMP1                0\nCD_CSP_EMP1                   0\ncum_rec                       0\nfl_prise_de_gar               0\nsolution                      0\nMR_arr                        0\nmt_rev_dispo               3562\ndate_entree_defaut            0\nnb_bienHOP                    0\nPTG                        4580\nCD_DNE_CHR_LGD_SAIN           2\nMT_CHA_PIP                 6422\nfl_prt_Conso                  0\nMT_CHA_CSM_REV             6422\nMT_REST_VIVRE              1899\nCD_ETAT_CIVIL                 0\nniv_gravite_mtf_dfs         801\nsol_echec                     0\nMT_PATRIM_MOB                 0\nNB_CHARGE_HORS_OPE_PFI      155\ndat_dec_echec                 0\ncum_dec                       0\nTX_APPOR                      1\nfam_PCD                       0\nCD_NATUR_OP_PFI               0\narrete                        0\nMT_REV_PFI                    1\nMT_EAD_RESID                  0\nMT_EAD_DNE_CHR_d              0\nANC_BANC_MAX_PFI           1797\nnb_prt                        0\nCD_MTF_DFC                  801\nMT_CHA_PIV                 6422\nNB_LO_HOP                 11363\nfl_fonc                       0\nMT_FMG                        0\nMT_CHA_IMP                 6422\nFL_REL_NON_ANNULE             0\nmax_age_ctx                   4\nregroup_natur_op              0\ndls_mep_entree_def            0\nDET                           0\ndtype: int64"
     },
     "execution_count": 120,
     "metadata": {},
     "output_type": "execute_result"
    }
   ],
   "source": [
    "df.isna().sum()"
   ],
   "metadata": {
    "collapsed": false,
    "ExecuteTime": {
     "end_time": "2024-02-10T21:37:33.679588Z",
     "start_time": "2024-02-10T21:37:33.662251Z"
    }
   },
   "id": "3c324aa0b5c14747"
  },
  {
   "cell_type": "markdown",
   "source": [
    "##### Imputation par la moyenne / le mode "
   ],
   "metadata": {
    "collapsed": false
   },
   "id": "f9de4ce74c8af651"
  },
  {
   "cell_type": "code",
   "execution_count": 121,
   "outputs": [],
   "source": [
    "for col in df.select_dtypes(include = 'number').columns:\n",
    "    valeur = df[col].median()\n",
    "    df[col].fillna(valeur, inplace=True)\n",
    "    \n",
    "    \n",
    "for col in df.select_dtypes(include = 'object').columns:\n",
    "    valeur = df[col].mode()\n",
    "    df[col].fillna(valeur.iloc[0], inplace=True)"
   ],
   "metadata": {
    "collapsed": false,
    "ExecuteTime": {
     "end_time": "2024-02-10T21:37:33.777672Z",
     "start_time": "2024-02-10T21:37:33.670608Z"
    }
   },
   "id": "63c19dcce9e13039"
  },
  {
   "cell_type": "code",
   "execution_count": 122,
   "outputs": [],
   "source": [
    "for col in df_ph.select_dtypes(include = 'number').columns:\n",
    "    valeur = df_ph[col].median()\n",
    "    df_ph[col].fillna(valeur, inplace=True)\n",
    "    \n",
    "    \n",
    "for col in df_ph.select_dtypes(include = 'object').columns:\n",
    "    valeur = df_ph[col].mode()\n",
    "    df_ph[col].fillna(valeur.iloc[0], inplace=True)"
   ],
   "metadata": {
    "collapsed": false,
    "ExecuteTime": {
     "end_time": "2024-02-10T21:37:33.886504Z",
     "start_time": "2024-02-10T21:37:33.779376Z"
    }
   },
   "id": "b1f80168a06349a0"
  },
  {
   "cell_type": "code",
   "execution_count": 123,
   "outputs": [],
   "source": [
    "assert df.isna().sum().sum()==0"
   ],
   "metadata": {
    "collapsed": false,
    "ExecuteTime": {
     "end_time": "2024-02-10T21:37:33.903775Z",
     "start_time": "2024-02-10T21:37:33.886929Z"
    }
   },
   "id": "b9f63097e35b8ef7"
  },
  {
   "cell_type": "markdown",
   "source": [
    "## Regroupement de modalités \n",
    "### Motif"
   ],
   "metadata": {
    "collapsed": false
   },
   "id": "1526027abe9d4872"
  },
  {
   "cell_type": "code",
   "execution_count": 124,
   "outputs": [],
   "source": [
    "motif_tres_mauvais = ['ESC' , 'REL', 'ORG', 'PPE', 'DEC', 'SIN']\n",
    "motif_mauvais = ['MOR', 'CHO', 'DIV', 'SUR', 'RIS', 'SEP', 'SAN', 'CON', 'DI1' ]  \n",
    "motif_moyen = ['BDF', 'AUT', 'PCL', 'PCT', 'YYY']\n",
    "\n",
    "df['Motif'] = np.select(\n",
    "    [\n",
    "        df['CD_MTF_DFC'].isin(motif_tres_mauvais),\n",
    "        df['CD_MTF_DFC'].isin(motif_mauvais),\n",
    "        df['CD_MTF_DFC'].isin(motif_moyen)\n",
    "    ],\n",
    "    ['Motif tres mauvais', 'Motif mauvais', 'Motif moyen'],\n",
    "    default='Motif moyen')\n",
    "df.drop(columns ='CD_MTF_DFC', inplace = True)"
   ],
   "metadata": {
    "collapsed": false,
    "ExecuteTime": {
     "end_time": "2024-02-10T21:37:33.942045Z",
     "start_time": "2024-02-10T21:37:33.908478Z"
    }
   },
   "id": "e3380308db51e85b"
  },
  {
   "cell_type": "code",
   "execution_count": 125,
   "outputs": [],
   "source": [
    "df_ph['Motif'] = np.select(\n",
    "    [\n",
    "        df_ph['CD_MTF_DFC'].isin(motif_tres_mauvais),\n",
    "        df_ph['CD_MTF_DFC'].isin(motif_mauvais),\n",
    "        df_ph['CD_MTF_DFC'].isin(motif_moyen)\n",
    "    ],\n",
    "    ['Motif tres mauvais', 'Motif mauvais', 'Motif moyen'],\n",
    "    default='Motif moyen')\n",
    "df_ph.drop(columns ='CD_MTF_DFC', inplace = True)"
   ],
   "metadata": {
    "collapsed": false,
    "ExecuteTime": {
     "end_time": "2024-02-10T21:37:33.957479Z",
     "start_time": "2024-02-10T21:37:33.935834Z"
    }
   },
   "id": "c356ba334818fb45"
  },
  {
   "cell_type": "markdown",
   "source": [
    "### Nb emprunteurs"
   ],
   "metadata": {
    "collapsed": false
   },
   "id": "15cfadfb2bd14b2e"
  },
  {
   "cell_type": "code",
   "execution_count": 126,
   "outputs": [],
   "source": [
    "precaire = [1]\n",
    "# Ajouter une colonne 'Groupe' au DataFrame en fonction des catégories\n",
    "df['nb_empr_ope'] = np.where(df['nb_empr_ope'].isin(precaire), 'Un emprunteur', 'Plus d\\'un emprunteur')\n",
    "df_ph['nb_empr_ope'] = np.where(df_ph['nb_empr_ope'].isin(precaire), 'Un emprunteur', 'Plus d\\'un emprunteur')"
   ],
   "metadata": {
    "collapsed": false,
    "ExecuteTime": {
     "end_time": "2024-02-10T21:37:33.961341Z",
     "start_time": "2024-02-10T21:37:33.948443Z"
    }
   },
   "id": "78b5a3f8f421e790"
  },
  {
   "cell_type": "markdown",
   "source": [
    "### Gravite"
   ],
   "metadata": {
    "collapsed": false
   },
   "id": "5224bf6093b6d5b5"
  },
  {
   "cell_type": "code",
   "execution_count": 127,
   "outputs": [],
   "source": [
    "precaire = [2.0,3.0]\n",
    "df['niv_gravite_mtf_dfs'] = np.where(df['niv_gravite_mtf_dfs'].isin(precaire), 'Grave', 'Pas grave')\n",
    "df_ph['niv_gravite_mtf_dfs'] = np.where(df_ph['niv_gravite_mtf_dfs'].isin(precaire), 'Grave', 'Pas grave')"
   ],
   "metadata": {
    "collapsed": false,
    "ExecuteTime": {
     "end_time": "2024-02-10T21:37:33.990997Z",
     "start_time": "2024-02-10T21:37:33.966990Z"
    }
   },
   "id": "6248866d09a8cce"
  },
  {
   "cell_type": "markdown",
   "source": [
    "### CD_SITFAM_EMP1"
   ],
   "metadata": {
    "collapsed": false
   },
   "id": "30bd4e47ac197133"
  },
  {
   "cell_type": "code",
   "execution_count": 128,
   "outputs": [],
   "source": [
    "precaire = ['I','D','C'] \n",
    "\n",
    "df['Situation_fam'] = np.where(df['CD_SITFAM_EMP1'].isin(precaire), 'Mauvaise situation', 'Bonne situation')\n",
    "df_ph['Situation_fam'] = np.where(df_ph['CD_SITFAM_EMP1'].isin(precaire), 'Mauvaise situation', 'Bonne situation')\n",
    "\n",
    "df.drop(columns ='CD_SITFAM_EMP1', inplace = True)\n",
    "df_ph.drop(columns ='CD_SITFAM_EMP1', inplace = True)"
   ],
   "metadata": {
    "collapsed": false,
    "ExecuteTime": {
     "end_time": "2024-02-10T21:37:34.006763Z",
     "start_time": "2024-02-10T21:37:33.973179Z"
    }
   },
   "id": "e749e2debe7671a6"
  },
  {
   "cell_type": "markdown",
   "source": [
    "### CD_NATUR_OP_PFI"
   ],
   "metadata": {
    "collapsed": false
   },
   "id": "b64cce5381bc6da1"
  },
  {
   "cell_type": "code",
   "execution_count": 129,
   "outputs": [],
   "source": [
    "precaire = ['ACR', 'ARA', 'SCP', 'ATR', 'COR', 'AQN', 'AQA']\n",
    "\n",
    "df['Nature'] = np.where(df['CD_NATUR_OP_PFI'].isin(precaire), 'Mauvaise nature', 'Bonne nature')\n",
    "df_ph['Nature'] = np.where(df_ph['CD_NATUR_OP_PFI'].isin(precaire), 'Mauvaise nature', 'Bonne nature')\n",
    "\n",
    "df.drop(columns ='CD_NATUR_OP_PFI', inplace = True)\n",
    "df_ph.drop(columns ='CD_NATUR_OP_PFI', inplace = True)"
   ],
   "metadata": {
    "collapsed": false,
    "ExecuteTime": {
     "end_time": "2024-02-10T21:37:34.036760Z",
     "start_time": "2024-02-10T21:37:34.001417Z"
    }
   },
   "id": "41500329ae5028e2"
  },
  {
   "cell_type": "markdown",
   "source": [
    "### Sol_echec"
   ],
   "metadata": {
    "collapsed": false
   },
   "id": "18f969535c5e7013"
  },
  {
   "cell_type": "code",
   "execution_count": 130,
   "outputs": [],
   "source": [
    "precaire = ['0_1', '1_1']\n",
    "\n",
    "df['Solution_echec'] = np.where(df['sol_echec'].isin(precaire), 'Mauvaise solution', 'Bonne solution')\n",
    "df_ph['Solution_echec'] = np.where(df_ph['sol_echec'].isin(precaire), 'Mauvaise solution', 'Bonne solution')\n",
    "\n",
    "df.drop(columns ='sol_echec', inplace = True)\n",
    "df_ph.drop(columns ='sol_echec', inplace = True)"
   ],
   "metadata": {
    "collapsed": false,
    "ExecuteTime": {
     "end_time": "2024-02-10T21:37:34.076180Z",
     "start_time": "2024-02-10T21:37:34.031354Z"
    }
   },
   "id": "b8c04951cf5a4b57"
  },
  {
   "cell_type": "markdown",
   "source": [
    "### Nature operation"
   ],
   "metadata": {
    "collapsed": false
   },
   "id": "b1a78a2d60bcf6d5"
  },
  {
   "cell_type": "code",
   "execution_count": 131,
   "outputs": [],
   "source": [
    "precaire = ['4_autre']\n",
    "\n",
    "df['Nature_op'] = np.where(df['regroup_natur_op'].isin(precaire), 'Mauvaise nature', 'Bonne nature')\n",
    "df_ph['Nature_op'] = np.where(df_ph['regroup_natur_op'].isin(precaire), 'Mauvaise nature', 'Bonne nature')\n",
    "\n",
    "df.drop(columns ='regroup_natur_op', inplace = True)\n",
    "df_ph.drop(columns ='regroup_natur_op', inplace = True)"
   ],
   "metadata": {
    "collapsed": false,
    "ExecuteTime": {
     "end_time": "2024-02-10T21:37:34.091615Z",
     "start_time": "2024-02-10T21:37:34.061260Z"
    }
   },
   "id": "854a52f5ef88ac49"
  },
  {
   "cell_type": "markdown",
   "source": [
    "### MTF"
   ],
   "metadata": {
    "collapsed": false
   },
   "id": "e52c884441fab2c7"
  },
  {
   "cell_type": "code",
   "execution_count": 132,
   "outputs": [],
   "source": [
    "precaire = [102.0]\n",
    "df['MTF'] = np.where(df['CD_MTF_ENE_CTX'].isin(precaire), 'Mauvais MTF', 'Bon MTF')\n",
    "df_ph['MTF'] = np.where(df_ph['CD_MTF_ENE_CTX'].isin(precaire), 'Mauvais MTF', 'Bon MTF')\n",
    "df_ph.drop(columns ='CD_MTF_ENE_CTX', inplace = True)\n"
   ],
   "metadata": {
    "collapsed": false,
    "ExecuteTime": {
     "end_time": "2024-02-10T21:37:34.132354Z",
     "start_time": "2024-02-10T21:37:34.092743Z"
    }
   },
   "id": "a3b5f600f17261dc"
  },
  {
   "cell_type": "markdown",
   "source": [
    "### ETAT_CIVIL"
   ],
   "metadata": {
    "collapsed": false
   },
   "id": "d3b2cd8c88cc6b6a"
  },
  {
   "cell_type": "code",
   "execution_count": 133,
   "outputs": [],
   "source": [
    "precaire = [4.0,5.0,2.0,8.0,3.0,7.0]\n",
    "df['ETAT_CIVIL'] = np.where(df['CD_ETAT_CIVIL'].isin(precaire), 'Mauvais etat', 'Bon etat')\n",
    "df_ph['ETAT_CIVIL'] = np.where(df_ph['CD_ETAT_CIVIL'].isin(precaire), 'Mauvais etat', 'Bon etat')\n",
    "\n",
    "df.drop(columns ='CD_ETAT_CIVIL', inplace = True)\n",
    "df_ph.drop(columns ='CD_ETAT_CIVIL', inplace = True)"
   ],
   "metadata": {
    "collapsed": false,
    "ExecuteTime": {
     "end_time": "2024-02-10T21:37:34.150767Z",
     "start_time": "2024-02-10T21:37:34.117592Z"
    }
   },
   "id": "a2e6bd00fe978175"
  },
  {
   "cell_type": "markdown",
   "source": [
    "### CSP"
   ],
   "metadata": {
    "collapsed": false
   },
   "id": "783c482f5e8a63a5"
  },
  {
   "cell_type": "code",
   "execution_count": 134,
   "outputs": [],
   "source": [
    "precaire = ['PEO' , 'PAM', 'FEO', 'FCA']\n",
    "\n",
    "df['CSP'] = np.where(df['CD_CSP_EMP1'].isin(precaire), 'Mauvaise CSP', 'Bonne CSP')\n",
    "df_ph['CSP'] = np.where(df_ph['CD_CSP_EMP1'].isin(precaire), 'Mauvaise CSP', 'Bonne CSP')\n",
    "\n",
    "df_ph.drop(columns ='CD_CSP_EMP1', inplace = True)\n",
    "df.drop(columns ='CD_CSP_EMP1', inplace = True)"
   ],
   "metadata": {
    "collapsed": false,
    "ExecuteTime": {
     "end_time": "2024-02-10T21:37:34.191355Z",
     "start_time": "2024-02-10T21:37:34.143596Z"
    }
   },
   "id": "6378186ccb9ab6b1"
  },
  {
   "cell_type": "markdown",
   "source": [
    "### Code Postal"
   ],
   "metadata": {
    "collapsed": false
   },
   "id": "9b3bac5e8177c23e"
  },
  {
   "cell_type": "code",
   "execution_count": 135,
   "outputs": [],
   "source": [
    "list_mean = []\n",
    "for cat in df['CD_POST_BIEN_PFI'].unique():\n",
    "    moyenne = df[df['CD_POST_BIEN_PFI']==cat]['DET'].mean()\n",
    "    list_mean.append(moyenne)\n",
    "    \n",
    "CP = pd.DataFrame(list_mean)\n",
    "CP['CP'] = df['CD_POST_BIEN_PFI'].unique()\n",
    "CP.rename(columns = {0:'DET'},inplace =True)"
   ],
   "metadata": {
    "collapsed": false,
    "ExecuteTime": {
     "end_time": "2024-02-10T21:37:36.682544Z",
     "start_time": "2024-02-10T21:37:34.178506Z"
    }
   },
   "id": "34a16cd1e33b098e"
  },
  {
   "cell_type": "code",
   "execution_count": 136,
   "outputs": [],
   "source": [
    "CP.rename(columns = {0:'DET'},inplace =True)"
   ],
   "metadata": {
    "collapsed": false,
    "ExecuteTime": {
     "end_time": "2024-02-10T21:37:36.687110Z",
     "start_time": "2024-02-10T21:37:36.683012Z"
    }
   },
   "id": "ee7102205dba4fd4"
  },
  {
   "cell_type": "code",
   "execution_count": 137,
   "outputs": [],
   "source": [
    "CP_tres_mauvais = CP[CP['DET']>0.4]['CP']\n",
    "CP_mauvais = CP[CP['DET']>0.3]['CP'] \n",
    "CP_moyen =CP[CP['DET']<0.3]['CP']\n",
    "\n",
    "df['CP'] = np.select(\n",
    "    [\n",
    "        df['CD_POST_BIEN_PFI'].isin(CP_tres_mauvais),\n",
    "        df['CD_POST_BIEN_PFI'].isin(CP_mauvais),\n",
    "        df['CD_POST_BIEN_PFI'].isin(CP_moyen)\n",
    "    ],\n",
    "    ['CP tres mauvais', 'CP mauvais', 'CP moyen'],\n",
    "    default='CP moyen')"
   ],
   "metadata": {
    "collapsed": false,
    "ExecuteTime": {
     "end_time": "2024-02-10T21:37:36.701879Z",
     "start_time": "2024-02-10T21:37:36.687374Z"
    }
   },
   "id": "fcde0c33a3924f2d"
  },
  {
   "cell_type": "code",
   "execution_count": 138,
   "outputs": [],
   "source": [
    "list_mean = []\n",
    "for cat in df_ph['CD_POST_BIEN_PFI'].unique():\n",
    "    moyenne = df_ph[df_ph['CD_POST_BIEN_PFI']==cat]['DET'].mean()\n",
    "    list_mean.append(moyenne)\n",
    "    \n",
    "CP_ph = pd.DataFrame(list_mean)\n",
    "CP_ph['CP'] = df_ph['CD_POST_BIEN_PFI'].unique()"
   ],
   "metadata": {
    "collapsed": false,
    "ExecuteTime": {
     "end_time": "2024-02-10T21:37:38.515030Z",
     "start_time": "2024-02-10T21:37:36.697267Z"
    }
   },
   "id": "369a51c0ff7f87e"
  },
  {
   "cell_type": "code",
   "execution_count": 139,
   "outputs": [],
   "source": [
    "CP_ph.rename(columns = {0:'DET'},inplace =True)"
   ],
   "metadata": {
    "collapsed": false,
    "ExecuteTime": {
     "end_time": "2024-02-10T21:37:38.519551Z",
     "start_time": "2024-02-10T21:37:38.515723Z"
    }
   },
   "id": "2f4bd2f156c35894"
  },
  {
   "cell_type": "code",
   "execution_count": 140,
   "outputs": [],
   "source": [
    "CP_tres_mauvais = CP_ph[CP_ph['DET']>0.4]['CP']\n",
    "CP_mauvais = CP_ph[CP_ph['DET']>0.3]['CP'] \n",
    "CP_moyen =CP_ph[CP_ph['DET']<0.3]['CP']\n",
    "\n",
    "# Ajouter une colonne 'Catégorie' au DataFrame en fonction des catégories\n",
    "df_ph['CP'] = np.select(\n",
    "    [\n",
    "        df_ph['CD_POST_BIEN_PFI'].isin(CP_tres_mauvais),\n",
    "        df_ph['CD_POST_BIEN_PFI'].isin(CP_mauvais),\n",
    "        df_ph['CD_POST_BIEN_PFI'].isin(CP_moyen)\n",
    "    ],\n",
    "    ['CP tres mauvais', 'CP mauvais', 'CP moyen'],\n",
    "    default='CP moyen')"
   ],
   "metadata": {
    "collapsed": false,
    "ExecuteTime": {
     "end_time": "2024-02-10T21:37:38.534847Z",
     "start_time": "2024-02-10T21:37:38.520514Z"
    }
   },
   "id": "a04cce228d2f02b2"
  },
  {
   "cell_type": "markdown",
   "source": [
    "### Passage de l'identifiant en index"
   ],
   "metadata": {
    "collapsed": false
   },
   "id": "38b4e7fa255a8582"
  },
  {
   "cell_type": "code",
   "execution_count": 141,
   "outputs": [],
   "source": [
    "df.index = df['cd_op']\n",
    "df.drop(columns = 'cd_op',inplace = True)"
   ],
   "metadata": {
    "collapsed": false,
    "ExecuteTime": {
     "end_time": "2024-02-10T21:37:38.547506Z",
     "start_time": "2024-02-10T21:37:38.529884Z"
    }
   },
   "id": "78a8cd45538ddcfa"
  },
  {
   "cell_type": "code",
   "execution_count": 142,
   "outputs": [],
   "source": [
    "df_ph.index = df_ph['cd_op']\n",
    "df_ph.drop(columns = 'cd_op',inplace = True)"
   ],
   "metadata": {
    "collapsed": false,
    "ExecuteTime": {
     "end_time": "2024-02-10T21:37:38.564743Z",
     "start_time": "2024-02-10T21:37:38.543911Z"
    }
   },
   "id": "55edb1a2b5dd27c1"
  },
  {
   "cell_type": "markdown",
   "source": [
    "## Encoding des variables catégorielles"
   ],
   "metadata": {
    "collapsed": false
   },
   "id": "fe121a4ea62ca8a"
  },
  {
   "cell_type": "markdown",
   "source": [
    "### Label encoding pour modalités ayant une relation ordinale"
   ],
   "metadata": {
    "collapsed": false
   },
   "id": "dfc0a2cfcf24b973"
  },
  {
   "cell_type": "code",
   "execution_count": 143,
   "outputs": [],
   "source": [
    "df['niv_gravite_mtf_dfs'] = df['niv_gravite_mtf_dfs'].apply(lambda x : 1 if x == 'Grave' else 0)\n",
    "df['niv_gravite_mtf_dfs'] = df['niv_gravite_mtf_dfs'].astype('int')\n",
    "\n",
    "df['Motif'] = df['Motif'].apply(lambda x : 3 if x == 'Motif tres mauvais' else 2 if x == 'Motif mauvais' else 1)\n",
    "\n",
    "df['Situation_fam'] = df['Situation_fam'].apply(lambda x : 2 if x == 'Mauvaise situation' else 1)\n",
    "\n",
    "df['Nature'] = df['Nature'].apply(lambda x : 2 if x == 'Mauvaise nature' else 1)\n",
    "\n",
    "df['Solution_echec'] = df['Solution_echec'].apply(lambda x : 2 if x == 'Mauvaise solution' else 1)\n",
    "\n",
    "df['Nature_op'] = df['Nature_op'].apply(lambda x : 2 if x == 'Mauvaise nature' else 1)\n",
    "\n",
    "df['CD_MTF_ENE_CTX'] = df['MTF'].apply(lambda x : 2 if x == 'Mauvais MTF' else 1)\n",
    "\n",
    "df['ETAT_CIVIL'] = df['ETAT_CIVIL'].apply(lambda x : 2 if x == 'Mauvais etat' else 1)\n",
    "\n",
    "df['CSP'] = df['CSP'].apply(lambda x : 2 if x == 'Mauvaise CSP' else 1)\n",
    "\n",
    "df['MTF'] = df['MTF'].apply(lambda x : 2 if x == 'Mauvais MTF' else 1)\n",
    "\n",
    "df['nb_empr_ope'] = df['nb_empr_ope'].apply(lambda x : 1 if x == 'Un emprunteur' else 2)\n",
    "\n",
    "df['CP'] = df['CP'].apply(lambda x : 3 if x == 'CP tres mauvais' else 2 if x == 'CP mauvais' else 1)"
   ],
   "metadata": {
    "collapsed": false,
    "ExecuteTime": {
     "end_time": "2024-02-10T21:37:38.630403Z",
     "start_time": "2024-02-10T21:37:38.628307Z"
    }
   },
   "id": "9f14905ca62bf2d5"
  },
  {
   "cell_type": "code",
   "execution_count": 144,
   "outputs": [],
   "source": [
    "df_ph['niv_gravite_mtf_dfs'] = df_ph['niv_gravite_mtf_dfs'].apply(lambda x : 1 if x == 'Grave' else 0)\n",
    "df_ph['niv_gravite_mtf_dfs'] = df_ph['niv_gravite_mtf_dfs'].astype('int')\n",
    "\n",
    "df_ph['Motif'] = df_ph['Motif'].apply(lambda x : 3 if x == 'Motif tres mauvais' else 2 if x == 'Motif mauvais' else 1)\n",
    "\n",
    "df_ph['Situation_fam'] = df_ph['Situation_fam'].apply(lambda x : 2 if x == 'Mauvaise situation' else 1)\n",
    "\n",
    "df_ph['Nature'] = df_ph['Nature'].apply(lambda x : 2 if x == 'Mauvaise nature' else 1)\n",
    "\n",
    "df_ph['Solution_echec'] = df_ph['Solution_echec'].apply(lambda x : 2 if x == 'Mauvaise solution' else 1)\n",
    "\n",
    "df_ph['Nature_op'] = df_ph['Nature_op'].apply(lambda x : 2 if x == 'Mauvaise nature' else 1)\n",
    "\n",
    "df_ph['CD_MTF_ENE_CTX'] = df_ph['MTF'].apply(lambda x : 2 if x == 'Mauvais MTF' else 1)\n",
    "\n",
    "df_ph['ETAT_CIVIL'] = df_ph['ETAT_CIVIL'].apply(lambda x : 2 if x == 'Mauvais etat' else 1)\n",
    "\n",
    "df_ph['CSP'] = df_ph['CSP'].apply(lambda x : 2 if x == 'Mauvaise CSP' else 1)\n",
    "\n",
    "df_ph['MTF'] = df_ph['MTF'].apply(lambda x : 2 if x == 'Mauvais MTF' else 1)\n",
    "\n",
    "df_ph['nb_empr_ope'] = df_ph['nb_empr_ope'].apply(lambda x : 1 if x == 'Un emprunteur' else 2)\n",
    "\n",
    "df_ph['CP'] = df_ph['CP'].apply(lambda x : 3 if x == 'CP tres mauvais' else 2 if x == 'CP mauvais' else 1)"
   ],
   "metadata": {
    "collapsed": false,
    "ExecuteTime": {
     "end_time": "2024-02-10T21:37:38.721131Z",
     "start_time": "2024-02-10T21:37:38.645836Z"
    }
   },
   "id": "141646d65a63b7c2"
  },
  {
   "cell_type": "markdown",
   "source": [
    "# Var numériques"
   ],
   "metadata": {
    "collapsed": false
   },
   "id": "a6837c2ab6e1a607"
  },
  {
   "cell_type": "code",
   "execution_count": 145,
   "outputs": [],
   "source": [
    "for col in df.select_dtypes(include = 'bool').columns : \n",
    "    df[col] = df[col].apply(lambda x: 1 if x == True else 0)"
   ],
   "metadata": {
    "collapsed": false,
    "ExecuteTime": {
     "end_time": "2024-02-10T21:37:38.738570Z",
     "start_time": "2024-02-10T21:37:38.722628Z"
    }
   },
   "id": "4c6347b5d3a7d58d"
  },
  {
   "cell_type": "code",
   "execution_count": 146,
   "outputs": [],
   "source": [
    "for col in df_ph.select_dtypes(include = 'bool').columns : \n",
    "    df_ph[col] = df_ph[col].apply(lambda x: 1 if x == True else 0)"
   ],
   "metadata": {
    "collapsed": false,
    "ExecuteTime": {
     "end_time": "2024-02-10T21:37:38.738816Z",
     "start_time": "2024-02-10T21:37:38.726078Z"
    }
   },
   "id": "a76795048c966d24"
  },
  {
   "cell_type": "markdown",
   "source": [
    "# Discretisation des variables numériques\n",
    "### ANC_PRO_MAX_PFI"
   ],
   "metadata": {
    "collapsed": false
   },
   "id": "357c5a2d1b5674f"
  },
  {
   "cell_type": "code",
   "execution_count": 147,
   "outputs": [
    {
     "data": {
      "text/plain": "                    Bin  Count  Count (%)  Non-event  Event  Event rate  \\\n0         (-inf, 30.50)   4487   0.197726       2834   1653    0.368398   \n1        [30.50, 68.50)   5040   0.222095       3375   1665    0.330357   \n2       [68.50, 151.50)   7189   0.316794       4966   2223    0.309222   \n3         [151.50, inf)   5977   0.263385       4325   1652    0.276393   \n4               Special      0   0.000000          0      0    0.000000   \n5               Missing      0   0.000000          0      0    0.000000   \nTotals                   22693   1.000000      15500   7193    0.316970   \n\n             WoE        IV        JS  \n0      -0.228634  0.010739  0.001339  \n1      -0.061161  0.000840  0.000105  \n2       0.036025  0.000408  0.000051  \n3       0.194694  0.009611  0.001199  \n4            0.0  0.000000  0.000000  \n5            0.0  0.000000  0.000000  \nTotals            0.021598  0.002695  ",
      "text/html": "<div>\n<style scoped>\n    .dataframe tbody tr th:only-of-type {\n        vertical-align: middle;\n    }\n\n    .dataframe tbody tr th {\n        vertical-align: top;\n    }\n\n    .dataframe thead th {\n        text-align: right;\n    }\n</style>\n<table border=\"1\" class=\"dataframe\">\n  <thead>\n    <tr style=\"text-align: right;\">\n      <th></th>\n      <th>Bin</th>\n      <th>Count</th>\n      <th>Count (%)</th>\n      <th>Non-event</th>\n      <th>Event</th>\n      <th>Event rate</th>\n      <th>WoE</th>\n      <th>IV</th>\n      <th>JS</th>\n    </tr>\n  </thead>\n  <tbody>\n    <tr>\n      <th>0</th>\n      <td>(-inf, 30.50)</td>\n      <td>4487</td>\n      <td>0.197726</td>\n      <td>2834</td>\n      <td>1653</td>\n      <td>0.368398</td>\n      <td>-0.228634</td>\n      <td>0.010739</td>\n      <td>0.001339</td>\n    </tr>\n    <tr>\n      <th>1</th>\n      <td>[30.50, 68.50)</td>\n      <td>5040</td>\n      <td>0.222095</td>\n      <td>3375</td>\n      <td>1665</td>\n      <td>0.330357</td>\n      <td>-0.061161</td>\n      <td>0.000840</td>\n      <td>0.000105</td>\n    </tr>\n    <tr>\n      <th>2</th>\n      <td>[68.50, 151.50)</td>\n      <td>7189</td>\n      <td>0.316794</td>\n      <td>4966</td>\n      <td>2223</td>\n      <td>0.309222</td>\n      <td>0.036025</td>\n      <td>0.000408</td>\n      <td>0.000051</td>\n    </tr>\n    <tr>\n      <th>3</th>\n      <td>[151.50, inf)</td>\n      <td>5977</td>\n      <td>0.263385</td>\n      <td>4325</td>\n      <td>1652</td>\n      <td>0.276393</td>\n      <td>0.194694</td>\n      <td>0.009611</td>\n      <td>0.001199</td>\n    </tr>\n    <tr>\n      <th>4</th>\n      <td>Special</td>\n      <td>0</td>\n      <td>0.000000</td>\n      <td>0</td>\n      <td>0</td>\n      <td>0.000000</td>\n      <td>0.0</td>\n      <td>0.000000</td>\n      <td>0.000000</td>\n    </tr>\n    <tr>\n      <th>5</th>\n      <td>Missing</td>\n      <td>0</td>\n      <td>0.000000</td>\n      <td>0</td>\n      <td>0</td>\n      <td>0.000000</td>\n      <td>0.0</td>\n      <td>0.000000</td>\n      <td>0.000000</td>\n    </tr>\n    <tr>\n      <th>Totals</th>\n      <td></td>\n      <td>22693</td>\n      <td>1.000000</td>\n      <td>15500</td>\n      <td>7193</td>\n      <td>0.316970</td>\n      <td></td>\n      <td>0.021598</td>\n      <td>0.002695</td>\n    </tr>\n  </tbody>\n</table>\n</div>"
     },
     "execution_count": 147,
     "metadata": {},
     "output_type": "execute_result"
    }
   ],
   "source": [
    "variable = \"ANC_PRO_MAX_PFI\"\n",
    "target = \"DET\"\n",
    "\n",
    "optb = OptimalBinning(name=variable, dtype=\"numerical\", max_n_bins = 4)\n",
    "\n",
    "optb.fit(df[variable].values, df[target])\n",
    "\n",
    "optb.binning_table.build()"
   ],
   "metadata": {
    "collapsed": false,
    "ExecuteTime": {
     "end_time": "2024-02-10T21:37:38.803097Z",
     "start_time": "2024-02-10T21:37:38.731339Z"
    }
   },
   "id": "5f245087d4eb9187"
  },
  {
   "cell_type": "markdown",
   "source": [
    "Index du bin : Un numéro attribué à chaque intervalle.\n",
    "\n",
    "Intervalle : La plage de valeurs couverte par le bin. Par exemple, la première ligne indique que le premier intervalle couvre toutes les valeurs inférieures à 11.50.\n",
    "\n",
    "Nombre d'observations : Le nombre d'observations (ou d'éléments de données) incluses dans cet intervalle.\n",
    "\n",
    "Fréquence relative : La fréquence relative des observations dans cet intervalle par rapport au total. Cela peut être interprété comme la proportion d'observations dans cet intervalle par rapport à l'ensemble des données.\n",
    "\n",
    "Cumulative Good : Le nombre cumulatif d'événements \"bons\" jusqu'à cet intervalle. Cela peut dépendre du contexte spécifique de votre problème, mais généralement, \"bons\" signifie quelque chose de positif ou souhaitable.\n",
    "\n",
    "Cumulative Bad : Le nombre cumulatif d'événements \"mauvais\" jusqu'à cet intervalle. De manière similaire à la colonne précédente, cela dépend du contexte de votre modèle ou analyse.\n",
    "\n",
    "WOE (Weight of Evidence) : Le Poids des Évidences pour cet intervalle. C'est une mesure de l'importance de cet intervalle dans la prédiction du résultat. Une valeur positive indique une influence positive, tandis qu'une valeur négative indique une influence négative.\n",
    "\n",
    "IV (Information Value) : La Valeur d'Information pour cet intervalle. C'est une mesure de la qualité prédictive de cet intervalle. Plus la valeur est élevée, meilleure est la capacité de l'intervalle à prédire le résultat.\n",
    "\n",
    "KS (Kolmogorov-Smirnov) : La statistique de Kolmogorov-Smirnov pour cet intervalle. Il mesure la différence cumulée entre la distribution cumulative observée et la distribution cumulative attendue.\n",
    "\n",
    "Diversification : Une mesure de la diversification dans cet intervalle."
   ],
   "metadata": {
    "collapsed": false
   },
   "id": "b06d1cb62c124de1"
  },
  {
   "cell_type": "code",
   "execution_count": 148,
   "outputs": [
    {
     "data": {
      "text/plain": "<Figure size 640x480 with 2 Axes>",
      "image/png": "[encoded data removed]"
     },
     "metadata": {},
     "output_type": "display_data"
    }
   ],
   "source": [
    "optb.binning_table.plot(metric = \"woe\")"
   ],
   "metadata": {
    "collapsed": false,
    "ExecuteTime": {
     "end_time": "2024-02-10T21:37:39.043764Z",
     "start_time": "2024-02-10T21:37:38.810190Z"
    }
   },
   "id": "673aecf162bad89b"
  },
  {
   "cell_type": "code",
   "execution_count": 149,
   "outputs": [],
   "source": [
    "df['ANC_PRO_MAX_PFI_2'] = optb.transform(df['ANC_PRO_MAX_PFI'], metric=\"woe\")"
   ],
   "metadata": {
    "collapsed": false,
    "ExecuteTime": {
     "end_time": "2024-02-10T21:37:39.066685Z",
     "start_time": "2024-02-10T21:37:39.041519Z"
    }
   },
   "id": "41260a820cd756ec"
  },
  {
   "cell_type": "code",
   "execution_count": 150,
   "outputs": [],
   "source": [
    "df_ph['ANC_PRO_MAX_PFI_2'] = optb.transform(df_ph['ANC_PRO_MAX_PFI'], metric = 'bins')"
   ],
   "metadata": {
    "collapsed": false,
    "ExecuteTime": {
     "end_time": "2024-02-10T21:37:39.068457Z",
     "start_time": "2024-02-10T21:37:39.049069Z"
    }
   },
   "id": "aacde6554d367287"
  },
  {
   "cell_type": "markdown",
   "source": [
    "### MT_REST_VIVRE"
   ],
   "metadata": {
    "collapsed": false
   },
   "id": "d87c2782981074b2"
  },
  {
   "cell_type": "code",
   "execution_count": 151,
   "outputs": [],
   "source": [
    "variable = \"MT_REST_VIVRE\"\n",
    "target = \"DET\"\n",
    "\n",
    "optb = OptimalBinning(name=variable, dtype=\"numerical\", max_n_bins = 2)\n",
    "\n",
    "# Ajout des données\n",
    "optb.fit(df[variable].values, df[target])\n",
    "\n",
    "optb.binning_table.build()\n",
    "\n",
    "df['MT_REST_VIVRE'] = optb.transform(df['MT_REST_VIVRE'], metric = 'bins')\n",
    "df_ph['MT_REST_VIVRE'] = optb.transform(df_ph['MT_REST_VIVRE'], metric = 'bins')"
   ],
   "metadata": {
    "collapsed": false,
    "ExecuteTime": {
     "end_time": "2024-02-10T21:37:39.227733Z",
     "start_time": "2024-02-10T21:37:39.060408Z"
    }
   },
   "id": "d4c496c304c42f23"
  },
  {
   "cell_type": "code",
   "execution_count": 152,
   "outputs": [
    {
     "data": {
      "text/plain": "<Figure size 640x480 with 2 Axes>",
      "image/png": "[encoded data removed]"
     },
     "metadata": {},
     "output_type": "display_data"
    }
   ],
   "source": [
    "optb.binning_table.plot(metric = \"woe\")"
   ],
   "metadata": {
    "collapsed": false,
    "ExecuteTime": {
     "end_time": "2024-02-10T21:37:39.431871Z",
     "start_time": "2024-02-10T21:37:39.228690Z"
    }
   },
   "id": "22da671a75c02fc9"
  },
  {
   "cell_type": "markdown",
   "source": [
    "# Export des Dataframes"
   ],
   "metadata": {
    "collapsed": false
   },
   "id": "dc09f2934607d733"
  },
  {
   "cell_type": "code",
   "execution_count": 153,
   "outputs": [],
   "source": [
    "df.to_csv('../data/df_logit_xgb.csv', sep = ',')\n",
    "df_ph.to_csv('../data/df_duree.csv', sep = ',')"
   ],
   "metadata": {
    "collapsed": false,
    "ExecuteTime": {
     "end_time": "2024-02-10T21:37:41.211106Z",
     "start_time": "2024-02-10T21:37:39.430679Z"
    }
   },
   "id": "2b7c21f85f2c45c0"
  },
  {
   "cell_type": "code",
   "execution_count": null,
   "outputs": [],
   "source": [],
   "metadata": {
    "collapsed": false
   },
   "id": "3a0cb27a3d30c752"
  }
 ],
 "metadata": {
  "kernelspec": {
   "display_name": "Python 3",
   "language": "python",
   "name": "python3"
  },
  "language_info": {
   "codemirror_mode": {
    "name": "ipython",
    "version": 2
   },
   "file_extension": ".py",
   "mimetype": "text/x-python",
   "name": "python",
   "nbconvert_exporter": "python",
   "pygments_lexer": "ipython2",
   "version": "2.7.6"
  }
 },
 "nbformat": 4,
 "nbformat_minor": 5
}
