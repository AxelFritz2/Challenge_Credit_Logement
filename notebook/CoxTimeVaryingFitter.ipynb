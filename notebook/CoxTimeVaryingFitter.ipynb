{
 "cells": [
  {
   "cell_type": "code",
   "execution_count": 1,
   "id": "initial_id",
   "metadata": {
    "collapsed": true,
    "ExecuteTime": {
     "end_time": "2024-02-10T16:11:04.513979Z",
     "start_time": "2024-02-10T16:11:03.267080Z"
    }
   },
   "outputs": [],
   "source": [
    "import warnings\n",
    "warnings.filterwarnings(\"ignore\")\n",
    "\n",
    "import re\n",
    "import numpy as np\n",
    "import pandas as pd\n",
    "import matplotlib.pyplot as plt\n",
    "from lifelines import CoxTimeVaryingFitter"
   ]
  },
  {
   "cell_type": "markdown",
   "source": [
    "# Modèle de Cox à Effets Mixtes\n",
    "## Import des données"
   ],
   "metadata": {
    "collapsed": false
   },
   "id": "6ceb4fc895678b82"
  },
  {
   "cell_type": "code",
   "execution_count": 2,
   "outputs": [],
   "source": [
    "df = pd.read_csv('../data/base_modelis_pass_det.csv',sep = ';')"
   ],
   "metadata": {
    "collapsed": false,
    "ExecuteTime": {
     "end_time": "2024-02-10T16:11:06.469028Z",
     "start_time": "2024-02-10T16:11:04.516062Z"
    }
   },
   "id": "db5ff1f1ef1fee39"
  },
  {
   "cell_type": "code",
   "execution_count": 3,
   "outputs": [
    {
     "data": {
      "text/plain": "(329064, 90)"
     },
     "execution_count": 3,
     "metadata": {},
     "output_type": "execute_result"
    }
   ],
   "source": [
    "df.shape"
   ],
   "metadata": {
    "collapsed": false,
    "ExecuteTime": {
     "end_time": "2024-02-10T16:11:06.478355Z",
     "start_time": "2024-02-10T16:11:06.471160Z"
    }
   },
   "id": "13df498c9ebf0144"
  },
  {
   "cell_type": "markdown",
   "source": [
    "## Traitement des données\n",
    "Contrairement aux autres modèles, nous appliquons une préparation des donneés spécifiques à ce modèle"
   ],
   "metadata": {
    "collapsed": false
   },
   "id": "d1e8c63fd59967d3"
  },
  {
   "cell_type": "code",
   "execution_count": 4,
   "outputs": [],
   "source": [
    "liste_var = ['cd_op','fl_pass_DET','arrete','date_entree_defaut','cum_frs_externes','MT_CHG_MSL',\n",
    "             'sol_echec','MT_EAD_RESID','MR_arr','dls_ges_def','mt_dec_cum_IMP_tot']\n",
    "\n",
    "df = df[liste_var]"
   ],
   "metadata": {
    "collapsed": false,
    "ExecuteTime": {
     "end_time": "2024-02-10T16:11:06.522956Z",
     "start_time": "2024-02-10T16:11:06.489927Z"
    }
   },
   "id": "73549e88d1effe0e"
  },
  {
   "cell_type": "markdown",
   "source": [
    "### Type et valeurs manquantes"
   ],
   "metadata": {
    "collapsed": false
   },
   "id": "79af5c3f9e91d143"
  },
  {
   "cell_type": "code",
   "execution_count": 5,
   "outputs": [],
   "source": [
    "df['date_entree_defaut'] = pd.to_datetime(df['date_entree_defaut'], format='%d/%m/%y')\n",
    "df['arrete'] = pd.to_datetime(df['arrete'], format='%d/%m/%y')"
   ],
   "metadata": {
    "collapsed": false,
    "ExecuteTime": {
     "end_time": "2024-02-10T16:11:06.591432Z",
     "start_time": "2024-02-10T16:11:06.533598Z"
    }
   },
   "id": "6b4600db98df8ab7"
  },
  {
   "cell_type": "code",
   "execution_count": 6,
   "outputs": [],
   "source": [
    "for column in df.columns :\n",
    "    if df[column].isna().sum()/df.shape[0] > 0.3 : \n",
    "        df.drop(columns = [column], inplace = True)"
   ],
   "metadata": {
    "collapsed": false,
    "ExecuteTime": {
     "end_time": "2024-02-10T16:11:06.619862Z",
     "start_time": "2024-02-10T16:11:06.601303Z"
    }
   },
   "id": "61a07e066e2e749b"
  },
  {
   "cell_type": "code",
   "execution_count": 7,
   "outputs": [],
   "source": [
    "cols_numeriques = df.select_dtypes(exclude=['object']).columns.to_list()\n",
    "cols_categorielles = df.select_dtypes(include=['object']).columns.to_list()\n",
    "cols_categorielles.remove(\"cd_op\")"
   ],
   "metadata": {
    "collapsed": false,
    "ExecuteTime": {
     "end_time": "2024-02-10T16:11:06.643885Z",
     "start_time": "2024-02-10T16:11:06.618920Z"
    }
   },
   "id": "c951dbf54fed5851"
  },
  {
   "cell_type": "code",
   "execution_count": 8,
   "outputs": [],
   "source": [
    "for col in cols_numeriques:\n",
    "    df[col].fillna(df[col].mean(), inplace=True)\n",
    "\n",
    "for col in cols_categorielles:\n",
    "    df[col].fillna(df[col].mode()[0], inplace=True)"
   ],
   "metadata": {
    "collapsed": false,
    "ExecuteTime": {
     "end_time": "2024-02-10T16:11:06.678253Z",
     "start_time": "2024-02-10T16:11:06.644933Z"
    }
   },
   "id": "9cda6200b3910d23"
  },
  {
   "cell_type": "markdown",
   "source": [
    "### Encoding des catégorielles"
   ],
   "metadata": {
    "collapsed": false
   },
   "id": "a0eb0a59846df62f"
  },
  {
   "cell_type": "code",
   "execution_count": 9,
   "outputs": [],
   "source": [
    "precaire = ['0_1', '1_1']\n",
    "\n",
    "df['Solution_echec'] = np.where(df['sol_echec'].isin(precaire), 'Mauvaise solution', 'Bonne solution')\n",
    "df['Solution_echec'] = df['Solution_echec'].apply(lambda x : 2 if x == 'Mauvaise solution' else 1)\n",
    "df.drop(columns ='sol_echec', inplace = True)"
   ],
   "metadata": {
    "collapsed": false,
    "ExecuteTime": {
     "end_time": "2024-02-10T16:11:06.806976Z",
     "start_time": "2024-02-10T16:11:06.687007Z"
    }
   },
   "id": "8f305cad22fb0721"
  },
  {
   "cell_type": "markdown",
   "source": [
    "### Split des données : Entraînement / Test"
   ],
   "metadata": {
    "collapsed": false
   },
   "id": "4e1ca4353d861ba2"
  },
  {
   "cell_type": "code",
   "execution_count": 10,
   "outputs": [],
   "source": [
    "df_validation = df[df['arrete']>\"2020-12-30\"]\n",
    "df_train = df[df['arrete']<\"2020-12-30\"]\n",
    "df_train = df_train.reset_index()"
   ],
   "metadata": {
    "collapsed": false,
    "ExecuteTime": {
     "end_time": "2024-02-10T16:11:06.836414Z",
     "start_time": "2024-02-10T16:11:06.808128Z"
    }
   },
   "id": "579cb2f47eb1e790"
  },
  {
   "cell_type": "code",
   "execution_count": 11,
   "outputs": [],
   "source": [
    "df_train_var = df.copy()\n",
    "df_test_var = df_validation.copy()"
   ],
   "metadata": {
    "collapsed": false,
    "ExecuteTime": {
     "end_time": "2024-02-10T16:11:06.850473Z",
     "start_time": "2024-02-10T16:11:06.836093Z"
    }
   },
   "id": "b0b77ba22c987db9"
  },
  {
   "cell_type": "markdown",
   "source": [
    "### Selection des individus réellement censurés et des fl_pass_DET=1"
   ],
   "metadata": {
    "collapsed": false
   },
   "id": "e73b1b5a697109ce"
  },
  {
   "cell_type": "code",
   "execution_count": 12,
   "outputs": [],
   "source": [
    "df_train_var.index = df_train_var['cd_op'] \n",
    "df_test_var.index = df_test_var['cd_op']"
   ],
   "metadata": {
    "collapsed": false,
    "ExecuteTime": {
     "end_time": "2024-02-10T16:11:06.858388Z",
     "start_time": "2024-02-10T16:11:06.851825Z"
    }
   },
   "id": "9ee31df3280da4fe"
  },
  {
   "cell_type": "code",
   "execution_count": 13,
   "outputs": [],
   "source": [
    "# on récupère les données non censurées\n",
    "liste_target_1 = df_train_var[df_train_var['fl_pass_DET']==1].index.to_list() \n",
    "liste_target_1_test = df_test_var[df_test_var['fl_pass_DET']==1].index.to_list()"
   ],
   "metadata": {
    "collapsed": false,
    "ExecuteTime": {
     "end_time": "2024-02-10T16:11:06.867662Z",
     "start_time": "2024-02-10T16:11:06.855310Z"
    }
   },
   "id": "183bf48bd610efa9"
  },
  {
   "cell_type": "code",
   "execution_count": 14,
   "outputs": [],
   "source": [
    "# on recupère les id censurés\n",
    "liste_target_censure = df_train_var[df_train_var['arrete']=='2022-12-31'].index.to_list() \n",
    "liste_target_censure_test = df_test_var[df_test_var['arrete']=='2022-12-31'].index.to_list()"
   ],
   "metadata": {
    "collapsed": false,
    "ExecuteTime": {
     "end_time": "2024-02-10T16:11:06.876287Z",
     "start_time": "2024-02-10T16:11:06.865324Z"
    }
   },
   "id": "c110704e0e7f03e9"
  },
  {
   "cell_type": "code",
   "execution_count": 15,
   "outputs": [],
   "source": [
    "# on combine les 2 listes\n",
    "liste_target_censure.extend(liste_target_1) \n",
    "liste_target_censure_test.extend(liste_target_1_test)"
   ],
   "metadata": {
    "collapsed": false,
    "ExecuteTime": {
     "end_time": "2024-02-10T16:11:06.876476Z",
     "start_time": "2024-02-10T16:11:06.872356Z"
    }
   },
   "id": "93967a4c2da57f13"
  },
  {
   "cell_type": "code",
   "execution_count": 16,
   "outputs": [],
   "source": [
    "# on supprime les doublons\n",
    "liste_cd_op = set(liste_target_censure) \n",
    "liste_cd_op = list(liste_cd_op)\n",
    "\n",
    "liste_cd_op_test = set(liste_target_censure_test)\n",
    "liste_cd_op_test = list(liste_cd_op_test)"
   ],
   "metadata": {
    "collapsed": false,
    "ExecuteTime": {
     "end_time": "2024-02-10T16:11:06.885817Z",
     "start_time": "2024-02-10T16:11:06.878301Z"
    }
   },
   "id": "c4cbe90173b46f54"
  },
  {
   "cell_type": "code",
   "execution_count": 17,
   "outputs": [
    {
     "data": {
      "text/plain": "11301"
     },
     "execution_count": 17,
     "metadata": {},
     "output_type": "execute_result"
    }
   ],
   "source": [
    "len(liste_cd_op) # On a donc 11301 individus à traiter dans notre base de données"
   ],
   "metadata": {
    "collapsed": false,
    "ExecuteTime": {
     "end_time": "2024-02-10T16:11:06.886271Z",
     "start_time": "2024-02-10T16:11:06.881520Z"
    }
   },
   "id": "1f9a8639fd97cbf"
  },
  {
   "cell_type": "code",
   "execution_count": 18,
   "outputs": [
    {
     "data": {
      "text/plain": "6295"
     },
     "execution_count": 18,
     "metadata": {},
     "output_type": "execute_result"
    }
   ],
   "source": [
    "len(liste_cd_op_test)"
   ],
   "metadata": {
    "collapsed": false,
    "ExecuteTime": {
     "end_time": "2024-02-10T16:11:06.889271Z",
     "start_time": "2024-02-10T16:11:06.885997Z"
    }
   },
   "id": "ffba6c669d262c89"
  },
  {
   "cell_type": "code",
   "execution_count": 19,
   "outputs": [],
   "source": [
    "data_train = df_train_var[df_train_var['cd_op'].isin(liste_cd_op)]\n",
    "data_test = df_test_var[df_test_var['cd_op'].isin(liste_cd_op_test)]"
   ],
   "metadata": {
    "collapsed": false,
    "ExecuteTime": {
     "end_time": "2024-02-10T16:11:06.922734Z",
     "start_time": "2024-02-10T16:11:06.888960Z"
    }
   },
   "id": "683dd42126d0e558"
  },
  {
   "cell_type": "markdown",
   "source": [
    "### Création des variables modélisant le temps passé pour le modèle"
   ],
   "metadata": {
    "collapsed": false
   },
   "id": "e5914810720fe762"
  },
  {
   "cell_type": "code",
   "execution_count": 20,
   "outputs": [],
   "source": [
    "data_train['start'] = 0\n",
    "data_train['stop'] = data_train['arrete'] - data_train['date_entree_defaut']\n",
    "data_train['stop'] = data_train['stop'].dt.days\n",
    "\n",
    "data_test['start'] = 0\n",
    "data_test['stop'] = data_test['arrete'] - data_test['date_entree_defaut']\n",
    "data_test['stop'] = data_test['stop'].dt.days"
   ],
   "metadata": {
    "collapsed": false,
    "ExecuteTime": {
     "end_time": "2024-02-10T16:11:06.931851Z",
     "start_time": "2024-02-10T16:11:06.921987Z"
    }
   },
   "id": "3ad3af1047b8831f"
  },
  {
   "cell_type": "code",
   "execution_count": 21,
   "outputs": [],
   "source": [
    "data_train['id'] = data_train['cd_op'].apply(lambda x: re.sub(r'\\D', '', str(x)))\n",
    "data_test['id'] = data_test['cd_op'].apply(lambda x: re.sub(r'\\D', '', str(x)))"
   ],
   "metadata": {
    "collapsed": false,
    "ExecuteTime": {
     "end_time": "2024-02-10T16:11:07.134667Z",
     "start_time": "2024-02-10T16:11:06.932393Z"
    }
   },
   "id": "c01dc87b99e3f7b7"
  },
  {
   "cell_type": "code",
   "execution_count": 22,
   "outputs": [],
   "source": [
    "data_train.id = data_train.id.astype('int')"
   ],
   "metadata": {
    "collapsed": false,
    "ExecuteTime": {
     "end_time": "2024-02-10T16:11:07.151393Z",
     "start_time": "2024-02-10T16:11:07.147820Z"
    }
   },
   "id": "446ac00b5b0f5ab8"
  },
  {
   "cell_type": "code",
   "execution_count": 23,
   "outputs": [],
   "source": [
    "data_train.loc[(data_train['start'] == data_train['stop']) & (data_train['start'] == 0) & data_train[\n",
    "    'fl_pass_DET'], 'stop'] = 0.5  # car le modele n'accepte pas les individus qui sortent de la survie au moment ou ils y entrent donc on remplace les 0 par 0.5.\n",
    "\n",
    "data_test.loc[(data_test['start'] == data_test['stop']) & (data_test['start'] == 0) & data_test[\n",
    "    'fl_pass_DET'], 'stop'] = 0.5 "
   ],
   "metadata": {
    "collapsed": false,
    "ExecuteTime": {
     "end_time": "2024-02-10T16:11:07.164433Z",
     "start_time": "2024-02-10T16:11:07.153769Z"
    }
   },
   "id": "88d35e1d762a1887"
  },
  {
   "cell_type": "code",
   "execution_count": 24,
   "outputs": [],
   "source": [
    "data_haz = data_train.select_dtypes(exclude=[\"datetime64\"])\n",
    "data_test = data_test.select_dtypes(exclude=[\"datetime64\"])"
   ],
   "metadata": {
    "collapsed": false,
    "ExecuteTime": {
     "end_time": "2024-02-10T16:11:07.175126Z",
     "start_time": "2024-02-10T16:11:07.158974Z"
    }
   },
   "id": "ac8cdf5ce02519de"
  },
  {
   "cell_type": "code",
   "execution_count": 25,
   "outputs": [],
   "source": [
    "data_haz.drop(columns = [\"cd_op\"], inplace = True)\n",
    "data_test.drop(columns = [\"cd_op\"], inplace = True)"
   ],
   "metadata": {
    "collapsed": false,
    "ExecuteTime": {
     "end_time": "2024-02-10T16:11:07.184245Z",
     "start_time": "2024-02-10T16:11:07.176220Z"
    }
   },
   "id": "5833608f1e64ea9c"
  },
  {
   "cell_type": "markdown",
   "source": [
    "# Modélisation"
   ],
   "metadata": {
    "collapsed": false
   },
   "id": "1da7cda2655e10cb"
  },
  {
   "cell_type": "code",
   "execution_count": 26,
   "outputs": [
    {
     "name": "stdout",
     "output_type": "stream",
     "text": [
      "Iteration 1: norm_delta = 3.89e-01, step_size = 0.9500, log_lik = -82428.72295, newton_decrement = 3.73e+03, seconds_since_start = 12.0\n",
      "Iteration 2: norm_delta = 1.54e+00, step_size = 0.9500, log_lik = -115368.84064, newton_decrement = 2.77e+05, seconds_since_start = 23.7\n",
      "Iteration 3: norm_delta = 1.60e+00, step_size = 0.9500, log_lik = -128047.15070, newton_decrement = 5.07e+04, seconds_since_start = 35.6\n",
      "Iteration 4: norm_delta = 1.07e+01, step_size = 0.9310, log_lik = -164596.58934, newton_decrement = 2.67e+06, seconds_since_start = 47.6\n",
      "Iteration 5: norm_delta = 2.46e+00, step_size = 0.2281, log_lik = -2149259.21837, newton_decrement = 2.07e+06, seconds_since_start = 59.5\n",
      "Iteration 6: norm_delta = 2.43e+00, step_size = 0.2906, log_lik = -1312057.57832, newton_decrement = 1.24e+06, seconds_since_start = 71.4\n",
      "Iteration 7: norm_delta = 2.91e+00, step_size = 0.4911, log_lik = -696861.17374, newton_decrement = 6.23e+05, seconds_since_start = 83.3\n",
      "Iteration 8: norm_delta = 1.87e+00, step_size = 0.6257, log_lik = -235276.36219, newton_decrement = 1.60e+05, seconds_since_start = 95.4\n",
      "Iteration 9: norm_delta = 8.58e-01, step_size = 0.7971, log_lik = -98293.79569, newton_decrement = 2.12e+04, seconds_since_start = 107.2\n",
      "Iteration 10: norm_delta = 1.23e-01, step_size = 1.0000, log_lik = -88454.35467, newton_decrement = 8.26e+03, seconds_since_start = 119.1\n",
      "Iteration 11: norm_delta = 4.32e-02, step_size = 1.0000, log_lik = -80248.71226, newton_decrement = 3.55e+02, seconds_since_start = 131.4\n",
      "Iteration 12: norm_delta = 1.51e-02, step_size = 1.0000, log_lik = -79820.43172, newton_decrement = 7.32e+01, seconds_since_start = 143.3\n",
      "Iteration 13: norm_delta = 6.58e-03, step_size = 1.0000, log_lik = -79734.58026, newton_decrement = 8.22e+00, seconds_since_start = 155.2\n",
      "Iteration 14: norm_delta = 1.02e-03, step_size = 1.0000, log_lik = -79725.68061, newton_decrement = 1.58e-01, seconds_since_start = 167.2\n",
      "Iteration 15: norm_delta = 2.12e-05, step_size = 1.0000, log_lik = -79725.52087, newton_decrement = 6.60e-05, seconds_since_start = 179.3\n",
      "Iteration 16: norm_delta = 8.91e-09, step_size = 1.0000, log_lik = -79725.52080, newton_decrement = 1.18e-11, seconds_since_start = 191.3\n",
      "Convergence completed after 16 iterations.\n"
     ]
    },
    {
     "data": {
      "text/plain": "<lifelines.CoxTimeVaryingFitter: fitted with 175878 periods, 11301 subjects, 7463 events>"
     },
     "execution_count": 26,
     "metadata": {},
     "output_type": "execute_result"
    }
   ],
   "source": [
    "ctv = CoxTimeVaryingFitter(penalizer=0.2)\n",
    "ctv.fit(data_haz, id_col=\"id\", event_col=\"fl_pass_DET\", stop_col=\"stop\", show_progress=True)"
   ],
   "metadata": {
    "collapsed": false,
    "ExecuteTime": {
     "end_time": "2024-02-10T16:14:19.978975Z",
     "start_time": "2024-02-10T16:11:07.185136Z"
    }
   },
   "id": "f85db72501aa3711"
  },
  {
   "cell_type": "code",
   "execution_count": 27,
   "outputs": [
    {
     "data": {
      "text/plain": "<lifelines.CoxTimeVaryingFitter: fitted with 175878 periods, 11301 subjects, 7463 events>\n         event col = 'fl_pass_DET'\n         penalizer = 0.2\nnumber of subjects = 11301\n number of periods = 175878\n  number of events = 7463\npartial log-likelihood = -79725.52\n  time fit was run = 2024-02-10 16:11:07 UTC\n\n---\n                     coef  exp(coef)   se(coef)   coef lower 95%   coef upper 95%  exp(coef) lower 95%  exp(coef) upper 95%\ncovariate                                                                                                                  \ncum_frs_externes    -0.00       1.00       0.00            -0.00            -0.00                 1.00                 1.00\nMT_CHG_MSL          -0.00       1.00       0.00            -0.00            -0.00                 1.00                 1.00\nMT_EAD_RESID        -0.00       1.00       0.00            -0.00            -0.00                 1.00                 1.00\nMR_arr               0.00       1.00       0.00             0.00             0.00                 1.00                 1.00\ndls_ges_def         -0.01       0.99       0.00            -0.02            -0.01                 0.98                 0.99\nmt_dec_cum_IMP_tot  -0.00       1.00       0.00            -0.00             0.00                 1.00                 1.00\nSolution_echec       0.00       1.00       0.01            -0.02             0.03                 0.98                 1.03\n\n                     cmp to      z      p   -log2(p)\ncovariate                                           \ncum_frs_externes       0.00 -13.59 <0.005     137.34\nMT_CHG_MSL             0.00  -6.80 <0.005      36.45\nMT_EAD_RESID           0.00 -14.29 <0.005     151.46\nMR_arr                 0.00  72.79 <0.005        inf\ndls_ges_def            0.00 -36.51 <0.005     967.12\nmt_dec_cum_IMP_tot     0.00  -1.21   0.23       2.14\nSolution_echec         0.00   0.47   0.64       0.64\n---\nPartial AIC = 159465.04\nlog-likelihood ratio test = 5406.40 on 7 df\n-log2(p) of ll-ratio test = inf",
      "text/html": "<div>\n<style scoped>\n    .dataframe tbody tr th:only-of-type {\n        vertical-align: middle;\n    }\n\n    .dataframe tbody tr th {\n        vertical-align: top;\n    }\n\n    .dataframe thead th {\n        text-align: right;\n    }\n</style>\n<table border=\"1\" class=\"dataframe\">\n  <tbody>\n    <tr>\n      <th>model</th>\n      <td>lifelines.CoxTimeVaryingFitter</td>\n    </tr>\n    <tr>\n      <th>event col</th>\n      <td>'fl_pass_DET'</td>\n    </tr>\n    <tr>\n      <th>penalizer</th>\n      <td>0.2</td>\n    </tr>\n    <tr>\n      <th>number of subjects</th>\n      <td>11301</td>\n    </tr>\n    <tr>\n      <th>number of periods</th>\n      <td>175878</td>\n    </tr>\n    <tr>\n      <th>number of events</th>\n      <td>7463</td>\n    </tr>\n    <tr>\n      <th>partial log-likelihood</th>\n      <td>-79725.52</td>\n    </tr>\n    <tr>\n      <th>time fit was run</th>\n      <td>2024-02-10 16:11:07 UTC</td>\n    </tr>\n  </tbody>\n</table>\n</div><table border=\"1\" class=\"dataframe\">\n  <thead>\n    <tr style=\"text-align: right;\">\n      <th style=\"min-width: 12px;\"></th>\n      <th style=\"min-width: 12px;\">coef</th>\n      <th style=\"min-width: 12px;\">exp(coef)</th>\n      <th style=\"min-width: 12px;\">se(coef)</th>\n      <th style=\"min-width: 12px;\">coef lower 95%</th>\n      <th style=\"min-width: 12px;\">coef upper 95%</th>\n      <th style=\"min-width: 12px;\">exp(coef) lower 95%</th>\n      <th style=\"min-width: 12px;\">exp(coef) upper 95%</th>\n      <th style=\"min-width: 12px;\">cmp to</th>\n      <th style=\"min-width: 12px;\">z</th>\n      <th style=\"min-width: 12px;\">p</th>\n      <th style=\"min-width: 12px;\">-log2(p)</th>\n    </tr>\n  </thead>\n  <tbody>\n    <tr>\n      <th>cum_frs_externes</th>\n      <td>-0.00</td>\n      <td>1.00</td>\n      <td>0.00</td>\n      <td>-0.00</td>\n      <td>-0.00</td>\n      <td>1.00</td>\n      <td>1.00</td>\n      <td>0.00</td>\n      <td>-13.59</td>\n      <td>&lt;0.005</td>\n      <td>137.34</td>\n    </tr>\n    <tr>\n      <th>MT_CHG_MSL</th>\n      <td>-0.00</td>\n      <td>1.00</td>\n      <td>0.00</td>\n      <td>-0.00</td>\n      <td>-0.00</td>\n      <td>1.00</td>\n      <td>1.00</td>\n      <td>0.00</td>\n      <td>-6.80</td>\n      <td>&lt;0.005</td>\n      <td>36.45</td>\n    </tr>\n    <tr>\n      <th>MT_EAD_RESID</th>\n      <td>-0.00</td>\n      <td>1.00</td>\n      <td>0.00</td>\n      <td>-0.00</td>\n      <td>-0.00</td>\n      <td>1.00</td>\n      <td>1.00</td>\n      <td>0.00</td>\n      <td>-14.29</td>\n      <td>&lt;0.005</td>\n      <td>151.46</td>\n    </tr>\n    <tr>\n      <th>MR_arr</th>\n      <td>0.00</td>\n      <td>1.00</td>\n      <td>0.00</td>\n      <td>0.00</td>\n      <td>0.00</td>\n      <td>1.00</td>\n      <td>1.00</td>\n      <td>0.00</td>\n      <td>72.79</td>\n      <td>&lt;0.005</td>\n      <td>inf</td>\n    </tr>\n    <tr>\n      <th>dls_ges_def</th>\n      <td>-0.01</td>\n      <td>0.99</td>\n      <td>0.00</td>\n      <td>-0.02</td>\n      <td>-0.01</td>\n      <td>0.98</td>\n      <td>0.99</td>\n      <td>0.00</td>\n      <td>-36.51</td>\n      <td>&lt;0.005</td>\n      <td>967.12</td>\n    </tr>\n    <tr>\n      <th>mt_dec_cum_IMP_tot</th>\n      <td>-0.00</td>\n      <td>1.00</td>\n      <td>0.00</td>\n      <td>-0.00</td>\n      <td>0.00</td>\n      <td>1.00</td>\n      <td>1.00</td>\n      <td>0.00</td>\n      <td>-1.21</td>\n      <td>0.23</td>\n      <td>2.14</td>\n    </tr>\n    <tr>\n      <th>Solution_echec</th>\n      <td>0.00</td>\n      <td>1.00</td>\n      <td>0.01</td>\n      <td>-0.02</td>\n      <td>0.03</td>\n      <td>0.98</td>\n      <td>1.03</td>\n      <td>0.00</td>\n      <td>0.47</td>\n      <td>0.64</td>\n      <td>0.64</td>\n    </tr>\n  </tbody>\n</table><br><div>\n<style scoped>\n    .dataframe tbody tr th:only-of-type {\n        vertical-align: middle;\n    }\n\n    .dataframe tbody tr th {\n        vertical-align: top;\n    }\n\n    .dataframe thead th {\n        text-align: right;\n    }\n</style>\n<table border=\"1\" class=\"dataframe\">\n  <tbody>\n    <tr>\n      <th>Partial AIC</th>\n      <td>159465.04</td>\n    </tr>\n    <tr>\n      <th>log-likelihood ratio test</th>\n      <td>5406.40 on 7 df</td>\n    </tr>\n    <tr>\n      <th>-log2(p) of ll-ratio test</th>\n      <td>inf</td>\n    </tr>\n  </tbody>\n</table>\n</div>",
      "text/latex": "\\begin{tabular}{lrrrrrrrrrrr}\n & coef & exp(coef) & se(coef) & coef lower 95% & coef upper 95% & exp(coef) lower 95% & exp(coef) upper 95% & cmp to & z & p & -log2(p) \\\\\ncovariate &  &  &  &  &  &  &  &  &  &  &  \\\\\ncum_frs_externes & -0.00 & 1.00 & 0.00 & -0.00 & -0.00 & 1.00 & 1.00 & 0.00 & -13.59 & 0.00 & 137.34 \\\\\nMT_CHG_MSL & -0.00 & 1.00 & 0.00 & -0.00 & -0.00 & 1.00 & 1.00 & 0.00 & -6.80 & 0.00 & 36.45 \\\\\nMT_EAD_RESID & -0.00 & 1.00 & 0.00 & -0.00 & -0.00 & 1.00 & 1.00 & 0.00 & -14.29 & 0.00 & 151.46 \\\\\nMR_arr & 0.00 & 1.00 & 0.00 & 0.00 & 0.00 & 1.00 & 1.00 & 0.00 & 72.79 & 0.00 & inf \\\\\ndls_ges_def & -0.01 & 0.99 & 0.00 & -0.02 & -0.01 & 0.98 & 0.99 & 0.00 & -36.51 & 0.00 & 967.12 \\\\\nmt_dec_cum_IMP_tot & -0.00 & 1.00 & 0.00 & -0.00 & 0.00 & 1.00 & 1.00 & 0.00 & -1.21 & 0.23 & 2.14 \\\\\nSolution_echec & 0.00 & 1.00 & 0.01 & -0.02 & 0.03 & 0.98 & 1.03 & 0.00 & 0.47 & 0.64 & 0.64 \\\\\n\\end{tabular}\n"
     },
     "metadata": {},
     "output_type": "display_data"
    }
   ],
   "source": [
    "ctv.print_summary()"
   ],
   "metadata": {
    "collapsed": false,
    "ExecuteTime": {
     "end_time": "2024-02-10T16:14:20.055133Z",
     "start_time": "2024-02-10T16:14:19.974531Z"
    }
   },
   "id": "6ee778d99a375c7d"
  },
  {
   "cell_type": "code",
   "execution_count": 28,
   "outputs": [
    {
     "data": {
      "text/plain": "Index(['fl_pass_DET', 'cum_frs_externes', 'MT_CHG_MSL', 'MT_EAD_RESID',\n       'MR_arr', 'dls_ges_def', 'mt_dec_cum_IMP_tot', 'Solution_echec',\n       'start', 'stop', 'id'],\n      dtype='object')"
     },
     "execution_count": 28,
     "metadata": {},
     "output_type": "execute_result"
    }
   ],
   "source": [
    "data_haz.columns"
   ],
   "metadata": {
    "collapsed": false,
    "ExecuteTime": {
     "end_time": "2024-02-10T16:14:20.061534Z",
     "start_time": "2024-02-10T16:14:20.056047Z"
    }
   },
   "id": "2a4fa3b93ac0e782"
  },
  {
   "cell_type": "code",
   "execution_count": 29,
   "outputs": [
    {
     "data": {
      "text/plain": "<Axes: xlabel='log(HR) (95% CI)'>"
     },
     "execution_count": 29,
     "metadata": {},
     "output_type": "execute_result"
    },
    {
     "data": {
      "text/plain": "<Figure size 640x480 with 1 Axes>",
      "image/png": "[encoded data removed]"
     },
     "metadata": {},
     "output_type": "display_data"
    }
   ],
   "source": [
    "ctv.plot()"
   ],
   "metadata": {
    "collapsed": false,
    "ExecuteTime": {
     "end_time": "2024-02-10T16:14:20.228306Z",
     "start_time": "2024-02-10T16:14:20.059769Z"
    }
   },
   "id": "3ec910b480f68096"
  },
  {
   "cell_type": "code",
   "execution_count": 30,
   "outputs": [],
   "source": [
    "predictions = ctv.predict_partial_hazard(data_test)"
   ],
   "metadata": {
    "collapsed": false,
    "ExecuteTime": {
     "end_time": "2024-02-10T16:14:20.296951Z",
     "start_time": "2024-02-10T16:14:20.226182Z"
    }
   },
   "id": "e1ac7d1585412807"
  },
  {
   "cell_type": "code",
   "execution_count": 31,
   "outputs": [],
   "source": [
    "predictions = pd.DataFrame(predictions)\n",
    "predictions['id']= data_test['id'].index\n",
    "predictions.rename(columns = {0:'pred'},inplace = True)"
   ],
   "metadata": {
    "collapsed": false,
    "ExecuteTime": {
     "end_time": "2024-02-10T16:14:20.314480Z",
     "start_time": "2024-02-10T16:14:20.297122Z"
    }
   },
   "id": "3dc08490bd7f752"
  }
 ],
 "metadata": {
  "kernelspec": {
   "display_name": "Python 3",
   "language": "python",
   "name": "python3"
  },
  "language_info": {
   "codemirror_mode": {
    "name": "ipython",
    "version": 2
   },
   "file_extension": ".py",
   "mimetype": "text/x-python",
   "name": "python",
   "nbconvert_exporter": "python",
   "pygments_lexer": "ipython2",
   "version": "2.7.6"
  }
 },
 "nbformat": 4,
 "nbformat_minor": 5
}
