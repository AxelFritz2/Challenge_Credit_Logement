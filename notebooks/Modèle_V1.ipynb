{
 "cells": [
  {
   "cell_type": "code",
   "execution_count": 37,
   "id": "initial_id",
   "metadata": {
    "collapsed": true,
    "ExecuteTime": {
     "end_time": "2024-01-12T10:58:38.650997Z",
     "start_time": "2024-01-12T10:58:38.635411Z"
    }
   },
   "outputs": [],
   "source": [
    "import pandas as pd\n",
    "import warnings\n",
    "from lifelines import CoxPHFitter, CoxTimeVaryingFitter\n",
    "import re\n",
    "from sklearn.preprocessing import OneHotEncoder, LabelEncoder\n",
    "warnings.filterwarnings(\"ignore\")"
   ]
  },
  {
   "cell_type": "code",
   "execution_count": 38,
   "outputs": [],
   "source": [
    "df = pd.read_csv('../data/base_modelis_pass_det.csv',sep = ';')"
   ],
   "metadata": {
    "collapsed": false,
    "ExecuteTime": {
     "end_time": "2024-01-12T10:58:41.494786Z",
     "start_time": "2024-01-12T10:58:39.183459Z"
    }
   },
   "id": "db5ff1f1ef1fee39"
  },
  {
   "cell_type": "code",
   "execution_count": 39,
   "outputs": [],
   "source": [
    "df['date_entree_defaut'] = pd.to_datetime(df['date_entree_defaut'], format='%d/%m/%y')\n",
    "df['date_sortie_defaut'] = pd.to_datetime(df['date_sortie_defaut'], format='%d/%m/%y', errors='coerce')\n",
    "df['arrete'] = pd.to_datetime(df['arrete'], format='%d/%m/%y')\n",
    "df['DT_MEP_OPE'] = pd.to_datetime(df['DT_MEP_OPE'], format='%d%b%Y:%H:%M:%S.%f')\n",
    "df['dt_arr_last_enc_ope'] = pd.to_datetime(df['dt_arr_last_enc_ope'], errors='coerce')\n",
    "df['dt_arr_1st_enc_ope'] = pd.to_datetime(df['dt_arr_1st_enc_ope'], errors='coerce')\n",
    "df['dtHJD_prov'] = pd.to_datetime(df['dtHJD_prov'], errors='coerce')\n",
    "df['dtHJD_def'] = pd.to_datetime(df['dtHJD_def'], errors='coerce')"
   ],
   "metadata": {
    "collapsed": false,
    "ExecuteTime": {
     "end_time": "2024-01-12T10:58:41.775518Z",
     "start_time": "2024-01-12T10:58:41.506663Z"
    }
   },
   "id": "6b4600db98df8ab7"
  },
  {
   "cell_type": "code",
   "execution_count": 40,
   "outputs": [],
   "source": [
    "for column in df.columns :\n",
    "    if df[column].isna().sum()/df.shape[0] > 0.5 : \n",
    "        df.drop(columns = [column], inplace = True)"
   ],
   "metadata": {
    "collapsed": false,
    "ExecuteTime": {
     "end_time": "2024-01-12T10:58:43.217456Z",
     "start_time": "2024-01-12T10:58:41.786734Z"
    }
   },
   "id": "61a07e066e2e749b"
  },
  {
   "cell_type": "code",
   "execution_count": 41,
   "outputs": [],
   "source": [
    "df.drop(columns = [\"CD_POST_BIEN_PFI\"], inplace = True)"
   ],
   "metadata": {
    "collapsed": false,
    "ExecuteTime": {
     "end_time": "2024-01-12T10:58:43.320843Z",
     "start_time": "2024-01-12T10:58:43.225245Z"
    }
   },
   "id": "6442ad27b72c41c9"
  },
  {
   "cell_type": "code",
   "execution_count": 42,
   "outputs": [],
   "source": [
    "cols_numeriques = df.select_dtypes(include=['float64', 'int64']).columns.to_list()\n",
    "cols_categorielles = df.select_dtypes(include=['object']).columns.to_list()\n",
    "cols_categorielles.remove(\"cd_op\")\n",
    "\n",
    "for col in cols_numeriques:\n",
    "    df[col].fillna(df[col].mean(), inplace=True)\n",
    "\n",
    "for col in cols_categorielles:\n",
    "    df[col].fillna(df[col].mode()[0], inplace=True)"
   ],
   "metadata": {
    "collapsed": false,
    "ExecuteTime": {
     "end_time": "2024-01-12T10:58:43.777676Z",
     "start_time": "2024-01-12T10:58:43.322737Z"
    }
   },
   "id": "c951dbf54fed5851"
  },
  {
   "cell_type": "code",
   "execution_count": 43,
   "outputs": [],
   "source": [
    "df_validation = df[df['arrete']>\"2020-12-30\"]\n",
    "df_train = df[df['arrete']<\"2020-12-30\"]\n",
    "df_train = df_train.reset_index()"
   ],
   "metadata": {
    "collapsed": false,
    "ExecuteTime": {
     "end_time": "2024-01-12T10:58:44.002198Z",
     "start_time": "2024-01-12T10:58:43.778711Z"
    }
   },
   "id": "579cb2f47eb1e790"
  },
  {
   "cell_type": "code",
   "execution_count": 44,
   "outputs": [],
   "source": [
    "liste_var = ['fam_ENQ','solution','FL_REL_NON_ANNULE','niv_gravite_mtf_dne','CD_SITFAM_EMP1','regroup_natur_op','PTG','fl_fam_vam','fam_PCD','AMI','CD_ETAT_CIVIL','CD_NAT_EMP1','niv_gravite_mtf_dne','FL_REL_NON_ANNULE','sol_echec','fl_def_ss_pass_CTX','nb_empr_ope','CD_MTF_DFC','FL_ETR']"
   ],
   "metadata": {
    "collapsed": false,
    "ExecuteTime": {
     "end_time": "2024-01-12T10:58:44.013116Z",
     "start_time": "2024-01-12T10:58:44.003371Z"
    }
   },
   "id": "df95dfcf123e6079"
  },
  {
   "cell_type": "code",
   "execution_count": 45,
   "outputs": [],
   "source": [
    "df_train_var = df[liste_var].copy()\n",
    "df_test_var = df_validation[liste_var].copy()"
   ],
   "metadata": {
    "collapsed": false,
    "ExecuteTime": {
     "end_time": "2024-01-12T10:58:44.110191Z",
     "start_time": "2024-01-12T10:58:44.007413Z"
    }
   },
   "id": "b0b77ba22c987db9"
  },
  {
   "cell_type": "markdown",
   "source": [
    "# Encoding"
   ],
   "metadata": {
    "collapsed": false
   },
   "id": "f4b5c7959b647518"
  },
  {
   "cell_type": "code",
   "execution_count": 47,
   "outputs": [],
   "source": [
    "def encode_columns(df):\n",
    "    encoders = {}\n",
    "    for column in df.select_dtypes(include = 'object'):\n",
    "        unique_values = df[column].nunique()\n",
    "        if unique_values <= 2:\n",
    "            # Appliquer OneHotEncoder\n",
    "            encoder = OneHotEncoder(sparse=False, drop='first')\n",
    "            encoded = encoder.fit_transform(df[[column]])\n",
    "            encoders[column] = encoder\n",
    "\n",
    "            # Remplacer la colonne originale par de nouvelles colonnes pour chaque catégorie\n",
    "            for i, category in enumerate(encoder.categories_[0][1:]):\n",
    "                df[str(column) + '_' + str(category)] = encoded[:, i]\n",
    "            df.drop(column, axis=1, inplace=True)\n",
    "        else:\n",
    "            # Appliquer LabelEncoder\n",
    "            encoder = LabelEncoder()\n",
    "            df[column] = encoder.fit_transform(df[column])\n",
    "            encoders[column] = encoder\n",
    "    return df, encoders\n",
    "\n",
    "encoded_df, encoders = encode_columns(df_train_var)\n",
    "encoded_test, encoder_test = encode_columns(df_test_var)"
   ],
   "metadata": {
    "collapsed": false,
    "ExecuteTime": {
     "end_time": "2024-01-12T10:59:42.660234Z",
     "start_time": "2024-01-12T10:59:42.211694Z"
    }
   },
   "id": "511a718485da52e0"
  },
  {
   "cell_type": "code",
   "execution_count": 48,
   "outputs": [],
   "source": [
    "df_train_var['cd_op']  = df['cd_op'].copy()\n",
    "df_train_var['fl_pass_DET'] = df['fl_pass_DET'].copy()\n",
    "df_train_var['date_entree_defaut'] = df['date_entree_defaut'].copy()\n",
    "df_train_var['arrete'] = df['arrete'].copy()"
   ],
   "metadata": {
    "collapsed": false,
    "ExecuteTime": {
     "end_time": "2024-01-12T10:59:44.263542Z",
     "start_time": "2024-01-12T10:59:44.247552Z"
    }
   },
   "id": "d984773bd925b7a7"
  },
  {
   "cell_type": "code",
   "execution_count": 49,
   "outputs": [],
   "source": [
    "df_test_var['cd_op']  = df_validation['cd_op'].copy()\n",
    "df_test_var['fl_pass_DET'] = df_validation['fl_pass_DET'].copy()\n",
    "df_test_var['date_entree_defaut'] = df_validation['date_entree_defaut'].copy()\n",
    "df_test_var['arrete'] = df_validation['arrete'].copy()"
   ],
   "metadata": {
    "collapsed": false,
    "ExecuteTime": {
     "end_time": "2024-01-12T10:59:44.588671Z",
     "start_time": "2024-01-12T10:59:44.578201Z"
    }
   },
   "id": "5bd15e2ee4449317"
  },
  {
   "cell_type": "markdown",
   "source": [
    "# DataPrep"
   ],
   "metadata": {
    "collapsed": false
   },
   "id": "e5914810720fe762"
  },
  {
   "cell_type": "code",
   "execution_count": 61,
   "outputs": [],
   "source": [
    "data_haz = df_train_var.copy()\n",
    "data_test =df_test_var.copy()"
   ],
   "metadata": {
    "collapsed": false,
    "ExecuteTime": {
     "end_time": "2024-01-12T11:04:42.956690Z",
     "start_time": "2024-01-12T11:04:42.918752Z"
    }
   },
   "id": "ddcd4abc388be8cb"
  },
  {
   "cell_type": "code",
   "execution_count": 51,
   "outputs": [],
   "source": [
    "data_haz['start'] = 0\n",
    "data_haz['stop'] = data_haz['arrete'] - data_haz['date_entree_defaut']\n",
    "data_haz['stop'] = data_haz['stop'].dt.days\n",
    "\n",
    "data_test['start'] = 0\n",
    "data_test['stop'] = data_test['arrete'] - data_test['date_entree_defaut']\n",
    "data_test['stop'] = data_test['stop'].dt.days"
   ],
   "metadata": {
    "collapsed": false,
    "ExecuteTime": {
     "end_time": "2024-01-12T10:59:46.425511Z",
     "start_time": "2024-01-12T10:59:46.399843Z"
    }
   },
   "id": "3ad3af1047b8831f"
  },
  {
   "cell_type": "code",
   "execution_count": 62,
   "outputs": [],
   "source": [
    "data_haz['start'] = 0\n",
    "data_haz['stop'] = data_haz['arrete'] - data_haz['date_entree_defaut']\n",
    "data_haz['stop'] = data_haz['stop'].apply(lambda x: re.sub(r'\\D', '', str(x)))\n",
    "data_haz['stop'] = data_haz['stop'].astype('int') / 1000000"
   ],
   "metadata": {
    "collapsed": false,
    "ExecuteTime": {
     "end_time": "2024-01-12T11:04:46.654317Z",
     "start_time": "2024-01-12T11:04:44.748560Z"
    }
   },
   "id": "2a4a9676932bfef4"
  },
  {
   "cell_type": "code",
   "execution_count": 63,
   "outputs": [],
   "source": [
    "data_haz['id'] = data_haz['cd_op'].apply(lambda x: re.sub(r'\\D', '', str(x)))\n",
    "\n",
    "\n",
    "data_test['id'] = data_test['cd_op'].apply(lambda x: re.sub(r'\\D', '', str(x)))"
   ],
   "metadata": {
    "collapsed": false,
    "ExecuteTime": {
     "end_time": "2024-01-12T11:04:50.918425Z",
     "start_time": "2024-01-12T11:04:50.567951Z"
    }
   },
   "id": "c01dc87b99e3f7b7"
  },
  {
   "cell_type": "code",
   "execution_count": 65,
   "outputs": [],
   "source": [
    "data_haz.loc[(data_haz['start'] == data_haz['stop']) & (data_haz['start'] == 0) & data_haz[\n",
    "    'fl_pass_DET'], 'stop'] = 0.5  # car le modele n'accepte pas les individus qui sortent de la survie au moment ou ils y entrent donc on remplace les 0 par 0.5.\n",
    "\n",
    "#data_test.loc[(data_test['start'] == data_test['stop']) & (data_test['start'] == 0) & data_test[\n",
    "    #'fl_pass_DET'], 'stop'] = 0.5 "
   ],
   "metadata": {
    "collapsed": false,
    "ExecuteTime": {
     "end_time": "2024-01-12T11:05:17.715326Z",
     "start_time": "2024-01-12T11:05:17.703447Z"
    }
   },
   "id": "88d35e1d762a1887"
  },
  {
   "cell_type": "code",
   "execution_count": 66,
   "outputs": [
    {
     "data": {
      "text/plain": "        fam_ENQ  solution  FL_REL_NON_ANNULE  niv_gravite_mtf_dne  \\\n0             0         0                  0             2.000000   \n1             0         0                  0             2.000000   \n2             0         0                  0             2.000000   \n3             0         0                  0             2.000000   \n4             0         0                  0             2.000000   \n...         ...       ...                ...                  ...   \n329059        0         0                  0             1.922321   \n329060        0         0                  0             1.922321   \n329061        0         0                  0             1.000000   \n329062        0         0                  0             1.000000   \n329063        0         0                  0             1.000000   \n\n        CD_SITFAM_EMP1  regroup_natur_op       PTG  fl_fam_vam  fam_PCD  \\\n0                    5                 2  0.109152           0        0   \n1                    5                 2  0.109152           0        0   \n2                    5                 2  0.109152           0        0   \n3                    5                 2  0.109152           0        0   \n4                    5                 2  0.109152           0        0   \n...                ...               ...       ...         ...      ...   \n329059               3                 3  0.109152           0        0   \n329060               3                 3  0.109152           0        0   \n329061               5                 3  0.109152           0        0   \n329062               5                 3  0.109152           0        0   \n329063               5                 2  0.000000           0        0   \n\n             AMI  ...  nb_empr_ope  CD_MTF_DFC  FL_ETR       cd_op  \\\n0       0.595968  ...            2          16       0  I860708600   \n1       0.595968  ...            2          16       0  I860708600   \n2       0.595968  ...            2          16       0  I860708600   \n3       0.595968  ...            2          16       0  I860708600   \n4       0.595968  ...            2          16       0  I860708600   \n...          ...  ...          ...         ...     ...         ...   \n329059  0.595968  ...            2           5       0  M220505830   \n329060  0.595968  ...            2           5       0  M220505830   \n329061  0.595968  ...            2          19       0  M220606878   \n329062  0.595968  ...            2          19       0  M220606878   \n329063  0.000000  ...            1          19       0  M220631441   \n\n        fl_pass_DET  date_entree_defaut     arrete  start   stop         id  \n0                 0          2017-01-16 2017-01-31      0   15.0  860708600  \n1                 0          2017-01-16 2017-02-28      0   43.0  860708600  \n2                 0          2017-01-16 2017-03-31      0   74.0  860708600  \n3                 0          2017-01-16 2017-04-30      0  104.0  860708600  \n4                 0          2017-01-16 2017-05-31      0  135.0  860708600  \n...             ...                 ...        ...    ...    ...        ...  \n329059            0          2022-06-16 2022-11-30      0  167.0  220505830  \n329060            0          2022-06-16 2022-12-31      0  198.0  220505830  \n329061            0          2022-11-04 2022-11-30      0   26.0  220606878  \n329062            0          2022-11-04 2022-12-31      0   57.0  220606878  \n329063            0          2022-12-12 2022-12-31      0   19.0  220631441  \n\n[329064 rows x 26 columns]",
      "text/html": "<div>\n<style scoped>\n    .dataframe tbody tr th:only-of-type {\n        vertical-align: middle;\n    }\n\n    .dataframe tbody tr th {\n        vertical-align: top;\n    }\n\n    .dataframe thead th {\n        text-align: right;\n    }\n</style>\n<table border=\"1\" class=\"dataframe\">\n  <thead>\n    <tr style=\"text-align: right;\">\n      <th></th>\n      <th>fam_ENQ</th>\n      <th>solution</th>\n      <th>FL_REL_NON_ANNULE</th>\n      <th>niv_gravite_mtf_dne</th>\n      <th>CD_SITFAM_EMP1</th>\n      <th>regroup_natur_op</th>\n      <th>PTG</th>\n      <th>fl_fam_vam</th>\n      <th>fam_PCD</th>\n      <th>AMI</th>\n      <th>...</th>\n      <th>nb_empr_ope</th>\n      <th>CD_MTF_DFC</th>\n      <th>FL_ETR</th>\n      <th>cd_op</th>\n      <th>fl_pass_DET</th>\n      <th>date_entree_defaut</th>\n      <th>arrete</th>\n      <th>start</th>\n      <th>stop</th>\n      <th>id</th>\n    </tr>\n  </thead>\n  <tbody>\n    <tr>\n      <th>0</th>\n      <td>0</td>\n      <td>0</td>\n      <td>0</td>\n      <td>2.000000</td>\n      <td>5</td>\n      <td>2</td>\n      <td>0.109152</td>\n      <td>0</td>\n      <td>0</td>\n      <td>0.595968</td>\n      <td>...</td>\n      <td>2</td>\n      <td>16</td>\n      <td>0</td>\n      <td>I860708600</td>\n      <td>0</td>\n      <td>2017-01-16</td>\n      <td>2017-01-31</td>\n      <td>0</td>\n      <td>15.0</td>\n      <td>860708600</td>\n    </tr>\n    <tr>\n      <th>1</th>\n      <td>0</td>\n      <td>0</td>\n      <td>0</td>\n      <td>2.000000</td>\n      <td>5</td>\n      <td>2</td>\n      <td>0.109152</td>\n      <td>0</td>\n      <td>0</td>\n      <td>0.595968</td>\n      <td>...</td>\n      <td>2</td>\n      <td>16</td>\n      <td>0</td>\n      <td>I860708600</td>\n      <td>0</td>\n      <td>2017-01-16</td>\n      <td>2017-02-28</td>\n      <td>0</td>\n      <td>43.0</td>\n      <td>860708600</td>\n    </tr>\n    <tr>\n      <th>2</th>\n      <td>0</td>\n      <td>0</td>\n      <td>0</td>\n      <td>2.000000</td>\n      <td>5</td>\n      <td>2</td>\n      <td>0.109152</td>\n      <td>0</td>\n      <td>0</td>\n      <td>0.595968</td>\n      <td>...</td>\n      <td>2</td>\n      <td>16</td>\n      <td>0</td>\n      <td>I860708600</td>\n      <td>0</td>\n      <td>2017-01-16</td>\n      <td>2017-03-31</td>\n      <td>0</td>\n      <td>74.0</td>\n      <td>860708600</td>\n    </tr>\n    <tr>\n      <th>3</th>\n      <td>0</td>\n      <td>0</td>\n      <td>0</td>\n      <td>2.000000</td>\n      <td>5</td>\n      <td>2</td>\n      <td>0.109152</td>\n      <td>0</td>\n      <td>0</td>\n      <td>0.595968</td>\n      <td>...</td>\n      <td>2</td>\n      <td>16</td>\n      <td>0</td>\n      <td>I860708600</td>\n      <td>0</td>\n      <td>2017-01-16</td>\n      <td>2017-04-30</td>\n      <td>0</td>\n      <td>104.0</td>\n      <td>860708600</td>\n    </tr>\n    <tr>\n      <th>4</th>\n      <td>0</td>\n      <td>0</td>\n      <td>0</td>\n      <td>2.000000</td>\n      <td>5</td>\n      <td>2</td>\n      <td>0.109152</td>\n      <td>0</td>\n      <td>0</td>\n      <td>0.595968</td>\n      <td>...</td>\n      <td>2</td>\n      <td>16</td>\n      <td>0</td>\n      <td>I860708600</td>\n      <td>0</td>\n      <td>2017-01-16</td>\n      <td>2017-05-31</td>\n      <td>0</td>\n      <td>135.0</td>\n      <td>860708600</td>\n    </tr>\n    <tr>\n      <th>...</th>\n      <td>...</td>\n      <td>...</td>\n      <td>...</td>\n      <td>...</td>\n      <td>...</td>\n      <td>...</td>\n      <td>...</td>\n      <td>...</td>\n      <td>...</td>\n      <td>...</td>\n      <td>...</td>\n      <td>...</td>\n      <td>...</td>\n      <td>...</td>\n      <td>...</td>\n      <td>...</td>\n      <td>...</td>\n      <td>...</td>\n      <td>...</td>\n      <td>...</td>\n      <td>...</td>\n    </tr>\n    <tr>\n      <th>329059</th>\n      <td>0</td>\n      <td>0</td>\n      <td>0</td>\n      <td>1.922321</td>\n      <td>3</td>\n      <td>3</td>\n      <td>0.109152</td>\n      <td>0</td>\n      <td>0</td>\n      <td>0.595968</td>\n      <td>...</td>\n      <td>2</td>\n      <td>5</td>\n      <td>0</td>\n      <td>M220505830</td>\n      <td>0</td>\n      <td>2022-06-16</td>\n      <td>2022-11-30</td>\n      <td>0</td>\n      <td>167.0</td>\n      <td>220505830</td>\n    </tr>\n    <tr>\n      <th>329060</th>\n      <td>0</td>\n      <td>0</td>\n      <td>0</td>\n      <td>1.922321</td>\n      <td>3</td>\n      <td>3</td>\n      <td>0.109152</td>\n      <td>0</td>\n      <td>0</td>\n      <td>0.595968</td>\n      <td>...</td>\n      <td>2</td>\n      <td>5</td>\n      <td>0</td>\n      <td>M220505830</td>\n      <td>0</td>\n      <td>2022-06-16</td>\n      <td>2022-12-31</td>\n      <td>0</td>\n      <td>198.0</td>\n      <td>220505830</td>\n    </tr>\n    <tr>\n      <th>329061</th>\n      <td>0</td>\n      <td>0</td>\n      <td>0</td>\n      <td>1.000000</td>\n      <td>5</td>\n      <td>3</td>\n      <td>0.109152</td>\n      <td>0</td>\n      <td>0</td>\n      <td>0.595968</td>\n      <td>...</td>\n      <td>2</td>\n      <td>19</td>\n      <td>0</td>\n      <td>M220606878</td>\n      <td>0</td>\n      <td>2022-11-04</td>\n      <td>2022-11-30</td>\n      <td>0</td>\n      <td>26.0</td>\n      <td>220606878</td>\n    </tr>\n    <tr>\n      <th>329062</th>\n      <td>0</td>\n      <td>0</td>\n      <td>0</td>\n      <td>1.000000</td>\n      <td>5</td>\n      <td>3</td>\n      <td>0.109152</td>\n      <td>0</td>\n      <td>0</td>\n      <td>0.595968</td>\n      <td>...</td>\n      <td>2</td>\n      <td>19</td>\n      <td>0</td>\n      <td>M220606878</td>\n      <td>0</td>\n      <td>2022-11-04</td>\n      <td>2022-12-31</td>\n      <td>0</td>\n      <td>57.0</td>\n      <td>220606878</td>\n    </tr>\n    <tr>\n      <th>329063</th>\n      <td>0</td>\n      <td>0</td>\n      <td>0</td>\n      <td>1.000000</td>\n      <td>5</td>\n      <td>2</td>\n      <td>0.000000</td>\n      <td>0</td>\n      <td>0</td>\n      <td>0.000000</td>\n      <td>...</td>\n      <td>1</td>\n      <td>19</td>\n      <td>0</td>\n      <td>M220631441</td>\n      <td>0</td>\n      <td>2022-12-12</td>\n      <td>2022-12-31</td>\n      <td>0</td>\n      <td>19.0</td>\n      <td>220631441</td>\n    </tr>\n  </tbody>\n</table>\n<p>329064 rows × 26 columns</p>\n</div>"
     },
     "execution_count": 66,
     "metadata": {},
     "output_type": "execute_result"
    }
   ],
   "source": [
    "data_haz"
   ],
   "metadata": {
    "collapsed": false,
    "ExecuteTime": {
     "end_time": "2024-01-12T11:05:19.808804Z",
     "start_time": "2024-01-12T11:05:19.696883Z"
    }
   },
   "id": "98d41bb0efd2c756"
  },
  {
   "cell_type": "code",
   "execution_count": 67,
   "outputs": [],
   "source": [
    "data_haz = data_haz.select_dtypes(exclude=[\"datetime64\"])\n",
    "data_test = data_test.select_dtypes(exclude=[\"datetime64\"])"
   ],
   "metadata": {
    "collapsed": false,
    "ExecuteTime": {
     "end_time": "2024-01-12T11:05:20.917199Z",
     "start_time": "2024-01-12T11:05:20.844443Z"
    }
   },
   "id": "ac8cdf5ce02519de"
  },
  {
   "cell_type": "code",
   "execution_count": 68,
   "outputs": [],
   "source": [
    "data_haz.drop(columns = [\"cd_op\"], inplace = True)\n",
    "data_test.drop(columns = [\"cd_op\"], inplace = True)"
   ],
   "metadata": {
    "collapsed": false,
    "ExecuteTime": {
     "end_time": "2024-01-12T11:05:22.224655Z",
     "start_time": "2024-01-12T11:05:22.192072Z"
    }
   },
   "id": "5833608f1e64ea9c"
  },
  {
   "cell_type": "markdown",
   "source": [
    "# Modelisation"
   ],
   "metadata": {
    "collapsed": false
   },
   "id": "1da7cda2655e10cb"
  },
  {
   "cell_type": "code",
   "execution_count": 69,
   "outputs": [
    {
     "name": "stdout",
     "output_type": "stream",
     "text": [
      "Iteration 1: norm_delta = 2.84e-01, step_size = 0.9500, log_lik = -86546.11010, newton_decrement = 2.08e+03, seconds_since_start = 45.5\n",
      "Iteration 2: norm_delta = 1.30e-02, step_size = 0.9500, log_lik = -84490.88503, newton_decrement = 4.94e+00, seconds_since_start = 90.5\n",
      "Iteration 3: norm_delta = 7.06e-04, step_size = 0.9500, log_lik = -84485.94478, newton_decrement = 1.49e-02, seconds_since_start = 135.5\n",
      "Iteration 4: norm_delta = 3.74e-05, step_size = 1.0000, log_lik = -84485.92995, newton_decrement = 3.76e-05, seconds_since_start = 179.1\n",
      "Iteration 5: norm_delta = 6.95e-10, step_size = 1.0000, log_lik = -84485.92991, newton_decrement = 1.41e-14, seconds_since_start = 222.8\n",
      "Convergence completed after 5 iterations.\n"
     ]
    },
    {
     "data": {
      "text/plain": "<lifelines.CoxTimeVaryingFitter: fitted with 329064 periods, 23305 subjects, 7463 events>"
     },
     "execution_count": 69,
     "metadata": {},
     "output_type": "execute_result"
    }
   ],
   "source": [
    "ctv = CoxTimeVaryingFitter(penalizer=0.1)\n",
    "ctv.fit(data_haz, id_col=\"id\", event_col=\"fl_pass_DET\", stop_col=\"stop\", show_progress=True)"
   ],
   "metadata": {
    "collapsed": false,
    "ExecuteTime": {
     "end_time": "2024-01-12T11:09:09.207385Z",
     "start_time": "2024-01-12T11:05:23.169328Z"
    }
   },
   "id": "f85db72501aa3711"
  },
  {
   "cell_type": "code",
   "execution_count": 70,
   "outputs": [
    {
     "data": {
      "text/plain": "<lifelines.CoxTimeVaryingFitter: fitted with 329064 periods, 23305 subjects, 7463 events>\n         event col = 'fl_pass_DET'\n         penalizer = 0.1\nnumber of subjects = 23305\n number of periods = 329064\n  number of events = 7463\npartial log-likelihood = -84485.93\n  time fit was run = 2024-01-12 11:05:23 UTC\n\n---\n                      coef  exp(coef)   se(coef)   coef lower 95%   coef upper 95%  exp(coef) lower 95%  exp(coef) upper 95%\ncovariate                                                                                                                   \nfam_ENQ               0.06       1.06       0.01             0.03             0.08                 1.03                 1.08\nsolution             -0.18       0.83       0.01            -0.20            -0.16                 0.82                 0.85\nFL_REL_NON_ANNULE     0.09       1.09       0.03             0.02             0.16                 1.02                 1.17\nFL_REL_NON_ANNULE     0.09       1.09       0.03             0.02             0.16                 1.02                 1.17\nniv_gravite_mtf_dne   0.12       1.12       0.02             0.08             0.15                 1.09                 1.16\nniv_gravite_mtf_dne   0.12       1.12       0.02             0.08             0.15                 1.09                 1.16\nCD_SITFAM_EMP1       -0.01       0.99       0.00            -0.01            -0.00                 0.99                 1.00\nregroup_natur_op      0.00       1.00       0.01            -0.01             0.02                 0.99                 1.02\nPTG                   0.22       1.25       0.02             0.19             0.25                 1.21                 1.29\nfl_fam_vam            0.08       1.08       0.02             0.04             0.11                 1.05                 1.11\nfam_PCD               0.51       1.67       0.01             0.49             0.53                 1.63                 1.71\nAMI                  -0.20       0.82       0.01            -0.22            -0.17                 0.80                 0.84\nCD_ETAT_CIVIL         0.01       1.01       0.00            -0.00             0.01                 1.00                 1.01\nCD_NAT_EMP1          -0.02       0.98       0.01            -0.05             0.00                 0.95                 1.00\nniv_gravite_mtf_dne   0.12       1.12       0.02             0.08             0.15                 1.09                 1.16\nniv_gravite_mtf_dne   0.12       1.12       0.02             0.08             0.15                 1.09                 1.16\nFL_REL_NON_ANNULE     0.09       1.09       0.03             0.02             0.16                 1.02                 1.17\nFL_REL_NON_ANNULE     0.09       1.09       0.03             0.02             0.16                 1.02                 1.17\nsol_echec            -0.05       0.95       0.00            -0.06            -0.04                 0.94                 0.96\nfl_def_ss_pass_CTX   -0.22       0.80       0.03            -0.28            -0.16                 0.75                 0.85\nnb_empr_ope          -0.05       0.95       0.01            -0.06            -0.03                 0.94                 0.97\nCD_MTF_DFC           -0.01       0.99       0.00            -0.01            -0.00                 0.99                 1.00\nFL_ETR                0.03       1.03       0.02            -0.00             0.06                 1.00                 1.06\n\n                      cmp to      z      p   -log2(p)\ncovariate                                            \nfam_ENQ                 0.00   4.66 <0.005      18.24\nsolution                0.00 -17.82 <0.005     233.45\nFL_REL_NON_ANNULE       0.00   2.60   0.01       6.74\nFL_REL_NON_ANNULE       0.00   2.60   0.01       6.74\nniv_gravite_mtf_dne     0.00   6.78 <0.005      36.26\nniv_gravite_mtf_dne     0.00   6.78 <0.005      36.26\nCD_SITFAM_EMP1          0.00  -2.24   0.03       5.31\nregroup_natur_op        0.00   0.91   0.36       1.47\nPTG                     0.00  14.74 <0.005     160.86\nfl_fam_vam              0.00   4.88 <0.005      19.83\nfam_PCD                 0.00  46.20 <0.005        inf\nAMI                     0.00 -17.93 <0.005     236.50\nCD_ETAT_CIVIL           0.00   1.92   0.06       4.18\nCD_NAT_EMP1             0.00  -1.71   0.09       3.50\nniv_gravite_mtf_dne     0.00   6.78 <0.005      36.26\nniv_gravite_mtf_dne     0.00   6.78 <0.005      36.26\nFL_REL_NON_ANNULE       0.00   2.60   0.01       6.74\nFL_REL_NON_ANNULE       0.00   2.60   0.01       6.74\nsol_echec               0.00 -12.48 <0.005     116.32\nfl_def_ss_pass_CTX      0.00  -7.47 <0.005      43.46\nnb_empr_ope             0.00  -5.10 <0.005      21.49\nCD_MTF_DFC              0.00  -7.24 <0.005      41.05\nFL_ETR                  0.00   1.70   0.09       3.48\n---\nPartial AIC = 169017.86\nlog-likelihood ratio test = 4120.36 on 23 df\n-log2(p) of ll-ratio test = inf",
      "text/html": "<div>\n<style scoped>\n    .dataframe tbody tr th:only-of-type {\n        vertical-align: middle;\n    }\n\n    .dataframe tbody tr th {\n        vertical-align: top;\n    }\n\n    .dataframe thead th {\n        text-align: right;\n    }\n</style>\n<table border=\"1\" class=\"dataframe\">\n  <tbody>\n    <tr>\n      <th>model</th>\n      <td>lifelines.CoxTimeVaryingFitter</td>\n    </tr>\n    <tr>\n      <th>event col</th>\n      <td>'fl_pass_DET'</td>\n    </tr>\n    <tr>\n      <th>penalizer</th>\n      <td>0.1</td>\n    </tr>\n    <tr>\n      <th>number of subjects</th>\n      <td>23305</td>\n    </tr>\n    <tr>\n      <th>number of periods</th>\n      <td>329064</td>\n    </tr>\n    <tr>\n      <th>number of events</th>\n      <td>7463</td>\n    </tr>\n    <tr>\n      <th>partial log-likelihood</th>\n      <td>-84485.93</td>\n    </tr>\n    <tr>\n      <th>time fit was run</th>\n      <td>2024-01-12 11:05:23 UTC</td>\n    </tr>\n  </tbody>\n</table>\n</div><table border=\"1\" class=\"dataframe\">\n  <thead>\n    <tr style=\"text-align: right;\">\n      <th style=\"min-width: 12px;\"></th>\n      <th style=\"min-width: 12px;\">coef</th>\n      <th style=\"min-width: 12px;\">exp(coef)</th>\n      <th style=\"min-width: 12px;\">se(coef)</th>\n      <th style=\"min-width: 12px;\">coef lower 95%</th>\n      <th style=\"min-width: 12px;\">coef upper 95%</th>\n      <th style=\"min-width: 12px;\">exp(coef) lower 95%</th>\n      <th style=\"min-width: 12px;\">exp(coef) upper 95%</th>\n      <th style=\"min-width: 12px;\">cmp to</th>\n      <th style=\"min-width: 12px;\">z</th>\n      <th style=\"min-width: 12px;\">p</th>\n      <th style=\"min-width: 12px;\">-log2(p)</th>\n    </tr>\n  </thead>\n  <tbody>\n    <tr>\n      <th>fam_ENQ</th>\n      <td>0.06</td>\n      <td>1.06</td>\n      <td>0.01</td>\n      <td>0.03</td>\n      <td>0.08</td>\n      <td>1.03</td>\n      <td>1.08</td>\n      <td>0.00</td>\n      <td>4.66</td>\n      <td>&lt;0.005</td>\n      <td>18.24</td>\n    </tr>\n    <tr>\n      <th>solution</th>\n      <td>-0.18</td>\n      <td>0.83</td>\n      <td>0.01</td>\n      <td>-0.20</td>\n      <td>-0.16</td>\n      <td>0.82</td>\n      <td>0.85</td>\n      <td>0.00</td>\n      <td>-17.82</td>\n      <td>&lt;0.005</td>\n      <td>233.45</td>\n    </tr>\n    <tr>\n      <th>FL_REL_NON_ANNULE</th>\n      <td>0.09</td>\n      <td>1.09</td>\n      <td>0.03</td>\n      <td>0.02</td>\n      <td>0.16</td>\n      <td>1.02</td>\n      <td>1.17</td>\n      <td>0.00</td>\n      <td>2.60</td>\n      <td>0.01</td>\n      <td>6.74</td>\n    </tr>\n    <tr>\n      <th>FL_REL_NON_ANNULE</th>\n      <td>0.09</td>\n      <td>1.09</td>\n      <td>0.03</td>\n      <td>0.02</td>\n      <td>0.16</td>\n      <td>1.02</td>\n      <td>1.17</td>\n      <td>0.00</td>\n      <td>2.60</td>\n      <td>0.01</td>\n      <td>6.74</td>\n    </tr>\n    <tr>\n      <th>niv_gravite_mtf_dne</th>\n      <td>0.12</td>\n      <td>1.12</td>\n      <td>0.02</td>\n      <td>0.08</td>\n      <td>0.15</td>\n      <td>1.09</td>\n      <td>1.16</td>\n      <td>0.00</td>\n      <td>6.78</td>\n      <td>&lt;0.005</td>\n      <td>36.26</td>\n    </tr>\n    <tr>\n      <th>niv_gravite_mtf_dne</th>\n      <td>0.12</td>\n      <td>1.12</td>\n      <td>0.02</td>\n      <td>0.08</td>\n      <td>0.15</td>\n      <td>1.09</td>\n      <td>1.16</td>\n      <td>0.00</td>\n      <td>6.78</td>\n      <td>&lt;0.005</td>\n      <td>36.26</td>\n    </tr>\n    <tr>\n      <th>CD_SITFAM_EMP1</th>\n      <td>-0.01</td>\n      <td>0.99</td>\n      <td>0.00</td>\n      <td>-0.01</td>\n      <td>-0.00</td>\n      <td>0.99</td>\n      <td>1.00</td>\n      <td>0.00</td>\n      <td>-2.24</td>\n      <td>0.03</td>\n      <td>5.31</td>\n    </tr>\n    <tr>\n      <th>regroup_natur_op</th>\n      <td>0.00</td>\n      <td>1.00</td>\n      <td>0.01</td>\n      <td>-0.01</td>\n      <td>0.02</td>\n      <td>0.99</td>\n      <td>1.02</td>\n      <td>0.00</td>\n      <td>0.91</td>\n      <td>0.36</td>\n      <td>1.47</td>\n    </tr>\n    <tr>\n      <th>PTG</th>\n      <td>0.22</td>\n      <td>1.25</td>\n      <td>0.02</td>\n      <td>0.19</td>\n      <td>0.25</td>\n      <td>1.21</td>\n      <td>1.29</td>\n      <td>0.00</td>\n      <td>14.74</td>\n      <td>&lt;0.005</td>\n      <td>160.86</td>\n    </tr>\n    <tr>\n      <th>fl_fam_vam</th>\n      <td>0.08</td>\n      <td>1.08</td>\n      <td>0.02</td>\n      <td>0.04</td>\n      <td>0.11</td>\n      <td>1.05</td>\n      <td>1.11</td>\n      <td>0.00</td>\n      <td>4.88</td>\n      <td>&lt;0.005</td>\n      <td>19.83</td>\n    </tr>\n    <tr>\n      <th>fam_PCD</th>\n      <td>0.51</td>\n      <td>1.67</td>\n      <td>0.01</td>\n      <td>0.49</td>\n      <td>0.53</td>\n      <td>1.63</td>\n      <td>1.71</td>\n      <td>0.00</td>\n      <td>46.20</td>\n      <td>&lt;0.005</td>\n      <td>inf</td>\n    </tr>\n    <tr>\n      <th>AMI</th>\n      <td>-0.20</td>\n      <td>0.82</td>\n      <td>0.01</td>\n      <td>-0.22</td>\n      <td>-0.17</td>\n      <td>0.80</td>\n      <td>0.84</td>\n      <td>0.00</td>\n      <td>-17.93</td>\n      <td>&lt;0.005</td>\n      <td>236.50</td>\n    </tr>\n    <tr>\n      <th>CD_ETAT_CIVIL</th>\n      <td>0.01</td>\n      <td>1.01</td>\n      <td>0.00</td>\n      <td>-0.00</td>\n      <td>0.01</td>\n      <td>1.00</td>\n      <td>1.01</td>\n      <td>0.00</td>\n      <td>1.92</td>\n      <td>0.06</td>\n      <td>4.18</td>\n    </tr>\n    <tr>\n      <th>CD_NAT_EMP1</th>\n      <td>-0.02</td>\n      <td>0.98</td>\n      <td>0.01</td>\n      <td>-0.05</td>\n      <td>0.00</td>\n      <td>0.95</td>\n      <td>1.00</td>\n      <td>0.00</td>\n      <td>-1.71</td>\n      <td>0.09</td>\n      <td>3.50</td>\n    </tr>\n    <tr>\n      <th>niv_gravite_mtf_dne</th>\n      <td>0.12</td>\n      <td>1.12</td>\n      <td>0.02</td>\n      <td>0.08</td>\n      <td>0.15</td>\n      <td>1.09</td>\n      <td>1.16</td>\n      <td>0.00</td>\n      <td>6.78</td>\n      <td>&lt;0.005</td>\n      <td>36.26</td>\n    </tr>\n    <tr>\n      <th>niv_gravite_mtf_dne</th>\n      <td>0.12</td>\n      <td>1.12</td>\n      <td>0.02</td>\n      <td>0.08</td>\n      <td>0.15</td>\n      <td>1.09</td>\n      <td>1.16</td>\n      <td>0.00</td>\n      <td>6.78</td>\n      <td>&lt;0.005</td>\n      <td>36.26</td>\n    </tr>\n    <tr>\n      <th>FL_REL_NON_ANNULE</th>\n      <td>0.09</td>\n      <td>1.09</td>\n      <td>0.03</td>\n      <td>0.02</td>\n      <td>0.16</td>\n      <td>1.02</td>\n      <td>1.17</td>\n      <td>0.00</td>\n      <td>2.60</td>\n      <td>0.01</td>\n      <td>6.74</td>\n    </tr>\n    <tr>\n      <th>FL_REL_NON_ANNULE</th>\n      <td>0.09</td>\n      <td>1.09</td>\n      <td>0.03</td>\n      <td>0.02</td>\n      <td>0.16</td>\n      <td>1.02</td>\n      <td>1.17</td>\n      <td>0.00</td>\n      <td>2.60</td>\n      <td>0.01</td>\n      <td>6.74</td>\n    </tr>\n    <tr>\n      <th>sol_echec</th>\n      <td>-0.05</td>\n      <td>0.95</td>\n      <td>0.00</td>\n      <td>-0.06</td>\n      <td>-0.04</td>\n      <td>0.94</td>\n      <td>0.96</td>\n      <td>0.00</td>\n      <td>-12.48</td>\n      <td>&lt;0.005</td>\n      <td>116.32</td>\n    </tr>\n    <tr>\n      <th>fl_def_ss_pass_CTX</th>\n      <td>-0.22</td>\n      <td>0.80</td>\n      <td>0.03</td>\n      <td>-0.28</td>\n      <td>-0.16</td>\n      <td>0.75</td>\n      <td>0.85</td>\n      <td>0.00</td>\n      <td>-7.47</td>\n      <td>&lt;0.005</td>\n      <td>43.46</td>\n    </tr>\n    <tr>\n      <th>nb_empr_ope</th>\n      <td>-0.05</td>\n      <td>0.95</td>\n      <td>0.01</td>\n      <td>-0.06</td>\n      <td>-0.03</td>\n      <td>0.94</td>\n      <td>0.97</td>\n      <td>0.00</td>\n      <td>-5.10</td>\n      <td>&lt;0.005</td>\n      <td>21.49</td>\n    </tr>\n    <tr>\n      <th>CD_MTF_DFC</th>\n      <td>-0.01</td>\n      <td>0.99</td>\n      <td>0.00</td>\n      <td>-0.01</td>\n      <td>-0.00</td>\n      <td>0.99</td>\n      <td>1.00</td>\n      <td>0.00</td>\n      <td>-7.24</td>\n      <td>&lt;0.005</td>\n      <td>41.05</td>\n    </tr>\n    <tr>\n      <th>FL_ETR</th>\n      <td>0.03</td>\n      <td>1.03</td>\n      <td>0.02</td>\n      <td>-0.00</td>\n      <td>0.06</td>\n      <td>1.00</td>\n      <td>1.06</td>\n      <td>0.00</td>\n      <td>1.70</td>\n      <td>0.09</td>\n      <td>3.48</td>\n    </tr>\n  </tbody>\n</table><br><div>\n<style scoped>\n    .dataframe tbody tr th:only-of-type {\n        vertical-align: middle;\n    }\n\n    .dataframe tbody tr th {\n        vertical-align: top;\n    }\n\n    .dataframe thead th {\n        text-align: right;\n    }\n</style>\n<table border=\"1\" class=\"dataframe\">\n  <tbody>\n    <tr>\n      <th>Partial AIC</th>\n      <td>169017.86</td>\n    </tr>\n    <tr>\n      <th>log-likelihood ratio test</th>\n      <td>4120.36 on 23 df</td>\n    </tr>\n    <tr>\n      <th>-log2(p) of ll-ratio test</th>\n      <td>inf</td>\n    </tr>\n  </tbody>\n</table>\n</div>",
      "text/latex": "\\begin{tabular}{lrrrrrrrrrrr}\n & coef & exp(coef) & se(coef) & coef lower 95% & coef upper 95% & exp(coef) lower 95% & exp(coef) upper 95% & cmp to & z & p & -log2(p) \\\\\ncovariate &  &  &  &  &  &  &  &  &  &  &  \\\\\nfam_ENQ & 0.06 & 1.06 & 0.01 & 0.03 & 0.08 & 1.03 & 1.08 & 0.00 & 4.66 & 0.00 & 18.24 \\\\\nsolution & -0.18 & 0.83 & 0.01 & -0.20 & -0.16 & 0.82 & 0.85 & 0.00 & -17.82 & 0.00 & 233.45 \\\\\nFL_REL_NON_ANNULE & 0.09 & 1.09 & 0.03 & 0.02 & 0.16 & 1.02 & 1.17 & 0.00 & 2.60 & 0.01 & 6.74 \\\\\nFL_REL_NON_ANNULE & 0.09 & 1.09 & 0.03 & 0.02 & 0.16 & 1.02 & 1.17 & 0.00 & 2.60 & 0.01 & 6.74 \\\\\nniv_gravite_mtf_dne & 0.12 & 1.12 & 0.02 & 0.08 & 0.15 & 1.09 & 1.16 & 0.00 & 6.78 & 0.00 & 36.26 \\\\\nniv_gravite_mtf_dne & 0.12 & 1.12 & 0.02 & 0.08 & 0.15 & 1.09 & 1.16 & 0.00 & 6.78 & 0.00 & 36.26 \\\\\nCD_SITFAM_EMP1 & -0.01 & 0.99 & 0.00 & -0.01 & -0.00 & 0.99 & 1.00 & 0.00 & -2.24 & 0.03 & 5.31 \\\\\nregroup_natur_op & 0.00 & 1.00 & 0.01 & -0.01 & 0.02 & 0.99 & 1.02 & 0.00 & 0.91 & 0.36 & 1.47 \\\\\nPTG & 0.22 & 1.25 & 0.02 & 0.19 & 0.25 & 1.21 & 1.29 & 0.00 & 14.74 & 0.00 & 160.86 \\\\\nfl_fam_vam & 0.08 & 1.08 & 0.02 & 0.04 & 0.11 & 1.05 & 1.11 & 0.00 & 4.88 & 0.00 & 19.83 \\\\\nfam_PCD & 0.51 & 1.67 & 0.01 & 0.49 & 0.53 & 1.63 & 1.71 & 0.00 & 46.20 & 0.00 & inf \\\\\nAMI & -0.20 & 0.82 & 0.01 & -0.22 & -0.17 & 0.80 & 0.84 & 0.00 & -17.93 & 0.00 & 236.50 \\\\\nCD_ETAT_CIVIL & 0.01 & 1.01 & 0.00 & -0.00 & 0.01 & 1.00 & 1.01 & 0.00 & 1.92 & 0.06 & 4.18 \\\\\nCD_NAT_EMP1 & -0.02 & 0.98 & 0.01 & -0.05 & 0.00 & 0.95 & 1.00 & 0.00 & -1.71 & 0.09 & 3.50 \\\\\nniv_gravite_mtf_dne & 0.12 & 1.12 & 0.02 & 0.08 & 0.15 & 1.09 & 1.16 & 0.00 & 6.78 & 0.00 & 36.26 \\\\\nniv_gravite_mtf_dne & 0.12 & 1.12 & 0.02 & 0.08 & 0.15 & 1.09 & 1.16 & 0.00 & 6.78 & 0.00 & 36.26 \\\\\nFL_REL_NON_ANNULE & 0.09 & 1.09 & 0.03 & 0.02 & 0.16 & 1.02 & 1.17 & 0.00 & 2.60 & 0.01 & 6.74 \\\\\nFL_REL_NON_ANNULE & 0.09 & 1.09 & 0.03 & 0.02 & 0.16 & 1.02 & 1.17 & 0.00 & 2.60 & 0.01 & 6.74 \\\\\nsol_echec & -0.05 & 0.95 & 0.00 & -0.06 & -0.04 & 0.94 & 0.96 & 0.00 & -12.48 & 0.00 & 116.32 \\\\\nfl_def_ss_pass_CTX & -0.22 & 0.80 & 0.03 & -0.28 & -0.16 & 0.75 & 0.85 & 0.00 & -7.47 & 0.00 & 43.46 \\\\\nnb_empr_ope & -0.05 & 0.95 & 0.01 & -0.06 & -0.03 & 0.94 & 0.97 & 0.00 & -5.10 & 0.00 & 21.49 \\\\\nCD_MTF_DFC & -0.01 & 0.99 & 0.00 & -0.01 & -0.00 & 0.99 & 1.00 & 0.00 & -7.24 & 0.00 & 41.05 \\\\\nFL_ETR & 0.03 & 1.03 & 0.02 & -0.00 & 0.06 & 1.00 & 1.06 & 0.00 & 1.70 & 0.09 & 3.48 \\\\\n\\end{tabular}\n"
     },
     "metadata": {},
     "output_type": "display_data"
    }
   ],
   "source": [
    "ctv.print_summary()"
   ],
   "metadata": {
    "collapsed": false,
    "ExecuteTime": {
     "end_time": "2024-01-12T11:09:11.717161Z",
     "start_time": "2024-01-12T11:09:11.710080Z"
    }
   },
   "id": "6ee778d99a375c7d"
  },
  {
   "cell_type": "code",
   "execution_count": 71,
   "outputs": [
    {
     "ename": "AttributeError",
     "evalue": "'CoxTimeVaryingFitter' object has no attribute 'entry_col'",
     "output_type": "error",
     "traceback": [
      "\u001B[0;31m---------------------------------------------------------------------------\u001B[0m",
      "\u001B[0;31mAttributeError\u001B[0m                            Traceback (most recent call last)",
      "Cell \u001B[0;32mIn[71], line 1\u001B[0m\n\u001B[0;32m----> 1\u001B[0m \u001B[43mctv\u001B[49m\u001B[38;5;241;43m.\u001B[39;49m\u001B[43mcheck_assumptions\u001B[49m\u001B[43m(\u001B[49m\u001B[43mdata_haz\u001B[49m\u001B[43m)\u001B[49m\n",
      "File \u001B[0;32m~/Documents/École/Université/M2/M2_S1/Challenge_Credit_Logement/venv/lib/python3.10/site-packages/lifelines/fitters/mixins.py:98\u001B[0m, in \u001B[0;36mProportionalHazardMixin.check_assumptions\u001B[0;34m(self, training_df, advice, show_plots, p_value_threshold, plot_n_bootstraps, columns)\u001B[0m\n\u001B[1;32m     93\u001B[0m \u001B[38;5;28;01mif\u001B[39;00m \u001B[38;5;129;01mnot\u001B[39;00m training_df\u001B[38;5;241m.\u001B[39mindex\u001B[38;5;241m.\u001B[39mis_unique:\n\u001B[1;32m     94\u001B[0m     \u001B[38;5;28;01mraise\u001B[39;00m \u001B[38;5;167;01mIndexError\u001B[39;00m(\n\u001B[1;32m     95\u001B[0m         \u001B[38;5;124m\"\u001B[39m\u001B[38;5;124m`training_df` index should be unique for this exercise. Please make it unique or use `.reset_index(drop=True)` to force a unique index\u001B[39m\u001B[38;5;124m\"\u001B[39m\n\u001B[1;32m     96\u001B[0m     )\n\u001B[0;32m---> 98\u001B[0m residuals \u001B[38;5;241m=\u001B[39m \u001B[38;5;28;43mself\u001B[39;49m\u001B[38;5;241;43m.\u001B[39;49m\u001B[43mcompute_residuals\u001B[49m\u001B[43m(\u001B[49m\u001B[43mtraining_df\u001B[49m\u001B[43m,\u001B[49m\u001B[43m \u001B[49m\u001B[43mkind\u001B[49m\u001B[38;5;241;43m=\u001B[39;49m\u001B[38;5;124;43m\"\u001B[39;49m\u001B[38;5;124;43mscaled_schoenfeld\u001B[39;49m\u001B[38;5;124;43m\"\u001B[39;49m\u001B[43m)\u001B[49m\n\u001B[1;32m     99\u001B[0m test_results \u001B[38;5;241m=\u001B[39m proportional_hazard_test(\u001B[38;5;28mself\u001B[39m, training_df, time_transform\u001B[38;5;241m=\u001B[39m[\u001B[38;5;124m\"\u001B[39m\u001B[38;5;124mrank\u001B[39m\u001B[38;5;124m\"\u001B[39m, \u001B[38;5;124m\"\u001B[39m\u001B[38;5;124mkm\u001B[39m\u001B[38;5;124m\"\u001B[39m], precomputed_residuals\u001B[38;5;241m=\u001B[39mresiduals)\n\u001B[1;32m    101\u001B[0m residuals_and_duration \u001B[38;5;241m=\u001B[39m residuals\u001B[38;5;241m.\u001B[39mjoin(training_df[\u001B[38;5;28mself\u001B[39m\u001B[38;5;241m.\u001B[39mduration_col])\n",
      "File \u001B[0;32m~/Documents/École/Université/M2/M2_S1/Challenge_Credit_Logement/venv/lib/python3.10/site-packages/lifelines/fitters/__init__.py:1328\u001B[0m, in \u001B[0;36mRegressionFitter.compute_residuals\u001B[0;34m(self, training_dataframe, kind)\u001B[0m\n\u001B[1;32m   1310\u001B[0m \u001B[38;5;250m\u001B[39m\u001B[38;5;124;03m\"\"\"\u001B[39;00m\n\u001B[1;32m   1311\u001B[0m \u001B[38;5;124;03mCompute the residuals the model.\u001B[39;00m\n\u001B[1;32m   1312\u001B[0m \n\u001B[0;32m   (...)\u001B[0m\n\u001B[1;32m   1325\u001B[0m \n\u001B[1;32m   1326\u001B[0m \u001B[38;5;124;03m\"\"\"\u001B[39;00m\n\u001B[1;32m   1327\u001B[0m \u001B[38;5;28;01massert\u001B[39;00m kind \u001B[38;5;129;01min\u001B[39;00m \u001B[38;5;28mself\u001B[39m\u001B[38;5;241m.\u001B[39m_ALLOWED_RESIDUALS, \u001B[38;5;124m\"\u001B[39m\u001B[38;5;124mkind must be in \u001B[39m\u001B[38;5;132;01m%s\u001B[39;00m\u001B[38;5;124m\"\u001B[39m \u001B[38;5;241m%\u001B[39m \u001B[38;5;28mself\u001B[39m\u001B[38;5;241m.\u001B[39m_ALLOWED_RESIDUALS\n\u001B[0;32m-> 1328\u001B[0m \u001B[38;5;28;01mif\u001B[39;00m \u001B[38;5;28;43mself\u001B[39;49m\u001B[38;5;241;43m.\u001B[39;49m\u001B[43mentry_col\u001B[49m \u001B[38;5;129;01mis\u001B[39;00m \u001B[38;5;129;01mnot\u001B[39;00m \u001B[38;5;28;01mNone\u001B[39;00m:\n\u001B[1;32m   1329\u001B[0m     \u001B[38;5;28;01mraise\u001B[39;00m \u001B[38;5;167;01mNotImplementedError\u001B[39;00m(\u001B[38;5;124m\"\u001B[39m\u001B[38;5;124mResiduals for entries not implemented.\u001B[39m\u001B[38;5;124m\"\u001B[39m)\n\u001B[1;32m   1331\u001B[0m warnings\u001B[38;5;241m.\u001B[39mfilterwarnings(\u001B[38;5;124m\"\u001B[39m\u001B[38;5;124mignore\u001B[39m\u001B[38;5;124m\"\u001B[39m, category\u001B[38;5;241m=\u001B[39mexceptions\u001B[38;5;241m.\u001B[39mConvergenceWarning)\n",
      "\u001B[0;31mAttributeError\u001B[0m: 'CoxTimeVaryingFitter' object has no attribute 'entry_col'"
     ]
    }
   ],
   "source": [
    "ctv.check_assumptions(data_haz)"
   ],
   "metadata": {
    "collapsed": false,
    "ExecuteTime": {
     "end_time": "2024-01-12T11:09:12.411844Z",
     "start_time": "2024-01-12T11:09:12.348055Z"
    }
   },
   "id": "2d0c5140b093bc0a"
  },
  {
   "cell_type": "code",
   "execution_count": 72,
   "outputs": [
    {
     "ename": "ValueError",
     "evalue": "'x' and 'y' must have the same size",
     "output_type": "error",
     "traceback": [
      "\u001B[0;31m---------------------------------------------------------------------------\u001B[0m",
      "\u001B[0;31mValueError\u001B[0m                                Traceback (most recent call last)",
      "Cell \u001B[0;32mIn[72], line 1\u001B[0m\n\u001B[0;32m----> 1\u001B[0m \u001B[43mctv\u001B[49m\u001B[38;5;241;43m.\u001B[39;49m\u001B[43mplot\u001B[49m\u001B[43m(\u001B[49m\u001B[43m)\u001B[49m\n",
      "File \u001B[0;32m~/Documents/École/Université/M2/M2_S1/Challenge_Credit_Logement/venv/lib/python3.10/site-packages/lifelines/fitters/cox_time_varying_fitter.py:784\u001B[0m, in \u001B[0;36mCoxTimeVaryingFitter.plot\u001B[0;34m(self, columns, ax, **errorbar_kwargs)\u001B[0m\n\u001B[1;32m    780\u001B[0m hazards \u001B[38;5;241m=\u001B[39m \u001B[38;5;28mself\u001B[39m\u001B[38;5;241m.\u001B[39mparams_[columns]\u001B[38;5;241m.\u001B[39mvalues\u001B[38;5;241m.\u001B[39mcopy()\n\u001B[1;32m    782\u001B[0m order \u001B[38;5;241m=\u001B[39m \u001B[38;5;28mlist\u001B[39m(\u001B[38;5;28mrange\u001B[39m(\u001B[38;5;28mlen\u001B[39m(columns) \u001B[38;5;241m-\u001B[39m \u001B[38;5;241m1\u001B[39m, \u001B[38;5;241m-\u001B[39m\u001B[38;5;241m1\u001B[39m, \u001B[38;5;241m-\u001B[39m\u001B[38;5;241m1\u001B[39m)) \u001B[38;5;28;01mif\u001B[39;00m user_supplied_columns \u001B[38;5;28;01melse\u001B[39;00m np\u001B[38;5;241m.\u001B[39margsort(hazards)\n\u001B[0;32m--> 784\u001B[0m \u001B[43max\u001B[49m\u001B[38;5;241;43m.\u001B[39;49m\u001B[43merrorbar\u001B[49m\u001B[43m(\u001B[49m\u001B[43mhazards\u001B[49m\u001B[43m[\u001B[49m\u001B[43morder\u001B[49m\u001B[43m]\u001B[49m\u001B[43m,\u001B[49m\u001B[43m \u001B[49m\u001B[43myaxis_locations\u001B[49m\u001B[43m,\u001B[49m\u001B[43m \u001B[49m\u001B[43mxerr\u001B[49m\u001B[38;5;241;43m=\u001B[39;49m\u001B[43msymmetric_errors\u001B[49m\u001B[43m[\u001B[49m\u001B[43morder\u001B[49m\u001B[43m]\u001B[49m\u001B[43m,\u001B[49m\u001B[43m \u001B[49m\u001B[38;5;241;43m*\u001B[39;49m\u001B[38;5;241;43m*\u001B[39;49m\u001B[43merrorbar_kwargs\u001B[49m\u001B[43m)\u001B[49m\n\u001B[1;32m    785\u001B[0m best_ylim \u001B[38;5;241m=\u001B[39m ax\u001B[38;5;241m.\u001B[39mget_ylim()\n\u001B[1;32m    786\u001B[0m ax\u001B[38;5;241m.\u001B[39mvlines(\u001B[38;5;241m0\u001B[39m, \u001B[38;5;241m-\u001B[39m\u001B[38;5;241m2\u001B[39m, \u001B[38;5;28mlen\u001B[39m(columns) \u001B[38;5;241m+\u001B[39m \u001B[38;5;241m1\u001B[39m, linestyles\u001B[38;5;241m=\u001B[39m\u001B[38;5;124m\"\u001B[39m\u001B[38;5;124mdashed\u001B[39m\u001B[38;5;124m\"\u001B[39m, linewidths\u001B[38;5;241m=\u001B[39m\u001B[38;5;241m1\u001B[39m, alpha\u001B[38;5;241m=\u001B[39m\u001B[38;5;241m0.65\u001B[39m, color\u001B[38;5;241m=\u001B[39m\u001B[38;5;124m\"\u001B[39m\u001B[38;5;124mk\u001B[39m\u001B[38;5;124m\"\u001B[39m)\n",
      "File \u001B[0;32m~/Documents/École/Université/M2/M2_S1/Challenge_Credit_Logement/venv/lib/python3.10/site-packages/matplotlib/__init__.py:1465\u001B[0m, in \u001B[0;36m_preprocess_data.<locals>.inner\u001B[0;34m(ax, data, *args, **kwargs)\u001B[0m\n\u001B[1;32m   1462\u001B[0m \u001B[38;5;129m@functools\u001B[39m\u001B[38;5;241m.\u001B[39mwraps(func)\n\u001B[1;32m   1463\u001B[0m \u001B[38;5;28;01mdef\u001B[39;00m \u001B[38;5;21minner\u001B[39m(ax, \u001B[38;5;241m*\u001B[39margs, data\u001B[38;5;241m=\u001B[39m\u001B[38;5;28;01mNone\u001B[39;00m, \u001B[38;5;241m*\u001B[39m\u001B[38;5;241m*\u001B[39mkwargs):\n\u001B[1;32m   1464\u001B[0m     \u001B[38;5;28;01mif\u001B[39;00m data \u001B[38;5;129;01mis\u001B[39;00m \u001B[38;5;28;01mNone\u001B[39;00m:\n\u001B[0;32m-> 1465\u001B[0m         \u001B[38;5;28;01mreturn\u001B[39;00m \u001B[43mfunc\u001B[49m\u001B[43m(\u001B[49m\u001B[43max\u001B[49m\u001B[43m,\u001B[49m\u001B[43m \u001B[49m\u001B[38;5;241;43m*\u001B[39;49m\u001B[38;5;28;43mmap\u001B[39;49m\u001B[43m(\u001B[49m\u001B[43msanitize_sequence\u001B[49m\u001B[43m,\u001B[49m\u001B[43m \u001B[49m\u001B[43margs\u001B[49m\u001B[43m)\u001B[49m\u001B[43m,\u001B[49m\u001B[43m \u001B[49m\u001B[38;5;241;43m*\u001B[39;49m\u001B[38;5;241;43m*\u001B[39;49m\u001B[43mkwargs\u001B[49m\u001B[43m)\u001B[49m\n\u001B[1;32m   1467\u001B[0m     bound \u001B[38;5;241m=\u001B[39m new_sig\u001B[38;5;241m.\u001B[39mbind(ax, \u001B[38;5;241m*\u001B[39margs, \u001B[38;5;241m*\u001B[39m\u001B[38;5;241m*\u001B[39mkwargs)\n\u001B[1;32m   1468\u001B[0m     auto_label \u001B[38;5;241m=\u001B[39m (bound\u001B[38;5;241m.\u001B[39marguments\u001B[38;5;241m.\u001B[39mget(label_namer)\n\u001B[1;32m   1469\u001B[0m                   \u001B[38;5;129;01mor\u001B[39;00m bound\u001B[38;5;241m.\u001B[39mkwargs\u001B[38;5;241m.\u001B[39mget(label_namer))\n",
      "File \u001B[0;32m~/Documents/École/Université/M2/M2_S1/Challenge_Credit_Logement/venv/lib/python3.10/site-packages/matplotlib/axes/_axes.py:3569\u001B[0m, in \u001B[0;36mAxes.errorbar\u001B[0;34m(self, x, y, yerr, xerr, fmt, ecolor, elinewidth, capsize, barsabove, lolims, uplims, xlolims, xuplims, errorevery, capthick, **kwargs)\u001B[0m\n\u001B[1;32m   3567\u001B[0m x, y \u001B[38;5;241m=\u001B[39m np\u001B[38;5;241m.\u001B[39matleast_1d(x, y)  \u001B[38;5;66;03m# Make sure all the args are iterable.\u001B[39;00m\n\u001B[1;32m   3568\u001B[0m \u001B[38;5;28;01mif\u001B[39;00m \u001B[38;5;28mlen\u001B[39m(x) \u001B[38;5;241m!=\u001B[39m \u001B[38;5;28mlen\u001B[39m(y):\n\u001B[0;32m-> 3569\u001B[0m     \u001B[38;5;28;01mraise\u001B[39;00m \u001B[38;5;167;01mValueError\u001B[39;00m(\u001B[38;5;124m\"\u001B[39m\u001B[38;5;124m'\u001B[39m\u001B[38;5;124mx\u001B[39m\u001B[38;5;124m'\u001B[39m\u001B[38;5;124m and \u001B[39m\u001B[38;5;124m'\u001B[39m\u001B[38;5;124my\u001B[39m\u001B[38;5;124m'\u001B[39m\u001B[38;5;124m must have the same size\u001B[39m\u001B[38;5;124m\"\u001B[39m)\n\u001B[1;32m   3571\u001B[0m everymask \u001B[38;5;241m=\u001B[39m \u001B[38;5;28mself\u001B[39m\u001B[38;5;241m.\u001B[39m_errorevery_to_mask(x, errorevery)\n\u001B[1;32m   3573\u001B[0m label \u001B[38;5;241m=\u001B[39m kwargs\u001B[38;5;241m.\u001B[39mpop(\u001B[38;5;124m\"\u001B[39m\u001B[38;5;124mlabel\u001B[39m\u001B[38;5;124m\"\u001B[39m, \u001B[38;5;28;01mNone\u001B[39;00m)\n",
      "\u001B[0;31mValueError\u001B[0m: 'x' and 'y' must have the same size"
     ]
    },
    {
     "data": {
      "text/plain": "<Figure size 640x480 with 1 Axes>",
      "image/png": "[encoded data removed]"
     },
     "metadata": {},
     "output_type": "display_data"
    }
   ],
   "source": [
    "ctv.plot()"
   ],
   "metadata": {
    "collapsed": false,
    "ExecuteTime": {
     "end_time": "2024-01-12T11:09:13.522879Z",
     "start_time": "2024-01-12T11:09:13.370455Z"
    }
   },
   "id": "783c4937c9ea099e"
  },
  {
   "cell_type": "code",
   "execution_count": 30,
   "outputs": [
    {
     "data": {
      "text/plain": "0         0.893641\n1         0.980467\n2         0.980467\n3         0.980467\n4         0.980467\n            ...   \n107088    0.753270\n107089    0.753270\n107090    0.584268\n107091    0.584268\n107092    0.643393\nLength: 107093, dtype: float64"
     },
     "execution_count": 30,
     "metadata": {},
     "output_type": "execute_result"
    }
   ],
   "source": [
    "ctv.predict_partial_hazard(data_test)"
   ],
   "metadata": {
    "collapsed": false,
    "ExecuteTime": {
     "end_time": "2024-01-11T20:32:51.473686Z",
     "start_time": "2024-01-11T20:32:51.301551Z"
    }
   },
   "id": "8ae660739a73e350"
  },
  {
   "cell_type": "code",
   "execution_count": null,
   "outputs": [],
   "source": [],
   "metadata": {
    "collapsed": false
   },
   "id": "b21ee70de9dba343"
  }
 ],
 "metadata": {
  "kernelspec": {
   "display_name": "Python 3",
   "language": "python",
   "name": "python3"
  },
  "language_info": {
   "codemirror_mode": {
    "name": "ipython",
    "version": 2
   },
   "file_extension": ".py",
   "mimetype": "text/x-python",
   "name": "python",
   "nbconvert_exporter": "python",
   "pygments_lexer": "ipython2",
   "version": "2.7.6"
  }
 },
 "nbformat": 4,
 "nbformat_minor": 5
}
