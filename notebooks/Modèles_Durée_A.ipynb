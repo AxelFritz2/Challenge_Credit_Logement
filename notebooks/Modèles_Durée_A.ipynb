{
 "cells": [
  {
   "cell_type": "code",
   "execution_count": 1,
   "outputs": [],
   "source": [
    "import pandas as pd\n",
    "import warnings\n",
    "from lifelines import CoxPHFitter\n",
    "from sklearn.preprocessing import OneHotEncoder, LabelEncoder\n",
    "warnings.filterwarnings(\"ignore\")"
   ],
   "metadata": {
    "collapsed": false,
    "ExecuteTime": {
     "end_time": "2024-01-07T09:55:21.400387Z",
     "start_time": "2024-01-07T09:55:19.055275Z"
    }
   },
   "id": "15aadaa69e159f2"
  },
  {
   "cell_type": "markdown",
   "source": [
    "# Import des données"
   ],
   "metadata": {
    "collapsed": false
   },
   "id": "94d2a304ff8c99d1"
  },
  {
   "cell_type": "code",
   "execution_count": 2,
   "outputs": [],
   "source": [
    "df = pd.read_csv('../data/base_modelis_pass_det.csv',sep = ';')"
   ],
   "metadata": {
    "collapsed": false,
    "ExecuteTime": {
     "end_time": "2024-01-07T09:55:23.254075Z",
     "start_time": "2024-01-07T09:55:21.401474Z"
    }
   },
   "id": "c58c2f0efcb39846"
  },
  {
   "cell_type": "code",
   "execution_count": 3,
   "outputs": [],
   "source": [
    "df['date_entree_defaut'] = pd.to_datetime(df['date_entree_defaut'], format='%d/%m/%y')\n",
    "df['date_sortie_defaut'] = pd.to_datetime(df['date_sortie_defaut'], format='%d/%m/%y', errors='coerce')\n",
    "df['arrete'] = pd.to_datetime(df['arrete'], format='%d/%m/%y')\n",
    "df['DT_MEP_OPE'] = pd.to_datetime(df['DT_MEP_OPE'], format='%d%b%Y:%H:%M:%S.%f')\n",
    "df['dt_arr_last_enc_ope'] = pd.to_datetime(df['dt_arr_last_enc_ope'], errors='coerce')\n",
    "df['dt_arr_1st_enc_ope'] = pd.to_datetime(df['dt_arr_1st_enc_ope'], errors='coerce')\n",
    "df['dtHJD_prov'] = pd.to_datetime(df['dtHJD_prov'], errors='coerce')\n",
    "df['dtHJD_def'] = pd.to_datetime(df['dtHJD_def'], errors='coerce')"
   ],
   "metadata": {
    "collapsed": false,
    "ExecuteTime": {
     "end_time": "2024-01-07T09:55:23.553591Z",
     "start_time": "2024-01-07T09:55:23.267279Z"
    }
   },
   "id": "537b9d5beb7c3cec"
  },
  {
   "cell_type": "code",
   "execution_count": 4,
   "outputs": [],
   "source": [
    "for column in df.columns :\n",
    "    if df[column].isna().sum()/df.shape[0] > 0.5 : \n",
    "        df.drop(columns = [column], inplace = True)"
   ],
   "metadata": {
    "collapsed": false,
    "ExecuteTime": {
     "end_time": "2024-01-07T09:55:25.981564Z",
     "start_time": "2024-01-07T09:55:24.765022Z"
    }
   },
   "id": "f94beb13ff28d33d"
  },
  {
   "cell_type": "code",
   "execution_count": 5,
   "outputs": [],
   "source": [
    "df.drop(columns = [\"CD_POST_BIEN_PFI\"], inplace = True)"
   ],
   "metadata": {
    "collapsed": false,
    "ExecuteTime": {
     "end_time": "2024-01-07T09:55:27.717684Z",
     "start_time": "2024-01-07T09:55:27.619678Z"
    }
   },
   "id": "487fa16e1ac5eca7"
  },
  {
   "cell_type": "code",
   "execution_count": 6,
   "outputs": [],
   "source": [
    "var_to_categorize = [\n",
    "    \"FL_REL_NON_ANNULE\",\n",
    "    \"FL_ETR\",\n",
    "    \"CD_ETAT_CIVIL\",\n",
    "    \"CD_DNE_CHR_LGD_SAIN\",\n",
    "    \"fl_prise_de_gar\",\n",
    "    \"fl_fam_vam\",\n",
    "    \"fam_ETH\",\n",
    "    \"fam_ENQ\",\n",
    "    \"fam_exp\",\n",
    "    \"fam_hyp\",\n",
    "    \"fam_sim\",\n",
    "    \"fam_AEP\",\n",
    "    \"dat_dec_echec\",\n",
    "    \"solution\",\n",
    "    \"fam_PCD\",\n",
    "    \"CD_MTF_ENE_CTX\",\n",
    "    \"niv_gravite_mtf_dne\",\n",
    "    \"niv_gravite_mtf_dfs\",\n",
    "    \"no_pass_def\",\n",
    "    \"fl_def_ss_pass_CTX\",\n",
    "    \"fl_prt_Conso\",\n",
    "    \"fl_fonc\",\n",
    "    \"AMI\",\n",
    "    \"EXE\",\n",
    "    \"PTG\"\n",
    "]\n",
    "for var in var_to_categorize : \n",
    "    df[var] = df[var].astype(\"object\")"
   ],
   "metadata": {
    "collapsed": false,
    "ExecuteTime": {
     "end_time": "2024-01-07T09:55:29.282590Z",
     "start_time": "2024-01-07T09:55:29.082079Z"
    }
   },
   "id": "49858d59f7c4bd85"
  },
  {
   "cell_type": "code",
   "execution_count": 7,
   "outputs": [],
   "source": [
    "cols_numeriques = df.select_dtypes(include=['float64', 'int64']).columns.to_list()\n",
    "cols_categorielles = df.select_dtypes(include=['object']).columns.to_list()\n",
    "cols_categorielles.remove(\"cd_op\")\n",
    "\n",
    "for col in cols_numeriques:\n",
    "    df[col].fillna(df[col].mean(), inplace=True)\n",
    "\n",
    "for col in cols_categorielles:\n",
    "    df[col].fillna(df[col].mode()[0], inplace=True)"
   ],
   "metadata": {
    "collapsed": false,
    "ExecuteTime": {
     "end_time": "2024-01-07T09:55:43.045083Z",
     "start_time": "2024-01-07T09:55:41.508874Z"
    }
   },
   "id": "871211e6ec41f59"
  },
  {
   "cell_type": "code",
   "execution_count": 8,
   "outputs": [],
   "source": [
    "def encode_columns(df):\n",
    "    encoders = {}\n",
    "    for column in cols_categorielles:\n",
    "        unique_values = df[column].nunique()\n",
    "        if unique_values <= 3:\n",
    "            # Appliquer OneHotEncoder\n",
    "            encoder = OneHotEncoder(sparse=False)\n",
    "            encoded = encoder.fit_transform(df[[column]])\n",
    "            encoders[column] = encoder\n",
    "\n",
    "            # Remplacer la colonne originale par de nouvelles colonnes pour chaque catégorie\n",
    "            for i, category in enumerate(encoder.categories_[0]):\n",
    "                df[str(column) + '_' + str(category)] = encoded[:, i]\n",
    "            df.drop(column, axis=1, inplace=True)\n",
    "        else:\n",
    "            # Appliquer LabelEncoder\n",
    "            encoder = LabelEncoder()\n",
    "            df[column] = encoder.fit_transform(df[column])\n",
    "            encoders[column] = encoder\n",
    "    return df, encoders\n",
    "\n",
    "encoded_df, encoders = encode_columns(df)"
   ],
   "metadata": {
    "collapsed": false,
    "ExecuteTime": {
     "end_time": "2024-01-07T09:56:06.537166Z",
     "start_time": "2024-01-07T09:56:02.609131Z"
    }
   },
   "id": "421ec129e48b9a1d"
  },
  {
   "cell_type": "code",
   "execution_count": 86,
   "outputs": [
    {
     "ename": "UFuncTypeError",
     "evalue": "ufunc 'add' did not contain a loop with signature matching types (dtype('float64'), dtype('<U10')) -> None",
     "output_type": "error",
     "traceback": [
      "\u001B[0;31m---------------------------------------------------------------------------\u001B[0m",
      "\u001B[0;31mUFuncTypeError\u001B[0m                            Traceback (most recent call last)",
      "\u001B[0;32m/var/folders/12/33kq22951gn7jfpz3d32v_qc0000gn/T/ipykernel_2490/4176291370.py\u001B[0m in \u001B[0;36m?\u001B[0;34m()\u001B[0m\n\u001B[1;32m      9\u001B[0m             \u001B[0mcorr_dict\u001B[0m\u001B[0;34m[\u001B[0m\u001B[0mcol\u001B[0m\u001B[0;34m]\u001B[0m \u001B[0;34m=\u001B[0m \u001B[0mcorr\u001B[0m\u001B[0;34m\u001B[0m\u001B[0;34m\u001B[0m\u001B[0m\n\u001B[1;32m     10\u001B[0m     \u001B[0;32mreturn\u001B[0m \u001B[0mcorr_dict\u001B[0m\u001B[0;34m\u001B[0m\u001B[0;34m\u001B[0m\u001B[0m\n\u001B[1;32m     11\u001B[0m \u001B[0;34m\u001B[0m\u001B[0m\n\u001B[1;32m     12\u001B[0m \u001B[0;31m# Calcul de la corrélation point-bisériale\u001B[0m\u001B[0;34m\u001B[0m\u001B[0;34m\u001B[0m\u001B[0m\n\u001B[0;32m---> 13\u001B[0;31m \u001B[0mcorr_dict\u001B[0m \u001B[0;34m=\u001B[0m \u001B[0mcalculate_pointbiserial_corr\u001B[0m\u001B[0;34m(\u001B[0m\u001B[0mencoded_df\u001B[0m\u001B[0;34m,\u001B[0m \u001B[0;34m'fl_pass_DET'\u001B[0m\u001B[0;34m)\u001B[0m\u001B[0;34m\u001B[0m\u001B[0;34m\u001B[0m\u001B[0m\n\u001B[0m\u001B[1;32m     14\u001B[0m \u001B[0;34m\u001B[0m\u001B[0m\n\u001B[1;32m     15\u001B[0m \u001B[0;31m# Filtrer les variables avec une corrélation > 0.30\u001B[0m\u001B[0;34m\u001B[0m\u001B[0;34m\u001B[0m\u001B[0m\n\u001B[1;32m     16\u001B[0m \u001B[0mselected_variables\u001B[0m \u001B[0;34m=\u001B[0m \u001B[0;34m{\u001B[0m\u001B[0mk\u001B[0m\u001B[0;34m:\u001B[0m \u001B[0mv\u001B[0m \u001B[0;32mfor\u001B[0m \u001B[0mk\u001B[0m\u001B[0;34m,\u001B[0m \u001B[0mv\u001B[0m \u001B[0;32min\u001B[0m \u001B[0mcorr_dict\u001B[0m\u001B[0;34m.\u001B[0m\u001B[0mitems\u001B[0m\u001B[0;34m(\u001B[0m\u001B[0;34m)\u001B[0m \u001B[0;32mif\u001B[0m \u001B[0mabs\u001B[0m\u001B[0;34m(\u001B[0m\u001B[0mv\u001B[0m\u001B[0;34m)\u001B[0m \u001B[0;34m>\u001B[0m \u001B[0;36m0.05\u001B[0m\u001B[0;34m}\u001B[0m\u001B[0;34m\u001B[0m\u001B[0;34m\u001B[0m\u001B[0m\n",
      "\u001B[0;32m/var/folders/12/33kq22951gn7jfpz3d32v_qc0000gn/T/ipykernel_2490/4176291370.py\u001B[0m in \u001B[0;36m?\u001B[0;34m(df, binary_var)\u001B[0m\n\u001B[1;32m      4\u001B[0m \u001B[0;32mdef\u001B[0m \u001B[0mcalculate_pointbiserial_corr\u001B[0m\u001B[0;34m(\u001B[0m\u001B[0mdf\u001B[0m\u001B[0;34m,\u001B[0m \u001B[0mbinary_var\u001B[0m\u001B[0;34m)\u001B[0m\u001B[0;34m:\u001B[0m\u001B[0;34m\u001B[0m\u001B[0;34m\u001B[0m\u001B[0m\n\u001B[1;32m      5\u001B[0m     \u001B[0mcorr_dict\u001B[0m \u001B[0;34m=\u001B[0m \u001B[0;34m{\u001B[0m\u001B[0;34m}\u001B[0m\u001B[0;34m\u001B[0m\u001B[0;34m\u001B[0m\u001B[0m\n\u001B[1;32m      6\u001B[0m     \u001B[0;32mfor\u001B[0m \u001B[0mcol\u001B[0m \u001B[0;32min\u001B[0m \u001B[0mdf\u001B[0m\u001B[0;34m.\u001B[0m\u001B[0mcolumns\u001B[0m\u001B[0;34m:\u001B[0m\u001B[0;34m\u001B[0m\u001B[0;34m\u001B[0m\u001B[0m\n\u001B[1;32m      7\u001B[0m         \u001B[0;32mif\u001B[0m \u001B[0mcol\u001B[0m \u001B[0;34m!=\u001B[0m \u001B[0mbinary_var\u001B[0m\u001B[0;34m:\u001B[0m\u001B[0;34m\u001B[0m\u001B[0;34m\u001B[0m\u001B[0m\n\u001B[0;32m----> 8\u001B[0;31m             \u001B[0mcorr\u001B[0m\u001B[0;34m,\u001B[0m \u001B[0mp_value\u001B[0m \u001B[0;34m=\u001B[0m \u001B[0mpointbiserialr\u001B[0m\u001B[0;34m(\u001B[0m\u001B[0mdf\u001B[0m\u001B[0;34m[\u001B[0m\u001B[0mbinary_var\u001B[0m\u001B[0;34m]\u001B[0m\u001B[0;34m,\u001B[0m \u001B[0mdf\u001B[0m\u001B[0;34m[\u001B[0m\u001B[0mcol\u001B[0m\u001B[0;34m]\u001B[0m\u001B[0;34m)\u001B[0m\u001B[0;34m\u001B[0m\u001B[0;34m\u001B[0m\u001B[0m\n\u001B[0m\u001B[1;32m      9\u001B[0m             \u001B[0mcorr_dict\u001B[0m\u001B[0;34m[\u001B[0m\u001B[0mcol\u001B[0m\u001B[0;34m]\u001B[0m \u001B[0;34m=\u001B[0m \u001B[0mcorr\u001B[0m\u001B[0;34m\u001B[0m\u001B[0;34m\u001B[0m\u001B[0m\n\u001B[1;32m     10\u001B[0m     \u001B[0;32mreturn\u001B[0m \u001B[0mcorr_dict\u001B[0m\u001B[0;34m\u001B[0m\u001B[0;34m\u001B[0m\u001B[0m\n",
      "\u001B[0;32m~/Documents/École/Université/M2/M2_S1/Challenge_Credit_Logement/venv/lib/python3.10/site-packages/scipy/stats/_stats_py.py\u001B[0m in \u001B[0;36m?\u001B[0;34m(x, y)\u001B[0m\n\u001B[1;32m   5583\u001B[0m     array([[ 1.       ,  0.8660254],\n\u001B[1;32m   5584\u001B[0m            [ 0.8660254,  1.       ]])\n\u001B[1;32m   5585\u001B[0m \u001B[0;34m\u001B[0m\u001B[0m\n\u001B[1;32m   5586\u001B[0m     \"\"\"\n\u001B[0;32m-> 5587\u001B[0;31m     \u001B[0mrpb\u001B[0m\u001B[0;34m,\u001B[0m \u001B[0mprob\u001B[0m \u001B[0;34m=\u001B[0m \u001B[0mpearsonr\u001B[0m\u001B[0;34m(\u001B[0m\u001B[0mx\u001B[0m\u001B[0;34m,\u001B[0m \u001B[0my\u001B[0m\u001B[0;34m)\u001B[0m\u001B[0;34m\u001B[0m\u001B[0;34m\u001B[0m\u001B[0m\n\u001B[0m\u001B[1;32m   5588\u001B[0m     \u001B[0;31m# create result object with alias for backward compatibility\u001B[0m\u001B[0;34m\u001B[0m\u001B[0;34m\u001B[0m\u001B[0m\n\u001B[1;32m   5589\u001B[0m     \u001B[0mres\u001B[0m \u001B[0;34m=\u001B[0m \u001B[0mSignificanceResult\u001B[0m\u001B[0;34m(\u001B[0m\u001B[0mrpb\u001B[0m\u001B[0;34m,\u001B[0m \u001B[0mprob\u001B[0m\u001B[0;34m)\u001B[0m\u001B[0;34m\u001B[0m\u001B[0;34m\u001B[0m\u001B[0m\n\u001B[1;32m   5590\u001B[0m     \u001B[0mres\u001B[0m\u001B[0;34m.\u001B[0m\u001B[0mcorrelation\u001B[0m \u001B[0;34m=\u001B[0m \u001B[0mrpb\u001B[0m\u001B[0;34m\u001B[0m\u001B[0;34m\u001B[0m\u001B[0m\n",
      "\u001B[0;32m~/Documents/École/Université/M2/M2_S1/Challenge_Credit_Logement/venv/lib/python3.10/site-packages/scipy/stats/_stats_py.py\u001B[0m in \u001B[0;36m?\u001B[0;34m(x, y, alternative, method)\u001B[0m\n\u001B[1;32m   4814\u001B[0m \u001B[0;34m\u001B[0m\u001B[0m\n\u001B[1;32m   4815\u001B[0m     \u001B[0;31m# dtype is the data type for the calculations.  This expression ensures\u001B[0m\u001B[0;34m\u001B[0m\u001B[0;34m\u001B[0m\u001B[0m\n\u001B[1;32m   4816\u001B[0m     \u001B[0;31m# that the data type is at least 64 bit floating point.  It might have\u001B[0m\u001B[0;34m\u001B[0m\u001B[0;34m\u001B[0m\u001B[0m\n\u001B[1;32m   4817\u001B[0m     \u001B[0;31m# more precision if the input is, for example, np.longdouble.\u001B[0m\u001B[0;34m\u001B[0m\u001B[0;34m\u001B[0m\u001B[0m\n\u001B[0;32m-> 4818\u001B[0;31m     \u001B[0mdtype\u001B[0m \u001B[0;34m=\u001B[0m \u001B[0mtype\u001B[0m\u001B[0;34m(\u001B[0m\u001B[0;36m1.0\u001B[0m \u001B[0;34m+\u001B[0m \u001B[0mx\u001B[0m\u001B[0;34m[\u001B[0m\u001B[0;36m0\u001B[0m\u001B[0;34m]\u001B[0m \u001B[0;34m+\u001B[0m \u001B[0my\u001B[0m\u001B[0;34m[\u001B[0m\u001B[0;36m0\u001B[0m\u001B[0;34m]\u001B[0m\u001B[0;34m)\u001B[0m\u001B[0;34m\u001B[0m\u001B[0;34m\u001B[0m\u001B[0m\n\u001B[0m\u001B[1;32m   4819\u001B[0m \u001B[0;34m\u001B[0m\u001B[0m\n\u001B[1;32m   4820\u001B[0m     \u001B[0;32mif\u001B[0m \u001B[0mn\u001B[0m \u001B[0;34m==\u001B[0m \u001B[0;36m2\u001B[0m\u001B[0;34m:\u001B[0m\u001B[0;34m\u001B[0m\u001B[0;34m\u001B[0m\u001B[0m\n\u001B[1;32m   4821\u001B[0m         \u001B[0mr\u001B[0m \u001B[0;34m=\u001B[0m \u001B[0mdtype\u001B[0m\u001B[0;34m(\u001B[0m\u001B[0mnp\u001B[0m\u001B[0;34m.\u001B[0m\u001B[0msign\u001B[0m\u001B[0;34m(\u001B[0m\u001B[0mx\u001B[0m\u001B[0;34m[\u001B[0m\u001B[0;36m1\u001B[0m\u001B[0;34m]\u001B[0m \u001B[0;34m-\u001B[0m \u001B[0mx\u001B[0m\u001B[0;34m[\u001B[0m\u001B[0;36m0\u001B[0m\u001B[0;34m]\u001B[0m\u001B[0;34m)\u001B[0m\u001B[0;34m*\u001B[0m\u001B[0mnp\u001B[0m\u001B[0;34m.\u001B[0m\u001B[0msign\u001B[0m\u001B[0;34m(\u001B[0m\u001B[0my\u001B[0m\u001B[0;34m[\u001B[0m\u001B[0;36m1\u001B[0m\u001B[0;34m]\u001B[0m \u001B[0;34m-\u001B[0m \u001B[0my\u001B[0m\u001B[0;34m[\u001B[0m\u001B[0;36m0\u001B[0m\u001B[0;34m]\u001B[0m\u001B[0;34m)\u001B[0m\u001B[0;34m)\u001B[0m\u001B[0;34m\u001B[0m\u001B[0;34m\u001B[0m\u001B[0m\n",
      "\u001B[0;31mUFuncTypeError\u001B[0m: ufunc 'add' did not contain a loop with signature matching types (dtype('float64'), dtype('<U10')) -> None"
     ]
    }
   ],
   "source": [
    "from scipy.stats import pointbiserialr\n",
    "\n",
    "\n",
    "def calculate_pointbiserial_corr(df, binary_var):\n",
    "    corr_dict = {}\n",
    "    for col in df.columns:\n",
    "        if col != binary_var:\n",
    "            corr, p_value = pointbiserialr(df[binary_var], df[col])\n",
    "            corr_dict[col] = corr\n",
    "    return corr_dict\n",
    "\n",
    "# Calcul de la corrélation point-bisériale\n",
    "corr_dict = calculate_pointbiserial_corr(encoded_df, 'fl_pass_DET')\n",
    "\n",
    "# Filtrer les variables avec une corrélation > 0.30\n",
    "selected_variables = {k: v for k, v in corr_dict.items() if abs(v) > 0.05}\n",
    "\n",
    "selected_variables.keys()"
   ],
   "metadata": {
    "collapsed": false,
    "ExecuteTime": {
     "end_time": "2024-01-06T17:03:04.524520Z",
     "start_time": "2024-01-06T17:03:04.480010Z"
    }
   },
   "id": "aa2355a3c6e862d7"
  },
  {
   "cell_type": "code",
   "execution_count": null,
   "outputs": [],
   "source": [
    "selected_columns"
   ],
   "metadata": {
    "collapsed": false,
    "ExecuteTime": {
     "end_time": "2024-01-06T17:03:04.533036Z",
     "start_time": "2024-01-06T17:03:04.525292Z"
    }
   },
   "id": "529caa0f4d6a783f"
  },
  {
   "cell_type": "markdown",
   "source": [
    "# Préparation des données"
   ],
   "metadata": {
    "collapsed": false
   },
   "id": "83a691d288db4f6b"
  },
  {
   "cell_type": "code",
   "execution_count": 9,
   "outputs": [],
   "source": [
    "df_validation = df[df['arrete']>\"2020-12-30\"]\n",
    "df_train = df[df['arrete']<\"2020-12-30\"]"
   ],
   "metadata": {
    "collapsed": false,
    "ExecuteTime": {
     "end_time": "2024-01-07T09:56:11.865592Z",
     "start_time": "2024-01-07T09:56:11.723136Z"
    }
   },
   "id": "677b4fa81bbbeab2"
  },
  {
   "cell_type": "code",
   "execution_count": 10,
   "outputs": [
    {
     "data": {
      "text/plain": "             cd_op date_entree_defaut     arrete  fl_pass_DET  nb_prt  \\\n0       I860708600         2017-01-16 2017-01-31            0       1   \n1       I860708600         2017-01-16 2017-02-28            0       1   \n2       I860708600         2017-01-16 2017-03-31            0       1   \n3       I860708600         2017-01-16 2017-04-30            0       1   \n4       I860708600         2017-01-16 2017-05-31            0       1   \n...            ...                ...        ...          ...     ...   \n327989  M200618962         2020-10-22 2020-10-31            0       1   \n327990  M200618962         2020-10-22 2020-11-30            0       1   \n328215  M200807648         2020-09-19 2020-09-30            0       1   \n328216  M200807648         2020-09-19 2020-10-31            0       1   \n328217  M200807648         2020-09-19 2020-11-30            0       1   \n\n       DT_MEP_OPE  CD_NAT_EMP1  CD_NAT_EMP2  ANC_BANC_MAX_PFI  CD_DEST_PFI  \\\n0      1986-09-15            3            2         83.291914            5   \n1      1986-09-15            3            2         83.291914            5   \n2      1986-09-15            3            2         83.291914            5   \n3      1986-09-15            3            2         83.291914            5   \n4      1986-09-15            3            2         83.291914            5   \n...           ...          ...          ...               ...          ...   \n327989 2020-09-14            3            2         40.000000            0   \n327990 2020-09-14            3            2         40.000000            0   \n328215 2020-09-19            3            2          9.000000            3   \n328216 2020-09-19            3            2          9.000000            3   \n328217 2020-09-19            3            2          9.000000            3   \n\n        ...  fl_prt_Conso_0  fl_prt_Conso_1  fl_fonc_0  fl_fonc_1  AMI_0.0  \\\n0       ...             1.0             0.0        0.0        1.0      0.0   \n1       ...             1.0             0.0        0.0        1.0      0.0   \n2       ...             1.0             0.0        0.0        1.0      0.0   \n3       ...             1.0             0.0        0.0        1.0      0.0   \n4       ...             1.0             0.0        0.0        1.0      0.0   \n...     ...             ...             ...        ...        ...      ...   \n327989  ...             1.0             0.0        1.0        0.0      0.0   \n327990  ...             1.0             0.0        1.0        0.0      1.0   \n328215  ...             1.0             0.0        0.0        1.0      0.0   \n328216  ...             1.0             0.0        0.0        1.0      0.0   \n328217  ...             1.0             0.0        0.0        1.0      0.0   \n\n        AMI_1.0  EXE_0.0  EXE_1.0  PTG_0.0  PTG_1.0  \n0           1.0      1.0      0.0      1.0      0.0  \n1           1.0      1.0      0.0      1.0      0.0  \n2           1.0      1.0      0.0      1.0      0.0  \n3           1.0      1.0      0.0      1.0      0.0  \n4           1.0      1.0      0.0      1.0      0.0  \n...         ...      ...      ...      ...      ...  \n327989      1.0      1.0      0.0      1.0      0.0  \n327990      0.0      1.0      0.0      1.0      0.0  \n328215      1.0      1.0      0.0      1.0      0.0  \n328216      1.0      1.0      0.0      1.0      0.0  \n328217      1.0      1.0      0.0      1.0      0.0  \n\n[221971 rows x 103 columns]",
      "text/html": "<div>\n<style scoped>\n    .dataframe tbody tr th:only-of-type {\n        vertical-align: middle;\n    }\n\n    .dataframe tbody tr th {\n        vertical-align: top;\n    }\n\n    .dataframe thead th {\n        text-align: right;\n    }\n</style>\n<table border=\"1\" class=\"dataframe\">\n  <thead>\n    <tr style=\"text-align: right;\">\n      <th></th>\n      <th>cd_op</th>\n      <th>date_entree_defaut</th>\n      <th>arrete</th>\n      <th>fl_pass_DET</th>\n      <th>nb_prt</th>\n      <th>DT_MEP_OPE</th>\n      <th>CD_NAT_EMP1</th>\n      <th>CD_NAT_EMP2</th>\n      <th>ANC_BANC_MAX_PFI</th>\n      <th>CD_DEST_PFI</th>\n      <th>...</th>\n      <th>fl_prt_Conso_0</th>\n      <th>fl_prt_Conso_1</th>\n      <th>fl_fonc_0</th>\n      <th>fl_fonc_1</th>\n      <th>AMI_0.0</th>\n      <th>AMI_1.0</th>\n      <th>EXE_0.0</th>\n      <th>EXE_1.0</th>\n      <th>PTG_0.0</th>\n      <th>PTG_1.0</th>\n    </tr>\n  </thead>\n  <tbody>\n    <tr>\n      <th>0</th>\n      <td>I860708600</td>\n      <td>2017-01-16</td>\n      <td>2017-01-31</td>\n      <td>0</td>\n      <td>1</td>\n      <td>1986-09-15</td>\n      <td>3</td>\n      <td>2</td>\n      <td>83.291914</td>\n      <td>5</td>\n      <td>...</td>\n      <td>1.0</td>\n      <td>0.0</td>\n      <td>0.0</td>\n      <td>1.0</td>\n      <td>0.0</td>\n      <td>1.0</td>\n      <td>1.0</td>\n      <td>0.0</td>\n      <td>1.0</td>\n      <td>0.0</td>\n    </tr>\n    <tr>\n      <th>1</th>\n      <td>I860708600</td>\n      <td>2017-01-16</td>\n      <td>2017-02-28</td>\n      <td>0</td>\n      <td>1</td>\n      <td>1986-09-15</td>\n      <td>3</td>\n      <td>2</td>\n      <td>83.291914</td>\n      <td>5</td>\n      <td>...</td>\n      <td>1.0</td>\n      <td>0.0</td>\n      <td>0.0</td>\n      <td>1.0</td>\n      <td>0.0</td>\n      <td>1.0</td>\n      <td>1.0</td>\n      <td>0.0</td>\n      <td>1.0</td>\n      <td>0.0</td>\n    </tr>\n    <tr>\n      <th>2</th>\n      <td>I860708600</td>\n      <td>2017-01-16</td>\n      <td>2017-03-31</td>\n      <td>0</td>\n      <td>1</td>\n      <td>1986-09-15</td>\n      <td>3</td>\n      <td>2</td>\n      <td>83.291914</td>\n      <td>5</td>\n      <td>...</td>\n      <td>1.0</td>\n      <td>0.0</td>\n      <td>0.0</td>\n      <td>1.0</td>\n      <td>0.0</td>\n      <td>1.0</td>\n      <td>1.0</td>\n      <td>0.0</td>\n      <td>1.0</td>\n      <td>0.0</td>\n    </tr>\n    <tr>\n      <th>3</th>\n      <td>I860708600</td>\n      <td>2017-01-16</td>\n      <td>2017-04-30</td>\n      <td>0</td>\n      <td>1</td>\n      <td>1986-09-15</td>\n      <td>3</td>\n      <td>2</td>\n      <td>83.291914</td>\n      <td>5</td>\n      <td>...</td>\n      <td>1.0</td>\n      <td>0.0</td>\n      <td>0.0</td>\n      <td>1.0</td>\n      <td>0.0</td>\n      <td>1.0</td>\n      <td>1.0</td>\n      <td>0.0</td>\n      <td>1.0</td>\n      <td>0.0</td>\n    </tr>\n    <tr>\n      <th>4</th>\n      <td>I860708600</td>\n      <td>2017-01-16</td>\n      <td>2017-05-31</td>\n      <td>0</td>\n      <td>1</td>\n      <td>1986-09-15</td>\n      <td>3</td>\n      <td>2</td>\n      <td>83.291914</td>\n      <td>5</td>\n      <td>...</td>\n      <td>1.0</td>\n      <td>0.0</td>\n      <td>0.0</td>\n      <td>1.0</td>\n      <td>0.0</td>\n      <td>1.0</td>\n      <td>1.0</td>\n      <td>0.0</td>\n      <td>1.0</td>\n      <td>0.0</td>\n    </tr>\n    <tr>\n      <th>...</th>\n      <td>...</td>\n      <td>...</td>\n      <td>...</td>\n      <td>...</td>\n      <td>...</td>\n      <td>...</td>\n      <td>...</td>\n      <td>...</td>\n      <td>...</td>\n      <td>...</td>\n      <td>...</td>\n      <td>...</td>\n      <td>...</td>\n      <td>...</td>\n      <td>...</td>\n      <td>...</td>\n      <td>...</td>\n      <td>...</td>\n      <td>...</td>\n      <td>...</td>\n      <td>...</td>\n    </tr>\n    <tr>\n      <th>327989</th>\n      <td>M200618962</td>\n      <td>2020-10-22</td>\n      <td>2020-10-31</td>\n      <td>0</td>\n      <td>1</td>\n      <td>2020-09-14</td>\n      <td>3</td>\n      <td>2</td>\n      <td>40.000000</td>\n      <td>0</td>\n      <td>...</td>\n      <td>1.0</td>\n      <td>0.0</td>\n      <td>1.0</td>\n      <td>0.0</td>\n      <td>0.0</td>\n      <td>1.0</td>\n      <td>1.0</td>\n      <td>0.0</td>\n      <td>1.0</td>\n      <td>0.0</td>\n    </tr>\n    <tr>\n      <th>327990</th>\n      <td>M200618962</td>\n      <td>2020-10-22</td>\n      <td>2020-11-30</td>\n      <td>0</td>\n      <td>1</td>\n      <td>2020-09-14</td>\n      <td>3</td>\n      <td>2</td>\n      <td>40.000000</td>\n      <td>0</td>\n      <td>...</td>\n      <td>1.0</td>\n      <td>0.0</td>\n      <td>1.0</td>\n      <td>0.0</td>\n      <td>1.0</td>\n      <td>0.0</td>\n      <td>1.0</td>\n      <td>0.0</td>\n      <td>1.0</td>\n      <td>0.0</td>\n    </tr>\n    <tr>\n      <th>328215</th>\n      <td>M200807648</td>\n      <td>2020-09-19</td>\n      <td>2020-09-30</td>\n      <td>0</td>\n      <td>1</td>\n      <td>2020-09-19</td>\n      <td>3</td>\n      <td>2</td>\n      <td>9.000000</td>\n      <td>3</td>\n      <td>...</td>\n      <td>1.0</td>\n      <td>0.0</td>\n      <td>0.0</td>\n      <td>1.0</td>\n      <td>0.0</td>\n      <td>1.0</td>\n      <td>1.0</td>\n      <td>0.0</td>\n      <td>1.0</td>\n      <td>0.0</td>\n    </tr>\n    <tr>\n      <th>328216</th>\n      <td>M200807648</td>\n      <td>2020-09-19</td>\n      <td>2020-10-31</td>\n      <td>0</td>\n      <td>1</td>\n      <td>2020-09-19</td>\n      <td>3</td>\n      <td>2</td>\n      <td>9.000000</td>\n      <td>3</td>\n      <td>...</td>\n      <td>1.0</td>\n      <td>0.0</td>\n      <td>0.0</td>\n      <td>1.0</td>\n      <td>0.0</td>\n      <td>1.0</td>\n      <td>1.0</td>\n      <td>0.0</td>\n      <td>1.0</td>\n      <td>0.0</td>\n    </tr>\n    <tr>\n      <th>328217</th>\n      <td>M200807648</td>\n      <td>2020-09-19</td>\n      <td>2020-11-30</td>\n      <td>0</td>\n      <td>1</td>\n      <td>2020-09-19</td>\n      <td>3</td>\n      <td>2</td>\n      <td>9.000000</td>\n      <td>3</td>\n      <td>...</td>\n      <td>1.0</td>\n      <td>0.0</td>\n      <td>0.0</td>\n      <td>1.0</td>\n      <td>0.0</td>\n      <td>1.0</td>\n      <td>1.0</td>\n      <td>0.0</td>\n      <td>1.0</td>\n      <td>0.0</td>\n    </tr>\n  </tbody>\n</table>\n<p>221971 rows × 103 columns</p>\n</div>"
     },
     "execution_count": 10,
     "metadata": {},
     "output_type": "execute_result"
    }
   ],
   "source": [
    "df_train"
   ],
   "metadata": {
    "collapsed": false,
    "ExecuteTime": {
     "end_time": "2024-01-07T09:56:12.901450Z",
     "start_time": "2024-01-07T09:56:12.821320Z"
    }
   },
   "id": "59c6854968b90bc9"
  },
  {
   "cell_type": "code",
   "execution_count": 11,
   "outputs": [],
   "source": [
    "data_haz = df_train.copy()\n",
    "data_haz = data_haz.drop_duplicates(subset = 'cd_op', keep = 'last')"
   ],
   "metadata": {
    "collapsed": false,
    "ExecuteTime": {
     "end_time": "2024-01-07T09:56:15.731616Z",
     "start_time": "2024-01-07T09:56:15.642641Z"
    }
   },
   "id": "ddc4303e62881783"
  },
  {
   "cell_type": "code",
   "execution_count": 12,
   "outputs": [
    {
     "data": {
      "text/plain": "             cd_op date_entree_defaut     arrete  fl_pass_DET  nb_prt  \\\n11      I860708600         2017-01-16 2017-12-31            0       1   \n24      I950404213         2017-03-15 2018-03-31            0       1   \n33      I950706618         2016-01-28 2017-04-30            1       1   \n39      I950901248         2017-01-27 2017-06-30            0       1   \n41      I960300578         2016-06-28 2016-07-31            0       1   \n...            ...                ...        ...          ...     ...   \n327905  M200503777         2020-08-19 2020-11-30            0       1   \n327924  M200504641         2020-09-15 2020-11-30            0       1   \n327927  M200504653         2020-09-17 2020-11-30            0       1   \n327990  M200618962         2020-10-22 2020-11-30            0       1   \n328217  M200807648         2020-09-19 2020-11-30            0       1   \n\n       DT_MEP_OPE  CD_NAT_EMP1  CD_NAT_EMP2  ANC_BANC_MAX_PFI  CD_DEST_PFI  \\\n11     1986-09-15            3            2         83.291914            5   \n24     1995-06-06            3            2         83.291914            3   \n33     1995-09-25            3            2         83.291914            3   \n39     1995-10-18            3            2        167.000000            3   \n41     1996-04-10            3            2          5.000000            3   \n...           ...          ...          ...               ...          ...   \n327905 2020-08-19            3            2        173.000000            0   \n327924 2020-07-15            3            2          1.000000            3   \n327927 2020-09-17            3            2          1.000000            3   \n327990 2020-09-14            3            2         40.000000            0   \n328217 2020-09-19            3            2          9.000000            3   \n\n        ...  fl_prt_Conso_0  fl_prt_Conso_1  fl_fonc_0  fl_fonc_1  AMI_0.0  \\\n11      ...             1.0             0.0        0.0        1.0      0.0   \n24      ...             1.0             0.0        1.0        0.0      0.0   \n33      ...             1.0             0.0        0.0        1.0      1.0   \n39      ...             1.0             0.0        0.0        1.0      0.0   \n41      ...             0.0             1.0        0.0        1.0      0.0   \n...     ...             ...             ...        ...        ...      ...   \n327905  ...             1.0             0.0        1.0        0.0      0.0   \n327924  ...             1.0             0.0        1.0        0.0      0.0   \n327927  ...             1.0             0.0        1.0        0.0      0.0   \n327990  ...             1.0             0.0        1.0        0.0      1.0   \n328217  ...             1.0             0.0        0.0        1.0      0.0   \n\n        AMI_1.0  EXE_0.0  EXE_1.0  PTG_0.0  PTG_1.0  \n11          1.0      1.0      0.0      1.0      0.0  \n24          1.0      1.0      0.0      1.0      0.0  \n33          0.0      1.0      0.0      1.0      0.0  \n39          1.0      1.0      0.0      1.0      0.0  \n41          1.0      1.0      0.0      1.0      0.0  \n...         ...      ...      ...      ...      ...  \n327905      1.0      1.0      0.0      1.0      0.0  \n327924      1.0      1.0      0.0      1.0      0.0  \n327927      1.0      1.0      0.0      1.0      0.0  \n327990      0.0      1.0      0.0      1.0      0.0  \n328217      1.0      1.0      0.0      1.0      0.0  \n\n[17815 rows x 103 columns]",
      "text/html": "<div>\n<style scoped>\n    .dataframe tbody tr th:only-of-type {\n        vertical-align: middle;\n    }\n\n    .dataframe tbody tr th {\n        vertical-align: top;\n    }\n\n    .dataframe thead th {\n        text-align: right;\n    }\n</style>\n<table border=\"1\" class=\"dataframe\">\n  <thead>\n    <tr style=\"text-align: right;\">\n      <th></th>\n      <th>cd_op</th>\n      <th>date_entree_defaut</th>\n      <th>arrete</th>\n      <th>fl_pass_DET</th>\n      <th>nb_prt</th>\n      <th>DT_MEP_OPE</th>\n      <th>CD_NAT_EMP1</th>\n      <th>CD_NAT_EMP2</th>\n      <th>ANC_BANC_MAX_PFI</th>\n      <th>CD_DEST_PFI</th>\n      <th>...</th>\n      <th>fl_prt_Conso_0</th>\n      <th>fl_prt_Conso_1</th>\n      <th>fl_fonc_0</th>\n      <th>fl_fonc_1</th>\n      <th>AMI_0.0</th>\n      <th>AMI_1.0</th>\n      <th>EXE_0.0</th>\n      <th>EXE_1.0</th>\n      <th>PTG_0.0</th>\n      <th>PTG_1.0</th>\n    </tr>\n  </thead>\n  <tbody>\n    <tr>\n      <th>11</th>\n      <td>I860708600</td>\n      <td>2017-01-16</td>\n      <td>2017-12-31</td>\n      <td>0</td>\n      <td>1</td>\n      <td>1986-09-15</td>\n      <td>3</td>\n      <td>2</td>\n      <td>83.291914</td>\n      <td>5</td>\n      <td>...</td>\n      <td>1.0</td>\n      <td>0.0</td>\n      <td>0.0</td>\n      <td>1.0</td>\n      <td>0.0</td>\n      <td>1.0</td>\n      <td>1.0</td>\n      <td>0.0</td>\n      <td>1.0</td>\n      <td>0.0</td>\n    </tr>\n    <tr>\n      <th>24</th>\n      <td>I950404213</td>\n      <td>2017-03-15</td>\n      <td>2018-03-31</td>\n      <td>0</td>\n      <td>1</td>\n      <td>1995-06-06</td>\n      <td>3</td>\n      <td>2</td>\n      <td>83.291914</td>\n      <td>3</td>\n      <td>...</td>\n      <td>1.0</td>\n      <td>0.0</td>\n      <td>1.0</td>\n      <td>0.0</td>\n      <td>0.0</td>\n      <td>1.0</td>\n      <td>1.0</td>\n      <td>0.0</td>\n      <td>1.0</td>\n      <td>0.0</td>\n    </tr>\n    <tr>\n      <th>33</th>\n      <td>I950706618</td>\n      <td>2016-01-28</td>\n      <td>2017-04-30</td>\n      <td>1</td>\n      <td>1</td>\n      <td>1995-09-25</td>\n      <td>3</td>\n      <td>2</td>\n      <td>83.291914</td>\n      <td>3</td>\n      <td>...</td>\n      <td>1.0</td>\n      <td>0.0</td>\n      <td>0.0</td>\n      <td>1.0</td>\n      <td>1.0</td>\n      <td>0.0</td>\n      <td>1.0</td>\n      <td>0.0</td>\n      <td>1.0</td>\n      <td>0.0</td>\n    </tr>\n    <tr>\n      <th>39</th>\n      <td>I950901248</td>\n      <td>2017-01-27</td>\n      <td>2017-06-30</td>\n      <td>0</td>\n      <td>1</td>\n      <td>1995-10-18</td>\n      <td>3</td>\n      <td>2</td>\n      <td>167.000000</td>\n      <td>3</td>\n      <td>...</td>\n      <td>1.0</td>\n      <td>0.0</td>\n      <td>0.0</td>\n      <td>1.0</td>\n      <td>0.0</td>\n      <td>1.0</td>\n      <td>1.0</td>\n      <td>0.0</td>\n      <td>1.0</td>\n      <td>0.0</td>\n    </tr>\n    <tr>\n      <th>41</th>\n      <td>I960300578</td>\n      <td>2016-06-28</td>\n      <td>2016-07-31</td>\n      <td>0</td>\n      <td>1</td>\n      <td>1996-04-10</td>\n      <td>3</td>\n      <td>2</td>\n      <td>5.000000</td>\n      <td>3</td>\n      <td>...</td>\n      <td>0.0</td>\n      <td>1.0</td>\n      <td>0.0</td>\n      <td>1.0</td>\n      <td>0.0</td>\n      <td>1.0</td>\n      <td>1.0</td>\n      <td>0.0</td>\n      <td>1.0</td>\n      <td>0.0</td>\n    </tr>\n    <tr>\n      <th>...</th>\n      <td>...</td>\n      <td>...</td>\n      <td>...</td>\n      <td>...</td>\n      <td>...</td>\n      <td>...</td>\n      <td>...</td>\n      <td>...</td>\n      <td>...</td>\n      <td>...</td>\n      <td>...</td>\n      <td>...</td>\n      <td>...</td>\n      <td>...</td>\n      <td>...</td>\n      <td>...</td>\n      <td>...</td>\n      <td>...</td>\n      <td>...</td>\n      <td>...</td>\n      <td>...</td>\n    </tr>\n    <tr>\n      <th>327905</th>\n      <td>M200503777</td>\n      <td>2020-08-19</td>\n      <td>2020-11-30</td>\n      <td>0</td>\n      <td>1</td>\n      <td>2020-08-19</td>\n      <td>3</td>\n      <td>2</td>\n      <td>173.000000</td>\n      <td>0</td>\n      <td>...</td>\n      <td>1.0</td>\n      <td>0.0</td>\n      <td>1.0</td>\n      <td>0.0</td>\n      <td>0.0</td>\n      <td>1.0</td>\n      <td>1.0</td>\n      <td>0.0</td>\n      <td>1.0</td>\n      <td>0.0</td>\n    </tr>\n    <tr>\n      <th>327924</th>\n      <td>M200504641</td>\n      <td>2020-09-15</td>\n      <td>2020-11-30</td>\n      <td>0</td>\n      <td>1</td>\n      <td>2020-07-15</td>\n      <td>3</td>\n      <td>2</td>\n      <td>1.000000</td>\n      <td>3</td>\n      <td>...</td>\n      <td>1.0</td>\n      <td>0.0</td>\n      <td>1.0</td>\n      <td>0.0</td>\n      <td>0.0</td>\n      <td>1.0</td>\n      <td>1.0</td>\n      <td>0.0</td>\n      <td>1.0</td>\n      <td>0.0</td>\n    </tr>\n    <tr>\n      <th>327927</th>\n      <td>M200504653</td>\n      <td>2020-09-17</td>\n      <td>2020-11-30</td>\n      <td>0</td>\n      <td>1</td>\n      <td>2020-09-17</td>\n      <td>3</td>\n      <td>2</td>\n      <td>1.000000</td>\n      <td>3</td>\n      <td>...</td>\n      <td>1.0</td>\n      <td>0.0</td>\n      <td>1.0</td>\n      <td>0.0</td>\n      <td>0.0</td>\n      <td>1.0</td>\n      <td>1.0</td>\n      <td>0.0</td>\n      <td>1.0</td>\n      <td>0.0</td>\n    </tr>\n    <tr>\n      <th>327990</th>\n      <td>M200618962</td>\n      <td>2020-10-22</td>\n      <td>2020-11-30</td>\n      <td>0</td>\n      <td>1</td>\n      <td>2020-09-14</td>\n      <td>3</td>\n      <td>2</td>\n      <td>40.000000</td>\n      <td>0</td>\n      <td>...</td>\n      <td>1.0</td>\n      <td>0.0</td>\n      <td>1.0</td>\n      <td>0.0</td>\n      <td>1.0</td>\n      <td>0.0</td>\n      <td>1.0</td>\n      <td>0.0</td>\n      <td>1.0</td>\n      <td>0.0</td>\n    </tr>\n    <tr>\n      <th>328217</th>\n      <td>M200807648</td>\n      <td>2020-09-19</td>\n      <td>2020-11-30</td>\n      <td>0</td>\n      <td>1</td>\n      <td>2020-09-19</td>\n      <td>3</td>\n      <td>2</td>\n      <td>9.000000</td>\n      <td>3</td>\n      <td>...</td>\n      <td>1.0</td>\n      <td>0.0</td>\n      <td>0.0</td>\n      <td>1.0</td>\n      <td>0.0</td>\n      <td>1.0</td>\n      <td>1.0</td>\n      <td>0.0</td>\n      <td>1.0</td>\n      <td>0.0</td>\n    </tr>\n  </tbody>\n</table>\n<p>17815 rows × 103 columns</p>\n</div>"
     },
     "execution_count": 12,
     "metadata": {},
     "output_type": "execute_result"
    }
   ],
   "source": [
    "data_haz"
   ],
   "metadata": {
    "collapsed": false,
    "ExecuteTime": {
     "end_time": "2024-01-07T09:56:18.715567Z",
     "start_time": "2024-01-07T09:56:18.684930Z"
    }
   },
   "id": "2f3889e74599ed3a"
  },
  {
   "cell_type": "code",
   "execution_count": 13,
   "outputs": [],
   "source": [
    "data_haz[\"Survie\"] =  data_haz[\"arrete\"] - data_haz[\"date_entree_defaut\"]"
   ],
   "metadata": {
    "collapsed": false,
    "ExecuteTime": {
     "end_time": "2024-01-07T09:56:21.263077Z",
     "start_time": "2024-01-07T09:56:21.220596Z"
    }
   },
   "id": "5f6d3e342aa33747"
  },
  {
   "cell_type": "code",
   "execution_count": 14,
   "outputs": [],
   "source": [
    "data_haz[\"Survie\"] = data_haz[\"Survie\"].dt.days"
   ],
   "metadata": {
    "collapsed": false,
    "ExecuteTime": {
     "end_time": "2024-01-07T09:56:22.079350Z",
     "start_time": "2024-01-07T09:56:22.063805Z"
    }
   },
   "id": "e2cf478cd70029a5"
  },
  {
   "cell_type": "code",
   "execution_count": 15,
   "outputs": [],
   "source": [
    "data_haz = data_haz.select_dtypes(exclude=['datetime64'])"
   ],
   "metadata": {
    "collapsed": false,
    "ExecuteTime": {
     "end_time": "2024-01-07T09:56:24.392856Z",
     "start_time": "2024-01-07T09:56:24.386934Z"
    }
   },
   "id": "40c8e171c616fd5f"
  },
  {
   "cell_type": "code",
   "execution_count": 16,
   "outputs": [],
   "source": [
    "data_haz.drop(columns = [\"cd_op\"], inplace = True)"
   ],
   "metadata": {
    "collapsed": false,
    "ExecuteTime": {
     "end_time": "2024-01-07T09:56:26.502358Z",
     "start_time": "2024-01-07T09:56:26.491844Z"
    }
   },
   "id": "35cb04d86b475c10"
  },
  {
   "cell_type": "markdown",
   "source": [
    "# Modélisation"
   ],
   "metadata": {
    "collapsed": false
   },
   "id": "902433703e577808"
  },
  {
   "cell_type": "code",
   "execution_count": 17,
   "outputs": [
    {
     "data": {
      "text/plain": "        fl_pass_DET  nb_prt  CD_NAT_EMP1  CD_NAT_EMP2  ANC_BANC_MAX_PFI  \\\n11                0       1            3            2         83.291914   \n24                0       1            3            2         83.291914   \n33                1       1            3            2         83.291914   \n39                0       1            3            2        167.000000   \n41                0       1            3            2          5.000000   \n...             ...     ...          ...          ...               ...   \n327905            0       1            3            2        173.000000   \n327924            0       1            3            2          1.000000   \n327927            0       1            3            2          1.000000   \n327990            0       1            3            2         40.000000   \n328217            0       1            3            2          9.000000   \n\n        CD_DEST_PFI  CD_NATUR_OP_PFI  MT_PATRIM_MOB  MT_CHA_HORS_OPE_PFI  \\\n11                5               16            0.0                  0.0   \n24                3                2            0.0                  0.0   \n33                3                2            0.0                  0.0   \n39                3                2            0.0                  0.0   \n41                3                2            0.0               2484.0   \n...             ...              ...            ...                  ...   \n327905            0               10        15323.0              23862.0   \n327924            3               10         3897.0               3912.0   \n327927            3               16         4130.0              12840.0   \n327990            0               16       150047.0              40006.0   \n328217            3               10        82675.0              47784.0   \n\n        NB_CHARGE_HORS_OPE_PFI  ...  fl_prt_Conso_1  fl_fonc_0  fl_fonc_1  \\\n11                         0.0  ...             0.0        0.0        1.0   \n24                         0.0  ...             0.0        1.0        0.0   \n33                         0.0  ...             0.0        0.0        1.0   \n39                         0.0  ...             0.0        0.0        1.0   \n41                         1.0  ...             1.0        0.0        1.0   \n...                        ...  ...             ...        ...        ...   \n327905                     3.0  ...             0.0        1.0        0.0   \n327924                     1.0  ...             0.0        1.0        0.0   \n327927                     1.0  ...             0.0        1.0        0.0   \n327990                     1.0  ...             0.0        1.0        0.0   \n328217                     2.0  ...             0.0        0.0        1.0   \n\n        AMI_0.0  AMI_1.0  EXE_0.0  EXE_1.0  PTG_0.0  PTG_1.0  Survie  \n11          0.0      1.0      1.0      0.0      1.0      0.0     349  \n24          0.0      1.0      1.0      0.0      1.0      0.0     381  \n33          1.0      0.0      1.0      0.0      1.0      0.0     458  \n39          0.0      1.0      1.0      0.0      1.0      0.0     154  \n41          0.0      1.0      1.0      0.0      1.0      0.0      33  \n...         ...      ...      ...      ...      ...      ...     ...  \n327905      0.0      1.0      1.0      0.0      1.0      0.0     103  \n327924      0.0      1.0      1.0      0.0      1.0      0.0      76  \n327927      0.0      1.0      1.0      0.0      1.0      0.0      74  \n327990      1.0      0.0      1.0      0.0      1.0      0.0      39  \n328217      0.0      1.0      1.0      0.0      1.0      0.0      72  \n\n[17815 rows x 98 columns]",
      "text/html": "<div>\n<style scoped>\n    .dataframe tbody tr th:only-of-type {\n        vertical-align: middle;\n    }\n\n    .dataframe tbody tr th {\n        vertical-align: top;\n    }\n\n    .dataframe thead th {\n        text-align: right;\n    }\n</style>\n<table border=\"1\" class=\"dataframe\">\n  <thead>\n    <tr style=\"text-align: right;\">\n      <th></th>\n      <th>fl_pass_DET</th>\n      <th>nb_prt</th>\n      <th>CD_NAT_EMP1</th>\n      <th>CD_NAT_EMP2</th>\n      <th>ANC_BANC_MAX_PFI</th>\n      <th>CD_DEST_PFI</th>\n      <th>CD_NATUR_OP_PFI</th>\n      <th>MT_PATRIM_MOB</th>\n      <th>MT_CHA_HORS_OPE_PFI</th>\n      <th>NB_CHARGE_HORS_OPE_PFI</th>\n      <th>...</th>\n      <th>fl_prt_Conso_1</th>\n      <th>fl_fonc_0</th>\n      <th>fl_fonc_1</th>\n      <th>AMI_0.0</th>\n      <th>AMI_1.0</th>\n      <th>EXE_0.0</th>\n      <th>EXE_1.0</th>\n      <th>PTG_0.0</th>\n      <th>PTG_1.0</th>\n      <th>Survie</th>\n    </tr>\n  </thead>\n  <tbody>\n    <tr>\n      <th>11</th>\n      <td>0</td>\n      <td>1</td>\n      <td>3</td>\n      <td>2</td>\n      <td>83.291914</td>\n      <td>5</td>\n      <td>16</td>\n      <td>0.0</td>\n      <td>0.0</td>\n      <td>0.0</td>\n      <td>...</td>\n      <td>0.0</td>\n      <td>0.0</td>\n      <td>1.0</td>\n      <td>0.0</td>\n      <td>1.0</td>\n      <td>1.0</td>\n      <td>0.0</td>\n      <td>1.0</td>\n      <td>0.0</td>\n      <td>349</td>\n    </tr>\n    <tr>\n      <th>24</th>\n      <td>0</td>\n      <td>1</td>\n      <td>3</td>\n      <td>2</td>\n      <td>83.291914</td>\n      <td>3</td>\n      <td>2</td>\n      <td>0.0</td>\n      <td>0.0</td>\n      <td>0.0</td>\n      <td>...</td>\n      <td>0.0</td>\n      <td>1.0</td>\n      <td>0.0</td>\n      <td>0.0</td>\n      <td>1.0</td>\n      <td>1.0</td>\n      <td>0.0</td>\n      <td>1.0</td>\n      <td>0.0</td>\n      <td>381</td>\n    </tr>\n    <tr>\n      <th>33</th>\n      <td>1</td>\n      <td>1</td>\n      <td>3</td>\n      <td>2</td>\n      <td>83.291914</td>\n      <td>3</td>\n      <td>2</td>\n      <td>0.0</td>\n      <td>0.0</td>\n      <td>0.0</td>\n      <td>...</td>\n      <td>0.0</td>\n      <td>0.0</td>\n      <td>1.0</td>\n      <td>1.0</td>\n      <td>0.0</td>\n      <td>1.0</td>\n      <td>0.0</td>\n      <td>1.0</td>\n      <td>0.0</td>\n      <td>458</td>\n    </tr>\n    <tr>\n      <th>39</th>\n      <td>0</td>\n      <td>1</td>\n      <td>3</td>\n      <td>2</td>\n      <td>167.000000</td>\n      <td>3</td>\n      <td>2</td>\n      <td>0.0</td>\n      <td>0.0</td>\n      <td>0.0</td>\n      <td>...</td>\n      <td>0.0</td>\n      <td>0.0</td>\n      <td>1.0</td>\n      <td>0.0</td>\n      <td>1.0</td>\n      <td>1.0</td>\n      <td>0.0</td>\n      <td>1.0</td>\n      <td>0.0</td>\n      <td>154</td>\n    </tr>\n    <tr>\n      <th>41</th>\n      <td>0</td>\n      <td>1</td>\n      <td>3</td>\n      <td>2</td>\n      <td>5.000000</td>\n      <td>3</td>\n      <td>2</td>\n      <td>0.0</td>\n      <td>2484.0</td>\n      <td>1.0</td>\n      <td>...</td>\n      <td>1.0</td>\n      <td>0.0</td>\n      <td>1.0</td>\n      <td>0.0</td>\n      <td>1.0</td>\n      <td>1.0</td>\n      <td>0.0</td>\n      <td>1.0</td>\n      <td>0.0</td>\n      <td>33</td>\n    </tr>\n    <tr>\n      <th>...</th>\n      <td>...</td>\n      <td>...</td>\n      <td>...</td>\n      <td>...</td>\n      <td>...</td>\n      <td>...</td>\n      <td>...</td>\n      <td>...</td>\n      <td>...</td>\n      <td>...</td>\n      <td>...</td>\n      <td>...</td>\n      <td>...</td>\n      <td>...</td>\n      <td>...</td>\n      <td>...</td>\n      <td>...</td>\n      <td>...</td>\n      <td>...</td>\n      <td>...</td>\n      <td>...</td>\n    </tr>\n    <tr>\n      <th>327905</th>\n      <td>0</td>\n      <td>1</td>\n      <td>3</td>\n      <td>2</td>\n      <td>173.000000</td>\n      <td>0</td>\n      <td>10</td>\n      <td>15323.0</td>\n      <td>23862.0</td>\n      <td>3.0</td>\n      <td>...</td>\n      <td>0.0</td>\n      <td>1.0</td>\n      <td>0.0</td>\n      <td>0.0</td>\n      <td>1.0</td>\n      <td>1.0</td>\n      <td>0.0</td>\n      <td>1.0</td>\n      <td>0.0</td>\n      <td>103</td>\n    </tr>\n    <tr>\n      <th>327924</th>\n      <td>0</td>\n      <td>1</td>\n      <td>3</td>\n      <td>2</td>\n      <td>1.000000</td>\n      <td>3</td>\n      <td>10</td>\n      <td>3897.0</td>\n      <td>3912.0</td>\n      <td>1.0</td>\n      <td>...</td>\n      <td>0.0</td>\n      <td>1.0</td>\n      <td>0.0</td>\n      <td>0.0</td>\n      <td>1.0</td>\n      <td>1.0</td>\n      <td>0.0</td>\n      <td>1.0</td>\n      <td>0.0</td>\n      <td>76</td>\n    </tr>\n    <tr>\n      <th>327927</th>\n      <td>0</td>\n      <td>1</td>\n      <td>3</td>\n      <td>2</td>\n      <td>1.000000</td>\n      <td>3</td>\n      <td>16</td>\n      <td>4130.0</td>\n      <td>12840.0</td>\n      <td>1.0</td>\n      <td>...</td>\n      <td>0.0</td>\n      <td>1.0</td>\n      <td>0.0</td>\n      <td>0.0</td>\n      <td>1.0</td>\n      <td>1.0</td>\n      <td>0.0</td>\n      <td>1.0</td>\n      <td>0.0</td>\n      <td>74</td>\n    </tr>\n    <tr>\n      <th>327990</th>\n      <td>0</td>\n      <td>1</td>\n      <td>3</td>\n      <td>2</td>\n      <td>40.000000</td>\n      <td>0</td>\n      <td>16</td>\n      <td>150047.0</td>\n      <td>40006.0</td>\n      <td>1.0</td>\n      <td>...</td>\n      <td>0.0</td>\n      <td>1.0</td>\n      <td>0.0</td>\n      <td>1.0</td>\n      <td>0.0</td>\n      <td>1.0</td>\n      <td>0.0</td>\n      <td>1.0</td>\n      <td>0.0</td>\n      <td>39</td>\n    </tr>\n    <tr>\n      <th>328217</th>\n      <td>0</td>\n      <td>1</td>\n      <td>3</td>\n      <td>2</td>\n      <td>9.000000</td>\n      <td>3</td>\n      <td>10</td>\n      <td>82675.0</td>\n      <td>47784.0</td>\n      <td>2.0</td>\n      <td>...</td>\n      <td>0.0</td>\n      <td>0.0</td>\n      <td>1.0</td>\n      <td>0.0</td>\n      <td>1.0</td>\n      <td>1.0</td>\n      <td>0.0</td>\n      <td>1.0</td>\n      <td>0.0</td>\n      <td>72</td>\n    </tr>\n  </tbody>\n</table>\n<p>17815 rows × 98 columns</p>\n</div>"
     },
     "execution_count": 17,
     "metadata": {},
     "output_type": "execute_result"
    }
   ],
   "source": [
    "data_haz"
   ],
   "metadata": {
    "collapsed": false
   },
   "id": "28730b39f8a43ba7"
  },
  {
   "cell_type": "code",
   "execution_count": 18,
   "outputs": [
    {
     "ename": "ConvergenceError",
     "evalue": "Convergence halted due to matrix inversion problems. Suspicion is high collinearity. Please see the following tips in the lifelines documentation: https://lifelines.readthedocs.io/en/latest/Examples.html#problems-with-convergence-in-the-cox-proportional-hazard-modelMatrix is singular.",
     "output_type": "error",
     "traceback": [
      "\u001B[0;31m---------------------------------------------------------------------------\u001B[0m",
      "\u001B[0;31mLinAlgError\u001B[0m                               Traceback (most recent call last)",
      "File \u001B[0;32m~/Documents/École/Université/M2/M2_S1/Challenge_Credit_Logement/venv/lib/python3.10/site-packages/lifelines/fitters/coxph_fitter.py:1530\u001B[0m, in \u001B[0;36mSemiParametricPHFitter._newton_raphson_for_efron_model\u001B[0;34m(self, X, T, E, weights, entries, initial_point, show_progress, step_size, precision, r_precision, max_steps)\u001B[0m\n\u001B[1;32m   1529\u001B[0m \u001B[38;5;28;01mtry\u001B[39;00m:\n\u001B[0;32m-> 1530\u001B[0m     inv_h_dot_g_T \u001B[38;5;241m=\u001B[39m \u001B[43mspsolve\u001B[49m\u001B[43m(\u001B[49m\u001B[38;5;241;43m-\u001B[39;49m\u001B[43mh\u001B[49m\u001B[43m,\u001B[49m\u001B[43m \u001B[49m\u001B[43mg\u001B[49m\u001B[43m,\u001B[49m\u001B[43m \u001B[49m\u001B[43massume_a\u001B[49m\u001B[38;5;241;43m=\u001B[39;49m\u001B[38;5;124;43m\"\u001B[39;49m\u001B[38;5;124;43mpos\u001B[39;49m\u001B[38;5;124;43m\"\u001B[39;49m\u001B[43m,\u001B[49m\u001B[43m \u001B[49m\u001B[43mcheck_finite\u001B[49m\u001B[38;5;241;43m=\u001B[39;49m\u001B[38;5;28;43;01mFalse\u001B[39;49;00m\u001B[43m)\u001B[49m\n\u001B[1;32m   1531\u001B[0m \u001B[38;5;28;01mexcept\u001B[39;00m (\u001B[38;5;167;01mValueError\u001B[39;00m, LinAlgError) \u001B[38;5;28;01mas\u001B[39;00m e:\n",
      "File \u001B[0;32m~/Documents/École/Université/M2/M2_S1/Challenge_Credit_Logement/venv/lib/python3.10/site-packages/scipy/linalg/_basic.py:254\u001B[0m, in \u001B[0;36msolve\u001B[0;34m(a, b, lower, overwrite_a, overwrite_b, check_finite, assume_a, transposed)\u001B[0m\n\u001B[1;32m    251\u001B[0m lu, x, info \u001B[38;5;241m=\u001B[39m posv(a1, b1, lower\u001B[38;5;241m=\u001B[39mlower,\n\u001B[1;32m    252\u001B[0m                    overwrite_a\u001B[38;5;241m=\u001B[39moverwrite_a,\n\u001B[1;32m    253\u001B[0m                    overwrite_b\u001B[38;5;241m=\u001B[39moverwrite_b)\n\u001B[0;32m--> 254\u001B[0m \u001B[43m_solve_check\u001B[49m\u001B[43m(\u001B[49m\u001B[43mn\u001B[49m\u001B[43m,\u001B[49m\u001B[43m \u001B[49m\u001B[43minfo\u001B[49m\u001B[43m)\u001B[49m\n\u001B[1;32m    255\u001B[0m rcond, info \u001B[38;5;241m=\u001B[39m pocon(lu, anorm)\n",
      "File \u001B[0;32m~/Documents/École/Université/M2/M2_S1/Challenge_Credit_Logement/venv/lib/python3.10/site-packages/scipy/linalg/_basic.py:41\u001B[0m, in \u001B[0;36m_solve_check\u001B[0;34m(n, info, lamch, rcond)\u001B[0m\n\u001B[1;32m     40\u001B[0m \u001B[38;5;28;01melif\u001B[39;00m \u001B[38;5;241m0\u001B[39m \u001B[38;5;241m<\u001B[39m info:\n\u001B[0;32m---> 41\u001B[0m     \u001B[38;5;28;01mraise\u001B[39;00m LinAlgError(\u001B[38;5;124m'\u001B[39m\u001B[38;5;124mMatrix is singular.\u001B[39m\u001B[38;5;124m'\u001B[39m)\n\u001B[1;32m     43\u001B[0m \u001B[38;5;28;01mif\u001B[39;00m lamch \u001B[38;5;129;01mis\u001B[39;00m \u001B[38;5;28;01mNone\u001B[39;00m:\n",
      "\u001B[0;31mLinAlgError\u001B[0m: Matrix is singular.",
      "\nDuring handling of the above exception, another exception occurred:\n",
      "\u001B[0;31mConvergenceError\u001B[0m                          Traceback (most recent call last)",
      "Cell \u001B[0;32mIn[18], line 3\u001B[0m\n\u001B[1;32m      1\u001B[0m cph \u001B[38;5;241m=\u001B[39m CoxPHFitter()\n\u001B[0;32m----> 3\u001B[0m \u001B[43mcph\u001B[49m\u001B[38;5;241;43m.\u001B[39;49m\u001B[43mfit\u001B[49m\u001B[43m(\u001B[49m\u001B[43mdata_haz\u001B[49m\u001B[43m,\u001B[49m\u001B[43m \u001B[49m\u001B[43mduration_col\u001B[49m\u001B[38;5;241;43m=\u001B[39;49m\u001B[38;5;124;43m'\u001B[39;49m\u001B[38;5;124;43mSurvie\u001B[39;49m\u001B[38;5;124;43m'\u001B[39;49m\u001B[43m,\u001B[49m\u001B[43m \u001B[49m\u001B[43mevent_col\u001B[49m\u001B[38;5;241;43m=\u001B[39;49m\u001B[38;5;124;43m'\u001B[39;49m\u001B[38;5;124;43mfl_pass_DET\u001B[39;49m\u001B[38;5;124;43m'\u001B[39;49m\u001B[43m)\u001B[49m\n\u001B[1;32m      5\u001B[0m \u001B[38;5;66;03m# Affichage du résumé du modèle\u001B[39;00m\n\u001B[1;32m      6\u001B[0m \u001B[38;5;28mprint\u001B[39m(cph\u001B[38;5;241m.\u001B[39msummary)\n",
      "File \u001B[0;32m~/Documents/École/Université/M2/M2_S1/Challenge_Credit_Logement/venv/lib/python3.10/site-packages/lifelines/utils/__init__.py:56\u001B[0m, in \u001B[0;36mCensoringType.right_censoring.<locals>.f\u001B[0;34m(model, *args, **kwargs)\u001B[0m\n\u001B[1;32m     53\u001B[0m \u001B[38;5;129m@wraps\u001B[39m(function)\n\u001B[1;32m     54\u001B[0m \u001B[38;5;28;01mdef\u001B[39;00m \u001B[38;5;21mf\u001B[39m(model, \u001B[38;5;241m*\u001B[39margs, \u001B[38;5;241m*\u001B[39m\u001B[38;5;241m*\u001B[39mkwargs):\n\u001B[1;32m     55\u001B[0m     \u001B[38;5;28mcls\u001B[39m\u001B[38;5;241m.\u001B[39mset_censoring_type(model, \u001B[38;5;28mcls\u001B[39m\u001B[38;5;241m.\u001B[39mRIGHT)\n\u001B[0;32m---> 56\u001B[0m     \u001B[38;5;28;01mreturn\u001B[39;00m \u001B[43mfunction\u001B[49m\u001B[43m(\u001B[49m\u001B[43mmodel\u001B[49m\u001B[43m,\u001B[49m\u001B[43m \u001B[49m\u001B[38;5;241;43m*\u001B[39;49m\u001B[43margs\u001B[49m\u001B[43m,\u001B[49m\u001B[43m \u001B[49m\u001B[38;5;241;43m*\u001B[39;49m\u001B[38;5;241;43m*\u001B[39;49m\u001B[43mkwargs\u001B[49m\u001B[43m)\u001B[49m\n",
      "File \u001B[0;32m~/Documents/École/Université/M2/M2_S1/Challenge_Credit_Logement/venv/lib/python3.10/site-packages/lifelines/fitters/coxph_fitter.py:290\u001B[0m, in \u001B[0;36mCoxPHFitter.fit\u001B[0;34m(self, df, duration_col, event_col, show_progress, initial_point, strata, weights_col, cluster_col, robust, batch_mode, timeline, formula, entry_col, fit_options)\u001B[0m\n\u001B[1;32m    184\u001B[0m \u001B[38;5;250m\u001B[39m\u001B[38;5;124;03m\"\"\"\u001B[39;00m\n\u001B[1;32m    185\u001B[0m \u001B[38;5;124;03mFit the Cox proportional hazard model to a right-censored dataset. Alias of `fit_right_censoring`.\u001B[39;00m\n\u001B[1;32m    186\u001B[0m \n\u001B[0;32m   (...)\u001B[0m\n\u001B[1;32m    287\u001B[0m \n\u001B[1;32m    288\u001B[0m \u001B[38;5;124;03m\"\"\"\u001B[39;00m\n\u001B[1;32m    289\u001B[0m \u001B[38;5;28mself\u001B[39m\u001B[38;5;241m.\u001B[39mstrata \u001B[38;5;241m=\u001B[39m utils\u001B[38;5;241m.\u001B[39m_to_list_or_singleton(utils\u001B[38;5;241m.\u001B[39mcoalesce(strata, \u001B[38;5;28mself\u001B[39m\u001B[38;5;241m.\u001B[39mstrata))\n\u001B[0;32m--> 290\u001B[0m \u001B[38;5;28mself\u001B[39m\u001B[38;5;241m.\u001B[39m_model \u001B[38;5;241m=\u001B[39m \u001B[38;5;28;43mself\u001B[39;49m\u001B[38;5;241;43m.\u001B[39;49m\u001B[43m_fit_model\u001B[49m\u001B[43m(\u001B[49m\n\u001B[1;32m    291\u001B[0m \u001B[43m    \u001B[49m\u001B[43mdf\u001B[49m\u001B[43m,\u001B[49m\n\u001B[1;32m    292\u001B[0m \u001B[43m    \u001B[49m\u001B[43mduration_col\u001B[49m\u001B[43m,\u001B[49m\n\u001B[1;32m    293\u001B[0m \u001B[43m    \u001B[49m\u001B[43mevent_col\u001B[49m\u001B[38;5;241;43m=\u001B[39;49m\u001B[43mevent_col\u001B[49m\u001B[43m,\u001B[49m\n\u001B[1;32m    294\u001B[0m \u001B[43m    \u001B[49m\u001B[43mshow_progress\u001B[49m\u001B[38;5;241;43m=\u001B[39;49m\u001B[43mshow_progress\u001B[49m\u001B[43m,\u001B[49m\n\u001B[1;32m    295\u001B[0m \u001B[43m    \u001B[49m\u001B[43minitial_point\u001B[49m\u001B[38;5;241;43m=\u001B[39;49m\u001B[43minitial_point\u001B[49m\u001B[43m,\u001B[49m\n\u001B[1;32m    296\u001B[0m \u001B[43m    \u001B[49m\u001B[43mstrata\u001B[49m\u001B[38;5;241;43m=\u001B[39;49m\u001B[38;5;28;43mself\u001B[39;49m\u001B[38;5;241;43m.\u001B[39;49m\u001B[43mstrata\u001B[49m\u001B[43m,\u001B[49m\n\u001B[1;32m    297\u001B[0m \u001B[43m    \u001B[49m\u001B[43mweights_col\u001B[49m\u001B[38;5;241;43m=\u001B[39;49m\u001B[43mweights_col\u001B[49m\u001B[43m,\u001B[49m\n\u001B[1;32m    298\u001B[0m \u001B[43m    \u001B[49m\u001B[43mcluster_col\u001B[49m\u001B[38;5;241;43m=\u001B[39;49m\u001B[43mcluster_col\u001B[49m\u001B[43m,\u001B[49m\n\u001B[1;32m    299\u001B[0m \u001B[43m    \u001B[49m\u001B[43mrobust\u001B[49m\u001B[38;5;241;43m=\u001B[39;49m\u001B[43mrobust\u001B[49m\u001B[43m,\u001B[49m\n\u001B[1;32m    300\u001B[0m \u001B[43m    \u001B[49m\u001B[43mbatch_mode\u001B[49m\u001B[38;5;241;43m=\u001B[39;49m\u001B[43mbatch_mode\u001B[49m\u001B[43m,\u001B[49m\n\u001B[1;32m    301\u001B[0m \u001B[43m    \u001B[49m\u001B[43mtimeline\u001B[49m\u001B[38;5;241;43m=\u001B[39;49m\u001B[43mtimeline\u001B[49m\u001B[43m,\u001B[49m\n\u001B[1;32m    302\u001B[0m \u001B[43m    \u001B[49m\u001B[43mformula\u001B[49m\u001B[38;5;241;43m=\u001B[39;49m\u001B[43mformula\u001B[49m\u001B[43m,\u001B[49m\n\u001B[1;32m    303\u001B[0m \u001B[43m    \u001B[49m\u001B[43mentry_col\u001B[49m\u001B[38;5;241;43m=\u001B[39;49m\u001B[43mentry_col\u001B[49m\u001B[43m,\u001B[49m\n\u001B[1;32m    304\u001B[0m \u001B[43m    \u001B[49m\u001B[43mfit_options\u001B[49m\u001B[38;5;241;43m=\u001B[39;49m\u001B[43mfit_options\u001B[49m\u001B[43m,\u001B[49m\n\u001B[1;32m    305\u001B[0m \u001B[43m\u001B[49m\u001B[43m)\u001B[49m\n\u001B[1;32m    306\u001B[0m \u001B[38;5;28;01mreturn\u001B[39;00m \u001B[38;5;28mself\u001B[39m\n",
      "File \u001B[0;32m~/Documents/École/Université/M2/M2_S1/Challenge_Credit_Logement/venv/lib/python3.10/site-packages/lifelines/fitters/coxph_fitter.py:610\u001B[0m, in \u001B[0;36mCoxPHFitter._fit_model\u001B[0;34m(self, *args, **kwargs)\u001B[0m\n\u001B[1;32m    608\u001B[0m \u001B[38;5;28;01mdef\u001B[39;00m \u001B[38;5;21m_fit_model\u001B[39m(\u001B[38;5;28mself\u001B[39m, \u001B[38;5;241m*\u001B[39margs, \u001B[38;5;241m*\u001B[39m\u001B[38;5;241m*\u001B[39mkwargs):\n\u001B[1;32m    609\u001B[0m     \u001B[38;5;28;01mif\u001B[39;00m \u001B[38;5;28mself\u001B[39m\u001B[38;5;241m.\u001B[39mbaseline_estimation_method \u001B[38;5;241m==\u001B[39m \u001B[38;5;124m\"\u001B[39m\u001B[38;5;124mbreslow\u001B[39m\u001B[38;5;124m\"\u001B[39m:\n\u001B[0;32m--> 610\u001B[0m         \u001B[38;5;28;01mreturn\u001B[39;00m \u001B[38;5;28;43mself\u001B[39;49m\u001B[38;5;241;43m.\u001B[39;49m\u001B[43m_fit_model_breslow\u001B[49m\u001B[43m(\u001B[49m\u001B[38;5;241;43m*\u001B[39;49m\u001B[43margs\u001B[49m\u001B[43m,\u001B[49m\u001B[43m \u001B[49m\u001B[38;5;241;43m*\u001B[39;49m\u001B[38;5;241;43m*\u001B[39;49m\u001B[43mkwargs\u001B[49m\u001B[43m)\u001B[49m\n\u001B[1;32m    611\u001B[0m     \u001B[38;5;28;01melif\u001B[39;00m \u001B[38;5;28mself\u001B[39m\u001B[38;5;241m.\u001B[39mbaseline_estimation_method \u001B[38;5;241m==\u001B[39m \u001B[38;5;124m\"\u001B[39m\u001B[38;5;124mspline\u001B[39m\u001B[38;5;124m\"\u001B[39m:\n\u001B[1;32m    612\u001B[0m         \u001B[38;5;28;01mreturn\u001B[39;00m \u001B[38;5;28mself\u001B[39m\u001B[38;5;241m.\u001B[39m_fit_model_spline(\u001B[38;5;241m*\u001B[39margs, \u001B[38;5;241m*\u001B[39m\u001B[38;5;241m*\u001B[39mkwargs)\n",
      "File \u001B[0;32m~/Documents/École/Université/M2/M2_S1/Challenge_Credit_Logement/venv/lib/python3.10/site-packages/lifelines/fitters/coxph_fitter.py:623\u001B[0m, in \u001B[0;36mCoxPHFitter._fit_model_breslow\u001B[0;34m(self, *args, **kwargs)\u001B[0m\n\u001B[1;32m    619\u001B[0m model \u001B[38;5;241m=\u001B[39m SemiParametricPHFitter(\n\u001B[1;32m    620\u001B[0m     penalizer\u001B[38;5;241m=\u001B[39m\u001B[38;5;28mself\u001B[39m\u001B[38;5;241m.\u001B[39mpenalizer, l1_ratio\u001B[38;5;241m=\u001B[39m\u001B[38;5;28mself\u001B[39m\u001B[38;5;241m.\u001B[39ml1_ratio, strata\u001B[38;5;241m=\u001B[39m\u001B[38;5;28mself\u001B[39m\u001B[38;5;241m.\u001B[39mstrata, alpha\u001B[38;5;241m=\u001B[39m\u001B[38;5;28mself\u001B[39m\u001B[38;5;241m.\u001B[39malpha, label\u001B[38;5;241m=\u001B[39m\u001B[38;5;28mself\u001B[39m\u001B[38;5;241m.\u001B[39m_label\n\u001B[1;32m    621\u001B[0m )\n\u001B[1;32m    622\u001B[0m \u001B[38;5;28;01mif\u001B[39;00m utils\u001B[38;5;241m.\u001B[39mCensoringType\u001B[38;5;241m.\u001B[39mis_right_censoring(\u001B[38;5;28mself\u001B[39m):\n\u001B[0;32m--> 623\u001B[0m     \u001B[43mmodel\u001B[49m\u001B[38;5;241;43m.\u001B[39;49m\u001B[43mfit\u001B[49m\u001B[43m(\u001B[49m\u001B[38;5;241;43m*\u001B[39;49m\u001B[43margs\u001B[49m\u001B[43m,\u001B[49m\u001B[43m \u001B[49m\u001B[38;5;241;43m*\u001B[39;49m\u001B[38;5;241;43m*\u001B[39;49m\u001B[43mkwargs\u001B[49m\u001B[43m)\u001B[49m\n\u001B[1;32m    624\u001B[0m     \u001B[38;5;28;01mreturn\u001B[39;00m model\n\u001B[1;32m    625\u001B[0m \u001B[38;5;28;01melse\u001B[39;00m:\n",
      "File \u001B[0;32m~/Documents/École/Université/M2/M2_S1/Challenge_Credit_Logement/venv/lib/python3.10/site-packages/lifelines/utils/__init__.py:56\u001B[0m, in \u001B[0;36mCensoringType.right_censoring.<locals>.f\u001B[0;34m(model, *args, **kwargs)\u001B[0m\n\u001B[1;32m     53\u001B[0m \u001B[38;5;129m@wraps\u001B[39m(function)\n\u001B[1;32m     54\u001B[0m \u001B[38;5;28;01mdef\u001B[39;00m \u001B[38;5;21mf\u001B[39m(model, \u001B[38;5;241m*\u001B[39margs, \u001B[38;5;241m*\u001B[39m\u001B[38;5;241m*\u001B[39mkwargs):\n\u001B[1;32m     55\u001B[0m     \u001B[38;5;28mcls\u001B[39m\u001B[38;5;241m.\u001B[39mset_censoring_type(model, \u001B[38;5;28mcls\u001B[39m\u001B[38;5;241m.\u001B[39mRIGHT)\n\u001B[0;32m---> 56\u001B[0m     \u001B[38;5;28;01mreturn\u001B[39;00m \u001B[43mfunction\u001B[49m\u001B[43m(\u001B[49m\u001B[43mmodel\u001B[49m\u001B[43m,\u001B[49m\u001B[43m \u001B[49m\u001B[38;5;241;43m*\u001B[39;49m\u001B[43margs\u001B[49m\u001B[43m,\u001B[49m\u001B[43m \u001B[49m\u001B[38;5;241;43m*\u001B[39;49m\u001B[38;5;241;43m*\u001B[39;49m\u001B[43mkwargs\u001B[49m\u001B[43m)\u001B[49m\n",
      "File \u001B[0;32m~/Documents/École/Université/M2/M2_S1/Challenge_Credit_Logement/venv/lib/python3.10/site-packages/lifelines/fitters/coxph_fitter.py:1252\u001B[0m, in \u001B[0;36mSemiParametricPHFitter.fit\u001B[0;34m(self, df, duration_col, event_col, show_progress, initial_point, strata, weights_col, cluster_col, robust, batch_mode, timeline, formula, entry_col, fit_options)\u001B[0m\n\u001B[1;32m   1247\u001B[0m \u001B[38;5;66;03m# this is surprisingly faster to do...\u001B[39;00m\n\u001B[1;32m   1248\u001B[0m X_norm \u001B[38;5;241m=\u001B[39m pd\u001B[38;5;241m.\u001B[39mDataFrame(\n\u001B[1;32m   1249\u001B[0m     utils\u001B[38;5;241m.\u001B[39mnormalize(X\u001B[38;5;241m.\u001B[39mvalues, \u001B[38;5;28mself\u001B[39m\u001B[38;5;241m.\u001B[39m_norm_mean\u001B[38;5;241m.\u001B[39mvalues, \u001B[38;5;28mself\u001B[39m\u001B[38;5;241m.\u001B[39m_norm_std\u001B[38;5;241m.\u001B[39mvalues), index\u001B[38;5;241m=\u001B[39mX\u001B[38;5;241m.\u001B[39mindex, columns\u001B[38;5;241m=\u001B[39mX\u001B[38;5;241m.\u001B[39mcolumns\n\u001B[1;32m   1250\u001B[0m )\n\u001B[0;32m-> 1252\u001B[0m params_, ll_, variance_matrix_, baseline_hazard_, baseline_cumulative_hazard_, model \u001B[38;5;241m=\u001B[39m \u001B[38;5;28;43mself\u001B[39;49m\u001B[38;5;241;43m.\u001B[39;49m\u001B[43m_fit_model\u001B[49m\u001B[43m(\u001B[49m\n\u001B[1;32m   1253\u001B[0m \u001B[43m    \u001B[49m\u001B[43mX_norm\u001B[49m\u001B[43m,\u001B[49m\n\u001B[1;32m   1254\u001B[0m \u001B[43m    \u001B[49m\u001B[43mT\u001B[49m\u001B[43m,\u001B[49m\n\u001B[1;32m   1255\u001B[0m \u001B[43m    \u001B[49m\u001B[43mE\u001B[49m\u001B[43m,\u001B[49m\n\u001B[1;32m   1256\u001B[0m \u001B[43m    \u001B[49m\u001B[43mweights\u001B[49m\u001B[38;5;241;43m=\u001B[39;49m\u001B[43mweights\u001B[49m\u001B[43m,\u001B[49m\n\u001B[1;32m   1257\u001B[0m \u001B[43m    \u001B[49m\u001B[43mentries\u001B[49m\u001B[38;5;241;43m=\u001B[39;49m\u001B[43mentries\u001B[49m\u001B[43m,\u001B[49m\n\u001B[1;32m   1258\u001B[0m \u001B[43m    \u001B[49m\u001B[43mfit_options\u001B[49m\u001B[38;5;241;43m=\u001B[39;49m\u001B[43mutils\u001B[49m\u001B[38;5;241;43m.\u001B[39;49m\u001B[43mcoalesce\u001B[49m\u001B[43m(\u001B[49m\u001B[43mfit_options\u001B[49m\u001B[43m,\u001B[49m\u001B[43m \u001B[49m\u001B[38;5;28;43mdict\u001B[39;49m\u001B[43m(\u001B[49m\u001B[43m)\u001B[49m\u001B[43m)\u001B[49m\u001B[43m,\u001B[49m\n\u001B[1;32m   1259\u001B[0m \u001B[43m    \u001B[49m\u001B[43minitial_point\u001B[49m\u001B[38;5;241;43m=\u001B[39;49m\u001B[43minitial_point\u001B[49m\u001B[43m,\u001B[49m\n\u001B[1;32m   1260\u001B[0m \u001B[43m    \u001B[49m\u001B[43mshow_progress\u001B[49m\u001B[38;5;241;43m=\u001B[39;49m\u001B[43mshow_progress\u001B[49m\u001B[43m,\u001B[49m\n\u001B[1;32m   1261\u001B[0m \u001B[43m\u001B[49m\u001B[43m)\u001B[49m\n\u001B[1;32m   1263\u001B[0m \u001B[38;5;28mself\u001B[39m\u001B[38;5;241m.\u001B[39mlog_likelihood_ \u001B[38;5;241m=\u001B[39m ll_\n\u001B[1;32m   1264\u001B[0m \u001B[38;5;28mself\u001B[39m\u001B[38;5;241m.\u001B[39mmodel \u001B[38;5;241m=\u001B[39m model\n",
      "File \u001B[0;32m~/Documents/École/Université/M2/M2_S1/Challenge_Credit_Logement/venv/lib/python3.10/site-packages/lifelines/fitters/coxph_fitter.py:1380\u001B[0m, in \u001B[0;36mSemiParametricPHFitter._fit_model\u001B[0;34m(self, X, T, E, weights, entries, fit_options, initial_point, show_progress)\u001B[0m\n\u001B[1;32m   1369\u001B[0m \u001B[38;5;28;01mdef\u001B[39;00m \u001B[38;5;21m_fit_model\u001B[39m(\n\u001B[1;32m   1370\u001B[0m     \u001B[38;5;28mself\u001B[39m,\n\u001B[1;32m   1371\u001B[0m     X: DataFrame,\n\u001B[0;32m   (...)\u001B[0m\n\u001B[1;32m   1378\u001B[0m     show_progress: \u001B[38;5;28mbool\u001B[39m \u001B[38;5;241m=\u001B[39m \u001B[38;5;28;01mTrue\u001B[39;00m,\n\u001B[1;32m   1379\u001B[0m ):\n\u001B[0;32m-> 1380\u001B[0m     beta_, ll_, hessian_ \u001B[38;5;241m=\u001B[39m \u001B[38;5;28;43mself\u001B[39;49m\u001B[38;5;241;43m.\u001B[39;49m\u001B[43m_newton_raphson_for_efron_model\u001B[49m\u001B[43m(\u001B[49m\n\u001B[1;32m   1381\u001B[0m \u001B[43m        \u001B[49m\u001B[43mX\u001B[49m\u001B[43m,\u001B[49m\n\u001B[1;32m   1382\u001B[0m \u001B[43m        \u001B[49m\u001B[43mT\u001B[49m\u001B[43m,\u001B[49m\n\u001B[1;32m   1383\u001B[0m \u001B[43m        \u001B[49m\u001B[43mE\u001B[49m\u001B[43m,\u001B[49m\n\u001B[1;32m   1384\u001B[0m \u001B[43m        \u001B[49m\u001B[43mweights\u001B[49m\u001B[43m,\u001B[49m\n\u001B[1;32m   1385\u001B[0m \u001B[43m        \u001B[49m\u001B[43mentries\u001B[49m\u001B[43m,\u001B[49m\n\u001B[1;32m   1386\u001B[0m \u001B[43m        \u001B[49m\u001B[43minitial_point\u001B[49m\u001B[38;5;241;43m=\u001B[39;49m\u001B[43minitial_point\u001B[49m\u001B[43m,\u001B[49m\n\u001B[1;32m   1387\u001B[0m \u001B[43m        \u001B[49m\u001B[43mshow_progress\u001B[49m\u001B[38;5;241;43m=\u001B[39;49m\u001B[43mshow_progress\u001B[49m\u001B[43m,\u001B[49m\n\u001B[1;32m   1388\u001B[0m \u001B[43m        \u001B[49m\u001B[38;5;241;43m*\u001B[39;49m\u001B[38;5;241;43m*\u001B[39;49m\u001B[43mfit_options\u001B[49m\u001B[43m,\u001B[49m\n\u001B[1;32m   1389\u001B[0m \u001B[43m    \u001B[49m\u001B[43m)\u001B[49m\n\u001B[1;32m   1391\u001B[0m     \u001B[38;5;66;03m# compute the baseline hazard here.\u001B[39;00m\n\u001B[1;32m   1392\u001B[0m     predicted_partial_hazards_ \u001B[38;5;241m=\u001B[39m (\n\u001B[1;32m   1393\u001B[0m         pd\u001B[38;5;241m.\u001B[39mDataFrame(np\u001B[38;5;241m.\u001B[39mexp(dot(X, beta_)), columns\u001B[38;5;241m=\u001B[39m[\u001B[38;5;124m\"\u001B[39m\u001B[38;5;124mP\u001B[39m\u001B[38;5;124m\"\u001B[39m])\u001B[38;5;241m.\u001B[39massign(T\u001B[38;5;241m=\u001B[39mT\u001B[38;5;241m.\u001B[39mvalues, E\u001B[38;5;241m=\u001B[39mE\u001B[38;5;241m.\u001B[39mvalues, W\u001B[38;5;241m=\u001B[39mweights\u001B[38;5;241m.\u001B[39mvalues)\u001B[38;5;241m.\u001B[39mset_index(X\u001B[38;5;241m.\u001B[39mindex)\n\u001B[1;32m   1394\u001B[0m     )\n",
      "File \u001B[0;32m~/Documents/École/Université/M2/M2_S1/Challenge_Credit_Logement/venv/lib/python3.10/site-packages/lifelines/fitters/coxph_fitter.py:1539\u001B[0m, in \u001B[0;36mSemiParametricPHFitter._newton_raphson_for_efron_model\u001B[0;34m(self, X, T, E, weights, entries, initial_point, show_progress, step_size, precision, r_precision, max_steps)\u001B[0m\n\u001B[1;32m   1534\u001B[0m     \u001B[38;5;28;01mraise\u001B[39;00m exceptions\u001B[38;5;241m.\u001B[39mConvergenceError(\n\u001B[1;32m   1535\u001B[0m \u001B[38;5;250m        \u001B[39m\u001B[38;5;124;03m\"\"\"Hessian or gradient contains nan or inf value(s). Convergence halted. {0}\"\"\"\u001B[39;00m\u001B[38;5;241m.\u001B[39mformat(CONVERGENCE_DOCS),\n\u001B[1;32m   1536\u001B[0m         e,\n\u001B[1;32m   1537\u001B[0m     )\n\u001B[1;32m   1538\u001B[0m \u001B[38;5;28;01melif\u001B[39;00m \u001B[38;5;28misinstance\u001B[39m(e, LinAlgError):\n\u001B[0;32m-> 1539\u001B[0m     \u001B[38;5;28;01mraise\u001B[39;00m exceptions\u001B[38;5;241m.\u001B[39mConvergenceError(\n\u001B[1;32m   1540\u001B[0m \u001B[38;5;250m        \u001B[39m\u001B[38;5;124;03m\"\"\"Convergence halted due to matrix inversion problems. Suspicion is high collinearity. {0}\"\"\"\u001B[39;00m\u001B[38;5;241m.\u001B[39mformat(\n\u001B[1;32m   1541\u001B[0m             CONVERGENCE_DOCS\n\u001B[1;32m   1542\u001B[0m         ),\n\u001B[1;32m   1543\u001B[0m         e,\n\u001B[1;32m   1544\u001B[0m     )\n\u001B[1;32m   1545\u001B[0m \u001B[38;5;28;01melse\u001B[39;00m:\n\u001B[1;32m   1546\u001B[0m     \u001B[38;5;66;03m# something else?\u001B[39;00m\n\u001B[1;32m   1547\u001B[0m     \u001B[38;5;28;01mraise\u001B[39;00m e\n",
      "\u001B[0;31mConvergenceError\u001B[0m: Convergence halted due to matrix inversion problems. Suspicion is high collinearity. Please see the following tips in the lifelines documentation: https://lifelines.readthedocs.io/en/latest/Examples.html#problems-with-convergence-in-the-cox-proportional-hazard-modelMatrix is singular."
     ]
    }
   ],
   "source": [
    "cph = CoxPHFitter()\n",
    "\n",
    "cph.fit(data_haz, duration_col='Survie', event_col='fl_pass_DET')\n",
    "\n",
    "# Affichage du résumé du modèle\n",
    "print(cph.summary)"
   ],
   "metadata": {
    "collapsed": false,
    "ExecuteTime": {
     "end_time": "2024-01-07T09:56:31.260435Z",
     "start_time": "2024-01-07T09:56:28.825590Z"
    }
   },
   "id": "8a316d936bcf00fe"
  },
  {
   "cell_type": "code",
   "execution_count": 97,
   "outputs": [
    {
     "ename": "AttributeError",
     "evalue": "Must call `fit` first.",
     "output_type": "error",
     "traceback": [
      "\u001B[0;31m---------------------------------------------------------------------------\u001B[0m",
      "\u001B[0;31mAttributeError\u001B[0m                            Traceback (most recent call last)",
      "Cell \u001B[0;32mIn[97], line 1\u001B[0m\n\u001B[0;32m----> 1\u001B[0m \u001B[43mcph\u001B[49m\u001B[38;5;241;43m.\u001B[39;49m\u001B[43mcheck_assumptions\u001B[49m\u001B[43m(\u001B[49m\u001B[43mdata_haz\u001B[49m\u001B[43m,\u001B[49m\u001B[43m \u001B[49m\u001B[43mp_value_threshold\u001B[49m\u001B[38;5;241;43m=\u001B[39;49m\u001B[38;5;241;43m0.05\u001B[39;49m\u001B[43m,\u001B[49m\u001B[43m \u001B[49m\u001B[43mshow_plots\u001B[49m\u001B[38;5;241;43m=\u001B[39;49m\u001B[38;5;28;43;01mTrue\u001B[39;49;00m\u001B[43m)\u001B[49m\n",
      "File \u001B[0;32m~/Documents/École/Université/M2/M2_S1/Challenge_Credit_Logement/venv/lib/python3.10/site-packages/lifelines/fitters/mixins.py:98\u001B[0m, in \u001B[0;36mProportionalHazardMixin.check_assumptions\u001B[0;34m(self, training_df, advice, show_plots, p_value_threshold, plot_n_bootstraps, columns)\u001B[0m\n\u001B[1;32m     93\u001B[0m \u001B[38;5;28;01mif\u001B[39;00m \u001B[38;5;129;01mnot\u001B[39;00m training_df\u001B[38;5;241m.\u001B[39mindex\u001B[38;5;241m.\u001B[39mis_unique:\n\u001B[1;32m     94\u001B[0m     \u001B[38;5;28;01mraise\u001B[39;00m \u001B[38;5;167;01mIndexError\u001B[39;00m(\n\u001B[1;32m     95\u001B[0m         \u001B[38;5;124m\"\u001B[39m\u001B[38;5;124m`training_df` index should be unique for this exercise. Please make it unique or use `.reset_index(drop=True)` to force a unique index\u001B[39m\u001B[38;5;124m\"\u001B[39m\n\u001B[1;32m     96\u001B[0m     )\n\u001B[0;32m---> 98\u001B[0m residuals \u001B[38;5;241m=\u001B[39m \u001B[38;5;28;43mself\u001B[39;49m\u001B[38;5;241;43m.\u001B[39;49m\u001B[43mcompute_residuals\u001B[49m\u001B[43m(\u001B[49m\u001B[43mtraining_df\u001B[49m\u001B[43m,\u001B[49m\u001B[43m \u001B[49m\u001B[43mkind\u001B[49m\u001B[38;5;241;43m=\u001B[39;49m\u001B[38;5;124;43m\"\u001B[39;49m\u001B[38;5;124;43mscaled_schoenfeld\u001B[39;49m\u001B[38;5;124;43m\"\u001B[39;49m\u001B[43m)\u001B[49m\n\u001B[1;32m     99\u001B[0m test_results \u001B[38;5;241m=\u001B[39m proportional_hazard_test(\u001B[38;5;28mself\u001B[39m, training_df, time_transform\u001B[38;5;241m=\u001B[39m[\u001B[38;5;124m\"\u001B[39m\u001B[38;5;124mrank\u001B[39m\u001B[38;5;124m\"\u001B[39m, \u001B[38;5;124m\"\u001B[39m\u001B[38;5;124mkm\u001B[39m\u001B[38;5;124m\"\u001B[39m], precomputed_residuals\u001B[38;5;241m=\u001B[39mresiduals)\n\u001B[1;32m    101\u001B[0m residuals_and_duration \u001B[38;5;241m=\u001B[39m residuals\u001B[38;5;241m.\u001B[39mjoin(training_df[\u001B[38;5;28mself\u001B[39m\u001B[38;5;241m.\u001B[39mduration_col])\n",
      "File \u001B[0;32m~/Documents/École/Université/M2/M2_S1/Challenge_Credit_Logement/venv/lib/python3.10/site-packages/lifelines/fitters/__init__.py:1328\u001B[0m, in \u001B[0;36mRegressionFitter.compute_residuals\u001B[0;34m(self, training_dataframe, kind)\u001B[0m\n\u001B[1;32m   1310\u001B[0m \u001B[38;5;250m\u001B[39m\u001B[38;5;124;03m\"\"\"\u001B[39;00m\n\u001B[1;32m   1311\u001B[0m \u001B[38;5;124;03mCompute the residuals the model.\u001B[39;00m\n\u001B[1;32m   1312\u001B[0m \n\u001B[0;32m   (...)\u001B[0m\n\u001B[1;32m   1325\u001B[0m \n\u001B[1;32m   1326\u001B[0m \u001B[38;5;124;03m\"\"\"\u001B[39;00m\n\u001B[1;32m   1327\u001B[0m \u001B[38;5;28;01massert\u001B[39;00m kind \u001B[38;5;129;01min\u001B[39;00m \u001B[38;5;28mself\u001B[39m\u001B[38;5;241m.\u001B[39m_ALLOWED_RESIDUALS, \u001B[38;5;124m\"\u001B[39m\u001B[38;5;124mkind must be in \u001B[39m\u001B[38;5;132;01m%s\u001B[39;00m\u001B[38;5;124m\"\u001B[39m \u001B[38;5;241m%\u001B[39m \u001B[38;5;28mself\u001B[39m\u001B[38;5;241m.\u001B[39m_ALLOWED_RESIDUALS\n\u001B[0;32m-> 1328\u001B[0m \u001B[38;5;28;01mif\u001B[39;00m \u001B[38;5;28;43mself\u001B[39;49m\u001B[38;5;241;43m.\u001B[39;49m\u001B[43mentry_col\u001B[49m \u001B[38;5;129;01mis\u001B[39;00m \u001B[38;5;129;01mnot\u001B[39;00m \u001B[38;5;28;01mNone\u001B[39;00m:\n\u001B[1;32m   1329\u001B[0m     \u001B[38;5;28;01mraise\u001B[39;00m \u001B[38;5;167;01mNotImplementedError\u001B[39;00m(\u001B[38;5;124m\"\u001B[39m\u001B[38;5;124mResiduals for entries not implemented.\u001B[39m\u001B[38;5;124m\"\u001B[39m)\n\u001B[1;32m   1331\u001B[0m warnings\u001B[38;5;241m.\u001B[39mfilterwarnings(\u001B[38;5;124m\"\u001B[39m\u001B[38;5;124mignore\u001B[39m\u001B[38;5;124m\"\u001B[39m, category\u001B[38;5;241m=\u001B[39mexceptions\u001B[38;5;241m.\u001B[39mConvergenceWarning)\n",
      "File \u001B[0;32m~/Documents/École/Université/M2/M2_S1/Challenge_Credit_Logement/venv/lib/python3.10/site-packages/lifelines/fitters/coxph_fitter.py:594\u001B[0m, in \u001B[0;36mCoxPHFitter.__getattr__\u001B[0;34m(self, attr)\u001B[0m\n\u001B[1;32m    591\u001B[0m \u001B[38;5;28;01mif\u001B[39;00m attr \u001B[38;5;241m==\u001B[39m \u001B[38;5;124m\"\u001B[39m\u001B[38;5;124m_model\u001B[39m\u001B[38;5;124m\"\u001B[39m:\n\u001B[1;32m    592\u001B[0m     \u001B[38;5;28;01mraise\u001B[39;00m \u001B[38;5;167;01mAttributeError\u001B[39;00m(\u001B[38;5;124m\"\u001B[39m\u001B[38;5;124mMust call `fit` first.\u001B[39m\u001B[38;5;124m\"\u001B[39m)\n\u001B[0;32m--> 594\u001B[0m \u001B[38;5;28;01mif\u001B[39;00m \u001B[38;5;28mhasattr\u001B[39m(\u001B[38;5;28;43mself\u001B[39;49m\u001B[38;5;241;43m.\u001B[39;49m\u001B[43m_model\u001B[49m, attr):\n\u001B[1;32m    595\u001B[0m     \u001B[38;5;28;01mreturn\u001B[39;00m \u001B[38;5;28mgetattr\u001B[39m(\u001B[38;5;28mself\u001B[39m\u001B[38;5;241m.\u001B[39m_model, attr)\n\u001B[1;32m    597\u001B[0m \u001B[38;5;28;01mraise\u001B[39;00m \u001B[38;5;167;01mAttributeError\u001B[39;00m(\u001B[38;5;124m\"\u001B[39m\u001B[38;5;132;01m%s\u001B[39;00m\u001B[38;5;124m has no attribute \u001B[39m\u001B[38;5;124m'\u001B[39m\u001B[38;5;132;01m%s\u001B[39;00m\u001B[38;5;124m'\u001B[39m\u001B[38;5;124m\"\u001B[39m \u001B[38;5;241m%\u001B[39m (\u001B[38;5;28mself\u001B[39m\u001B[38;5;241m.\u001B[39m_class_name, attr))\n",
      "File \u001B[0;32m~/Documents/École/Université/M2/M2_S1/Challenge_Credit_Logement/venv/lib/python3.10/site-packages/lifelines/fitters/coxph_fitter.py:592\u001B[0m, in \u001B[0;36mCoxPHFitter.__getattr__\u001B[0;34m(self, attr)\u001B[0m\n\u001B[1;32m    590\u001B[0m \u001B[38;5;28;01mdef\u001B[39;00m \u001B[38;5;21m__getattr__\u001B[39m(\u001B[38;5;28mself\u001B[39m, attr):\n\u001B[1;32m    591\u001B[0m     \u001B[38;5;28;01mif\u001B[39;00m attr \u001B[38;5;241m==\u001B[39m \u001B[38;5;124m\"\u001B[39m\u001B[38;5;124m_model\u001B[39m\u001B[38;5;124m\"\u001B[39m:\n\u001B[0;32m--> 592\u001B[0m         \u001B[38;5;28;01mraise\u001B[39;00m \u001B[38;5;167;01mAttributeError\u001B[39;00m(\u001B[38;5;124m\"\u001B[39m\u001B[38;5;124mMust call `fit` first.\u001B[39m\u001B[38;5;124m\"\u001B[39m)\n\u001B[1;32m    594\u001B[0m     \u001B[38;5;28;01mif\u001B[39;00m \u001B[38;5;28mhasattr\u001B[39m(\u001B[38;5;28mself\u001B[39m\u001B[38;5;241m.\u001B[39m_model, attr):\n\u001B[1;32m    595\u001B[0m         \u001B[38;5;28;01mreturn\u001B[39;00m \u001B[38;5;28mgetattr\u001B[39m(\u001B[38;5;28mself\u001B[39m\u001B[38;5;241m.\u001B[39m_model, attr)\n",
      "\u001B[0;31mAttributeError\u001B[0m: Must call `fit` first."
     ]
    }
   ],
   "source": [
    "cph.check_assumptions(data_haz, p_value_threshold=0.05, show_plots=True)"
   ],
   "metadata": {
    "collapsed": false,
    "ExecuteTime": {
     "end_time": "2024-01-06T17:03:21.623624Z",
     "start_time": "2024-01-06T17:03:21.413582Z"
    }
   },
   "id": "60e53792f1e08aa"
  },
  {
   "cell_type": "code",
   "execution_count": 98,
   "outputs": [
    {
     "ename": "AttributeError",
     "evalue": "Must call `fit` first.",
     "output_type": "error",
     "traceback": [
      "\u001B[0;31m---------------------------------------------------------------------------\u001B[0m",
      "\u001B[0;31mAttributeError\u001B[0m                            Traceback (most recent call last)",
      "Cell \u001B[0;32mIn[98], line 1\u001B[0m\n\u001B[0;32m----> 1\u001B[0m \u001B[43mcph\u001B[49m\u001B[38;5;241;43m.\u001B[39;49m\u001B[43mplot\u001B[49m()\n",
      "File \u001B[0;32m~/Documents/École/Université/M2/M2_S1/Challenge_Credit_Logement/venv/lib/python3.10/site-packages/lifelines/fitters/coxph_fitter.py:594\u001B[0m, in \u001B[0;36mCoxPHFitter.__getattr__\u001B[0;34m(self, attr)\u001B[0m\n\u001B[1;32m    591\u001B[0m \u001B[38;5;28;01mif\u001B[39;00m attr \u001B[38;5;241m==\u001B[39m \u001B[38;5;124m\"\u001B[39m\u001B[38;5;124m_model\u001B[39m\u001B[38;5;124m\"\u001B[39m:\n\u001B[1;32m    592\u001B[0m     \u001B[38;5;28;01mraise\u001B[39;00m \u001B[38;5;167;01mAttributeError\u001B[39;00m(\u001B[38;5;124m\"\u001B[39m\u001B[38;5;124mMust call `fit` first.\u001B[39m\u001B[38;5;124m\"\u001B[39m)\n\u001B[0;32m--> 594\u001B[0m \u001B[38;5;28;01mif\u001B[39;00m \u001B[38;5;28mhasattr\u001B[39m(\u001B[38;5;28;43mself\u001B[39;49m\u001B[38;5;241;43m.\u001B[39;49m\u001B[43m_model\u001B[49m, attr):\n\u001B[1;32m    595\u001B[0m     \u001B[38;5;28;01mreturn\u001B[39;00m \u001B[38;5;28mgetattr\u001B[39m(\u001B[38;5;28mself\u001B[39m\u001B[38;5;241m.\u001B[39m_model, attr)\n\u001B[1;32m    597\u001B[0m \u001B[38;5;28;01mraise\u001B[39;00m \u001B[38;5;167;01mAttributeError\u001B[39;00m(\u001B[38;5;124m\"\u001B[39m\u001B[38;5;132;01m%s\u001B[39;00m\u001B[38;5;124m has no attribute \u001B[39m\u001B[38;5;124m'\u001B[39m\u001B[38;5;132;01m%s\u001B[39;00m\u001B[38;5;124m'\u001B[39m\u001B[38;5;124m\"\u001B[39m \u001B[38;5;241m%\u001B[39m (\u001B[38;5;28mself\u001B[39m\u001B[38;5;241m.\u001B[39m_class_name, attr))\n",
      "File \u001B[0;32m~/Documents/École/Université/M2/M2_S1/Challenge_Credit_Logement/venv/lib/python3.10/site-packages/lifelines/fitters/coxph_fitter.py:592\u001B[0m, in \u001B[0;36mCoxPHFitter.__getattr__\u001B[0;34m(self, attr)\u001B[0m\n\u001B[1;32m    590\u001B[0m \u001B[38;5;28;01mdef\u001B[39;00m \u001B[38;5;21m__getattr__\u001B[39m(\u001B[38;5;28mself\u001B[39m, attr):\n\u001B[1;32m    591\u001B[0m     \u001B[38;5;28;01mif\u001B[39;00m attr \u001B[38;5;241m==\u001B[39m \u001B[38;5;124m\"\u001B[39m\u001B[38;5;124m_model\u001B[39m\u001B[38;5;124m\"\u001B[39m:\n\u001B[0;32m--> 592\u001B[0m         \u001B[38;5;28;01mraise\u001B[39;00m \u001B[38;5;167;01mAttributeError\u001B[39;00m(\u001B[38;5;124m\"\u001B[39m\u001B[38;5;124mMust call `fit` first.\u001B[39m\u001B[38;5;124m\"\u001B[39m)\n\u001B[1;32m    594\u001B[0m     \u001B[38;5;28;01mif\u001B[39;00m \u001B[38;5;28mhasattr\u001B[39m(\u001B[38;5;28mself\u001B[39m\u001B[38;5;241m.\u001B[39m_model, attr):\n\u001B[1;32m    595\u001B[0m         \u001B[38;5;28;01mreturn\u001B[39;00m \u001B[38;5;28mgetattr\u001B[39m(\u001B[38;5;28mself\u001B[39m\u001B[38;5;241m.\u001B[39m_model, attr)\n",
      "\u001B[0;31mAttributeError\u001B[0m: Must call `fit` first."
     ]
    }
   ],
   "source": [
    "cph.plot()"
   ],
   "metadata": {
    "collapsed": false,
    "ExecuteTime": {
     "end_time": "2024-01-06T17:03:21.941300Z",
     "start_time": "2024-01-06T17:03:21.794257Z"
    }
   },
   "id": "f7a1af32350eb85c"
  },
  {
   "cell_type": "code",
   "execution_count": null,
   "outputs": [],
   "source": [],
   "metadata": {
    "collapsed": false
   },
   "id": "59903bf750687490"
  }
 ],
 "metadata": {
  "kernelspec": {
   "display_name": "Python 3",
   "language": "python",
   "name": "python3"
  },
  "language_info": {
   "codemirror_mode": {
    "name": "ipython",
    "version": 2
   },
   "file_extension": ".py",
   "mimetype": "text/x-python",
   "name": "python",
   "nbconvert_exporter": "python",
   "pygments_lexer": "ipython2",
   "version": "2.7.6"
  }
 },
 "nbformat": 4,
 "nbformat_minor": 5
}
