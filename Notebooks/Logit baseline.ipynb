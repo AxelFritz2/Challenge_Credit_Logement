{
 "cells": [
  {
   "cell_type": "markdown",
   "source": [
    "# Import packages"
   ],
   "metadata": {
    "collapsed": false
   },
   "id": "6c749c84ffb5f097"
  },
  {
   "cell_type": "code",
   "execution_count": 568,
   "outputs": [],
   "source": [
    "import pandas as pd\n",
    "from sklearn.model_selection import train_test_split\n",
    "import warnings \n",
    "warnings.filterwarnings(\"ignore\")\n",
    "import matplotlib.pyplot as plt\n",
    "\n",
    "from sklearn.linear_model import LogisticRegression\n",
    "from sklearn.metrics import roc_auc_score, confusion_matrix, classification_report, accuracy_score\n"
   ],
   "metadata": {
    "collapsed": false,
    "ExecuteTime": {
     "end_time": "2024-02-02T16:15:18.738250200Z",
     "start_time": "2024-02-02T16:15:18.546954Z"
    }
   },
   "id": "initial_id"
  },
  {
   "cell_type": "markdown",
   "source": [
    "variables à garder : \n",
    "['fam_ENQ', 'fl_fam_vam', 'niv_gravite_mtf_dne', 'fam_PCD',\n",
    "       'Motif_Motif moyen', 'Motif_Motif tres mauvais',\n",
    "       'Situation_fam_Mauvaise situation', 'Nature_op_Mauvaise nature']"
   ],
   "metadata": {
    "collapsed": false
   },
   "id": "cb6ccdf5630b9acb"
  },
  {
   "cell_type": "markdown",
   "source": [
    "# Import data"
   ],
   "metadata": {
    "collapsed": false
   },
   "id": "8c26a71925e75cf8"
  },
  {
   "cell_type": "code",
   "execution_count": 569,
   "outputs": [],
   "source": [
    "df = pd.read_csv('../data/df.csv',sep = ',')"
   ],
   "metadata": {
    "collapsed": false,
    "ExecuteTime": {
     "end_time": "2024-02-02T16:15:20.189672800Z",
     "start_time": "2024-02-02T16:15:18.569673800Z"
    }
   },
   "id": "d558e9904e11085d"
  },
  {
   "cell_type": "code",
   "execution_count": 570,
   "outputs": [
    {
     "data": {
      "text/plain": "Index(['cd_op', 'EAD_1an_avant_def', 'dat_dec_echec', 'arrete', 'fl_fam_vam',\n       'cum_frs_externes', 'CD_DNE_CHR_LGD_SAIN', 'niv_gravite_mtf_dne',\n       'fam_ETH', 'fam_ENQ', 'cum_rec', 'fam_PCD', 'fl_prise_de_gar',\n       'mt_dec_cum_IMP_tot', 'DET', 'Motif_Motif mauvais', 'Motif_Motif moyen',\n       'Motif_Motif tres mauvais', 'Situation_fam_Bonne situation',\n       'Situation_fam_Mauvaise situation', 'Nature_Bonne nature',\n       'Nature_Mauvaise nature', 'Solution_echec_Bonne solution',\n       'Solution_echec_Mauvaise solution', 'Nature_op_Bonne nature',\n       'Nature_op_Mauvaise nature', 'MTF_Bon MTF', 'MTF_Mauvais MTF'],\n      dtype='object')"
     },
     "execution_count": 570,
     "metadata": {},
     "output_type": "execute_result"
    }
   ],
   "source": [
    "df.columns"
   ],
   "metadata": {
    "collapsed": false,
    "ExecuteTime": {
     "end_time": "2024-02-02T16:15:20.189672800Z",
     "start_time": "2024-02-02T16:15:18.680212900Z"
    }
   },
   "id": "139cc4fb6993a58b"
  },
  {
   "cell_type": "code",
   "execution_count": 571,
   "outputs": [],
   "source": [
    "df = df[['mt_dec_cum_IMP_tot','cd_op','arrete','DET']]"
   ],
   "metadata": {
    "collapsed": false,
    "ExecuteTime": {
     "end_time": "2024-02-02T16:15:20.198169500Z",
     "start_time": "2024-02-02T16:15:18.700599600Z"
    }
   },
   "id": "dae7f006b6a41c55"
  },
  {
   "cell_type": "code",
   "execution_count": 572,
   "outputs": [],
   "source": [
    "#df.drop(columns = ['MT_EAD_RESID', 'fl_prise_de_gar', 'fam_hyp', 'PTG'])"
   ],
   "metadata": {
    "collapsed": false,
    "ExecuteTime": {
     "end_time": "2024-02-02T16:15:20.223169300Z",
     "start_time": "2024-02-02T16:15:18.755942100Z"
    }
   },
   "id": "ccf3c8e2c1083144"
  },
  {
   "cell_type": "code",
   "execution_count": 573,
   "outputs": [
    {
     "data": {
      "text/plain": "   mt_dec_cum_IMP_tot       cd_op      arrete  DET\n0                 0.0  I860708600  2017-01-31    0\n1                 0.0  I950404213  2017-03-31    0\n2                 0.0  I950706618  2016-08-31    1\n3                 0.0  I950901248  2017-01-31    0\n4                 0.0  I960300578  2016-06-30    0",
      "text/html": "<div>\n<style scoped>\n    .dataframe tbody tr th:only-of-type {\n        vertical-align: middle;\n    }\n\n    .dataframe tbody tr th {\n        vertical-align: top;\n    }\n\n    .dataframe thead th {\n        text-align: right;\n    }\n</style>\n<table border=\"1\" class=\"dataframe\">\n  <thead>\n    <tr style=\"text-align: right;\">\n      <th></th>\n      <th>mt_dec_cum_IMP_tot</th>\n      <th>cd_op</th>\n      <th>arrete</th>\n      <th>DET</th>\n    </tr>\n  </thead>\n  <tbody>\n    <tr>\n      <th>0</th>\n      <td>0.0</td>\n      <td>I860708600</td>\n      <td>2017-01-31</td>\n      <td>0</td>\n    </tr>\n    <tr>\n      <th>1</th>\n      <td>0.0</td>\n      <td>I950404213</td>\n      <td>2017-03-31</td>\n      <td>0</td>\n    </tr>\n    <tr>\n      <th>2</th>\n      <td>0.0</td>\n      <td>I950706618</td>\n      <td>2016-08-31</td>\n      <td>1</td>\n    </tr>\n    <tr>\n      <th>3</th>\n      <td>0.0</td>\n      <td>I950901248</td>\n      <td>2017-01-31</td>\n      <td>0</td>\n    </tr>\n    <tr>\n      <th>4</th>\n      <td>0.0</td>\n      <td>I960300578</td>\n      <td>2016-06-30</td>\n      <td>0</td>\n    </tr>\n  </tbody>\n</table>\n</div>"
     },
     "execution_count": 573,
     "metadata": {},
     "output_type": "execute_result"
    }
   ],
   "source": [
    "df.head()"
   ],
   "metadata": {
    "collapsed": false,
    "ExecuteTime": {
     "end_time": "2024-02-02T16:15:20.269637300Z",
     "start_time": "2024-02-02T16:15:18.770800600Z"
    }
   },
   "id": "f4b4b1ec8e13ef8b"
  },
  {
   "cell_type": "markdown",
   "source": [
    "# Data treatment"
   ],
   "metadata": {
    "collapsed": false
   },
   "id": "962e0afb71af6480"
  },
  {
   "cell_type": "code",
   "execution_count": 574,
   "outputs": [],
   "source": [
    "df['arrete'] = pd.to_datetime(df['arrete'])"
   ],
   "metadata": {
    "collapsed": false,
    "ExecuteTime": {
     "end_time": "2024-02-02T16:15:20.270867900Z",
     "start_time": "2024-02-02T16:15:18.803749700Z"
    }
   },
   "id": "f0b8b1b1b1a45b3c"
  },
  {
   "cell_type": "code",
   "execution_count": 575,
   "outputs": [],
   "source": [
    "df_validation = df[df['arrete']>\"2020-06-30\"]"
   ],
   "metadata": {
    "collapsed": false,
    "ExecuteTime": {
     "end_time": "2024-02-02T16:15:20.270867900Z",
     "start_time": "2024-02-02T16:15:18.836661900Z"
    }
   },
   "id": "cbc098d7ed4bb4e"
  },
  {
   "cell_type": "markdown",
   "source": [
    "On split les données en un ensemble de train et un de test, toutes les données anterieures 2021 seront dans le train et le reste dans le test"
   ],
   "metadata": {
    "collapsed": false
   },
   "id": "e40ba49ab55c0d1a"
  },
  {
   "cell_type": "code",
   "execution_count": 576,
   "outputs": [],
   "source": [
    "data = df[df['arrete']<\"2019-12-31\"]"
   ],
   "metadata": {
    "collapsed": false,
    "ExecuteTime": {
     "end_time": "2024-02-02T16:15:20.270867900Z",
     "start_time": "2024-02-02T16:15:18.861020900Z"
    }
   },
   "id": "7fbae70798b6280f"
  },
  {
   "cell_type": "markdown",
   "source": [
    "# Valeurs manquantes"
   ],
   "metadata": {
    "collapsed": false
   },
   "id": "c8ba87c8624c4f18"
  },
  {
   "cell_type": "code",
   "execution_count": 576,
   "outputs": [],
   "source": [],
   "metadata": {
    "collapsed": false,
    "ExecuteTime": {
     "end_time": "2024-02-02T16:15:20.270867900Z",
     "start_time": "2024-02-02T16:15:18.876930300Z"
    }
   },
   "id": "352fd8043bee88fb"
  },
  {
   "cell_type": "code",
   "execution_count": 577,
   "outputs": [
    {
     "data": {
      "text/plain": "mt_dec_cum_IMP_tot    0\ncd_op                 0\narrete                0\nDET                   0\ndtype: int64"
     },
     "execution_count": 577,
     "metadata": {},
     "output_type": "execute_result"
    }
   ],
   "source": [
    "data.isna().sum()"
   ],
   "metadata": {
    "collapsed": false,
    "ExecuteTime": {
     "end_time": "2024-02-02T16:15:20.270867900Z",
     "start_time": "2024-02-02T16:15:18.893859400Z"
    }
   },
   "id": "bf3bee7eabd5371f"
  },
  {
   "cell_type": "code",
   "execution_count": 578,
   "outputs": [
    {
     "data": {
      "text/plain": "mt_dec_cum_IMP_tot    0\ncd_op                 0\narrete                0\nDET                   0\ndtype: int64"
     },
     "execution_count": 578,
     "metadata": {},
     "output_type": "execute_result"
    }
   ],
   "source": [
    "df_validation.isna().sum()"
   ],
   "metadata": {
    "collapsed": false,
    "ExecuteTime": {
     "end_time": "2024-02-02T16:15:20.270867900Z",
     "start_time": "2024-02-02T16:15:18.920344200Z"
    }
   },
   "id": "3dfe66dcadc83a8f"
  },
  {
   "cell_type": "code",
   "execution_count": 579,
   "outputs": [],
   "source": [
    "for col in data.select_dtypes(include = 'number').columns:\n",
    "    valeur = data[col].median()\n",
    "    data[col].fillna(valeur, inplace=True)\n",
    "  \n",
    "for col in df_validation.select_dtypes(include = 'number').columns:\n",
    "    valeur = df_validation[col].median()\n",
    "    df_validation[col].fillna(valeur, inplace=True)  \n"
   ],
   "metadata": {
    "collapsed": false,
    "ExecuteTime": {
     "end_time": "2024-02-02T16:15:20.270867900Z",
     "start_time": "2024-02-02T16:15:18.946637Z"
    }
   },
   "id": "94415e4d5adee3e2"
  },
  {
   "cell_type": "code",
   "execution_count": 580,
   "outputs": [],
   "source": [
    "#valeur = data['PTG'].mode()\n",
    "#data['PTG'].fillna(valeur.iloc[0], inplace=True)\n",
    "#\n",
    "#valeurval = df_validation['PTG'].mode()\n",
    "#df_validation['PTG'].fillna(valeurval.iloc[0], inplace=True)\n",
    "\n",
    "\n",
    "#valeur2 = data['niv_gravite_mtf_dne'].mode()\n",
    "#data['niv_gravite_mtf_dne'].fillna(valeur2.iloc[0], inplace=True)\n",
    "\n",
    "#valeur2val = df_validation['niv_gravite_mtf_dne'].mode()\n",
    "#df_validation['niv_gravite_mtf_dne'].fillna(valeur2val.iloc[0], inplace=True)"
   ],
   "metadata": {
    "collapsed": false,
    "ExecuteTime": {
     "end_time": "2024-02-02T16:15:20.270867900Z",
     "start_time": "2024-02-02T16:15:18.978418200Z"
    }
   },
   "id": "b63c2cc7369140cf"
  },
  {
   "cell_type": "markdown",
   "source": [
    "\n",
    "# 01-Logit simple"
   ],
   "metadata": {
    "collapsed": false
   },
   "id": "86fd7f0affb7a522"
  },
  {
   "cell_type": "code",
   "execution_count": 581,
   "outputs": [
    {
     "data": {
      "text/plain": "DET\n0    8936\n1    5414\nName: count, dtype: int64"
     },
     "execution_count": 581,
     "metadata": {},
     "output_type": "execute_result"
    }
   ],
   "source": [
    "data['DET'].value_counts()"
   ],
   "metadata": {
    "collapsed": false,
    "ExecuteTime": {
     "end_time": "2024-02-02T16:15:20.270867900Z",
     "start_time": "2024-02-02T16:15:18.999600900Z"
    }
   },
   "id": "259f3fee5eeabcd3"
  },
  {
   "cell_type": "code",
   "execution_count": 582,
   "outputs": [],
   "source": [
    "# Sélectionner les données\n",
    "X_train = data.copy() # On drop les var qui ont trop de NaN\n",
    "X_test = df_validation.copy()\n",
    "\n",
    "X_train = X_train.select_dtypes(exclude = 'datetime')\n",
    "X_train.dropna(inplace = True)\n",
    "\n",
    "y_train = X_train['DET']\n",
    "\n",
    "\n",
    "X_train.drop(columns = 'DET', inplace = True)\n",
    "\n",
    "X_test = X_test.select_dtypes(exclude = 'datetime')\n",
    "X_test.dropna(inplace = True)\n",
    "\n",
    "y_test = X_test['DET']\n",
    "\n",
    "X_test.drop(columns = 'DET', inplace = True)"
   ],
   "metadata": {
    "collapsed": false,
    "ExecuteTime": {
     "end_time": "2024-02-02T16:15:20.270867900Z",
     "start_time": "2024-02-02T16:15:19.019505Z"
    }
   },
   "id": "a2d4208ccd86cf24"
  },
  {
   "cell_type": "markdown",
   "source": [
    "Il faut drop une colonne par var cat pour eviter le probleme de multicolinearité"
   ],
   "metadata": {
    "collapsed": false
   },
   "id": "34334c0287d253b5"
  },
  {
   "cell_type": "code",
   "execution_count": 583,
   "outputs": [
    {
     "data": {
      "text/plain": "Index(['mt_dec_cum_IMP_tot', 'cd_op'], dtype='object')"
     },
     "execution_count": 583,
     "metadata": {},
     "output_type": "execute_result"
    }
   ],
   "source": [
    "X_train.columns"
   ],
   "metadata": {
    "collapsed": false,
    "ExecuteTime": {
     "end_time": "2024-02-02T16:15:20.270867900Z",
     "start_time": "2024-02-02T16:15:19.051488700Z"
    }
   },
   "id": "ef69fc901f532d95"
  },
  {
   "cell_type": "code",
   "execution_count": 584,
   "outputs": [],
   "source": [
    "X_train.drop(columns = ['cd_op'], inplace = True)\n",
    "\n",
    "X_test.drop(columns = ['cd_op'], inplace = True)"
   ],
   "metadata": {
    "collapsed": false,
    "ExecuteTime": {
     "end_time": "2024-02-02T16:15:20.270867900Z",
     "start_time": "2024-02-02T16:15:19.076273700Z"
    }
   },
   "id": "66976d08cfb0cab3"
  },
  {
   "cell_type": "code",
   "execution_count": 585,
   "outputs": [],
   "source": [
    "model = LogisticRegression()\n",
    "\n",
    "model.fit(X_train, y_train)\n",
    "\n",
    "y_prob = model.predict_proba(X_test)[:, 1]\n",
    "\n",
    "auc = roc_auc_score(y_test, y_prob)\n",
    "\n",
    "y_pred = model.predict(X_test)\n",
    "\n",
    "conf_matrix = confusion_matrix(y_test, y_pred)\n",
    "classification_rep = classification_report(y_test, y_pred)\n"
   ],
   "metadata": {
    "collapsed": false,
    "ExecuteTime": {
     "end_time": "2024-02-02T16:15:20.270867900Z",
     "start_time": "2024-02-02T16:15:19.093019700Z"
    }
   },
   "id": "9b20ddd1c656caa7"
  },
  {
   "cell_type": "code",
   "execution_count": 586,
   "outputs": [
    {
     "data": {
      "text/plain": "<Figure size 1200x800 with 1 Axes>",
      "image/png": "[encoded data removed]"
     },
     "metadata": {},
     "output_type": "display_data"
    }
   ],
   "source": [
    "coefficients = model.coef_[0]\n",
    "\n",
    "feature_names = X_train.columns\n",
    "\n",
    "feature_importance_df = pd.DataFrame({'Feature': feature_names, 'Coefficient': coefficients})\n",
    "\n",
    "feature_importance_df['Abs_Coefficient'] = np.abs(feature_importance_df['Coefficient'])\n",
    "feature_importance_df = feature_importance_df.sort_values(by='Abs_Coefficient', ascending=False)\n",
    "\n",
    "plt.figure(figsize=(12, 8))\n",
    "plt.barh(feature_importance_df['Feature'], feature_importance_df['Abs_Coefficient'], color='skyblue')\n",
    "plt.xlabel('Coefficient de régression (en valeur absolue)')\n",
    "plt.ylabel('Caractéristique')\n",
    "plt.title('Importance des caractéristiques dans le modèle de régression logistique')\n",
    "plt.show()\n"
   ],
   "metadata": {
    "collapsed": false,
    "ExecuteTime": {
     "end_time": "2024-02-02T16:15:20.270867900Z",
     "start_time": "2024-02-02T16:15:19.217015600Z"
    }
   },
   "id": "49fd731207c8ae83"
  },
  {
   "cell_type": "code",
   "execution_count": 587,
   "outputs": [
    {
     "data": {
      "text/plain": "              Feature  Coefficient  Abs_Coefficient\n0  mt_dec_cum_IMP_tot     0.000043         0.000043",
      "text/html": "<div>\n<style scoped>\n    .dataframe tbody tr th:only-of-type {\n        vertical-align: middle;\n    }\n\n    .dataframe tbody tr th {\n        vertical-align: top;\n    }\n\n    .dataframe thead th {\n        text-align: right;\n    }\n</style>\n<table border=\"1\" class=\"dataframe\">\n  <thead>\n    <tr style=\"text-align: right;\">\n      <th></th>\n      <th>Feature</th>\n      <th>Coefficient</th>\n      <th>Abs_Coefficient</th>\n    </tr>\n  </thead>\n  <tbody>\n    <tr>\n      <th>0</th>\n      <td>mt_dec_cum_IMP_tot</td>\n      <td>0.000043</td>\n      <td>0.000043</td>\n    </tr>\n  </tbody>\n</table>\n</div>"
     },
     "execution_count": 587,
     "metadata": {},
     "output_type": "execute_result"
    }
   ],
   "source": [
    "feature_importance_df"
   ],
   "metadata": {
    "collapsed": false,
    "ExecuteTime": {
     "end_time": "2024-02-02T16:15:20.270867900Z",
     "start_time": "2024-02-02T16:15:19.559491600Z"
    }
   },
   "id": "a124873acb1350df"
  },
  {
   "cell_type": "code",
   "execution_count": 588,
   "outputs": [
    {
     "data": {
      "text/plain": "<Figure size 800x600 with 1 Axes>",
      "image/png": "[encoded data removed]"
     },
     "metadata": {},
     "output_type": "display_data"
    }
   ],
   "source": [
    "from sklearn.metrics import roc_curve, auc\n",
    "\n",
    "y_prob = model.predict_proba(X_test)[:, 1]\n",
    "\n",
    "# Calculer la courbe ROC\n",
    "fpr, tpr, thresholds = roc_curve(y_test, y_prob)\n",
    "\n",
    "# Calculer l'AUC\n",
    "roc_auc = auc(fpr, tpr)\n",
    "\n",
    "# Tracer la courbe ROC\n",
    "plt.figure(figsize=(8, 6))\n",
    "plt.plot(fpr, tpr, color='darkorange', lw=2, label=f'AUC = {roc_auc:.2f}')\n",
    "plt.plot([0, 1], [0, 1], color='navy', lw=2, linestyle='--')\n",
    "plt.xlabel('Taux de faux positifs')\n",
    "plt.ylabel('Taux de vrais positifs')\n",
    "plt.title('Courbe ROC')\n",
    "plt.legend(loc='lower right')\n",
    "plt.show()"
   ],
   "metadata": {
    "collapsed": false,
    "ExecuteTime": {
     "end_time": "2024-02-02T16:15:20.270867900Z",
     "start_time": "2024-02-02T16:15:19.583730400Z"
    }
   },
   "id": "6ddb684d7e886954"
  },
  {
   "cell_type": "markdown",
   "source": [
    "# Feature selection"
   ],
   "metadata": {
    "collapsed": false
   },
   "id": "2012e18054cdabdf"
  },
  {
   "cell_type": "code",
   "execution_count": 589,
   "outputs": [
    {
     "name": "stdout",
     "output_type": "stream",
     "text": [
      "         Current function value: 0.693147\n",
      "         Iterations: 0\n",
      "         Function evaluations: 15\n",
      "         Gradient evaluations: 3\n",
      "AUC: 0.5\n",
      "Confusion Matrix:\n",
      " [[   0 5186]\n",
      " [   0 1314]]\n",
      "Classification Report:\n",
      "               precision    recall  f1-score   support\n",
      "\n",
      "           0       0.00      0.00      0.00      5186\n",
      "           1       0.20      1.00      0.34      1314\n",
      "\n",
      "    accuracy                           0.20      6500\n",
      "   macro avg       0.10      0.50      0.17      6500\n",
      "weighted avg       0.04      0.20      0.07      6500\n"
     ]
    }
   ],
   "source": [
    "import statsmodels.api as sm\n",
    "from sklearn.metrics import roc_auc_score, confusion_matrix, classification_report\n",
    "\n",
    "\n",
    "X_train = sm.add_constant(X_train)\n",
    "X_test = sm.add_constant(X_test)\n",
    "\n",
    "# Créez un modèle logistique avec statsmodels\n",
    "model = sm.Logit(y_train, X_train)\n",
    "\n",
    "# Fit le modèle avec stepwise selection\n",
    "result = model.fit(method='bfgs')  # Vous pouvez ajuster la méthode selon vos besoins\n",
    "\n",
    "# Obtenez les prédictions sur l'ensemble de test\n",
    "y_prob = result.predict(X_test)\n",
    "\n",
    "# Convertissez les probabilités en prédictions binaires\n",
    "y_pred = (y_prob >= 0.5).astype(int)\n",
    "\n",
    "# Calculez l'AUC\n",
    "auc = roc_auc_score(y_test, y_prob)\n",
    "\n",
    "# Matrice de confusion\n",
    "conf_matrix = confusion_matrix(y_test, y_pred)\n",
    "\n",
    "# Rapport de classification\n",
    "classification_rep = classification_report(y_test, y_pred)\n",
    "\n",
    "# Imprimez les résultats\n",
    "print(\"AUC:\", auc)\n",
    "print(\"Confusion Matrix:\\n\", conf_matrix)\n",
    "print(\"Classification Report:\\n\", classification_rep)\n"
   ],
   "metadata": {
    "collapsed": false,
    "ExecuteTime": {
     "end_time": "2024-02-02T16:15:20.270867900Z",
     "start_time": "2024-02-02T16:15:19.965840Z"
    }
   },
   "id": "f9b1e5b23c0948a9"
  },
  {
   "cell_type": "code",
   "execution_count": 590,
   "outputs": [
    {
     "data": {
      "text/plain": "const                 1.0\nmt_dec_cum_IMP_tot    1.0\ndtype: float64"
     },
     "execution_count": 590,
     "metadata": {},
     "output_type": "execute_result"
    }
   ],
   "source": [
    "result.pvalues"
   ],
   "metadata": {
    "collapsed": false,
    "ExecuteTime": {
     "end_time": "2024-02-02T16:15:20.270867900Z",
     "start_time": "2024-02-02T16:15:20.087178700Z"
    }
   },
   "id": "e012904b26bed4b3"
  },
  {
   "cell_type": "code",
   "execution_count": 590,
   "outputs": [],
   "source": [],
   "metadata": {
    "collapsed": false,
    "ExecuteTime": {
     "end_time": "2024-02-02T16:15:20.270867900Z",
     "start_time": "2024-02-02T16:15:20.103897800Z"
    }
   },
   "id": "931f081f9b4daabb"
  }
 ],
 "metadata": {
  "kernelspec": {
   "display_name": "Python 3",
   "language": "python",
   "name": "python3"
  },
  "language_info": {
   "codemirror_mode": {
    "name": "ipython",
    "version": 2
   },
   "file_extension": ".py",
   "mimetype": "text/x-python",
   "name": "python",
   "nbconvert_exporter": "python",
   "pygments_lexer": "ipython2",
   "version": "2.7.6"
  }
 },
 "nbformat": 4,
 "nbformat_minor": 5
}
