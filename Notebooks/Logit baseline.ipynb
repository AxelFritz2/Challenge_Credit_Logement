{
 "cells": [
  {
   "cell_type": "markdown",
   "source": [
    "# Import packages"
   ],
   "metadata": {
    "collapsed": false
   },
   "id": "6c749c84ffb5f097"
  },
  {
   "cell_type": "code",
   "execution_count": 1,
   "outputs": [],
   "source": [
    "import pandas as pd\n",
    "import numpy as np\n",
    "import seaborn as sns\n",
    "import matplotlib.pyplot as plt\n",
    "import plotly.express as px\n",
    "from sklearn.model_selection import train_test_split\n",
    "import sklearn\n",
    "from sklearn.linear_model import LogisticRegression\n",
    "from sklearn.metrics import accuracy_score, classification_report, confusion_matrix"
   ],
   "metadata": {
    "collapsed": false,
    "ExecuteTime": {
     "end_time": "2023-12-22T16:02:43.969424800Z",
     "start_time": "2023-12-22T16:02:42.961717300Z"
    }
   },
   "id": "initial_id"
  },
  {
   "cell_type": "markdown",
   "source": [
    "# Import data"
   ],
   "metadata": {
    "collapsed": false
   },
   "id": "8c26a71925e75cf8"
  },
  {
   "cell_type": "code",
   "execution_count": 2,
   "outputs": [],
   "source": [
    "df = pd.read_csv('../data/base_modelis_pass_det.csv',sep = ';')"
   ],
   "metadata": {
    "collapsed": false,
    "ExecuteTime": {
     "end_time": "2023-12-22T16:02:47.328573800Z",
     "start_time": "2023-12-22T16:02:43.969424800Z"
    }
   },
   "id": "d558e9904e11085d"
  },
  {
   "cell_type": "markdown",
   "source": [
    "# Dataviz rapide"
   ],
   "metadata": {
    "collapsed": false
   },
   "id": "32890ed3eca1741f"
  },
  {
   "cell_type": "code",
   "execution_count": 3,
   "outputs": [
    {
     "data": {
      "text/plain": "cd_op                      0\ndate_entree_defaut         0\ndate_sortie_defaut    315468\narrete                     0\nfl_pass_DET                0\n                       ...  \nPTG                    29088\nAGE_EMP1                   0\nAGE_EMP2              134311\nTX_ENDET               19935\nMT_REST_VIVRE          25373\nLength: 90, dtype: int64"
     },
     "execution_count": 3,
     "metadata": {},
     "output_type": "execute_result"
    }
   ],
   "source": [
    "df.isna().sum()"
   ],
   "metadata": {
    "collapsed": false,
    "ExecuteTime": {
     "end_time": "2023-12-22T16:02:47.615161600Z",
     "start_time": "2023-12-22T16:02:47.328573800Z"
    }
   },
   "id": "b1397a08f4916972"
  },
  {
   "cell_type": "code",
   "execution_count": 4,
   "outputs": [
    {
     "data": {
      "text/plain": "        cd_op date_entree_defaut date_sortie_defaut    arrete  fl_pass_DET  \\\n0  I860708600           16/01/17                NaN  31/01/17            0   \n1  I860708600           16/01/17                NaN  28/02/17            0   \n2  I860708600           16/01/17                NaN  31/03/17            0   \n3  I860708600           16/01/17                NaN  30/04/17            0   \n4  I860708600           16/01/17                NaN  31/05/17            0   \n\n   nb_prt              DT_MEP_OPE CD_NAT_EMP1 CD_NAT_EMP2  ANC_BANC_MAX_PFI  \\\n0       1  15SEP1986:00:00:00.000         NaN         NaN               NaN   \n1       1  15SEP1986:00:00:00.000         NaN         NaN               NaN   \n2       1  15SEP1986:00:00:00.000         NaN         NaN               NaN   \n3       1  15SEP1986:00:00:00.000         NaN         NaN               NaN   \n4       1  15SEP1986:00:00:00.000         NaN         NaN               NaN   \n\n   ... EAD_1an_avant_def LTVnonactu_1an_avant_def  dls_ges_def  AMI  EXE  PTG  \\\n0  ...           1121.38                      NaN            0  NaN  NaN  NaN   \n1  ...           1121.38                      NaN            1  NaN  NaN  NaN   \n2  ...           1121.38                      NaN            2  NaN  NaN  NaN   \n3  ...           1121.38                      NaN            3  NaN  NaN  NaN   \n4  ...           1121.38                      NaN            4  NaN  NaN  NaN   \n\n   AGE_EMP1  AGE_EMP2  TX_ENDET  MT_REST_VIVRE  \n0        74      78.0       NaN            NaN  \n1        75      78.0       NaN            NaN  \n2        75      78.0       NaN            NaN  \n3        75      78.0       NaN            NaN  \n4        75      78.0       NaN            NaN  \n\n[5 rows x 90 columns]",
      "text/html": "<div>\n<style scoped>\n    .dataframe tbody tr th:only-of-type {\n        vertical-align: middle;\n    }\n\n    .dataframe tbody tr th {\n        vertical-align: top;\n    }\n\n    .dataframe thead th {\n        text-align: right;\n    }\n</style>\n<table border=\"1\" class=\"dataframe\">\n  <thead>\n    <tr style=\"text-align: right;\">\n      <th></th>\n      <th>cd_op</th>\n      <th>date_entree_defaut</th>\n      <th>date_sortie_defaut</th>\n      <th>arrete</th>\n      <th>fl_pass_DET</th>\n      <th>nb_prt</th>\n      <th>DT_MEP_OPE</th>\n      <th>CD_NAT_EMP1</th>\n      <th>CD_NAT_EMP2</th>\n      <th>ANC_BANC_MAX_PFI</th>\n      <th>...</th>\n      <th>EAD_1an_avant_def</th>\n      <th>LTVnonactu_1an_avant_def</th>\n      <th>dls_ges_def</th>\n      <th>AMI</th>\n      <th>EXE</th>\n      <th>PTG</th>\n      <th>AGE_EMP1</th>\n      <th>AGE_EMP2</th>\n      <th>TX_ENDET</th>\n      <th>MT_REST_VIVRE</th>\n    </tr>\n  </thead>\n  <tbody>\n    <tr>\n      <th>0</th>\n      <td>I860708600</td>\n      <td>16/01/17</td>\n      <td>NaN</td>\n      <td>31/01/17</td>\n      <td>0</td>\n      <td>1</td>\n      <td>15SEP1986:00:00:00.000</td>\n      <td>NaN</td>\n      <td>NaN</td>\n      <td>NaN</td>\n      <td>...</td>\n      <td>1121.38</td>\n      <td>NaN</td>\n      <td>0</td>\n      <td>NaN</td>\n      <td>NaN</td>\n      <td>NaN</td>\n      <td>74</td>\n      <td>78.0</td>\n      <td>NaN</td>\n      <td>NaN</td>\n    </tr>\n    <tr>\n      <th>1</th>\n      <td>I860708600</td>\n      <td>16/01/17</td>\n      <td>NaN</td>\n      <td>28/02/17</td>\n      <td>0</td>\n      <td>1</td>\n      <td>15SEP1986:00:00:00.000</td>\n      <td>NaN</td>\n      <td>NaN</td>\n      <td>NaN</td>\n      <td>...</td>\n      <td>1121.38</td>\n      <td>NaN</td>\n      <td>1</td>\n      <td>NaN</td>\n      <td>NaN</td>\n      <td>NaN</td>\n      <td>75</td>\n      <td>78.0</td>\n      <td>NaN</td>\n      <td>NaN</td>\n    </tr>\n    <tr>\n      <th>2</th>\n      <td>I860708600</td>\n      <td>16/01/17</td>\n      <td>NaN</td>\n      <td>31/03/17</td>\n      <td>0</td>\n      <td>1</td>\n      <td>15SEP1986:00:00:00.000</td>\n      <td>NaN</td>\n      <td>NaN</td>\n      <td>NaN</td>\n      <td>...</td>\n      <td>1121.38</td>\n      <td>NaN</td>\n      <td>2</td>\n      <td>NaN</td>\n      <td>NaN</td>\n      <td>NaN</td>\n      <td>75</td>\n      <td>78.0</td>\n      <td>NaN</td>\n      <td>NaN</td>\n    </tr>\n    <tr>\n      <th>3</th>\n      <td>I860708600</td>\n      <td>16/01/17</td>\n      <td>NaN</td>\n      <td>30/04/17</td>\n      <td>0</td>\n      <td>1</td>\n      <td>15SEP1986:00:00:00.000</td>\n      <td>NaN</td>\n      <td>NaN</td>\n      <td>NaN</td>\n      <td>...</td>\n      <td>1121.38</td>\n      <td>NaN</td>\n      <td>3</td>\n      <td>NaN</td>\n      <td>NaN</td>\n      <td>NaN</td>\n      <td>75</td>\n      <td>78.0</td>\n      <td>NaN</td>\n      <td>NaN</td>\n    </tr>\n    <tr>\n      <th>4</th>\n      <td>I860708600</td>\n      <td>16/01/17</td>\n      <td>NaN</td>\n      <td>31/05/17</td>\n      <td>0</td>\n      <td>1</td>\n      <td>15SEP1986:00:00:00.000</td>\n      <td>NaN</td>\n      <td>NaN</td>\n      <td>NaN</td>\n      <td>...</td>\n      <td>1121.38</td>\n      <td>NaN</td>\n      <td>4</td>\n      <td>NaN</td>\n      <td>NaN</td>\n      <td>NaN</td>\n      <td>75</td>\n      <td>78.0</td>\n      <td>NaN</td>\n      <td>NaN</td>\n    </tr>\n  </tbody>\n</table>\n<p>5 rows × 90 columns</p>\n</div>"
     },
     "execution_count": 4,
     "metadata": {},
     "output_type": "execute_result"
    }
   ],
   "source": [
    "df.head(5)"
   ],
   "metadata": {
    "collapsed": false,
    "ExecuteTime": {
     "end_time": "2023-12-22T16:02:47.663123200Z",
     "start_time": "2023-12-22T16:02:47.599446100Z"
    }
   },
   "id": "7bbcc692f195bffd"
  },
  {
   "cell_type": "markdown",
   "source": [
    "# Data treatment"
   ],
   "metadata": {
    "collapsed": false
   },
   "id": "962e0afb71af6480"
  },
  {
   "cell_type": "code",
   "execution_count": 5,
   "outputs": [
    {
     "name": "stderr",
     "output_type": "stream",
     "text": [
      "C:\\Users\\baheu\\AppData\\Local\\Temp\\ipykernel_15932\\1105208983.py:1: UserWarning: Could not infer format, so each element will be parsed individually, falling back to `dateutil`. To ensure parsing is consistent and as-expected, please specify a format.\n",
      "  df['date_entree_defaut'] = pd.to_datetime(df['date_entree_defaut'])\n"
     ]
    }
   ],
   "source": [
    "df['date_entree_defaut'] = pd.to_datetime(df['date_entree_defaut'])"
   ],
   "metadata": {
    "collapsed": false,
    "ExecuteTime": {
     "end_time": "2023-12-22T16:02:47.876823900Z",
     "start_time": "2023-12-22T16:02:47.663123200Z"
    }
   },
   "id": "6895722ad755d6c5"
  },
  {
   "cell_type": "code",
   "execution_count": 6,
   "outputs": [
    {
     "name": "stderr",
     "output_type": "stream",
     "text": [
      "C:\\Users\\baheu\\AppData\\Local\\Temp\\ipykernel_15932\\2871220427.py:1: UserWarning: Could not infer format, so each element will be parsed individually, falling back to `dateutil`. To ensure parsing is consistent and as-expected, please specify a format.\n",
      "  df['arrete'] = pd.to_datetime(df['arrete'])\n"
     ]
    }
   ],
   "source": [
    "df['arrete'] = pd.to_datetime(df['arrete'])"
   ],
   "metadata": {
    "collapsed": false,
    "ExecuteTime": {
     "end_time": "2023-12-22T16:02:47.982779700Z",
     "start_time": "2023-12-22T16:02:47.839344300Z"
    }
   },
   "id": "fb6f92639cf57d05"
  },
  {
   "cell_type": "code",
   "execution_count": 7,
   "outputs": [],
   "source": [
    "df_validation = df[df['arrete']>\"2020-12-30\"]"
   ],
   "metadata": {
    "collapsed": false,
    "ExecuteTime": {
     "end_time": "2023-12-22T16:02:48.021424600Z",
     "start_time": "2023-12-22T16:02:47.903413800Z"
    }
   },
   "id": "cbc098d7ed4bb4e"
  },
  {
   "cell_type": "code",
   "execution_count": 8,
   "outputs": [],
   "source": [
    "data = df[df['arrete']<\"2020-12-30\"]"
   ],
   "metadata": {
    "collapsed": false,
    "ExecuteTime": {
     "end_time": "2023-12-22T16:02:48.167349600Z",
     "start_time": "2023-12-22T16:02:47.998895300Z"
    }
   },
   "id": "7fbae70798b6280f"
  },
  {
   "cell_type": "code",
   "execution_count": 9,
   "outputs": [],
   "source": [
    "data_logit = data.drop_duplicates(subset = 'cd_op', keep = 'last')"
   ],
   "metadata": {
    "collapsed": false,
    "ExecuteTime": {
     "end_time": "2023-12-22T16:02:48.214765300Z",
     "start_time": "2023-12-22T16:02:48.143904600Z"
    }
   },
   "id": "8a9865723bcf9cd2"
  },
  {
   "cell_type": "markdown",
   "source": [
    "# 01-Logit simple"
   ],
   "metadata": {
    "collapsed": false
   },
   "id": "86fd7f0affb7a522"
  },
  {
   "cell_type": "code",
   "execution_count": 24,
   "outputs": [
    {
     "name": "stdout",
     "output_type": "stream",
     "text": [
      "Accuracy: 0.9958262189337886\n",
      "Confusion Matrix:\n",
      " [[3757    5]\n",
      " [  17 1492]]\n",
      "Classification Report:\n",
      "               precision    recall  f1-score   support\n",
      "\n",
      "           0       1.00      1.00      1.00      3762\n",
      "           1       1.00      0.99      0.99      1509\n",
      "\n",
      "    accuracy                           1.00      5271\n",
      "   macro avg       1.00      0.99      0.99      5271\n",
      "weighted avg       1.00      1.00      1.00      5271\n"
     ]
    },
    {
     "name": "stderr",
     "output_type": "stream",
     "text": [
      "C:\\Users\\baheu\\Documents\\M2 MoSEF\\Challenge_Credit_Logement\\venv\\lib\\site-packages\\sklearn\\linear_model\\_logistic.py:460: ConvergenceWarning: lbfgs failed to converge (status=1):\n",
      "STOP: TOTAL NO. of ITERATIONS REACHED LIMIT.\n",
      "\n",
      "Increase the number of iterations (max_iter) or scale the data as shown in:\n",
      "    https://scikit-learn.org/stable/modules/preprocessing.html\n",
      "Please also refer to the documentation for alternative solver options:\n",
      "    https://scikit-learn.org/stable/modules/linear_model.html#logistic-regression\n",
      "  n_iter_i = _check_optimize_result(\n"
     ]
    }
   ],
   "source": [
    "# Sélectionner les données\n",
    "X = data_logit.select_dtypes(include='number').drop(columns=['ANC_BANC_MAX_PFI',\n",
    "                                                             'MT_CHA_CSM_REV',\n",
    "                                                             'MT_CHA_IMP',\n",
    "                                                             'MT_CHA_PIP',\n",
    "                                                             'MT_CHA_PIV',\n",
    "                                                             'NB_RP_HOP',\n",
    "                                                             'NB_RS_HOP',\n",
    "                                                             'NB_LO_HOP',\n",
    "                                                             'dtSRT1st',\n",
    "                                                             'valeur_bien_afr',\n",
    "                                                             'mt_inscrip_devant_CL_afr',\n",
    "                                                             'dispo_HP_afr',\n",
    "                                                             'MT_CHG_MSL',\n",
    "                                                             'mt_rev_dispo',\n",
    "                                                             'LTV_actu',\n",
    "                                                             'LTVnonactu_1an_avant_def',\n",
    "                                                             'AMI',\n",
    "                                                             'EXE',\n",
    "                                                             'PTG',\n",
    "                                                             'AGE_EMP2',\n",
    "                                                             'CD_MTF_ENE_CTX',\n",
    "                                                             'niv_gravite_mtf_dne',\n",
    "                                                             'niv_gravite_mtf_dfs',\n",
    "                                                             'MT_CHG_MSL',\n",
    "                                                             'mt_rev_dispo',\n",
    "                                                             'TX_ENDET',\n",
    "                                                             'MT_REST_VIVRE']) # On drop les var qui ont trop de NaN\n",
    "X.dropna(inplace = True)\n",
    "\n",
    "y = X['fl_pass_DET']\n",
    "\n",
    "X.drop(columns = 'fl_pass_DET', inplace = True)\n",
    "\n",
    "# Diviser les données en ensemble d'entraînement et ensemble de test\n",
    "X_train, X_test, y_train, y_test = train_test_split(X, y, test_size=0.3, random_state=42)\n",
    "\n",
    "# Créer le modèle de régression logistique\n",
    "model = LogisticRegression()\n",
    "\n",
    "# Entraîner le modèle sur l'ensemble d'entraînement\n",
    "model.fit(X_train, y_train)\n",
    "\n",
    "# Faire des prédictions sur l'ensemble de test\n",
    "y_pred = model.predict(X_test)\n",
    "\n",
    "# Évaluer les performances du modèle\n",
    "accuracy = accuracy_score(y_test, y_pred)\n",
    "conf_matrix = confusion_matrix(y_test, y_pred)\n",
    "classification_rep = classification_report(y_test, y_pred)\n",
    "\n",
    "# Afficher les résultats\n",
    "print(\"Accuracy:\", accuracy)\n",
    "print(\"Confusion Matrix:\\n\", conf_matrix)\n",
    "print(\"Classification Report:\\n\", classification_rep)\n"
   ],
   "metadata": {
    "collapsed": false,
    "ExecuteTime": {
     "end_time": "2023-12-22T16:22:48.864088600Z",
     "start_time": "2023-12-22T16:22:48.420062500Z"
    }
   },
   "id": "a2d4208ccd86cf24"
  },
  {
   "cell_type": "code",
   "execution_count": 25,
   "outputs": [
    {
     "data": {
      "text/plain": "<Figure size 800x800 with 1 Axes>",
      "image/png": "[encoded data removed]"
     },
     "metadata": {},
     "output_type": "display_data"
    }
   ],
   "source": [
    "import matplotlib.pyplot as plt\n",
    "from sklearn.metrics import roc_auc_score, roc_curve\n",
    "\n",
    "# Obtenir les probabilités prédites\n",
    "y_probs = model.predict_proba(X_test)[:, 1]\n",
    "\n",
    "# Calculer l'aire sous la courbe ROC\n",
    "roc_auc = roc_auc_score(y_test, y_probs)\n",
    "\n",
    "# Calculer les taux de faux positifs et les taux de vrais positifs\n",
    "fpr, tpr, _ = roc_curve(y_test, y_probs)\n",
    "\n",
    "# Tracer la courbe ROC\n",
    "plt.figure(figsize=(8, 8))\n",
    "plt.plot(fpr, tpr, color='darkorange', lw=2, label='ROC curve (area = {:.2f})'.format(roc_auc))\n",
    "plt.plot([0, 1], [0, 1], color='navy', lw=2, linestyle='--')\n",
    "plt.xlim([0.0, 1.0])\n",
    "plt.ylim([0.0, 1.05])\n",
    "plt.xlabel('False Positive Rate')\n",
    "plt.ylabel('True Positive Rate')\n",
    "plt.title('Receiver Operating Characteristic (ROC) Curve')\n",
    "plt.legend(loc='lower right')\n",
    "plt.show()\n"
   ],
   "metadata": {
    "collapsed": false,
    "ExecuteTime": {
     "end_time": "2023-12-22T16:23:35.538772Z",
     "start_time": "2023-12-22T16:23:34.681451Z"
    }
   },
   "id": "32a077c62d6e24ab"
  },
  {
   "cell_type": "code",
   "execution_count": 26,
   "outputs": [],
   "source": [
    "X_temporaire = X.copy()"
   ],
   "metadata": {
    "collapsed": false,
    "ExecuteTime": {
     "end_time": "2023-12-22T16:24:20.306925100Z",
     "start_time": "2023-12-22T16:24:20.274992300Z"
    }
   },
   "id": "18363ef4d9d38289"
  },
  {
   "cell_type": "code",
   "execution_count": 27,
   "outputs": [],
   "source": [
    "X_temporaire['y'] = y.copy()"
   ],
   "metadata": {
    "collapsed": false,
    "ExecuteTime": {
     "end_time": "2023-12-22T16:24:34.936426Z",
     "start_time": "2023-12-22T16:24:34.889306900Z"
    }
   },
   "id": "6d1a366897ed355"
  },
  {
   "cell_type": "code",
   "execution_count": 36,
   "outputs": [
    {
     "data": {
      "application/vnd.plotly.v1+json": {
       "data": [
        {
         "coloraxis": "coloraxis",
         "name": "0",
         "x": [
          "nb_prt",
          "CD_POST_BIEN_PFI",
          "MT_PATRIM_MOB",
          "MT_CHA_HORS_OPE_PFI",
          "NB_CHARGE_HORS_OPE_PFI",
          "MT_PATRIM_NET",
          "MT_REV_PFI",
          "FL_REL_NON_ANNULE",
          "NB_DUR_PFI",
          "TX_APPOR",
          "FL_ETR",
          "CD_ETAT_CIVIL",
          "cum_dec",
          "cum_rec",
          "cum_frs_externes",
          "CD_DNE_CHR_LGD_SAIN",
          "MT_EAD_RESID",
          "MT_EAD_DNE_CHR_d",
          "fl_prise_de_gar",
          "fl_fam_vam",
          "fam_ETH",
          "fam_ENQ",
          "fam_exp",
          "fam_hyp",
          "fam_sim",
          "fam_AEP",
          "dat_dec_echec",
          "solution",
          "fam_PCD",
          "MR_arr",
          "no_pass_def",
          "dls_mep_entree_def",
          "nb_bienHOP",
          "ANC_PRO_MAX_PFI",
          "max_age_ctx",
          "nb_empr_ope",
          "fl_def_ss_pass_CTX",
          "fl_prt_Conso",
          "fl_fonc",
          "MT_FMG",
          "mt_dec_cum_IMP_tot",
          "EAD_1an_avant_def",
          "dls_ges_def",
          "AGE_EMP1",
          "y"
         ],
         "y": [
          "nb_prt",
          "CD_POST_BIEN_PFI",
          "MT_PATRIM_MOB",
          "MT_CHA_HORS_OPE_PFI",
          "NB_CHARGE_HORS_OPE_PFI",
          "MT_PATRIM_NET",
          "MT_REV_PFI",
          "FL_REL_NON_ANNULE",
          "NB_DUR_PFI",
          "TX_APPOR",
          "FL_ETR",
          "CD_ETAT_CIVIL",
          "cum_dec",
          "cum_rec",
          "cum_frs_externes",
          "CD_DNE_CHR_LGD_SAIN",
          "MT_EAD_RESID",
          "MT_EAD_DNE_CHR_d",
          "fl_prise_de_gar",
          "fl_fam_vam",
          "fam_ETH",
          "fam_ENQ",
          "fam_exp",
          "fam_hyp",
          "fam_sim",
          "fam_AEP",
          "dat_dec_echec",
          "solution",
          "fam_PCD",
          "MR_arr",
          "no_pass_def",
          "dls_mep_entree_def",
          "nb_bienHOP",
          "ANC_PRO_MAX_PFI",
          "max_age_ctx",
          "nb_empr_ope",
          "fl_def_ss_pass_CTX",
          "fl_prt_Conso",
          "fl_fonc",
          "MT_FMG",
          "mt_dec_cum_IMP_tot",
          "EAD_1an_avant_def",
          "dls_ges_def",
          "AGE_EMP1",
          "y"
         ],
         "z": [
          [
           1.0,
           0.056326823195756305,
           0.01530278878038983,
           -0.16246628434502666,
           -0.13020843227718756,
           -0.15946579838202912,
           -0.13915167512958856,
           0.057313279539962986,
           0.2401189695419631,
           0.051578554576006116,
           0.0373210345492186,
           0.060458995562594604,
           0.0721812299702331,
           0.04198433627258395,
           0.07121414308494986,
           0.04484078791279507,
           0.06107964685461152,
           0.1750474379755126,
           0.008824238716490159,
           0.015902831058523904,
           0.013439788639679028,
           0.02700328707705566,
           -0.027902090423045547,
           -0.012635876670433005,
           -0.01156774840770683,
           -0.00913922307846281,
           0.04823806088973872,
           0.039154454747830254,
           0.03494109710183666,
           0.04784657568583699,
           -0.01610023684844007,
           -0.038568431940482005,
           -0.16305542466932443,
           -0.09217845573522312,
           -0.1313567405201051,
           -0.009757196240373493,
           -0.026113021564237303,
           -0.06715862042091922,
           -0.030304820901227263,
           0.2144429538206716,
           0.06862543058721522,
           0.16159768725615264,
           0.03440605686065163,
           -0.13823396315979045,
           0.02694881794569344
          ],
          [
           0.056326823195756305,
           1.0,
           -0.027250489329536363,
           -0.055829990476982325,
           -0.06365358353899281,
           -0.06969656079337891,
           0.01620601012392727,
           0.020146249670044795,
           0.0978584081016254,
           0.07091320687969664,
           0.129070735701557,
           0.016463936677025004,
           0.05556599577651791,
           0.011966143028715489,
           0.011988042033966449,
           -0.013795667708037028,
           0.050856495984002055,
           0.11291919509973469,
           0.011326059679218198,
           -0.02155411212266686,
           0.043288816943506794,
           0.023501055102510073,
           0.010685447036029543,
           0.013765388746686546,
           0.011492477400858634,
           0.01532593502138013,
           0.051972414696196796,
           0.03716449211456095,
           0.009726641628293578,
           0.029669753949741636,
           -0.015442631768529762,
           0.010117321825945928,
           -0.07741374186208187,
           -0.06881353604622191,
           -0.06872184085403618,
           0.004324514852482877,
           0.0019626482045376867,
           -0.052606220541015124,
           -0.051535608603829684,
           0.13451779033356018,
           0.07265482815254086,
           0.11423311064251176,
           0.033591390258838935,
           -0.055424601463224164,
           0.009893175077326864
          ],
          [
           0.01530278878038983,
           -0.027250489329536363,
           1.0,
           0.13902233537474903,
           0.10730944125393103,
           0.1434330076418836,
           0.18827245330611653,
           0.006321712115964842,
           -0.05137865194387879,
           0.038482950651900986,
           0.004461405714613924,
           -0.033183199795824805,
           -0.007267842932088579,
           0.037396853190931674,
           -0.06122784425427788,
           -0.007753850561713485,
           0.026991530198428308,
           0.11378871405270162,
           0.018655179393311593,
           0.023774559130963022,
           0.01669491642090826,
           -0.021953320178582033,
           0.030000583733498298,
           0.011815210528188251,
           0.007656173574069865,
           -0.008098617184198171,
           -0.0012015650833497344,
           0.001693097793120684,
           -0.017706891518029743,
           0.0016735234742698128,
           -0.05311893055513708,
           -0.14231522563982368,
           0.1498691104152707,
           0.08211369478603342,
           0.10029334150708644,
           -0.009886384419034753,
           0.038120178011373705,
           -0.02503435343185976,
           -0.009251350041440903,
           0.07937480477318837,
           0.0030720970762818036,
           0.1180631387338824,
           -0.002698081713404052,
           0.04246781808382739,
           -0.02316326660443894
          ],
          [
           -0.16246628434502666,
           -0.055829990476982325,
           0.13902233537474903,
           1.0,
           0.8839728031682155,
           0.5476918091247283,
           0.640641056468138,
           0.0613138516023331,
           -0.1880865541831375,
           -0.22669006029831992,
           -0.06665786925810037,
           -0.0076403456295549765,
           -0.07383521865944405,
           0.032974189598937415,
           -0.16875143455490613,
           -0.07860025615360695,
           -0.005848315212273224,
           0.05960034077828098,
           0.03320085518403619,
           0.07032010601299413,
           0.010577394477249326,
           -0.04709531622865651,
           0.07260995946238835,
           0.06022266313805118,
           0.015898039314952355,
           0.00898533164747761,
           -0.04648968177430752,
           0.018031753016006083,
           -0.06012481642607101,
           -0.04659447681768676,
           -0.0014101218480264803,
           -0.07651207414971979,
           0.6171912098752177,
           0.25085783844132825,
           0.24623646922902603,
           0.17854846625460208,
           0.08534948467458675,
           0.400870557297422,
           0.019187526013941327,
           0.041146977175696674,
           -0.059891282694101995,
           0.06884730523244266,
           -0.0021262738441273953,
           0.1941813099404445,
           -0.05156450167000013
          ],
          [
           -0.13020843227718756,
           -0.06365358353899281,
           0.10730944125393103,
           0.8839728031682155,
           1.0,
           0.45139665758545733,
           0.4829455884591041,
           0.05807685601203002,
           -0.1421230852145034,
           -0.24801766342732331,
           -0.06710108634676429,
           0.0402608016513905,
           -0.058726645443434505,
           0.01634783864346711,
           -0.1468514452583928,
           -0.07307728494673713,
           -0.0020307602703519313,
           0.02784466615250016,
           0.027297324856643945,
           0.07220728052091933,
           0.0027935214029291135,
           -0.03673260500392012,
           0.060446443031087344,
           0.05069644333779912,
           0.004633348222443802,
           0.002225130237376343,
           -0.028008893700884226,
           0.027503635433105713,
           -0.03862881186536154,
           -0.030959620261389306,
           -0.008771325327728691,
           -0.10288038472330817,
           0.5284348483241927,
           0.22899968943586302,
           0.1938290645561414,
           0.18626148174159224,
           0.07399206043274519,
           0.5434345628973932,
           0.028144955305603177,
           -0.015540744904099695,
           -0.058072096131974914,
           0.03138823438125133,
           3.6908462404291006E-4,
           0.13331907695425385,
           -0.03326822071922838
          ],
          [
           -0.15946579838202912,
           -0.06969656079337891,
           0.1434330076418836,
           0.5476918091247283,
           0.45139665758545733,
           1.0,
           0.4924997462073594,
           0.0031903627742471876,
           -0.19677247394234873,
           -0.10309290796532183,
           -0.08153760376983783,
           -0.09028739437400082,
           -0.08667492212017074,
           0.028736377661448563,
           -0.1250050403029915,
           -0.04963830064613505,
           -0.02487874258207419,
           0.01706729581203281,
           0.017535784589822755,
           0.03861043360889942,
           -0.003764131853220164,
           -0.07471744222667406,
           0.07442140872762856,
           0.048995737038107806,
           0.02163276786153721,
           0.011791348488439714,
           -0.06116164972421557,
           -0.001006520513747368,
           -0.0747213600041853,
           -0.060095847038384186,
           0.03146500742034688,
           0.0342204394376368,
           0.9152755923537539,
           0.2619421891474989,
           0.32310404750573374,
           0.13039166418214487,
           0.07280207419713423,
           0.06191145573703669,
           0.06773231982336045,
           0.050252196426399234,
           -0.06328391970518311,
           0.021743221984747676,
           -0.005542457106998787,
           0.29597153580169394,
           -0.06607953889617986
          ],
          [
           -0.13915167512958856,
           0.01620601012392727,
           0.18827245330611653,
           0.640641056468138,
           0.4829455884591041,
           0.4924997462073594,
           1.0,
           0.035864140383811985,
           -0.16948595505756753,
           -0.11273741688655645,
           -0.007547205416977375,
           0.07930474213064156,
           0.005332377527164697,
           0.12010458181895761,
           -0.06856664926076105,
           -0.17028275189304598,
           0.06476700497499242,
           0.3502203843415962,
           0.03223449360337221,
           0.07535029224556156,
           0.04260265809980204,
           -0.04794013902807205,
           0.08700545129927575,
           0.06448704041499871,
           0.02001443016801966,
           0.03151420172255143,
           -0.05137930873961876,
           0.024722028526093898,
           -0.07252588445507199,
           -0.03317702331364465,
           -0.008579426440329547,
           -0.07105122450819466,
           0.5112302608891574,
           0.28032810332969355,
           0.3439932140688741,
           0.3309936286671728,
           0.06948753993506773,
           0.15761221375379175,
           0.026479948567353345,
           0.4420774296884591,
           0.08789243569537722,
           0.38532914326274065,
           0.007193412011592611,
           0.27430534324297207,
           -0.07223561085354979
          ],
          [
           0.057313279539962986,
           0.020146249670044795,
           0.006321712115964842,
           0.0613138516023331,
           0.05807685601203002,
           0.0031903627742471876,
           0.035864140383811985,
           1.0,
           -0.013058227165973922,
           -0.08131538288853503,
           -0.005933791740408723,
           0.058155989837040956,
           0.04298156636439587,
           0.012413649753701786,
           0.031293094493581024,
           0.0091908987687235,
           0.03511902921993526,
           0.09519478199954615,
           0.030290892840362776,
           0.024836407025353627,
           -0.03107026972863615,
           -0.035141214309570255,
           -0.0034387054749184572,
           0.007801767231348447,
           -0.002720847959820176,
           -0.0012681763981902963,
           -0.06080587539899441,
           -0.02643474769500551,
           0.03154915628852082,
           0.055034499136408226,
           -0.005015688380732229,
           -0.01835153001551262,
           0.002132450413872157,
           0.059193541512255164,
           0.09502795447392635,
           0.06691895670185496,
           0.006993761237283843,
           0.012012820786218957,
           0.041339078488340356,
           0.115580940369579,
           -0.011350112542143027,
           0.10730293029815242,
           -0.05973093494870584,
           0.08789955009886888,
           0.04200084425712721
          ],
          [
           0.2401189695419631,
           0.0978584081016254,
           -0.05137865194387879,
           -0.1880865541831375,
           -0.1421230852145034,
           -0.19677247394234873,
           -0.16948595505756753,
           -0.013058227165973922,
           1.0,
           -0.017088605026738993,
           0.06100303212019247,
           0.10029738329451036,
           0.12735811029838426,
           0.06302800880400014,
           0.10336576638974779,
           0.11520927616670754,
           0.16960907235174189,
           0.42880434411436574,
           0.014236677658097479,
           0.0248828908184808,
           0.06296688713100683,
           0.0602016167543076,
           -0.0236501913099611,
           -0.015035559067794163,
           5.490750728840325E-4,
           0.010251716062113914,
           0.08666382844892002,
           0.05251728164981018,
           0.03029834667633761,
           0.07538617433731765,
           0.003687613612667709,
           0.03728119500959001,
           -0.19038394262893682,
           -0.1945991605277884,
           -0.3303216152765678,
           0.019008104128578472,
           -0.04936841368167148,
           -0.05341939260459803,
           -0.07271450234627223,
           0.32139017465926467,
           0.123940732748748,
           0.4239125110192739,
           0.06016600113713952,
           -0.3162165240609447,
           0.041208852702224304
          ],
          [
           0.051578554576006116,
           0.07091320687969664,
           0.038482950651900986,
           -0.22669006029831992,
           -0.24801766342732331,
           -0.10309290796532183,
           -0.11273741688655645,
           -0.08131538288853503,
           -0.017088605026738993,
           1.0,
           0.057389925154044,
           -0.010541702244660703,
           -0.002910582984488808,
           0.00494673729190143,
           0.024925328833004357,
           -0.08345018103445023,
           -0.037011865652644214,
           -0.0650588437782652,
           -0.010414270391219897,
           -0.027790236421608168,
           -0.0023055930579571806,
           0.00219077307126108,
           -0.015266089614204621,
           -0.014431707180074752,
           -0.007060041459557153,
           0.0065820200262430946,
           0.01644655640034923,
           0.007119806568703343,
           -0.005515554052276504,
           -0.014499361006929577,
           0.01286750813427699,
           0.1239510127833499,
           -0.12646010490418627,
           -0.04348528073304866,
           0.01796178593050553,
           -0.04306176294984881,
           -0.015695047554563444,
           -0.2031153455817204,
           -0.009414474306014338,
           0.013464798328052903,
           0.00826863202421178,
           -0.06887289228552153,
           -0.011942625000475986,
           0.06068643494971328,
           -0.00775551074517895
          ],
          [
           0.0373210345492186,
           0.129070735701557,
           0.004461405714613924,
           -0.06665786925810037,
           -0.06710108634676429,
           -0.08153760376983783,
           -0.007547205416977375,
           -0.005933791740408723,
           0.06100303212019247,
           0.057389925154044,
           1.0,
           0.05547281825824012,
           0.09818043121059136,
           -0.04521286035555331,
           0.06555519175603498,
           -0.02960411850850178,
           0.09242857937767703,
           0.08481058108252759,
           0.03345866490960681,
           -0.005371175489810617,
           0.04451510660293388,
           0.05543361725142024,
           -0.013960359630611013,
           0.005585839037701613,
           -0.011649697841934729,
           0.012102003004361685,
           0.05543087687166935,
           0.013840010440470358,
           0.06271379236257552,
           0.059002831316993694,
           -0.014641621130086796,
           -0.035967152625977244,
           -0.0836695192563898,
           -0.10118046572179813,
           -0.040142657602424074,
           0.07424789337514895,
           -0.029474105824380654,
           -0.035452541546249765,
           -0.032475221492578525,
           0.0752235935102938,
           0.10367056552445263,
           0.08990993989720049,
           0.02770422031653386,
           -0.05622598364993581,
           0.0623084501456546
          ],
          [
           0.060458995562594604,
           0.016463936677025004,
           -0.033183199795824805,
           -0.0076403456295549765,
           0.0402608016513905,
           -0.09028739437400082,
           0.07930474213064156,
           0.058155989837040956,
           0.10029738329451036,
           -0.010541702244660703,
           0.05547281825824012,
           1.0,
           0.024146235114144758,
           0.07241056120421122,
           0.1509590196026996,
           -0.3692232600498085,
           -0.007175836068513128,
           0.11241504717682585,
           -0.012917239365199595,
           0.080098104262544,
           0.00966358239623625,
           -0.012572832164951201,
           -0.014082754001111893,
           -0.018507017847951137,
           -0.0025361641296299045,
           0.002958764774457221,
           0.004753259329849434,
           0.05325863422443268,
           -0.011403240199693337,
           0.001829712928467982,
           -0.04250286578048685,
           -0.029364957444913443,
           -0.09609925778061293,
           0.08241219879357173,
           -0.03163436489165808,
           0.6600730796297752,
           -0.01021457037525832,
           0.09090190062939277,
           0.15529475618364658,
           0.1345367537515963,
           0.0400352480925824,
           0.12469490310754552,
           -0.004142829271851424,
           -0.08043380738082188,
           -0.013038632639132304
          ],
          [
           0.0721812299702331,
           0.05556599577651791,
           -0.007267842932088579,
           -0.07383521865944405,
           -0.058726645443434505,
           -0.08667492212017074,
           0.005332377527164697,
           0.04298156636439587,
           0.12735811029838426,
           -0.002910582984488808,
           0.09818043121059136,
           0.024146235114144758,
           1.0,
           -0.4379286393588231,
           0.44698588764429015,
           0.04892432677359152,
           0.5159681007723651,
           0.241239008764025,
           0.325215951098356,
           0.1749568633016465,
           0.3497007039926663,
           0.25962985487883994,
           -0.012514138971850799,
           0.10018042199819105,
           -0.013612112668117125,
           0.04813311363600173,
           0.5833637689552335,
           0.2298331485114446,
           0.7146494321301704,
           0.6682119398562553,
           -0.03559593825404216,
           -0.09214378105842577,
           -0.09449656835361946,
           -0.05541647211524355,
           -0.019096180072413427,
           -0.030828941017653187,
           -0.19603556773434255,
           -0.006552707829521824,
           -0.02887127205493916,
           0.19894963209313007,
           0.9069574434540701,
           0.24152859360114448,
           0.3245745220084905,
           -0.02610387798185254,
           0.7695098503811263
          ],
          [
           0.04198433627258395,
           0.011966143028715489,
           0.037396853190931674,
           0.032974189598937415,
           0.01634783864346711,
           0.028736377661448563,
           0.12010458181895761,
           0.012413649753701786,
           0.06302800880400014,
           0.00494673729190143,
           -0.04521286035555331,
           0.07241056120421122,
           -0.4379286393588231,
           1.0,
           -0.09286522637099197,
           -0.0638101665714276,
           -0.7570289624819813,
           0.22564679475400604,
           -0.2518985072660277,
           0.021737606919702453,
           -0.17654623607350903,
           -0.1972944313606691,
           -0.056231767899342984,
           -0.12433616167742831,
           -0.022864962840744258,
           -0.04679099617757984,
           -0.26672949730508255,
           0.12828724980780679,
           -0.511542267097015,
           -0.4232758231763147,
           -0.037623159811829905,
           -0.11852552425870728,
           0.015443920938249056,
           0.05695509682635443,
           0.0372254326816133,
           0.10910989277879724,
           0.07827783364391368,
           0.009266004323687835,
           0.019041295084784096,
           0.19299065668667362,
           -0.3045336196909533,
           0.21704475076640012,
           -0.025950306262340527,
           -0.018340556602619015,
           -0.5307926106865137
          ],
          [
           0.07121414308494986,
           0.011988042033966449,
           -0.06122784425427788,
           -0.16875143455490613,
           -0.1468514452583928,
           -0.1250050403029915,
           -0.06856664926076105,
           0.031293094493581024,
           0.10336576638974779,
           0.024925328833004357,
           0.06555519175603498,
           0.1509590196026996,
           0.44698588764429015,
           -0.09286522637099197,
           1.0,
           -0.06162911592495457,
           0.15226105179211924,
           0.1147560316056398,
           0.12134136421986916,
           0.07193110938491859,
           0.26925665576633373,
           0.4134038982361591,
           -0.013171601864522747,
           0.06844646505898415,
           -0.011138463103178146,
           0.09683224099036644,
           0.2899908111883371,
           0.12695581415072132,
           0.3212388951184719,
           0.22209968821311293,
           -0.03138136218163442,
           0.014767963488686994,
           -0.1572200220234247,
           -0.04651295476819956,
           -0.033940806257557424,
           0.11003525546250423,
           -0.21674212563326875,
           0.004359130621110844,
           0.02809217323040108,
           0.13847270745520604,
           0.4468595749849929,
           0.12778343887053276,
           0.24938465769259663,
           -0.013090392044574324,
           0.25809578346909956
          ],
          [
           0.04484078791279507,
           -0.013795667708037028,
           -0.007753850561713485,
           -0.07860025615360695,
           -0.07307728494673713,
           -0.04963830064613505,
           -0.17028275189304598,
           0.0091908987687235,
           0.11520927616670754,
           -0.08345018103445023,
           -0.02960411850850178,
           -0.3692232600498085,
           0.04892432677359152,
           -0.0638101665714276,
           -0.06162911592495457,
           1.0,
           0.09061233208240013,
           0.04210256098053866,
           0.014234966974419186,
           -0.09773015058824393,
           -0.05313944833039368,
           0.018411637098942564,
           -0.01525889097011648,
           -0.0014287939073137153,
           -0.0042920571460410934,
           0.00653077229924178,
           0.015261111848030267,
           -0.024097853618039,
           0.04712447441763225,
           0.051580809356097504,
           0.6236488420058567,
           -0.07257673039941319,
           -0.036578243234988816,
           -0.15422356071304458,
           -0.1214253479932267,
           -0.5195633358187736,
           -0.02355085494230047,
           -0.035600993200316816,
           -0.17449943491177694,
           -0.026385092230365014,
           0.009755063064317173,
           0.030020659371916603,
           0.006995963626506802,
           -0.09866579966333017,
           0.04957436591065421
          ],
          [
           0.06107964685461152,
           0.050856495984002055,
           0.026991530198428308,
           -0.005848315212273224,
           -0.0020307602703519313,
           -0.02487874258207419,
           0.06476700497499242,
           0.03511902921993526,
           0.16960907235174189,
           -0.037011865652644214,
           0.09242857937767703,
           -0.007175836068513128,
           0.5159681007723651,
           -0.7570289624819813,
           0.15226105179211924,
           0.09061233208240013,
           1.0,
           0.3002324158894991,
           0.2591919570736677,
           -0.002129983973888414,
           0.1941886375673323,
           0.1697652942466643,
           0.05646592705551487,
           0.12428194620652139,
           0.019827046066215045,
           0.04476238012294088,
           0.26622112318400665,
           -0.037800639053542175,
           0.4838861229156546,
           0.4753276154798795,
           -7.800722409420998E-7,
           -0.11068083249041623,
           -0.022860482274217525,
           -0.043231903918085124,
           -0.018335655020605628,
           -0.02784727219186944,
           -0.06919409595111871,
           -0.009306658643598396,
           -0.04353219599822493,
           0.23188581848324225,
           0.4329682719663236,
           0.2931272089764554,
           0.10822115239252417,
           -0.04445300512042547,
           0.49867525694272674
          ],
          [
           0.1750474379755126,
           0.11291919509973469,
           0.11378871405270162,
           0.05960034077828098,
           0.02784466615250016,
           0.01706729581203281,
           0.3502203843415962,
           0.09519478199954615,
           0.42880434411436574,
           -0.0650588437782652,
           0.08481058108252759,
           0.11241504717682585,
           0.241239008764025,
           0.22564679475400604,
           0.1147560316056398,
           0.04210256098053866,
           0.3002324158894991,
           1.0,
           0.06306083171272153,
           0.08314831534349879,
           0.09387999072179927,
           -0.0020030685197640033,
           0.016713826220447255,
           0.030729066605191983,
           0.005570040021863506,
           0.01330789179262423,
           0.05483478277159893,
           0.06011259018158899,
           0.01206928930518015,
           0.1433091669439371,
           -0.09862080959797295,
           -0.4201572203275592,
           8.439536042991665E-4,
           0.01815820017145261,
           0.03234977869574632,
           0.1336970256344638,
           -0.002737285974416506,
           -0.003155900036760133,
           -0.04625738610437119,
           0.7956565969776433,
           0.3017140501616729,
           0.9569217281359282,
           0.06113966978346806,
           -0.12291742883272638,
           0.02952606969937375
          ],
          [
           0.008824238716490159,
           0.011326059679218198,
           0.018655179393311593,
           0.03320085518403619,
           0.027297324856643945,
           0.017535784589822755,
           0.03223449360337221,
           0.030290892840362776,
           0.014236677658097479,
           -0.010414270391219897,
           0.03345866490960681,
           -0.012917239365199595,
           0.325215951098356,
           -0.2518985072660277,
           0.12134136421986916,
           0.014234966974419186,
           0.2591919570736677,
           0.06306083171272153,
           1.0,
           0.0865405266284952,
           0.13167168561392625,
           0.11922242518650453,
           0.37269155516730446,
           0.6129757937081755,
           0.10089564429893817,
           0.09629008254891368,
           0.19475549950784038,
           0.022596763270033,
           0.33061380253506295,
           0.4082170761495584,
           -0.02087277360692724,
           -0.04474967166095576,
           0.026386949564070922,
           -0.008020697004170924,
           -0.005035368762701295,
           -0.010415705590181118,
           -0.005954106803738816,
           -0.002746279497458118,
           -0.013598928142581216,
           0.03317793597385412,
           0.25196104113742435,
           0.05356761581099846,
           0.21621243707361223,
           -8.845917982912717E-4,
           0.37706805375275637
          ],
          [
           0.015902831058523904,
           -0.02155411212266686,
           0.023774559130963022,
           0.07032010601299413,
           0.07220728052091933,
           0.03861043360889942,
           0.07535029224556156,
           0.024836407025353627,
           0.0248828908184808,
           -0.027790236421608168,
           -0.005371175489810617,
           0.080098104262544,
           0.1749568633016465,
           0.021737606919702453,
           0.07193110938491859,
           -0.09773015058824393,
           -0.002129983973888414,
           0.08314831534349879,
           0.0865405266284952,
           1.0,
           0.14352443005270132,
           0.05072792125248641,
           0.10364584708401985,
           0.09613547156662461,
           0.015742384074056894,
           0.013262103859776646,
           0.19119987452667683,
           0.3318176788470057,
           0.11302865717591547,
           0.09540946629145863,
           -0.06688925525565363,
           -0.04144753485460909,
           0.04432193884869443,
           0.03524051124882793,
           0.03407872194291279,
           0.11070759849240575,
           -0.027499209904402563,
           0.03545147676782768,
           0.04003798846006953,
           0.06950391507610165,
           0.19211928340842763,
           0.0936226723604828,
           0.099152029940445,
           0.016222239642557593,
           0.07336529819175217
          ],
          [
           0.013439788639679028,
           0.043288816943506794,
           0.01669491642090826,
           0.010577394477249326,
           0.0027935214029291135,
           -0.003764131853220164,
           0.04260265809980204,
           -0.03107026972863615,
           0.06296688713100683,
           -0.0023055930579571806,
           0.04451510660293388,
           0.00966358239623625,
           0.3497007039926663,
           -0.17654623607350903,
           0.26925665576633373,
           -0.05313944833039368,
           0.1941886375673323,
           0.09387999072179927,
           0.13167168561392625,
           0.14352443005270132,
           1.0,
           0.16939874584653886,
           0.05438657981719795,
           0.07518205019751191,
           0.024574744039542126,
           0.03778352227409811,
           0.5052936851236326,
           0.314633998428098,
           0.20884681485787054,
           0.16778117398245943,
           -0.06798781969098251,
           -0.04268219045966506,
           -0.0024733341107749233,
           -0.02583792283864049,
           -0.026349986449771216,
           0.005762087454370456,
           -0.16084368338588298,
           -0.004905247380824799,
           -0.025934797970780667,
           0.0564082123859568,
           0.393449899351733,
           0.08635467436378157,
           0.268715047703139,
           -0.02657015714888227,
           0.15379567790250398
          ],
          [
           0.02700328707705566,
           0.023501055102510073,
           -0.021953320178582033,
           -0.04709531622865651,
           -0.03673260500392012,
           -0.07471744222667406,
           -0.04794013902807205,
           -0.035141214309570255,
           0.0602016167543076,
           0.00219077307126108,
           0.05543361725142024,
           -0.012572832164951201,
           0.25962985487883994,
           -0.1972944313606691,
           0.4134038982361591,
           0.018411637098942564,
           0.1697652942466643,
           -0.0020030685197640033,
           0.11922242518650453,
           0.05072792125248641,
           0.16939874584653886,
           1.0,
           0.06143942036029196,
           0.06994074472317184,
           0.02259049066714023,
           0.08164439830561396,
           0.28287105565037424,
           0.04960501361648587,
           0.2404831089591403,
           0.12140731607675298,
           -0.00886956919838707,
           -7.24917986764753E-4,
           -0.06899307165836946,
           -0.09915748845207009,
           -0.10298195617558899,
           -0.03532369572703171,
           -0.045926499516773425,
           -0.02016806881270499,
           -0.025550232523667785,
           -0.008748817657986501,
           0.24816559969095953,
           0.0012591453094350923,
           0.22166927541045484,
           -0.08239359415037738,
           0.20238958561067774
          ],
          [
           -0.027902090423045547,
           0.010685447036029543,
           0.030000583733498298,
           0.07260995946238835,
           0.060446443031087344,
           0.07442140872762856,
           0.08700545129927575,
           -0.0034387054749184572,
           -0.0236501913099611,
           -0.015266089614204621,
           -0.013960359630611013,
           -0.014082754001111893,
           -0.012514138971850799,
           -0.056231767899342984,
           -0.013171601864522747,
           -0.01525889097011648,
           0.05646592705551487,
           0.016713826220447255,
           0.37269155516730446,
           0.10364584708401985,
           0.05438657981719795,
           0.06143942036029196,
           1.0,
           0.6001291695090182,
           0.23470333740116267,
           0.0755240291153318,
           0.07614656229633418,
           0.0565111350793307,
           0.0234734208998532,
           0.020294375373791397,
           -0.0050855107662235955,
           -0.00578875118240921,
           0.07964977244595108,
           0.03581575663328125,
           0.0208669417506086,
           0.024239324753035106,
           0.06617191013435164,
           -0.0022584852915020237,
           0.006334059572848377,
           0.022494384455433024,
           -0.0014610610269543513,
           0.020238969837109533,
           0.19968739468984245,
           0.04103519991300586,
           -0.010614490407678763
          ],
          [
           -0.012635876670433005,
           0.013765388746686546,
           0.011815210528188251,
           0.06022266313805118,
           0.05069644333779912,
           0.048995737038107806,
           0.06448704041499871,
           0.007801767231348447,
           -0.015035559067794163,
           -0.014431707180074752,
           0.005585839037701613,
           -0.018507017847951137,
           0.10018042199819105,
           -0.12433616167742831,
           0.06844646505898415,
           -0.0014287939073137153,
           0.12428194620652139,
           0.030729066605191983,
           0.6129757937081755,
           0.09613547156662461,
           0.07518205019751191,
           0.06994074472317184,
           0.6001291695090182,
           1.0,
           0.1541444513592299,
           0.10748493527255655,
           0.1143940013685585,
           0.03580224765603199,
           0.12346281556213709,
           0.14453274356286516,
           -0.007481374512071814,
           -0.01866796257817425,
           0.05695466340892168,
           0.011266709502295597,
           0.010519336113080343,
           0.012077028893382418,
           0.042563233806548806,
           0.00431525861786326,
           -0.006894265689752677,
           0.021334962597131142,
           0.0835059495479035,
           0.029625049612332973,
           0.19691071968741622,
           0.02680653190656385,
           0.11884969944151899
          ],
          [
           -0.01156774840770683,
           0.011492477400858634,
           0.007656173574069865,
           0.015898039314952355,
           0.004633348222443802,
           0.02163276786153721,
           0.02001443016801966,
           -0.002720847959820176,
           5.490750728840325E-4,
           -0.007060041459557153,
           -0.011649697841934729,
           -0.0025361641296299045,
           -0.013612112668117125,
           -0.022864962840744258,
           -0.011138463103178146,
           -0.0042920571460410934,
           0.019827046066215045,
           0.005570040021863506,
           0.10089564429893817,
           0.015742384074056894,
           0.024574744039542126,
           0.02259049066714023,
           0.23470333740116267,
           0.1541444513592299,
           1.0,
           0.05947706577168971,
           0.019049612073472433,
           -0.011444529463540649,
           0.010962859959345773,
           -2.750005687290242E-4,
           -0.0033881576250072614,
           0.007440914539983778,
           0.026033273260322922,
           0.015398884050774742,
           0.0015983300301446086,
           -0.0010996517306236507,
           0.018322657344401205,
           -0.0148946809902519,
           -1.1836631422373243E-4,
           0.008054335911050231,
           -0.017074938320716708,
           0.004161154574294083,
           0.053702435042071006,
           0.015874647389732287,
           -0.003085220323098558
          ],
          [
           -0.00913922307846281,
           0.01532593502138013,
           -0.008098617184198171,
           0.00898533164747761,
           0.002225130237376343,
           0.011791348488439714,
           0.03151420172255143,
           -0.0012681763981902963,
           0.010251716062113914,
           0.0065820200262430946,
           0.012102003004361685,
           0.002958764774457221,
           0.04813311363600173,
           -0.04679099617757984,
           0.09683224099036644,
           0.00653077229924178,
           0.04476238012294088,
           0.01330789179262423,
           0.09629008254891368,
           0.013262103859776646,
           0.03778352227409811,
           0.08164439830561396,
           0.0755240291153318,
           0.10748493527255655,
           0.05947706577168971,
           1.0,
           0.056948860604976524,
           0.007018802169204741,
           0.06208955802457559,
           0.00865597898032124,
           0.012713768486461576,
           0.012156051853297253,
           0.01612892691942599,
           -0.0050305213298370574,
           0.012628228730856271,
           0.00558467113725213,
           0.0037566012369311505,
           2.0886795536373084E-4,
           -0.005855784952479442,
           0.027412325534498367,
           0.05862674082471388,
           0.017059385552098353,
           0.13331217631390435,
           0.034642924407483844,
           0.018940185934734753
          ],
          [
           0.04823806088973872,
           0.051972414696196796,
           -0.0012015650833497344,
           -0.04648968177430752,
           -0.028008893700884226,
           -0.06116164972421557,
           -0.05137930873961876,
           -0.06080587539899441,
           0.08666382844892002,
           0.01644655640034923,
           0.05543087687166935,
           0.004753259329849434,
           0.5833637689552335,
           -0.26672949730508255,
           0.2899908111883371,
           0.015261111848030267,
           0.26622112318400665,
           0.05483478277159893,
           0.19475549950784038,
           0.19119987452667683,
           0.5052936851236326,
           0.28287105565037424,
           0.07614656229633418,
           0.1143940013685585,
           0.019049612073472433,
           0.056948860604976524,
           1.0,
           0.5098144352417308,
           0.37033922411295944,
           0.265154490797614,
           -0.018131154993223392,
           -0.046558691144824284,
           -0.05890850560790458,
           -0.058852656958804664,
           -0.06824338002841289,
           -0.0409212239569648,
           -0.12240814335858406,
           -0.011630446343810042,
           -0.026423851802669502,
           0.01337301425183552,
           0.623364519482257,
           0.052395200269075015,
           0.49258396089502765,
           -0.04945708475270615,
           0.2938037110631757
          ],
          [
           0.039154454747830254,
           0.03716449211456095,
           0.001693097793120684,
           0.018031753016006083,
           0.027503635433105713,
           -0.001006520513747368,
           0.024722028526093898,
           -0.02643474769500551,
           0.05251728164981018,
           0.007119806568703343,
           0.013840010440470358,
           0.05325863422443268,
           0.2298331485114446,
           0.12828724980780679,
           0.12695581415072132,
           -0.024097853618039,
           -0.037800639053542175,
           0.06011259018158899,
           0.022596763270033,
           0.3318176788470057,
           0.314633998428098,
           0.04960501361648587,
           0.0565111350793307,
           0.03580224765603199,
           -0.011444529463540649,
           0.007018802169204741,
           0.5098144352417308,
           1.0,
           0.022381781518347587,
           -0.01239855720670056,
           0.002328575623878658,
           -0.05122567012220084,
           -0.002425728303079586,
           -0.004503738160508547,
           -0.018878090780771253,
           0.05913301236614329,
           -0.053720046602635546,
           0.01357087483369379,
           -0.009831386205474637,
           0.041117011865434844,
           0.3235957200632654,
           0.06654639736593193,
           0.41510236265205996,
           -0.014254547518956726,
           -0.06239995935986157
          ],
          [
           0.03494109710183666,
           0.009726641628293578,
           -0.017706891518029743,
           -0.06012481642607101,
           -0.03862881186536154,
           -0.0747213600041853,
           -0.07252588445507199,
           0.03154915628852082,
           0.03029834667633761,
           -0.005515554052276504,
           0.06271379236257552,
           -0.011403240199693337,
           0.7146494321301704,
           -0.511542267097015,
           0.3212388951184719,
           0.04712447441763225,
           0.4838861229156546,
           0.01206928930518015,
           0.33061380253506295,
           0.11302865717591547,
           0.20884681485787054,
           0.2404831089591403,
           0.0234734208998532,
           0.12346281556213709,
           0.010962859959345773,
           0.06208955802457559,
           0.37033922411295944,
           0.022381781518347587,
           1.0,
           0.6147224075150096,
           -0.02678772354883086,
           -0.031863894241092657,
           -0.07295211715028845,
           -0.05154922862151126,
           -0.028801565690444616,
           -0.05831453080194938,
           -0.13818195027220376,
           -4.927844457687517E-4,
           -0.005510968793625779,
           -0.001973952177515231,
           0.563246841253072,
           0.024245159146934467,
           0.2869596070800026,
           -0.012620057981558318,
           0.7533843921187545
          ],
          [
           0.04784657568583699,
           0.029669753949741636,
           0.0016735234742698128,
           -0.04659447681768676,
           -0.030959620261389306,
           -0.060095847038384186,
           -0.03317702331364465,
           0.055034499136408226,
           0.07538617433731765,
           -0.014499361006929577,
           0.059002831316993694,
           0.001829712928467982,
           0.6682119398562553,
           -0.4232758231763147,
           0.22209968821311293,
           0.051580809356097504,
           0.4753276154798795,
           0.1433091669439371,
           0.4082170761495584,
           0.09540946629145863,
           0.16778117398245943,
           0.12140731607675298,
           0.020294375373791397,
           0.14453274356286516,
           -2.750005687290242E-4,
           0.00865597898032124,
           0.265154490797614,
           -0.01239855720670056,
           0.6147224075150096,
           1.0,
           -0.04639159318168195,
           -0.10920874767080649,
           -0.06333947048784877,
           -0.023522688188652944,
           -0.002518689594574064,
           -0.027083848743177628,
           -0.08596525271714141,
           -0.006873458870488573,
           -0.00712608852252222,
           0.07842107089263958,
           0.49371246966537014,
           0.12796863191686275,
           0.14626911882410995,
           -0.030957373849929994,
           0.7957313082113857
          ],
          [
           -0.01610023684844007,
           -0.015442631768529762,
           -0.05311893055513708,
           -0.0014101218480264803,
           -0.008771325327728691,
           0.03146500742034688,
           -0.008579426440329547,
           -0.005015688380732229,
           0.003687613612667709,
           0.01286750813427699,
           -0.014641621130086796,
           -0.04250286578048685,
           -0.03559593825404216,
           -0.037623159811829905,
           -0.03138136218163442,
           0.6236488420058567,
           -7.800722409420998E-7,
           -0.09862080959797295,
           -0.02087277360692724,
           -0.06688925525565363,
           -0.06798781969098251,
           -0.00886956919838707,
           -0.0050855107662235955,
           -0.007481374512071814,
           -0.0033881576250072614,
           0.012713768486461576,
           -0.018131154993223392,
           0.002328575623878658,
           -0.02678772354883086,
           -0.04639159318168195,
           1.0,
           0.2184597745006033,
           0.030207193883357953,
           -0.019537796360784745,
           0.007996265113259344,
           -0.005757559899576175,
           -0.025008258297288366,
           0.00891964823126894,
           -0.0019548711817327395,
           -0.03612458493270981,
           -0.018893757262973408,
           -0.09962560272510003,
           -0.017800658296780788,
           0.0762353482809575,
           -0.04389926245512607
          ],
          [
           -0.038568431940482005,
           0.010117321825945928,
           -0.14231522563982368,
           -0.07651207414971979,
           -0.10288038472330817,
           0.0342204394376368,
           -0.07105122450819466,
           -0.01835153001551262,
           0.03728119500959001,
           0.1239510127833499,
           -0.035967152625977244,
           -0.029364957444913443,
           -0.09214378105842577,
           -0.11852552425870728,
           0.014767963488686994,
           -0.07257673039941319,
           -0.11068083249041623,
           -0.4201572203275592,
           -0.04474967166095576,
           -0.04144753485460909,
           -0.04268219045966506,
           -7.24917986764753E-4,
           -0.00578875118240921,
           -0.01866796257817425,
           0.007440914539983778,
           0.012156051853297253,
           -0.046558691144824284,
           -0.05122567012220084,
           -0.031863894241092657,
           -0.10920874767080649,
           0.2184597745006033,
           1.0,
           0.022331102857704798,
           -0.04445026357935494,
           -0.05891714523742906,
           0.021876011404529074,
           -0.050746506103311675,
           -0.029074420153039078,
           0.024848659048573526,
           -0.08021656173419535,
           -0.053798161381974484,
           -0.4203849638938595,
           -0.0634021022258068,
           0.2767712704583509,
           -0.05543820397289062
          ],
          [
           -0.16305542466932443,
           -0.07741374186208187,
           0.1498691104152707,
           0.6171912098752177,
           0.5284348483241927,
           0.9152755923537539,
           0.5112302608891574,
           0.002132450413872157,
           -0.19038394262893682,
           -0.12646010490418627,
           -0.0836695192563898,
           -0.09609925778061293,
           -0.09449656835361946,
           0.015443920938249056,
           -0.1572200220234247,
           -0.036578243234988816,
           -0.022860482274217525,
           8.439536042991665E-4,
           0.026386949564070922,
           0.04432193884869443,
           -0.0024733341107749233,
           -0.06899307165836946,
           0.07964977244595108,
           0.05695466340892168,
           0.026033273260322922,
           0.01612892691942599,
           -0.05890850560790458,
           -0.002425728303079586,
           -0.07295211715028845,
           -0.06333947048784877,
           0.030207193883357953,
           0.022331102857704798,
           1.0,
           0.24302323145938867,
           0.28156831483570693,
           0.1195614872744803,
           0.08038785094707744,
           0.06714358691792265,
           0.061110242714923414,
           0.021442013721695758,
           -0.07723271475567052,
           0.003340836862769884,
           -4.917598696384394E-4,
           0.25369082804363957,
           -0.06370588338247757
          ],
          [
           -0.09217845573522312,
           -0.06881353604622191,
           0.08211369478603342,
           0.25085783844132825,
           0.22899968943586302,
           0.2619421891474989,
           0.28032810332969355,
           0.059193541512255164,
           -0.1945991605277884,
           -0.04348528073304866,
           -0.10118046572179813,
           0.08241219879357173,
           -0.05541647211524355,
           0.05695509682635443,
           -0.04651295476819956,
           -0.15422356071304458,
           -0.043231903918085124,
           0.01815820017145261,
           -0.008020697004170924,
           0.03524051124882793,
           -0.02583792283864049,
           -0.09915748845207009,
           0.03581575663328125,
           0.011266709502295597,
           0.015398884050774742,
           -0.0050305213298370574,
           -0.058852656958804664,
           -0.004503738160508547,
           -0.05154922862151126,
           -0.023522688188652944,
           -0.019537796360784745,
           -0.04445026357935494,
           0.24302323145938867,
           1.0,
           0.5241472796523214,
           0.2268441005093652,
           0.02441296236389304,
           0.12326927872536902,
           0.21806828716390433,
           0.03988990686505215,
           -0.04043532660400075,
           0.02389645334191742,
           -0.005333841595298387,
           0.46200818671657823,
           -0.05578707546019381
          ],
          [
           -0.1313567405201051,
           -0.06872184085403618,
           0.10029334150708644,
           0.24623646922902603,
           0.1938290645561414,
           0.32310404750573374,
           0.3439932140688741,
           0.09502795447392635,
           -0.3303216152765678,
           0.01796178593050553,
           -0.040142657602424074,
           -0.03163436489165808,
           -0.019096180072413427,
           0.0372254326816133,
           -0.033940806257557424,
           -0.1214253479932267,
           -0.018335655020605628,
           0.03234977869574632,
           -0.005035368762701295,
           0.03407872194291279,
           -0.026349986449771216,
           -0.10298195617558899,
           0.0208669417506086,
           0.010519336113080343,
           0.0015983300301446086,
           0.012628228730856271,
           -0.06824338002841289,
           -0.018878090780771253,
           -0.028801565690444616,
           -0.002518689594574064,
           0.007996265113259344,
           -0.05891714523742906,
           0.28156831483570693,
           0.5241472796523214,
           1.0,
           0.17046586146214365,
           0.02660891323225946,
           0.10714897577691761,
           0.19765621703258238,
           0.06388401734867656,
           -8.852838564129177E-4,
           0.03726393757968458,
           -0.0257065723631105,
           0.875909503956207,
           -0.02473246703187204
          ],
          [
           -0.009757196240373493,
           0.004324514852482877,
           -0.009886384419034753,
           0.17854846625460208,
           0.18626148174159224,
           0.13039166418214487,
           0.3309936286671728,
           0.06691895670185496,
           0.019008104128578472,
           -0.04306176294984881,
           0.07424789337514895,
           0.6600730796297752,
           -0.030828941017653187,
           0.10910989277879724,
           0.11003525546250423,
           -0.5195633358187736,
           -0.02784727219186944,
           0.1336970256344638,
           -0.010415705590181118,
           0.11070759849240575,
           0.005762087454370456,
           -0.03532369572703171,
           0.024239324753035106,
           0.012077028893382418,
           -0.0010996517306236507,
           0.00558467113725213,
           -0.0409212239569648,
           0.05913301236614329,
           -0.05831453080194938,
           -0.027083848743177628,
           -0.005757559899576175,
           0.021876011404529074,
           0.1195614872744803,
           0.2268441005093652,
           0.17046586146214365,
           1.0,
           0.019800406511683032,
           0.14200666860624683,
           0.2934922102694139,
           0.18639067166405512,
           0.00849588730962231,
           0.15150822902320082,
           3.7837314003975084E-4,
           0.08841089568225013,
           -0.06557269833972079
          ],
          [
           -0.026113021564237303,
           0.0019626482045376867,
           0.038120178011373705,
           0.08534948467458675,
           0.07399206043274519,
           0.07280207419713423,
           0.06948753993506773,
           0.006993761237283843,
           -0.04936841368167148,
           -0.015695047554563444,
           -0.029474105824380654,
           -0.01021457037525832,
           -0.19603556773434255,
           0.07827783364391368,
           -0.21674212563326875,
           -0.02355085494230047,
           -0.06919409595111871,
           -0.002737285974416506,
           -0.005954106803738816,
           -0.027499209904402563,
           -0.16084368338588298,
           -0.045926499516773425,
           0.06617191013435164,
           0.042563233806548806,
           0.018322657344401205,
           0.0037566012369311505,
           -0.12240814335858406,
           -0.053720046602635546,
           -0.13818195027220376,
           -0.08596525271714141,
           -0.025008258297288366,
           -0.050746506103311675,
           0.08038785094707744,
           0.02441296236389304,
           0.02660891323225946,
           0.019800406511683032,
           1.0,
           -0.013326433570978362,
           0.00397732659583853,
           -0.004479981298529787,
           -0.1927502613660533,
           -0.003531971919794904,
           -0.005092771923716497,
           0.010521463335785769,
           -0.10517547325718779
          ],
          [
           -0.06715862042091922,
           -0.052606220541015124,
           -0.02503435343185976,
           0.400870557297422,
           0.5434345628973932,
           0.06191145573703669,
           0.15761221375379175,
           0.012012820786218957,
           -0.05341939260459803,
           -0.2031153455817204,
           -0.035452541546249765,
           0.09090190062939277,
           -0.006552707829521824,
           0.009266004323687835,
           0.004359130621110844,
           -0.035600993200316816,
           -0.009306658643598396,
           -0.003155900036760133,
           -0.002746279497458118,
           0.03545147676782768,
           -0.004905247380824799,
           -0.02016806881270499,
           -0.0022584852915020237,
           0.00431525861786326,
           -0.0148946809902519,
           2.0886795536373084E-4,
           -0.011630446343810042,
           0.01357087483369379,
           -4.927844457687517E-4,
           -0.006873458870488573,
           0.00891964823126894,
           -0.029074420153039078,
           0.06714358691792265,
           0.12326927872536902,
           0.10714897577691761,
           0.14200666860624683,
           -0.013326433570978362,
           1.0,
           0.03709217304820056,
           -0.027569826125954103,
           -0.009122251618691516,
           0.001587694890410629,
           0.0028326890683316487,
           0.07864673746815216,
           8.79850869045938E-4
          ],
          [
           -0.030304820901227263,
           -0.051535608603829684,
           -0.009251350041440903,
           0.019187526013941327,
           0.028144955305603177,
           0.06773231982336045,
           0.026479948567353345,
           0.041339078488340356,
           -0.07271450234627223,
           -0.009414474306014338,
           -0.032475221492578525,
           0.15529475618364658,
           -0.02887127205493916,
           0.019041295084784096,
           0.02809217323040108,
           -0.17449943491177694,
           -0.04353219599822493,
           -0.04625738610437119,
           -0.013598928142581216,
           0.04003798846006953,
           -0.025934797970780667,
           -0.025550232523667785,
           0.006334059572848377,
           -0.006894265689752677,
           -1.1836631422373243E-4,
           -0.005855784952479442,
           -0.026423851802669502,
           -0.009831386205474637,
           -0.005510968793625779,
           -0.00712608852252222,
           -0.0019548711817327395,
           0.024848659048573526,
           0.061110242714923414,
           0.21806828716390433,
           0.19765621703258238,
           0.2934922102694139,
           0.00397732659583853,
           0.03709217304820056,
           1.0,
           -0.026030011302405565,
           -0.03123207142025434,
           -0.04480884843942178,
           -0.003537817445006365,
           0.1666704180868313,
           -0.010149731411744023
          ],
          [
           0.2144429538206716,
           0.13451779033356018,
           0.07937480477318837,
           0.041146977175696674,
           -0.015540744904099695,
           0.050252196426399234,
           0.4420774296884591,
           0.115580940369579,
           0.32139017465926467,
           0.013464798328052903,
           0.0752235935102938,
           0.1345367537515963,
           0.19894963209313007,
           0.19299065668667362,
           0.13847270745520604,
           -0.026385092230365014,
           0.23188581848324225,
           0.7956565969776433,
           0.03317793597385412,
           0.06950391507610165,
           0.0564082123859568,
           -0.008748817657986501,
           0.022494384455433024,
           0.021334962597131142,
           0.008054335911050231,
           0.027412325534498367,
           0.01337301425183552,
           0.041117011865434844,
           -0.001973952177515231,
           0.07842107089263958,
           -0.03612458493270981,
           -0.08021656173419535,
           0.021442013721695758,
           0.03988990686505215,
           0.06388401734867656,
           0.18639067166405512,
           -0.004479981298529787,
           -0.027569826125954103,
           -0.026030011302405565,
           1.0,
           0.28896843017846197,
           0.8359369735925075,
           0.020313683010444873,
           0.031322020133066585,
           -0.0037005913784351413
          ],
          [
           0.06862543058721522,
           0.07265482815254086,
           0.0030720970762818036,
           -0.059891282694101995,
           -0.058072096131974914,
           -0.06328391970518311,
           0.08789243569537722,
           -0.011350112542143027,
           0.123940732748748,
           0.00826863202421178,
           0.10367056552445263,
           0.0400352480925824,
           0.9069574434540701,
           -0.3045336196909533,
           0.4468595749849929,
           0.009755063064317173,
           0.4329682719663236,
           0.3017140501616729,
           0.25196104113742435,
           0.19211928340842763,
           0.393449899351733,
           0.24816559969095953,
           -0.0014610610269543513,
           0.0835059495479035,
           -0.017074938320716708,
           0.05862674082471388,
           0.623364519482257,
           0.3235957200632654,
           0.563246841253072,
           0.49371246966537014,
           -0.018893757262973408,
           -0.053798161381974484,
           -0.07723271475567052,
           -0.04043532660400075,
           -8.852838564129177E-4,
           0.00849588730962231,
           -0.1927502613660533,
           -0.009122251618691516,
           -0.03123207142025434,
           0.28896843017846197,
           1.0,
           0.29751190490430146,
           0.4001126618583178,
           0.004798490923639275,
           0.5250860546498196
          ],
          [
           0.16159768725615264,
           0.11423311064251176,
           0.1180631387338824,
           0.06884730523244266,
           0.03138823438125133,
           0.021743221984747676,
           0.38532914326274065,
           0.10730293029815242,
           0.4239125110192739,
           -0.06887289228552153,
           0.08990993989720049,
           0.12469490310754552,
           0.24152859360114448,
           0.21704475076640012,
           0.12778343887053276,
           0.030020659371916603,
           0.2931272089764554,
           0.9569217281359282,
           0.05356761581099846,
           0.0936226723604828,
           0.08635467436378157,
           0.0012591453094350923,
           0.020238969837109533,
           0.029625049612332973,
           0.004161154574294083,
           0.017059385552098353,
           0.052395200269075015,
           0.06654639736593193,
           0.024245159146934467,
           0.12796863191686275,
           -0.09962560272510003,
           -0.4203849638938595,
           0.003340836862769884,
           0.02389645334191742,
           0.03726393757968458,
           0.15150822902320082,
           -0.003531971919794904,
           0.001587694890410629,
           -0.04480884843942178,
           0.8359369735925075,
           0.29751190490430146,
           1.0,
           0.058089616112515945,
           -0.11777299581154001,
           0.03740132398533809
          ],
          [
           0.03440605686065163,
           0.033591390258838935,
           -0.002698081713404052,
           -0.0021262738441273953,
           3.6908462404291006E-4,
           -0.005542457106998787,
           0.007193412011592611,
           -0.05973093494870584,
           0.06016600113713952,
           -0.011942625000475986,
           0.02770422031653386,
           -0.004142829271851424,
           0.3245745220084905,
           -0.025950306262340527,
           0.24938465769259663,
           0.006995963626506802,
           0.10822115239252417,
           0.06113966978346806,
           0.21621243707361223,
           0.099152029940445,
           0.268715047703139,
           0.22166927541045484,
           0.19968739468984245,
           0.19691071968741622,
           0.053702435042071006,
           0.13331217631390435,
           0.49258396089502765,
           0.41510236265205996,
           0.2869596070800026,
           0.14626911882410995,
           -0.017800658296780788,
           -0.0634021022258068,
           -4.917598696384394E-4,
           -0.005333841595298387,
           -0.0257065723631105,
           3.7837314003975084E-4,
           -0.005092771923716497,
           0.0028326890683316487,
           -0.003537817445006365,
           0.020313683010444873,
           0.4001126618583178,
           0.058089616112515945,
           1.0,
           0.019914502632464852,
           0.1281430836023293
          ],
          [
           -0.13823396315979045,
           -0.055424601463224164,
           0.04246781808382739,
           0.1941813099404445,
           0.13331907695425385,
           0.29597153580169394,
           0.27430534324297207,
           0.08789955009886888,
           -0.3162165240609447,
           0.06068643494971328,
           -0.05622598364993581,
           -0.08043380738082188,
           -0.02610387798185254,
           -0.018340556602619015,
           -0.013090392044574324,
           -0.09866579966333017,
           -0.04445300512042547,
           -0.12291742883272638,
           -8.845917982912717E-4,
           0.016222239642557593,
           -0.02657015714888227,
           -0.08239359415037738,
           0.04103519991300586,
           0.02680653190656385,
           0.015874647389732287,
           0.034642924407483844,
           -0.04945708475270615,
           -0.014254547518956726,
           -0.012620057981558318,
           -0.030957373849929994,
           0.0762353482809575,
           0.2767712704583509,
           0.25369082804363957,
           0.46200818671657823,
           0.875909503956207,
           0.08841089568225013,
           0.010521463335785769,
           0.07864673746815216,
           0.1666704180868313,
           0.031322020133066585,
           0.004798490923639275,
           -0.11777299581154001,
           0.019914502632464852,
           1.0,
           -0.032661053378931666
          ],
          [
           0.02694881794569344,
           0.009893175077326864,
           -0.02316326660443894,
           -0.05156450167000013,
           -0.03326822071922838,
           -0.06607953889617986,
           -0.07223561085354979,
           0.04200084425712721,
           0.041208852702224304,
           -0.00775551074517895,
           0.0623084501456546,
           -0.013038632639132304,
           0.7695098503811263,
           -0.5307926106865137,
           0.25809578346909956,
           0.04957436591065421,
           0.49867525694272674,
           0.02952606969937375,
           0.37706805375275637,
           0.07336529819175217,
           0.15379567790250398,
           0.20238958561067774,
           -0.010614490407678763,
           0.11884969944151899,
           -0.003085220323098558,
           0.018940185934734753,
           0.2938037110631757,
           -0.06239995935986157,
           0.7533843921187545,
           0.7957313082113857,
           -0.04389926245512607,
           -0.05543820397289062,
           -0.06370588338247757,
           -0.05578707546019381,
           -0.02473246703187204,
           -0.06557269833972079,
           -0.10517547325718779,
           8.79850869045938E-4,
           -0.010149731411744023,
           -0.0037005913784351413,
           0.5250860546498196,
           0.03740132398533809,
           0.1281430836023293,
           -0.032661053378931666,
           1.0
          ]
         ],
         "type": "heatmap",
         "xaxis": "x",
         "yaxis": "y",
         "hovertemplate": "Variables: %{x}<br>Variables: %{y}<br>Coefficient de corrélation: %{z}<extra></extra>"
        }
       ],
       "layout": {
        "template": {
         "data": {
          "histogram2dcontour": [
           {
            "type": "histogram2dcontour",
            "colorbar": {
             "outlinewidth": 0,
             "ticks": ""
            },
            "colorscale": [
             [
              0.0,
              "#0d0887"
             ],
             [
              0.1111111111111111,
              "#46039f"
             ],
             [
              0.2222222222222222,
              "#7201a8"
             ],
             [
              0.3333333333333333,
              "#9c179e"
             ],
             [
              0.4444444444444444,
              "#bd3786"
             ],
             [
              0.5555555555555556,
              "#d8576b"
             ],
             [
              0.6666666666666666,
              "#ed7953"
             ],
             [
              0.7777777777777778,
              "#fb9f3a"
             ],
             [
              0.8888888888888888,
              "#fdca26"
             ],
             [
              1.0,
              "#f0f921"
             ]
            ]
           }
          ],
          "choropleth": [
           {
            "type": "choropleth",
            "colorbar": {
             "outlinewidth": 0,
             "ticks": ""
            }
           }
          ],
          "histogram2d": [
           {
            "type": "histogram2d",
            "colorbar": {
             "outlinewidth": 0,
             "ticks": ""
            },
            "colorscale": [
             [
              0.0,
              "#0d0887"
             ],
             [
              0.1111111111111111,
              "#46039f"
             ],
             [
              0.2222222222222222,
              "#7201a8"
             ],
             [
              0.3333333333333333,
              "#9c179e"
             ],
             [
              0.4444444444444444,
              "#bd3786"
             ],
             [
              0.5555555555555556,
              "#d8576b"
             ],
             [
              0.6666666666666666,
              "#ed7953"
             ],
             [
              0.7777777777777778,
              "#fb9f3a"
             ],
             [
              0.8888888888888888,
              "#fdca26"
             ],
             [
              1.0,
              "#f0f921"
             ]
            ]
           }
          ],
          "heatmap": [
           {
            "type": "heatmap",
            "colorbar": {
             "outlinewidth": 0,
             "ticks": ""
            },
            "colorscale": [
             [
              0.0,
              "#0d0887"
             ],
             [
              0.1111111111111111,
              "#46039f"
             ],
             [
              0.2222222222222222,
              "#7201a8"
             ],
             [
              0.3333333333333333,
              "#9c179e"
             ],
             [
              0.4444444444444444,
              "#bd3786"
             ],
             [
              0.5555555555555556,
              "#d8576b"
             ],
             [
              0.6666666666666666,
              "#ed7953"
             ],
             [
              0.7777777777777778,
              "#fb9f3a"
             ],
             [
              0.8888888888888888,
              "#fdca26"
             ],
             [
              1.0,
              "#f0f921"
             ]
            ]
           }
          ],
          "heatmapgl": [
           {
            "type": "heatmapgl",
            "colorbar": {
             "outlinewidth": 0,
             "ticks": ""
            },
            "colorscale": [
             [
              0.0,
              "#0d0887"
             ],
             [
              0.1111111111111111,
              "#46039f"
             ],
             [
              0.2222222222222222,
              "#7201a8"
             ],
             [
              0.3333333333333333,
              "#9c179e"
             ],
             [
              0.4444444444444444,
              "#bd3786"
             ],
             [
              0.5555555555555556,
              "#d8576b"
             ],
             [
              0.6666666666666666,
              "#ed7953"
             ],
             [
              0.7777777777777778,
              "#fb9f3a"
             ],
             [
              0.8888888888888888,
              "#fdca26"
             ],
             [
              1.0,
              "#f0f921"
             ]
            ]
           }
          ],
          "contourcarpet": [
           {
            "type": "contourcarpet",
            "colorbar": {
             "outlinewidth": 0,
             "ticks": ""
            }
           }
          ],
          "contour": [
           {
            "type": "contour",
            "colorbar": {
             "outlinewidth": 0,
             "ticks": ""
            },
            "colorscale": [
             [
              0.0,
              "#0d0887"
             ],
             [
              0.1111111111111111,
              "#46039f"
             ],
             [
              0.2222222222222222,
              "#7201a8"
             ],
             [
              0.3333333333333333,
              "#9c179e"
             ],
             [
              0.4444444444444444,
              "#bd3786"
             ],
             [
              0.5555555555555556,
              "#d8576b"
             ],
             [
              0.6666666666666666,
              "#ed7953"
             ],
             [
              0.7777777777777778,
              "#fb9f3a"
             ],
             [
              0.8888888888888888,
              "#fdca26"
             ],
             [
              1.0,
              "#f0f921"
             ]
            ]
           }
          ],
          "surface": [
           {
            "type": "surface",
            "colorbar": {
             "outlinewidth": 0,
             "ticks": ""
            },
            "colorscale": [
             [
              0.0,
              "#0d0887"
             ],
             [
              0.1111111111111111,
              "#46039f"
             ],
             [
              0.2222222222222222,
              "#7201a8"
             ],
             [
              0.3333333333333333,
              "#9c179e"
             ],
             [
              0.4444444444444444,
              "#bd3786"
             ],
             [
              0.5555555555555556,
              "#d8576b"
             ],
             [
              0.6666666666666666,
              "#ed7953"
             ],
             [
              0.7777777777777778,
              "#fb9f3a"
             ],
             [
              0.8888888888888888,
              "#fdca26"
             ],
             [
              1.0,
              "#f0f921"
             ]
            ]
           }
          ],
          "mesh3d": [
           {
            "type": "mesh3d",
            "colorbar": {
             "outlinewidth": 0,
             "ticks": ""
            }
           }
          ],
          "scatter": [
           {
            "marker": {
             "line": {
              "color": "#283442"
             }
            },
            "type": "scatter"
           }
          ],
          "parcoords": [
           {
            "type": "parcoords",
            "line": {
             "colorbar": {
              "outlinewidth": 0,
              "ticks": ""
             }
            }
           }
          ],
          "scatterpolargl": [
           {
            "type": "scatterpolargl",
            "marker": {
             "colorbar": {
              "outlinewidth": 0,
              "ticks": ""
             }
            }
           }
          ],
          "bar": [
           {
            "error_x": {
             "color": "#f2f5fa"
            },
            "error_y": {
             "color": "#f2f5fa"
            },
            "marker": {
             "line": {
              "color": "rgb(17,17,17)",
              "width": 0.5
             },
             "pattern": {
              "fillmode": "overlay",
              "size": 10,
              "solidity": 0.2
             }
            },
            "type": "bar"
           }
          ],
          "scattergeo": [
           {
            "type": "scattergeo",
            "marker": {
             "colorbar": {
              "outlinewidth": 0,
              "ticks": ""
             }
            }
           }
          ],
          "scatterpolar": [
           {
            "type": "scatterpolar",
            "marker": {
             "colorbar": {
              "outlinewidth": 0,
              "ticks": ""
             }
            }
           }
          ],
          "histogram": [
           {
            "marker": {
             "pattern": {
              "fillmode": "overlay",
              "size": 10,
              "solidity": 0.2
             }
            },
            "type": "histogram"
           }
          ],
          "scattergl": [
           {
            "marker": {
             "line": {
              "color": "#283442"
             }
            },
            "type": "scattergl"
           }
          ],
          "scatter3d": [
           {
            "type": "scatter3d",
            "line": {
             "colorbar": {
              "outlinewidth": 0,
              "ticks": ""
             }
            },
            "marker": {
             "colorbar": {
              "outlinewidth": 0,
              "ticks": ""
             }
            }
           }
          ],
          "scattermapbox": [
           {
            "type": "scattermapbox",
            "marker": {
             "colorbar": {
              "outlinewidth": 0,
              "ticks": ""
             }
            }
           }
          ],
          "scatterternary": [
           {
            "type": "scatterternary",
            "marker": {
             "colorbar": {
              "outlinewidth": 0,
              "ticks": ""
             }
            }
           }
          ],
          "scattercarpet": [
           {
            "type": "scattercarpet",
            "marker": {
             "colorbar": {
              "outlinewidth": 0,
              "ticks": ""
             }
            }
           }
          ],
          "carpet": [
           {
            "aaxis": {
             "endlinecolor": "#A2B1C6",
             "gridcolor": "#506784",
             "linecolor": "#506784",
             "minorgridcolor": "#506784",
             "startlinecolor": "#A2B1C6"
            },
            "baxis": {
             "endlinecolor": "#A2B1C6",
             "gridcolor": "#506784",
             "linecolor": "#506784",
             "minorgridcolor": "#506784",
             "startlinecolor": "#A2B1C6"
            },
            "type": "carpet"
           }
          ],
          "table": [
           {
            "cells": {
             "fill": {
              "color": "#506784"
             },
             "line": {
              "color": "rgb(17,17,17)"
             }
            },
            "header": {
             "fill": {
              "color": "#2a3f5f"
             },
             "line": {
              "color": "rgb(17,17,17)"
             }
            },
            "type": "table"
           }
          ],
          "barpolar": [
           {
            "marker": {
             "line": {
              "color": "rgb(17,17,17)",
              "width": 0.5
             },
             "pattern": {
              "fillmode": "overlay",
              "size": 10,
              "solidity": 0.2
             }
            },
            "type": "barpolar"
           }
          ],
          "pie": [
           {
            "automargin": true,
            "type": "pie"
           }
          ]
         },
         "layout": {
          "autotypenumbers": "strict",
          "colorway": [
           "#636efa",
           "#EF553B",
           "#00cc96",
           "#ab63fa",
           "#FFA15A",
           "#19d3f3",
           "#FF6692",
           "#B6E880",
           "#FF97FF",
           "#FECB52"
          ],
          "font": {
           "color": "#f2f5fa"
          },
          "hovermode": "closest",
          "hoverlabel": {
           "align": "left"
          },
          "paper_bgcolor": "rgb(17,17,17)",
          "plot_bgcolor": "rgb(17,17,17)",
          "polar": {
           "bgcolor": "rgb(17,17,17)",
           "angularaxis": {
            "gridcolor": "#506784",
            "linecolor": "#506784",
            "ticks": ""
           },
           "radialaxis": {
            "gridcolor": "#506784",
            "linecolor": "#506784",
            "ticks": ""
           }
          },
          "ternary": {
           "bgcolor": "rgb(17,17,17)",
           "aaxis": {
            "gridcolor": "#506784",
            "linecolor": "#506784",
            "ticks": ""
           },
           "baxis": {
            "gridcolor": "#506784",
            "linecolor": "#506784",
            "ticks": ""
           },
           "caxis": {
            "gridcolor": "#506784",
            "linecolor": "#506784",
            "ticks": ""
           }
          },
          "coloraxis": {
           "colorbar": {
            "outlinewidth": 0,
            "ticks": ""
           }
          },
          "colorscale": {
           "sequential": [
            [
             0.0,
             "#0d0887"
            ],
            [
             0.1111111111111111,
             "#46039f"
            ],
            [
             0.2222222222222222,
             "#7201a8"
            ],
            [
             0.3333333333333333,
             "#9c179e"
            ],
            [
             0.4444444444444444,
             "#bd3786"
            ],
            [
             0.5555555555555556,
             "#d8576b"
            ],
            [
             0.6666666666666666,
             "#ed7953"
            ],
            [
             0.7777777777777778,
             "#fb9f3a"
            ],
            [
             0.8888888888888888,
             "#fdca26"
            ],
            [
             1.0,
             "#f0f921"
            ]
           ],
           "sequentialminus": [
            [
             0.0,
             "#0d0887"
            ],
            [
             0.1111111111111111,
             "#46039f"
            ],
            [
             0.2222222222222222,
             "#7201a8"
            ],
            [
             0.3333333333333333,
             "#9c179e"
            ],
            [
             0.4444444444444444,
             "#bd3786"
            ],
            [
             0.5555555555555556,
             "#d8576b"
            ],
            [
             0.6666666666666666,
             "#ed7953"
            ],
            [
             0.7777777777777778,
             "#fb9f3a"
            ],
            [
             0.8888888888888888,
             "#fdca26"
            ],
            [
             1.0,
             "#f0f921"
            ]
           ],
           "diverging": [
            [
             0,
             "#8e0152"
            ],
            [
             0.1,
             "#c51b7d"
            ],
            [
             0.2,
             "#de77ae"
            ],
            [
             0.3,
             "#f1b6da"
            ],
            [
             0.4,
             "#fde0ef"
            ],
            [
             0.5,
             "#f7f7f7"
            ],
            [
             0.6,
             "#e6f5d0"
            ],
            [
             0.7,
             "#b8e186"
            ],
            [
             0.8,
             "#7fbc41"
            ],
            [
             0.9,
             "#4d9221"
            ],
            [
             1,
             "#276419"
            ]
           ]
          },
          "xaxis": {
           "gridcolor": "#283442",
           "linecolor": "#506784",
           "ticks": "",
           "title": {
            "standoff": 15
           },
           "zerolinecolor": "#283442",
           "automargin": true,
           "zerolinewidth": 2
          },
          "yaxis": {
           "gridcolor": "#283442",
           "linecolor": "#506784",
           "ticks": "",
           "title": {
            "standoff": 15
           },
           "zerolinecolor": "#283442",
           "automargin": true,
           "zerolinewidth": 2
          },
          "scene": {
           "xaxis": {
            "backgroundcolor": "rgb(17,17,17)",
            "gridcolor": "#506784",
            "linecolor": "#506784",
            "showbackground": true,
            "ticks": "",
            "zerolinecolor": "#C8D4E3",
            "gridwidth": 2
           },
           "yaxis": {
            "backgroundcolor": "rgb(17,17,17)",
            "gridcolor": "#506784",
            "linecolor": "#506784",
            "showbackground": true,
            "ticks": "",
            "zerolinecolor": "#C8D4E3",
            "gridwidth": 2
           },
           "zaxis": {
            "backgroundcolor": "rgb(17,17,17)",
            "gridcolor": "#506784",
            "linecolor": "#506784",
            "showbackground": true,
            "ticks": "",
            "zerolinecolor": "#C8D4E3",
            "gridwidth": 2
           }
          },
          "shapedefaults": {
           "line": {
            "color": "#f2f5fa"
           }
          },
          "annotationdefaults": {
           "arrowcolor": "#f2f5fa",
           "arrowhead": 0,
           "arrowwidth": 1
          },
          "geo": {
           "bgcolor": "rgb(17,17,17)",
           "landcolor": "rgb(17,17,17)",
           "subunitcolor": "#506784",
           "showland": true,
           "showlakes": true,
           "lakecolor": "rgb(17,17,17)"
          },
          "title": {
           "x": 0.05
          },
          "updatemenudefaults": {
           "bgcolor": "#506784",
           "borderwidth": 0
          },
          "sliderdefaults": {
           "bgcolor": "#C8D4E3",
           "borderwidth": 1,
           "bordercolor": "rgb(17,17,17)",
           "tickwidth": 0
          },
          "mapbox": {
           "style": "dark"
          }
         }
        },
        "xaxis": {
         "anchor": "y",
         "domain": [
          0.0,
          1.0
         ],
         "scaleanchor": "y",
         "constrain": "domain",
         "title": {
          "text": "Variables"
         }
        },
        "yaxis": {
         "anchor": "x",
         "domain": [
          0.0,
          1.0
         ],
         "autorange": "reversed",
         "constrain": "domain",
         "title": {
          "text": "Variables"
         }
        },
        "coloraxis": {
         "colorbar": {
          "title": {
           "text": "Coefficient de corrélation"
          }
         },
         "colorscale": [
          [
           0.0,
           "#440154"
          ],
          [
           0.1111111111111111,
           "#482878"
          ],
          [
           0.2222222222222222,
           "#3e4989"
          ],
          [
           0.3333333333333333,
           "#31688e"
          ],
          [
           0.4444444444444444,
           "#26828e"
          ],
          [
           0.5555555555555556,
           "#1f9e89"
          ],
          [
           0.6666666666666666,
           "#35b779"
          ],
          [
           0.7777777777777778,
           "#6ece58"
          ],
          [
           0.8888888888888888,
           "#b5de2b"
          ],
          [
           1.0,
           "#fde725"
          ]
         ]
        },
        "title": {
         "text": "Matrice de corrélation (Spearman)"
        },
        "width": 900,
        "height": 900
       },
       "config": {
        "plotlyServerURL": "https://plot.ly"
       }
      },
      "text/html": "<div>                            <div id=\"c7465af0-02f8-4531-85c7-bce8a3bbd4a6\" class=\"plotly-graph-div\" style=\"height:900px; width:900px;\"></div>            <script type=\"text/javascript\">                require([\"plotly\"], function(Plotly) {                    window.PLOTLYENV=window.PLOTLYENV || {};                                    if (document.getElementById(\"c7465af0-02f8-4531-85c7-bce8a3bbd4a6\")) {                    Plotly.newPlot(                        \"c7465af0-02f8-4531-85c7-bce8a3bbd4a6\",                        [{\"coloraxis\":\"coloraxis\",\"name\":\"0\",\"x\":[\"nb_prt\",\"CD_POST_BIEN_PFI\",\"MT_PATRIM_MOB\",\"MT_CHA_HORS_OPE_PFI\",\"NB_CHARGE_HORS_OPE_PFI\",\"MT_PATRIM_NET\",\"MT_REV_PFI\",\"FL_REL_NON_ANNULE\",\"NB_DUR_PFI\",\"TX_APPOR\",\"FL_ETR\",\"CD_ETAT_CIVIL\",\"cum_dec\",\"cum_rec\",\"cum_frs_externes\",\"CD_DNE_CHR_LGD_SAIN\",\"MT_EAD_RESID\",\"MT_EAD_DNE_CHR_d\",\"fl_prise_de_gar\",\"fl_fam_vam\",\"fam_ETH\",\"fam_ENQ\",\"fam_exp\",\"fam_hyp\",\"fam_sim\",\"fam_AEP\",\"dat_dec_echec\",\"solution\",\"fam_PCD\",\"MR_arr\",\"no_pass_def\",\"dls_mep_entree_def\",\"nb_bienHOP\",\"ANC_PRO_MAX_PFI\",\"max_age_ctx\",\"nb_empr_ope\",\"fl_def_ss_pass_CTX\",\"fl_prt_Conso\",\"fl_fonc\",\"MT_FMG\",\"mt_dec_cum_IMP_tot\",\"EAD_1an_avant_def\",\"dls_ges_def\",\"AGE_EMP1\",\"y\"],\"y\":[\"nb_prt\",\"CD_POST_BIEN_PFI\",\"MT_PATRIM_MOB\",\"MT_CHA_HORS_OPE_PFI\",\"NB_CHARGE_HORS_OPE_PFI\",\"MT_PATRIM_NET\",\"MT_REV_PFI\",\"FL_REL_NON_ANNULE\",\"NB_DUR_PFI\",\"TX_APPOR\",\"FL_ETR\",\"CD_ETAT_CIVIL\",\"cum_dec\",\"cum_rec\",\"cum_frs_externes\",\"CD_DNE_CHR_LGD_SAIN\",\"MT_EAD_RESID\",\"MT_EAD_DNE_CHR_d\",\"fl_prise_de_gar\",\"fl_fam_vam\",\"fam_ETH\",\"fam_ENQ\",\"fam_exp\",\"fam_hyp\",\"fam_sim\",\"fam_AEP\",\"dat_dec_echec\",\"solution\",\"fam_PCD\",\"MR_arr\",\"no_pass_def\",\"dls_mep_entree_def\",\"nb_bienHOP\",\"ANC_PRO_MAX_PFI\",\"max_age_ctx\",\"nb_empr_ope\",\"fl_def_ss_pass_CTX\",\"fl_prt_Conso\",\"fl_fonc\",\"MT_FMG\",\"mt_dec_cum_IMP_tot\",\"EAD_1an_avant_def\",\"dls_ges_def\",\"AGE_EMP1\",\"y\"],\"z\":[[1.0,0.056326823195756305,0.01530278878038983,-0.16246628434502666,-0.13020843227718756,-0.15946579838202912,-0.13915167512958856,0.057313279539962986,0.2401189695419631,0.051578554576006116,0.0373210345492186,0.060458995562594604,0.0721812299702331,0.04198433627258395,0.07121414308494986,0.04484078791279507,0.06107964685461152,0.1750474379755126,0.008824238716490159,0.015902831058523904,0.013439788639679028,0.02700328707705566,-0.027902090423045547,-0.012635876670433005,-0.01156774840770683,-0.00913922307846281,0.04823806088973872,0.039154454747830254,0.03494109710183666,0.04784657568583699,-0.01610023684844007,-0.038568431940482005,-0.16305542466932443,-0.09217845573522312,-0.1313567405201051,-0.009757196240373493,-0.026113021564237303,-0.06715862042091922,-0.030304820901227263,0.2144429538206716,0.06862543058721522,0.16159768725615264,0.03440605686065163,-0.13823396315979045,0.02694881794569344],[0.056326823195756305,1.0,-0.027250489329536363,-0.055829990476982325,-0.06365358353899281,-0.06969656079337891,0.01620601012392727,0.020146249670044795,0.0978584081016254,0.07091320687969664,0.129070735701557,0.016463936677025004,0.05556599577651791,0.011966143028715489,0.011988042033966449,-0.013795667708037028,0.050856495984002055,0.11291919509973469,0.011326059679218198,-0.02155411212266686,0.043288816943506794,0.023501055102510073,0.010685447036029543,0.013765388746686546,0.011492477400858634,0.01532593502138013,0.051972414696196796,0.03716449211456095,0.009726641628293578,0.029669753949741636,-0.015442631768529762,0.010117321825945928,-0.07741374186208187,-0.06881353604622191,-0.06872184085403618,0.004324514852482877,0.0019626482045376867,-0.052606220541015124,-0.051535608603829684,0.13451779033356018,0.07265482815254086,0.11423311064251176,0.033591390258838935,-0.055424601463224164,0.009893175077326864],[0.01530278878038983,-0.027250489329536363,1.0,0.13902233537474903,0.10730944125393103,0.1434330076418836,0.18827245330611653,0.006321712115964842,-0.05137865194387879,0.038482950651900986,0.004461405714613924,-0.033183199795824805,-0.007267842932088579,0.037396853190931674,-0.06122784425427788,-0.007753850561713485,0.026991530198428308,0.11378871405270162,0.018655179393311593,0.023774559130963022,0.01669491642090826,-0.021953320178582033,0.030000583733498298,0.011815210528188251,0.007656173574069865,-0.008098617184198171,-0.0012015650833497344,0.001693097793120684,-0.017706891518029743,0.0016735234742698128,-0.05311893055513708,-0.14231522563982368,0.1498691104152707,0.08211369478603342,0.10029334150708644,-0.009886384419034753,0.038120178011373705,-0.02503435343185976,-0.009251350041440903,0.07937480477318837,0.0030720970762818036,0.1180631387338824,-0.002698081713404052,0.04246781808382739,-0.02316326660443894],[-0.16246628434502666,-0.055829990476982325,0.13902233537474903,1.0,0.8839728031682155,0.5476918091247283,0.640641056468138,0.0613138516023331,-0.1880865541831375,-0.22669006029831992,-0.06665786925810037,-0.0076403456295549765,-0.07383521865944405,0.032974189598937415,-0.16875143455490613,-0.07860025615360695,-0.005848315212273224,0.05960034077828098,0.03320085518403619,0.07032010601299413,0.010577394477249326,-0.04709531622865651,0.07260995946238835,0.06022266313805118,0.015898039314952355,0.00898533164747761,-0.04648968177430752,0.018031753016006083,-0.06012481642607101,-0.04659447681768676,-0.0014101218480264803,-0.07651207414971979,0.6171912098752177,0.25085783844132825,0.24623646922902603,0.17854846625460208,0.08534948467458675,0.400870557297422,0.019187526013941327,0.041146977175696674,-0.059891282694101995,0.06884730523244266,-0.0021262738441273953,0.1941813099404445,-0.05156450167000013],[-0.13020843227718756,-0.06365358353899281,0.10730944125393103,0.8839728031682155,1.0,0.45139665758545733,0.4829455884591041,0.05807685601203002,-0.1421230852145034,-0.24801766342732331,-0.06710108634676429,0.0402608016513905,-0.058726645443434505,0.01634783864346711,-0.1468514452583928,-0.07307728494673713,-0.0020307602703519313,0.02784466615250016,0.027297324856643945,0.07220728052091933,0.0027935214029291135,-0.03673260500392012,0.060446443031087344,0.05069644333779912,0.004633348222443802,0.002225130237376343,-0.028008893700884226,0.027503635433105713,-0.03862881186536154,-0.030959620261389306,-0.008771325327728691,-0.10288038472330817,0.5284348483241927,0.22899968943586302,0.1938290645561414,0.18626148174159224,0.07399206043274519,0.5434345628973932,0.028144955305603177,-0.015540744904099695,-0.058072096131974914,0.03138823438125133,0.00036908462404291006,0.13331907695425385,-0.03326822071922838],[-0.15946579838202912,-0.06969656079337891,0.1434330076418836,0.5476918091247283,0.45139665758545733,1.0,0.4924997462073594,0.0031903627742471876,-0.19677247394234873,-0.10309290796532183,-0.08153760376983783,-0.09028739437400082,-0.08667492212017074,0.028736377661448563,-0.1250050403029915,-0.04963830064613505,-0.02487874258207419,0.01706729581203281,0.017535784589822755,0.03861043360889942,-0.003764131853220164,-0.07471744222667406,0.07442140872762856,0.048995737038107806,0.02163276786153721,0.011791348488439714,-0.06116164972421557,-0.001006520513747368,-0.0747213600041853,-0.060095847038384186,0.03146500742034688,0.0342204394376368,0.9152755923537539,0.2619421891474989,0.32310404750573374,0.13039166418214487,0.07280207419713423,0.06191145573703669,0.06773231982336045,0.050252196426399234,-0.06328391970518311,0.021743221984747676,-0.005542457106998787,0.29597153580169394,-0.06607953889617986],[-0.13915167512958856,0.01620601012392727,0.18827245330611653,0.640641056468138,0.4829455884591041,0.4924997462073594,1.0,0.035864140383811985,-0.16948595505756753,-0.11273741688655645,-0.007547205416977375,0.07930474213064156,0.005332377527164697,0.12010458181895761,-0.06856664926076105,-0.17028275189304598,0.06476700497499242,0.3502203843415962,0.03223449360337221,0.07535029224556156,0.04260265809980204,-0.04794013902807205,0.08700545129927575,0.06448704041499871,0.02001443016801966,0.03151420172255143,-0.05137930873961876,0.024722028526093898,-0.07252588445507199,-0.03317702331364465,-0.008579426440329547,-0.07105122450819466,0.5112302608891574,0.28032810332969355,0.3439932140688741,0.3309936286671728,0.06948753993506773,0.15761221375379175,0.026479948567353345,0.4420774296884591,0.08789243569537722,0.38532914326274065,0.007193412011592611,0.27430534324297207,-0.07223561085354979],[0.057313279539962986,0.020146249670044795,0.006321712115964842,0.0613138516023331,0.05807685601203002,0.0031903627742471876,0.035864140383811985,1.0,-0.013058227165973922,-0.08131538288853503,-0.005933791740408723,0.058155989837040956,0.04298156636439587,0.012413649753701786,0.031293094493581024,0.0091908987687235,0.03511902921993526,0.09519478199954615,0.030290892840362776,0.024836407025353627,-0.03107026972863615,-0.035141214309570255,-0.0034387054749184572,0.007801767231348447,-0.002720847959820176,-0.0012681763981902963,-0.06080587539899441,-0.02643474769500551,0.03154915628852082,0.055034499136408226,-0.005015688380732229,-0.01835153001551262,0.002132450413872157,0.059193541512255164,0.09502795447392635,0.06691895670185496,0.006993761237283843,0.012012820786218957,0.041339078488340356,0.115580940369579,-0.011350112542143027,0.10730293029815242,-0.05973093494870584,0.08789955009886888,0.04200084425712721],[0.2401189695419631,0.0978584081016254,-0.05137865194387879,-0.1880865541831375,-0.1421230852145034,-0.19677247394234873,-0.16948595505756753,-0.013058227165973922,1.0,-0.017088605026738993,0.06100303212019247,0.10029738329451036,0.12735811029838426,0.06302800880400014,0.10336576638974779,0.11520927616670754,0.16960907235174189,0.42880434411436574,0.014236677658097479,0.0248828908184808,0.06296688713100683,0.0602016167543076,-0.0236501913099611,-0.015035559067794163,0.0005490750728840325,0.010251716062113914,0.08666382844892002,0.05251728164981018,0.03029834667633761,0.07538617433731765,0.003687613612667709,0.03728119500959001,-0.19038394262893682,-0.1945991605277884,-0.3303216152765678,0.019008104128578472,-0.04936841368167148,-0.05341939260459803,-0.07271450234627223,0.32139017465926467,0.123940732748748,0.4239125110192739,0.06016600113713952,-0.3162165240609447,0.041208852702224304],[0.051578554576006116,0.07091320687969664,0.038482950651900986,-0.22669006029831992,-0.24801766342732331,-0.10309290796532183,-0.11273741688655645,-0.08131538288853503,-0.017088605026738993,1.0,0.057389925154044,-0.010541702244660703,-0.002910582984488808,0.00494673729190143,0.024925328833004357,-0.08345018103445023,-0.037011865652644214,-0.0650588437782652,-0.010414270391219897,-0.027790236421608168,-0.0023055930579571806,0.00219077307126108,-0.015266089614204621,-0.014431707180074752,-0.007060041459557153,0.0065820200262430946,0.01644655640034923,0.007119806568703343,-0.005515554052276504,-0.014499361006929577,0.01286750813427699,0.1239510127833499,-0.12646010490418627,-0.04348528073304866,0.01796178593050553,-0.04306176294984881,-0.015695047554563444,-0.2031153455817204,-0.009414474306014338,0.013464798328052903,0.00826863202421178,-0.06887289228552153,-0.011942625000475986,0.06068643494971328,-0.00775551074517895],[0.0373210345492186,0.129070735701557,0.004461405714613924,-0.06665786925810037,-0.06710108634676429,-0.08153760376983783,-0.007547205416977375,-0.005933791740408723,0.06100303212019247,0.057389925154044,1.0,0.05547281825824012,0.09818043121059136,-0.04521286035555331,0.06555519175603498,-0.02960411850850178,0.09242857937767703,0.08481058108252759,0.03345866490960681,-0.005371175489810617,0.04451510660293388,0.05543361725142024,-0.013960359630611013,0.005585839037701613,-0.011649697841934729,0.012102003004361685,0.05543087687166935,0.013840010440470358,0.06271379236257552,0.059002831316993694,-0.014641621130086796,-0.035967152625977244,-0.0836695192563898,-0.10118046572179813,-0.040142657602424074,0.07424789337514895,-0.029474105824380654,-0.035452541546249765,-0.032475221492578525,0.0752235935102938,0.10367056552445263,0.08990993989720049,0.02770422031653386,-0.05622598364993581,0.0623084501456546],[0.060458995562594604,0.016463936677025004,-0.033183199795824805,-0.0076403456295549765,0.0402608016513905,-0.09028739437400082,0.07930474213064156,0.058155989837040956,0.10029738329451036,-0.010541702244660703,0.05547281825824012,1.0,0.024146235114144758,0.07241056120421122,0.1509590196026996,-0.3692232600498085,-0.007175836068513128,0.11241504717682585,-0.012917239365199595,0.080098104262544,0.00966358239623625,-0.012572832164951201,-0.014082754001111893,-0.018507017847951137,-0.0025361641296299045,0.002958764774457221,0.004753259329849434,0.05325863422443268,-0.011403240199693337,0.001829712928467982,-0.04250286578048685,-0.029364957444913443,-0.09609925778061293,0.08241219879357173,-0.03163436489165808,0.6600730796297752,-0.01021457037525832,0.09090190062939277,0.15529475618364658,0.1345367537515963,0.0400352480925824,0.12469490310754552,-0.004142829271851424,-0.08043380738082188,-0.013038632639132304],[0.0721812299702331,0.05556599577651791,-0.007267842932088579,-0.07383521865944405,-0.058726645443434505,-0.08667492212017074,0.005332377527164697,0.04298156636439587,0.12735811029838426,-0.002910582984488808,0.09818043121059136,0.024146235114144758,1.0,-0.4379286393588231,0.44698588764429015,0.04892432677359152,0.5159681007723651,0.241239008764025,0.325215951098356,0.1749568633016465,0.3497007039926663,0.25962985487883994,-0.012514138971850799,0.10018042199819105,-0.013612112668117125,0.04813311363600173,0.5833637689552335,0.2298331485114446,0.7146494321301704,0.6682119398562553,-0.03559593825404216,-0.09214378105842577,-0.09449656835361946,-0.05541647211524355,-0.019096180072413427,-0.030828941017653187,-0.19603556773434255,-0.006552707829521824,-0.02887127205493916,0.19894963209313007,0.9069574434540701,0.24152859360114448,0.3245745220084905,-0.02610387798185254,0.7695098503811263],[0.04198433627258395,0.011966143028715489,0.037396853190931674,0.032974189598937415,0.01634783864346711,0.028736377661448563,0.12010458181895761,0.012413649753701786,0.06302800880400014,0.00494673729190143,-0.04521286035555331,0.07241056120421122,-0.4379286393588231,1.0,-0.09286522637099197,-0.0638101665714276,-0.7570289624819813,0.22564679475400604,-0.2518985072660277,0.021737606919702453,-0.17654623607350903,-0.1972944313606691,-0.056231767899342984,-0.12433616167742831,-0.022864962840744258,-0.04679099617757984,-0.26672949730508255,0.12828724980780679,-0.511542267097015,-0.4232758231763147,-0.037623159811829905,-0.11852552425870728,0.015443920938249056,0.05695509682635443,0.0372254326816133,0.10910989277879724,0.07827783364391368,0.009266004323687835,0.019041295084784096,0.19299065668667362,-0.3045336196909533,0.21704475076640012,-0.025950306262340527,-0.018340556602619015,-0.5307926106865137],[0.07121414308494986,0.011988042033966449,-0.06122784425427788,-0.16875143455490613,-0.1468514452583928,-0.1250050403029915,-0.06856664926076105,0.031293094493581024,0.10336576638974779,0.024925328833004357,0.06555519175603498,0.1509590196026996,0.44698588764429015,-0.09286522637099197,1.0,-0.06162911592495457,0.15226105179211924,0.1147560316056398,0.12134136421986916,0.07193110938491859,0.26925665576633373,0.4134038982361591,-0.013171601864522747,0.06844646505898415,-0.011138463103178146,0.09683224099036644,0.2899908111883371,0.12695581415072132,0.3212388951184719,0.22209968821311293,-0.03138136218163442,0.014767963488686994,-0.1572200220234247,-0.04651295476819956,-0.033940806257557424,0.11003525546250423,-0.21674212563326875,0.004359130621110844,0.02809217323040108,0.13847270745520604,0.4468595749849929,0.12778343887053276,0.24938465769259663,-0.013090392044574324,0.25809578346909956],[0.04484078791279507,-0.013795667708037028,-0.007753850561713485,-0.07860025615360695,-0.07307728494673713,-0.04963830064613505,-0.17028275189304598,0.0091908987687235,0.11520927616670754,-0.08345018103445023,-0.02960411850850178,-0.3692232600498085,0.04892432677359152,-0.0638101665714276,-0.06162911592495457,1.0,0.09061233208240013,0.04210256098053866,0.014234966974419186,-0.09773015058824393,-0.05313944833039368,0.018411637098942564,-0.01525889097011648,-0.0014287939073137153,-0.0042920571460410934,0.00653077229924178,0.015261111848030267,-0.024097853618039,0.04712447441763225,0.051580809356097504,0.6236488420058567,-0.07257673039941319,-0.036578243234988816,-0.15422356071304458,-0.1214253479932267,-0.5195633358187736,-0.02355085494230047,-0.035600993200316816,-0.17449943491177694,-0.026385092230365014,0.009755063064317173,0.030020659371916603,0.006995963626506802,-0.09866579966333017,0.04957436591065421],[0.06107964685461152,0.050856495984002055,0.026991530198428308,-0.005848315212273224,-0.0020307602703519313,-0.02487874258207419,0.06476700497499242,0.03511902921993526,0.16960907235174189,-0.037011865652644214,0.09242857937767703,-0.007175836068513128,0.5159681007723651,-0.7570289624819813,0.15226105179211924,0.09061233208240013,1.0,0.3002324158894991,0.2591919570736677,-0.002129983973888414,0.1941886375673323,0.1697652942466643,0.05646592705551487,0.12428194620652139,0.019827046066215045,0.04476238012294088,0.26622112318400665,-0.037800639053542175,0.4838861229156546,0.4753276154798795,-7.800722409420998e-07,-0.11068083249041623,-0.022860482274217525,-0.043231903918085124,-0.018335655020605628,-0.02784727219186944,-0.06919409595111871,-0.009306658643598396,-0.04353219599822493,0.23188581848324225,0.4329682719663236,0.2931272089764554,0.10822115239252417,-0.04445300512042547,0.49867525694272674],[0.1750474379755126,0.11291919509973469,0.11378871405270162,0.05960034077828098,0.02784466615250016,0.01706729581203281,0.3502203843415962,0.09519478199954615,0.42880434411436574,-0.0650588437782652,0.08481058108252759,0.11241504717682585,0.241239008764025,0.22564679475400604,0.1147560316056398,0.04210256098053866,0.3002324158894991,1.0,0.06306083171272153,0.08314831534349879,0.09387999072179927,-0.0020030685197640033,0.016713826220447255,0.030729066605191983,0.005570040021863506,0.01330789179262423,0.05483478277159893,0.06011259018158899,0.01206928930518015,0.1433091669439371,-0.09862080959797295,-0.4201572203275592,0.0008439536042991665,0.01815820017145261,0.03234977869574632,0.1336970256344638,-0.002737285974416506,-0.003155900036760133,-0.04625738610437119,0.7956565969776433,0.3017140501616729,0.9569217281359282,0.06113966978346806,-0.12291742883272638,0.02952606969937375],[0.008824238716490159,0.011326059679218198,0.018655179393311593,0.03320085518403619,0.027297324856643945,0.017535784589822755,0.03223449360337221,0.030290892840362776,0.014236677658097479,-0.010414270391219897,0.03345866490960681,-0.012917239365199595,0.325215951098356,-0.2518985072660277,0.12134136421986916,0.014234966974419186,0.2591919570736677,0.06306083171272153,1.0,0.0865405266284952,0.13167168561392625,0.11922242518650453,0.37269155516730446,0.6129757937081755,0.10089564429893817,0.09629008254891368,0.19475549950784038,0.022596763270033,0.33061380253506295,0.4082170761495584,-0.02087277360692724,-0.04474967166095576,0.026386949564070922,-0.008020697004170924,-0.005035368762701295,-0.010415705590181118,-0.005954106803738816,-0.002746279497458118,-0.013598928142581216,0.03317793597385412,0.25196104113742435,0.05356761581099846,0.21621243707361223,-0.0008845917982912717,0.37706805375275637],[0.015902831058523904,-0.02155411212266686,0.023774559130963022,0.07032010601299413,0.07220728052091933,0.03861043360889942,0.07535029224556156,0.024836407025353627,0.0248828908184808,-0.027790236421608168,-0.005371175489810617,0.080098104262544,0.1749568633016465,0.021737606919702453,0.07193110938491859,-0.09773015058824393,-0.002129983973888414,0.08314831534349879,0.0865405266284952,1.0,0.14352443005270132,0.05072792125248641,0.10364584708401985,0.09613547156662461,0.015742384074056894,0.013262103859776646,0.19119987452667683,0.3318176788470057,0.11302865717591547,0.09540946629145863,-0.06688925525565363,-0.04144753485460909,0.04432193884869443,0.03524051124882793,0.03407872194291279,0.11070759849240575,-0.027499209904402563,0.03545147676782768,0.04003798846006953,0.06950391507610165,0.19211928340842763,0.0936226723604828,0.099152029940445,0.016222239642557593,0.07336529819175217],[0.013439788639679028,0.043288816943506794,0.01669491642090826,0.010577394477249326,0.0027935214029291135,-0.003764131853220164,0.04260265809980204,-0.03107026972863615,0.06296688713100683,-0.0023055930579571806,0.04451510660293388,0.00966358239623625,0.3497007039926663,-0.17654623607350903,0.26925665576633373,-0.05313944833039368,0.1941886375673323,0.09387999072179927,0.13167168561392625,0.14352443005270132,1.0,0.16939874584653886,0.05438657981719795,0.07518205019751191,0.024574744039542126,0.03778352227409811,0.5052936851236326,0.314633998428098,0.20884681485787054,0.16778117398245943,-0.06798781969098251,-0.04268219045966506,-0.0024733341107749233,-0.02583792283864049,-0.026349986449771216,0.005762087454370456,-0.16084368338588298,-0.004905247380824799,-0.025934797970780667,0.0564082123859568,0.393449899351733,0.08635467436378157,0.268715047703139,-0.02657015714888227,0.15379567790250398],[0.02700328707705566,0.023501055102510073,-0.021953320178582033,-0.04709531622865651,-0.03673260500392012,-0.07471744222667406,-0.04794013902807205,-0.035141214309570255,0.0602016167543076,0.00219077307126108,0.05543361725142024,-0.012572832164951201,0.25962985487883994,-0.1972944313606691,0.4134038982361591,0.018411637098942564,0.1697652942466643,-0.0020030685197640033,0.11922242518650453,0.05072792125248641,0.16939874584653886,1.0,0.06143942036029196,0.06994074472317184,0.02259049066714023,0.08164439830561396,0.28287105565037424,0.04960501361648587,0.2404831089591403,0.12140731607675298,-0.00886956919838707,-0.000724917986764753,-0.06899307165836946,-0.09915748845207009,-0.10298195617558899,-0.03532369572703171,-0.045926499516773425,-0.02016806881270499,-0.025550232523667785,-0.008748817657986501,0.24816559969095953,0.0012591453094350923,0.22166927541045484,-0.08239359415037738,0.20238958561067774],[-0.027902090423045547,0.010685447036029543,0.030000583733498298,0.07260995946238835,0.060446443031087344,0.07442140872762856,0.08700545129927575,-0.0034387054749184572,-0.0236501913099611,-0.015266089614204621,-0.013960359630611013,-0.014082754001111893,-0.012514138971850799,-0.056231767899342984,-0.013171601864522747,-0.01525889097011648,0.05646592705551487,0.016713826220447255,0.37269155516730446,0.10364584708401985,0.05438657981719795,0.06143942036029196,1.0,0.6001291695090182,0.23470333740116267,0.0755240291153318,0.07614656229633418,0.0565111350793307,0.0234734208998532,0.020294375373791397,-0.0050855107662235955,-0.00578875118240921,0.07964977244595108,0.03581575663328125,0.0208669417506086,0.024239324753035106,0.06617191013435164,-0.0022584852915020237,0.006334059572848377,0.022494384455433024,-0.0014610610269543513,0.020238969837109533,0.19968739468984245,0.04103519991300586,-0.010614490407678763],[-0.012635876670433005,0.013765388746686546,0.011815210528188251,0.06022266313805118,0.05069644333779912,0.048995737038107806,0.06448704041499871,0.007801767231348447,-0.015035559067794163,-0.014431707180074752,0.005585839037701613,-0.018507017847951137,0.10018042199819105,-0.12433616167742831,0.06844646505898415,-0.0014287939073137153,0.12428194620652139,0.030729066605191983,0.6129757937081755,0.09613547156662461,0.07518205019751191,0.06994074472317184,0.6001291695090182,1.0,0.1541444513592299,0.10748493527255655,0.1143940013685585,0.03580224765603199,0.12346281556213709,0.14453274356286516,-0.007481374512071814,-0.01866796257817425,0.05695466340892168,0.011266709502295597,0.010519336113080343,0.012077028893382418,0.042563233806548806,0.00431525861786326,-0.006894265689752677,0.021334962597131142,0.0835059495479035,0.029625049612332973,0.19691071968741622,0.02680653190656385,0.11884969944151899],[-0.01156774840770683,0.011492477400858634,0.007656173574069865,0.015898039314952355,0.004633348222443802,0.02163276786153721,0.02001443016801966,-0.002720847959820176,0.0005490750728840325,-0.007060041459557153,-0.011649697841934729,-0.0025361641296299045,-0.013612112668117125,-0.022864962840744258,-0.011138463103178146,-0.0042920571460410934,0.019827046066215045,0.005570040021863506,0.10089564429893817,0.015742384074056894,0.024574744039542126,0.02259049066714023,0.23470333740116267,0.1541444513592299,1.0,0.05947706577168971,0.019049612073472433,-0.011444529463540649,0.010962859959345773,-0.0002750005687290242,-0.0033881576250072614,0.007440914539983778,0.026033273260322922,0.015398884050774742,0.0015983300301446086,-0.0010996517306236507,0.018322657344401205,-0.0148946809902519,-0.00011836631422373243,0.008054335911050231,-0.017074938320716708,0.004161154574294083,0.053702435042071006,0.015874647389732287,-0.003085220323098558],[-0.00913922307846281,0.01532593502138013,-0.008098617184198171,0.00898533164747761,0.002225130237376343,0.011791348488439714,0.03151420172255143,-0.0012681763981902963,0.010251716062113914,0.0065820200262430946,0.012102003004361685,0.002958764774457221,0.04813311363600173,-0.04679099617757984,0.09683224099036644,0.00653077229924178,0.04476238012294088,0.01330789179262423,0.09629008254891368,0.013262103859776646,0.03778352227409811,0.08164439830561396,0.0755240291153318,0.10748493527255655,0.05947706577168971,1.0,0.056948860604976524,0.007018802169204741,0.06208955802457559,0.00865597898032124,0.012713768486461576,0.012156051853297253,0.01612892691942599,-0.0050305213298370574,0.012628228730856271,0.00558467113725213,0.0037566012369311505,0.00020886795536373084,-0.005855784952479442,0.027412325534498367,0.05862674082471388,0.017059385552098353,0.13331217631390435,0.034642924407483844,0.018940185934734753],[0.04823806088973872,0.051972414696196796,-0.0012015650833497344,-0.04648968177430752,-0.028008893700884226,-0.06116164972421557,-0.05137930873961876,-0.06080587539899441,0.08666382844892002,0.01644655640034923,0.05543087687166935,0.004753259329849434,0.5833637689552335,-0.26672949730508255,0.2899908111883371,0.015261111848030267,0.26622112318400665,0.05483478277159893,0.19475549950784038,0.19119987452667683,0.5052936851236326,0.28287105565037424,0.07614656229633418,0.1143940013685585,0.019049612073472433,0.056948860604976524,1.0,0.5098144352417308,0.37033922411295944,0.265154490797614,-0.018131154993223392,-0.046558691144824284,-0.05890850560790458,-0.058852656958804664,-0.06824338002841289,-0.0409212239569648,-0.12240814335858406,-0.011630446343810042,-0.026423851802669502,0.01337301425183552,0.623364519482257,0.052395200269075015,0.49258396089502765,-0.04945708475270615,0.2938037110631757],[0.039154454747830254,0.03716449211456095,0.001693097793120684,0.018031753016006083,0.027503635433105713,-0.001006520513747368,0.024722028526093898,-0.02643474769500551,0.05251728164981018,0.007119806568703343,0.013840010440470358,0.05325863422443268,0.2298331485114446,0.12828724980780679,0.12695581415072132,-0.024097853618039,-0.037800639053542175,0.06011259018158899,0.022596763270033,0.3318176788470057,0.314633998428098,0.04960501361648587,0.0565111350793307,0.03580224765603199,-0.011444529463540649,0.007018802169204741,0.5098144352417308,1.0,0.022381781518347587,-0.01239855720670056,0.002328575623878658,-0.05122567012220084,-0.002425728303079586,-0.004503738160508547,-0.018878090780771253,0.05913301236614329,-0.053720046602635546,0.01357087483369379,-0.009831386205474637,0.041117011865434844,0.3235957200632654,0.06654639736593193,0.41510236265205996,-0.014254547518956726,-0.06239995935986157],[0.03494109710183666,0.009726641628293578,-0.017706891518029743,-0.06012481642607101,-0.03862881186536154,-0.0747213600041853,-0.07252588445507199,0.03154915628852082,0.03029834667633761,-0.005515554052276504,0.06271379236257552,-0.011403240199693337,0.7146494321301704,-0.511542267097015,0.3212388951184719,0.04712447441763225,0.4838861229156546,0.01206928930518015,0.33061380253506295,0.11302865717591547,0.20884681485787054,0.2404831089591403,0.0234734208998532,0.12346281556213709,0.010962859959345773,0.06208955802457559,0.37033922411295944,0.022381781518347587,1.0,0.6147224075150096,-0.02678772354883086,-0.031863894241092657,-0.07295211715028845,-0.05154922862151126,-0.028801565690444616,-0.05831453080194938,-0.13818195027220376,-0.0004927844457687517,-0.005510968793625779,-0.001973952177515231,0.563246841253072,0.024245159146934467,0.2869596070800026,-0.012620057981558318,0.7533843921187545],[0.04784657568583699,0.029669753949741636,0.0016735234742698128,-0.04659447681768676,-0.030959620261389306,-0.060095847038384186,-0.03317702331364465,0.055034499136408226,0.07538617433731765,-0.014499361006929577,0.059002831316993694,0.001829712928467982,0.6682119398562553,-0.4232758231763147,0.22209968821311293,0.051580809356097504,0.4753276154798795,0.1433091669439371,0.4082170761495584,0.09540946629145863,0.16778117398245943,0.12140731607675298,0.020294375373791397,0.14453274356286516,-0.0002750005687290242,0.00865597898032124,0.265154490797614,-0.01239855720670056,0.6147224075150096,1.0,-0.04639159318168195,-0.10920874767080649,-0.06333947048784877,-0.023522688188652944,-0.002518689594574064,-0.027083848743177628,-0.08596525271714141,-0.006873458870488573,-0.00712608852252222,0.07842107089263958,0.49371246966537014,0.12796863191686275,0.14626911882410995,-0.030957373849929994,0.7957313082113857],[-0.01610023684844007,-0.015442631768529762,-0.05311893055513708,-0.0014101218480264803,-0.008771325327728691,0.03146500742034688,-0.008579426440329547,-0.005015688380732229,0.003687613612667709,0.01286750813427699,-0.014641621130086796,-0.04250286578048685,-0.03559593825404216,-0.037623159811829905,-0.03138136218163442,0.6236488420058567,-7.800722409420998e-07,-0.09862080959797295,-0.02087277360692724,-0.06688925525565363,-0.06798781969098251,-0.00886956919838707,-0.0050855107662235955,-0.007481374512071814,-0.0033881576250072614,0.012713768486461576,-0.018131154993223392,0.002328575623878658,-0.02678772354883086,-0.04639159318168195,1.0,0.2184597745006033,0.030207193883357953,-0.019537796360784745,0.007996265113259344,-0.005757559899576175,-0.025008258297288366,0.00891964823126894,-0.0019548711817327395,-0.03612458493270981,-0.018893757262973408,-0.09962560272510003,-0.017800658296780788,0.0762353482809575,-0.04389926245512607],[-0.038568431940482005,0.010117321825945928,-0.14231522563982368,-0.07651207414971979,-0.10288038472330817,0.0342204394376368,-0.07105122450819466,-0.01835153001551262,0.03728119500959001,0.1239510127833499,-0.035967152625977244,-0.029364957444913443,-0.09214378105842577,-0.11852552425870728,0.014767963488686994,-0.07257673039941319,-0.11068083249041623,-0.4201572203275592,-0.04474967166095576,-0.04144753485460909,-0.04268219045966506,-0.000724917986764753,-0.00578875118240921,-0.01866796257817425,0.007440914539983778,0.012156051853297253,-0.046558691144824284,-0.05122567012220084,-0.031863894241092657,-0.10920874767080649,0.2184597745006033,1.0,0.022331102857704798,-0.04445026357935494,-0.05891714523742906,0.021876011404529074,-0.050746506103311675,-0.029074420153039078,0.024848659048573526,-0.08021656173419535,-0.053798161381974484,-0.4203849638938595,-0.0634021022258068,0.2767712704583509,-0.05543820397289062],[-0.16305542466932443,-0.07741374186208187,0.1498691104152707,0.6171912098752177,0.5284348483241927,0.9152755923537539,0.5112302608891574,0.002132450413872157,-0.19038394262893682,-0.12646010490418627,-0.0836695192563898,-0.09609925778061293,-0.09449656835361946,0.015443920938249056,-0.1572200220234247,-0.036578243234988816,-0.022860482274217525,0.0008439536042991665,0.026386949564070922,0.04432193884869443,-0.0024733341107749233,-0.06899307165836946,0.07964977244595108,0.05695466340892168,0.026033273260322922,0.01612892691942599,-0.05890850560790458,-0.002425728303079586,-0.07295211715028845,-0.06333947048784877,0.030207193883357953,0.022331102857704798,1.0,0.24302323145938867,0.28156831483570693,0.1195614872744803,0.08038785094707744,0.06714358691792265,0.061110242714923414,0.021442013721695758,-0.07723271475567052,0.003340836862769884,-0.0004917598696384394,0.25369082804363957,-0.06370588338247757],[-0.09217845573522312,-0.06881353604622191,0.08211369478603342,0.25085783844132825,0.22899968943586302,0.2619421891474989,0.28032810332969355,0.059193541512255164,-0.1945991605277884,-0.04348528073304866,-0.10118046572179813,0.08241219879357173,-0.05541647211524355,0.05695509682635443,-0.04651295476819956,-0.15422356071304458,-0.043231903918085124,0.01815820017145261,-0.008020697004170924,0.03524051124882793,-0.02583792283864049,-0.09915748845207009,0.03581575663328125,0.011266709502295597,0.015398884050774742,-0.0050305213298370574,-0.058852656958804664,-0.004503738160508547,-0.05154922862151126,-0.023522688188652944,-0.019537796360784745,-0.04445026357935494,0.24302323145938867,1.0,0.5241472796523214,0.2268441005093652,0.02441296236389304,0.12326927872536902,0.21806828716390433,0.03988990686505215,-0.04043532660400075,0.02389645334191742,-0.005333841595298387,0.46200818671657823,-0.05578707546019381],[-0.1313567405201051,-0.06872184085403618,0.10029334150708644,0.24623646922902603,0.1938290645561414,0.32310404750573374,0.3439932140688741,0.09502795447392635,-0.3303216152765678,0.01796178593050553,-0.040142657602424074,-0.03163436489165808,-0.019096180072413427,0.0372254326816133,-0.033940806257557424,-0.1214253479932267,-0.018335655020605628,0.03234977869574632,-0.005035368762701295,0.03407872194291279,-0.026349986449771216,-0.10298195617558899,0.0208669417506086,0.010519336113080343,0.0015983300301446086,0.012628228730856271,-0.06824338002841289,-0.018878090780771253,-0.028801565690444616,-0.002518689594574064,0.007996265113259344,-0.05891714523742906,0.28156831483570693,0.5241472796523214,1.0,0.17046586146214365,0.02660891323225946,0.10714897577691761,0.19765621703258238,0.06388401734867656,-0.0008852838564129177,0.03726393757968458,-0.0257065723631105,0.875909503956207,-0.02473246703187204],[-0.009757196240373493,0.004324514852482877,-0.009886384419034753,0.17854846625460208,0.18626148174159224,0.13039166418214487,0.3309936286671728,0.06691895670185496,0.019008104128578472,-0.04306176294984881,0.07424789337514895,0.6600730796297752,-0.030828941017653187,0.10910989277879724,0.11003525546250423,-0.5195633358187736,-0.02784727219186944,0.1336970256344638,-0.010415705590181118,0.11070759849240575,0.005762087454370456,-0.03532369572703171,0.024239324753035106,0.012077028893382418,-0.0010996517306236507,0.00558467113725213,-0.0409212239569648,0.05913301236614329,-0.05831453080194938,-0.027083848743177628,-0.005757559899576175,0.021876011404529074,0.1195614872744803,0.2268441005093652,0.17046586146214365,1.0,0.019800406511683032,0.14200666860624683,0.2934922102694139,0.18639067166405512,0.00849588730962231,0.15150822902320082,0.00037837314003975084,0.08841089568225013,-0.06557269833972079],[-0.026113021564237303,0.0019626482045376867,0.038120178011373705,0.08534948467458675,0.07399206043274519,0.07280207419713423,0.06948753993506773,0.006993761237283843,-0.04936841368167148,-0.015695047554563444,-0.029474105824380654,-0.01021457037525832,-0.19603556773434255,0.07827783364391368,-0.21674212563326875,-0.02355085494230047,-0.06919409595111871,-0.002737285974416506,-0.005954106803738816,-0.027499209904402563,-0.16084368338588298,-0.045926499516773425,0.06617191013435164,0.042563233806548806,0.018322657344401205,0.0037566012369311505,-0.12240814335858406,-0.053720046602635546,-0.13818195027220376,-0.08596525271714141,-0.025008258297288366,-0.050746506103311675,0.08038785094707744,0.02441296236389304,0.02660891323225946,0.019800406511683032,1.0,-0.013326433570978362,0.00397732659583853,-0.004479981298529787,-0.1927502613660533,-0.003531971919794904,-0.005092771923716497,0.010521463335785769,-0.10517547325718779],[-0.06715862042091922,-0.052606220541015124,-0.02503435343185976,0.400870557297422,0.5434345628973932,0.06191145573703669,0.15761221375379175,0.012012820786218957,-0.05341939260459803,-0.2031153455817204,-0.035452541546249765,0.09090190062939277,-0.006552707829521824,0.009266004323687835,0.004359130621110844,-0.035600993200316816,-0.009306658643598396,-0.003155900036760133,-0.002746279497458118,0.03545147676782768,-0.004905247380824799,-0.02016806881270499,-0.0022584852915020237,0.00431525861786326,-0.0148946809902519,0.00020886795536373084,-0.011630446343810042,0.01357087483369379,-0.0004927844457687517,-0.006873458870488573,0.00891964823126894,-0.029074420153039078,0.06714358691792265,0.12326927872536902,0.10714897577691761,0.14200666860624683,-0.013326433570978362,1.0,0.03709217304820056,-0.027569826125954103,-0.009122251618691516,0.001587694890410629,0.0028326890683316487,0.07864673746815216,0.000879850869045938],[-0.030304820901227263,-0.051535608603829684,-0.009251350041440903,0.019187526013941327,0.028144955305603177,0.06773231982336045,0.026479948567353345,0.041339078488340356,-0.07271450234627223,-0.009414474306014338,-0.032475221492578525,0.15529475618364658,-0.02887127205493916,0.019041295084784096,0.02809217323040108,-0.17449943491177694,-0.04353219599822493,-0.04625738610437119,-0.013598928142581216,0.04003798846006953,-0.025934797970780667,-0.025550232523667785,0.006334059572848377,-0.006894265689752677,-0.00011836631422373243,-0.005855784952479442,-0.026423851802669502,-0.009831386205474637,-0.005510968793625779,-0.00712608852252222,-0.0019548711817327395,0.024848659048573526,0.061110242714923414,0.21806828716390433,0.19765621703258238,0.2934922102694139,0.00397732659583853,0.03709217304820056,1.0,-0.026030011302405565,-0.03123207142025434,-0.04480884843942178,-0.003537817445006365,0.1666704180868313,-0.010149731411744023],[0.2144429538206716,0.13451779033356018,0.07937480477318837,0.041146977175696674,-0.015540744904099695,0.050252196426399234,0.4420774296884591,0.115580940369579,0.32139017465926467,0.013464798328052903,0.0752235935102938,0.1345367537515963,0.19894963209313007,0.19299065668667362,0.13847270745520604,-0.026385092230365014,0.23188581848324225,0.7956565969776433,0.03317793597385412,0.06950391507610165,0.0564082123859568,-0.008748817657986501,0.022494384455433024,0.021334962597131142,0.008054335911050231,0.027412325534498367,0.01337301425183552,0.041117011865434844,-0.001973952177515231,0.07842107089263958,-0.03612458493270981,-0.08021656173419535,0.021442013721695758,0.03988990686505215,0.06388401734867656,0.18639067166405512,-0.004479981298529787,-0.027569826125954103,-0.026030011302405565,1.0,0.28896843017846197,0.8359369735925075,0.020313683010444873,0.031322020133066585,-0.0037005913784351413],[0.06862543058721522,0.07265482815254086,0.0030720970762818036,-0.059891282694101995,-0.058072096131974914,-0.06328391970518311,0.08789243569537722,-0.011350112542143027,0.123940732748748,0.00826863202421178,0.10367056552445263,0.0400352480925824,0.9069574434540701,-0.3045336196909533,0.4468595749849929,0.009755063064317173,0.4329682719663236,0.3017140501616729,0.25196104113742435,0.19211928340842763,0.393449899351733,0.24816559969095953,-0.0014610610269543513,0.0835059495479035,-0.017074938320716708,0.05862674082471388,0.623364519482257,0.3235957200632654,0.563246841253072,0.49371246966537014,-0.018893757262973408,-0.053798161381974484,-0.07723271475567052,-0.04043532660400075,-0.0008852838564129177,0.00849588730962231,-0.1927502613660533,-0.009122251618691516,-0.03123207142025434,0.28896843017846197,1.0,0.29751190490430146,0.4001126618583178,0.004798490923639275,0.5250860546498196],[0.16159768725615264,0.11423311064251176,0.1180631387338824,0.06884730523244266,0.03138823438125133,0.021743221984747676,0.38532914326274065,0.10730293029815242,0.4239125110192739,-0.06887289228552153,0.08990993989720049,0.12469490310754552,0.24152859360114448,0.21704475076640012,0.12778343887053276,0.030020659371916603,0.2931272089764554,0.9569217281359282,0.05356761581099846,0.0936226723604828,0.08635467436378157,0.0012591453094350923,0.020238969837109533,0.029625049612332973,0.004161154574294083,0.017059385552098353,0.052395200269075015,0.06654639736593193,0.024245159146934467,0.12796863191686275,-0.09962560272510003,-0.4203849638938595,0.003340836862769884,0.02389645334191742,0.03726393757968458,0.15150822902320082,-0.003531971919794904,0.001587694890410629,-0.04480884843942178,0.8359369735925075,0.29751190490430146,1.0,0.058089616112515945,-0.11777299581154001,0.03740132398533809],[0.03440605686065163,0.033591390258838935,-0.002698081713404052,-0.0021262738441273953,0.00036908462404291006,-0.005542457106998787,0.007193412011592611,-0.05973093494870584,0.06016600113713952,-0.011942625000475986,0.02770422031653386,-0.004142829271851424,0.3245745220084905,-0.025950306262340527,0.24938465769259663,0.006995963626506802,0.10822115239252417,0.06113966978346806,0.21621243707361223,0.099152029940445,0.268715047703139,0.22166927541045484,0.19968739468984245,0.19691071968741622,0.053702435042071006,0.13331217631390435,0.49258396089502765,0.41510236265205996,0.2869596070800026,0.14626911882410995,-0.017800658296780788,-0.0634021022258068,-0.0004917598696384394,-0.005333841595298387,-0.0257065723631105,0.00037837314003975084,-0.005092771923716497,0.0028326890683316487,-0.003537817445006365,0.020313683010444873,0.4001126618583178,0.058089616112515945,1.0,0.019914502632464852,0.1281430836023293],[-0.13823396315979045,-0.055424601463224164,0.04246781808382739,0.1941813099404445,0.13331907695425385,0.29597153580169394,0.27430534324297207,0.08789955009886888,-0.3162165240609447,0.06068643494971328,-0.05622598364993581,-0.08043380738082188,-0.02610387798185254,-0.018340556602619015,-0.013090392044574324,-0.09866579966333017,-0.04445300512042547,-0.12291742883272638,-0.0008845917982912717,0.016222239642557593,-0.02657015714888227,-0.08239359415037738,0.04103519991300586,0.02680653190656385,0.015874647389732287,0.034642924407483844,-0.04945708475270615,-0.014254547518956726,-0.012620057981558318,-0.030957373849929994,0.0762353482809575,0.2767712704583509,0.25369082804363957,0.46200818671657823,0.875909503956207,0.08841089568225013,0.010521463335785769,0.07864673746815216,0.1666704180868313,0.031322020133066585,0.004798490923639275,-0.11777299581154001,0.019914502632464852,1.0,-0.032661053378931666],[0.02694881794569344,0.009893175077326864,-0.02316326660443894,-0.05156450167000013,-0.03326822071922838,-0.06607953889617986,-0.07223561085354979,0.04200084425712721,0.041208852702224304,-0.00775551074517895,0.0623084501456546,-0.013038632639132304,0.7695098503811263,-0.5307926106865137,0.25809578346909956,0.04957436591065421,0.49867525694272674,0.02952606969937375,0.37706805375275637,0.07336529819175217,0.15379567790250398,0.20238958561067774,-0.010614490407678763,0.11884969944151899,-0.003085220323098558,0.018940185934734753,0.2938037110631757,-0.06239995935986157,0.7533843921187545,0.7957313082113857,-0.04389926245512607,-0.05543820397289062,-0.06370588338247757,-0.05578707546019381,-0.02473246703187204,-0.06557269833972079,-0.10517547325718779,0.000879850869045938,-0.010149731411744023,-0.0037005913784351413,0.5250860546498196,0.03740132398533809,0.1281430836023293,-0.032661053378931666,1.0]],\"type\":\"heatmap\",\"xaxis\":\"x\",\"yaxis\":\"y\",\"hovertemplate\":\"Variables: %{x}\\u003cbr\\u003eVariables: %{y}\\u003cbr\\u003eCoefficient de corr\\u00e9lation: %{z}\\u003cextra\\u003e\\u003c\\u002fextra\\u003e\"}],                        {\"template\":{\"data\":{\"histogram2dcontour\":[{\"type\":\"histogram2dcontour\",\"colorbar\":{\"outlinewidth\":0,\"ticks\":\"\"},\"colorscale\":[[0.0,\"#0d0887\"],[0.1111111111111111,\"#46039f\"],[0.2222222222222222,\"#7201a8\"],[0.3333333333333333,\"#9c179e\"],[0.4444444444444444,\"#bd3786\"],[0.5555555555555556,\"#d8576b\"],[0.6666666666666666,\"#ed7953\"],[0.7777777777777778,\"#fb9f3a\"],[0.8888888888888888,\"#fdca26\"],[1.0,\"#f0f921\"]]}],\"choropleth\":[{\"type\":\"choropleth\",\"colorbar\":{\"outlinewidth\":0,\"ticks\":\"\"}}],\"histogram2d\":[{\"type\":\"histogram2d\",\"colorbar\":{\"outlinewidth\":0,\"ticks\":\"\"},\"colorscale\":[[0.0,\"#0d0887\"],[0.1111111111111111,\"#46039f\"],[0.2222222222222222,\"#7201a8\"],[0.3333333333333333,\"#9c179e\"],[0.4444444444444444,\"#bd3786\"],[0.5555555555555556,\"#d8576b\"],[0.6666666666666666,\"#ed7953\"],[0.7777777777777778,\"#fb9f3a\"],[0.8888888888888888,\"#fdca26\"],[1.0,\"#f0f921\"]]}],\"heatmap\":[{\"type\":\"heatmap\",\"colorbar\":{\"outlinewidth\":0,\"ticks\":\"\"},\"colorscale\":[[0.0,\"#0d0887\"],[0.1111111111111111,\"#46039f\"],[0.2222222222222222,\"#7201a8\"],[0.3333333333333333,\"#9c179e\"],[0.4444444444444444,\"#bd3786\"],[0.5555555555555556,\"#d8576b\"],[0.6666666666666666,\"#ed7953\"],[0.7777777777777778,\"#fb9f3a\"],[0.8888888888888888,\"#fdca26\"],[1.0,\"#f0f921\"]]}],\"heatmapgl\":[{\"type\":\"heatmapgl\",\"colorbar\":{\"outlinewidth\":0,\"ticks\":\"\"},\"colorscale\":[[0.0,\"#0d0887\"],[0.1111111111111111,\"#46039f\"],[0.2222222222222222,\"#7201a8\"],[0.3333333333333333,\"#9c179e\"],[0.4444444444444444,\"#bd3786\"],[0.5555555555555556,\"#d8576b\"],[0.6666666666666666,\"#ed7953\"],[0.7777777777777778,\"#fb9f3a\"],[0.8888888888888888,\"#fdca26\"],[1.0,\"#f0f921\"]]}],\"contourcarpet\":[{\"type\":\"contourcarpet\",\"colorbar\":{\"outlinewidth\":0,\"ticks\":\"\"}}],\"contour\":[{\"type\":\"contour\",\"colorbar\":{\"outlinewidth\":0,\"ticks\":\"\"},\"colorscale\":[[0.0,\"#0d0887\"],[0.1111111111111111,\"#46039f\"],[0.2222222222222222,\"#7201a8\"],[0.3333333333333333,\"#9c179e\"],[0.4444444444444444,\"#bd3786\"],[0.5555555555555556,\"#d8576b\"],[0.6666666666666666,\"#ed7953\"],[0.7777777777777778,\"#fb9f3a\"],[0.8888888888888888,\"#fdca26\"],[1.0,\"#f0f921\"]]}],\"surface\":[{\"type\":\"surface\",\"colorbar\":{\"outlinewidth\":0,\"ticks\":\"\"},\"colorscale\":[[0.0,\"#0d0887\"],[0.1111111111111111,\"#46039f\"],[0.2222222222222222,\"#7201a8\"],[0.3333333333333333,\"#9c179e\"],[0.4444444444444444,\"#bd3786\"],[0.5555555555555556,\"#d8576b\"],[0.6666666666666666,\"#ed7953\"],[0.7777777777777778,\"#fb9f3a\"],[0.8888888888888888,\"#fdca26\"],[1.0,\"#f0f921\"]]}],\"mesh3d\":[{\"type\":\"mesh3d\",\"colorbar\":{\"outlinewidth\":0,\"ticks\":\"\"}}],\"scatter\":[{\"marker\":{\"line\":{\"color\":\"#283442\"}},\"type\":\"scatter\"}],\"parcoords\":[{\"type\":\"parcoords\",\"line\":{\"colorbar\":{\"outlinewidth\":0,\"ticks\":\"\"}}}],\"scatterpolargl\":[{\"type\":\"scatterpolargl\",\"marker\":{\"colorbar\":{\"outlinewidth\":0,\"ticks\":\"\"}}}],\"bar\":[{\"error_x\":{\"color\":\"#f2f5fa\"},\"error_y\":{\"color\":\"#f2f5fa\"},\"marker\":{\"line\":{\"color\":\"rgb(17,17,17)\",\"width\":0.5},\"pattern\":{\"fillmode\":\"overlay\",\"size\":10,\"solidity\":0.2}},\"type\":\"bar\"}],\"scattergeo\":[{\"type\":\"scattergeo\",\"marker\":{\"colorbar\":{\"outlinewidth\":0,\"ticks\":\"\"}}}],\"scatterpolar\":[{\"type\":\"scatterpolar\",\"marker\":{\"colorbar\":{\"outlinewidth\":0,\"ticks\":\"\"}}}],\"histogram\":[{\"marker\":{\"pattern\":{\"fillmode\":\"overlay\",\"size\":10,\"solidity\":0.2}},\"type\":\"histogram\"}],\"scattergl\":[{\"marker\":{\"line\":{\"color\":\"#283442\"}},\"type\":\"scattergl\"}],\"scatter3d\":[{\"type\":\"scatter3d\",\"line\":{\"colorbar\":{\"outlinewidth\":0,\"ticks\":\"\"}},\"marker\":{\"colorbar\":{\"outlinewidth\":0,\"ticks\":\"\"}}}],\"scattermapbox\":[{\"type\":\"scattermapbox\",\"marker\":{\"colorbar\":{\"outlinewidth\":0,\"ticks\":\"\"}}}],\"scatterternary\":[{\"type\":\"scatterternary\",\"marker\":{\"colorbar\":{\"outlinewidth\":0,\"ticks\":\"\"}}}],\"scattercarpet\":[{\"type\":\"scattercarpet\",\"marker\":{\"colorbar\":{\"outlinewidth\":0,\"ticks\":\"\"}}}],\"carpet\":[{\"aaxis\":{\"endlinecolor\":\"#A2B1C6\",\"gridcolor\":\"#506784\",\"linecolor\":\"#506784\",\"minorgridcolor\":\"#506784\",\"startlinecolor\":\"#A2B1C6\"},\"baxis\":{\"endlinecolor\":\"#A2B1C6\",\"gridcolor\":\"#506784\",\"linecolor\":\"#506784\",\"minorgridcolor\":\"#506784\",\"startlinecolor\":\"#A2B1C6\"},\"type\":\"carpet\"}],\"table\":[{\"cells\":{\"fill\":{\"color\":\"#506784\"},\"line\":{\"color\":\"rgb(17,17,17)\"}},\"header\":{\"fill\":{\"color\":\"#2a3f5f\"},\"line\":{\"color\":\"rgb(17,17,17)\"}},\"type\":\"table\"}],\"barpolar\":[{\"marker\":{\"line\":{\"color\":\"rgb(17,17,17)\",\"width\":0.5},\"pattern\":{\"fillmode\":\"overlay\",\"size\":10,\"solidity\":0.2}},\"type\":\"barpolar\"}],\"pie\":[{\"automargin\":true,\"type\":\"pie\"}]},\"layout\":{\"autotypenumbers\":\"strict\",\"colorway\":[\"#636efa\",\"#EF553B\",\"#00cc96\",\"#ab63fa\",\"#FFA15A\",\"#19d3f3\",\"#FF6692\",\"#B6E880\",\"#FF97FF\",\"#FECB52\"],\"font\":{\"color\":\"#f2f5fa\"},\"hovermode\":\"closest\",\"hoverlabel\":{\"align\":\"left\"},\"paper_bgcolor\":\"rgb(17,17,17)\",\"plot_bgcolor\":\"rgb(17,17,17)\",\"polar\":{\"bgcolor\":\"rgb(17,17,17)\",\"angularaxis\":{\"gridcolor\":\"#506784\",\"linecolor\":\"#506784\",\"ticks\":\"\"},\"radialaxis\":{\"gridcolor\":\"#506784\",\"linecolor\":\"#506784\",\"ticks\":\"\"}},\"ternary\":{\"bgcolor\":\"rgb(17,17,17)\",\"aaxis\":{\"gridcolor\":\"#506784\",\"linecolor\":\"#506784\",\"ticks\":\"\"},\"baxis\":{\"gridcolor\":\"#506784\",\"linecolor\":\"#506784\",\"ticks\":\"\"},\"caxis\":{\"gridcolor\":\"#506784\",\"linecolor\":\"#506784\",\"ticks\":\"\"}},\"coloraxis\":{\"colorbar\":{\"outlinewidth\":0,\"ticks\":\"\"}},\"colorscale\":{\"sequential\":[[0.0,\"#0d0887\"],[0.1111111111111111,\"#46039f\"],[0.2222222222222222,\"#7201a8\"],[0.3333333333333333,\"#9c179e\"],[0.4444444444444444,\"#bd3786\"],[0.5555555555555556,\"#d8576b\"],[0.6666666666666666,\"#ed7953\"],[0.7777777777777778,\"#fb9f3a\"],[0.8888888888888888,\"#fdca26\"],[1.0,\"#f0f921\"]],\"sequentialminus\":[[0.0,\"#0d0887\"],[0.1111111111111111,\"#46039f\"],[0.2222222222222222,\"#7201a8\"],[0.3333333333333333,\"#9c179e\"],[0.4444444444444444,\"#bd3786\"],[0.5555555555555556,\"#d8576b\"],[0.6666666666666666,\"#ed7953\"],[0.7777777777777778,\"#fb9f3a\"],[0.8888888888888888,\"#fdca26\"],[1.0,\"#f0f921\"]],\"diverging\":[[0,\"#8e0152\"],[0.1,\"#c51b7d\"],[0.2,\"#de77ae\"],[0.3,\"#f1b6da\"],[0.4,\"#fde0ef\"],[0.5,\"#f7f7f7\"],[0.6,\"#e6f5d0\"],[0.7,\"#b8e186\"],[0.8,\"#7fbc41\"],[0.9,\"#4d9221\"],[1,\"#276419\"]]},\"xaxis\":{\"gridcolor\":\"#283442\",\"linecolor\":\"#506784\",\"ticks\":\"\",\"title\":{\"standoff\":15},\"zerolinecolor\":\"#283442\",\"automargin\":true,\"zerolinewidth\":2},\"yaxis\":{\"gridcolor\":\"#283442\",\"linecolor\":\"#506784\",\"ticks\":\"\",\"title\":{\"standoff\":15},\"zerolinecolor\":\"#283442\",\"automargin\":true,\"zerolinewidth\":2},\"scene\":{\"xaxis\":{\"backgroundcolor\":\"rgb(17,17,17)\",\"gridcolor\":\"#506784\",\"linecolor\":\"#506784\",\"showbackground\":true,\"ticks\":\"\",\"zerolinecolor\":\"#C8D4E3\",\"gridwidth\":2},\"yaxis\":{\"backgroundcolor\":\"rgb(17,17,17)\",\"gridcolor\":\"#506784\",\"linecolor\":\"#506784\",\"showbackground\":true,\"ticks\":\"\",\"zerolinecolor\":\"#C8D4E3\",\"gridwidth\":2},\"zaxis\":{\"backgroundcolor\":\"rgb(17,17,17)\",\"gridcolor\":\"#506784\",\"linecolor\":\"#506784\",\"showbackground\":true,\"ticks\":\"\",\"zerolinecolor\":\"#C8D4E3\",\"gridwidth\":2}},\"shapedefaults\":{\"line\":{\"color\":\"#f2f5fa\"}},\"annotationdefaults\":{\"arrowcolor\":\"#f2f5fa\",\"arrowhead\":0,\"arrowwidth\":1},\"geo\":{\"bgcolor\":\"rgb(17,17,17)\",\"landcolor\":\"rgb(17,17,17)\",\"subunitcolor\":\"#506784\",\"showland\":true,\"showlakes\":true,\"lakecolor\":\"rgb(17,17,17)\"},\"title\":{\"x\":0.05},\"updatemenudefaults\":{\"bgcolor\":\"#506784\",\"borderwidth\":0},\"sliderdefaults\":{\"bgcolor\":\"#C8D4E3\",\"borderwidth\":1,\"bordercolor\":\"rgb(17,17,17)\",\"tickwidth\":0},\"mapbox\":{\"style\":\"dark\"}}},\"xaxis\":{\"anchor\":\"y\",\"domain\":[0.0,1.0],\"scaleanchor\":\"y\",\"constrain\":\"domain\",\"title\":{\"text\":\"Variables\"}},\"yaxis\":{\"anchor\":\"x\",\"domain\":[0.0,1.0],\"autorange\":\"reversed\",\"constrain\":\"domain\",\"title\":{\"text\":\"Variables\"}},\"coloraxis\":{\"colorbar\":{\"title\":{\"text\":\"Coefficient de corr\\u00e9lation\"}},\"colorscale\":[[0.0,\"#440154\"],[0.1111111111111111,\"#482878\"],[0.2222222222222222,\"#3e4989\"],[0.3333333333333333,\"#31688e\"],[0.4444444444444444,\"#26828e\"],[0.5555555555555556,\"#1f9e89\"],[0.6666666666666666,\"#35b779\"],[0.7777777777777778,\"#6ece58\"],[0.8888888888888888,\"#b5de2b\"],[1.0,\"#fde725\"]]},\"title\":{\"text\":\"Matrice de corr\\u00e9lation (Spearman)\"},\"width\":900,\"height\":900},                        {\"responsive\": true}                    ).then(function(){\n                            \nvar gd = document.getElementById('c7465af0-02f8-4531-85c7-bce8a3bbd4a6');\nvar x = new MutationObserver(function (mutations, observer) {{\n        var display = window.getComputedStyle(gd).display;\n        if (!display || display === 'none') {{\n            console.log([gd, 'removed!']);\n            Plotly.purge(gd);\n            observer.disconnect();\n        }}\n}});\n\n// Listen for the removal of the full notebook cells\nvar notebookContainer = gd.closest('#notebook-container');\nif (notebookContainer) {{\n    x.observe(notebookContainer, {childList: true});\n}}\n\n// Listen for the clearing of the current output cell\nvar outputEl = gd.closest('.output');\nif (outputEl) {{\n    x.observe(outputEl, {childList: true});\n}}\n\n                        })                };                });            </script>        </div>"
     },
     "metadata": {},
     "output_type": "display_data"
    }
   ],
   "source": [
    "corr = X_temporaire.corr(method = 'spearman')\n",
    "\n",
    "\n",
    "# Tracer la matrice de corrélation avec Plotly Express\n",
    "fig = px.imshow(corr,\n",
    "                labels=dict(x=\"Variables\", y=\"Variables\", color=\"Coefficient de corrélation\"),\n",
    "                x=corr.columns,\n",
    "                y=corr.columns,\n",
    "                color_continuous_scale=\"Viridis\",\n",
    "                title=\"Matrice de corrélation (Spearman)\")\n",
    "\n",
    "fig.update_layout(width=900, height=900)\n",
    "# Afficher le graphique\n",
    "fig.show()"
   ],
   "metadata": {
    "collapsed": false,
    "ExecuteTime": {
     "end_time": "2023-12-22T16:41:26.470243600Z",
     "start_time": "2023-12-22T16:41:26.206092500Z"
    }
   },
   "id": "7c436796d3fb20ab"
  },
  {
   "cell_type": "code",
   "execution_count": 34,
   "outputs": [
    {
     "data": {
      "text/plain": "<Figure size 1200x800 with 1 Axes>",
      "image/png": "[encoded data removed]"
     },
     "metadata": {},
     "output_type": "display_data"
    }
   ],
   "source": [
    "import matplotlib.pyplot as plt\n",
    "import numpy as np\n",
    "\n",
    "# Obtenir les coefficients du modèle\n",
    "coefficients = model.coef_[0]\n",
    "\n",
    "# Obtenir les noms des caractéristiques\n",
    "feature_names = X.columns\n",
    "\n",
    "# Créer un DataFrame avec les noms des caractéristiques et leurs coefficients\n",
    "feature_importance_df = pd.DataFrame({'Feature': feature_names, 'Coefficient': coefficients})\n",
    "\n",
    "# Trier le DataFrame par coefficient en valeur absolue pour avoir une visualisation plus claire\n",
    "feature_importance_df['Abs_Coefficient'] = np.abs(feature_importance_df['Coefficient'])\n",
    "feature_importance_df = feature_importance_df.sort_values(by='Abs_Coefficient', ascending=False)\n",
    "\n",
    "# Tracer le graphique des importances des caractéristiques\n",
    "plt.figure(figsize=(12, 8))\n",
    "plt.barh(feature_importance_df['Feature'], feature_importance_df['Abs_Coefficient'], color='skyblue')\n",
    "plt.xlabel('Coefficient de régression (en valeur absolue)')\n",
    "plt.ylabel('Caractéristique')\n",
    "plt.title('Importance des caractéristiques dans le modèle de régression logistique')\n",
    "plt.show()\n"
   ],
   "metadata": {
    "collapsed": false,
    "ExecuteTime": {
     "end_time": "2023-12-22T16:34:22.665523300Z",
     "start_time": "2023-12-22T16:34:21.644114900Z"
    }
   },
   "id": "49fd731207c8ae83"
  }
 ],
 "metadata": {
  "kernelspec": {
   "display_name": "Python 3",
   "language": "python",
   "name": "python3"
  },
  "language_info": {
   "codemirror_mode": {
    "name": "ipython",
    "version": 2
   },
   "file_extension": ".py",
   "mimetype": "text/x-python",
   "name": "python",
   "nbconvert_exporter": "python",
   "pygments_lexer": "ipython2",
   "version": "2.7.6"
  }
 },
 "nbformat": 4,
 "nbformat_minor": 5
}
