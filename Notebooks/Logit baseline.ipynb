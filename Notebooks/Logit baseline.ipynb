{
 "cells": [
  {
   "cell_type": "markdown",
   "source": [
    "# Import packages"
   ],
   "metadata": {
    "collapsed": false
   },
   "id": "6c749c84ffb5f097"
  },
  {
   "cell_type": "code",
   "execution_count": null,
   "outputs": [],
   "source": [
    "import pandas as pd\n",
    "from sklearn.model_selection import train_test_split\n",
    "import numpy as np\n",
    "import seaborn as sns\n",
    "import matplotlib.pyplot as plt\n",
    "import plotly.express as px\n",
    "import sklearn\n",
    "from sklearn.linear_model import LogisticRegression\n",
    "from sklearn.metrics import accuracy_score, classification_report, confusion_matrix\n",
    "import warnings \n",
    "warnings.filterwarnings(\"ignore\")"
   ],
   "metadata": {
    "collapsed": false
   },
   "id": "initial_id"
  },
  {
   "cell_type": "markdown",
   "source": [
    "# Import data"
   ],
   "metadata": {
    "collapsed": false
   },
   "id": "8c26a71925e75cf8"
  },
  {
   "cell_type": "code",
   "execution_count": null,
   "outputs": [],
   "source": [
    "df = pd.read_csv('../data/base_modelis_pass_det.csv',sep = ';')"
   ],
   "metadata": {
    "collapsed": false
   },
   "id": "d558e9904e11085d"
  },
  {
   "cell_type": "markdown",
   "source": [
    "# Dataviz rapide"
   ],
   "metadata": {
    "collapsed": false
   },
   "id": "32890ed3eca1741f"
  },
  {
   "cell_type": "code",
   "execution_count": null,
   "outputs": [],
   "source": [
    "df.isna().sum()"
   ],
   "metadata": {
    "collapsed": false
   },
   "id": "b1397a08f4916972"
  },
  {
   "cell_type": "code",
   "execution_count": null,
   "outputs": [],
   "source": [
    "df.head(20)"
   ],
   "metadata": {
    "collapsed": false
   },
   "id": "7bbcc692f195bffd"
  },
  {
   "cell_type": "markdown",
   "source": [
    "# Data treatment"
   ],
   "metadata": {
    "collapsed": false
   },
   "id": "962e0afb71af6480"
  },
  {
   "cell_type": "code",
   "execution_count": null,
   "outputs": [],
   "source": [
    "df['date_entree_defaut'] = pd.to_datetime(df['date_entree_defaut'])"
   ],
   "metadata": {
    "collapsed": false
   },
   "id": "6895722ad755d6c5"
  },
  {
   "cell_type": "code",
   "execution_count": null,
   "outputs": [],
   "source": [
    "df['arrete'] = pd.to_datetime(df['arrete'])"
   ],
   "metadata": {
    "collapsed": false
   },
   "id": "fb6f92639cf57d05"
  },
  {
   "cell_type": "code",
   "execution_count": null,
   "outputs": [],
   "source": [
    "df_validation = df[df['arrete']>\"2020-12-30\"]"
   ],
   "metadata": {
    "collapsed": false
   },
   "id": "cbc098d7ed4bb4e"
  },
  {
   "cell_type": "markdown",
   "source": [
    "On split les données en un ensemble de train et un de test, toutes les données anterieures 2021 seront dans le train et le reste dans le test"
   ],
   "metadata": {
    "collapsed": false
   },
   "id": "e40ba49ab55c0d1a"
  },
  {
   "cell_type": "code",
   "execution_count": null,
   "outputs": [],
   "source": [
    "data = df[df['arrete']<\"2020-12-30\"]"
   ],
   "metadata": {
    "collapsed": false
   },
   "id": "7fbae70798b6280f"
  },
  {
   "cell_type": "markdown",
   "source": [
    "On va garder une seule ligne par identifiant client, la plus récente pour chaque client, pour cela on doit trier par la date au sein de chaque groupe 'cd_op'"
   ],
   "metadata": {
    "collapsed": false
   },
   "id": "853f61a11e7b296c"
  },
  {
   "cell_type": "code",
   "execution_count": null,
   "outputs": [],
   "source": [
    "data = data.groupby('cd_op').apply(lambda x: x.sort_values(by='arrete', ascending=False))"
   ],
   "metadata": {
    "collapsed": false
   },
   "id": "c72d396333d72099"
  },
  {
   "cell_type": "markdown",
   "source": [
    "Ensuite on ne va garder que la dernière occurence de chaque cd_op pour le logit"
   ],
   "metadata": {
    "collapsed": false
   },
   "id": "9ad442dfc9dc69c7"
  },
  {
   "cell_type": "code",
   "execution_count": null,
   "outputs": [],
   "source": [
    "data_logit = data.drop_duplicates(subset = 'cd_op', keep = 'first')"
   ],
   "metadata": {
    "collapsed": false
   },
   "id": "8a9865723bcf9cd2"
  },
  {
   "cell_type": "markdown",
   "source": [
    "#### On va récupérer les colonnes contenant bcp de NaN dans le jeu de test pour les retirer aussi du train_test"
   ],
   "metadata": {
    "collapsed": false
   },
   "id": "1e4beb5a1196dcc6"
  },
  {
   "cell_type": "code",
   "execution_count": null,
   "outputs": [],
   "source": [
    "df_validation = df_validation.groupby('cd_op').apply(lambda x: x.sort_values(by='arrete', ascending=False))"
   ],
   "metadata": {
    "collapsed": false
   },
   "id": "571b278322eaca77"
  },
  {
   "cell_type": "code",
   "execution_count": null,
   "outputs": [],
   "source": [
    "condition = df_validation.drop_duplicates(subset='cd_op', keep='first').isna().sum()/df_validation.shape[0] < 0.2 # on supprime les colonnes qui contiennent + de 20% de NaN\n",
    "df_filtered = df_validation.loc[:, condition]"
   ],
   "metadata": {
    "collapsed": false
   },
   "id": "cd6ecfa646f32dd8"
  },
  {
   "cell_type": "markdown",
   "source": [
    "# Correlation\n",
    "### Variables numeriques"
   ],
   "metadata": {
    "collapsed": false
   },
   "id": "6dd531aefdc3a7d7"
  },
  {
   "cell_type": "code",
   "execution_count": null,
   "outputs": [],
   "source": [
    "(np.abs(data[df_filtered.columns].drop_duplicates(subset='cd_op', keep='first').select_dtypes(include = 'number').corr()['fl_pass_DET'])>0.1)==True"
   ],
   "metadata": {
    "collapsed": false
   },
   "id": "65c16542ac658f0f"
  },
  {
   "cell_type": "markdown",
   "source": [
    "### Variables categorielles"
   ],
   "metadata": {
    "collapsed": false
   },
   "id": "91ee0ea3bebb8ba4"
  },
  {
   "cell_type": "code",
   "execution_count": null,
   "outputs": [],
   "source": [
    "for col in data[df_filtered.columns].drop_duplicates(subset='cd_op', keep='first').select_dtypes(include = 'object').nunique()"
   ],
   "metadata": {
    "collapsed": false
   },
   "id": "9fa11a638b78c89b"
  },
  {
   "cell_type": "code",
   "execution_count": null,
   "outputs": [],
   "source": [
    "from scipy.stats import chi2_contingency\n",
    "\n",
    "liste_var_cat_dependantes = []\n",
    "\n",
    "for col in data[df_filtered.columns].drop_duplicates(subset='cd_op', keep='first').select_dtypes(include = 'object').columns:\n",
    "    contingency_table = pd.crosstab(data['fl_pass_DET'], data[col])\n",
    "    \n",
    "    chi2, p, _, _ = chi2_contingency(contingency_table)\n",
    "    \n",
    "    if p<0.05:\n",
    "        liste_var_cat_dependantes.append(col)\n",
    "        print(f\"p-value de {col}:\", p)\n",
    "    else:\n",
    "        pass\n",
    "    \n"
   ],
   "metadata": {
    "collapsed": false
   },
   "id": "e80dd895c1ba7b9b"
  },
  {
   "cell_type": "markdown",
   "source": [
    "# 01-Logit simple"
   ],
   "metadata": {
    "collapsed": false
   },
   "id": "86fd7f0affb7a522"
  },
  {
   "cell_type": "code",
   "execution_count": null,
   "outputs": [],
   "source": [
    "data_logit['fl_pass_DET'].value_counts()"
   ],
   "metadata": {
    "collapsed": false
   },
   "id": "259f3fee5eeabcd3"
  },
  {
   "cell_type": "code",
   "execution_count": null,
   "outputs": [],
   "source": [
    "# Sélectionner les données\n",
    "X = data[df_filtered.columns] # On drop les var qui ont trop de NaN\n",
    "X.drop(columns = ['cum_dec','cum_rec','MR_arr'],inplace = True)\n",
    "X = X.select_dtypes(include = 'number')\n",
    "X.dropna(inplace = True)\n",
    "\n",
    "y = X['fl_pass_DET']\n",
    "\n",
    "X.drop(columns = 'fl_pass_DET', inplace = True)\n"
   ],
   "metadata": {
    "collapsed": false
   },
   "id": "a2d4208ccd86cf24"
  },
  {
   "cell_type": "code",
   "execution_count": null,
   "outputs": [],
   "source": [
    "X_train, X_test, y_train, y_test = train_test_split(X, y, test_size=0.3, random_state=42)"
   ],
   "metadata": {
    "collapsed": false
   },
   "id": "663a95cf62f262c"
  },
  {
   "cell_type": "code",
   "execution_count": null,
   "outputs": [],
   "source": [
    "import pandas as pd\n",
    "from sklearn.model_selection import train_test_split\n",
    "from sklearn.linear_model import LogisticRegression\n",
    "from sklearn.metrics import roc_auc_score, confusion_matrix, classification_report\n",
    "\n",
    "X_train, X_test, y_train, y_test = train_test_split(X, y, test_size=0.2, random_state=42)\n",
    "\n",
    "model = LogisticRegression()\n",
    "\n",
    "model.fit(X_train, y_train)\n",
    "\n",
    "y_prob = model.predict_proba(X_test)[:, 1]\n",
    "\n",
    "auc = roc_auc_score(y_test, y_prob)\n",
    "\n",
    "y_pred = model.predict(X_test)\n",
    "\n",
    "conf_matrix = confusion_matrix(y_test, y_pred)\n",
    "classification_rep = classification_report(y_test, y_pred)\n"
   ],
   "metadata": {
    "collapsed": false
   },
   "id": "9b20ddd1c656caa7"
  },
  {
   "cell_type": "code",
   "execution_count": null,
   "outputs": [],
   "source": [
    "import matplotlib.pyplot as plt\n",
    "import numpy as np\n",
    "\n",
    "# Obtenir les coefficients du modèle\n",
    "coefficients = model.coef_[0]\n",
    "\n",
    "# Obtenir les noms des caractéristiques\n",
    "feature_names = X.columns\n",
    "\n",
    "# Créer un DataFrame avec les noms des caractéristiques et leurs coefficients\n",
    "feature_importance_df = pd.DataFrame({'Feature': feature_names, 'Coefficient': coefficients})\n",
    "\n",
    "# Trier le DataFrame par coefficient en valeur absolue pour avoir une visualisation plus claire\n",
    "feature_importance_df['Abs_Coefficient'] = np.abs(feature_importance_df['Coefficient'])\n",
    "feature_importance_df = feature_importance_df.sort_values(by='Abs_Coefficient', ascending=False)\n",
    "\n",
    "# Tracer le graphique des importances des caractéristiques\n",
    "plt.figure(figsize=(12, 8))\n",
    "plt.barh(feature_importance_df['Feature'], feature_importance_df['Abs_Coefficient'], color='skyblue')\n",
    "plt.xlabel('Coefficient de régression (en valeur absolue)')\n",
    "plt.ylabel('Caractéristique')\n",
    "plt.title('Importance des caractéristiques dans le modèle de régression logistique')\n",
    "plt.show()\n"
   ],
   "metadata": {
    "collapsed": false
   },
   "id": "49fd731207c8ae83"
  },
  {
   "cell_type": "code",
   "execution_count": null,
   "outputs": [],
   "source": [
    "from sklearn.metrics import roc_curve, auc\n",
    "# Faire des prédictions de probabilités\n",
    "y_prob = model.predict_proba(X_test)[:, 1]\n",
    "\n",
    "# Calculer la courbe ROC\n",
    "fpr, tpr, thresholds = roc_curve(y_test, y_prob)\n",
    "\n",
    "# Calculer l'AUC\n",
    "roc_auc = auc(fpr, tpr)\n",
    "\n",
    "# Tracer la courbe ROC\n",
    "plt.figure(figsize=(8, 6))\n",
    "plt.plot(fpr, tpr, color='darkorange', lw=2, label=f'AUC = {roc_auc:.2f}')\n",
    "plt.plot([0, 1], [0, 1], color='navy', lw=2, linestyle='--')\n",
    "plt.xlabel('Taux de faux positifs')\n",
    "plt.ylabel('Taux de vrais positifs')\n",
    "plt.title('Courbe ROC')\n",
    "plt.legend(loc='lower right')\n",
    "plt.show()"
   ],
   "metadata": {
    "collapsed": false
   },
   "id": "6ddb684d7e886954"
  },
  {
   "cell_type": "markdown",
   "source": [
    "# Test pour voir la variable parasite"
   ],
   "metadata": {
    "collapsed": false
   },
   "id": "8ae77b1ddc414c8a"
  },
  {
   "cell_type": "code",
   "execution_count": null,
   "outputs": [],
   "source": [
    "# Sélectionner les données\n",
    "X = data[['MT_FMG','max_age_ctx','cum_frs_externes','dls_mep_entree_def','NB_DUR_PFI','ANC_PRO_MAX_PFI','cum_dec','cum_rec','AGE_EMP1','MT_EAD_RESID','MR_arr','dls_ges_def','MT_EAD_DNE_CHR_d','MT_CHA_HORS_OPE_PFI','CD_POST_BIEN_PFI','EAD_1an_avant_def','CD_ETAT_CIVIL','CD_DNE_CHR_LGD_SAIN','fl_pass_DET']] # On drop les var qui ont trop de NaN\n",
    "\n",
    "\n",
    "X.dropna(inplace = True)\n",
    "\n",
    "y = X['fl_pass_DET']\n",
    "\n",
    "X.drop(columns = 'fl_pass_DET', inplace = True)\n"
   ],
   "metadata": {
    "collapsed": false
   },
   "id": "631d688d033e2fe5"
  },
  {
   "cell_type": "code",
   "execution_count": null,
   "outputs": [],
   "source": [
    "import pandas as pd\n",
    "from sklearn.model_selection import train_test_split\n",
    "from sklearn.linear_model import LogisticRegression\n",
    "from sklearn.metrics import roc_auc_score\n",
    "\n",
    "# Supposons que X sont vos caractéristiques et y est votre variable cible\n",
    "# Assurez-vous que X et y sont des DataFrames ou des tableaux NumPy\n",
    "\n",
    "# Créer une liste pour stocker les résultats\n",
    "results = []\n",
    "\n",
    "# Boucle sur chaque variable\n",
    "for variable in X.columns:\n",
    "    # Sélectionner la variable courante\n",
    "    X_variable = X[[variable]]\n",
    "    \n",
    "    # Diviser les données\n",
    "    X_train, X_test, y_train, y_test = train_test_split(X_variable, y, test_size=0.2, random_state=42)\n",
    "    \n",
    "    # Créer et entraîner le modèle de régression logistique\n",
    "    model = LogisticRegression()\n",
    "    model.fit(X_train, y_train)\n",
    "    \n",
    "    # Faire des prédictions de probabilités\n",
    "    y_prob = model.predict_proba(X_test)[:, 1]\n",
    "    \n",
    "    # Calculer l'AUC\n",
    "    auc = roc_auc_score(y_test, y_prob)\n",
    "    \n",
    "    # Ajouter les résultats à la liste\n",
    "    results.append({'Variable': variable, 'AUC': auc})\n",
    "\n",
    "# Créer un DataFrame à partir de la liste de résultats\n",
    "auc_df = pd.DataFrame(results)\n",
    "\n",
    "# Afficher les résultats\n",
    "print(auc_df)\n"
   ],
   "metadata": {
    "collapsed": false
   },
   "id": "b1038affaa4a1e4f"
  },
  {
   "cell_type": "code",
   "execution_count": null,
   "outputs": [],
   "source": [],
   "metadata": {
    "collapsed": false
   },
   "id": "c26a400eb6e6cf3c"
  }
 ],
 "metadata": {
  "kernelspec": {
   "display_name": "Python 3",
   "language": "python",
   "name": "python3"
  },
  "language_info": {
   "codemirror_mode": {
    "name": "ipython",
    "version": 2
   },
   "file_extension": ".py",
   "mimetype": "text/x-python",
   "name": "python",
   "nbconvert_exporter": "python",
   "pygments_lexer": "ipython2",
   "version": "2.7.6"
  }
 },
 "nbformat": 4,
 "nbformat_minor": 5
}
