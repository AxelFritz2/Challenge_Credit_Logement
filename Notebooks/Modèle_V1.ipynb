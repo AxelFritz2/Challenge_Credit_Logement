{
 "cells": [
  {
   "cell_type": "code",
   "execution_count": 2,
   "id": "initial_id",
   "metadata": {
    "collapsed": true,
    "ExecuteTime": {
     "end_time": "2024-01-09T21:18:30.730089700Z",
     "start_time": "2024-01-09T21:18:27.657832300Z"
    }
   },
   "outputs": [],
   "source": [
    "import pandas as pd\n",
    "import warnings\n",
    "from lifelines import CoxPHFitter, CoxTimeVaryingFitter\n",
    "import re\n",
    "from sklearn.preprocessing import OneHotEncoder, LabelEncoder\n",
    "warnings.filterwarnings(\"ignore\")"
   ]
  },
  {
   "cell_type": "code",
   "execution_count": 3,
   "outputs": [],
   "source": [
    "df = pd.read_csv('../data/base_modelis_pass_det.csv',sep = ';')"
   ],
   "metadata": {
    "collapsed": false,
    "ExecuteTime": {
     "end_time": "2024-01-09T21:18:34.115357300Z",
     "start_time": "2024-01-09T21:18:30.730089700Z"
    }
   },
   "id": "db5ff1f1ef1fee39"
  },
  {
   "cell_type": "code",
   "execution_count": 4,
   "outputs": [],
   "source": [
    "df['date_entree_defaut'] = pd.to_datetime(df['date_entree_defaut'], format='%d/%m/%y')\n",
    "df['date_sortie_defaut'] = pd.to_datetime(df['date_sortie_defaut'], format='%d/%m/%y', errors='coerce')\n",
    "df['arrete'] = pd.to_datetime(df['arrete'], format='%d/%m/%y')\n",
    "df['DT_MEP_OPE'] = pd.to_datetime(df['DT_MEP_OPE'], format='%d%b%Y:%H:%M:%S.%f')\n",
    "df['dt_arr_last_enc_ope'] = pd.to_datetime(df['dt_arr_last_enc_ope'], errors='coerce')\n",
    "df['dt_arr_1st_enc_ope'] = pd.to_datetime(df['dt_arr_1st_enc_ope'], errors='coerce')\n",
    "df['dtHJD_prov'] = pd.to_datetime(df['dtHJD_prov'], errors='coerce')\n",
    "df['dtHJD_def'] = pd.to_datetime(df['dtHJD_def'], errors='coerce')"
   ],
   "metadata": {
    "collapsed": false,
    "ExecuteTime": {
     "end_time": "2024-01-09T21:18:34.749110900Z",
     "start_time": "2024-01-09T21:18:34.115357300Z"
    }
   },
   "id": "6b4600db98df8ab7"
  },
  {
   "cell_type": "code",
   "execution_count": 5,
   "outputs": [],
   "source": [
    "for column in df.columns :\n",
    "    if df[column].isna().sum()/df.shape[0] > 0.5 : \n",
    "        df.drop(columns = [column], inplace = True)"
   ],
   "metadata": {
    "collapsed": false,
    "ExecuteTime": {
     "end_time": "2024-01-09T21:18:36.142962700Z",
     "start_time": "2024-01-09T21:18:34.749110900Z"
    }
   },
   "id": "61a07e066e2e749b"
  },
  {
   "cell_type": "code",
   "execution_count": 6,
   "outputs": [],
   "source": [
    "df.drop(columns = [\"CD_POST_BIEN_PFI\"], inplace = True)"
   ],
   "metadata": {
    "collapsed": false,
    "ExecuteTime": {
     "end_time": "2024-01-09T21:18:36.299481Z",
     "start_time": "2024-01-09T21:18:36.142962700Z"
    }
   },
   "id": "6442ad27b72c41c9"
  },
  {
   "cell_type": "code",
   "execution_count": 7,
   "outputs": [],
   "source": [
    "cols_numeriques = df.select_dtypes(include=['float64', 'int64']).columns.to_list()\n",
    "cols_categorielles = df.select_dtypes(include=['object']).columns.to_list()\n",
    "cols_categorielles.remove(\"cd_op\")\n",
    "\n",
    "for col in cols_numeriques:\n",
    "    df[col].fillna(df[col].mean(), inplace=True)\n",
    "\n",
    "for col in cols_categorielles:\n",
    "    df[col].fillna(df[col].mode()[0], inplace=True)"
   ],
   "metadata": {
    "collapsed": false,
    "ExecuteTime": {
     "end_time": "2024-01-09T21:18:37.008189700Z",
     "start_time": "2024-01-09T21:18:36.309258Z"
    }
   },
   "id": "c951dbf54fed5851"
  },
  {
   "cell_type": "code",
   "execution_count": 8,
   "outputs": [],
   "source": [
    "df_validation = df[df['arrete']>\"2020-12-30\"]\n",
    "df_train = df[df['arrete']<\"2020-12-30\"]\n",
    "df_train = df_train.reset_index()"
   ],
   "metadata": {
    "collapsed": false,
    "ExecuteTime": {
     "end_time": "2024-01-09T21:18:37.321033400Z",
     "start_time": "2024-01-09T21:18:36.999620400Z"
    }
   },
   "id": "579cb2f47eb1e790"
  },
  {
   "cell_type": "code",
   "execution_count": 9,
   "outputs": [],
   "source": [
    "liste_var = ['fam_ENQ','solution','FL_REL_NON_ANNULE','niv_gravite_mtf_dne','CD_SITFAM_EMP1','regroup_natur_op','PTG','fl_fam_vam','fam_PCD','AMI','CD_ETAT_CIVIL','CD_NAT_EMP1','niv_gravite_mtf_dne','FL_REL_NON_ANNULE','sol_echec','fl_def_ss_pass_CTX','nb_empr_ope','CD_MTF_DFC','FL_ETR']"
   ],
   "metadata": {
    "collapsed": false,
    "ExecuteTime": {
     "end_time": "2024-01-09T21:18:37.353216Z",
     "start_time": "2024-01-09T21:18:37.316366200Z"
    }
   },
   "id": "df95dfcf123e6079"
  },
  {
   "cell_type": "code",
   "execution_count": 10,
   "outputs": [],
   "source": [
    "df_train_var = df[liste_var].copy()\n",
    "df_test_var = df_validation[liste_var].copy()"
   ],
   "metadata": {
    "collapsed": false,
    "ExecuteTime": {
     "end_time": "2024-01-09T21:18:37.493504300Z",
     "start_time": "2024-01-09T21:18:37.333534800Z"
    }
   },
   "id": "b0b77ba22c987db9"
  },
  {
   "cell_type": "markdown",
   "source": [
    "# Encoding"
   ],
   "metadata": {
    "collapsed": false
   },
   "id": "f4b5c7959b647518"
  },
  {
   "cell_type": "code",
   "execution_count": 11,
   "outputs": [],
   "source": [
    "def encode_columns(df):\n",
    "    encoders = {}\n",
    "    for column in df.select_dtypes(include='object'):\n",
    "        unique_values = df[column].nunique()\n",
    "        if unique_values <= 10:\n",
    "            # Appliquer OneHotEncoder\n",
    "            encoder = OneHotEncoder(sparse=False)\n",
    "            encoded = encoder.fit_transform(df[[column]])\n",
    "            encoders[column] = encoder\n",
    "\n",
    "            # Remplacer la colonne originale par de nouvelles colonnes pour chaque catégorie\n",
    "            for i, category in enumerate(encoder.categories_[0]):\n",
    "                df[str(column) + '_' + str(category)] = encoded[:, i]\n",
    "            df.drop(column, axis=1, inplace=True)\n",
    "        else:\n",
    "            # Appliquer LabelEncoder\n",
    "            encoder = LabelEncoder()\n",
    "            df[column] = encoder.fit_transform(df[column])\n",
    "            encoders[column] = encoder\n",
    "    return df, encoders\n",
    "\n",
    "encoded_df, encoders = encode_columns(df_train_var)\n",
    "encoded_test, encoder_test = encode_columns(df_test_var)"
   ],
   "metadata": {
    "collapsed": false,
    "ExecuteTime": {
     "end_time": "2024-01-09T21:18:38.711067800Z",
     "start_time": "2024-01-09T21:18:37.501184700Z"
    }
   },
   "id": "511a718485da52e0"
  },
  {
   "cell_type": "code",
   "execution_count": 12,
   "outputs": [],
   "source": [
    "df_train_var['cd_op']  = df['cd_op'].copy()\n",
    "df_train_var['fl_pass_DET'] = df['fl_pass_DET'].copy()\n",
    "df_train_var['date_entree_defaut'] = df['date_entree_defaut'].copy()\n",
    "df_train_var['arrete'] = df['arrete'].copy()"
   ],
   "metadata": {
    "collapsed": false,
    "ExecuteTime": {
     "end_time": "2024-01-09T21:18:38.730322200Z",
     "start_time": "2024-01-09T21:18:38.698644400Z"
    }
   },
   "id": "d984773bd925b7a7"
  },
  {
   "cell_type": "code",
   "execution_count": 13,
   "outputs": [],
   "source": [
    "df_test_var['cd_op']  = df_validation['cd_op'].copy()\n",
    "df_test_var['fl_pass_DET'] = df_validation['fl_pass_DET'].copy()\n",
    "df_test_var['date_entree_defaut'] = df_validation['date_entree_defaut'].copy()\n",
    "df_test_var['arrete'] = df_validation['arrete'].copy()"
   ],
   "metadata": {
    "collapsed": false,
    "ExecuteTime": {
     "end_time": "2024-01-09T21:18:38.760953Z",
     "start_time": "2024-01-09T21:18:38.725322300Z"
    }
   },
   "id": "5bd15e2ee4449317"
  },
  {
   "cell_type": "markdown",
   "source": [
    "# DataPrep"
   ],
   "metadata": {
    "collapsed": false
   },
   "id": "e5914810720fe762"
  },
  {
   "cell_type": "code",
   "execution_count": 14,
   "outputs": [],
   "source": [
    "data_haz = df_train_var.copy()\n",
    "data_test =df_test_var.copy()"
   ],
   "metadata": {
    "collapsed": false,
    "ExecuteTime": {
     "end_time": "2024-01-09T21:18:38.983236500Z",
     "start_time": "2024-01-09T21:18:38.755723200Z"
    }
   },
   "id": "ddcd4abc388be8cb"
  },
  {
   "cell_type": "code",
   "execution_count": 15,
   "outputs": [],
   "source": [
    "data_haz['start'] = 0\n",
    "data_haz['stop'] = data_haz['arrete'] - data_haz['date_entree_defaut']\n",
    "data_haz['stop'] = data_haz['stop'].dt.days\n",
    "\n",
    "data_test['start'] = 0\n",
    "data_test['stop'] = data_test['arrete'] - data_test['date_entree_defaut']\n",
    "data_test['stop'] = data_test['stop'].dt.days"
   ],
   "metadata": {
    "collapsed": false,
    "ExecuteTime": {
     "end_time": "2024-01-09T21:18:39.025639600Z",
     "start_time": "2024-01-09T21:18:38.987060Z"
    }
   },
   "id": "3ad3af1047b8831f"
  },
  {
   "cell_type": "code",
   "execution_count": 16,
   "outputs": [],
   "source": [
    "data_haz['id'] = data_haz['cd_op'].apply(lambda x: re.sub(r'\\D', '', str(x)))\n",
    "\n",
    "\n",
    "data_test['id'] = data_test['cd_op'].apply(lambda x: re.sub(r'\\D', '', str(x)))"
   ],
   "metadata": {
    "collapsed": false,
    "ExecuteTime": {
     "end_time": "2024-01-09T21:18:39.635184600Z",
     "start_time": "2024-01-09T21:18:39.019577600Z"
    }
   },
   "id": "c01dc87b99e3f7b7"
  },
  {
   "cell_type": "code",
   "execution_count": 17,
   "outputs": [],
   "source": [
    "data_haz.loc[(data_haz['start'] == data_haz['stop']) & (data_haz['start'] == 0) & data_haz[\n",
    "    'fl_pass_DET'], 'stop'] = 0.5  # car le modele n'accepte pas les individus qui sortent de la survie au moment ou ils y entrent donc on remplace les 0 par 0.5.\n",
    "\n",
    "data_test.loc[(data_test['start'] == data_test['stop']) & (data_test['start'] == 0) & data_test[\n",
    "    'fl_pass_DET'], 'stop'] = 0.5 "
   ],
   "metadata": {
    "collapsed": false,
    "ExecuteTime": {
     "end_time": "2024-01-09T21:18:39.666237900Z",
     "start_time": "2024-01-09T21:18:39.635184600Z"
    }
   },
   "id": "88d35e1d762a1887"
  },
  {
   "cell_type": "code",
   "execution_count": 18,
   "outputs": [],
   "source": [
    "data_haz = data_haz.select_dtypes(exclude=[\"datetime64\"])\n",
    "\n",
    "data_test = data_test.select_dtypes(exclude=[\"datetime64\"])"
   ],
   "metadata": {
    "collapsed": false,
    "ExecuteTime": {
     "end_time": "2024-01-09T21:18:39.916237600Z",
     "start_time": "2024-01-09T21:18:39.666237900Z"
    }
   },
   "id": "ac8cdf5ce02519de"
  },
  {
   "cell_type": "code",
   "execution_count": 19,
   "outputs": [],
   "source": [
    "data_haz.drop(columns = [\"cd_op\"], inplace = True)\n",
    "\n",
    "\n",
    "data_test.drop(columns = [\"cd_op\"], inplace = True)"
   ],
   "metadata": {
    "collapsed": false,
    "ExecuteTime": {
     "end_time": "2024-01-09T21:18:40.030212600Z",
     "start_time": "2024-01-09T21:18:39.924991Z"
    }
   },
   "id": "5833608f1e64ea9c"
  },
  {
   "cell_type": "markdown",
   "source": [
    "# Modelisation"
   ],
   "metadata": {
    "collapsed": false
   },
   "id": "1da7cda2655e10cb"
  },
  {
   "cell_type": "code",
   "execution_count": 20,
   "outputs": [
    {
     "name": "stdout",
     "output_type": "stream",
     "text": [
      "Iteration 1: norm_delta = 2.90e-01, step_size = 0.9500, log_lik = -86546.11010, newton_decrement = 2.29e+03, seconds_since_start = 73.6\n",
      "Iteration 2: norm_delta = 1.30e-02, step_size = 0.9500, log_lik = -84302.33994, newton_decrement = 4.92e+00, seconds_since_start = 158.5\n",
      "Iteration 3: norm_delta = 7.12e-04, step_size = 0.9500, log_lik = -84297.41363, newton_decrement = 1.49e-02, seconds_since_start = 264.4\n",
      "Iteration 4: norm_delta = 3.77e-05, step_size = 1.0000, log_lik = -84297.39871, newton_decrement = 3.78e-05, seconds_since_start = 371.2\n",
      "Iteration 5: norm_delta = 7.23e-10, step_size = 1.0000, log_lik = -84297.39868, newton_decrement = 1.54e-14, seconds_since_start = 477.6\n",
      "Convergence completed after 5 iterations.\n"
     ]
    },
    {
     "data": {
      "text/plain": "<lifelines.CoxTimeVaryingFitter: fitted with 329064 periods, 23305 subjects, 7463 events>"
     },
     "execution_count": 20,
     "metadata": {},
     "output_type": "execute_result"
    }
   ],
   "source": [
    "ctv = CoxTimeVaryingFitter(penalizer=0.1)\n",
    "ctv.fit(data_haz, id_col=\"id\", event_col=\"fl_pass_DET\", stop_col=\"stop\", show_progress=True)"
   ],
   "metadata": {
    "collapsed": false,
    "ExecuteTime": {
     "end_time": "2024-01-09T21:26:45.876887200Z",
     "start_time": "2024-01-09T21:18:40.030212600Z"
    }
   },
   "id": "f85db72501aa3711"
  },
  {
   "cell_type": "code",
   "execution_count": 21,
   "outputs": [
    {
     "data": {
      "text/plain": "<lifelines.CoxTimeVaryingFitter: fitted with 329064 periods, 23305 subjects, 7463 events>\n         event col = 'fl_pass_DET'\n         penalizer = 0.1\nnumber of subjects = 23305\n number of periods = 329064\n  number of events = 7463\npartial log-likelihood = -84297.40\n  time fit was run = 2024-01-09 21:18:40 UTC\n\n---\n                                  coef  exp(coef)   se(coef)   coef lower 95%   coef upper 95%  exp(coef) lower 95%  exp(coef) upper 95%\ncovariate                                                                                                                               \nfam_ENQ                           0.05       1.05       0.01             0.02             0.07                 1.02                 1.07\nsolution                         -0.15       0.86       0.01            -0.17            -0.13                 0.84                 0.87\nFL_REL_NON_ANNULE                 0.09       1.09       0.03             0.02             0.16                 1.02                 1.17\nFL_REL_NON_ANNULE                 0.09       1.09       0.03             0.02             0.16                 1.02                 1.17\nniv_gravite_mtf_dne               0.12       1.13       0.02             0.08             0.15                 1.09                 1.16\nniv_gravite_mtf_dne               0.12       1.13       0.02             0.08             0.15                 1.09                 1.16\nPTG                               0.22       1.24       0.02             0.19             0.25                 1.20                 1.28\nfl_fam_vam                        0.08       1.09       0.02             0.05             0.11                 1.05                 1.12\nfam_PCD                           0.50       1.65       0.01             0.48             0.52                 1.62                 1.69\nAMI                              -0.18       0.83       0.01            -0.20            -0.16                 0.82                 0.85\nCD_ETAT_CIVIL                     0.01       1.01       0.00            -0.00             0.01                 1.00                 1.01\nniv_gravite_mtf_dne               0.12       1.13       0.02             0.08             0.15                 1.09                 1.16\nniv_gravite_mtf_dne               0.12       1.13       0.02             0.08             0.15                 1.09                 1.16\nFL_REL_NON_ANNULE                 0.09       1.09       0.03             0.02             0.16                 1.02                 1.17\nFL_REL_NON_ANNULE                 0.09       1.09       0.03             0.02             0.16                 1.02                 1.17\nfl_def_ss_pass_CTX               -0.21       0.81       0.03            -0.27            -0.15                 0.76                 0.86\nnb_empr_ope                      -0.04       0.96       0.01            -0.06            -0.02                 0.94                 0.98\nCD_MTF_DFC                       -0.01       0.99       0.00            -0.01            -0.00                 0.99                 1.00\nFL_ETR                            0.03       1.03       0.02            -0.01             0.06                 0.99                 1.06\nCD_SITFAM_EMP1_C                  0.02       1.02       0.01            -0.00             0.04                 1.00                 1.04\nCD_SITFAM_EMP1_D                  0.03       1.03       0.02            -0.00             0.07                 1.00                 1.07\nCD_SITFAM_EMP1_I                  0.04       1.04       0.06            -0.09             0.16                 0.92                 1.17\nCD_SITFAM_EMP1_M                 -0.03       0.97       0.01            -0.05            -0.01                 0.95                 0.99\nCD_SITFAM_EMP1_S                 -0.09       0.92       0.10            -0.28             0.10                 0.76                 1.10\nCD_SITFAM_EMP1_U                  0.01       1.01       0.01            -0.02             0.04                 0.98                 1.04\nCD_SITFAM_EMP1_V                 -0.03       0.97       0.05            -0.13             0.07                 0.88                 1.07\nregroup_natur_op_1_neuf_aco_acr  -0.01       0.99       0.02            -0.06             0.03                 0.95                 1.03\nregroup_natur_op_2_rachat_sou    -0.00       1.00       0.01            -0.03             0.03                 0.97                 1.03\nregroup_natur_op_3_travaux       -0.00       1.00       0.01            -0.03             0.02                 0.97                 1.02\nregroup_natur_op_4_autre          0.01       1.01       0.01            -0.01             0.03                 0.99                 1.03\nCD_NAT_EMP1_CDT                  -0.19       0.82       0.36            -0.89             0.51                 0.41                 1.66\nCD_NAT_EMP1_CEE                   0.06       1.06       0.03            -0.01             0.12                 0.99                 1.13\nCD_NAT_EMP1_ETR                   0.01       1.01       0.02            -0.03             0.05                 0.97                 1.05\nCD_NAT_EMP1_FRA                  -0.02       0.98       0.02            -0.05             0.01                 0.95                 1.01\nCD_NAT_EMP1_ZZZ                  -0.11       0.90       0.78            -1.63             1.41                 0.20                 4.10\nsol_echec_0_0                     0.02       1.02       0.01             0.00             0.04                 1.00                 1.05\nsol_echec_0_1                     0.22       1.24       0.01             0.19             0.24                 1.21                 1.27\nsol_echec_1_0                    -0.09       0.92       0.01            -0.12            -0.06                 0.89                 0.94\nsol_echec_1_1                    -0.12       0.89       0.01            -0.14            -0.10                 0.87                 0.91\n\n                                  cmp to      z      p   -log2(p)\ncovariate                                                        \nfam_ENQ                             0.00   3.94 <0.005      13.60\nsolution                            0.00 -14.97 <0.005     165.84\nFL_REL_NON_ANNULE                   0.00   2.61   0.01       6.77\nFL_REL_NON_ANNULE                   0.00   2.61   0.01       6.77\nniv_gravite_mtf_dne                 0.00   6.85 <0.005      36.98\nniv_gravite_mtf_dne                 0.00   6.85 <0.005      36.98\nPTG                                 0.00  14.17 <0.005     148.90\nfl_fam_vam                          0.00   5.38 <0.005      23.68\nfam_PCD                             0.00  45.27 <0.005        inf\nAMI                                 0.00 -16.67 <0.005     204.86\nCD_ETAT_CIVIL                       0.00   1.92   0.05       4.19\nniv_gravite_mtf_dne                 0.00   6.85 <0.005      36.98\nniv_gravite_mtf_dne                 0.00   6.85 <0.005      36.98\nFL_REL_NON_ANNULE                   0.00   2.61   0.01       6.77\nFL_REL_NON_ANNULE                   0.00   2.61   0.01       6.77\nfl_def_ss_pass_CTX                  0.00  -7.08 <0.005      39.39\nnb_empr_ope                         0.00  -4.47 <0.005      16.95\nCD_MTF_DFC                          0.00  -6.94 <0.005      37.92\nFL_ETR                              0.00   1.62   0.11       3.23\nCD_SITFAM_EMP1_C                    0.00   1.88   0.06       4.05\nCD_SITFAM_EMP1_D                    0.00   1.73   0.08       3.59\nCD_SITFAM_EMP1_I                    0.00   0.57   0.57       0.82\nCD_SITFAM_EMP1_M                    0.00  -3.08 <0.005       8.91\nCD_SITFAM_EMP1_S                    0.00  -0.92   0.36       1.48\nCD_SITFAM_EMP1_U                    0.00   0.72   0.47       1.09\nCD_SITFAM_EMP1_V                    0.00  -0.61   0.54       0.89\nregroup_natur_op_1_neuf_aco_acr     0.00  -0.61   0.54       0.88\nregroup_natur_op_2_rachat_sou       0.00  -0.22   0.83       0.27\nregroup_natur_op_3_travaux          0.00  -0.18   0.86       0.23\nregroup_natur_op_4_autre            0.00   0.58   0.56       0.83\nCD_NAT_EMP1_CDT                     0.00  -0.54   0.59       0.76\nCD_NAT_EMP1_CEE                     0.00   1.73   0.08       3.60\nCD_NAT_EMP1_ETR                     0.00   0.36   0.72       0.48\nCD_NAT_EMP1_FRA                     0.00  -1.18   0.24       2.06\nCD_NAT_EMP1_ZZZ                     0.00  -0.14   0.89       0.17\nsol_echec_0_0                       0.00   1.97   0.05       4.37\nsol_echec_0_1                       0.00  17.31 <0.005     220.67\nsol_echec_1_0                       0.00  -6.13 <0.005      30.08\nsol_echec_1_1                       0.00 -11.23 <0.005      94.85\n---\nPartial AIC = 168672.80\nlog-likelihood ratio test = 4497.42 on 39 df\n-log2(p) of ll-ratio test = inf",
      "text/html": "<div>\n<style scoped>\n    .dataframe tbody tr th:only-of-type {\n        vertical-align: middle;\n    }\n\n    .dataframe tbody tr th {\n        vertical-align: top;\n    }\n\n    .dataframe thead th {\n        text-align: right;\n    }\n</style>\n<table border=\"1\" class=\"dataframe\">\n  <tbody>\n    <tr>\n      <th>model</th>\n      <td>lifelines.CoxTimeVaryingFitter</td>\n    </tr>\n    <tr>\n      <th>event col</th>\n      <td>'fl_pass_DET'</td>\n    </tr>\n    <tr>\n      <th>penalizer</th>\n      <td>0.1</td>\n    </tr>\n    <tr>\n      <th>number of subjects</th>\n      <td>23305</td>\n    </tr>\n    <tr>\n      <th>number of periods</th>\n      <td>329064</td>\n    </tr>\n    <tr>\n      <th>number of events</th>\n      <td>7463</td>\n    </tr>\n    <tr>\n      <th>partial log-likelihood</th>\n      <td>-84297.40</td>\n    </tr>\n    <tr>\n      <th>time fit was run</th>\n      <td>2024-01-09 21:18:40 UTC</td>\n    </tr>\n  </tbody>\n</table>\n</div><table border=\"1\" class=\"dataframe\">\n  <thead>\n    <tr style=\"text-align: right;\">\n      <th style=\"min-width: 12px;\"></th>\n      <th style=\"min-width: 12px;\">coef</th>\n      <th style=\"min-width: 12px;\">exp(coef)</th>\n      <th style=\"min-width: 12px;\">se(coef)</th>\n      <th style=\"min-width: 12px;\">coef lower 95%</th>\n      <th style=\"min-width: 12px;\">coef upper 95%</th>\n      <th style=\"min-width: 12px;\">exp(coef) lower 95%</th>\n      <th style=\"min-width: 12px;\">exp(coef) upper 95%</th>\n      <th style=\"min-width: 12px;\">cmp to</th>\n      <th style=\"min-width: 12px;\">z</th>\n      <th style=\"min-width: 12px;\">p</th>\n      <th style=\"min-width: 12px;\">-log2(p)</th>\n    </tr>\n  </thead>\n  <tbody>\n    <tr>\n      <th>fam_ENQ</th>\n      <td>0.05</td>\n      <td>1.05</td>\n      <td>0.01</td>\n      <td>0.02</td>\n      <td>0.07</td>\n      <td>1.02</td>\n      <td>1.07</td>\n      <td>0.00</td>\n      <td>3.94</td>\n      <td>&lt;0.005</td>\n      <td>13.60</td>\n    </tr>\n    <tr>\n      <th>solution</th>\n      <td>-0.15</td>\n      <td>0.86</td>\n      <td>0.01</td>\n      <td>-0.17</td>\n      <td>-0.13</td>\n      <td>0.84</td>\n      <td>0.87</td>\n      <td>0.00</td>\n      <td>-14.97</td>\n      <td>&lt;0.005</td>\n      <td>165.84</td>\n    </tr>\n    <tr>\n      <th>FL_REL_NON_ANNULE</th>\n      <td>0.09</td>\n      <td>1.09</td>\n      <td>0.03</td>\n      <td>0.02</td>\n      <td>0.16</td>\n      <td>1.02</td>\n      <td>1.17</td>\n      <td>0.00</td>\n      <td>2.61</td>\n      <td>0.01</td>\n      <td>6.77</td>\n    </tr>\n    <tr>\n      <th>FL_REL_NON_ANNULE</th>\n      <td>0.09</td>\n      <td>1.09</td>\n      <td>0.03</td>\n      <td>0.02</td>\n      <td>0.16</td>\n      <td>1.02</td>\n      <td>1.17</td>\n      <td>0.00</td>\n      <td>2.61</td>\n      <td>0.01</td>\n      <td>6.77</td>\n    </tr>\n    <tr>\n      <th>niv_gravite_mtf_dne</th>\n      <td>0.12</td>\n      <td>1.13</td>\n      <td>0.02</td>\n      <td>0.08</td>\n      <td>0.15</td>\n      <td>1.09</td>\n      <td>1.16</td>\n      <td>0.00</td>\n      <td>6.85</td>\n      <td>&lt;0.005</td>\n      <td>36.98</td>\n    </tr>\n    <tr>\n      <th>niv_gravite_mtf_dne</th>\n      <td>0.12</td>\n      <td>1.13</td>\n      <td>0.02</td>\n      <td>0.08</td>\n      <td>0.15</td>\n      <td>1.09</td>\n      <td>1.16</td>\n      <td>0.00</td>\n      <td>6.85</td>\n      <td>&lt;0.005</td>\n      <td>36.98</td>\n    </tr>\n    <tr>\n      <th>PTG</th>\n      <td>0.22</td>\n      <td>1.24</td>\n      <td>0.02</td>\n      <td>0.19</td>\n      <td>0.25</td>\n      <td>1.20</td>\n      <td>1.28</td>\n      <td>0.00</td>\n      <td>14.17</td>\n      <td>&lt;0.005</td>\n      <td>148.90</td>\n    </tr>\n    <tr>\n      <th>fl_fam_vam</th>\n      <td>0.08</td>\n      <td>1.09</td>\n      <td>0.02</td>\n      <td>0.05</td>\n      <td>0.11</td>\n      <td>1.05</td>\n      <td>1.12</td>\n      <td>0.00</td>\n      <td>5.38</td>\n      <td>&lt;0.005</td>\n      <td>23.68</td>\n    </tr>\n    <tr>\n      <th>fam_PCD</th>\n      <td>0.50</td>\n      <td>1.65</td>\n      <td>0.01</td>\n      <td>0.48</td>\n      <td>0.52</td>\n      <td>1.62</td>\n      <td>1.69</td>\n      <td>0.00</td>\n      <td>45.27</td>\n      <td>&lt;0.005</td>\n      <td>inf</td>\n    </tr>\n    <tr>\n      <th>AMI</th>\n      <td>-0.18</td>\n      <td>0.83</td>\n      <td>0.01</td>\n      <td>-0.20</td>\n      <td>-0.16</td>\n      <td>0.82</td>\n      <td>0.85</td>\n      <td>0.00</td>\n      <td>-16.67</td>\n      <td>&lt;0.005</td>\n      <td>204.86</td>\n    </tr>\n    <tr>\n      <th>CD_ETAT_CIVIL</th>\n      <td>0.01</td>\n      <td>1.01</td>\n      <td>0.00</td>\n      <td>-0.00</td>\n      <td>0.01</td>\n      <td>1.00</td>\n      <td>1.01</td>\n      <td>0.00</td>\n      <td>1.92</td>\n      <td>0.05</td>\n      <td>4.19</td>\n    </tr>\n    <tr>\n      <th>niv_gravite_mtf_dne</th>\n      <td>0.12</td>\n      <td>1.13</td>\n      <td>0.02</td>\n      <td>0.08</td>\n      <td>0.15</td>\n      <td>1.09</td>\n      <td>1.16</td>\n      <td>0.00</td>\n      <td>6.85</td>\n      <td>&lt;0.005</td>\n      <td>36.98</td>\n    </tr>\n    <tr>\n      <th>niv_gravite_mtf_dne</th>\n      <td>0.12</td>\n      <td>1.13</td>\n      <td>0.02</td>\n      <td>0.08</td>\n      <td>0.15</td>\n      <td>1.09</td>\n      <td>1.16</td>\n      <td>0.00</td>\n      <td>6.85</td>\n      <td>&lt;0.005</td>\n      <td>36.98</td>\n    </tr>\n    <tr>\n      <th>FL_REL_NON_ANNULE</th>\n      <td>0.09</td>\n      <td>1.09</td>\n      <td>0.03</td>\n      <td>0.02</td>\n      <td>0.16</td>\n      <td>1.02</td>\n      <td>1.17</td>\n      <td>0.00</td>\n      <td>2.61</td>\n      <td>0.01</td>\n      <td>6.77</td>\n    </tr>\n    <tr>\n      <th>FL_REL_NON_ANNULE</th>\n      <td>0.09</td>\n      <td>1.09</td>\n      <td>0.03</td>\n      <td>0.02</td>\n      <td>0.16</td>\n      <td>1.02</td>\n      <td>1.17</td>\n      <td>0.00</td>\n      <td>2.61</td>\n      <td>0.01</td>\n      <td>6.77</td>\n    </tr>\n    <tr>\n      <th>fl_def_ss_pass_CTX</th>\n      <td>-0.21</td>\n      <td>0.81</td>\n      <td>0.03</td>\n      <td>-0.27</td>\n      <td>-0.15</td>\n      <td>0.76</td>\n      <td>0.86</td>\n      <td>0.00</td>\n      <td>-7.08</td>\n      <td>&lt;0.005</td>\n      <td>39.39</td>\n    </tr>\n    <tr>\n      <th>nb_empr_ope</th>\n      <td>-0.04</td>\n      <td>0.96</td>\n      <td>0.01</td>\n      <td>-0.06</td>\n      <td>-0.02</td>\n      <td>0.94</td>\n      <td>0.98</td>\n      <td>0.00</td>\n      <td>-4.47</td>\n      <td>&lt;0.005</td>\n      <td>16.95</td>\n    </tr>\n    <tr>\n      <th>CD_MTF_DFC</th>\n      <td>-0.01</td>\n      <td>0.99</td>\n      <td>0.00</td>\n      <td>-0.01</td>\n      <td>-0.00</td>\n      <td>0.99</td>\n      <td>1.00</td>\n      <td>0.00</td>\n      <td>-6.94</td>\n      <td>&lt;0.005</td>\n      <td>37.92</td>\n    </tr>\n    <tr>\n      <th>FL_ETR</th>\n      <td>0.03</td>\n      <td>1.03</td>\n      <td>0.02</td>\n      <td>-0.01</td>\n      <td>0.06</td>\n      <td>0.99</td>\n      <td>1.06</td>\n      <td>0.00</td>\n      <td>1.62</td>\n      <td>0.11</td>\n      <td>3.23</td>\n    </tr>\n    <tr>\n      <th>CD_SITFAM_EMP1_C</th>\n      <td>0.02</td>\n      <td>1.02</td>\n      <td>0.01</td>\n      <td>-0.00</td>\n      <td>0.04</td>\n      <td>1.00</td>\n      <td>1.04</td>\n      <td>0.00</td>\n      <td>1.88</td>\n      <td>0.06</td>\n      <td>4.05</td>\n    </tr>\n    <tr>\n      <th>CD_SITFAM_EMP1_D</th>\n      <td>0.03</td>\n      <td>1.03</td>\n      <td>0.02</td>\n      <td>-0.00</td>\n      <td>0.07</td>\n      <td>1.00</td>\n      <td>1.07</td>\n      <td>0.00</td>\n      <td>1.73</td>\n      <td>0.08</td>\n      <td>3.59</td>\n    </tr>\n    <tr>\n      <th>CD_SITFAM_EMP1_I</th>\n      <td>0.04</td>\n      <td>1.04</td>\n      <td>0.06</td>\n      <td>-0.09</td>\n      <td>0.16</td>\n      <td>0.92</td>\n      <td>1.17</td>\n      <td>0.00</td>\n      <td>0.57</td>\n      <td>0.57</td>\n      <td>0.82</td>\n    </tr>\n    <tr>\n      <th>CD_SITFAM_EMP1_M</th>\n      <td>-0.03</td>\n      <td>0.97</td>\n      <td>0.01</td>\n      <td>-0.05</td>\n      <td>-0.01</td>\n      <td>0.95</td>\n      <td>0.99</td>\n      <td>0.00</td>\n      <td>-3.08</td>\n      <td>&lt;0.005</td>\n      <td>8.91</td>\n    </tr>\n    <tr>\n      <th>CD_SITFAM_EMP1_S</th>\n      <td>-0.09</td>\n      <td>0.92</td>\n      <td>0.10</td>\n      <td>-0.28</td>\n      <td>0.10</td>\n      <td>0.76</td>\n      <td>1.10</td>\n      <td>0.00</td>\n      <td>-0.92</td>\n      <td>0.36</td>\n      <td>1.48</td>\n    </tr>\n    <tr>\n      <th>CD_SITFAM_EMP1_U</th>\n      <td>0.01</td>\n      <td>1.01</td>\n      <td>0.01</td>\n      <td>-0.02</td>\n      <td>0.04</td>\n      <td>0.98</td>\n      <td>1.04</td>\n      <td>0.00</td>\n      <td>0.72</td>\n      <td>0.47</td>\n      <td>1.09</td>\n    </tr>\n    <tr>\n      <th>CD_SITFAM_EMP1_V</th>\n      <td>-0.03</td>\n      <td>0.97</td>\n      <td>0.05</td>\n      <td>-0.13</td>\n      <td>0.07</td>\n      <td>0.88</td>\n      <td>1.07</td>\n      <td>0.00</td>\n      <td>-0.61</td>\n      <td>0.54</td>\n      <td>0.89</td>\n    </tr>\n    <tr>\n      <th>regroup_natur_op_1_neuf_aco_acr</th>\n      <td>-0.01</td>\n      <td>0.99</td>\n      <td>0.02</td>\n      <td>-0.06</td>\n      <td>0.03</td>\n      <td>0.95</td>\n      <td>1.03</td>\n      <td>0.00</td>\n      <td>-0.61</td>\n      <td>0.54</td>\n      <td>0.88</td>\n    </tr>\n    <tr>\n      <th>regroup_natur_op_2_rachat_sou</th>\n      <td>-0.00</td>\n      <td>1.00</td>\n      <td>0.01</td>\n      <td>-0.03</td>\n      <td>0.03</td>\n      <td>0.97</td>\n      <td>1.03</td>\n      <td>0.00</td>\n      <td>-0.22</td>\n      <td>0.83</td>\n      <td>0.27</td>\n    </tr>\n    <tr>\n      <th>regroup_natur_op_3_travaux</th>\n      <td>-0.00</td>\n      <td>1.00</td>\n      <td>0.01</td>\n      <td>-0.03</td>\n      <td>0.02</td>\n      <td>0.97</td>\n      <td>1.02</td>\n      <td>0.00</td>\n      <td>-0.18</td>\n      <td>0.86</td>\n      <td>0.23</td>\n    </tr>\n    <tr>\n      <th>regroup_natur_op_4_autre</th>\n      <td>0.01</td>\n      <td>1.01</td>\n      <td>0.01</td>\n      <td>-0.01</td>\n      <td>0.03</td>\n      <td>0.99</td>\n      <td>1.03</td>\n      <td>0.00</td>\n      <td>0.58</td>\n      <td>0.56</td>\n      <td>0.83</td>\n    </tr>\n    <tr>\n      <th>CD_NAT_EMP1_CDT</th>\n      <td>-0.19</td>\n      <td>0.82</td>\n      <td>0.36</td>\n      <td>-0.89</td>\n      <td>0.51</td>\n      <td>0.41</td>\n      <td>1.66</td>\n      <td>0.00</td>\n      <td>-0.54</td>\n      <td>0.59</td>\n      <td>0.76</td>\n    </tr>\n    <tr>\n      <th>CD_NAT_EMP1_CEE</th>\n      <td>0.06</td>\n      <td>1.06</td>\n      <td>0.03</td>\n      <td>-0.01</td>\n      <td>0.12</td>\n      <td>0.99</td>\n      <td>1.13</td>\n      <td>0.00</td>\n      <td>1.73</td>\n      <td>0.08</td>\n      <td>3.60</td>\n    </tr>\n    <tr>\n      <th>CD_NAT_EMP1_ETR</th>\n      <td>0.01</td>\n      <td>1.01</td>\n      <td>0.02</td>\n      <td>-0.03</td>\n      <td>0.05</td>\n      <td>0.97</td>\n      <td>1.05</td>\n      <td>0.00</td>\n      <td>0.36</td>\n      <td>0.72</td>\n      <td>0.48</td>\n    </tr>\n    <tr>\n      <th>CD_NAT_EMP1_FRA</th>\n      <td>-0.02</td>\n      <td>0.98</td>\n      <td>0.02</td>\n      <td>-0.05</td>\n      <td>0.01</td>\n      <td>0.95</td>\n      <td>1.01</td>\n      <td>0.00</td>\n      <td>-1.18</td>\n      <td>0.24</td>\n      <td>2.06</td>\n    </tr>\n    <tr>\n      <th>CD_NAT_EMP1_ZZZ</th>\n      <td>-0.11</td>\n      <td>0.90</td>\n      <td>0.78</td>\n      <td>-1.63</td>\n      <td>1.41</td>\n      <td>0.20</td>\n      <td>4.10</td>\n      <td>0.00</td>\n      <td>-0.14</td>\n      <td>0.89</td>\n      <td>0.17</td>\n    </tr>\n    <tr>\n      <th>sol_echec_0_0</th>\n      <td>0.02</td>\n      <td>1.02</td>\n      <td>0.01</td>\n      <td>0.00</td>\n      <td>0.04</td>\n      <td>1.00</td>\n      <td>1.05</td>\n      <td>0.00</td>\n      <td>1.97</td>\n      <td>0.05</td>\n      <td>4.37</td>\n    </tr>\n    <tr>\n      <th>sol_echec_0_1</th>\n      <td>0.22</td>\n      <td>1.24</td>\n      <td>0.01</td>\n      <td>0.19</td>\n      <td>0.24</td>\n      <td>1.21</td>\n      <td>1.27</td>\n      <td>0.00</td>\n      <td>17.31</td>\n      <td>&lt;0.005</td>\n      <td>220.67</td>\n    </tr>\n    <tr>\n      <th>sol_echec_1_0</th>\n      <td>-0.09</td>\n      <td>0.92</td>\n      <td>0.01</td>\n      <td>-0.12</td>\n      <td>-0.06</td>\n      <td>0.89</td>\n      <td>0.94</td>\n      <td>0.00</td>\n      <td>-6.13</td>\n      <td>&lt;0.005</td>\n      <td>30.08</td>\n    </tr>\n    <tr>\n      <th>sol_echec_1_1</th>\n      <td>-0.12</td>\n      <td>0.89</td>\n      <td>0.01</td>\n      <td>-0.14</td>\n      <td>-0.10</td>\n      <td>0.87</td>\n      <td>0.91</td>\n      <td>0.00</td>\n      <td>-11.23</td>\n      <td>&lt;0.005</td>\n      <td>94.85</td>\n    </tr>\n  </tbody>\n</table><br><div>\n<style scoped>\n    .dataframe tbody tr th:only-of-type {\n        vertical-align: middle;\n    }\n\n    .dataframe tbody tr th {\n        vertical-align: top;\n    }\n\n    .dataframe thead th {\n        text-align: right;\n    }\n</style>\n<table border=\"1\" class=\"dataframe\">\n  <tbody>\n    <tr>\n      <th>Partial AIC</th>\n      <td>168672.80</td>\n    </tr>\n    <tr>\n      <th>log-likelihood ratio test</th>\n      <td>4497.42 on 39 df</td>\n    </tr>\n    <tr>\n      <th>-log2(p) of ll-ratio test</th>\n      <td>inf</td>\n    </tr>\n  </tbody>\n</table>\n</div>",
      "text/latex": "\\begin{tabular}{lrrrrrrrrrrr}\n & coef & exp(coef) & se(coef) & coef lower 95% & coef upper 95% & exp(coef) lower 95% & exp(coef) upper 95% & cmp to & z & p & -log2(p) \\\\\ncovariate &  &  &  &  &  &  &  &  &  &  &  \\\\\nfam_ENQ & 0.05 & 1.05 & 0.01 & 0.02 & 0.07 & 1.02 & 1.07 & 0.00 & 3.94 & 0.00 & 13.60 \\\\\nsolution & -0.15 & 0.86 & 0.01 & -0.17 & -0.13 & 0.84 & 0.87 & 0.00 & -14.97 & 0.00 & 165.84 \\\\\nFL_REL_NON_ANNULE & 0.09 & 1.09 & 0.03 & 0.02 & 0.16 & 1.02 & 1.17 & 0.00 & 2.61 & 0.01 & 6.77 \\\\\nFL_REL_NON_ANNULE & 0.09 & 1.09 & 0.03 & 0.02 & 0.16 & 1.02 & 1.17 & 0.00 & 2.61 & 0.01 & 6.77 \\\\\nniv_gravite_mtf_dne & 0.12 & 1.13 & 0.02 & 0.08 & 0.15 & 1.09 & 1.16 & 0.00 & 6.85 & 0.00 & 36.98 \\\\\nniv_gravite_mtf_dne & 0.12 & 1.13 & 0.02 & 0.08 & 0.15 & 1.09 & 1.16 & 0.00 & 6.85 & 0.00 & 36.98 \\\\\nPTG & 0.22 & 1.24 & 0.02 & 0.19 & 0.25 & 1.20 & 1.28 & 0.00 & 14.17 & 0.00 & 148.90 \\\\\nfl_fam_vam & 0.08 & 1.09 & 0.02 & 0.05 & 0.11 & 1.05 & 1.12 & 0.00 & 5.38 & 0.00 & 23.68 \\\\\nfam_PCD & 0.50 & 1.65 & 0.01 & 0.48 & 0.52 & 1.62 & 1.69 & 0.00 & 45.27 & 0.00 & inf \\\\\nAMI & -0.18 & 0.83 & 0.01 & -0.20 & -0.16 & 0.82 & 0.85 & 0.00 & -16.67 & 0.00 & 204.86 \\\\\nCD_ETAT_CIVIL & 0.01 & 1.01 & 0.00 & -0.00 & 0.01 & 1.00 & 1.01 & 0.00 & 1.92 & 0.05 & 4.19 \\\\\nniv_gravite_mtf_dne & 0.12 & 1.13 & 0.02 & 0.08 & 0.15 & 1.09 & 1.16 & 0.00 & 6.85 & 0.00 & 36.98 \\\\\nniv_gravite_mtf_dne & 0.12 & 1.13 & 0.02 & 0.08 & 0.15 & 1.09 & 1.16 & 0.00 & 6.85 & 0.00 & 36.98 \\\\\nFL_REL_NON_ANNULE & 0.09 & 1.09 & 0.03 & 0.02 & 0.16 & 1.02 & 1.17 & 0.00 & 2.61 & 0.01 & 6.77 \\\\\nFL_REL_NON_ANNULE & 0.09 & 1.09 & 0.03 & 0.02 & 0.16 & 1.02 & 1.17 & 0.00 & 2.61 & 0.01 & 6.77 \\\\\nfl_def_ss_pass_CTX & -0.21 & 0.81 & 0.03 & -0.27 & -0.15 & 0.76 & 0.86 & 0.00 & -7.08 & 0.00 & 39.39 \\\\\nnb_empr_ope & -0.04 & 0.96 & 0.01 & -0.06 & -0.02 & 0.94 & 0.98 & 0.00 & -4.47 & 0.00 & 16.95 \\\\\nCD_MTF_DFC & -0.01 & 0.99 & 0.00 & -0.01 & -0.00 & 0.99 & 1.00 & 0.00 & -6.94 & 0.00 & 37.92 \\\\\nFL_ETR & 0.03 & 1.03 & 0.02 & -0.01 & 0.06 & 0.99 & 1.06 & 0.00 & 1.62 & 0.11 & 3.23 \\\\\nCD_SITFAM_EMP1_C & 0.02 & 1.02 & 0.01 & -0.00 & 0.04 & 1.00 & 1.04 & 0.00 & 1.88 & 0.06 & 4.05 \\\\\nCD_SITFAM_EMP1_D & 0.03 & 1.03 & 0.02 & -0.00 & 0.07 & 1.00 & 1.07 & 0.00 & 1.73 & 0.08 & 3.59 \\\\\nCD_SITFAM_EMP1_I & 0.04 & 1.04 & 0.06 & -0.09 & 0.16 & 0.92 & 1.17 & 0.00 & 0.57 & 0.57 & 0.82 \\\\\nCD_SITFAM_EMP1_M & -0.03 & 0.97 & 0.01 & -0.05 & -0.01 & 0.95 & 0.99 & 0.00 & -3.08 & 0.00 & 8.91 \\\\\nCD_SITFAM_EMP1_S & -0.09 & 0.92 & 0.10 & -0.28 & 0.10 & 0.76 & 1.10 & 0.00 & -0.92 & 0.36 & 1.48 \\\\\nCD_SITFAM_EMP1_U & 0.01 & 1.01 & 0.01 & -0.02 & 0.04 & 0.98 & 1.04 & 0.00 & 0.72 & 0.47 & 1.09 \\\\\nCD_SITFAM_EMP1_V & -0.03 & 0.97 & 0.05 & -0.13 & 0.07 & 0.88 & 1.07 & 0.00 & -0.61 & 0.54 & 0.89 \\\\\nregroup_natur_op_1_neuf_aco_acr & -0.01 & 0.99 & 0.02 & -0.06 & 0.03 & 0.95 & 1.03 & 0.00 & -0.61 & 0.54 & 0.88 \\\\\nregroup_natur_op_2_rachat_sou & -0.00 & 1.00 & 0.01 & -0.03 & 0.03 & 0.97 & 1.03 & 0.00 & -0.22 & 0.83 & 0.27 \\\\\nregroup_natur_op_3_travaux & -0.00 & 1.00 & 0.01 & -0.03 & 0.02 & 0.97 & 1.02 & 0.00 & -0.18 & 0.86 & 0.23 \\\\\nregroup_natur_op_4_autre & 0.01 & 1.01 & 0.01 & -0.01 & 0.03 & 0.99 & 1.03 & 0.00 & 0.58 & 0.56 & 0.83 \\\\\nCD_NAT_EMP1_CDT & -0.19 & 0.82 & 0.36 & -0.89 & 0.51 & 0.41 & 1.66 & 0.00 & -0.54 & 0.59 & 0.76 \\\\\nCD_NAT_EMP1_CEE & 0.06 & 1.06 & 0.03 & -0.01 & 0.12 & 0.99 & 1.13 & 0.00 & 1.73 & 0.08 & 3.60 \\\\\nCD_NAT_EMP1_ETR & 0.01 & 1.01 & 0.02 & -0.03 & 0.05 & 0.97 & 1.05 & 0.00 & 0.36 & 0.72 & 0.48 \\\\\nCD_NAT_EMP1_FRA & -0.02 & 0.98 & 0.02 & -0.05 & 0.01 & 0.95 & 1.01 & 0.00 & -1.18 & 0.24 & 2.06 \\\\\nCD_NAT_EMP1_ZZZ & -0.11 & 0.90 & 0.78 & -1.63 & 1.41 & 0.20 & 4.10 & 0.00 & -0.14 & 0.89 & 0.17 \\\\\nsol_echec_0_0 & 0.02 & 1.02 & 0.01 & 0.00 & 0.04 & 1.00 & 1.05 & 0.00 & 1.97 & 0.05 & 4.37 \\\\\nsol_echec_0_1 & 0.22 & 1.24 & 0.01 & 0.19 & 0.24 & 1.21 & 1.27 & 0.00 & 17.31 & 0.00 & 220.67 \\\\\nsol_echec_1_0 & -0.09 & 0.92 & 0.01 & -0.12 & -0.06 & 0.89 & 0.94 & 0.00 & -6.13 & 0.00 & 30.08 \\\\\nsol_echec_1_1 & -0.12 & 0.89 & 0.01 & -0.14 & -0.10 & 0.87 & 0.91 & 0.00 & -11.23 & 0.00 & 94.85 \\\\\n\\end{tabular}\n"
     },
     "metadata": {},
     "output_type": "display_data"
    }
   ],
   "source": [
    "ctv.print_summary()"
   ],
   "metadata": {
    "collapsed": false,
    "ExecuteTime": {
     "end_time": "2024-01-09T21:26:46.199871800Z",
     "start_time": "2024-01-09T21:26:45.878406500Z"
    }
   },
   "id": "6ee778d99a375c7d"
  },
  {
   "cell_type": "code",
   "execution_count": 23,
   "outputs": [
    {
     "ename": "ValueError",
     "evalue": "'x' and 'y' must have the same size",
     "output_type": "error",
     "traceback": [
      "\u001B[1;31m---------------------------------------------------------------------------\u001B[0m",
      "\u001B[1;31mValueError\u001B[0m                                Traceback (most recent call last)",
      "Cell \u001B[1;32mIn[23], line 1\u001B[0m\n\u001B[1;32m----> 1\u001B[0m \u001B[43mctv\u001B[49m\u001B[38;5;241;43m.\u001B[39;49m\u001B[43mplot\u001B[49m\u001B[43m(\u001B[49m\u001B[43m)\u001B[49m\n",
      "File \u001B[1;32m~\\Documents\\M2 MoSEF\\Challenge_Credit_Logement\\venv\\lib\\site-packages\\lifelines\\fitters\\cox_time_varying_fitter.py:784\u001B[0m, in \u001B[0;36mCoxTimeVaryingFitter.plot\u001B[1;34m(self, columns, ax, **errorbar_kwargs)\u001B[0m\n\u001B[0;32m    780\u001B[0m hazards \u001B[38;5;241m=\u001B[39m \u001B[38;5;28mself\u001B[39m\u001B[38;5;241m.\u001B[39mparams_[columns]\u001B[38;5;241m.\u001B[39mvalues\u001B[38;5;241m.\u001B[39mcopy()\n\u001B[0;32m    782\u001B[0m order \u001B[38;5;241m=\u001B[39m \u001B[38;5;28mlist\u001B[39m(\u001B[38;5;28mrange\u001B[39m(\u001B[38;5;28mlen\u001B[39m(columns) \u001B[38;5;241m-\u001B[39m \u001B[38;5;241m1\u001B[39m, \u001B[38;5;241m-\u001B[39m\u001B[38;5;241m1\u001B[39m, \u001B[38;5;241m-\u001B[39m\u001B[38;5;241m1\u001B[39m)) \u001B[38;5;28;01mif\u001B[39;00m user_supplied_columns \u001B[38;5;28;01melse\u001B[39;00m np\u001B[38;5;241m.\u001B[39margsort(hazards)\n\u001B[1;32m--> 784\u001B[0m ax\u001B[38;5;241m.\u001B[39merrorbar(hazards[order], yaxis_locations, xerr\u001B[38;5;241m=\u001B[39msymmetric_errors[order], \u001B[38;5;241m*\u001B[39m\u001B[38;5;241m*\u001B[39merrorbar_kwargs)\n\u001B[0;32m    785\u001B[0m best_ylim \u001B[38;5;241m=\u001B[39m ax\u001B[38;5;241m.\u001B[39mget_ylim()\n\u001B[0;32m    786\u001B[0m ax\u001B[38;5;241m.\u001B[39mvlines(\u001B[38;5;241m0\u001B[39m, \u001B[38;5;241m-\u001B[39m\u001B[38;5;241m2\u001B[39m, \u001B[38;5;28mlen\u001B[39m(columns) \u001B[38;5;241m+\u001B[39m \u001B[38;5;241m1\u001B[39m, linestyles\u001B[38;5;241m=\u001B[39m\u001B[38;5;124m\"\u001B[39m\u001B[38;5;124mdashed\u001B[39m\u001B[38;5;124m\"\u001B[39m, linewidths\u001B[38;5;241m=\u001B[39m\u001B[38;5;241m1\u001B[39m, alpha\u001B[38;5;241m=\u001B[39m\u001B[38;5;241m0.65\u001B[39m, color\u001B[38;5;241m=\u001B[39m\u001B[38;5;124m\"\u001B[39m\u001B[38;5;124mk\u001B[39m\u001B[38;5;124m\"\u001B[39m)\n",
      "File \u001B[1;32m~\\Documents\\M2 MoSEF\\Challenge_Credit_Logement\\venv\\lib\\site-packages\\matplotlib\\__init__.py:1478\u001B[0m, in \u001B[0;36m_preprocess_data.<locals>.inner\u001B[1;34m(ax, data, *args, **kwargs)\u001B[0m\n\u001B[0;32m   1475\u001B[0m \u001B[38;5;129m@functools\u001B[39m\u001B[38;5;241m.\u001B[39mwraps(func)\n\u001B[0;32m   1476\u001B[0m \u001B[38;5;28;01mdef\u001B[39;00m \u001B[38;5;21minner\u001B[39m(ax, \u001B[38;5;241m*\u001B[39margs, data\u001B[38;5;241m=\u001B[39m\u001B[38;5;28;01mNone\u001B[39;00m, \u001B[38;5;241m*\u001B[39m\u001B[38;5;241m*\u001B[39mkwargs):\n\u001B[0;32m   1477\u001B[0m     \u001B[38;5;28;01mif\u001B[39;00m data \u001B[38;5;129;01mis\u001B[39;00m \u001B[38;5;28;01mNone\u001B[39;00m:\n\u001B[1;32m-> 1478\u001B[0m         \u001B[38;5;28;01mreturn\u001B[39;00m func(ax, \u001B[38;5;241m*\u001B[39m\u001B[38;5;28mmap\u001B[39m(sanitize_sequence, args), \u001B[38;5;241m*\u001B[39m\u001B[38;5;241m*\u001B[39mkwargs)\n\u001B[0;32m   1480\u001B[0m     bound \u001B[38;5;241m=\u001B[39m new_sig\u001B[38;5;241m.\u001B[39mbind(ax, \u001B[38;5;241m*\u001B[39margs, \u001B[38;5;241m*\u001B[39m\u001B[38;5;241m*\u001B[39mkwargs)\n\u001B[0;32m   1481\u001B[0m     auto_label \u001B[38;5;241m=\u001B[39m (bound\u001B[38;5;241m.\u001B[39marguments\u001B[38;5;241m.\u001B[39mget(label_namer)\n\u001B[0;32m   1482\u001B[0m                   \u001B[38;5;129;01mor\u001B[39;00m bound\u001B[38;5;241m.\u001B[39mkwargs\u001B[38;5;241m.\u001B[39mget(label_namer))\n",
      "File \u001B[1;32m~\\Documents\\M2 MoSEF\\Challenge_Credit_Logement\\venv\\lib\\site-packages\\matplotlib\\axes\\_axes.py:3569\u001B[0m, in \u001B[0;36mAxes.errorbar\u001B[1;34m(self, x, y, yerr, xerr, fmt, ecolor, elinewidth, capsize, barsabove, lolims, uplims, xlolims, xuplims, errorevery, capthick, **kwargs)\u001B[0m\n\u001B[0;32m   3567\u001B[0m x, y \u001B[38;5;241m=\u001B[39m np\u001B[38;5;241m.\u001B[39matleast_1d(x, y)  \u001B[38;5;66;03m# Make sure all the args are iterable.\u001B[39;00m\n\u001B[0;32m   3568\u001B[0m \u001B[38;5;28;01mif\u001B[39;00m \u001B[38;5;28mlen\u001B[39m(x) \u001B[38;5;241m!=\u001B[39m \u001B[38;5;28mlen\u001B[39m(y):\n\u001B[1;32m-> 3569\u001B[0m     \u001B[38;5;28;01mraise\u001B[39;00m \u001B[38;5;167;01mValueError\u001B[39;00m(\u001B[38;5;124m\"\u001B[39m\u001B[38;5;124m'\u001B[39m\u001B[38;5;124mx\u001B[39m\u001B[38;5;124m'\u001B[39m\u001B[38;5;124m and \u001B[39m\u001B[38;5;124m'\u001B[39m\u001B[38;5;124my\u001B[39m\u001B[38;5;124m'\u001B[39m\u001B[38;5;124m must have the same size\u001B[39m\u001B[38;5;124m\"\u001B[39m)\n\u001B[0;32m   3571\u001B[0m everymask \u001B[38;5;241m=\u001B[39m \u001B[38;5;28mself\u001B[39m\u001B[38;5;241m.\u001B[39m_errorevery_to_mask(x, errorevery)\n\u001B[0;32m   3573\u001B[0m label \u001B[38;5;241m=\u001B[39m kwargs\u001B[38;5;241m.\u001B[39mpop(\u001B[38;5;124m\"\u001B[39m\u001B[38;5;124mlabel\u001B[39m\u001B[38;5;124m\"\u001B[39m, \u001B[38;5;28;01mNone\u001B[39;00m)\n",
      "\u001B[1;31mValueError\u001B[0m: 'x' and 'y' must have the same size"
     ]
    },
    {
     "data": {
      "text/plain": "<Figure size 640x480 with 1 Axes>",
      "image/png": "[encoded data removed]"
     },
     "metadata": {},
     "output_type": "display_data"
    }
   ],
   "source": [
    "ctv.plot()"
   ],
   "metadata": {
    "collapsed": false,
    "ExecuteTime": {
     "end_time": "2024-01-09T21:37:51.996486800Z",
     "start_time": "2024-01-09T21:37:50.525705800Z"
    }
   },
   "id": "db712ba7a15b6a91"
  },
  {
   "cell_type": "code",
   "execution_count": null,
   "outputs": [],
   "source": [],
   "metadata": {
    "collapsed": false
   },
   "id": "fe8722a5af8a4177"
  }
 ],
 "metadata": {
  "kernelspec": {
   "display_name": "Python 3",
   "language": "python",
   "name": "python3"
  },
  "language_info": {
   "codemirror_mode": {
    "name": "ipython",
    "version": 2
   },
   "file_extension": ".py",
   "mimetype": "text/x-python",
   "name": "python",
   "nbconvert_exporter": "python",
   "pygments_lexer": "ipython2",
   "version": "2.7.6"
  }
 },
 "nbformat": 4,
 "nbformat_minor": 5
}
