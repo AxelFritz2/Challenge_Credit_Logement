{
 "cells": [
  {
   "cell_type": "code",
   "execution_count": 34,
   "id": "initial_id",
   "metadata": {
    "collapsed": true,
    "ExecuteTime": {
     "end_time": "2024-01-14T15:03:38.204298300Z",
     "start_time": "2024-01-14T15:03:38.174600700Z"
    }
   },
   "outputs": [],
   "source": [
    "import pandas as pd\n",
    "import warnings\n",
    "from lifelines import CoxPHFitter, CoxTimeVaryingFitter\n",
    "import re\n",
    "from sklearn.preprocessing import OneHotEncoder, LabelEncoder\n",
    "warnings.filterwarnings(\"ignore\")\n",
    "import matplotlib.pyplot as plt"
   ]
  },
  {
   "cell_type": "code",
   "execution_count": 2,
   "outputs": [],
   "source": [
    "df = pd.read_csv('../data/base_modelis_pass_det.csv',sep = ';')"
   ],
   "metadata": {
    "collapsed": false,
    "ExecuteTime": {
     "end_time": "2024-01-14T14:57:55.546169Z",
     "start_time": "2024-01-14T14:57:53.209029800Z"
    }
   },
   "id": "db5ff1f1ef1fee39"
  },
  {
   "cell_type": "code",
   "execution_count": 3,
   "outputs": [],
   "source": [
    "df['date_entree_defaut'] = pd.to_datetime(df['date_entree_defaut'], format='%d/%m/%y')\n",
    "df['date_sortie_defaut'] = pd.to_datetime(df['date_sortie_defaut'], format='%d/%m/%y', errors='coerce')\n",
    "df['arrete'] = pd.to_datetime(df['arrete'], format='%d/%m/%y')\n",
    "df['DT_MEP_OPE'] = pd.to_datetime(df['DT_MEP_OPE'], format='%d%b%Y:%H:%M:%S.%f')\n",
    "df['dt_arr_last_enc_ope'] = pd.to_datetime(df['dt_arr_last_enc_ope'], errors='coerce')\n",
    "df['dt_arr_1st_enc_ope'] = pd.to_datetime(df['dt_arr_1st_enc_ope'], errors='coerce')\n",
    "df['dtHJD_prov'] = pd.to_datetime(df['dtHJD_prov'], errors='coerce')\n",
    "df['dtHJD_def'] = pd.to_datetime(df['dtHJD_def'], errors='coerce')"
   ],
   "metadata": {
    "collapsed": false,
    "ExecuteTime": {
     "end_time": "2024-01-14T14:57:56.138888400Z",
     "start_time": "2024-01-14T14:57:55.546169Z"
    }
   },
   "id": "6b4600db98df8ab7"
  },
  {
   "cell_type": "code",
   "execution_count": 4,
   "outputs": [],
   "source": [
    "for column in df.columns :\n",
    "    if df[column].isna().sum()/df.shape[0] > 0.5 : \n",
    "        df.drop(columns = [column], inplace = True)"
   ],
   "metadata": {
    "collapsed": false,
    "ExecuteTime": {
     "end_time": "2024-01-14T14:57:57.569872600Z",
     "start_time": "2024-01-14T14:57:56.140244200Z"
    }
   },
   "id": "61a07e066e2e749b"
  },
  {
   "cell_type": "code",
   "execution_count": 5,
   "outputs": [],
   "source": [
    "df.drop(columns = [\"CD_POST_BIEN_PFI\"], inplace = True)"
   ],
   "metadata": {
    "collapsed": false,
    "ExecuteTime": {
     "end_time": "2024-01-14T14:57:57.727497100Z",
     "start_time": "2024-01-14T14:57:57.573875700Z"
    }
   },
   "id": "6442ad27b72c41c9"
  },
  {
   "cell_type": "code",
   "execution_count": 6,
   "outputs": [],
   "source": [
    "cols_numeriques = df.select_dtypes(include=['float64', 'int64']).columns.to_list()\n",
    "cols_categorielles = df.select_dtypes(include=['object']).columns.to_list()\n",
    "cols_categorielles.remove(\"cd_op\")\n",
    "\n",
    "for col in cols_numeriques:\n",
    "    df[col].fillna(df[col].mean(), inplace=True)\n",
    "\n",
    "for col in cols_categorielles:\n",
    "    df[col].fillna(df[col].mode()[0], inplace=True)"
   ],
   "metadata": {
    "collapsed": false,
    "ExecuteTime": {
     "end_time": "2024-01-14T14:57:58.401287200Z",
     "start_time": "2024-01-14T14:57:57.735990100Z"
    }
   },
   "id": "c951dbf54fed5851"
  },
  {
   "cell_type": "code",
   "execution_count": 7,
   "outputs": [],
   "source": [
    "df_validation = df[df['arrete']>\"2020-12-30\"]\n",
    "df_train = df[df['arrete']<\"2020-12-30\"]\n",
    "df_train = df_train.reset_index()"
   ],
   "metadata": {
    "collapsed": false,
    "ExecuteTime": {
     "end_time": "2024-01-14T14:57:58.791650400Z",
     "start_time": "2024-01-14T14:57:58.401287200Z"
    }
   },
   "id": "579cb2f47eb1e790"
  },
  {
   "cell_type": "code",
   "execution_count": 8,
   "outputs": [],
   "source": [
    "liste_var = ['fam_ENQ','solution','FL_REL_NON_ANNULE','niv_gravite_mtf_dne','CD_SITFAM_EMP1','regroup_natur_op','PTG','fl_fam_vam','fam_PCD','AMI','CD_ETAT_CIVIL','CD_NAT_EMP1','niv_gravite_mtf_dne','FL_REL_NON_ANNULE','sol_echec','fl_def_ss_pass_CTX','nb_empr_ope','CD_MTF_DFC','FL_ETR']"
   ],
   "metadata": {
    "collapsed": false,
    "ExecuteTime": {
     "end_time": "2024-01-14T14:57:58.791650400Z",
     "start_time": "2024-01-14T14:57:58.751727300Z"
    }
   },
   "id": "df95dfcf123e6079"
  },
  {
   "cell_type": "code",
   "execution_count": 9,
   "outputs": [],
   "source": [
    "df_train_var = df[liste_var].copy()\n",
    "df_test_var = df_validation[liste_var].copy()"
   ],
   "metadata": {
    "collapsed": false,
    "ExecuteTime": {
     "end_time": "2024-01-14T14:57:58.907815800Z",
     "start_time": "2024-01-14T14:57:58.767736600Z"
    }
   },
   "id": "b0b77ba22c987db9"
  },
  {
   "cell_type": "markdown",
   "source": [
    "# Encoding"
   ],
   "metadata": {
    "collapsed": false
   },
   "id": "f4b5c7959b647518"
  },
  {
   "cell_type": "code",
   "execution_count": 10,
   "outputs": [],
   "source": [
    "def encode_columns(df):\n",
    "    encoders = {}\n",
    "    for column in df.select_dtypes(include='object'):\n",
    "        unique_values = df[column].nunique()\n",
    "        if unique_values <= 10:\n",
    "            # Appliquer OneHotEncoder\n",
    "            encoder = OneHotEncoder(sparse=False)\n",
    "            encoded = encoder.fit_transform(df[[column]])\n",
    "            encoders[column] = encoder\n",
    "\n",
    "            # Remplacer la colonne originale par de nouvelles colonnes pour chaque catégorie\n",
    "            for i, category in enumerate(encoder.categories_[0]):\n",
    "                df[str(column) + '_' + str(category)] = encoded[:, i]\n",
    "            df.drop(column, axis=1, inplace=True)\n",
    "        else:\n",
    "            # Appliquer LabelEncoder\n",
    "            encoder = LabelEncoder()\n",
    "            df[column] = encoder.fit_transform(df[column])\n",
    "            encoders[column] = encoder\n",
    "    return df, encoders\n",
    "\n",
    "encoded_df, encoders = encode_columns(df_train_var)\n",
    "encoded_test, encoder_test = encode_columns(df_test_var)"
   ],
   "metadata": {
    "collapsed": false,
    "ExecuteTime": {
     "end_time": "2024-01-14T14:58:01.084833800Z",
     "start_time": "2024-01-14T14:57:58.914083400Z"
    }
   },
   "id": "511a718485da52e0"
  },
  {
   "cell_type": "code",
   "execution_count": 11,
   "outputs": [],
   "source": [
    "df_train_var['cd_op']  = df['cd_op'].copy()\n",
    "df_train_var['fl_pass_DET'] = df['fl_pass_DET'].copy()\n",
    "df_train_var['date_entree_defaut'] = df['date_entree_defaut'].copy()\n",
    "df_train_var['arrete'] = df['arrete'].copy()"
   ],
   "metadata": {
    "collapsed": false,
    "ExecuteTime": {
     "end_time": "2024-01-14T14:58:01.135552100Z",
     "start_time": "2024-01-14T14:58:01.085910200Z"
    }
   },
   "id": "d984773bd925b7a7"
  },
  {
   "cell_type": "code",
   "execution_count": 12,
   "outputs": [],
   "source": [
    "df_test_var['cd_op']  = df_validation['cd_op'].copy()\n",
    "df_test_var['fl_pass_DET'] = df_validation['fl_pass_DET'].copy()\n",
    "df_test_var['date_entree_defaut'] = df_validation['date_entree_defaut'].copy()\n",
    "df_test_var['arrete'] = df_validation['arrete'].copy()"
   ],
   "metadata": {
    "collapsed": false,
    "ExecuteTime": {
     "end_time": "2024-01-14T14:58:01.162654100Z",
     "start_time": "2024-01-14T14:58:01.126193100Z"
    }
   },
   "id": "5bd15e2ee4449317"
  },
  {
   "cell_type": "markdown",
   "source": [
    "# DataPrep"
   ],
   "metadata": {
    "collapsed": false
   },
   "id": "e5914810720fe762"
  },
  {
   "cell_type": "code",
   "execution_count": 13,
   "outputs": [],
   "source": [
    "data_haz = df_train_var.copy()\n",
    "data_test =df_test_var.copy()"
   ],
   "metadata": {
    "collapsed": false,
    "ExecuteTime": {
     "end_time": "2024-01-14T14:58:01.392864300Z",
     "start_time": "2024-01-14T14:58:01.154863800Z"
    }
   },
   "id": "ddcd4abc388be8cb"
  },
  {
   "cell_type": "code",
   "execution_count": 14,
   "outputs": [],
   "source": [
    "data_haz['start'] = 0\n",
    "data_haz['stop'] = data_haz['arrete'] - data_haz['date_entree_defaut']\n",
    "data_haz['stop'] = data_haz['stop'].dt.days\n",
    "\n",
    "data_test['start'] = 0\n",
    "data_test['stop'] = data_test['arrete'] - data_test['date_entree_defaut']\n",
    "data_test['stop'] = data_test['stop'].dt.days"
   ],
   "metadata": {
    "collapsed": false,
    "ExecuteTime": {
     "end_time": "2024-01-14T14:58:01.445098500Z",
     "start_time": "2024-01-14T14:58:01.395461400Z"
    }
   },
   "id": "3ad3af1047b8831f"
  },
  {
   "cell_type": "code",
   "execution_count": 15,
   "outputs": [],
   "source": [
    "data_haz['id'] = data_haz['cd_op'].apply(lambda x: re.sub(r'\\D', '', str(x)))\n",
    "\n",
    "\n",
    "data_test['id'] = data_test['cd_op'].apply(lambda x: re.sub(r'\\D', '', str(x)))"
   ],
   "metadata": {
    "collapsed": false,
    "ExecuteTime": {
     "end_time": "2024-01-14T14:58:02.167717900Z",
     "start_time": "2024-01-14T14:58:01.433400800Z"
    }
   },
   "id": "c01dc87b99e3f7b7"
  },
  {
   "cell_type": "code",
   "execution_count": 16,
   "outputs": [],
   "source": [
    "data_haz.id = data_haz.id.astype('int')"
   ],
   "metadata": {
    "collapsed": false,
    "ExecuteTime": {
     "end_time": "2024-01-14T14:58:02.254556300Z",
     "start_time": "2024-01-14T14:58:02.167717900Z"
    }
   },
   "id": "446ac00b5b0f5ab8"
  },
  {
   "cell_type": "code",
   "execution_count": 17,
   "outputs": [],
   "source": [
    "data_haz.loc[(data_haz['start'] == data_haz['stop']) & (data_haz['start'] == 0) & data_haz[\n",
    "    'fl_pass_DET'], 'stop'] = 0.5  # car le modele n'accepte pas les individus qui sortent de la survie au moment ou ils y entrent donc on remplace les 0 par 0.5.\n",
    "\n",
    "data_test.loc[(data_test['start'] == data_test['stop']) & (data_test['start'] == 0) & data_test[\n",
    "    'fl_pass_DET'], 'stop'] = 0.5 "
   ],
   "metadata": {
    "collapsed": false,
    "ExecuteTime": {
     "end_time": "2024-01-14T14:58:02.324060100Z",
     "start_time": "2024-01-14T14:58:02.259033900Z"
    }
   },
   "id": "88d35e1d762a1887"
  },
  {
   "cell_type": "code",
   "execution_count": 18,
   "outputs": [],
   "source": [
    "data_haz = data_haz.select_dtypes(exclude=[\"datetime64\"])\n",
    "\n",
    "data_test = data_test.select_dtypes(exclude=[\"datetime64\"])"
   ],
   "metadata": {
    "collapsed": false,
    "ExecuteTime": {
     "end_time": "2024-01-14T14:58:02.650964300Z",
     "start_time": "2024-01-14T14:58:02.312915400Z"
    }
   },
   "id": "ac8cdf5ce02519de"
  },
  {
   "cell_type": "code",
   "execution_count": 19,
   "outputs": [],
   "source": [
    "data_haz.drop(columns = [\"cd_op\"], inplace = True)\n",
    "\n",
    "\n",
    "data_test.drop(columns = [\"cd_op\"], inplace = True)"
   ],
   "metadata": {
    "collapsed": false,
    "ExecuteTime": {
     "end_time": "2024-01-14T14:58:02.755233900Z",
     "start_time": "2024-01-14T14:58:02.651961800Z"
    }
   },
   "id": "5833608f1e64ea9c"
  },
  {
   "cell_type": "markdown",
   "source": [
    "# Modelisation"
   ],
   "metadata": {
    "collapsed": false
   },
   "id": "1da7cda2655e10cb"
  },
  {
   "cell_type": "code",
   "execution_count": 89,
   "outputs": [
    {
     "ename": "KeyboardInterrupt",
     "evalue": "",
     "output_type": "error",
     "traceback": [
      "\u001B[1;31m---------------------------------------------------------------------------\u001B[0m",
      "\u001B[1;31mKeyboardInterrupt\u001B[0m                         Traceback (most recent call last)",
      "Cell \u001B[1;32mIn[89], line 2\u001B[0m\n\u001B[0;32m      1\u001B[0m ctv \u001B[38;5;241m=\u001B[39m CoxTimeVaryingFitter(penalizer\u001B[38;5;241m=\u001B[39m\u001B[38;5;241m0.1\u001B[39m)\n\u001B[1;32m----> 2\u001B[0m \u001B[43mctv\u001B[49m\u001B[38;5;241;43m.\u001B[39;49m\u001B[43mfit\u001B[49m\u001B[43m(\u001B[49m\u001B[43mdata_haz\u001B[49m\u001B[43m,\u001B[49m\u001B[43m \u001B[49m\u001B[43mid_col\u001B[49m\u001B[38;5;241;43m=\u001B[39;49m\u001B[38;5;124;43m\"\u001B[39;49m\u001B[38;5;124;43mid\u001B[39;49m\u001B[38;5;124;43m\"\u001B[39;49m\u001B[43m,\u001B[49m\u001B[43m \u001B[49m\u001B[43mevent_col\u001B[49m\u001B[38;5;241;43m=\u001B[39;49m\u001B[38;5;124;43m\"\u001B[39;49m\u001B[38;5;124;43mfl_pass_DET\u001B[39;49m\u001B[38;5;124;43m\"\u001B[39;49m\u001B[43m,\u001B[49m\u001B[43m \u001B[49m\u001B[43mstop_col\u001B[49m\u001B[38;5;241;43m=\u001B[39;49m\u001B[38;5;124;43m\"\u001B[39;49m\u001B[38;5;124;43mstop\u001B[39;49m\u001B[38;5;124;43m\"\u001B[39;49m\u001B[43m,\u001B[49m\u001B[43m \u001B[49m\u001B[43mshow_progress\u001B[49m\u001B[38;5;241;43m=\u001B[39;49m\u001B[38;5;28;43;01mTrue\u001B[39;49;00m\u001B[43m)\u001B[49m\n",
      "File \u001B[1;32m~\\Documents\\M2 MoSEF\\Challenge_Credit_Logement\\venv\\lib\\site-packages\\lifelines\\fitters\\cox_time_varying_fitter.py:216\u001B[0m, in \u001B[0;36mCoxTimeVaryingFitter.fit\u001B[1;34m(self, df, event_col, start_col, stop_col, weights_col, id_col, show_progress, robust, strata, initial_point, formula, fit_options)\u001B[0m\n\u001B[0;32m    213\u001B[0m \u001B[38;5;28mself\u001B[39m\u001B[38;5;241m.\u001B[39m_norm_mean \u001B[38;5;241m=\u001B[39m X\u001B[38;5;241m.\u001B[39mmean(\u001B[38;5;241m0\u001B[39m)\n\u001B[0;32m    214\u001B[0m \u001B[38;5;28mself\u001B[39m\u001B[38;5;241m.\u001B[39m_norm_std \u001B[38;5;241m=\u001B[39m X\u001B[38;5;241m.\u001B[39mstd(\u001B[38;5;241m0\u001B[39m)\n\u001B[1;32m--> 216\u001B[0m beta_, \u001B[38;5;28mself\u001B[39m\u001B[38;5;241m.\u001B[39mlog_likelihood_, \u001B[38;5;28mself\u001B[39m\u001B[38;5;241m.\u001B[39m_hessian_ \u001B[38;5;241m=\u001B[39m \u001B[38;5;28mself\u001B[39m\u001B[38;5;241m.\u001B[39m_newton_raphson_for_efron_model(\n\u001B[0;32m    217\u001B[0m     normalize(X, \u001B[38;5;28mself\u001B[39m\u001B[38;5;241m.\u001B[39m_norm_mean, \u001B[38;5;28mself\u001B[39m\u001B[38;5;241m.\u001B[39m_norm_std),\n\u001B[0;32m    218\u001B[0m     events,\n\u001B[0;32m    219\u001B[0m     start,\n\u001B[0;32m    220\u001B[0m     stop,\n\u001B[0;32m    221\u001B[0m     weights,\n\u001B[0;32m    222\u001B[0m     initial_point\u001B[38;5;241m=\u001B[39minitial_point,\n\u001B[0;32m    223\u001B[0m     show_progress\u001B[38;5;241m=\u001B[39mshow_progress,\n\u001B[0;32m    224\u001B[0m     \u001B[38;5;241m*\u001B[39m\u001B[38;5;241m*\u001B[39mutils\u001B[38;5;241m.\u001B[39mcoalesce(fit_options, {}),\n\u001B[0;32m    225\u001B[0m )\n\u001B[0;32m    227\u001B[0m \u001B[38;5;28mself\u001B[39m\u001B[38;5;241m.\u001B[39mparams_ \u001B[38;5;241m=\u001B[39m pd\u001B[38;5;241m.\u001B[39mSeries(beta_, index\u001B[38;5;241m=\u001B[39mpd\u001B[38;5;241m.\u001B[39mIndex(X\u001B[38;5;241m.\u001B[39mcolumns, name\u001B[38;5;241m=\u001B[39m\u001B[38;5;124m\"\u001B[39m\u001B[38;5;124mcovariate\u001B[39m\u001B[38;5;124m\"\u001B[39m), name\u001B[38;5;241m=\u001B[39m\u001B[38;5;124m\"\u001B[39m\u001B[38;5;124mcoef\u001B[39m\u001B[38;5;124m\"\u001B[39m) \u001B[38;5;241m/\u001B[39m \u001B[38;5;28mself\u001B[39m\u001B[38;5;241m.\u001B[39m_norm_std\n\u001B[0;32m    228\u001B[0m \u001B[38;5;28;01mif\u001B[39;00m \u001B[38;5;28mself\u001B[39m\u001B[38;5;241m.\u001B[39m_hessian_\u001B[38;5;241m.\u001B[39msize \u001B[38;5;241m>\u001B[39m \u001B[38;5;241m0\u001B[39m:\n\u001B[0;32m    229\u001B[0m     \u001B[38;5;66;03m# possible if the df is trivial (no covariate columns)\u001B[39;00m\n",
      "File \u001B[1;32m~\\Documents\\M2 MoSEF\\Challenge_Credit_Logement\\venv\\lib\\site-packages\\lifelines\\fitters\\cox_time_varying_fitter.py:391\u001B[0m, in \u001B[0;36mCoxTimeVaryingFitter._newton_raphson_for_efron_model\u001B[1;34m(self, df, events, start, stop, weights, show_progress, step_size, precision, r_precision, max_steps, initial_point)\u001B[0m\n\u001B[0;32m    388\u001B[0m i \u001B[38;5;241m+\u001B[39m\u001B[38;5;241m=\u001B[39m \u001B[38;5;241m1\u001B[39m\n\u001B[0;32m    390\u001B[0m \u001B[38;5;28;01mif\u001B[39;00m \u001B[38;5;28mself\u001B[39m\u001B[38;5;241m.\u001B[39mstrata \u001B[38;5;129;01mis\u001B[39;00m \u001B[38;5;28;01mNone\u001B[39;00m:\n\u001B[1;32m--> 391\u001B[0m     h, g, ll \u001B[38;5;241m=\u001B[39m \u001B[38;5;28;43mself\u001B[39;49m\u001B[38;5;241;43m.\u001B[39;49m\u001B[43m_get_gradients\u001B[49m\u001B[43m(\u001B[49m\u001B[43mdf\u001B[49m\u001B[38;5;241;43m.\u001B[39;49m\u001B[43mvalues\u001B[49m\u001B[43m,\u001B[49m\u001B[43m \u001B[49m\u001B[43mevents\u001B[49m\u001B[38;5;241;43m.\u001B[39;49m\u001B[43mvalues\u001B[49m\u001B[43m,\u001B[49m\u001B[43m \u001B[49m\u001B[43mstart\u001B[49m\u001B[38;5;241;43m.\u001B[39;49m\u001B[43mvalues\u001B[49m\u001B[43m,\u001B[49m\u001B[43m \u001B[49m\u001B[43mstop\u001B[49m\u001B[38;5;241;43m.\u001B[39;49m\u001B[43mvalues\u001B[49m\u001B[43m,\u001B[49m\u001B[43m \u001B[49m\u001B[43mweights\u001B[49m\u001B[38;5;241;43m.\u001B[39;49m\u001B[43mvalues\u001B[49m\u001B[43m,\u001B[49m\u001B[43m \u001B[49m\u001B[43mbeta\u001B[49m\u001B[43m)\u001B[49m\n\u001B[0;32m    392\u001B[0m \u001B[38;5;28;01melse\u001B[39;00m:\n\u001B[0;32m    393\u001B[0m     g \u001B[38;5;241m=\u001B[39m np\u001B[38;5;241m.\u001B[39mzeros_like(beta)\n",
      "File \u001B[1;32m~\\Documents\\M2 MoSEF\\Challenge_Credit_Logement\\venv\\lib\\site-packages\\lifelines\\fitters\\cox_time_varying_fitter.py:528\u001B[0m, in \u001B[0;36mCoxTimeVaryingFitter._get_gradients\u001B[1;34m(X, events, start, stop, weights, beta)\u001B[0m\n\u001B[0;32m    526\u001B[0m phi_i \u001B[38;5;241m=\u001B[39m weights_at_t \u001B[38;5;241m*\u001B[39m np\u001B[38;5;241m.\u001B[39mexp(np\u001B[38;5;241m.\u001B[39mdot(X_at_t, beta))\n\u001B[0;32m    527\u001B[0m phi_x_i \u001B[38;5;241m=\u001B[39m phi_i[:, \u001B[38;5;28;01mNone\u001B[39;00m] \u001B[38;5;241m*\u001B[39m X_at_t\n\u001B[1;32m--> 528\u001B[0m phi_x_x_i \u001B[38;5;241m=\u001B[39m \u001B[43mnp\u001B[49m\u001B[38;5;241;43m.\u001B[39;49m\u001B[43mdot\u001B[49m\u001B[43m(\u001B[49m\u001B[43mX_at_t\u001B[49m\u001B[38;5;241;43m.\u001B[39;49m\u001B[43mT\u001B[49m\u001B[43m,\u001B[49m\u001B[43m \u001B[49m\u001B[43mphi_x_i\u001B[49m\u001B[43m)\u001B[49m\n\u001B[0;32m    530\u001B[0m \u001B[38;5;66;03m# Calculate sums of Risk set\u001B[39;00m\n\u001B[0;32m    531\u001B[0m risk_phi \u001B[38;5;241m=\u001B[39m array_sum_to_scalar(phi_i)\n",
      "File \u001B[1;32m~\\Documents\\M2 MoSEF\\Challenge_Credit_Logement\\venv\\lib\\site-packages\\numpy\\core\\multiarray.py:741\u001B[0m, in \u001B[0;36mdot\u001B[1;34m(a, b, out)\u001B[0m\n\u001B[0;32m    671\u001B[0m \u001B[38;5;250m    \u001B[39m\u001B[38;5;124;03m\"\"\"\u001B[39;00m\n\u001B[0;32m    672\u001B[0m \u001B[38;5;124;03m    result_type(*arrays_and_dtypes)\u001B[39;00m\n\u001B[0;32m    673\u001B[0m \n\u001B[1;32m   (...)\u001B[0m\n\u001B[0;32m    736\u001B[0m \n\u001B[0;32m    737\u001B[0m \u001B[38;5;124;03m    \"\"\"\u001B[39;00m\n\u001B[0;32m    738\u001B[0m     \u001B[38;5;28;01mreturn\u001B[39;00m arrays_and_dtypes\n\u001B[1;32m--> 741\u001B[0m \u001B[38;5;129m@array_function_from_c_func_and_dispatcher\u001B[39m(_multiarray_umath\u001B[38;5;241m.\u001B[39mdot)\n\u001B[0;32m    742\u001B[0m \u001B[38;5;28;01mdef\u001B[39;00m \u001B[38;5;21mdot\u001B[39m(a, b, out\u001B[38;5;241m=\u001B[39m\u001B[38;5;28;01mNone\u001B[39;00m):\n\u001B[0;32m    743\u001B[0m \u001B[38;5;250m    \u001B[39m\u001B[38;5;124;03m\"\"\"\u001B[39;00m\n\u001B[0;32m    744\u001B[0m \u001B[38;5;124;03m    dot(a, b, out=None)\u001B[39;00m\n\u001B[0;32m    745\u001B[0m \n\u001B[1;32m   (...)\u001B[0m\n\u001B[0;32m    829\u001B[0m \n\u001B[0;32m    830\u001B[0m \u001B[38;5;124;03m    \"\"\"\u001B[39;00m\n\u001B[0;32m    831\u001B[0m     \u001B[38;5;28;01mreturn\u001B[39;00m (a, b, out)\n",
      "\u001B[1;31mKeyboardInterrupt\u001B[0m: "
     ]
    }
   ],
   "source": [
    "ctv = CoxTimeVaryingFitter(penalizer=0.1)\n",
    "ctv.fit(data_haz, id_col=\"id\", event_col=\"fl_pass_DET\", stop_col=\"stop\", show_progress=True)"
   ],
   "metadata": {
    "collapsed": false,
    "ExecuteTime": {
     "end_time": "2024-01-14T14:08:29.883217Z",
     "start_time": "2024-01-14T14:08:11.193557100Z"
    }
   },
   "id": "f85db72501aa3711"
  },
  {
   "cell_type": "code",
   "execution_count": null,
   "outputs": [],
   "source": [
    "ctv.print_summary()"
   ],
   "metadata": {
    "collapsed": false,
    "ExecuteTime": {
     "start_time": "2024-01-14T14:08:29.874995Z"
    }
   },
   "id": "6ee778d99a375c7d"
  },
  {
   "cell_type": "markdown",
   "source": [
    "On va drop fam_enq et cd_etat_civil car cd_etat_civil est non significative et fam_enq a l'air de faire buguer le modèle\n",
    "\n",
    "#### Tests pour voir quelles var soont problematiques"
   ],
   "metadata": {
    "collapsed": false
   },
   "id": "4b6138158db34a52"
  },
  {
   "cell_type": "code",
   "execution_count": null,
   "outputs": [],
   "source": [
    "for col in [ 'fl_def_ss_pass_CTX',\n",
    "       'nb_empr_ope', 'CD_MTF_DFC', 'FL_ETR', 'CD_SITFAM_EMP1_C',\n",
    "       'CD_SITFAM_EMP1_D', 'CD_SITFAM_EMP1_I', 'CD_SITFAM_EMP1_M',\n",
    "       'CD_SITFAM_EMP1_S', 'CD_SITFAM_EMP1_U', 'CD_SITFAM_EMP1_V',\n",
    "       'regroup_natur_op_1_neuf_aco_acr', 'regroup_natur_op_2_rachat_sou',\n",
    "       'regroup_natur_op_3_travaux', 'regroup_natur_op_4_autre',\n",
    "       'CD_NAT_EMP1_CDT', 'CD_NAT_EMP1_CEE', 'CD_NAT_EMP1_ETR',\n",
    "       'CD_NAT_EMP1_FRA', 'CD_NAT_EMP1_ZZZ', 'sol_echec_0_0', 'sol_echec_0_1',\n",
    "       'sol_echec_1_0', 'sol_echec_1_1'] : \n",
    "    print(f\"{col}\")\n",
    "    ctv3 = CoxTimeVaryingFitter(penalizer=0.1)\n",
    "    ctv3.fit(data_haz[[col,'id','fl_pass_DET','stop','start']], id_col=\"id\", event_col=\"fl_pass_DET\", stop_col=\"stop\", show_progress=True, start_col='start')\n",
    "    ctv3.plot()"
   ],
   "metadata": {
    "collapsed": false,
    "ExecuteTime": {
     "start_time": "2024-01-14T14:08:29.879899Z"
    }
   },
   "id": "a53b21a209e8f8eb"
  },
  {
   "cell_type": "markdown",
   "source": [
    "liste var problematiques : FL_REL_NON_ANNULE, 'niv_gravite_mtf_dne' 'niv_gravite_mtf_dne'"
   ],
   "metadata": {
    "collapsed": false
   },
   "id": "f6e982c5f6a4a9b2"
  },
  {
   "cell_type": "markdown",
   "source": [
    "# Modèle V2"
   ],
   "metadata": {
    "collapsed": false
   },
   "id": "4b851e7412566bca"
  },
  {
   "cell_type": "code",
   "execution_count": 20,
   "outputs": [],
   "source": [
    "data_haz2 = data_haz[[ 'fl_def_ss_pass_CTX',\n",
    "       'nb_empr_ope', 'CD_MTF_DFC', 'FL_ETR', 'CD_SITFAM_EMP1_C',\n",
    "       'CD_SITFAM_EMP1_D', 'CD_SITFAM_EMP1_I', 'CD_SITFAM_EMP1_M',\n",
    "       'CD_SITFAM_EMP1_S', 'CD_SITFAM_EMP1_U', 'CD_SITFAM_EMP1_V',\n",
    "       'regroup_natur_op_1_neuf_aco_acr', 'regroup_natur_op_2_rachat_sou',\n",
    "       'regroup_natur_op_3_travaux', 'regroup_natur_op_4_autre',\n",
    "       'CD_NAT_EMP1_CDT', 'CD_NAT_EMP1_CEE', 'CD_NAT_EMP1_ETR',\n",
    "       'CD_NAT_EMP1_FRA', 'CD_NAT_EMP1_ZZZ', 'sol_echec_0_0', 'sol_echec_0_1',\n",
    "       'sol_echec_1_0', 'sol_echec_1_1','id','fl_pass_DET','stop','start']]\n",
    "\n",
    "\n",
    "data_test2 = data_test[[ 'fl_def_ss_pass_CTX',\n",
    "       'nb_empr_ope', 'CD_MTF_DFC', 'FL_ETR', 'CD_SITFAM_EMP1_C',\n",
    "       'CD_SITFAM_EMP1_D', 'CD_SITFAM_EMP1_I', 'CD_SITFAM_EMP1_M',\n",
    "       'CD_SITFAM_EMP1_S', 'CD_SITFAM_EMP1_U', 'CD_SITFAM_EMP1_V',\n",
    "       'regroup_natur_op_1_neuf_aco_acr', 'regroup_natur_op_2_rachat_sou',\n",
    "       'regroup_natur_op_3_travaux', 'regroup_natur_op_4_autre',\n",
    "       'CD_NAT_EMP1_CDT', 'CD_NAT_EMP1_CEE', 'CD_NAT_EMP1_ETR',\n",
    "       'CD_NAT_EMP1_FRA', 'CD_NAT_EMP1_ZZZ', 'sol_echec_0_0', 'sol_echec_0_1',\n",
    "       'sol_echec_1_0', 'sol_echec_1_1','id','fl_pass_DET','stop','start']]\n",
    "\n",
    "#ctv2 = CoxTimeVaryingFitter(penalizer=0.1)\n",
    "#ctv2.fit(data_haz2, id_col=\"id\", event_col=\"fl_pass_DET\", stop_col=\"stop\", show_progress=True)"
   ],
   "metadata": {
    "collapsed": false,
    "ExecuteTime": {
     "end_time": "2024-01-14T14:58:02.843663700Z",
     "start_time": "2024-01-14T14:58:02.761225300Z"
    }
   },
   "id": "51ba8de50c94c866"
  },
  {
   "cell_type": "code",
   "execution_count": null,
   "outputs": [],
   "source": [
    "#ctv2.plot()"
   ],
   "metadata": {
    "collapsed": false,
    "ExecuteTime": {
     "end_time": "2024-01-14T14:08:29.909242300Z",
     "start_time": "2024-01-14T14:08:29.890640600Z"
    }
   },
   "id": "824306ac22e79845"
  },
  {
   "cell_type": "markdown",
   "source": [
    "# Test CoxPHFitter"
   ],
   "metadata": {
    "collapsed": false
   },
   "id": "70c02dbe9d2c6ab2"
  },
  {
   "cell_type": "code",
   "execution_count": 58,
   "outputs": [
    {
     "data": {
      "text/plain": "    fam_ENQ  solution  FL_REL_NON_ANNULE  niv_gravite_mtf_dne       PTG  \\\n0         0         0                  0                  2.0  0.109152   \n1         0         0                  0                  2.0  0.109152   \n2         0         0                  0                  2.0  0.109152   \n3         0         0                  0                  2.0  0.109152   \n4         0         0                  0                  2.0  0.109152   \n5         0         0                  0                  2.0  0.109152   \n6         0         0                  0                  2.0  0.109152   \n7         0         0                  0                  2.0  0.109152   \n8         0         0                  0                  2.0  0.109152   \n9         0         0                  0                  2.0  0.109152   \n10        0         0                  0                  2.0  0.109152   \n11        0         0                  0                  2.0  0.109152   \n12        0         0                  0                  2.0  0.000000   \n13        0         0                  0                  2.0  0.000000   \n14        0         0                  0                  2.0  0.000000   \n15        0         0                  0                  2.0  0.000000   \n16        0         0                  0                  2.0  0.000000   \n17        0         0                  0                  2.0  0.000000   \n18        0         0                  0                  2.0  0.000000   \n19        0         0                  0                  2.0  0.000000   \n20        0         0                  0                  2.0  0.000000   \n21        0         0                  0                  2.0  0.000000   \n22        0         0                  0                  2.0  0.000000   \n23        0         0                  0                  2.0  0.000000   \n24        0         0                  0                  2.0  0.000000   \n25        0         0                  0                  2.0  0.000000   \n26        0         0                  0                  2.0  0.000000   \n27        0         0                  0                  2.0  0.000000   \n28        0         0                  0                  2.0  0.000000   \n29        0         0                  0                  2.0  0.000000   \n\n    fl_fam_vam  fam_PCD       AMI  CD_ETAT_CIVIL  niv_gravite_mtf_dne  ...  \\\n0            0        0  0.595968              7                  2.0  ...   \n1            0        0  0.595968              7                  2.0  ...   \n2            0        0  0.595968              7                  2.0  ...   \n3            0        0  0.595968              7                  2.0  ...   \n4            0        0  0.595968              7                  2.0  ...   \n5            0        0  0.595968              7                  2.0  ...   \n6            0        0  0.595968              7                  2.0  ...   \n7            0        0  0.595968              7                  2.0  ...   \n8            0        0  0.595968              7                  2.0  ...   \n9            0        0  0.595968              7                  2.0  ...   \n10           0        0  0.595968              7                  2.0  ...   \n11           0        0  0.595968              7                  2.0  ...   \n12           0        0  1.000000              6                  2.0  ...   \n13           0        0  1.000000              6                  2.0  ...   \n14           0        0  1.000000              6                  2.0  ...   \n15           0        0  1.000000              6                  2.0  ...   \n16           0        0  1.000000              6                  2.0  ...   \n17           0        0  1.000000              6                  2.0  ...   \n18           0        0  1.000000              6                  2.0  ...   \n19           0        0  1.000000              6                  2.0  ...   \n20           0        0  1.000000              6                  2.0  ...   \n21           0        0  1.000000              6                  2.0  ...   \n22           0        0  1.000000              6                  2.0  ...   \n23           0        0  1.000000              6                  2.0  ...   \n24           0        0  1.000000              6                  2.0  ...   \n25           0        1  0.000000              6                  2.0  ...   \n26           0        1  0.000000              6                  2.0  ...   \n27           0        1  0.000000              6                  2.0  ...   \n28           0        1  0.000000              6                  2.0  ...   \n29           0        1  0.000000              6                  2.0  ...   \n\n    CD_NAT_EMP1_FRA  CD_NAT_EMP1_ZZZ  sol_echec_0_0  sol_echec_0_1  \\\n0               1.0              0.0            1.0            0.0   \n1               1.0              0.0            1.0            0.0   \n2               1.0              0.0            1.0            0.0   \n3               1.0              0.0            1.0            0.0   \n4               1.0              0.0            1.0            0.0   \n5               1.0              0.0            1.0            0.0   \n6               1.0              0.0            1.0            0.0   \n7               1.0              0.0            1.0            0.0   \n8               1.0              0.0            1.0            0.0   \n9               1.0              0.0            1.0            0.0   \n10              1.0              0.0            1.0            0.0   \n11              1.0              0.0            1.0            0.0   \n12              1.0              0.0            1.0            0.0   \n13              1.0              0.0            1.0            0.0   \n14              1.0              0.0            1.0            0.0   \n15              1.0              0.0            1.0            0.0   \n16              1.0              0.0            1.0            0.0   \n17              1.0              0.0            1.0            0.0   \n18              1.0              0.0            1.0            0.0   \n19              1.0              0.0            1.0            0.0   \n20              1.0              0.0            1.0            0.0   \n21              1.0              0.0            1.0            0.0   \n22              1.0              0.0            1.0            0.0   \n23              1.0              0.0            1.0            0.0   \n24              1.0              0.0            1.0            0.0   \n25              1.0              0.0            1.0            0.0   \n26              1.0              0.0            1.0            0.0   \n27              1.0              0.0            1.0            0.0   \n28              1.0              0.0            1.0            0.0   \n29              1.0              0.0            1.0            0.0   \n\n    sol_echec_1_0  sol_echec_1_1  fl_pass_DET  start   stop         id  \n0             0.0            0.0            0      0   15.0  860708600  \n1             0.0            0.0            0      0   43.0  860708600  \n2             0.0            0.0            0      0   74.0  860708600  \n3             0.0            0.0            0      0  104.0  860708600  \n4             0.0            0.0            0      0  135.0  860708600  \n5             0.0            0.0            0      0  165.0  860708600  \n6             0.0            0.0            0      0  196.0  860708600  \n7             0.0            0.0            0      0  227.0  860708600  \n8             0.0            0.0            0      0  257.0  860708600  \n9             0.0            0.0            0      0  288.0  860708600  \n10            0.0            0.0            0      0  318.0  860708600  \n11            0.0            0.0            0      0  349.0  860708600  \n12            0.0            0.0            0      0   16.0  950404213  \n13            0.0            0.0            0      0   46.0  950404213  \n14            0.0            0.0            0      0   77.0  950404213  \n15            0.0            0.0            0      0  107.0  950404213  \n16            0.0            0.0            0      0  138.0  950404213  \n17            0.0            0.0            0      0  169.0  950404213  \n18            0.0            0.0            0      0  199.0  950404213  \n19            0.0            0.0            0      0  230.0  950404213  \n20            0.0            0.0            0      0  260.0  950404213  \n21            0.0            0.0            0      0  291.0  950404213  \n22            0.0            0.0            0      0  322.0  950404213  \n23            0.0            0.0            0      0  350.0  950404213  \n24            0.0            0.0            0      0  381.0  950404213  \n25            0.0            0.0            0      0  216.0  950706618  \n26            0.0            0.0            0      0  246.0  950706618  \n27            0.0            0.0            0      0  277.0  950706618  \n28            0.0            0.0            0      0  307.0  950706618  \n29            0.0            0.0            0      0  338.0  950706618  \n\n[30 rows x 39 columns]",
      "text/html": "<div>\n<style scoped>\n    .dataframe tbody tr th:only-of-type {\n        vertical-align: middle;\n    }\n\n    .dataframe tbody tr th {\n        vertical-align: top;\n    }\n\n    .dataframe thead th {\n        text-align: right;\n    }\n</style>\n<table border=\"1\" class=\"dataframe\">\n  <thead>\n    <tr style=\"text-align: right;\">\n      <th></th>\n      <th>fam_ENQ</th>\n      <th>solution</th>\n      <th>FL_REL_NON_ANNULE</th>\n      <th>niv_gravite_mtf_dne</th>\n      <th>PTG</th>\n      <th>fl_fam_vam</th>\n      <th>fam_PCD</th>\n      <th>AMI</th>\n      <th>CD_ETAT_CIVIL</th>\n      <th>niv_gravite_mtf_dne</th>\n      <th>...</th>\n      <th>CD_NAT_EMP1_FRA</th>\n      <th>CD_NAT_EMP1_ZZZ</th>\n      <th>sol_echec_0_0</th>\n      <th>sol_echec_0_1</th>\n      <th>sol_echec_1_0</th>\n      <th>sol_echec_1_1</th>\n      <th>fl_pass_DET</th>\n      <th>start</th>\n      <th>stop</th>\n      <th>id</th>\n    </tr>\n  </thead>\n  <tbody>\n    <tr>\n      <th>0</th>\n      <td>0</td>\n      <td>0</td>\n      <td>0</td>\n      <td>2.0</td>\n      <td>0.109152</td>\n      <td>0</td>\n      <td>0</td>\n      <td>0.595968</td>\n      <td>7</td>\n      <td>2.0</td>\n      <td>...</td>\n      <td>1.0</td>\n      <td>0.0</td>\n      <td>1.0</td>\n      <td>0.0</td>\n      <td>0.0</td>\n      <td>0.0</td>\n      <td>0</td>\n      <td>0</td>\n      <td>15.0</td>\n      <td>860708600</td>\n    </tr>\n    <tr>\n      <th>1</th>\n      <td>0</td>\n      <td>0</td>\n      <td>0</td>\n      <td>2.0</td>\n      <td>0.109152</td>\n      <td>0</td>\n      <td>0</td>\n      <td>0.595968</td>\n      <td>7</td>\n      <td>2.0</td>\n      <td>...</td>\n      <td>1.0</td>\n      <td>0.0</td>\n      <td>1.0</td>\n      <td>0.0</td>\n      <td>0.0</td>\n      <td>0.0</td>\n      <td>0</td>\n      <td>0</td>\n      <td>43.0</td>\n      <td>860708600</td>\n    </tr>\n    <tr>\n      <th>2</th>\n      <td>0</td>\n      <td>0</td>\n      <td>0</td>\n      <td>2.0</td>\n      <td>0.109152</td>\n      <td>0</td>\n      <td>0</td>\n      <td>0.595968</td>\n      <td>7</td>\n      <td>2.0</td>\n      <td>...</td>\n      <td>1.0</td>\n      <td>0.0</td>\n      <td>1.0</td>\n      <td>0.0</td>\n      <td>0.0</td>\n      <td>0.0</td>\n      <td>0</td>\n      <td>0</td>\n      <td>74.0</td>\n      <td>860708600</td>\n    </tr>\n    <tr>\n      <th>3</th>\n      <td>0</td>\n      <td>0</td>\n      <td>0</td>\n      <td>2.0</td>\n      <td>0.109152</td>\n      <td>0</td>\n      <td>0</td>\n      <td>0.595968</td>\n      <td>7</td>\n      <td>2.0</td>\n      <td>...</td>\n      <td>1.0</td>\n      <td>0.0</td>\n      <td>1.0</td>\n      <td>0.0</td>\n      <td>0.0</td>\n      <td>0.0</td>\n      <td>0</td>\n      <td>0</td>\n      <td>104.0</td>\n      <td>860708600</td>\n    </tr>\n    <tr>\n      <th>4</th>\n      <td>0</td>\n      <td>0</td>\n      <td>0</td>\n      <td>2.0</td>\n      <td>0.109152</td>\n      <td>0</td>\n      <td>0</td>\n      <td>0.595968</td>\n      <td>7</td>\n      <td>2.0</td>\n      <td>...</td>\n      <td>1.0</td>\n      <td>0.0</td>\n      <td>1.0</td>\n      <td>0.0</td>\n      <td>0.0</td>\n      <td>0.0</td>\n      <td>0</td>\n      <td>0</td>\n      <td>135.0</td>\n      <td>860708600</td>\n    </tr>\n    <tr>\n      <th>5</th>\n      <td>0</td>\n      <td>0</td>\n      <td>0</td>\n      <td>2.0</td>\n      <td>0.109152</td>\n      <td>0</td>\n      <td>0</td>\n      <td>0.595968</td>\n      <td>7</td>\n      <td>2.0</td>\n      <td>...</td>\n      <td>1.0</td>\n      <td>0.0</td>\n      <td>1.0</td>\n      <td>0.0</td>\n      <td>0.0</td>\n      <td>0.0</td>\n      <td>0</td>\n      <td>0</td>\n      <td>165.0</td>\n      <td>860708600</td>\n    </tr>\n    <tr>\n      <th>6</th>\n      <td>0</td>\n      <td>0</td>\n      <td>0</td>\n      <td>2.0</td>\n      <td>0.109152</td>\n      <td>0</td>\n      <td>0</td>\n      <td>0.595968</td>\n      <td>7</td>\n      <td>2.0</td>\n      <td>...</td>\n      <td>1.0</td>\n      <td>0.0</td>\n      <td>1.0</td>\n      <td>0.0</td>\n      <td>0.0</td>\n      <td>0.0</td>\n      <td>0</td>\n      <td>0</td>\n      <td>196.0</td>\n      <td>860708600</td>\n    </tr>\n    <tr>\n      <th>7</th>\n      <td>0</td>\n      <td>0</td>\n      <td>0</td>\n      <td>2.0</td>\n      <td>0.109152</td>\n      <td>0</td>\n      <td>0</td>\n      <td>0.595968</td>\n      <td>7</td>\n      <td>2.0</td>\n      <td>...</td>\n      <td>1.0</td>\n      <td>0.0</td>\n      <td>1.0</td>\n      <td>0.0</td>\n      <td>0.0</td>\n      <td>0.0</td>\n      <td>0</td>\n      <td>0</td>\n      <td>227.0</td>\n      <td>860708600</td>\n    </tr>\n    <tr>\n      <th>8</th>\n      <td>0</td>\n      <td>0</td>\n      <td>0</td>\n      <td>2.0</td>\n      <td>0.109152</td>\n      <td>0</td>\n      <td>0</td>\n      <td>0.595968</td>\n      <td>7</td>\n      <td>2.0</td>\n      <td>...</td>\n      <td>1.0</td>\n      <td>0.0</td>\n      <td>1.0</td>\n      <td>0.0</td>\n      <td>0.0</td>\n      <td>0.0</td>\n      <td>0</td>\n      <td>0</td>\n      <td>257.0</td>\n      <td>860708600</td>\n    </tr>\n    <tr>\n      <th>9</th>\n      <td>0</td>\n      <td>0</td>\n      <td>0</td>\n      <td>2.0</td>\n      <td>0.109152</td>\n      <td>0</td>\n      <td>0</td>\n      <td>0.595968</td>\n      <td>7</td>\n      <td>2.0</td>\n      <td>...</td>\n      <td>1.0</td>\n      <td>0.0</td>\n      <td>1.0</td>\n      <td>0.0</td>\n      <td>0.0</td>\n      <td>0.0</td>\n      <td>0</td>\n      <td>0</td>\n      <td>288.0</td>\n      <td>860708600</td>\n    </tr>\n    <tr>\n      <th>10</th>\n      <td>0</td>\n      <td>0</td>\n      <td>0</td>\n      <td>2.0</td>\n      <td>0.109152</td>\n      <td>0</td>\n      <td>0</td>\n      <td>0.595968</td>\n      <td>7</td>\n      <td>2.0</td>\n      <td>...</td>\n      <td>1.0</td>\n      <td>0.0</td>\n      <td>1.0</td>\n      <td>0.0</td>\n      <td>0.0</td>\n      <td>0.0</td>\n      <td>0</td>\n      <td>0</td>\n      <td>318.0</td>\n      <td>860708600</td>\n    </tr>\n    <tr>\n      <th>11</th>\n      <td>0</td>\n      <td>0</td>\n      <td>0</td>\n      <td>2.0</td>\n      <td>0.109152</td>\n      <td>0</td>\n      <td>0</td>\n      <td>0.595968</td>\n      <td>7</td>\n      <td>2.0</td>\n      <td>...</td>\n      <td>1.0</td>\n      <td>0.0</td>\n      <td>1.0</td>\n      <td>0.0</td>\n      <td>0.0</td>\n      <td>0.0</td>\n      <td>0</td>\n      <td>0</td>\n      <td>349.0</td>\n      <td>860708600</td>\n    </tr>\n    <tr>\n      <th>12</th>\n      <td>0</td>\n      <td>0</td>\n      <td>0</td>\n      <td>2.0</td>\n      <td>0.000000</td>\n      <td>0</td>\n      <td>0</td>\n      <td>1.000000</td>\n      <td>6</td>\n      <td>2.0</td>\n      <td>...</td>\n      <td>1.0</td>\n      <td>0.0</td>\n      <td>1.0</td>\n      <td>0.0</td>\n      <td>0.0</td>\n      <td>0.0</td>\n      <td>0</td>\n      <td>0</td>\n      <td>16.0</td>\n      <td>950404213</td>\n    </tr>\n    <tr>\n      <th>13</th>\n      <td>0</td>\n      <td>0</td>\n      <td>0</td>\n      <td>2.0</td>\n      <td>0.000000</td>\n      <td>0</td>\n      <td>0</td>\n      <td>1.000000</td>\n      <td>6</td>\n      <td>2.0</td>\n      <td>...</td>\n      <td>1.0</td>\n      <td>0.0</td>\n      <td>1.0</td>\n      <td>0.0</td>\n      <td>0.0</td>\n      <td>0.0</td>\n      <td>0</td>\n      <td>0</td>\n      <td>46.0</td>\n      <td>950404213</td>\n    </tr>\n    <tr>\n      <th>14</th>\n      <td>0</td>\n      <td>0</td>\n      <td>0</td>\n      <td>2.0</td>\n      <td>0.000000</td>\n      <td>0</td>\n      <td>0</td>\n      <td>1.000000</td>\n      <td>6</td>\n      <td>2.0</td>\n      <td>...</td>\n      <td>1.0</td>\n      <td>0.0</td>\n      <td>1.0</td>\n      <td>0.0</td>\n      <td>0.0</td>\n      <td>0.0</td>\n      <td>0</td>\n      <td>0</td>\n      <td>77.0</td>\n      <td>950404213</td>\n    </tr>\n    <tr>\n      <th>15</th>\n      <td>0</td>\n      <td>0</td>\n      <td>0</td>\n      <td>2.0</td>\n      <td>0.000000</td>\n      <td>0</td>\n      <td>0</td>\n      <td>1.000000</td>\n      <td>6</td>\n      <td>2.0</td>\n      <td>...</td>\n      <td>1.0</td>\n      <td>0.0</td>\n      <td>1.0</td>\n      <td>0.0</td>\n      <td>0.0</td>\n      <td>0.0</td>\n      <td>0</td>\n      <td>0</td>\n      <td>107.0</td>\n      <td>950404213</td>\n    </tr>\n    <tr>\n      <th>16</th>\n      <td>0</td>\n      <td>0</td>\n      <td>0</td>\n      <td>2.0</td>\n      <td>0.000000</td>\n      <td>0</td>\n      <td>0</td>\n      <td>1.000000</td>\n      <td>6</td>\n      <td>2.0</td>\n      <td>...</td>\n      <td>1.0</td>\n      <td>0.0</td>\n      <td>1.0</td>\n      <td>0.0</td>\n      <td>0.0</td>\n      <td>0.0</td>\n      <td>0</td>\n      <td>0</td>\n      <td>138.0</td>\n      <td>950404213</td>\n    </tr>\n    <tr>\n      <th>17</th>\n      <td>0</td>\n      <td>0</td>\n      <td>0</td>\n      <td>2.0</td>\n      <td>0.000000</td>\n      <td>0</td>\n      <td>0</td>\n      <td>1.000000</td>\n      <td>6</td>\n      <td>2.0</td>\n      <td>...</td>\n      <td>1.0</td>\n      <td>0.0</td>\n      <td>1.0</td>\n      <td>0.0</td>\n      <td>0.0</td>\n      <td>0.0</td>\n      <td>0</td>\n      <td>0</td>\n      <td>169.0</td>\n      <td>950404213</td>\n    </tr>\n    <tr>\n      <th>18</th>\n      <td>0</td>\n      <td>0</td>\n      <td>0</td>\n      <td>2.0</td>\n      <td>0.000000</td>\n      <td>0</td>\n      <td>0</td>\n      <td>1.000000</td>\n      <td>6</td>\n      <td>2.0</td>\n      <td>...</td>\n      <td>1.0</td>\n      <td>0.0</td>\n      <td>1.0</td>\n      <td>0.0</td>\n      <td>0.0</td>\n      <td>0.0</td>\n      <td>0</td>\n      <td>0</td>\n      <td>199.0</td>\n      <td>950404213</td>\n    </tr>\n    <tr>\n      <th>19</th>\n      <td>0</td>\n      <td>0</td>\n      <td>0</td>\n      <td>2.0</td>\n      <td>0.000000</td>\n      <td>0</td>\n      <td>0</td>\n      <td>1.000000</td>\n      <td>6</td>\n      <td>2.0</td>\n      <td>...</td>\n      <td>1.0</td>\n      <td>0.0</td>\n      <td>1.0</td>\n      <td>0.0</td>\n      <td>0.0</td>\n      <td>0.0</td>\n      <td>0</td>\n      <td>0</td>\n      <td>230.0</td>\n      <td>950404213</td>\n    </tr>\n    <tr>\n      <th>20</th>\n      <td>0</td>\n      <td>0</td>\n      <td>0</td>\n      <td>2.0</td>\n      <td>0.000000</td>\n      <td>0</td>\n      <td>0</td>\n      <td>1.000000</td>\n      <td>6</td>\n      <td>2.0</td>\n      <td>...</td>\n      <td>1.0</td>\n      <td>0.0</td>\n      <td>1.0</td>\n      <td>0.0</td>\n      <td>0.0</td>\n      <td>0.0</td>\n      <td>0</td>\n      <td>0</td>\n      <td>260.0</td>\n      <td>950404213</td>\n    </tr>\n    <tr>\n      <th>21</th>\n      <td>0</td>\n      <td>0</td>\n      <td>0</td>\n      <td>2.0</td>\n      <td>0.000000</td>\n      <td>0</td>\n      <td>0</td>\n      <td>1.000000</td>\n      <td>6</td>\n      <td>2.0</td>\n      <td>...</td>\n      <td>1.0</td>\n      <td>0.0</td>\n      <td>1.0</td>\n      <td>0.0</td>\n      <td>0.0</td>\n      <td>0.0</td>\n      <td>0</td>\n      <td>0</td>\n      <td>291.0</td>\n      <td>950404213</td>\n    </tr>\n    <tr>\n      <th>22</th>\n      <td>0</td>\n      <td>0</td>\n      <td>0</td>\n      <td>2.0</td>\n      <td>0.000000</td>\n      <td>0</td>\n      <td>0</td>\n      <td>1.000000</td>\n      <td>6</td>\n      <td>2.0</td>\n      <td>...</td>\n      <td>1.0</td>\n      <td>0.0</td>\n      <td>1.0</td>\n      <td>0.0</td>\n      <td>0.0</td>\n      <td>0.0</td>\n      <td>0</td>\n      <td>0</td>\n      <td>322.0</td>\n      <td>950404213</td>\n    </tr>\n    <tr>\n      <th>23</th>\n      <td>0</td>\n      <td>0</td>\n      <td>0</td>\n      <td>2.0</td>\n      <td>0.000000</td>\n      <td>0</td>\n      <td>0</td>\n      <td>1.000000</td>\n      <td>6</td>\n      <td>2.0</td>\n      <td>...</td>\n      <td>1.0</td>\n      <td>0.0</td>\n      <td>1.0</td>\n      <td>0.0</td>\n      <td>0.0</td>\n      <td>0.0</td>\n      <td>0</td>\n      <td>0</td>\n      <td>350.0</td>\n      <td>950404213</td>\n    </tr>\n    <tr>\n      <th>24</th>\n      <td>0</td>\n      <td>0</td>\n      <td>0</td>\n      <td>2.0</td>\n      <td>0.000000</td>\n      <td>0</td>\n      <td>0</td>\n      <td>1.000000</td>\n      <td>6</td>\n      <td>2.0</td>\n      <td>...</td>\n      <td>1.0</td>\n      <td>0.0</td>\n      <td>1.0</td>\n      <td>0.0</td>\n      <td>0.0</td>\n      <td>0.0</td>\n      <td>0</td>\n      <td>0</td>\n      <td>381.0</td>\n      <td>950404213</td>\n    </tr>\n    <tr>\n      <th>25</th>\n      <td>0</td>\n      <td>0</td>\n      <td>0</td>\n      <td>2.0</td>\n      <td>0.000000</td>\n      <td>0</td>\n      <td>1</td>\n      <td>0.000000</td>\n      <td>6</td>\n      <td>2.0</td>\n      <td>...</td>\n      <td>1.0</td>\n      <td>0.0</td>\n      <td>1.0</td>\n      <td>0.0</td>\n      <td>0.0</td>\n      <td>0.0</td>\n      <td>0</td>\n      <td>0</td>\n      <td>216.0</td>\n      <td>950706618</td>\n    </tr>\n    <tr>\n      <th>26</th>\n      <td>0</td>\n      <td>0</td>\n      <td>0</td>\n      <td>2.0</td>\n      <td>0.000000</td>\n      <td>0</td>\n      <td>1</td>\n      <td>0.000000</td>\n      <td>6</td>\n      <td>2.0</td>\n      <td>...</td>\n      <td>1.0</td>\n      <td>0.0</td>\n      <td>1.0</td>\n      <td>0.0</td>\n      <td>0.0</td>\n      <td>0.0</td>\n      <td>0</td>\n      <td>0</td>\n      <td>246.0</td>\n      <td>950706618</td>\n    </tr>\n    <tr>\n      <th>27</th>\n      <td>0</td>\n      <td>0</td>\n      <td>0</td>\n      <td>2.0</td>\n      <td>0.000000</td>\n      <td>0</td>\n      <td>1</td>\n      <td>0.000000</td>\n      <td>6</td>\n      <td>2.0</td>\n      <td>...</td>\n      <td>1.0</td>\n      <td>0.0</td>\n      <td>1.0</td>\n      <td>0.0</td>\n      <td>0.0</td>\n      <td>0.0</td>\n      <td>0</td>\n      <td>0</td>\n      <td>277.0</td>\n      <td>950706618</td>\n    </tr>\n    <tr>\n      <th>28</th>\n      <td>0</td>\n      <td>0</td>\n      <td>0</td>\n      <td>2.0</td>\n      <td>0.000000</td>\n      <td>0</td>\n      <td>1</td>\n      <td>0.000000</td>\n      <td>6</td>\n      <td>2.0</td>\n      <td>...</td>\n      <td>1.0</td>\n      <td>0.0</td>\n      <td>1.0</td>\n      <td>0.0</td>\n      <td>0.0</td>\n      <td>0.0</td>\n      <td>0</td>\n      <td>0</td>\n      <td>307.0</td>\n      <td>950706618</td>\n    </tr>\n    <tr>\n      <th>29</th>\n      <td>0</td>\n      <td>0</td>\n      <td>0</td>\n      <td>2.0</td>\n      <td>0.000000</td>\n      <td>0</td>\n      <td>1</td>\n      <td>0.000000</td>\n      <td>6</td>\n      <td>2.0</td>\n      <td>...</td>\n      <td>1.0</td>\n      <td>0.0</td>\n      <td>1.0</td>\n      <td>0.0</td>\n      <td>0.0</td>\n      <td>0.0</td>\n      <td>0</td>\n      <td>0</td>\n      <td>338.0</td>\n      <td>950706618</td>\n    </tr>\n  </tbody>\n</table>\n<p>30 rows × 39 columns</p>\n</div>"
     },
     "execution_count": 58,
     "metadata": {},
     "output_type": "execute_result"
    }
   ],
   "source": [
    "data_haz.head(30)"
   ],
   "metadata": {
    "collapsed": false,
    "ExecuteTime": {
     "end_time": "2024-01-14T15:23:17.610343400Z",
     "start_time": "2024-01-14T15:23:17.563009900Z"
    }
   },
   "id": "88fefcac78553410"
  },
  {
   "cell_type": "code",
   "execution_count": 21,
   "outputs": [],
   "source": [
    "data_cox = data_haz2.drop_duplicates(subset = \"id\",keep = 'last') # on retire les doublons\n",
    "test_cox = data_test2.drop_duplicates(subset = \"id\",keep = 'last') # on retire les doublons\n",
    "test_cox.drop(columns = ['start','fl_pass_DET', 'id'],inplace = True )"
   ],
   "metadata": {
    "collapsed": false,
    "ExecuteTime": {
     "end_time": "2024-01-14T14:58:02.884419300Z",
     "start_time": "2024-01-14T14:58:02.835747400Z"
    }
   },
   "id": "3df327b3a541be5a"
  },
  {
   "cell_type": "markdown",
   "source": [],
   "metadata": {
    "collapsed": false
   },
   "id": "89d45d028da6e043"
  },
  {
   "cell_type": "code",
   "execution_count": 22,
   "outputs": [
    {
     "data": {
      "text/plain": "<lifelines.CoxPHFitter: fitted with 329064 total observations, 321601 right-censored observations>"
     },
     "execution_count": 22,
     "metadata": {},
     "output_type": "execute_result"
    }
   ],
   "source": [
    "from lifelines import CoxPHFitter\n",
    "\n",
    "cph = CoxPHFitter(penalizer=0.1)  # Choisir le paramètre de pénalité\n",
    "cph.fit(data_haz2.drop(columns = ['id','start']), duration_col='stop', event_col='fl_pass_DET')\n"
   ],
   "metadata": {
    "collapsed": false,
    "ExecuteTime": {
     "end_time": "2024-01-14T14:58:05.601933400Z",
     "start_time": "2024-01-14T14:58:02.883401400Z"
    }
   },
   "id": "c9ef8625ecd0ad55"
  },
  {
   "cell_type": "code",
   "execution_count": 23,
   "outputs": [],
   "source": [
    "predictions = cph.predict_survival_function(test_cox)\n"
   ],
   "metadata": {
    "collapsed": false,
    "ExecuteTime": {
     "end_time": "2024-01-14T14:58:54.541014200Z",
     "start_time": "2024-01-14T14:58:52.880372300Z"
    }
   },
   "id": "6366c42260385f81"
  },
  {
   "cell_type": "code",
   "execution_count": 51,
   "outputs": [],
   "source": [
    "predictions = predictions.transpose()"
   ],
   "metadata": {
    "collapsed": false,
    "ExecuteTime": {
     "end_time": "2024-01-14T15:21:58.686058400Z",
     "start_time": "2024-01-14T15:21:58.676265200Z"
    }
   },
   "id": "8a9259100d2eae49"
  },
  {
   "cell_type": "code",
   "execution_count": 56,
   "outputs": [
    {
     "data": {
      "text/plain": "(10614, 2332)"
     },
     "execution_count": 56,
     "metadata": {},
     "output_type": "execute_result"
    }
   ],
   "source": [
    "predictions.shape"
   ],
   "metadata": {
    "collapsed": false,
    "ExecuteTime": {
     "end_time": "2024-01-14T15:22:40.973688900Z",
     "start_time": "2024-01-14T15:22:40.923443200Z"
    }
   },
   "id": "2f58a93756730ee4"
  },
  {
   "cell_type": "code",
   "execution_count": 55,
   "outputs": [
    {
     "data": {
      "text/plain": "<Figure size 640x480 with 1 Axes>",
      "image/png": "[encoded data removed]"
     },
     "metadata": {},
     "output_type": "display_data"
    }
   ],
   "source": [
    "survival_function_observation_0 = predictions.iloc[10]\n",
    "\n",
    "# Tracer la fonction de survie pour l'observation 0\n",
    "survival_function_observation_0.plot()\n",
    "plt.show()"
   ],
   "metadata": {
    "collapsed": false,
    "ExecuteTime": {
     "end_time": "2024-01-14T15:22:17.017559100Z",
     "start_time": "2024-01-14T15:22:16.820354700Z"
    }
   },
   "id": "a2d7df10ad2e34a1"
  },
  {
   "cell_type": "code",
   "execution_count": null,
   "outputs": [],
   "source": [],
   "metadata": {
    "collapsed": false
   },
   "id": "3ea5ed7f42fadfa2"
  }
 ],
 "metadata": {
  "kernelspec": {
   "display_name": "Python 3",
   "language": "python",
   "name": "python3"
  },
  "language_info": {
   "codemirror_mode": {
    "name": "ipython",
    "version": 2
   },
   "file_extension": ".py",
   "mimetype": "text/x-python",
   "name": "python",
   "nbconvert_exporter": "python",
   "pygments_lexer": "ipython2",
   "version": "2.7.6"
  }
 },
 "nbformat": 4,
 "nbformat_minor": 5
}
