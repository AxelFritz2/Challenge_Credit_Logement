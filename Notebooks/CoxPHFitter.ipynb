{
 "cells": [
  {
   "cell_type": "markdown",
   "source": [
    "# Imports"
   ],
   "metadata": {
    "collapsed": false
   },
   "id": "961342a32eb818a6"
  },
  {
   "cell_type": "code",
   "execution_count": 1,
   "id": "initial_id",
   "metadata": {
    "collapsed": true,
    "ExecuteTime": {
     "end_time": "2024-01-24T12:25:10.562867200Z",
     "start_time": "2024-01-24T12:25:07.446013700Z"
    }
   },
   "outputs": [],
   "source": [
    "import pandas as pd\n",
    "import warnings\n",
    "from lifelines import CoxPHFitter, CoxTimeVaryingFitter\n",
    "import re\n",
    "from sklearn.preprocessing import OneHotEncoder, LabelEncoder, TargetEncoder\n",
    "warnings.filterwarnings(\"ignore\")\n",
    "import matplotlib.pyplot as plt"
   ]
  },
  {
   "cell_type": "code",
   "execution_count": 2,
   "outputs": [],
   "source": [
    "df = pd.read_csv('../data/base_modelis_pass_det.csv',sep = ';')"
   ],
   "metadata": {
    "collapsed": false,
    "ExecuteTime": {
     "end_time": "2024-01-24T12:25:13.621732800Z",
     "start_time": "2024-01-24T12:25:10.567148700Z"
    }
   },
   "id": "f507e6a3fc5d6d05"
  },
  {
   "cell_type": "markdown",
   "source": [
    "# Data treatment"
   ],
   "metadata": {
    "collapsed": false
   },
   "id": "4aff6a065a7266ce"
  },
  {
   "cell_type": "code",
   "execution_count": 3,
   "outputs": [],
   "source": [
    "df['date_entree_defaut'] = pd.to_datetime(df['date_entree_defaut'], format='%d/%m/%y')\n",
    "df['date_sortie_defaut'] = pd.to_datetime(df['date_sortie_defaut'], format='%d/%m/%y', errors='coerce')\n",
    "df['arrete'] = pd.to_datetime(df['arrete'], format='%d/%m/%y')\n",
    "df['DT_MEP_OPE'] = pd.to_datetime(df['DT_MEP_OPE'], format='%d%b%Y:%H:%M:%S.%f')\n",
    "df['dt_arr_last_enc_ope'] = pd.to_datetime(df['dt_arr_last_enc_ope'], errors='coerce')\n",
    "df['dt_arr_1st_enc_ope'] = pd.to_datetime(df['dt_arr_1st_enc_ope'], errors='coerce')\n",
    "df['dtHJD_prov'] = pd.to_datetime(df['dtHJD_prov'], errors='coerce')\n",
    "df['dtHJD_def'] = pd.to_datetime(df['dtHJD_def'], errors='coerce')"
   ],
   "metadata": {
    "collapsed": false,
    "ExecuteTime": {
     "end_time": "2024-01-24T12:25:14.224570900Z",
     "start_time": "2024-01-24T12:25:13.628895200Z"
    }
   },
   "id": "d35b0bea4ced4d3a"
  },
  {
   "cell_type": "code",
   "execution_count": 4,
   "outputs": [],
   "source": [
    "for column in df.columns :\n",
    "    if df[column].isna().sum()/df.shape[0] > 0.2 : \n",
    "        df.drop(columns = [column], inplace = True)"
   ],
   "metadata": {
    "collapsed": false,
    "ExecuteTime": {
     "end_time": "2024-01-24T12:25:16.793254900Z",
     "start_time": "2024-01-24T12:25:14.227250800Z"
    }
   },
   "id": "c1e4cc17ec780ffa"
  },
  {
   "cell_type": "code",
   "execution_count": 5,
   "outputs": [],
   "source": [
    "df.drop(columns = [\"CD_POST_BIEN_PFI\"], inplace = True)"
   ],
   "metadata": {
    "collapsed": false,
    "ExecuteTime": {
     "end_time": "2024-01-24T12:25:16.950373600Z",
     "start_time": "2024-01-24T12:25:16.797731500Z"
    }
   },
   "id": "c886fc8237de4c50"
  },
  {
   "cell_type": "code",
   "execution_count": 6,
   "outputs": [],
   "source": [
    "cols_numeriques = df.select_dtypes(include=['float64', 'int64']).columns.to_list()\n",
    "cols_categorielles = df.select_dtypes(include=['object']).columns.to_list()\n",
    "cols_categorielles.remove(\"cd_op\")\n",
    "\n",
    "for col in cols_numeriques:\n",
    "    df[col].fillna(df[col].mean(), inplace=True)\n",
    "\n",
    "for col in cols_categorielles:\n",
    "    df[col].fillna(df[col].mode()[0], inplace=True)"
   ],
   "metadata": {
    "collapsed": false,
    "ExecuteTime": {
     "end_time": "2024-01-24T12:25:17.509404300Z",
     "start_time": "2024-01-24T12:25:16.945980Z"
    }
   },
   "id": "c6453e4c199e602"
  },
  {
   "cell_type": "markdown",
   "source": [
    "# Train validation split"
   ],
   "metadata": {
    "collapsed": false
   },
   "id": "82089781b5cf15a3"
  },
  {
   "cell_type": "code",
   "execution_count": 7,
   "outputs": [],
   "source": [
    "df_validation = df[df['arrete']>\"2020-12-30\"]\n",
    "df_train = df[df['arrete']<\"2020-12-30\"]\n",
    "df_train = df_train.reset_index()"
   ],
   "metadata": {
    "collapsed": false,
    "ExecuteTime": {
     "end_time": "2024-01-24T12:25:17.798182600Z",
     "start_time": "2024-01-24T12:25:17.518234100Z"
    }
   },
   "id": "ed4b6b0c25e46210"
  },
  {
   "cell_type": "markdown",
   "source": [
    "# Feature selection"
   ],
   "metadata": {
    "collapsed": false
   },
   "id": "2552990146bc168b"
  },
  {
   "cell_type": "code",
   "execution_count": 8,
   "outputs": [],
   "source": [
    "#liste_var = ['cd_op','fl_pass_DET','arrete','date_entree_defaut','fam_ENQ','solution','FL_REL_NON_ANNULE','niv_gravite_mtf_dne','CD_SITFAM_EMP1','regroup_natur_op','PTG','fl_fam_vam','fam_PCD','AMI','CD_ETAT_CIVIL','CD_NAT_EMP1','niv_gravite_mtf_dne','FL_REL_NON_ANNULE','sol_echec','fl_def_ss_pass_CTX','nb_empr_ope','CD_MTF_DFC','FL_ETR']\n",
    "liste_var = df.columns.to_list()"
   ],
   "metadata": {
    "collapsed": false,
    "ExecuteTime": {
     "end_time": "2024-01-24T12:25:17.822636800Z",
     "start_time": "2024-01-24T12:25:17.800849800Z"
    }
   },
   "id": "eda16ff1ca334ad3"
  },
  {
   "cell_type": "code",
   "execution_count": 9,
   "outputs": [],
   "source": [
    "df_train_var = df[liste_var].copy()\n",
    "df_test_var = df_validation[liste_var].copy()"
   ],
   "metadata": {
    "collapsed": false,
    "ExecuteTime": {
     "end_time": "2024-01-24T12:25:18.187990700Z",
     "start_time": "2024-01-24T12:25:17.811910900Z"
    }
   },
   "id": "688e50f88045f918"
  },
  {
   "cell_type": "markdown",
   "source": [
    "# Selection des individus réellement censurés et des fl_pass_DET=1"
   ],
   "metadata": {
    "collapsed": false
   },
   "id": "6a0969cd1dcaa4cf"
  },
  {
   "cell_type": "code",
   "execution_count": 10,
   "outputs": [],
   "source": [
    "df_train_var.index = df_train_var['cd_op'] # etape temporaire pour récupérer les cd_op plus facielement\n",
    "df_test_var.index = df_test_var['cd_op']"
   ],
   "metadata": {
    "collapsed": false,
    "ExecuteTime": {
     "end_time": "2024-01-24T12:25:18.200408200Z",
     "start_time": "2024-01-24T12:25:18.192881100Z"
    }
   },
   "id": "15d79fd44a48eb20"
  },
  {
   "cell_type": "code",
   "execution_count": 11,
   "outputs": [],
   "source": [
    "liste_target_1 = df_train_var[df_train_var['fl_pass_DET']==1].index.to_list() # on récupère les données non censurées\n",
    "liste_target_1_test = df_test_var[df_test_var['fl_pass_DET']==1].index.to_list()"
   ],
   "metadata": {
    "collapsed": false,
    "ExecuteTime": {
     "end_time": "2024-01-24T12:25:18.256786800Z",
     "start_time": "2024-01-24T12:25:18.200408200Z"
    }
   },
   "id": "de535405c18ab35a"
  },
  {
   "cell_type": "code",
   "execution_count": 12,
   "outputs": [],
   "source": [
    "liste_target_censure = df_train_var[df_train_var['arrete']=='2022-12-31'].index.to_list() # on recupère les id censurés\n",
    "liste_target_censure_test = df_test_var[df_test_var['arrete']=='2022-12-31'].index.to_list()"
   ],
   "metadata": {
    "collapsed": false,
    "ExecuteTime": {
     "end_time": "2024-01-24T12:25:18.312794Z",
     "start_time": "2024-01-24T12:25:18.255725600Z"
    }
   },
   "id": "3e070f7d01f46e77"
  },
  {
   "cell_type": "code",
   "execution_count": 13,
   "outputs": [],
   "source": [
    "liste_target_censure.extend(liste_target_1) # on combine les 2 listes\n",
    "liste_target_censure_test.extend(liste_target_1_test)"
   ],
   "metadata": {
    "collapsed": false,
    "ExecuteTime": {
     "end_time": "2024-01-24T12:25:18.316991500Z",
     "start_time": "2024-01-24T12:25:18.283528700Z"
    }
   },
   "id": "f9cfca06aa686ee9"
  },
  {
   "cell_type": "code",
   "execution_count": 14,
   "outputs": [],
   "source": [
    "liste_cd_op = set(liste_target_censure) # on supprime les doublons\n",
    "liste_cd_op = list(liste_cd_op)\n",
    "\n",
    "liste_cd_op_test = set(liste_target_censure_test) # on supprime les doublons\n",
    "liste_cd_op_test = list(liste_cd_op_test)"
   ],
   "metadata": {
    "collapsed": false,
    "ExecuteTime": {
     "end_time": "2024-01-24T12:25:18.317512500Z",
     "start_time": "2024-01-24T12:25:18.301835200Z"
    }
   },
   "id": "540ece558636c69f"
  },
  {
   "cell_type": "code",
   "execution_count": 15,
   "outputs": [
    {
     "data": {
      "text/plain": "11301"
     },
     "execution_count": 15,
     "metadata": {},
     "output_type": "execute_result"
    }
   ],
   "source": [
    "len(liste_cd_op) # On a donc 11301 individus à traiter dans notre base de données"
   ],
   "metadata": {
    "collapsed": false,
    "ExecuteTime": {
     "end_time": "2024-01-24T12:25:18.328868Z",
     "start_time": "2024-01-24T12:25:18.312794Z"
    }
   },
   "id": "9bff547e7464d87d"
  },
  {
   "cell_type": "code",
   "execution_count": 16,
   "outputs": [
    {
     "data": {
      "text/plain": "(175878, 69)"
     },
     "execution_count": 16,
     "metadata": {},
     "output_type": "execute_result"
    }
   ],
   "source": [
    "data = df_train_var[df_train_var['cd_op'].isin(liste_cd_op)]\n",
    "data_test = df_test_var[df_test_var['cd_op'].isin(liste_cd_op_test)]\n",
    "\n",
    "data.shape"
   ],
   "metadata": {
    "collapsed": false,
    "ExecuteTime": {
     "end_time": "2024-01-24T12:25:18.510147800Z",
     "start_time": "2024-01-24T12:25:18.328868Z"
    }
   },
   "id": "903cd14714782d48"
  },
  {
   "cell_type": "markdown",
   "source": [
    "# Encoding"
   ],
   "metadata": {
    "collapsed": false
   },
   "id": "ba9fd00c61ae08ee"
  },
  {
   "cell_type": "code",
   "execution_count": 17,
   "outputs": [],
   "source": [
    "def encode_columns(df):\n",
    "    encoders = {}\n",
    "    for column in df.select_dtypes(include='object'):\n",
    "        unique_values = df[column].nunique()\n",
    "        if unique_values <= 1:\n",
    "            # Appliquer OneHotEncoder\n",
    "            encoder = OneHotEncoder(sparse=False)\n",
    "            encoded = encoder.fit_transform(df[[column]])\n",
    "            encoders[column] = encoder\n",
    "\n",
    "            # Remplacer la colonne originale par de nouvelles colonnes pour chaque catégorie\n",
    "            for i, category in enumerate(encoder.categories_[0]):\n",
    "                df[str(column) + '_' + str(category)] = encoded[:, i]\n",
    "            df.drop(column, axis=1, inplace=True)\n",
    "        else:\n",
    "            # Appliquer LabelEncoder\n",
    "            encoder = TargetEncoder()\n",
    "            df[column] = encoder.fit_transform(df[column].values.reshape(-1, 1), df['fl_pass_DET'])\n",
    "            encoders[column] = encoder\n",
    "    return df, encoders\n",
    "\n",
    "encoded_df, encoders = encode_columns(data.drop(columns = ['cd_op','arrete','date_entree_defaut']))\n",
    "encoded_test, encoder_test = encode_columns(data_test.drop(columns = ['cd_op','arrete','date_entree_defaut']))"
   ],
   "metadata": {
    "collapsed": false,
    "ExecuteTime": {
     "end_time": "2024-01-24T12:25:19.753124100Z",
     "start_time": "2024-01-24T12:25:18.489263300Z"
    }
   },
   "id": "3762b2a8519483c2"
  },
  {
   "cell_type": "code",
   "execution_count": 18,
   "outputs": [],
   "source": [
    "encoded_df['cd_op']  = data.index\n",
    "encoded_df['fl_pass_DET'] = data['fl_pass_DET'].copy()\n",
    "encoded_df['date_entree_defaut'] = data['date_entree_defaut'].copy()\n",
    "encoded_df['arrete'] = data['arrete'].copy()"
   ],
   "metadata": {
    "collapsed": false,
    "ExecuteTime": {
     "end_time": "2024-01-24T12:25:19.767122600Z",
     "start_time": "2024-01-24T12:25:19.767122600Z"
    }
   },
   "id": "f24babbf56851b0e"
  },
  {
   "cell_type": "code",
   "execution_count": 19,
   "outputs": [],
   "source": [
    "encoded_test['cd_op']  = data_test['cd_op'].copy()\n",
    "encoded_test['fl_pass_DET'] = data_test['fl_pass_DET'].copy()\n",
    "encoded_test['date_entree_defaut'] = data_test['date_entree_defaut'].copy()\n",
    "encoded_test['arrete'] = data_test['arrete'].copy()"
   ],
   "metadata": {
    "collapsed": false,
    "ExecuteTime": {
     "end_time": "2024-01-24T12:25:19.813142800Z",
     "start_time": "2024-01-24T12:25:19.767122600Z"
    }
   },
   "id": "c14b36b5dbf330a8"
  },
  {
   "cell_type": "markdown",
   "source": [
    "# Data prep for cox model"
   ],
   "metadata": {
    "collapsed": false
   },
   "id": "51382fdb857cba9d"
  },
  {
   "cell_type": "code",
   "execution_count": 20,
   "outputs": [],
   "source": [
    "data_haz = encoded_df.copy()\n",
    "data_test =encoded_test.copy()"
   ],
   "metadata": {
    "collapsed": false,
    "ExecuteTime": {
     "end_time": "2024-01-24T12:25:19.984624300Z",
     "start_time": "2024-01-24T12:25:19.804619600Z"
    }
   },
   "id": "526fa78206ffd8fe"
  },
  {
   "cell_type": "code",
   "execution_count": 21,
   "outputs": [],
   "source": [
    "data_haz['start'] = 0\n",
    "data_haz['stop'] = data_haz['arrete'] - data_haz['date_entree_defaut']\n",
    "data_haz['stop'] = data_haz['stop'].dt.days\n",
    "\n",
    "data_test['start'] = 0\n",
    "data_test['stop'] = data_test['arrete'] - data_test['date_entree_defaut']\n",
    "data_test['stop'] = data_test['stop'].dt.days"
   ],
   "metadata": {
    "collapsed": false,
    "ExecuteTime": {
     "end_time": "2024-01-24T12:25:20.045612600Z",
     "start_time": "2024-01-24T12:25:19.990873Z"
    }
   },
   "id": "bba1b0cd2688d72c"
  },
  {
   "cell_type": "code",
   "execution_count": 22,
   "outputs": [],
   "source": [
    "data_haz['id'] = data_haz['cd_op'].apply(lambda x: re.sub(r'\\D', '', str(x)))\n",
    "\n",
    "\n",
    "data_test['id'] = data_test['cd_op'].apply(lambda x: re.sub(r'\\D', '', str(x)))"
   ],
   "metadata": {
    "collapsed": false,
    "ExecuteTime": {
     "end_time": "2024-01-24T12:25:20.350847600Z",
     "start_time": "2024-01-24T12:25:20.019185900Z"
    }
   },
   "id": "95b73cd0db44d2da"
  },
  {
   "cell_type": "code",
   "execution_count": 23,
   "outputs": [],
   "source": [
    "data_haz.id = data_haz.id.astype('int')"
   ],
   "metadata": {
    "collapsed": false,
    "ExecuteTime": {
     "end_time": "2024-01-24T12:25:20.394513200Z",
     "start_time": "2024-01-24T12:25:20.352374500Z"
    }
   },
   "id": "988c24f7e4226d77"
  },
  {
   "cell_type": "code",
   "execution_count": 24,
   "outputs": [],
   "source": [
    "data_haz.loc[(data_haz['start'] == data_haz['stop']) & (data_haz['start'] == 0) & data_haz[\n",
    "    'fl_pass_DET'], 'stop'] = 0.5  # car le modele n'accepte pas les individus qui sortent de la survie au moment ou ils y entrent donc on remplace les 0 par 0.5.\n",
    "\n",
    "data_test.loc[(data_test['start'] == data_test['stop']) & (data_test['start'] == 0) & data_test[\n",
    "    'fl_pass_DET'], 'stop'] = 0.5 "
   ],
   "metadata": {
    "collapsed": false,
    "ExecuteTime": {
     "end_time": "2024-01-24T12:25:20.423834600Z",
     "start_time": "2024-01-24T12:25:20.383437100Z"
    }
   },
   "id": "2ab979c3b3d69472"
  },
  {
   "cell_type": "code",
   "execution_count": 25,
   "outputs": [],
   "source": [
    "data_haz = data_haz.select_dtypes(exclude=[\"datetime64\"])\n",
    "\n",
    "data_test = data_test.select_dtypes(exclude=[\"datetime64\"])"
   ],
   "metadata": {
    "collapsed": false,
    "ExecuteTime": {
     "end_time": "2024-01-24T12:25:20.600865100Z",
     "start_time": "2024-01-24T12:25:20.417018200Z"
    }
   },
   "id": "ef9d87232a297352"
  },
  {
   "cell_type": "code",
   "execution_count": 26,
   "outputs": [],
   "source": [
    "data_haz.drop(columns = [\"cd_op\"], inplace = True)\n",
    "\n",
    "\n",
    "data_test.drop(columns = [\"cd_op\"], inplace = True)"
   ],
   "metadata": {
    "collapsed": false,
    "ExecuteTime": {
     "end_time": "2024-01-24T12:25:20.678297400Z",
     "start_time": "2024-01-24T12:25:20.607664900Z"
    }
   },
   "id": "81715da3355520fa"
  },
  {
   "cell_type": "code",
   "execution_count": 27,
   "outputs": [],
   "source": [
    "data_haz.drop(columns = ['FL_REL_NON_ANNULE', 'niv_gravite_mtf_dne', 'niv_gravite_mtf_dne'],inplace = True)"
   ],
   "metadata": {
    "collapsed": false,
    "ExecuteTime": {
     "end_time": "2024-01-24T12:25:20.757921Z",
     "start_time": "2024-01-24T12:25:20.682957800Z"
    }
   },
   "id": "fd4dac86be778443"
  },
  {
   "cell_type": "code",
   "execution_count": 28,
   "outputs": [
    {
     "data": {
      "text/plain": "(175878, 64)"
     },
     "execution_count": 28,
     "metadata": {},
     "output_type": "execute_result"
    }
   ],
   "source": [
    "data_haz.shape"
   ],
   "metadata": {
    "collapsed": false,
    "ExecuteTime": {
     "end_time": "2024-01-24T12:25:20.766336400Z",
     "start_time": "2024-01-24T12:25:20.743712800Z"
    }
   },
   "id": "63a8880f415059c6"
  },
  {
   "cell_type": "code",
   "execution_count": 72,
   "outputs": [
    {
     "data": {
      "text/plain": "7463"
     },
     "execution_count": 72,
     "metadata": {},
     "output_type": "execute_result"
    }
   ],
   "source": [
    "11301-3838"
   ],
   "metadata": {
    "collapsed": false,
    "ExecuteTime": {
     "end_time": "2024-01-24T15:05:25.173446700Z",
     "start_time": "2024-01-24T15:05:25.154506400Z"
    }
   },
   "id": "651e4325fbb9a385"
  },
  {
   "cell_type": "markdown",
   "source": [
    "# Modelisation"
   ],
   "metadata": {
    "collapsed": false
   },
   "id": "1dd01e92597bc654"
  },
  {
   "cell_type": "code",
   "execution_count": 30,
   "outputs": [],
   "source": [
    "data_cox = data_haz.drop_duplicates(subset = \"id\",keep = 'last') # on retire les doublons\n",
    "test_cox = data_test.drop_duplicates(subset = \"id\",keep = 'last') # on retire les doublons\n",
    "test_cox.drop(columns = ['start','fl_pass_DET', 'id'],inplace = True )"
   ],
   "metadata": {
    "collapsed": false,
    "ExecuteTime": {
     "end_time": "2024-01-24T12:46:01.607487400Z",
     "start_time": "2024-01-24T12:46:01.561114800Z"
    }
   },
   "id": "7bdd1be9a1fbf152"
  },
  {
   "cell_type": "code",
   "execution_count": 31,
   "outputs": [
    {
     "data": {
      "text/plain": "<lifelines.CoxPHFitter: fitted with 11301 total observations, 3838 right-censored observations>"
     },
     "execution_count": 31,
     "metadata": {},
     "output_type": "execute_result"
    }
   ],
   "source": [
    "from lifelines import CoxPHFitter\n",
    "\n",
    "cph = CoxPHFitter(penalizer=0.1)  # Choisir le paramètre de pénalité\n",
    "cph.fit(data_cox.drop(columns = ['id','start']), duration_col='stop', event_col='fl_pass_DET')\n"
   ],
   "metadata": {
    "collapsed": false,
    "ExecuteTime": {
     "end_time": "2024-01-24T12:46:03.791461100Z",
     "start_time": "2024-01-24T12:46:02.329935200Z"
    }
   },
   "id": "68267c0ae6ff0e27"
  },
  {
   "cell_type": "code",
   "execution_count": 32,
   "outputs": [],
   "source": [
    "predictions = cph.predict_survival_function(test_cox)\n"
   ],
   "metadata": {
    "collapsed": false,
    "ExecuteTime": {
     "end_time": "2024-01-24T12:46:04.035602300Z",
     "start_time": "2024-01-24T12:46:03.750565500Z"
    }
   },
   "id": "85c63f97cb066a8b"
  },
  {
   "cell_type": "code",
   "execution_count": 33,
   "outputs": [],
   "source": [
    "predictions = predictions.transpose()"
   ],
   "metadata": {
    "collapsed": false,
    "ExecuteTime": {
     "end_time": "2024-01-24T12:46:04.051694Z",
     "start_time": "2024-01-24T12:46:04.035602300Z"
    }
   },
   "id": "e180c0b76547e915"
  },
  {
   "cell_type": "code",
   "execution_count": 34,
   "outputs": [
    {
     "data": {
      "text/plain": "(6295, 1454)"
     },
     "execution_count": 34,
     "metadata": {},
     "output_type": "execute_result"
    }
   ],
   "source": [
    "predictions.shape"
   ],
   "metadata": {
    "collapsed": false,
    "ExecuteTime": {
     "end_time": "2024-01-24T12:46:04.591600800Z",
     "start_time": "2024-01-24T12:46:04.583158900Z"
    }
   },
   "id": "1af2d7424ad15071"
  },
  {
   "cell_type": "code",
   "execution_count": 75,
   "outputs": [
    {
     "data": {
      "text/plain": "<Figure size 640x480 with 1 Axes>",
      "image/png": "[encoded data removed]"
     },
     "metadata": {},
     "output_type": "display_data"
    }
   ],
   "source": [
    "survival_function_observation_0 = predictions.iloc[746]\n",
    "\n",
    "# Tracer la fonction de survie pour l'observation 0\n",
    "survival_function_observation_0.plot()\n",
    "plt.show()"
   ],
   "metadata": {
    "collapsed": false,
    "ExecuteTime": {
     "end_time": "2024-01-24T15:05:42.509438800Z",
     "start_time": "2024-01-24T15:05:42.355202600Z"
    }
   },
   "id": "644140b51685960c"
  },
  {
   "cell_type": "code",
   "execution_count": 36,
   "outputs": [
    {
     "name": "stdout",
     "output_type": "stream",
     "text": [
      "The ``p_value_threshold`` is set at 0.01. Even under the null hypothesis of no violations, some\n",
      "covariates will be below the threshold by chance. This is compounded when there are many covariates.\n",
      "Similarly, when there are lots of observations, even minor deviances from the proportional hazard\n",
      "assumption will be flagged.\n",
      "\n",
      "With that in mind, it's best to use a combination of statistical tests and visual tests to determine\n",
      "the most serious violations. Produce visual plots using ``check_assumptions(..., show_plots=True)``\n",
      "and looking for non-constant lines. See link [A] below for a full example.\n"
     ]
    },
    {
     "data": {
      "text/plain": "<lifelines.StatisticalResult: proportional_hazard_test>\n null_distribution = chi squared\ndegrees_of_freedom = 1\n             model = <lifelines.CoxPHFitter: fitted with 11301 total observations, 3838 right-censored observations>\n         test_name = proportional_hazard_test\n\n---\n                             test_statistic      p  -log2(p)\nAGE_EMP1               km              1.64   0.20      2.32\n                       rank            1.71   0.19      2.39\nAMI                    km              8.08 <0.005      7.80\n                       rank            7.66   0.01      7.47\nANC_BANC_MAX_PFI       km              0.10   0.75      0.41\n                       rank            0.09   0.76      0.40\nANC_PRO_MAX_PFI        km              0.37   0.54      0.88\n                       rank            0.47   0.49      1.02\nCD_CSP_EMP1            km              0.17   0.68      0.56\n                       rank            0.17   0.68      0.56\nCD_DEST_PFI            km              4.25   0.04      4.67\n                       rank            4.22   0.04      4.64\nCD_DNE_CHR_LGD_SAIN    km              6.75   0.01      6.73\n                       rank            7.61   0.01      7.43\nCD_ETAT_CIVIL          km              0.01   0.94      0.09\n                       rank            0.01   0.91      0.14\nCD_MTF_DFC             km              0.13   0.72      0.47\n                       rank            0.10   0.75      0.41\nCD_MTF_ENE_CTX         km              0.34   0.56      0.83\n                       rank            0.27   0.60      0.73\nCD_NATUR_OP_PFI        km              0.01   0.92      0.12\n                       rank            0.02   0.89      0.17\nCD_NAT_EMP1            km              1.82   0.18      2.49\n                       rank            1.90   0.17      2.57\nCD_SITFAM_EMP1         km              0.57   0.45      1.15\n                       rank            0.70   0.40      1.31\nEAD_1an_avant_def      km             13.95 <0.005     12.38\n                       rank           14.87 <0.005     13.08\nEXE                    km              1.04   0.31      1.70\n                       rank            0.89   0.34      1.54\nFL_ETR                 km              0.02   0.88      0.18\n                       rank            0.03   0.87      0.21\nMR_arr                 km              7.62   0.01      7.44\n                       rank            8.07 <0.005      7.80\nMT_CHA_HORS_OPE_PFI    km              0.00   0.96      0.06\n                       rank            0.00   0.95      0.08\nMT_CHG_MSL             km              0.07   0.79      0.34\n                       rank            0.15   0.69      0.53\nMT_EAD_DNE_CHR_d       km              2.47   0.12      3.11\n                       rank            1.77   0.18      2.44\nMT_EAD_RESID           km              3.16   0.08      3.73\n                       rank            2.43   0.12      3.07\nMT_FMG                 km              7.86   0.01      7.62\n                       rank            7.95 <0.005      7.70\nMT_PATRIM_MOB          km              0.17   0.68      0.55\n                       rank            0.12   0.73      0.45\nMT_PATRIM_NET          km              0.07   0.79      0.34\n                       rank            0.06   0.80      0.32\nMT_REST_VIVRE          km              0.03   0.87      0.19\n                       rank            0.04   0.85      0.24\nMT_REV_PFI             km              0.01   0.94      0.09\n                       rank            0.00   0.95      0.07\nNB_CHARGE_HORS_OPE_PFI km              0.73   0.39      1.34\n                       rank            0.64   0.42      1.24\nNB_DUR_PFI             km              1.69   0.19      2.36\n                       rank            1.32   0.25      1.99\nPTG                    km              0.11   0.74      0.44\n                       rank            0.12   0.72      0.47\nTX_APPOR               km              4.77   0.03      5.11\n                       rank            4.72   0.03      5.07\nTX_ENDET               km              0.05   0.82      0.29\n                       rank            0.04   0.85      0.23\ncum_dec                km             78.37 <0.005     60.02\n                       rank           73.48 <0.005     56.45\ncum_frs_externes       km              7.39   0.01      7.25\n                       rank            8.71 <0.005      8.30\ncum_rec                km              0.93   0.34      1.57\n                       rank            0.84   0.36      1.48\ndat_dec_echec          km             13.18 <0.005     11.79\n                       rank           15.24 <0.005     13.36\ndls_ges_def            km              1.03   0.31      1.69\n                       rank            0.56   0.46      1.13\ndls_mep_entree_def     km              0.00   0.95      0.07\n                       rank            0.02   0.90      0.16\nfam_AEP                km              0.67   0.41      1.27\n                       rank            0.66   0.42      1.26\nfam_ENQ                km             42.53 <0.005     33.74\n                       rank           44.13 <0.005     34.92\nfam_ETH                km            152.40 <0.005    113.90\n                       rank          170.66 <0.005    127.15\nfam_PCD                km              0.68   0.41      1.28\n                       rank            0.37   0.54      0.88\nfam_exp                km              3.66   0.06      4.16\n                       rank            3.12   0.08      3.69\nfam_hyp                km              1.80   0.18      2.47\n                       rank            1.53   0.22      2.21\nfam_sim                km              0.22   0.64      0.64\n                       rank            0.27   0.60      0.73\nfl_def_ss_pass_CTX     km              1.36   0.24      2.04\n                       rank            1.91   0.17      2.58\nfl_fam_vam             km              6.23   0.01      6.32\n                       rank            5.82   0.02      5.98\nfl_fonc                km              0.04   0.84      0.26\n                       rank            0.04   0.85      0.24\nfl_prise_de_gar        km              2.50   0.11      3.13\n                       rank            2.24   0.13      2.90\nfl_prt_Conso           km              0.19   0.66      0.59\n                       rank            0.28   0.60      0.74\nmax_age_ctx            km              0.12   0.72      0.46\n                       rank            0.11   0.74      0.44\nmt_dec_cum_IMP_tot     km             53.40 <0.005     41.74\n                       rank           50.22 <0.005     39.41\nmt_rev_dispo           km              0.44   0.51      0.98\n                       rank            0.42   0.52      0.95\nnb_bienHOP             km              0.57   0.45      1.15\n                       rank            0.59   0.44      1.18\nnb_empr_ope            km              0.85   0.36      1.48\n                       rank            0.80   0.37      1.43\nnb_prt                 km              0.17   0.68      0.55\n                       rank            0.11   0.74      0.43\nniv_gravite_mtf_dfs    km              0.86   0.35      1.50\n                       rank            0.75   0.39      1.37\nno_pass_def            km              2.49   0.11      3.12\n                       rank            2.73   0.10      3.34\nregroup_natur_op       km              0.00   0.95      0.08\n                       rank            0.01   0.92      0.11\nsol_echec              km             81.93 <0.005     62.62\n                       rank           91.87 <0.005     69.87\nsolution               km             54.44 <0.005     42.51\n                       rank           57.25 <0.005     44.56",
      "text/html": "<div>\n<style scoped>\n    .dataframe tbody tr th:only-of-type {\n        vertical-align: middle;\n    }\n\n    .dataframe tbody tr th {\n        vertical-align: top;\n    }\n\n    .dataframe thead th {\n        text-align: right;\n    }\n</style>\n<table border=\"1\" class=\"dataframe\">\n  <tbody>\n    <tr>\n      <th>null_distribution</th>\n      <td>chi squared</td>\n    </tr>\n    <tr>\n      <th>degrees_of_freedom</th>\n      <td>1</td>\n    </tr>\n    <tr>\n      <th>model</th>\n      <td>&lt;lifelines.CoxPHFitter: fitted with 11301 tota...</td>\n    </tr>\n    <tr>\n      <th>test_name</th>\n      <td>proportional_hazard_test</td>\n    </tr>\n  </tbody>\n</table>\n</div><table border=\"1\" class=\"dataframe\">\n  <thead>\n    <tr style=\"text-align: right;\">\n      <th></th>\n      <th></th>\n      <th>test_statistic</th>\n      <th>p</th>\n      <th>-log2(p)</th>\n    </tr>\n  </thead>\n  <tbody>\n    <tr>\n      <th rowspan=\"2\" valign=\"top\">AGE_EMP1</th>\n      <th>km</th>\n      <td>1.64</td>\n      <td>0.20</td>\n      <td>2.32</td>\n    </tr>\n    <tr>\n      <th>rank</th>\n      <td>1.71</td>\n      <td>0.19</td>\n      <td>2.39</td>\n    </tr>\n    <tr>\n      <th rowspan=\"2\" valign=\"top\">AMI</th>\n      <th>km</th>\n      <td>8.08</td>\n      <td>&lt;0.005</td>\n      <td>7.80</td>\n    </tr>\n    <tr>\n      <th>rank</th>\n      <td>7.66</td>\n      <td>0.01</td>\n      <td>7.47</td>\n    </tr>\n    <tr>\n      <th rowspan=\"2\" valign=\"top\">ANC_BANC_MAX_PFI</th>\n      <th>km</th>\n      <td>0.10</td>\n      <td>0.75</td>\n      <td>0.41</td>\n    </tr>\n    <tr>\n      <th>rank</th>\n      <td>0.09</td>\n      <td>0.76</td>\n      <td>0.40</td>\n    </tr>\n    <tr>\n      <th rowspan=\"2\" valign=\"top\">ANC_PRO_MAX_PFI</th>\n      <th>km</th>\n      <td>0.37</td>\n      <td>0.54</td>\n      <td>0.88</td>\n    </tr>\n    <tr>\n      <th>rank</th>\n      <td>0.47</td>\n      <td>0.49</td>\n      <td>1.02</td>\n    </tr>\n    <tr>\n      <th rowspan=\"2\" valign=\"top\">CD_CSP_EMP1</th>\n      <th>km</th>\n      <td>0.17</td>\n      <td>0.68</td>\n      <td>0.56</td>\n    </tr>\n    <tr>\n      <th>rank</th>\n      <td>0.17</td>\n      <td>0.68</td>\n      <td>0.56</td>\n    </tr>\n    <tr>\n      <th rowspan=\"2\" valign=\"top\">CD_DEST_PFI</th>\n      <th>km</th>\n      <td>4.25</td>\n      <td>0.04</td>\n      <td>4.67</td>\n    </tr>\n    <tr>\n      <th>rank</th>\n      <td>4.22</td>\n      <td>0.04</td>\n      <td>4.64</td>\n    </tr>\n    <tr>\n      <th rowspan=\"2\" valign=\"top\">CD_DNE_CHR_LGD_SAIN</th>\n      <th>km</th>\n      <td>6.75</td>\n      <td>0.01</td>\n      <td>6.73</td>\n    </tr>\n    <tr>\n      <th>rank</th>\n      <td>7.61</td>\n      <td>0.01</td>\n      <td>7.43</td>\n    </tr>\n    <tr>\n      <th rowspan=\"2\" valign=\"top\">CD_ETAT_CIVIL</th>\n      <th>km</th>\n      <td>0.01</td>\n      <td>0.94</td>\n      <td>0.09</td>\n    </tr>\n    <tr>\n      <th>rank</th>\n      <td>0.01</td>\n      <td>0.91</td>\n      <td>0.14</td>\n    </tr>\n    <tr>\n      <th rowspan=\"2\" valign=\"top\">CD_MTF_DFC</th>\n      <th>km</th>\n      <td>0.13</td>\n      <td>0.72</td>\n      <td>0.47</td>\n    </tr>\n    <tr>\n      <th>rank</th>\n      <td>0.10</td>\n      <td>0.75</td>\n      <td>0.41</td>\n    </tr>\n    <tr>\n      <th rowspan=\"2\" valign=\"top\">CD_MTF_ENE_CTX</th>\n      <th>km</th>\n      <td>0.34</td>\n      <td>0.56</td>\n      <td>0.83</td>\n    </tr>\n    <tr>\n      <th>rank</th>\n      <td>0.27</td>\n      <td>0.60</td>\n      <td>0.73</td>\n    </tr>\n    <tr>\n      <th rowspan=\"2\" valign=\"top\">CD_NATUR_OP_PFI</th>\n      <th>km</th>\n      <td>0.01</td>\n      <td>0.92</td>\n      <td>0.12</td>\n    </tr>\n    <tr>\n      <th>rank</th>\n      <td>0.02</td>\n      <td>0.89</td>\n      <td>0.17</td>\n    </tr>\n    <tr>\n      <th rowspan=\"2\" valign=\"top\">CD_NAT_EMP1</th>\n      <th>km</th>\n      <td>1.82</td>\n      <td>0.18</td>\n      <td>2.49</td>\n    </tr>\n    <tr>\n      <th>rank</th>\n      <td>1.90</td>\n      <td>0.17</td>\n      <td>2.57</td>\n    </tr>\n    <tr>\n      <th rowspan=\"2\" valign=\"top\">CD_SITFAM_EMP1</th>\n      <th>km</th>\n      <td>0.57</td>\n      <td>0.45</td>\n      <td>1.15</td>\n    </tr>\n    <tr>\n      <th>rank</th>\n      <td>0.70</td>\n      <td>0.40</td>\n      <td>1.31</td>\n    </tr>\n    <tr>\n      <th rowspan=\"2\" valign=\"top\">EAD_1an_avant_def</th>\n      <th>km</th>\n      <td>13.95</td>\n      <td>&lt;0.005</td>\n      <td>12.38</td>\n    </tr>\n    <tr>\n      <th>rank</th>\n      <td>14.87</td>\n      <td>&lt;0.005</td>\n      <td>13.08</td>\n    </tr>\n    <tr>\n      <th rowspan=\"2\" valign=\"top\">EXE</th>\n      <th>km</th>\n      <td>1.04</td>\n      <td>0.31</td>\n      <td>1.70</td>\n    </tr>\n    <tr>\n      <th>rank</th>\n      <td>0.89</td>\n      <td>0.34</td>\n      <td>1.54</td>\n    </tr>\n    <tr>\n      <th rowspan=\"2\" valign=\"top\">FL_ETR</th>\n      <th>km</th>\n      <td>0.02</td>\n      <td>0.88</td>\n      <td>0.18</td>\n    </tr>\n    <tr>\n      <th>rank</th>\n      <td>0.03</td>\n      <td>0.87</td>\n      <td>0.21</td>\n    </tr>\n    <tr>\n      <th rowspan=\"2\" valign=\"top\">MR_arr</th>\n      <th>km</th>\n      <td>7.62</td>\n      <td>0.01</td>\n      <td>7.44</td>\n    </tr>\n    <tr>\n      <th>rank</th>\n      <td>8.07</td>\n      <td>&lt;0.005</td>\n      <td>7.80</td>\n    </tr>\n    <tr>\n      <th rowspan=\"2\" valign=\"top\">MT_CHA_HORS_OPE_PFI</th>\n      <th>km</th>\n      <td>0.00</td>\n      <td>0.96</td>\n      <td>0.06</td>\n    </tr>\n    <tr>\n      <th>rank</th>\n      <td>0.00</td>\n      <td>0.95</td>\n      <td>0.08</td>\n    </tr>\n    <tr>\n      <th rowspan=\"2\" valign=\"top\">MT_CHG_MSL</th>\n      <th>km</th>\n      <td>0.07</td>\n      <td>0.79</td>\n      <td>0.34</td>\n    </tr>\n    <tr>\n      <th>rank</th>\n      <td>0.15</td>\n      <td>0.69</td>\n      <td>0.53</td>\n    </tr>\n    <tr>\n      <th rowspan=\"2\" valign=\"top\">MT_EAD_DNE_CHR_d</th>\n      <th>km</th>\n      <td>2.47</td>\n      <td>0.12</td>\n      <td>3.11</td>\n    </tr>\n    <tr>\n      <th>rank</th>\n      <td>1.77</td>\n      <td>0.18</td>\n      <td>2.44</td>\n    </tr>\n    <tr>\n      <th rowspan=\"2\" valign=\"top\">MT_EAD_RESID</th>\n      <th>km</th>\n      <td>3.16</td>\n      <td>0.08</td>\n      <td>3.73</td>\n    </tr>\n    <tr>\n      <th>rank</th>\n      <td>2.43</td>\n      <td>0.12</td>\n      <td>3.07</td>\n    </tr>\n    <tr>\n      <th rowspan=\"2\" valign=\"top\">MT_FMG</th>\n      <th>km</th>\n      <td>7.86</td>\n      <td>0.01</td>\n      <td>7.62</td>\n    </tr>\n    <tr>\n      <th>rank</th>\n      <td>7.95</td>\n      <td>&lt;0.005</td>\n      <td>7.70</td>\n    </tr>\n    <tr>\n      <th rowspan=\"2\" valign=\"top\">MT_PATRIM_MOB</th>\n      <th>km</th>\n      <td>0.17</td>\n      <td>0.68</td>\n      <td>0.55</td>\n    </tr>\n    <tr>\n      <th>rank</th>\n      <td>0.12</td>\n      <td>0.73</td>\n      <td>0.45</td>\n    </tr>\n    <tr>\n      <th rowspan=\"2\" valign=\"top\">MT_PATRIM_NET</th>\n      <th>km</th>\n      <td>0.07</td>\n      <td>0.79</td>\n      <td>0.34</td>\n    </tr>\n    <tr>\n      <th>rank</th>\n      <td>0.06</td>\n      <td>0.80</td>\n      <td>0.32</td>\n    </tr>\n    <tr>\n      <th rowspan=\"2\" valign=\"top\">MT_REST_VIVRE</th>\n      <th>km</th>\n      <td>0.03</td>\n      <td>0.87</td>\n      <td>0.19</td>\n    </tr>\n    <tr>\n      <th>rank</th>\n      <td>0.04</td>\n      <td>0.85</td>\n      <td>0.24</td>\n    </tr>\n    <tr>\n      <th rowspan=\"2\" valign=\"top\">MT_REV_PFI</th>\n      <th>km</th>\n      <td>0.01</td>\n      <td>0.94</td>\n      <td>0.09</td>\n    </tr>\n    <tr>\n      <th>rank</th>\n      <td>0.00</td>\n      <td>0.95</td>\n      <td>0.07</td>\n    </tr>\n    <tr>\n      <th rowspan=\"2\" valign=\"top\">NB_CHARGE_HORS_OPE_PFI</th>\n      <th>km</th>\n      <td>0.73</td>\n      <td>0.39</td>\n      <td>1.34</td>\n    </tr>\n    <tr>\n      <th>rank</th>\n      <td>0.64</td>\n      <td>0.42</td>\n      <td>1.24</td>\n    </tr>\n    <tr>\n      <th rowspan=\"2\" valign=\"top\">NB_DUR_PFI</th>\n      <th>km</th>\n      <td>1.69</td>\n      <td>0.19</td>\n      <td>2.36</td>\n    </tr>\n    <tr>\n      <th>rank</th>\n      <td>1.32</td>\n      <td>0.25</td>\n      <td>1.99</td>\n    </tr>\n    <tr>\n      <th rowspan=\"2\" valign=\"top\">PTG</th>\n      <th>km</th>\n      <td>0.11</td>\n      <td>0.74</td>\n      <td>0.44</td>\n    </tr>\n    <tr>\n      <th>rank</th>\n      <td>0.12</td>\n      <td>0.72</td>\n      <td>0.47</td>\n    </tr>\n    <tr>\n      <th rowspan=\"2\" valign=\"top\">TX_APPOR</th>\n      <th>km</th>\n      <td>4.77</td>\n      <td>0.03</td>\n      <td>5.11</td>\n    </tr>\n    <tr>\n      <th>rank</th>\n      <td>4.72</td>\n      <td>0.03</td>\n      <td>5.07</td>\n    </tr>\n    <tr>\n      <th rowspan=\"2\" valign=\"top\">TX_ENDET</th>\n      <th>km</th>\n      <td>0.05</td>\n      <td>0.82</td>\n      <td>0.29</td>\n    </tr>\n    <tr>\n      <th>rank</th>\n      <td>0.04</td>\n      <td>0.85</td>\n      <td>0.23</td>\n    </tr>\n    <tr>\n      <th rowspan=\"2\" valign=\"top\">cum_dec</th>\n      <th>km</th>\n      <td>78.37</td>\n      <td>&lt;0.005</td>\n      <td>60.02</td>\n    </tr>\n    <tr>\n      <th>rank</th>\n      <td>73.48</td>\n      <td>&lt;0.005</td>\n      <td>56.45</td>\n    </tr>\n    <tr>\n      <th rowspan=\"2\" valign=\"top\">cum_frs_externes</th>\n      <th>km</th>\n      <td>7.39</td>\n      <td>0.01</td>\n      <td>7.25</td>\n    </tr>\n    <tr>\n      <th>rank</th>\n      <td>8.71</td>\n      <td>&lt;0.005</td>\n      <td>8.30</td>\n    </tr>\n    <tr>\n      <th rowspan=\"2\" valign=\"top\">cum_rec</th>\n      <th>km</th>\n      <td>0.93</td>\n      <td>0.34</td>\n      <td>1.57</td>\n    </tr>\n    <tr>\n      <th>rank</th>\n      <td>0.84</td>\n      <td>0.36</td>\n      <td>1.48</td>\n    </tr>\n    <tr>\n      <th rowspan=\"2\" valign=\"top\">dat_dec_echec</th>\n      <th>km</th>\n      <td>13.18</td>\n      <td>&lt;0.005</td>\n      <td>11.79</td>\n    </tr>\n    <tr>\n      <th>rank</th>\n      <td>15.24</td>\n      <td>&lt;0.005</td>\n      <td>13.36</td>\n    </tr>\n    <tr>\n      <th rowspan=\"2\" valign=\"top\">dls_ges_def</th>\n      <th>km</th>\n      <td>1.03</td>\n      <td>0.31</td>\n      <td>1.69</td>\n    </tr>\n    <tr>\n      <th>rank</th>\n      <td>0.56</td>\n      <td>0.46</td>\n      <td>1.13</td>\n    </tr>\n    <tr>\n      <th rowspan=\"2\" valign=\"top\">dls_mep_entree_def</th>\n      <th>km</th>\n      <td>0.00</td>\n      <td>0.95</td>\n      <td>0.07</td>\n    </tr>\n    <tr>\n      <th>rank</th>\n      <td>0.02</td>\n      <td>0.90</td>\n      <td>0.16</td>\n    </tr>\n    <tr>\n      <th rowspan=\"2\" valign=\"top\">fam_AEP</th>\n      <th>km</th>\n      <td>0.67</td>\n      <td>0.41</td>\n      <td>1.27</td>\n    </tr>\n    <tr>\n      <th>rank</th>\n      <td>0.66</td>\n      <td>0.42</td>\n      <td>1.26</td>\n    </tr>\n    <tr>\n      <th rowspan=\"2\" valign=\"top\">fam_ENQ</th>\n      <th>km</th>\n      <td>42.53</td>\n      <td>&lt;0.005</td>\n      <td>33.74</td>\n    </tr>\n    <tr>\n      <th>rank</th>\n      <td>44.13</td>\n      <td>&lt;0.005</td>\n      <td>34.92</td>\n    </tr>\n    <tr>\n      <th rowspan=\"2\" valign=\"top\">fam_ETH</th>\n      <th>km</th>\n      <td>152.40</td>\n      <td>&lt;0.005</td>\n      <td>113.90</td>\n    </tr>\n    <tr>\n      <th>rank</th>\n      <td>170.66</td>\n      <td>&lt;0.005</td>\n      <td>127.15</td>\n    </tr>\n    <tr>\n      <th rowspan=\"2\" valign=\"top\">fam_PCD</th>\n      <th>km</th>\n      <td>0.68</td>\n      <td>0.41</td>\n      <td>1.28</td>\n    </tr>\n    <tr>\n      <th>rank</th>\n      <td>0.37</td>\n      <td>0.54</td>\n      <td>0.88</td>\n    </tr>\n    <tr>\n      <th rowspan=\"2\" valign=\"top\">fam_exp</th>\n      <th>km</th>\n      <td>3.66</td>\n      <td>0.06</td>\n      <td>4.16</td>\n    </tr>\n    <tr>\n      <th>rank</th>\n      <td>3.12</td>\n      <td>0.08</td>\n      <td>3.69</td>\n    </tr>\n    <tr>\n      <th rowspan=\"2\" valign=\"top\">fam_hyp</th>\n      <th>km</th>\n      <td>1.80</td>\n      <td>0.18</td>\n      <td>2.47</td>\n    </tr>\n    <tr>\n      <th>rank</th>\n      <td>1.53</td>\n      <td>0.22</td>\n      <td>2.21</td>\n    </tr>\n    <tr>\n      <th rowspan=\"2\" valign=\"top\">fam_sim</th>\n      <th>km</th>\n      <td>0.22</td>\n      <td>0.64</td>\n      <td>0.64</td>\n    </tr>\n    <tr>\n      <th>rank</th>\n      <td>0.27</td>\n      <td>0.60</td>\n      <td>0.73</td>\n    </tr>\n    <tr>\n      <th rowspan=\"2\" valign=\"top\">fl_def_ss_pass_CTX</th>\n      <th>km</th>\n      <td>1.36</td>\n      <td>0.24</td>\n      <td>2.04</td>\n    </tr>\n    <tr>\n      <th>rank</th>\n      <td>1.91</td>\n      <td>0.17</td>\n      <td>2.58</td>\n    </tr>\n    <tr>\n      <th rowspan=\"2\" valign=\"top\">fl_fam_vam</th>\n      <th>km</th>\n      <td>6.23</td>\n      <td>0.01</td>\n      <td>6.32</td>\n    </tr>\n    <tr>\n      <th>rank</th>\n      <td>5.82</td>\n      <td>0.02</td>\n      <td>5.98</td>\n    </tr>\n    <tr>\n      <th rowspan=\"2\" valign=\"top\">fl_fonc</th>\n      <th>km</th>\n      <td>0.04</td>\n      <td>0.84</td>\n      <td>0.26</td>\n    </tr>\n    <tr>\n      <th>rank</th>\n      <td>0.04</td>\n      <td>0.85</td>\n      <td>0.24</td>\n    </tr>\n    <tr>\n      <th rowspan=\"2\" valign=\"top\">fl_prise_de_gar</th>\n      <th>km</th>\n      <td>2.50</td>\n      <td>0.11</td>\n      <td>3.13</td>\n    </tr>\n    <tr>\n      <th>rank</th>\n      <td>2.24</td>\n      <td>0.13</td>\n      <td>2.90</td>\n    </tr>\n    <tr>\n      <th rowspan=\"2\" valign=\"top\">fl_prt_Conso</th>\n      <th>km</th>\n      <td>0.19</td>\n      <td>0.66</td>\n      <td>0.59</td>\n    </tr>\n    <tr>\n      <th>rank</th>\n      <td>0.28</td>\n      <td>0.60</td>\n      <td>0.74</td>\n    </tr>\n    <tr>\n      <th rowspan=\"2\" valign=\"top\">max_age_ctx</th>\n      <th>km</th>\n      <td>0.12</td>\n      <td>0.72</td>\n      <td>0.46</td>\n    </tr>\n    <tr>\n      <th>rank</th>\n      <td>0.11</td>\n      <td>0.74</td>\n      <td>0.44</td>\n    </tr>\n    <tr>\n      <th rowspan=\"2\" valign=\"top\">mt_dec_cum_IMP_tot</th>\n      <th>km</th>\n      <td>53.40</td>\n      <td>&lt;0.005</td>\n      <td>41.74</td>\n    </tr>\n    <tr>\n      <th>rank</th>\n      <td>50.22</td>\n      <td>&lt;0.005</td>\n      <td>39.41</td>\n    </tr>\n    <tr>\n      <th rowspan=\"2\" valign=\"top\">mt_rev_dispo</th>\n      <th>km</th>\n      <td>0.44</td>\n      <td>0.51</td>\n      <td>0.98</td>\n    </tr>\n    <tr>\n      <th>rank</th>\n      <td>0.42</td>\n      <td>0.52</td>\n      <td>0.95</td>\n    </tr>\n    <tr>\n      <th rowspan=\"2\" valign=\"top\">nb_bienHOP</th>\n      <th>km</th>\n      <td>0.57</td>\n      <td>0.45</td>\n      <td>1.15</td>\n    </tr>\n    <tr>\n      <th>rank</th>\n      <td>0.59</td>\n      <td>0.44</td>\n      <td>1.18</td>\n    </tr>\n    <tr>\n      <th rowspan=\"2\" valign=\"top\">nb_empr_ope</th>\n      <th>km</th>\n      <td>0.85</td>\n      <td>0.36</td>\n      <td>1.48</td>\n    </tr>\n    <tr>\n      <th>rank</th>\n      <td>0.80</td>\n      <td>0.37</td>\n      <td>1.43</td>\n    </tr>\n    <tr>\n      <th rowspan=\"2\" valign=\"top\">nb_prt</th>\n      <th>km</th>\n      <td>0.17</td>\n      <td>0.68</td>\n      <td>0.55</td>\n    </tr>\n    <tr>\n      <th>rank</th>\n      <td>0.11</td>\n      <td>0.74</td>\n      <td>0.43</td>\n    </tr>\n    <tr>\n      <th rowspan=\"2\" valign=\"top\">niv_gravite_mtf_dfs</th>\n      <th>km</th>\n      <td>0.86</td>\n      <td>0.35</td>\n      <td>1.50</td>\n    </tr>\n    <tr>\n      <th>rank</th>\n      <td>0.75</td>\n      <td>0.39</td>\n      <td>1.37</td>\n    </tr>\n    <tr>\n      <th rowspan=\"2\" valign=\"top\">no_pass_def</th>\n      <th>km</th>\n      <td>2.49</td>\n      <td>0.11</td>\n      <td>3.12</td>\n    </tr>\n    <tr>\n      <th>rank</th>\n      <td>2.73</td>\n      <td>0.10</td>\n      <td>3.34</td>\n    </tr>\n    <tr>\n      <th rowspan=\"2\" valign=\"top\">regroup_natur_op</th>\n      <th>km</th>\n      <td>0.00</td>\n      <td>0.95</td>\n      <td>0.08</td>\n    </tr>\n    <tr>\n      <th>rank</th>\n      <td>0.01</td>\n      <td>0.92</td>\n      <td>0.11</td>\n    </tr>\n    <tr>\n      <th rowspan=\"2\" valign=\"top\">sol_echec</th>\n      <th>km</th>\n      <td>81.93</td>\n      <td>&lt;0.005</td>\n      <td>62.62</td>\n    </tr>\n    <tr>\n      <th>rank</th>\n      <td>91.87</td>\n      <td>&lt;0.005</td>\n      <td>69.87</td>\n    </tr>\n    <tr>\n      <th rowspan=\"2\" valign=\"top\">solution</th>\n      <th>km</th>\n      <td>54.44</td>\n      <td>&lt;0.005</td>\n      <td>42.51</td>\n    </tr>\n    <tr>\n      <th>rank</th>\n      <td>57.25</td>\n      <td>&lt;0.005</td>\n      <td>44.56</td>\n    </tr>\n  </tbody>\n</table>",
      "text/latex": "\\begin{tabular}{llrrr}\n &  & test_statistic & p & -log2(p) \\\\\n\\multirow[c]{2}{*}{AGE_EMP1} & km & 1.64 & 0.20 & 2.32 \\\\\n & rank & 1.71 & 0.19 & 2.39 \\\\\n\\multirow[c]{2}{*}{AMI} & km & 8.08 & 0.00 & 7.80 \\\\\n & rank & 7.66 & 0.01 & 7.47 \\\\\n\\multirow[c]{2}{*}{ANC_BANC_MAX_PFI} & km & 0.10 & 0.75 & 0.41 \\\\\n & rank & 0.09 & 0.76 & 0.40 \\\\\n\\multirow[c]{2}{*}{ANC_PRO_MAX_PFI} & km & 0.37 & 0.54 & 0.88 \\\\\n & rank & 0.47 & 0.49 & 1.02 \\\\\n\\multirow[c]{2}{*}{CD_CSP_EMP1} & km & 0.17 & 0.68 & 0.56 \\\\\n & rank & 0.17 & 0.68 & 0.56 \\\\\n\\multirow[c]{2}{*}{CD_DEST_PFI} & km & 4.25 & 0.04 & 4.67 \\\\\n & rank & 4.22 & 0.04 & 4.64 \\\\\n\\multirow[c]{2}{*}{CD_DNE_CHR_LGD_SAIN} & km & 6.75 & 0.01 & 6.73 \\\\\n & rank & 7.61 & 0.01 & 7.43 \\\\\n\\multirow[c]{2}{*}{CD_ETAT_CIVIL} & km & 0.01 & 0.94 & 0.09 \\\\\n & rank & 0.01 & 0.91 & 0.14 \\\\\n\\multirow[c]{2}{*}{CD_MTF_DFC} & km & 0.13 & 0.72 & 0.47 \\\\\n & rank & 0.10 & 0.75 & 0.41 \\\\\n\\multirow[c]{2}{*}{CD_MTF_ENE_CTX} & km & 0.34 & 0.56 & 0.83 \\\\\n & rank & 0.27 & 0.60 & 0.73 \\\\\n\\multirow[c]{2}{*}{CD_NATUR_OP_PFI} & km & 0.01 & 0.92 & 0.12 \\\\\n & rank & 0.02 & 0.89 & 0.17 \\\\\n\\multirow[c]{2}{*}{CD_NAT_EMP1} & km & 1.82 & 0.18 & 2.49 \\\\\n & rank & 1.90 & 0.17 & 2.57 \\\\\n\\multirow[c]{2}{*}{CD_SITFAM_EMP1} & km & 0.57 & 0.45 & 1.15 \\\\\n & rank & 0.70 & 0.40 & 1.31 \\\\\n\\multirow[c]{2}{*}{EAD_1an_avant_def} & km & 13.95 & 0.00 & 12.38 \\\\\n & rank & 14.87 & 0.00 & 13.08 \\\\\n\\multirow[c]{2}{*}{EXE} & km & 1.04 & 0.31 & 1.70 \\\\\n & rank & 0.89 & 0.34 & 1.54 \\\\\n\\multirow[c]{2}{*}{FL_ETR} & km & 0.02 & 0.88 & 0.18 \\\\\n & rank & 0.03 & 0.87 & 0.21 \\\\\n\\multirow[c]{2}{*}{MR_arr} & km & 7.62 & 0.01 & 7.44 \\\\\n & rank & 8.07 & 0.00 & 7.80 \\\\\n\\multirow[c]{2}{*}{MT_CHA_HORS_OPE_PFI} & km & 0.00 & 0.96 & 0.06 \\\\\n & rank & 0.00 & 0.95 & 0.08 \\\\\n\\multirow[c]{2}{*}{MT_CHG_MSL} & km & 0.07 & 0.79 & 0.34 \\\\\n & rank & 0.15 & 0.69 & 0.53 \\\\\n\\multirow[c]{2}{*}{MT_EAD_DNE_CHR_d} & km & 2.47 & 0.12 & 3.11 \\\\\n & rank & 1.77 & 0.18 & 2.44 \\\\\n\\multirow[c]{2}{*}{MT_EAD_RESID} & km & 3.16 & 0.08 & 3.73 \\\\\n & rank & 2.43 & 0.12 & 3.07 \\\\\n\\multirow[c]{2}{*}{MT_FMG} & km & 7.86 & 0.01 & 7.62 \\\\\n & rank & 7.95 & 0.00 & 7.70 \\\\\n\\multirow[c]{2}{*}{MT_PATRIM_MOB} & km & 0.17 & 0.68 & 0.55 \\\\\n & rank & 0.12 & 0.73 & 0.45 \\\\\n\\multirow[c]{2}{*}{MT_PATRIM_NET} & km & 0.07 & 0.79 & 0.34 \\\\\n & rank & 0.06 & 0.80 & 0.32 \\\\\n\\multirow[c]{2}{*}{MT_REST_VIVRE} & km & 0.03 & 0.87 & 0.19 \\\\\n & rank & 0.04 & 0.85 & 0.24 \\\\\n\\multirow[c]{2}{*}{MT_REV_PFI} & km & 0.01 & 0.94 & 0.09 \\\\\n & rank & 0.00 & 0.95 & 0.07 \\\\\n\\multirow[c]{2}{*}{NB_CHARGE_HORS_OPE_PFI} & km & 0.73 & 0.39 & 1.34 \\\\\n & rank & 0.64 & 0.42 & 1.24 \\\\\n\\multirow[c]{2}{*}{NB_DUR_PFI} & km & 1.69 & 0.19 & 2.36 \\\\\n & rank & 1.32 & 0.25 & 1.99 \\\\\n\\multirow[c]{2}{*}{PTG} & km & 0.11 & 0.74 & 0.44 \\\\\n & rank & 0.12 & 0.72 & 0.47 \\\\\n\\multirow[c]{2}{*}{TX_APPOR} & km & 4.77 & 0.03 & 5.11 \\\\\n & rank & 4.72 & 0.03 & 5.07 \\\\\n\\multirow[c]{2}{*}{TX_ENDET} & km & 0.05 & 0.82 & 0.29 \\\\\n & rank & 0.04 & 0.85 & 0.23 \\\\\n\\multirow[c]{2}{*}{cum_dec} & km & 78.37 & 0.00 & 60.02 \\\\\n & rank & 73.48 & 0.00 & 56.45 \\\\\n\\multirow[c]{2}{*}{cum_frs_externes} & km & 7.39 & 0.01 & 7.25 \\\\\n & rank & 8.71 & 0.00 & 8.30 \\\\\n\\multirow[c]{2}{*}{cum_rec} & km & 0.93 & 0.34 & 1.57 \\\\\n & rank & 0.84 & 0.36 & 1.48 \\\\\n\\multirow[c]{2}{*}{dat_dec_echec} & km & 13.18 & 0.00 & 11.79 \\\\\n & rank & 15.24 & 0.00 & 13.36 \\\\\n\\multirow[c]{2}{*}{dls_ges_def} & km & 1.03 & 0.31 & 1.69 \\\\\n & rank & 0.56 & 0.46 & 1.13 \\\\\n\\multirow[c]{2}{*}{dls_mep_entree_def} & km & 0.00 & 0.95 & 0.07 \\\\\n & rank & 0.02 & 0.90 & 0.16 \\\\\n\\multirow[c]{2}{*}{fam_AEP} & km & 0.67 & 0.41 & 1.27 \\\\\n & rank & 0.66 & 0.42 & 1.26 \\\\\n\\multirow[c]{2}{*}{fam_ENQ} & km & 42.53 & 0.00 & 33.74 \\\\\n & rank & 44.13 & 0.00 & 34.92 \\\\\n\\multirow[c]{2}{*}{fam_ETH} & km & 152.40 & 0.00 & 113.90 \\\\\n & rank & 170.66 & 0.00 & 127.15 \\\\\n\\multirow[c]{2}{*}{fam_PCD} & km & 0.68 & 0.41 & 1.28 \\\\\n & rank & 0.37 & 0.54 & 0.88 \\\\\n\\multirow[c]{2}{*}{fam_exp} & km & 3.66 & 0.06 & 4.16 \\\\\n & rank & 3.12 & 0.08 & 3.69 \\\\\n\\multirow[c]{2}{*}{fam_hyp} & km & 1.80 & 0.18 & 2.47 \\\\\n & rank & 1.53 & 0.22 & 2.21 \\\\\n\\multirow[c]{2}{*}{fam_sim} & km & 0.22 & 0.64 & 0.64 \\\\\n & rank & 0.27 & 0.60 & 0.73 \\\\\n\\multirow[c]{2}{*}{fl_def_ss_pass_CTX} & km & 1.36 & 0.24 & 2.04 \\\\\n & rank & 1.91 & 0.17 & 2.58 \\\\\n\\multirow[c]{2}{*}{fl_fam_vam} & km & 6.23 & 0.01 & 6.32 \\\\\n & rank & 5.82 & 0.02 & 5.98 \\\\\n\\multirow[c]{2}{*}{fl_fonc} & km & 0.04 & 0.84 & 0.26 \\\\\n & rank & 0.04 & 0.85 & 0.24 \\\\\n\\multirow[c]{2}{*}{fl_prise_de_gar} & km & 2.50 & 0.11 & 3.13 \\\\\n & rank & 2.24 & 0.13 & 2.90 \\\\\n\\multirow[c]{2}{*}{fl_prt_Conso} & km & 0.19 & 0.66 & 0.59 \\\\\n & rank & 0.28 & 0.60 & 0.74 \\\\\n\\multirow[c]{2}{*}{max_age_ctx} & km & 0.12 & 0.72 & 0.46 \\\\\n & rank & 0.11 & 0.74 & 0.44 \\\\\n\\multirow[c]{2}{*}{mt_dec_cum_IMP_tot} & km & 53.40 & 0.00 & 41.74 \\\\\n & rank & 50.22 & 0.00 & 39.41 \\\\\n\\multirow[c]{2}{*}{mt_rev_dispo} & km & 0.44 & 0.51 & 0.98 \\\\\n & rank & 0.42 & 0.52 & 0.95 \\\\\n\\multirow[c]{2}{*}{nb_bienHOP} & km & 0.57 & 0.45 & 1.15 \\\\\n & rank & 0.59 & 0.44 & 1.18 \\\\\n\\multirow[c]{2}{*}{nb_empr_ope} & km & 0.85 & 0.36 & 1.48 \\\\\n & rank & 0.80 & 0.37 & 1.43 \\\\\n\\multirow[c]{2}{*}{nb_prt} & km & 0.17 & 0.68 & 0.55 \\\\\n & rank & 0.11 & 0.74 & 0.43 \\\\\n\\multirow[c]{2}{*}{niv_gravite_mtf_dfs} & km & 0.86 & 0.35 & 1.50 \\\\\n & rank & 0.75 & 0.39 & 1.37 \\\\\n\\multirow[c]{2}{*}{no_pass_def} & km & 2.49 & 0.11 & 3.12 \\\\\n & rank & 2.73 & 0.10 & 3.34 \\\\\n\\multirow[c]{2}{*}{regroup_natur_op} & km & 0.00 & 0.95 & 0.08 \\\\\n & rank & 0.01 & 0.92 & 0.11 \\\\\n\\multirow[c]{2}{*}{sol_echec} & km & 81.93 & 0.00 & 62.62 \\\\\n & rank & 91.87 & 0.00 & 69.87 \\\\\n\\multirow[c]{2}{*}{solution} & km & 54.44 & 0.00 & 42.51 \\\\\n & rank & 57.25 & 0.00 & 44.56 \\\\\n\\end{tabular}\n"
     },
     "metadata": {},
     "output_type": "display_data"
    },
    {
     "name": "stdout",
     "output_type": "stream",
     "text": [
      "\n",
      "\n",
      "1. Variable 'cum_dec' failed the non-proportional test: p-value is <5e-05.\n",
      "\n",
      "   Advice 1: the functional form of the variable 'cum_dec' might be incorrect. That is, there may be\n",
      "non-linear terms missing. The proportional hazard test used is very sensitive to incorrect\n",
      "functional forms. See documentation in link [D] below on how to specify a functional form.\n",
      "\n",
      "   Advice 2: try binning the variable 'cum_dec' using pd.cut, and then specify it in\n",
      "`strata=['cum_dec', ...]` in the call in `.fit`. See documentation in link [B] below.\n",
      "\n",
      "   Advice 3: try adding an interaction term with your time variable. See documentation in link [C]\n",
      "below.\n",
      "\n",
      "\n",
      "2. Variable 'cum_frs_externes' failed the non-proportional test: p-value is 0.0032.\n",
      "\n",
      "   Advice 1: the functional form of the variable 'cum_frs_externes' might be incorrect. That is,\n",
      "there may be non-linear terms missing. The proportional hazard test used is very sensitive to\n",
      "incorrect functional forms. See documentation in link [D] below on how to specify a functional form.\n",
      "\n",
      "   Advice 2: try binning the variable 'cum_frs_externes' using pd.cut, and then specify it in\n",
      "`strata=['cum_frs_externes', ...]` in the call in `.fit`. See documentation in link [B] below.\n",
      "\n",
      "   Advice 3: try adding an interaction term with your time variable. See documentation in link [C]\n",
      "below.\n",
      "\n",
      "\n",
      "3. Variable 'CD_DNE_CHR_LGD_SAIN' failed the non-proportional test: p-value is 0.0058.\n",
      "\n",
      "   Advice: with so few unique values (only 5), you can include `strata=['CD_DNE_CHR_LGD_SAIN', ...]`\n",
      "in the call in `.fit`. See documentation in link [E] below.\n",
      "\n",
      "4. Variable 'fl_fam_vam' failed the non-proportional test: p-value is 0.0125.\n",
      "\n",
      "   Advice: with so few unique values (only 2), you can include `strata=['fl_fam_vam', ...]` in the\n",
      "call in `.fit`. See documentation in link [E] below.\n",
      "\n",
      "5. Variable 'fam_ETH' failed the non-proportional test: p-value is <5e-05.\n",
      "\n",
      "   Advice: with so few unique values (only 2), you can include `strata=['fam_ETH', ...]` in the call\n",
      "in `.fit`. See documentation in link [E] below.\n",
      "\n",
      "6. Variable 'fam_ENQ' failed the non-proportional test: p-value is <5e-05.\n",
      "\n",
      "   Advice: with so few unique values (only 2), you can include `strata=['fam_ENQ', ...]` in the call\n",
      "in `.fit`. See documentation in link [E] below.\n",
      "\n",
      "7. Variable 'dat_dec_echec' failed the non-proportional test: p-value is 0.0001.\n",
      "\n",
      "   Advice: with so few unique values (only 2), you can include `strata=['dat_dec_echec', ...]` in\n",
      "the call in `.fit`. See documentation in link [E] below.\n",
      "\n",
      "8. Variable 'solution' failed the non-proportional test: p-value is <5e-05.\n",
      "\n",
      "   Advice: with so few unique values (only 2), you can include `strata=['solution', ...]` in the\n",
      "call in `.fit`. See documentation in link [E] below.\n",
      "\n",
      "9. Variable 'sol_echec' failed the non-proportional test: p-value is <5e-05.\n",
      "\n",
      "   Advice 1: the functional form of the variable 'sol_echec' might be incorrect. That is, there may\n",
      "be non-linear terms missing. The proportional hazard test used is very sensitive to incorrect\n",
      "functional forms. See documentation in link [D] below on how to specify a functional form.\n",
      "\n",
      "   Advice 2: try binning the variable 'sol_echec' using pd.cut, and then specify it in\n",
      "`strata=['sol_echec', ...]` in the call in `.fit`. See documentation in link [B] below.\n",
      "\n",
      "   Advice 3: try adding an interaction term with your time variable. See documentation in link [C]\n",
      "below.\n",
      "\n",
      "\n",
      "10. Variable 'MR_arr' failed the non-proportional test: p-value is 0.0045.\n",
      "\n",
      "   Advice 1: the functional form of the variable 'MR_arr' might be incorrect. That is, there may be\n",
      "non-linear terms missing. The proportional hazard test used is very sensitive to incorrect\n",
      "functional forms. See documentation in link [D] below on how to specify a functional form.\n",
      "\n",
      "   Advice 2: try binning the variable 'MR_arr' using pd.cut, and then specify it in\n",
      "`strata=['MR_arr', ...]` in the call in `.fit`. See documentation in link [B] below.\n",
      "\n",
      "   Advice 3: try adding an interaction term with your time variable. See documentation in link [C]\n",
      "below.\n",
      "\n",
      "\n",
      "11. Variable 'MT_FMG' failed the non-proportional test: p-value is 0.0048.\n",
      "\n",
      "   Advice 1: the functional form of the variable 'MT_FMG' might be incorrect. That is, there may be\n",
      "non-linear terms missing. The proportional hazard test used is very sensitive to incorrect\n",
      "functional forms. See documentation in link [D] below on how to specify a functional form.\n",
      "\n",
      "   Advice 2: try binning the variable 'MT_FMG' using pd.cut, and then specify it in\n",
      "`strata=['MT_FMG', ...]` in the call in `.fit`. See documentation in link [B] below.\n",
      "\n",
      "   Advice 3: try adding an interaction term with your time variable. See documentation in link [C]\n",
      "below.\n",
      "\n",
      "\n",
      "12. Variable 'mt_dec_cum_IMP_tot' failed the non-proportional test: p-value is <5e-05.\n",
      "\n",
      "   Advice 1: the functional form of the variable 'mt_dec_cum_IMP_tot' might be incorrect. That is,\n",
      "there may be non-linear terms missing. The proportional hazard test used is very sensitive to\n",
      "incorrect functional forms. See documentation in link [D] below on how to specify a functional form.\n",
      "\n",
      "   Advice 2: try binning the variable 'mt_dec_cum_IMP_tot' using pd.cut, and then specify it in\n",
      "`strata=['mt_dec_cum_IMP_tot', ...]` in the call in `.fit`. See documentation in link [B] below.\n",
      "\n",
      "   Advice 3: try adding an interaction term with your time variable. See documentation in link [C]\n",
      "below.\n",
      "\n",
      "\n",
      "13. Variable 'EAD_1an_avant_def' failed the non-proportional test: p-value is 0.0001.\n",
      "\n",
      "   Advice 1: the functional form of the variable 'EAD_1an_avant_def' might be incorrect. That is,\n",
      "there may be non-linear terms missing. The proportional hazard test used is very sensitive to\n",
      "incorrect functional forms. See documentation in link [D] below on how to specify a functional form.\n",
      "\n",
      "   Advice 2: try binning the variable 'EAD_1an_avant_def' using pd.cut, and then specify it in\n",
      "`strata=['EAD_1an_avant_def', ...]` in the call in `.fit`. See documentation in link [B] below.\n",
      "\n",
      "   Advice 3: try adding an interaction term with your time variable. See documentation in link [C]\n",
      "below.\n",
      "\n",
      "\n",
      "14. Variable 'AMI' failed the non-proportional test: p-value is 0.0045.\n",
      "\n",
      "   Advice: with so few unique values (only 3), you can include `strata=['AMI', ...]` in the call in\n",
      "`.fit`. See documentation in link [E] below.\n",
      "\n",
      "---\n",
      "[A]  https://lifelines.readthedocs.io/en/latest/jupyter_notebooks/Proportional%20hazard%20assumption.html\n",
      "[B]  https://lifelines.readthedocs.io/en/latest/jupyter_notebooks/Proportional%20hazard%20assumption.html#Bin-variable-and-stratify-on-it\n",
      "[C]  https://lifelines.readthedocs.io/en/latest/jupyter_notebooks/Proportional%20hazard%20assumption.html#Introduce-time-varying-covariates\n",
      "[D]  https://lifelines.readthedocs.io/en/latest/jupyter_notebooks/Proportional%20hazard%20assumption.html#Modify-the-functional-form\n",
      "[E]  https://lifelines.readthedocs.io/en/latest/jupyter_notebooks/Proportional%20hazard%20assumption.html#Stratification\n"
     ]
    },
    {
     "data": {
      "text/plain": "[]"
     },
     "execution_count": 36,
     "metadata": {},
     "output_type": "execute_result"
    }
   ],
   "source": [
    "cph.check_assumptions(data_cox.drop(columns = ['id','start']))"
   ],
   "metadata": {
    "collapsed": false,
    "ExecuteTime": {
     "end_time": "2024-01-24T12:47:48.057691600Z",
     "start_time": "2024-01-24T12:47:44.579713900Z"
    }
   },
   "id": "2d0c1c84ca0f9498"
  },
  {
   "cell_type": "code",
   "execution_count": 45,
   "outputs": [
    {
     "data": {
      "text/plain": "111509.54473965106"
     },
     "execution_count": 45,
     "metadata": {},
     "output_type": "execute_result"
    }
   ],
   "source": [
    "cph.AIC_partial_"
   ],
   "metadata": {
    "collapsed": false,
    "ExecuteTime": {
     "end_time": "2024-01-24T14:22:31.748837900Z",
     "start_time": "2024-01-24T14:22:31.717124700Z"
    }
   },
   "id": "c406f8a94e774bb8"
  },
  {
   "cell_type": "code",
   "execution_count": 51,
   "outputs": [
    {
     "data": {
      "text/plain": "<lifelines.CoxPHFitter: fitted with 11301 total observations, 3838 right-censored observations>\n             duration col = 'stop'\n                event col = 'fl_pass_DET'\n                penalizer = 0.1\n                 l1 ratio = 0.0\n      baseline estimation = breslow\n   number of observations = 11301\nnumber of events observed = 7463\n   partial log-likelihood = -55694.77\n         time fit was run = 2024-01-24 12:46:02 UTC\n\n---\n                         coef  exp(coef)   se(coef)   coef lower 95%   coef upper 95%  exp(coef) lower 95%  exp(coef) upper 95%\ncovariate                                                                                                                      \nnb_prt                   0.02       1.02       0.02            -0.03             0.06                 0.97                 1.07\nCD_NAT_EMP1             11.16   70335.72       7.93            -4.38            26.71                 0.01             3.97e+11\nANC_BANC_MAX_PFI         0.00       1.00       0.00            -0.00             0.00                 1.00                 1.00\nCD_DEST_PFI              4.07      58.61       3.00            -1.82             9.96                 0.16             21127.76\nCD_NATUR_OP_PFI          3.73      41.80       3.87            -3.86            11.33                 0.02             82991.09\nMT_PATRIM_MOB            0.00       1.00       0.00            -0.00             0.00                 1.00                 1.00\nMT_CHA_HORS_OPE_PFI     -0.00       1.00       0.00            -0.00             0.00                 1.00                 1.00\nNB_CHARGE_HORS_OPE_PFI  -0.00       1.00       0.01            -0.02             0.01                 0.98                 1.01\nMT_PATRIM_NET           -0.00       1.00       0.00            -0.00             0.00                 1.00                 1.00\nMT_REV_PFI              -0.00       1.00       0.00            -0.00             0.00                 1.00                 1.00\nNB_DUR_PFI              -0.00       1.00       0.00            -0.00            -0.00                 1.00                 1.00\nTX_APPOR                 0.04       1.04       0.03            -0.02             0.11                 0.98                 1.12\nFL_ETR                  -0.03       0.97       0.03            -0.09             0.03                 0.91                 1.03\nCD_ETAT_CIVIL            0.01       1.01       0.01            -0.00             0.03                 1.00                 1.03\nCD_CSP_EMP1              5.42     226.42       3.28            -1.01            11.85                 0.37             1.40e+05\nCD_SITFAM_EMP1           5.32     204.34       4.01            -2.54            13.18                 0.08             5.30e+05\ncum_dec                  0.00       1.00       0.00             0.00             0.00                 1.00                 1.00\ncum_rec                 -0.00       1.00       0.00            -0.00            -0.00                 1.00                 1.00\ncum_frs_externes        -0.00       1.00       0.00            -0.00             0.00                 1.00                 1.00\nCD_DNE_CHR_LGD_SAIN      0.01       1.01       0.01            -0.00             0.02                 1.00                 1.02\nMT_EAD_RESID            -0.00       1.00       0.00            -0.00            -0.00                 1.00                 1.00\nMT_EAD_DNE_CHR_d        -0.00       1.00       0.00            -0.00            -0.00                 1.00                 1.00\nfl_prise_de_gar          0.03       1.03       0.04            -0.05             0.12                 0.95                 1.12\nfl_fam_vam               0.24       1.27       0.03             0.18             0.30                 1.19                 1.35\nfam_ETH                 -0.61       0.54       0.04            -0.69            -0.53                 0.50                 0.59\nfam_ENQ                 -0.15       0.86       0.02            -0.19            -0.10                 0.82                 0.90\nfam_exp                 -0.23       0.80       0.08            -0.39            -0.07                 0.68                 0.93\nfam_hyp                 -0.09       0.91       0.04            -0.18            -0.01                 0.84                 0.99\nfam_sim                 -0.06       0.94       0.21            -0.48             0.36                 0.62                 1.43\nfam_AEP                 -0.27       0.76       0.08            -0.44            -0.11                 0.65                 0.90\ndat_dec_echec           -0.29       0.75       0.05            -0.39            -0.20                 0.68                 0.82\nsolution                -0.36       0.69       0.03            -0.43            -0.30                 0.65                 0.74\nfam_PCD                  1.27       3.55       0.05             1.18             1.36                 3.24                 3.89\nsol_echec               -4.45       0.01       0.83            -6.08            -2.82                 0.00                 0.06\nMR_arr                   0.00       1.00       0.00             0.00             0.00                 1.00                 1.00\nCD_MTF_ENE_CTX          -0.00       1.00       0.00            -0.01            -0.00                 0.99                 1.00\nCD_MTF_DFC               3.99      54.12       0.52             2.97             5.01                19.55               149.77\nniv_gravite_mtf_dfs      0.05       1.05       0.02             0.01             0.09                 1.01                 1.09\nno_pass_def             -0.12       0.89       0.05            -0.21            -0.03                 0.81                 0.97\ndls_mep_entree_def       0.00       1.00       0.00             0.00             0.00                 1.00                 1.00\nnb_bienHOP              -0.02       0.98       0.01            -0.04             0.00                 0.96                 1.00\nANC_PRO_MAX_PFI          0.00       1.00       0.00            -0.00             0.00                 1.00                 1.00\nmax_age_ctx              0.00       1.00       0.00             0.00             0.00                 1.00                 1.00\nnb_empr_ope             -0.06       0.95       0.03            -0.11            -0.00                 0.90                 1.00\nfl_def_ss_pass_CTX      -1.16       0.31       0.25            -1.66            -0.67                 0.19                 0.51\nfl_prt_Conso             0.02       1.02       0.03            -0.03             0.07                 0.97                 1.07\nfl_fonc                  0.02       1.02       0.03            -0.03             0.07                 0.97                 1.07\nregroup_natur_op         3.13      22.92      14.99           -26.24            32.50                 0.00             1.31e+14\nMT_FMG                  -0.00       1.00       0.00            -0.00             0.00                 1.00                 1.00\nmt_dec_cum_IMP_tot      -0.00       1.00       0.00            -0.00            -0.00                 1.00                 1.00\nMT_CHG_MSL               0.00       1.00       0.00            -0.00             0.00                 1.00                 1.00\nmt_rev_dispo            -0.00       1.00       0.00            -0.00            -0.00                 1.00                 1.00\nEAD_1an_avant_def       -0.00       1.00       0.00            -0.00             0.00                 1.00                 1.00\ndls_ges_def             -0.16       0.86       0.00            -0.16            -0.15                 0.85                 0.86\nAMI                     -0.27       0.76       0.03            -0.32            -0.22                 0.72                 0.80\nEXE                     -0.16       0.85       0.10            -0.35             0.03                 0.70                 1.03\nPTG                      0.05       1.05       0.04            -0.03             0.13                 0.97                 1.14\nAGE_EMP1                -0.01       0.99       0.00            -0.01            -0.00                 0.99                 1.00\nTX_ENDET                 0.00       1.00       0.00            -0.00             0.00                 1.00                 1.00\nMT_REST_VIVRE            0.00       1.00       0.00            -0.00             0.00                 1.00                 1.00\n\n                         cmp to      z      p   -log2(p)\ncovariate                                               \nnb_prt                     0.00   0.62   0.54       0.90\nCD_NAT_EMP1                0.00   1.41   0.16       2.65\nANC_BANC_MAX_PFI           0.00   0.49   0.62       0.68\nCD_DEST_PFI                0.00   1.36   0.18       2.51\nCD_NATUR_OP_PFI            0.00   0.96   0.34       1.58\nMT_PATRIM_MOB              0.00   0.86   0.39       1.36\nMT_CHA_HORS_OPE_PFI        0.00  -0.19   0.85       0.23\nNB_CHARGE_HORS_OPE_PFI     0.00  -0.33   0.74       0.43\nMT_PATRIM_NET              0.00  -0.40   0.69       0.54\nMT_REV_PFI                 0.00  -0.78   0.44       1.19\nNB_DUR_PFI                 0.00  -5.40 <0.005      23.82\nTX_APPOR                   0.00   1.26   0.21       2.28\nFL_ETR                     0.00  -0.92   0.35       1.49\nCD_ETAT_CIVIL              0.00   1.94   0.05       4.26\nCD_CSP_EMP1                0.00   1.65   0.10       3.35\nCD_SITFAM_EMP1             0.00   1.33   0.18       2.44\ncum_dec                    0.00  20.43 <0.005     305.76\ncum_rec                    0.00  -3.77 <0.005      12.58\ncum_frs_externes           0.00  -1.38   0.17       2.57\nCD_DNE_CHR_LGD_SAIN        0.00   1.51   0.13       2.92\nMT_EAD_RESID               0.00  -6.18 <0.005      30.52\nMT_EAD_DNE_CHR_d           0.00  -5.99 <0.005      28.81\nfl_prise_de_gar            0.00   0.81   0.42       1.25\nfl_fam_vam                 0.00   7.56 <0.005      44.48\nfam_ETH                    0.00 -14.64 <0.005     158.80\nfam_ENQ                    0.00  -6.29 <0.005      31.51\nfam_exp                    0.00  -2.79   0.01       7.55\nfam_hyp                    0.00  -2.20   0.03       5.16\nfam_sim                    0.00  -0.28   0.78       0.36\nfam_AEP                    0.00  -3.26 <0.005       9.78\ndat_dec_echec              0.00  -6.20 <0.005      30.71\nsolution                   0.00 -11.27 <0.005      95.51\nfam_PCD                    0.00  27.00 <0.005     530.97\nsol_echec                  0.00  -5.36 <0.005      23.50\nMR_arr                     0.00   4.84 <0.005      19.57\nCD_MTF_ENE_CTX             0.00  -2.54   0.01       6.51\nCD_MTF_DFC                 0.00   7.68 <0.005      45.89\nniv_gravite_mtf_dfs        0.00   2.25   0.02       5.34\nno_pass_def                0.00  -2.66   0.01       7.01\ndls_mep_entree_def         0.00   2.31   0.02       5.57\nnb_bienHOP                 0.00  -1.51   0.13       2.93\nANC_PRO_MAX_PFI            0.00   0.57   0.57       0.81\nmax_age_ctx                0.00   2.02   0.04       4.51\nnb_empr_ope                0.00  -2.15   0.03       4.97\nfl_def_ss_pass_CTX         0.00  -4.62 <0.005      17.97\nfl_prt_Conso               0.00   0.76   0.45       1.16\nfl_fonc                    0.00   0.63   0.53       0.91\nregroup_natur_op           0.00   0.21   0.83       0.26\nMT_FMG                     0.00  -0.41   0.68       0.55\nmt_dec_cum_IMP_tot         0.00  -6.20 <0.005      30.73\nMT_CHG_MSL                 0.00   0.64   0.52       0.94\nmt_rev_dispo               0.00  -2.15   0.03       4.97\nEAD_1an_avant_def          0.00  -1.66   0.10       3.36\ndls_ges_def                0.00 -80.82 <0.005        inf\nAMI                        0.00  -9.96 <0.005      75.20\nEXE                        0.00  -1.68   0.09       3.42\nPTG                        0.00   1.24   0.22       2.21\nAGE_EMP1                   0.00  -3.54 <0.005      11.31\nTX_ENDET                   0.00   0.32   0.75       0.41\nMT_REST_VIVRE              0.00   0.41   0.68       0.55\n---\nConcordance = 0.94\nPartial AIC = 111509.54\nlog-likelihood ratio test = 14754.41 on 60 df\n-log2(p) of ll-ratio test = inf",
      "text/html": "<div>\n<style scoped>\n    .dataframe tbody tr th:only-of-type {\n        vertical-align: middle;\n    }\n\n    .dataframe tbody tr th {\n        vertical-align: top;\n    }\n\n    .dataframe thead th {\n        text-align: right;\n    }\n</style>\n<table border=\"1\" class=\"dataframe\">\n  <tbody>\n    <tr>\n      <th>model</th>\n      <td>lifelines.CoxPHFitter</td>\n    </tr>\n    <tr>\n      <th>duration col</th>\n      <td>'stop'</td>\n    </tr>\n    <tr>\n      <th>event col</th>\n      <td>'fl_pass_DET'</td>\n    </tr>\n    <tr>\n      <th>penalizer</th>\n      <td>0.1</td>\n    </tr>\n    <tr>\n      <th>l1 ratio</th>\n      <td>0.0</td>\n    </tr>\n    <tr>\n      <th>baseline estimation</th>\n      <td>breslow</td>\n    </tr>\n    <tr>\n      <th>number of observations</th>\n      <td>11301</td>\n    </tr>\n    <tr>\n      <th>number of events observed</th>\n      <td>7463</td>\n    </tr>\n    <tr>\n      <th>partial log-likelihood</th>\n      <td>-55694.77</td>\n    </tr>\n    <tr>\n      <th>time fit was run</th>\n      <td>2024-01-24 12:46:02 UTC</td>\n    </tr>\n  </tbody>\n</table>\n</div><table border=\"1\" class=\"dataframe\">\n  <thead>\n    <tr style=\"text-align: right;\">\n      <th style=\"min-width: 12px;\"></th>\n      <th style=\"min-width: 12px;\">coef</th>\n      <th style=\"min-width: 12px;\">exp(coef)</th>\n      <th style=\"min-width: 12px;\">se(coef)</th>\n      <th style=\"min-width: 12px;\">coef lower 95%</th>\n      <th style=\"min-width: 12px;\">coef upper 95%</th>\n      <th style=\"min-width: 12px;\">exp(coef) lower 95%</th>\n      <th style=\"min-width: 12px;\">exp(coef) upper 95%</th>\n      <th style=\"min-width: 12px;\">cmp to</th>\n      <th style=\"min-width: 12px;\">z</th>\n      <th style=\"min-width: 12px;\">p</th>\n      <th style=\"min-width: 12px;\">-log2(p)</th>\n    </tr>\n  </thead>\n  <tbody>\n    <tr>\n      <th>nb_prt</th>\n      <td>0.02</td>\n      <td>1.02</td>\n      <td>0.02</td>\n      <td>-0.03</td>\n      <td>0.06</td>\n      <td>0.97</td>\n      <td>1.07</td>\n      <td>0.00</td>\n      <td>0.62</td>\n      <td>0.54</td>\n      <td>0.90</td>\n    </tr>\n    <tr>\n      <th>CD_NAT_EMP1</th>\n      <td>11.16</td>\n      <td>70335.72</td>\n      <td>7.93</td>\n      <td>-4.38</td>\n      <td>26.71</td>\n      <td>0.01</td>\n      <td>3.97e+11</td>\n      <td>0.00</td>\n      <td>1.41</td>\n      <td>0.16</td>\n      <td>2.65</td>\n    </tr>\n    <tr>\n      <th>ANC_BANC_MAX_PFI</th>\n      <td>0.00</td>\n      <td>1.00</td>\n      <td>0.00</td>\n      <td>-0.00</td>\n      <td>0.00</td>\n      <td>1.00</td>\n      <td>1.00</td>\n      <td>0.00</td>\n      <td>0.49</td>\n      <td>0.62</td>\n      <td>0.68</td>\n    </tr>\n    <tr>\n      <th>CD_DEST_PFI</th>\n      <td>4.07</td>\n      <td>58.61</td>\n      <td>3.00</td>\n      <td>-1.82</td>\n      <td>9.96</td>\n      <td>0.16</td>\n      <td>21127.76</td>\n      <td>0.00</td>\n      <td>1.36</td>\n      <td>0.18</td>\n      <td>2.51</td>\n    </tr>\n    <tr>\n      <th>CD_NATUR_OP_PFI</th>\n      <td>3.73</td>\n      <td>41.80</td>\n      <td>3.87</td>\n      <td>-3.86</td>\n      <td>11.33</td>\n      <td>0.02</td>\n      <td>82991.09</td>\n      <td>0.00</td>\n      <td>0.96</td>\n      <td>0.34</td>\n      <td>1.58</td>\n    </tr>\n    <tr>\n      <th>MT_PATRIM_MOB</th>\n      <td>0.00</td>\n      <td>1.00</td>\n      <td>0.00</td>\n      <td>-0.00</td>\n      <td>0.00</td>\n      <td>1.00</td>\n      <td>1.00</td>\n      <td>0.00</td>\n      <td>0.86</td>\n      <td>0.39</td>\n      <td>1.36</td>\n    </tr>\n    <tr>\n      <th>MT_CHA_HORS_OPE_PFI</th>\n      <td>-0.00</td>\n      <td>1.00</td>\n      <td>0.00</td>\n      <td>-0.00</td>\n      <td>0.00</td>\n      <td>1.00</td>\n      <td>1.00</td>\n      <td>0.00</td>\n      <td>-0.19</td>\n      <td>0.85</td>\n      <td>0.23</td>\n    </tr>\n    <tr>\n      <th>NB_CHARGE_HORS_OPE_PFI</th>\n      <td>-0.00</td>\n      <td>1.00</td>\n      <td>0.01</td>\n      <td>-0.02</td>\n      <td>0.01</td>\n      <td>0.98</td>\n      <td>1.01</td>\n      <td>0.00</td>\n      <td>-0.33</td>\n      <td>0.74</td>\n      <td>0.43</td>\n    </tr>\n    <tr>\n      <th>MT_PATRIM_NET</th>\n      <td>-0.00</td>\n      <td>1.00</td>\n      <td>0.00</td>\n      <td>-0.00</td>\n      <td>0.00</td>\n      <td>1.00</td>\n      <td>1.00</td>\n      <td>0.00</td>\n      <td>-0.40</td>\n      <td>0.69</td>\n      <td>0.54</td>\n    </tr>\n    <tr>\n      <th>MT_REV_PFI</th>\n      <td>-0.00</td>\n      <td>1.00</td>\n      <td>0.00</td>\n      <td>-0.00</td>\n      <td>0.00</td>\n      <td>1.00</td>\n      <td>1.00</td>\n      <td>0.00</td>\n      <td>-0.78</td>\n      <td>0.44</td>\n      <td>1.19</td>\n    </tr>\n    <tr>\n      <th>NB_DUR_PFI</th>\n      <td>-0.00</td>\n      <td>1.00</td>\n      <td>0.00</td>\n      <td>-0.00</td>\n      <td>-0.00</td>\n      <td>1.00</td>\n      <td>1.00</td>\n      <td>0.00</td>\n      <td>-5.40</td>\n      <td>&lt;0.005</td>\n      <td>23.82</td>\n    </tr>\n    <tr>\n      <th>TX_APPOR</th>\n      <td>0.04</td>\n      <td>1.04</td>\n      <td>0.03</td>\n      <td>-0.02</td>\n      <td>0.11</td>\n      <td>0.98</td>\n      <td>1.12</td>\n      <td>0.00</td>\n      <td>1.26</td>\n      <td>0.21</td>\n      <td>2.28</td>\n    </tr>\n    <tr>\n      <th>FL_ETR</th>\n      <td>-0.03</td>\n      <td>0.97</td>\n      <td>0.03</td>\n      <td>-0.09</td>\n      <td>0.03</td>\n      <td>0.91</td>\n      <td>1.03</td>\n      <td>0.00</td>\n      <td>-0.92</td>\n      <td>0.35</td>\n      <td>1.49</td>\n    </tr>\n    <tr>\n      <th>CD_ETAT_CIVIL</th>\n      <td>0.01</td>\n      <td>1.01</td>\n      <td>0.01</td>\n      <td>-0.00</td>\n      <td>0.03</td>\n      <td>1.00</td>\n      <td>1.03</td>\n      <td>0.00</td>\n      <td>1.94</td>\n      <td>0.05</td>\n      <td>4.26</td>\n    </tr>\n    <tr>\n      <th>CD_CSP_EMP1</th>\n      <td>5.42</td>\n      <td>226.42</td>\n      <td>3.28</td>\n      <td>-1.01</td>\n      <td>11.85</td>\n      <td>0.37</td>\n      <td>1.40e+05</td>\n      <td>0.00</td>\n      <td>1.65</td>\n      <td>0.10</td>\n      <td>3.35</td>\n    </tr>\n    <tr>\n      <th>CD_SITFAM_EMP1</th>\n      <td>5.32</td>\n      <td>204.34</td>\n      <td>4.01</td>\n      <td>-2.54</td>\n      <td>13.18</td>\n      <td>0.08</td>\n      <td>5.30e+05</td>\n      <td>0.00</td>\n      <td>1.33</td>\n      <td>0.18</td>\n      <td>2.44</td>\n    </tr>\n    <tr>\n      <th>cum_dec</th>\n      <td>0.00</td>\n      <td>1.00</td>\n      <td>0.00</td>\n      <td>0.00</td>\n      <td>0.00</td>\n      <td>1.00</td>\n      <td>1.00</td>\n      <td>0.00</td>\n      <td>20.43</td>\n      <td>&lt;0.005</td>\n      <td>305.76</td>\n    </tr>\n    <tr>\n      <th>cum_rec</th>\n      <td>-0.00</td>\n      <td>1.00</td>\n      <td>0.00</td>\n      <td>-0.00</td>\n      <td>-0.00</td>\n      <td>1.00</td>\n      <td>1.00</td>\n      <td>0.00</td>\n      <td>-3.77</td>\n      <td>&lt;0.005</td>\n      <td>12.58</td>\n    </tr>\n    <tr>\n      <th>cum_frs_externes</th>\n      <td>-0.00</td>\n      <td>1.00</td>\n      <td>0.00</td>\n      <td>-0.00</td>\n      <td>0.00</td>\n      <td>1.00</td>\n      <td>1.00</td>\n      <td>0.00</td>\n      <td>-1.38</td>\n      <td>0.17</td>\n      <td>2.57</td>\n    </tr>\n    <tr>\n      <th>CD_DNE_CHR_LGD_SAIN</th>\n      <td>0.01</td>\n      <td>1.01</td>\n      <td>0.01</td>\n      <td>-0.00</td>\n      <td>0.02</td>\n      <td>1.00</td>\n      <td>1.02</td>\n      <td>0.00</td>\n      <td>1.51</td>\n      <td>0.13</td>\n      <td>2.92</td>\n    </tr>\n    <tr>\n      <th>MT_EAD_RESID</th>\n      <td>-0.00</td>\n      <td>1.00</td>\n      <td>0.00</td>\n      <td>-0.00</td>\n      <td>-0.00</td>\n      <td>1.00</td>\n      <td>1.00</td>\n      <td>0.00</td>\n      <td>-6.18</td>\n      <td>&lt;0.005</td>\n      <td>30.52</td>\n    </tr>\n    <tr>\n      <th>MT_EAD_DNE_CHR_d</th>\n      <td>-0.00</td>\n      <td>1.00</td>\n      <td>0.00</td>\n      <td>-0.00</td>\n      <td>-0.00</td>\n      <td>1.00</td>\n      <td>1.00</td>\n      <td>0.00</td>\n      <td>-5.99</td>\n      <td>&lt;0.005</td>\n      <td>28.81</td>\n    </tr>\n    <tr>\n      <th>fl_prise_de_gar</th>\n      <td>0.03</td>\n      <td>1.03</td>\n      <td>0.04</td>\n      <td>-0.05</td>\n      <td>0.12</td>\n      <td>0.95</td>\n      <td>1.12</td>\n      <td>0.00</td>\n      <td>0.81</td>\n      <td>0.42</td>\n      <td>1.25</td>\n    </tr>\n    <tr>\n      <th>fl_fam_vam</th>\n      <td>0.24</td>\n      <td>1.27</td>\n      <td>0.03</td>\n      <td>0.18</td>\n      <td>0.30</td>\n      <td>1.19</td>\n      <td>1.35</td>\n      <td>0.00</td>\n      <td>7.56</td>\n      <td>&lt;0.005</td>\n      <td>44.48</td>\n    </tr>\n    <tr>\n      <th>fam_ETH</th>\n      <td>-0.61</td>\n      <td>0.54</td>\n      <td>0.04</td>\n      <td>-0.69</td>\n      <td>-0.53</td>\n      <td>0.50</td>\n      <td>0.59</td>\n      <td>0.00</td>\n      <td>-14.64</td>\n      <td>&lt;0.005</td>\n      <td>158.80</td>\n    </tr>\n    <tr>\n      <th>fam_ENQ</th>\n      <td>-0.15</td>\n      <td>0.86</td>\n      <td>0.02</td>\n      <td>-0.19</td>\n      <td>-0.10</td>\n      <td>0.82</td>\n      <td>0.90</td>\n      <td>0.00</td>\n      <td>-6.29</td>\n      <td>&lt;0.005</td>\n      <td>31.51</td>\n    </tr>\n    <tr>\n      <th>fam_exp</th>\n      <td>-0.23</td>\n      <td>0.80</td>\n      <td>0.08</td>\n      <td>-0.39</td>\n      <td>-0.07</td>\n      <td>0.68</td>\n      <td>0.93</td>\n      <td>0.00</td>\n      <td>-2.79</td>\n      <td>0.01</td>\n      <td>7.55</td>\n    </tr>\n    <tr>\n      <th>fam_hyp</th>\n      <td>-0.09</td>\n      <td>0.91</td>\n      <td>0.04</td>\n      <td>-0.18</td>\n      <td>-0.01</td>\n      <td>0.84</td>\n      <td>0.99</td>\n      <td>0.00</td>\n      <td>-2.20</td>\n      <td>0.03</td>\n      <td>5.16</td>\n    </tr>\n    <tr>\n      <th>fam_sim</th>\n      <td>-0.06</td>\n      <td>0.94</td>\n      <td>0.21</td>\n      <td>-0.48</td>\n      <td>0.36</td>\n      <td>0.62</td>\n      <td>1.43</td>\n      <td>0.00</td>\n      <td>-0.28</td>\n      <td>0.78</td>\n      <td>0.36</td>\n    </tr>\n    <tr>\n      <th>fam_AEP</th>\n      <td>-0.27</td>\n      <td>0.76</td>\n      <td>0.08</td>\n      <td>-0.44</td>\n      <td>-0.11</td>\n      <td>0.65</td>\n      <td>0.90</td>\n      <td>0.00</td>\n      <td>-3.26</td>\n      <td>&lt;0.005</td>\n      <td>9.78</td>\n    </tr>\n    <tr>\n      <th>dat_dec_echec</th>\n      <td>-0.29</td>\n      <td>0.75</td>\n      <td>0.05</td>\n      <td>-0.39</td>\n      <td>-0.20</td>\n      <td>0.68</td>\n      <td>0.82</td>\n      <td>0.00</td>\n      <td>-6.20</td>\n      <td>&lt;0.005</td>\n      <td>30.71</td>\n    </tr>\n    <tr>\n      <th>solution</th>\n      <td>-0.36</td>\n      <td>0.69</td>\n      <td>0.03</td>\n      <td>-0.43</td>\n      <td>-0.30</td>\n      <td>0.65</td>\n      <td>0.74</td>\n      <td>0.00</td>\n      <td>-11.27</td>\n      <td>&lt;0.005</td>\n      <td>95.51</td>\n    </tr>\n    <tr>\n      <th>fam_PCD</th>\n      <td>1.27</td>\n      <td>3.55</td>\n      <td>0.05</td>\n      <td>1.18</td>\n      <td>1.36</td>\n      <td>3.24</td>\n      <td>3.89</td>\n      <td>0.00</td>\n      <td>27.00</td>\n      <td>&lt;0.005</td>\n      <td>530.97</td>\n    </tr>\n    <tr>\n      <th>sol_echec</th>\n      <td>-4.45</td>\n      <td>0.01</td>\n      <td>0.83</td>\n      <td>-6.08</td>\n      <td>-2.82</td>\n      <td>0.00</td>\n      <td>0.06</td>\n      <td>0.00</td>\n      <td>-5.36</td>\n      <td>&lt;0.005</td>\n      <td>23.50</td>\n    </tr>\n    <tr>\n      <th>MR_arr</th>\n      <td>0.00</td>\n      <td>1.00</td>\n      <td>0.00</td>\n      <td>0.00</td>\n      <td>0.00</td>\n      <td>1.00</td>\n      <td>1.00</td>\n      <td>0.00</td>\n      <td>4.84</td>\n      <td>&lt;0.005</td>\n      <td>19.57</td>\n    </tr>\n    <tr>\n      <th>CD_MTF_ENE_CTX</th>\n      <td>-0.00</td>\n      <td>1.00</td>\n      <td>0.00</td>\n      <td>-0.01</td>\n      <td>-0.00</td>\n      <td>0.99</td>\n      <td>1.00</td>\n      <td>0.00</td>\n      <td>-2.54</td>\n      <td>0.01</td>\n      <td>6.51</td>\n    </tr>\n    <tr>\n      <th>CD_MTF_DFC</th>\n      <td>3.99</td>\n      <td>54.12</td>\n      <td>0.52</td>\n      <td>2.97</td>\n      <td>5.01</td>\n      <td>19.55</td>\n      <td>149.77</td>\n      <td>0.00</td>\n      <td>7.68</td>\n      <td>&lt;0.005</td>\n      <td>45.89</td>\n    </tr>\n    <tr>\n      <th>niv_gravite_mtf_dfs</th>\n      <td>0.05</td>\n      <td>1.05</td>\n      <td>0.02</td>\n      <td>0.01</td>\n      <td>0.09</td>\n      <td>1.01</td>\n      <td>1.09</td>\n      <td>0.00</td>\n      <td>2.25</td>\n      <td>0.02</td>\n      <td>5.34</td>\n    </tr>\n    <tr>\n      <th>no_pass_def</th>\n      <td>-0.12</td>\n      <td>0.89</td>\n      <td>0.05</td>\n      <td>-0.21</td>\n      <td>-0.03</td>\n      <td>0.81</td>\n      <td>0.97</td>\n      <td>0.00</td>\n      <td>-2.66</td>\n      <td>0.01</td>\n      <td>7.01</td>\n    </tr>\n    <tr>\n      <th>dls_mep_entree_def</th>\n      <td>0.00</td>\n      <td>1.00</td>\n      <td>0.00</td>\n      <td>0.00</td>\n      <td>0.00</td>\n      <td>1.00</td>\n      <td>1.00</td>\n      <td>0.00</td>\n      <td>2.31</td>\n      <td>0.02</td>\n      <td>5.57</td>\n    </tr>\n    <tr>\n      <th>nb_bienHOP</th>\n      <td>-0.02</td>\n      <td>0.98</td>\n      <td>0.01</td>\n      <td>-0.04</td>\n      <td>0.00</td>\n      <td>0.96</td>\n      <td>1.00</td>\n      <td>0.00</td>\n      <td>-1.51</td>\n      <td>0.13</td>\n      <td>2.93</td>\n    </tr>\n    <tr>\n      <th>ANC_PRO_MAX_PFI</th>\n      <td>0.00</td>\n      <td>1.00</td>\n      <td>0.00</td>\n      <td>-0.00</td>\n      <td>0.00</td>\n      <td>1.00</td>\n      <td>1.00</td>\n      <td>0.00</td>\n      <td>0.57</td>\n      <td>0.57</td>\n      <td>0.81</td>\n    </tr>\n    <tr>\n      <th>max_age_ctx</th>\n      <td>0.00</td>\n      <td>1.00</td>\n      <td>0.00</td>\n      <td>0.00</td>\n      <td>0.00</td>\n      <td>1.00</td>\n      <td>1.00</td>\n      <td>0.00</td>\n      <td>2.02</td>\n      <td>0.04</td>\n      <td>4.51</td>\n    </tr>\n    <tr>\n      <th>nb_empr_ope</th>\n      <td>-0.06</td>\n      <td>0.95</td>\n      <td>0.03</td>\n      <td>-0.11</td>\n      <td>-0.00</td>\n      <td>0.90</td>\n      <td>1.00</td>\n      <td>0.00</td>\n      <td>-2.15</td>\n      <td>0.03</td>\n      <td>4.97</td>\n    </tr>\n    <tr>\n      <th>fl_def_ss_pass_CTX</th>\n      <td>-1.16</td>\n      <td>0.31</td>\n      <td>0.25</td>\n      <td>-1.66</td>\n      <td>-0.67</td>\n      <td>0.19</td>\n      <td>0.51</td>\n      <td>0.00</td>\n      <td>-4.62</td>\n      <td>&lt;0.005</td>\n      <td>17.97</td>\n    </tr>\n    <tr>\n      <th>fl_prt_Conso</th>\n      <td>0.02</td>\n      <td>1.02</td>\n      <td>0.03</td>\n      <td>-0.03</td>\n      <td>0.07</td>\n      <td>0.97</td>\n      <td>1.07</td>\n      <td>0.00</td>\n      <td>0.76</td>\n      <td>0.45</td>\n      <td>1.16</td>\n    </tr>\n    <tr>\n      <th>fl_fonc</th>\n      <td>0.02</td>\n      <td>1.02</td>\n      <td>0.03</td>\n      <td>-0.03</td>\n      <td>0.07</td>\n      <td>0.97</td>\n      <td>1.07</td>\n      <td>0.00</td>\n      <td>0.63</td>\n      <td>0.53</td>\n      <td>0.91</td>\n    </tr>\n    <tr>\n      <th>regroup_natur_op</th>\n      <td>3.13</td>\n      <td>22.92</td>\n      <td>14.99</td>\n      <td>-26.24</td>\n      <td>32.50</td>\n      <td>0.00</td>\n      <td>1.31e+14</td>\n      <td>0.00</td>\n      <td>0.21</td>\n      <td>0.83</td>\n      <td>0.26</td>\n    </tr>\n    <tr>\n      <th>MT_FMG</th>\n      <td>-0.00</td>\n      <td>1.00</td>\n      <td>0.00</td>\n      <td>-0.00</td>\n      <td>0.00</td>\n      <td>1.00</td>\n      <td>1.00</td>\n      <td>0.00</td>\n      <td>-0.41</td>\n      <td>0.68</td>\n      <td>0.55</td>\n    </tr>\n    <tr>\n      <th>mt_dec_cum_IMP_tot</th>\n      <td>-0.00</td>\n      <td>1.00</td>\n      <td>0.00</td>\n      <td>-0.00</td>\n      <td>-0.00</td>\n      <td>1.00</td>\n      <td>1.00</td>\n      <td>0.00</td>\n      <td>-6.20</td>\n      <td>&lt;0.005</td>\n      <td>30.73</td>\n    </tr>\n    <tr>\n      <th>MT_CHG_MSL</th>\n      <td>0.00</td>\n      <td>1.00</td>\n      <td>0.00</td>\n      <td>-0.00</td>\n      <td>0.00</td>\n      <td>1.00</td>\n      <td>1.00</td>\n      <td>0.00</td>\n      <td>0.64</td>\n      <td>0.52</td>\n      <td>0.94</td>\n    </tr>\n    <tr>\n      <th>mt_rev_dispo</th>\n      <td>-0.00</td>\n      <td>1.00</td>\n      <td>0.00</td>\n      <td>-0.00</td>\n      <td>-0.00</td>\n      <td>1.00</td>\n      <td>1.00</td>\n      <td>0.00</td>\n      <td>-2.15</td>\n      <td>0.03</td>\n      <td>4.97</td>\n    </tr>\n    <tr>\n      <th>EAD_1an_avant_def</th>\n      <td>-0.00</td>\n      <td>1.00</td>\n      <td>0.00</td>\n      <td>-0.00</td>\n      <td>0.00</td>\n      <td>1.00</td>\n      <td>1.00</td>\n      <td>0.00</td>\n      <td>-1.66</td>\n      <td>0.10</td>\n      <td>3.36</td>\n    </tr>\n    <tr>\n      <th>dls_ges_def</th>\n      <td>-0.16</td>\n      <td>0.86</td>\n      <td>0.00</td>\n      <td>-0.16</td>\n      <td>-0.15</td>\n      <td>0.85</td>\n      <td>0.86</td>\n      <td>0.00</td>\n      <td>-80.82</td>\n      <td>&lt;0.005</td>\n      <td>inf</td>\n    </tr>\n    <tr>\n      <th>AMI</th>\n      <td>-0.27</td>\n      <td>0.76</td>\n      <td>0.03</td>\n      <td>-0.32</td>\n      <td>-0.22</td>\n      <td>0.72</td>\n      <td>0.80</td>\n      <td>0.00</td>\n      <td>-9.96</td>\n      <td>&lt;0.005</td>\n      <td>75.20</td>\n    </tr>\n    <tr>\n      <th>EXE</th>\n      <td>-0.16</td>\n      <td>0.85</td>\n      <td>0.10</td>\n      <td>-0.35</td>\n      <td>0.03</td>\n      <td>0.70</td>\n      <td>1.03</td>\n      <td>0.00</td>\n      <td>-1.68</td>\n      <td>0.09</td>\n      <td>3.42</td>\n    </tr>\n    <tr>\n      <th>PTG</th>\n      <td>0.05</td>\n      <td>1.05</td>\n      <td>0.04</td>\n      <td>-0.03</td>\n      <td>0.13</td>\n      <td>0.97</td>\n      <td>1.14</td>\n      <td>0.00</td>\n      <td>1.24</td>\n      <td>0.22</td>\n      <td>2.21</td>\n    </tr>\n    <tr>\n      <th>AGE_EMP1</th>\n      <td>-0.01</td>\n      <td>0.99</td>\n      <td>0.00</td>\n      <td>-0.01</td>\n      <td>-0.00</td>\n      <td>0.99</td>\n      <td>1.00</td>\n      <td>0.00</td>\n      <td>-3.54</td>\n      <td>&lt;0.005</td>\n      <td>11.31</td>\n    </tr>\n    <tr>\n      <th>TX_ENDET</th>\n      <td>0.00</td>\n      <td>1.00</td>\n      <td>0.00</td>\n      <td>-0.00</td>\n      <td>0.00</td>\n      <td>1.00</td>\n      <td>1.00</td>\n      <td>0.00</td>\n      <td>0.32</td>\n      <td>0.75</td>\n      <td>0.41</td>\n    </tr>\n    <tr>\n      <th>MT_REST_VIVRE</th>\n      <td>0.00</td>\n      <td>1.00</td>\n      <td>0.00</td>\n      <td>-0.00</td>\n      <td>0.00</td>\n      <td>1.00</td>\n      <td>1.00</td>\n      <td>0.00</td>\n      <td>0.41</td>\n      <td>0.68</td>\n      <td>0.55</td>\n    </tr>\n  </tbody>\n</table><br><div>\n<style scoped>\n    .dataframe tbody tr th:only-of-type {\n        vertical-align: middle;\n    }\n\n    .dataframe tbody tr th {\n        vertical-align: top;\n    }\n\n    .dataframe thead th {\n        text-align: right;\n    }\n</style>\n<table border=\"1\" class=\"dataframe\">\n  <tbody>\n    <tr>\n      <th>Concordance</th>\n      <td>0.94</td>\n    </tr>\n    <tr>\n      <th>Partial AIC</th>\n      <td>111509.54</td>\n    </tr>\n    <tr>\n      <th>log-likelihood ratio test</th>\n      <td>14754.41 on 60 df</td>\n    </tr>\n    <tr>\n      <th>-log2(p) of ll-ratio test</th>\n      <td>inf</td>\n    </tr>\n  </tbody>\n</table>\n</div>",
      "text/latex": "\\begin{tabular}{lrrrrrrrrrrr}\n & coef & exp(coef) & se(coef) & coef lower 95% & coef upper 95% & exp(coef) lower 95% & exp(coef) upper 95% & cmp to & z & p & -log2(p) \\\\\ncovariate &  &  &  &  &  &  &  &  &  &  &  \\\\\nnb_prt & 0.02 & 1.02 & 0.02 & -0.03 & 0.06 & 0.97 & 1.07 & 0.00 & 0.62 & 0.54 & 0.90 \\\\\nCD_NAT_EMP1 & 11.16 & 70335.72 & 7.93 & -4.38 & 26.71 & 0.01 & 396693982686.86 & 0.00 & 1.41 & 0.16 & 2.65 \\\\\nANC_BANC_MAX_PFI & 0.00 & 1.00 & 0.00 & -0.00 & 0.00 & 1.00 & 1.00 & 0.00 & 0.49 & 0.62 & 0.68 \\\\\nCD_DEST_PFI & 4.07 & 58.61 & 3.00 & -1.82 & 9.96 & 0.16 & 21127.76 & 0.00 & 1.36 & 0.18 & 2.51 \\\\\nCD_NATUR_OP_PFI & 3.73 & 41.80 & 3.87 & -3.86 & 11.33 & 0.02 & 82991.09 & 0.00 & 0.96 & 0.34 & 1.58 \\\\\nMT_PATRIM_MOB & 0.00 & 1.00 & 0.00 & -0.00 & 0.00 & 1.00 & 1.00 & 0.00 & 0.86 & 0.39 & 1.36 \\\\\nMT_CHA_HORS_OPE_PFI & -0.00 & 1.00 & 0.00 & -0.00 & 0.00 & 1.00 & 1.00 & 0.00 & -0.19 & 0.85 & 0.23 \\\\\nNB_CHARGE_HORS_OPE_PFI & -0.00 & 1.00 & 0.01 & -0.02 & 0.01 & 0.98 & 1.01 & 0.00 & -0.33 & 0.74 & 0.43 \\\\\nMT_PATRIM_NET & -0.00 & 1.00 & 0.00 & -0.00 & 0.00 & 1.00 & 1.00 & 0.00 & -0.40 & 0.69 & 0.54 \\\\\nMT_REV_PFI & -0.00 & 1.00 & 0.00 & -0.00 & 0.00 & 1.00 & 1.00 & 0.00 & -0.78 & 0.44 & 1.19 \\\\\nNB_DUR_PFI & -0.00 & 1.00 & 0.00 & -0.00 & -0.00 & 1.00 & 1.00 & 0.00 & -5.40 & 0.00 & 23.82 \\\\\nTX_APPOR & 0.04 & 1.04 & 0.03 & -0.02 & 0.11 & 0.98 & 1.12 & 0.00 & 1.26 & 0.21 & 2.28 \\\\\nFL_ETR & -0.03 & 0.97 & 0.03 & -0.09 & 0.03 & 0.91 & 1.03 & 0.00 & -0.92 & 0.35 & 1.49 \\\\\nCD_ETAT_CIVIL & 0.01 & 1.01 & 0.01 & -0.00 & 0.03 & 1.00 & 1.03 & 0.00 & 1.94 & 0.05 & 4.26 \\\\\nCD_CSP_EMP1 & 5.42 & 226.42 & 3.28 & -1.01 & 11.85 & 0.37 & 140441.05 & 0.00 & 1.65 & 0.10 & 3.35 \\\\\nCD_SITFAM_EMP1 & 5.32 & 204.34 & 4.01 & -2.54 & 13.18 & 0.08 & 530169.17 & 0.00 & 1.33 & 0.18 & 2.44 \\\\\ncum_dec & 0.00 & 1.00 & 0.00 & 0.00 & 0.00 & 1.00 & 1.00 & 0.00 & 20.43 & 0.00 & 305.76 \\\\\ncum_rec & -0.00 & 1.00 & 0.00 & -0.00 & -0.00 & 1.00 & 1.00 & 0.00 & -3.77 & 0.00 & 12.58 \\\\\ncum_frs_externes & -0.00 & 1.00 & 0.00 & -0.00 & 0.00 & 1.00 & 1.00 & 0.00 & -1.38 & 0.17 & 2.57 \\\\\nCD_DNE_CHR_LGD_SAIN & 0.01 & 1.01 & 0.01 & -0.00 & 0.02 & 1.00 & 1.02 & 0.00 & 1.51 & 0.13 & 2.92 \\\\\nMT_EAD_RESID & -0.00 & 1.00 & 0.00 & -0.00 & -0.00 & 1.00 & 1.00 & 0.00 & -6.18 & 0.00 & 30.52 \\\\\nMT_EAD_DNE_CHR_d & -0.00 & 1.00 & 0.00 & -0.00 & -0.00 & 1.00 & 1.00 & 0.00 & -5.99 & 0.00 & 28.81 \\\\\nfl_prise_de_gar & 0.03 & 1.03 & 0.04 & -0.05 & 0.12 & 0.95 & 1.12 & 0.00 & 0.81 & 0.42 & 1.25 \\\\\nfl_fam_vam & 0.24 & 1.27 & 0.03 & 0.18 & 0.30 & 1.19 & 1.35 & 0.00 & 7.56 & 0.00 & 44.48 \\\\\nfam_ETH & -0.61 & 0.54 & 0.04 & -0.69 & -0.53 & 0.50 & 0.59 & 0.00 & -14.64 & 0.00 & 158.80 \\\\\nfam_ENQ & -0.15 & 0.86 & 0.02 & -0.19 & -0.10 & 0.82 & 0.90 & 0.00 & -6.29 & 0.00 & 31.51 \\\\\nfam_exp & -0.23 & 0.80 & 0.08 & -0.39 & -0.07 & 0.68 & 0.93 & 0.00 & -2.79 & 0.01 & 7.55 \\\\\nfam_hyp & -0.09 & 0.91 & 0.04 & -0.18 & -0.01 & 0.84 & 0.99 & 0.00 & -2.20 & 0.03 & 5.16 \\\\\nfam_sim & -0.06 & 0.94 & 0.21 & -0.48 & 0.36 & 0.62 & 1.43 & 0.00 & -0.28 & 0.78 & 0.36 \\\\\nfam_AEP & -0.27 & 0.76 & 0.08 & -0.44 & -0.11 & 0.65 & 0.90 & 0.00 & -3.26 & 0.00 & 9.78 \\\\\ndat_dec_echec & -0.29 & 0.75 & 0.05 & -0.39 & -0.20 & 0.68 & 0.82 & 0.00 & -6.20 & 0.00 & 30.71 \\\\\nsolution & -0.36 & 0.69 & 0.03 & -0.43 & -0.30 & 0.65 & 0.74 & 0.00 & -11.27 & 0.00 & 95.51 \\\\\nfam_PCD & 1.27 & 3.55 & 0.05 & 1.18 & 1.36 & 3.24 & 3.89 & 0.00 & 27.00 & 0.00 & 530.97 \\\\\nsol_echec & -4.45 & 0.01 & 0.83 & -6.08 & -2.82 & 0.00 & 0.06 & 0.00 & -5.36 & 0.00 & 23.50 \\\\\nMR_arr & 0.00 & 1.00 & 0.00 & 0.00 & 0.00 & 1.00 & 1.00 & 0.00 & 4.84 & 0.00 & 19.57 \\\\\nCD_MTF_ENE_CTX & -0.00 & 1.00 & 0.00 & -0.01 & -0.00 & 0.99 & 1.00 & 0.00 & -2.54 & 0.01 & 6.51 \\\\\nCD_MTF_DFC & 3.99 & 54.12 & 0.52 & 2.97 & 5.01 & 19.55 & 149.77 & 0.00 & 7.68 & 0.00 & 45.89 \\\\\nniv_gravite_mtf_dfs & 0.05 & 1.05 & 0.02 & 0.01 & 0.09 & 1.01 & 1.09 & 0.00 & 2.25 & 0.02 & 5.34 \\\\\nno_pass_def & -0.12 & 0.89 & 0.05 & -0.21 & -0.03 & 0.81 & 0.97 & 0.00 & -2.66 & 0.01 & 7.01 \\\\\ndls_mep_entree_def & 0.00 & 1.00 & 0.00 & 0.00 & 0.00 & 1.00 & 1.00 & 0.00 & 2.31 & 0.02 & 5.57 \\\\\nnb_bienHOP & -0.02 & 0.98 & 0.01 & -0.04 & 0.00 & 0.96 & 1.00 & 0.00 & -1.51 & 0.13 & 2.93 \\\\\nANC_PRO_MAX_PFI & 0.00 & 1.00 & 0.00 & -0.00 & 0.00 & 1.00 & 1.00 & 0.00 & 0.57 & 0.57 & 0.81 \\\\\nmax_age_ctx & 0.00 & 1.00 & 0.00 & 0.00 & 0.00 & 1.00 & 1.00 & 0.00 & 2.02 & 0.04 & 4.51 \\\\\nnb_empr_ope & -0.06 & 0.95 & 0.03 & -0.11 & -0.00 & 0.90 & 1.00 & 0.00 & -2.15 & 0.03 & 4.97 \\\\\nfl_def_ss_pass_CTX & -1.16 & 0.31 & 0.25 & -1.66 & -0.67 & 0.19 & 0.51 & 0.00 & -4.62 & 0.00 & 17.97 \\\\\nfl_prt_Conso & 0.02 & 1.02 & 0.03 & -0.03 & 0.07 & 0.97 & 1.07 & 0.00 & 0.76 & 0.45 & 1.16 \\\\\nfl_fonc & 0.02 & 1.02 & 0.03 & -0.03 & 0.07 & 0.97 & 1.07 & 0.00 & 0.63 & 0.53 & 0.91 \\\\\nregroup_natur_op & 3.13 & 22.92 & 14.99 & -26.24 & 32.50 & 0.00 & 130728550037998.44 & 0.00 & 0.21 & 0.83 & 0.26 \\\\\nMT_FMG & -0.00 & 1.00 & 0.00 & -0.00 & 0.00 & 1.00 & 1.00 & 0.00 & -0.41 & 0.68 & 0.55 \\\\\nmt_dec_cum_IMP_tot & -0.00 & 1.00 & 0.00 & -0.00 & -0.00 & 1.00 & 1.00 & 0.00 & -6.20 & 0.00 & 30.73 \\\\\nMT_CHG_MSL & 0.00 & 1.00 & 0.00 & -0.00 & 0.00 & 1.00 & 1.00 & 0.00 & 0.64 & 0.52 & 0.94 \\\\\nmt_rev_dispo & -0.00 & 1.00 & 0.00 & -0.00 & -0.00 & 1.00 & 1.00 & 0.00 & -2.15 & 0.03 & 4.97 \\\\\nEAD_1an_avant_def & -0.00 & 1.00 & 0.00 & -0.00 & 0.00 & 1.00 & 1.00 & 0.00 & -1.66 & 0.10 & 3.36 \\\\\ndls_ges_def & -0.16 & 0.86 & 0.00 & -0.16 & -0.15 & 0.85 & 0.86 & 0.00 & -80.82 & 0.00 & inf \\\\\nAMI & -0.27 & 0.76 & 0.03 & -0.32 & -0.22 & 0.72 & 0.80 & 0.00 & -9.96 & 0.00 & 75.20 \\\\\nEXE & -0.16 & 0.85 & 0.10 & -0.35 & 0.03 & 0.70 & 1.03 & 0.00 & -1.68 & 0.09 & 3.42 \\\\\nPTG & 0.05 & 1.05 & 0.04 & -0.03 & 0.13 & 0.97 & 1.14 & 0.00 & 1.24 & 0.22 & 2.21 \\\\\nAGE_EMP1 & -0.01 & 0.99 & 0.00 & -0.01 & -0.00 & 0.99 & 1.00 & 0.00 & -3.54 & 0.00 & 11.31 \\\\\nTX_ENDET & 0.00 & 1.00 & 0.00 & -0.00 & 0.00 & 1.00 & 1.00 & 0.00 & 0.32 & 0.75 & 0.41 \\\\\nMT_REST_VIVRE & 0.00 & 1.00 & 0.00 & -0.00 & 0.00 & 1.00 & 1.00 & 0.00 & 0.41 & 0.68 & 0.55 \\\\\n\\end{tabular}\n"
     },
     "metadata": {},
     "output_type": "display_data"
    }
   ],
   "source": [
    "cph.print_summary()"
   ],
   "metadata": {
    "collapsed": false,
    "ExecuteTime": {
     "end_time": "2024-01-24T14:56:22.349039800Z",
     "start_time": "2024-01-24T14:56:22.181416800Z"
    }
   },
   "id": "ca2eb8cf7438b3ca"
  },
  {
   "cell_type": "code",
   "execution_count": 53,
   "outputs": [
    {
     "data": {
      "text/plain": "<Axes: >"
     },
     "execution_count": 53,
     "metadata": {},
     "output_type": "execute_result"
    },
    {
     "data": {
      "text/plain": "<Figure size 640x480 with 1 Axes>",
      "image/png": "[encoded data removed]"
     },
     "metadata": {},
     "output_type": "display_data"
    }
   ],
   "source": [
    "import numpy as np\n",
    "cph.plot_partial_effects_on_outcome('CD_DEST_PFI', values=np.arange(0, 15, 3), cmap='coolwarm')"
   ],
   "metadata": {
    "collapsed": false,
    "ExecuteTime": {
     "end_time": "2024-01-24T14:57:13.861527900Z",
     "start_time": "2024-01-24T14:57:13.599907400Z"
    }
   },
   "id": "a0002530c1447f52"
  },
  {
   "cell_type": "code",
   "execution_count": null,
   "outputs": [],
   "source": [],
   "metadata": {
    "collapsed": false
   },
   "id": "befb276de5b08d11"
  }
 ],
 "metadata": {
  "kernelspec": {
   "display_name": "Python 3",
   "language": "python",
   "name": "python3"
  },
  "language_info": {
   "codemirror_mode": {
    "name": "ipython",
    "version": 2
   },
   "file_extension": ".py",
   "mimetype": "text/x-python",
   "name": "python",
   "nbconvert_exporter": "python",
   "pygments_lexer": "ipython2",
   "version": "2.7.6"
  }
 },
 "nbformat": 4,
 "nbformat_minor": 5
}
