{
 "cells": [
  {
   "cell_type": "code",
   "execution_count": 26,
   "id": "initial_id",
   "metadata": {
    "collapsed": true,
    "ExecuteTime": {
     "end_time": "2024-02-03T18:16:11.967212600Z",
     "start_time": "2024-02-03T18:16:11.787705200Z"
    }
   },
   "outputs": [],
   "source": [
    "import pandas as pd\n",
    "from sklearn.model_selection import train_test_split\n",
    "import warnings \n",
    "warnings.filterwarnings(\"ignore\")\n",
    "import matplotlib.pyplot as plt\n",
    "\n",
    "from sklearn.linear_model import LogisticRegression\n",
    "from sklearn.metrics import roc_auc_score, confusion_matrix, classification_report, accuracy_score\n",
    "from sklearn.metrics import roc_curve, auc\n"
   ]
  },
  {
   "cell_type": "code",
   "execution_count": 27,
   "outputs": [],
   "source": [
    "df = pd.read_csv('../data/df.csv',sep = ',')"
   ],
   "metadata": {
    "collapsed": false,
    "ExecuteTime": {
     "end_time": "2024-02-03T18:16:12.383905200Z",
     "start_time": "2024-02-03T18:16:11.805941200Z"
    }
   },
   "id": "77d4fcd6ee6950d2"
  },
  {
   "cell_type": "code",
   "execution_count": 28,
   "outputs": [],
   "source": [
    "df['arrete'] = pd.to_datetime(df['arrete'])"
   ],
   "metadata": {
    "collapsed": false,
    "ExecuteTime": {
     "end_time": "2024-02-03T18:16:12.383905200Z",
     "start_time": "2024-02-03T18:16:12.131691300Z"
    }
   },
   "id": "bcabfb01db6c7208"
  },
  {
   "cell_type": "markdown",
   "source": [
    "# Encoding"
   ],
   "metadata": {
    "collapsed": false
   },
   "id": "d70a7b3d9cfb139"
  },
  {
   "cell_type": "code",
   "execution_count": 29,
   "outputs": [],
   "source": [
    "df['Motif'] = df['Motif'].apply(lambda x : 3 if x == 'Motif tres mauvais' else 2 if x == 'Motif mauvais' else 1)\n",
    "\n",
    "df['Situation_fam'] = df['Situation_fam'].apply(lambda x : 2 if x == 'Mauvaise situation' else 1)\n",
    "\n",
    "df['Nature'] = df['Nature'].apply(lambda x : 2 if x == 'Mauvaise nature' else 1)\n",
    "\n",
    "df['Solution_echec'] = df['Solution_echec'].apply(lambda x : 2 if x == 'Mauvaise solution' else 1)\n",
    "\n",
    "df['Nature_op'] = df['Nature_op'].apply(lambda x : 2 if x == 'Mauvaise nature' else 1)\n",
    "\n",
    "df['MTF'] = df['MTF'].apply(lambda x : 2 if x == 'Mauvais MTF' else 1)\n",
    "\n",
    "df['ETAT_CIVIL'] = df['ETAT_CIVIL'].apply(lambda x : 2 if x == 'Mauvais etat' else 1)\n",
    "\n",
    "df['CSP'] = df['CSP'].apply(lambda x : 2 if x == 'Mauvaise CSP' else 1)"
   ],
   "metadata": {
    "collapsed": false,
    "ExecuteTime": {
     "end_time": "2024-02-03T18:16:12.383905200Z",
     "start_time": "2024-02-03T18:16:12.199376700Z"
    }
   },
   "id": "9bc86166b722c432"
  },
  {
   "cell_type": "markdown",
   "source": [
    "# Logits"
   ],
   "metadata": {
    "collapsed": false
   },
   "id": "e7453e2c433b4af9"
  },
  {
   "cell_type": "code",
   "execution_count": 30,
   "outputs": [],
   "source": [],
   "metadata": {
    "collapsed": false,
    "ExecuteTime": {
     "end_time": "2024-02-03T18:16:12.383905200Z",
     "start_time": "2024-02-03T18:16:12.270230600Z"
    }
   },
   "id": "e69ee1e5e7577c2c"
  },
  {
   "cell_type": "code",
   "execution_count": 31,
   "outputs": [],
   "source": [
    "df_validation = df[df['arrete']>\"2020-06-30\"]\n",
    "\n",
    "data = df[df['arrete']<\"2019-12-31\"]"
   ],
   "metadata": {
    "collapsed": false,
    "ExecuteTime": {
     "end_time": "2024-02-03T18:16:12.383905200Z",
     "start_time": "2024-02-03T18:16:12.288731800Z"
    }
   },
   "id": "f496c3108dc0b5ed"
  },
  {
   "cell_type": "code",
   "execution_count": 32,
   "outputs": [],
   "source": [
    "# Sélectionner les données\n",
    "X_train = data.copy() # On drop les var qui ont trop de NaN\n",
    "X_test = df_validation.copy()\n",
    "\n",
    "X_train = X_train.select_dtypes(exclude = 'datetime')\n",
    "X_train.dropna(inplace = True)\n",
    "\n",
    "y_train = X_train['DET']\n",
    "\n",
    "\n",
    "X_train.drop(columns = 'DET', inplace = True)\n",
    "\n",
    "X_test = X_test.select_dtypes(exclude = 'datetime')\n",
    "X_test.dropna(inplace = True)\n",
    "\n",
    "y_test = X_test['DET']\n",
    "\n",
    "X_test.drop(columns = 'DET', inplace = True)"
   ],
   "metadata": {
    "collapsed": false,
    "ExecuteTime": {
     "end_time": "2024-02-03T18:16:12.383905200Z",
     "start_time": "2024-02-03T18:16:12.323209200Z"
    }
   },
   "id": "667a634bf1764b81"
  },
  {
   "cell_type": "code",
   "execution_count": 33,
   "outputs": [],
   "source": [
    "X_train.drop(columns = ['cd_op'], inplace = True)\n",
    "\n",
    "X_test.drop(columns = ['cd_op'], inplace = True)"
   ],
   "metadata": {
    "collapsed": false,
    "ExecuteTime": {
     "end_time": "2024-02-03T18:16:12.383905200Z",
     "start_time": "2024-02-03T18:16:12.368019500Z"
    }
   },
   "id": "770bd9d385b7082"
  },
  {
   "cell_type": "code",
   "execution_count": 34,
   "outputs": [
    {
     "name": "stdout",
     "output_type": "stream",
     "text": [
      "Motif : 0.7198846737000038\n",
      "niv_gravite_mtf_dfs : 0.5552407811453504\n",
      "MTF : 0.5843885980343989\n",
      "nb_empr_ope : 0.5601252875526606\n"
     ]
    }
   ],
   "source": [
    "from sklearn.metrics import roc_curve, auc\n",
    "\n",
    "liste_var = []\n",
    "for col in data.drop(columns =['DET','arrete','cd_op']).columns:\n",
    "    model = LogisticRegression()\n",
    "    \n",
    "    model.fit(X_train[[col]], y_train)\n",
    "    \n",
    "    y_prob = model.predict_proba(X_test[[col]])[:, 1]\n",
    "    \n",
    "    auc = roc_auc_score(y_test, y_prob)\n",
    "    \n",
    "    y_pred = model.predict(X_test[[col]])\n",
    "    \n",
    "    conf_matrix = confusion_matrix(y_test, y_pred)\n",
    "    classification_rep = classification_report(y_test, y_pred)\n",
    "    \n",
    "    if auc>0.55:\n",
    "        liste_var.append(col)\n",
    "        print(f\"{col} : {auc}\")\n"
   ],
   "metadata": {
    "collapsed": false,
    "ExecuteTime": {
     "end_time": "2024-02-03T18:16:13.006930700Z",
     "start_time": "2024-02-03T18:16:12.383905200Z"
    }
   },
   "id": "24373b67fb50e10e"
  },
  {
   "cell_type": "code",
   "execution_count": 35,
   "outputs": [
    {
     "data": {
      "text/plain": "['Motif', 'niv_gravite_mtf_dfs', 'MTF', 'nb_empr_ope']"
     },
     "execution_count": 35,
     "metadata": {},
     "output_type": "execute_result"
    }
   ],
   "source": [
    "liste_var"
   ],
   "metadata": {
    "collapsed": false,
    "ExecuteTime": {
     "end_time": "2024-02-03T18:16:13.026009800Z",
     "start_time": "2024-02-03T18:16:13.006930700Z"
    }
   },
   "id": "9fbdf14dfa9da3be"
  },
  {
   "cell_type": "code",
   "execution_count": 36,
   "outputs": [
    {
     "data": {
      "text/plain": "                        Motif  niv_gravite_mtf_dfs       MTF  nb_empr_ope\nMotif                1.000000             0.022115  0.321923    -0.107616\nniv_gravite_mtf_dfs  0.022115             1.000000  0.143122     0.168677\nMTF                  0.321923             0.143122  1.000000    -0.033308\nnb_empr_ope         -0.107616             0.168677 -0.033308     1.000000",
      "text/html": "<div>\n<style scoped>\n    .dataframe tbody tr th:only-of-type {\n        vertical-align: middle;\n    }\n\n    .dataframe tbody tr th {\n        vertical-align: top;\n    }\n\n    .dataframe thead th {\n        text-align: right;\n    }\n</style>\n<table border=\"1\" class=\"dataframe\">\n  <thead>\n    <tr style=\"text-align: right;\">\n      <th></th>\n      <th>Motif</th>\n      <th>niv_gravite_mtf_dfs</th>\n      <th>MTF</th>\n      <th>nb_empr_ope</th>\n    </tr>\n  </thead>\n  <tbody>\n    <tr>\n      <th>Motif</th>\n      <td>1.000000</td>\n      <td>0.022115</td>\n      <td>0.321923</td>\n      <td>-0.107616</td>\n    </tr>\n    <tr>\n      <th>niv_gravite_mtf_dfs</th>\n      <td>0.022115</td>\n      <td>1.000000</td>\n      <td>0.143122</td>\n      <td>0.168677</td>\n    </tr>\n    <tr>\n      <th>MTF</th>\n      <td>0.321923</td>\n      <td>0.143122</td>\n      <td>1.000000</td>\n      <td>-0.033308</td>\n    </tr>\n    <tr>\n      <th>nb_empr_ope</th>\n      <td>-0.107616</td>\n      <td>0.168677</td>\n      <td>-0.033308</td>\n      <td>1.000000</td>\n    </tr>\n  </tbody>\n</table>\n</div>"
     },
     "execution_count": 36,
     "metadata": {},
     "output_type": "execute_result"
    }
   ],
   "source": [
    "df[liste_var].corr()"
   ],
   "metadata": {
    "collapsed": false,
    "ExecuteTime": {
     "end_time": "2024-02-03T18:16:13.086694800Z",
     "start_time": "2024-02-03T18:16:13.026009800Z"
    }
   },
   "id": "4a71b9b9397c48e5"
  },
  {
   "cell_type": "code",
   "execution_count": 37,
   "outputs": [
    {
     "name": "stdout",
     "output_type": "stream",
     "text": [
      "Motif : 0.7198846737000038\n",
      "niv_gravite_mtf_dfs : 0.5552407811453504\n",
      "MTF : 0.5843885980343989\n",
      "dls_mep_entree_def : 0.5009248791236915\n"
     ]
    },
    {
     "ename": "KeyboardInterrupt",
     "evalue": "",
     "output_type": "error",
     "traceback": [
      "\u001B[1;31m---------------------------------------------------------------------------\u001B[0m",
      "\u001B[1;31mKeyboardInterrupt\u001B[0m                         Traceback (most recent call last)",
      "Cell \u001B[1;32mIn[37], line 11\u001B[0m\n\u001B[0;32m      8\u001B[0m model \u001B[38;5;241m=\u001B[39m xgb\u001B[38;5;241m.\u001B[39mXGBClassifier(\u001B[38;5;241m*\u001B[39m\u001B[38;5;241m*\u001B[39mparams)\n\u001B[0;32m     10\u001B[0m \u001B[38;5;66;03m# Entraîner le modèle\u001B[39;00m\n\u001B[1;32m---> 11\u001B[0m \u001B[43mmodel\u001B[49m\u001B[38;5;241;43m.\u001B[39;49m\u001B[43mfit\u001B[49m\u001B[43m(\u001B[49m\u001B[43mX_train\u001B[49m\u001B[43m[\u001B[49m\u001B[43m[\u001B[49m\u001B[43mcol\u001B[49m\u001B[43m]\u001B[49m\u001B[43m]\u001B[49m\u001B[43m,\u001B[49m\u001B[43m \u001B[49m\u001B[43my_train\u001B[49m\u001B[43m)\u001B[49m\n\u001B[0;32m     13\u001B[0m \u001B[38;5;66;03m# Faire des prédictions sur l'ensemble de test\u001B[39;00m\n\u001B[0;32m     14\u001B[0m y_prob \u001B[38;5;241m=\u001B[39m model\u001B[38;5;241m.\u001B[39mpredict_proba(X_test[[col]])[:, \u001B[38;5;241m1\u001B[39m]\n",
      "File \u001B[1;32m~\\Documents\\M2 MoSEF\\Challenge_Credit_Logement\\venv\\lib\\site-packages\\xgboost\\core.py:730\u001B[0m, in \u001B[0;36mrequire_keyword_args.<locals>.throw_if.<locals>.inner_f\u001B[1;34m(*args, **kwargs)\u001B[0m\n\u001B[0;32m    728\u001B[0m \u001B[38;5;28;01mfor\u001B[39;00m k, arg \u001B[38;5;129;01min\u001B[39;00m \u001B[38;5;28mzip\u001B[39m(sig\u001B[38;5;241m.\u001B[39mparameters, args):\n\u001B[0;32m    729\u001B[0m     kwargs[k] \u001B[38;5;241m=\u001B[39m arg\n\u001B[1;32m--> 730\u001B[0m \u001B[38;5;28;01mreturn\u001B[39;00m func(\u001B[38;5;241m*\u001B[39m\u001B[38;5;241m*\u001B[39mkwargs)\n",
      "File \u001B[1;32m~\\Documents\\M2 MoSEF\\Challenge_Credit_Logement\\venv\\lib\\site-packages\\xgboost\\sklearn.py:1519\u001B[0m, in \u001B[0;36mXGBClassifier.fit\u001B[1;34m(self, X, y, sample_weight, base_margin, eval_set, eval_metric, early_stopping_rounds, verbose, xgb_model, sample_weight_eval_set, base_margin_eval_set, feature_weights, callbacks)\u001B[0m\n\u001B[0;32m   1491\u001B[0m (\n\u001B[0;32m   1492\u001B[0m     model,\n\u001B[0;32m   1493\u001B[0m     metric,\n\u001B[1;32m   (...)\u001B[0m\n\u001B[0;32m   1498\u001B[0m     xgb_model, eval_metric, params, early_stopping_rounds, callbacks\n\u001B[0;32m   1499\u001B[0m )\n\u001B[0;32m   1500\u001B[0m train_dmatrix, evals \u001B[38;5;241m=\u001B[39m _wrap_evaluation_matrices(\n\u001B[0;32m   1501\u001B[0m     missing\u001B[38;5;241m=\u001B[39m\u001B[38;5;28mself\u001B[39m\u001B[38;5;241m.\u001B[39mmissing,\n\u001B[0;32m   1502\u001B[0m     X\u001B[38;5;241m=\u001B[39mX,\n\u001B[1;32m   (...)\u001B[0m\n\u001B[0;32m   1516\u001B[0m     feature_types\u001B[38;5;241m=\u001B[39m\u001B[38;5;28mself\u001B[39m\u001B[38;5;241m.\u001B[39mfeature_types,\n\u001B[0;32m   1517\u001B[0m )\n\u001B[1;32m-> 1519\u001B[0m \u001B[38;5;28mself\u001B[39m\u001B[38;5;241m.\u001B[39m_Booster \u001B[38;5;241m=\u001B[39m \u001B[43mtrain\u001B[49m\u001B[43m(\u001B[49m\n\u001B[0;32m   1520\u001B[0m \u001B[43m    \u001B[49m\u001B[43mparams\u001B[49m\u001B[43m,\u001B[49m\n\u001B[0;32m   1521\u001B[0m \u001B[43m    \u001B[49m\u001B[43mtrain_dmatrix\u001B[49m\u001B[43m,\u001B[49m\n\u001B[0;32m   1522\u001B[0m \u001B[43m    \u001B[49m\u001B[38;5;28;43mself\u001B[39;49m\u001B[38;5;241;43m.\u001B[39;49m\u001B[43mget_num_boosting_rounds\u001B[49m\u001B[43m(\u001B[49m\u001B[43m)\u001B[49m\u001B[43m,\u001B[49m\n\u001B[0;32m   1523\u001B[0m \u001B[43m    \u001B[49m\u001B[43mevals\u001B[49m\u001B[38;5;241;43m=\u001B[39;49m\u001B[43mevals\u001B[49m\u001B[43m,\u001B[49m\n\u001B[0;32m   1524\u001B[0m \u001B[43m    \u001B[49m\u001B[43mearly_stopping_rounds\u001B[49m\u001B[38;5;241;43m=\u001B[39;49m\u001B[43mearly_stopping_rounds\u001B[49m\u001B[43m,\u001B[49m\n\u001B[0;32m   1525\u001B[0m \u001B[43m    \u001B[49m\u001B[43mevals_result\u001B[49m\u001B[38;5;241;43m=\u001B[39;49m\u001B[43mevals_result\u001B[49m\u001B[43m,\u001B[49m\n\u001B[0;32m   1526\u001B[0m \u001B[43m    \u001B[49m\u001B[43mobj\u001B[49m\u001B[38;5;241;43m=\u001B[39;49m\u001B[43mobj\u001B[49m\u001B[43m,\u001B[49m\n\u001B[0;32m   1527\u001B[0m \u001B[43m    \u001B[49m\u001B[43mcustom_metric\u001B[49m\u001B[38;5;241;43m=\u001B[39;49m\u001B[43mmetric\u001B[49m\u001B[43m,\u001B[49m\n\u001B[0;32m   1528\u001B[0m \u001B[43m    \u001B[49m\u001B[43mverbose_eval\u001B[49m\u001B[38;5;241;43m=\u001B[39;49m\u001B[43mverbose\u001B[49m\u001B[43m,\u001B[49m\n\u001B[0;32m   1529\u001B[0m \u001B[43m    \u001B[49m\u001B[43mxgb_model\u001B[49m\u001B[38;5;241;43m=\u001B[39;49m\u001B[43mmodel\u001B[49m\u001B[43m,\u001B[49m\n\u001B[0;32m   1530\u001B[0m \u001B[43m    \u001B[49m\u001B[43mcallbacks\u001B[49m\u001B[38;5;241;43m=\u001B[39;49m\u001B[43mcallbacks\u001B[49m\u001B[43m,\u001B[49m\n\u001B[0;32m   1531\u001B[0m \u001B[43m\u001B[49m\u001B[43m)\u001B[49m\n\u001B[0;32m   1533\u001B[0m \u001B[38;5;28;01mif\u001B[39;00m \u001B[38;5;129;01mnot\u001B[39;00m \u001B[38;5;28mcallable\u001B[39m(\u001B[38;5;28mself\u001B[39m\u001B[38;5;241m.\u001B[39mobjective):\n\u001B[0;32m   1534\u001B[0m     \u001B[38;5;28mself\u001B[39m\u001B[38;5;241m.\u001B[39mobjective \u001B[38;5;241m=\u001B[39m params[\u001B[38;5;124m\"\u001B[39m\u001B[38;5;124mobjective\u001B[39m\u001B[38;5;124m\"\u001B[39m]\n",
      "File \u001B[1;32m~\\Documents\\M2 MoSEF\\Challenge_Credit_Logement\\venv\\lib\\site-packages\\xgboost\\core.py:730\u001B[0m, in \u001B[0;36mrequire_keyword_args.<locals>.throw_if.<locals>.inner_f\u001B[1;34m(*args, **kwargs)\u001B[0m\n\u001B[0;32m    728\u001B[0m \u001B[38;5;28;01mfor\u001B[39;00m k, arg \u001B[38;5;129;01min\u001B[39;00m \u001B[38;5;28mzip\u001B[39m(sig\u001B[38;5;241m.\u001B[39mparameters, args):\n\u001B[0;32m    729\u001B[0m     kwargs[k] \u001B[38;5;241m=\u001B[39m arg\n\u001B[1;32m--> 730\u001B[0m \u001B[38;5;28;01mreturn\u001B[39;00m func(\u001B[38;5;241m*\u001B[39m\u001B[38;5;241m*\u001B[39mkwargs)\n",
      "File \u001B[1;32m~\\Documents\\M2 MoSEF\\Challenge_Credit_Logement\\venv\\lib\\site-packages\\xgboost\\training.py:181\u001B[0m, in \u001B[0;36mtrain\u001B[1;34m(params, dtrain, num_boost_round, evals, obj, feval, maximize, early_stopping_rounds, evals_result, verbose_eval, xgb_model, callbacks, custom_metric)\u001B[0m\n\u001B[0;32m    179\u001B[0m \u001B[38;5;28;01mif\u001B[39;00m cb_container\u001B[38;5;241m.\u001B[39mbefore_iteration(bst, i, dtrain, evals):\n\u001B[0;32m    180\u001B[0m     \u001B[38;5;28;01mbreak\u001B[39;00m\n\u001B[1;32m--> 181\u001B[0m \u001B[43mbst\u001B[49m\u001B[38;5;241;43m.\u001B[39;49m\u001B[43mupdate\u001B[49m\u001B[43m(\u001B[49m\u001B[43mdtrain\u001B[49m\u001B[43m,\u001B[49m\u001B[43m \u001B[49m\u001B[43mi\u001B[49m\u001B[43m,\u001B[49m\u001B[43m \u001B[49m\u001B[43mobj\u001B[49m\u001B[43m)\u001B[49m\n\u001B[0;32m    182\u001B[0m \u001B[38;5;28;01mif\u001B[39;00m cb_container\u001B[38;5;241m.\u001B[39mafter_iteration(bst, i, dtrain, evals):\n\u001B[0;32m    183\u001B[0m     \u001B[38;5;28;01mbreak\u001B[39;00m\n",
      "File \u001B[1;32m~\\Documents\\M2 MoSEF\\Challenge_Credit_Logement\\venv\\lib\\site-packages\\xgboost\\core.py:2051\u001B[0m, in \u001B[0;36mBooster.update\u001B[1;34m(self, dtrain, iteration, fobj)\u001B[0m\n\u001B[0;32m   2047\u001B[0m \u001B[38;5;28mself\u001B[39m\u001B[38;5;241m.\u001B[39m_assign_dmatrix_features(dtrain)\n\u001B[0;32m   2049\u001B[0m \u001B[38;5;28;01mif\u001B[39;00m fobj \u001B[38;5;129;01mis\u001B[39;00m \u001B[38;5;28;01mNone\u001B[39;00m:\n\u001B[0;32m   2050\u001B[0m     _check_call(\n\u001B[1;32m-> 2051\u001B[0m         \u001B[43m_LIB\u001B[49m\u001B[38;5;241;43m.\u001B[39;49m\u001B[43mXGBoosterUpdateOneIter\u001B[49m\u001B[43m(\u001B[49m\n\u001B[0;32m   2052\u001B[0m \u001B[43m            \u001B[49m\u001B[38;5;28;43mself\u001B[39;49m\u001B[38;5;241;43m.\u001B[39;49m\u001B[43mhandle\u001B[49m\u001B[43m,\u001B[49m\u001B[43m \u001B[49m\u001B[43mctypes\u001B[49m\u001B[38;5;241;43m.\u001B[39;49m\u001B[43mc_int\u001B[49m\u001B[43m(\u001B[49m\u001B[43miteration\u001B[49m\u001B[43m)\u001B[49m\u001B[43m,\u001B[49m\u001B[43m \u001B[49m\u001B[43mdtrain\u001B[49m\u001B[38;5;241;43m.\u001B[39;49m\u001B[43mhandle\u001B[49m\n\u001B[0;32m   2053\u001B[0m \u001B[43m        \u001B[49m\u001B[43m)\u001B[49m\n\u001B[0;32m   2054\u001B[0m     )\n\u001B[0;32m   2055\u001B[0m \u001B[38;5;28;01melse\u001B[39;00m:\n\u001B[0;32m   2056\u001B[0m     pred \u001B[38;5;241m=\u001B[39m \u001B[38;5;28mself\u001B[39m\u001B[38;5;241m.\u001B[39mpredict(dtrain, output_margin\u001B[38;5;241m=\u001B[39m\u001B[38;5;28;01mTrue\u001B[39;00m, training\u001B[38;5;241m=\u001B[39m\u001B[38;5;28;01mTrue\u001B[39;00m)\n",
      "\u001B[1;31mKeyboardInterrupt\u001B[0m: "
     ]
    }
   ],
   "source": [
    "import xgboost as xgb\n",
    "\n",
    "liste_var = []\n",
    "for col in data.drop(columns =['DET','arrete','cd_op']).columns:\n",
    "    params = {'booster': 'dart', 'max_depth': 9, 'eta': 2.7274786657929362e-05, 'gamma': 0.0008432711321177537, 'colsample_bytree': 0.5556056049355307, 'subsample': 0.674439847205192, 'n_estimators': 63}\n",
    "    \n",
    "    # Créer le modèle avec les hyperparamètres spécifiés\n",
    "    model = xgb.XGBClassifier(**params)\n",
    "    \n",
    "    # Entraîner le modèle\n",
    "    model.fit(X_train[[col]], y_train)\n",
    "    \n",
    "    # Faire des prédictions sur l'ensemble de test\n",
    "    y_prob = model.predict_proba(X_test[[col]])[:, 1]\n",
    "    \n",
    "\n",
    "    auc = roc_auc_score(y_test, y_prob)\n",
    "\n",
    "    print(f\"{col} : {auc}\")"
   ],
   "metadata": {
    "collapsed": false,
    "ExecuteTime": {
     "end_time": "2024-02-03T18:16:18.036131400Z",
     "start_time": "2024-02-03T18:16:13.063827Z"
    }
   },
   "id": "a99657b4d8a1d505"
  },
  {
   "cell_type": "markdown",
   "source": [
    "['nb_bienHOP',\n",
    " 'MT_CHA_PIP',\n",
    " 'nb_empr_ope',\n",
    " 'niv_gravite_mtf_dfs',\n",
    " 'MT_CHA_HORS_OPE_PFI',\n",
    " 'MT_REV_PFI',\n",
    " 'Motif',\n",
    " 'MTF']"
   ],
   "metadata": {
    "collapsed": false
   },
   "id": "72346b19c99b71dd"
  },
  {
   "cell_type": "code",
   "execution_count": null,
   "outputs": [],
   "source": [],
   "metadata": {
    "collapsed": false,
    "ExecuteTime": {
     "start_time": "2024-02-03T18:16:18.025948Z"
    }
   },
   "id": "cc16d29be149dcc9"
  }
 ],
 "metadata": {
  "kernelspec": {
   "display_name": "Python 3",
   "language": "python",
   "name": "python3"
  },
  "language_info": {
   "codemirror_mode": {
    "name": "ipython",
    "version": 2
   },
   "file_extension": ".py",
   "mimetype": "text/x-python",
   "name": "python",
   "nbconvert_exporter": "python",
   "pygments_lexer": "ipython2",
   "version": "2.7.6"
  }
 },
 "nbformat": 4,
 "nbformat_minor": 5
}
