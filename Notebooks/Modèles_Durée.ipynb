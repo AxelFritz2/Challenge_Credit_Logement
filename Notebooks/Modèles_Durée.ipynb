{
 "cells": [
  {
   "cell_type": "code",
   "execution_count": 15,
   "outputs": [],
   "source": [
    "import pandas as pd\n",
    "import warnings\n",
    "from lifelines import CoxPHFitter, CoxTimeVaryingFitter\n",
    "import re\n",
    "from sklearn.preprocessing import OneHotEncoder, LabelEncoder\n",
    "warnings.filterwarnings(\"ignore\")"
   ],
   "metadata": {
    "collapsed": false,
    "ExecuteTime": {
     "end_time": "2024-01-08T21:09:00.669163600Z",
     "start_time": "2024-01-08T21:09:00.661520800Z"
    }
   },
   "id": "15aadaa69e159f2"
  },
  {
   "cell_type": "markdown",
   "source": [
    "# Import des données"
   ],
   "metadata": {
    "collapsed": false
   },
   "id": "94d2a304ff8c99d1"
  },
  {
   "cell_type": "code",
   "execution_count": 16,
   "outputs": [],
   "source": [
    "df = pd.read_csv('../data/base_modelis_pass_det.csv',sep = ';')"
   ],
   "metadata": {
    "collapsed": false,
    "ExecuteTime": {
     "end_time": "2024-01-08T21:09:04.936055400Z",
     "start_time": "2024-01-08T21:09:02.042704200Z"
    }
   },
   "id": "c58c2f0efcb39846"
  },
  {
   "cell_type": "code",
   "execution_count": 17,
   "outputs": [],
   "source": [
    "df['date_entree_defaut'] = pd.to_datetime(df['date_entree_defaut'], format='%d/%m/%y')\n",
    "df['date_sortie_defaut'] = pd.to_datetime(df['date_sortie_defaut'], format='%d/%m/%y', errors='coerce')\n",
    "df['arrete'] = pd.to_datetime(df['arrete'], format='%d/%m/%y')\n",
    "df['DT_MEP_OPE'] = pd.to_datetime(df['DT_MEP_OPE'], format='%d%b%Y:%H:%M:%S.%f')\n",
    "df['dt_arr_last_enc_ope'] = pd.to_datetime(df['dt_arr_last_enc_ope'], errors='coerce')\n",
    "df['dt_arr_1st_enc_ope'] = pd.to_datetime(df['dt_arr_1st_enc_ope'], errors='coerce')\n",
    "df['dtHJD_prov'] = pd.to_datetime(df['dtHJD_prov'], errors='coerce')\n",
    "df['dtHJD_def'] = pd.to_datetime(df['dtHJD_def'], errors='coerce')"
   ],
   "metadata": {
    "collapsed": false,
    "ExecuteTime": {
     "end_time": "2024-01-08T21:09:05.422457800Z",
     "start_time": "2024-01-08T21:09:04.940587500Z"
    }
   },
   "id": "537b9d5beb7c3cec"
  },
  {
   "cell_type": "code",
   "execution_count": 18,
   "outputs": [],
   "source": [
    "for column in df.columns :\n",
    "    if df[column].isna().sum()/df.shape[0] > 0.5 : \n",
    "        df.drop(columns = [column], inplace = True)"
   ],
   "metadata": {
    "collapsed": false,
    "ExecuteTime": {
     "end_time": "2024-01-08T21:09:06.735786900Z",
     "start_time": "2024-01-08T21:09:05.422457800Z"
    }
   },
   "id": "f94beb13ff28d33d"
  },
  {
   "cell_type": "code",
   "execution_count": 19,
   "outputs": [],
   "source": [
    "df.drop(columns = [\"CD_POST_BIEN_PFI\"], inplace = True)"
   ],
   "metadata": {
    "collapsed": false,
    "ExecuteTime": {
     "end_time": "2024-01-08T21:09:06.872067800Z",
     "start_time": "2024-01-08T21:09:06.741013100Z"
    }
   },
   "id": "487fa16e1ac5eca7"
  },
  {
   "cell_type": "code",
   "execution_count": 20,
   "outputs": [],
   "source": [
    "var_to_categorize = [\n",
    "    \"FL_REL_NON_ANNULE\",\n",
    "    \"FL_ETR\",\n",
    "    \"CD_ETAT_CIVIL\",\n",
    "    \"CD_DNE_CHR_LGD_SAIN\",\n",
    "    \"fl_prise_de_gar\",\n",
    "    \"fl_fam_vam\",\n",
    "    \"fam_ETH\",\n",
    "    \"fam_ENQ\",\n",
    "    \"fam_exp\",\n",
    "    \"fam_hyp\",\n",
    "    \"fam_sim\",\n",
    "    \"fam_AEP\",\n",
    "    \"dat_dec_echec\",\n",
    "    \"solution\",\n",
    "    \"fam_PCD\",\n",
    "    \"CD_MTF_ENE_CTX\",\n",
    "    \"niv_gravite_mtf_dne\",\n",
    "    \"niv_gravite_mtf_dfs\",\n",
    "    \"no_pass_def\",\n",
    "    \"fl_def_ss_pass_CTX\",\n",
    "    \"fl_prt_Conso\",\n",
    "    \"fl_fonc\",\n",
    "    \"AMI\",\n",
    "    \"EXE\",\n",
    "    \"PTG\"\n",
    "]\n",
    "for var in var_to_categorize : \n",
    "    df[var] = df[var].astype(\"object\")"
   ],
   "metadata": {
    "collapsed": false,
    "ExecuteTime": {
     "end_time": "2024-01-08T21:09:07.026047500Z",
     "start_time": "2024-01-08T21:09:06.876612300Z"
    }
   },
   "id": "49858d59f7c4bd85"
  },
  {
   "cell_type": "code",
   "execution_count": 22,
   "outputs": [],
   "source": [
    "cols_numeriques = df.select_dtypes(include=['float64', 'int64']).columns.to_list()\n",
    "cols_categorielles = df.select_dtypes(include=['object']).columns.to_list()\n",
    "cols_categorielles.remove(\"cd_op\")\n",
    "\n",
    "for col in cols_numeriques:\n",
    "    df[col].fillna(df[col].mean(), inplace=True)\n",
    "\n",
    "for col in cols_categorielles:\n",
    "    df[col].fillna(df[col].mode()[0], inplace=True)"
   ],
   "metadata": {
    "collapsed": false,
    "ExecuteTime": {
     "end_time": "2024-01-08T21:09:15.981403400Z",
     "start_time": "2024-01-08T21:09:14.852177500Z"
    }
   },
   "id": "871211e6ec41f59"
  },
  {
   "cell_type": "code",
   "execution_count": 8,
   "outputs": [],
   "source": [],
   "metadata": {
    "collapsed": false,
    "ExecuteTime": {
     "end_time": "2024-01-08T21:03:05.646803600Z",
     "start_time": "2024-01-08T21:02:59.825523200Z"
    }
   },
   "id": "421ec129e48b9a1d"
  },
  {
   "cell_type": "markdown",
   "source": [
    "# Tests d'indépendance\n",
    "\n",
    "## Var cat"
   ],
   "metadata": {
    "collapsed": false
   },
   "id": "75d4fd93cc8f031b"
  },
  {
   "cell_type": "code",
   "execution_count": 23,
   "outputs": [],
   "source": [
    "df_validation = df[df['arrete']>\"2020-12-30\"]\n",
    "df_train = df[df['arrete']<\"2020-12-30\"]\n",
    "df_train = df_train.reset_index()"
   ],
   "metadata": {
    "collapsed": false,
    "ExecuteTime": {
     "end_time": "2024-01-08T21:09:27.820625500Z",
     "start_time": "2024-01-08T21:09:27.136103300Z"
    }
   },
   "id": "1925ca0d15f4fc7d"
  },
  {
   "cell_type": "code",
   "execution_count": 65,
   "outputs": [
    {
     "name": "stdout",
     "output_type": "stream",
     "text": [
      "On rejette H0, cd_op et fl_pass_DET ne sont pas indépendantes : p-value = 0.0\n",
      "On rejette H0, CD_NAT_EMP1 et fl_pass_DET ne sont pas indépendantes : p-value = 2.959188471846747e-10\n",
      ": On conserve H0, CD_NAT_EMP2 et fl_pass_DET sont indépendantes : p-value = 0.04426582136894044\n",
      "On rejette H0, CD_DEST_PFI et fl_pass_DET ne sont pas indépendantes : p-value = 1.5289961770566588e-06\n",
      "On rejette H0, CD_NATUR_OP_PFI et fl_pass_DET ne sont pas indépendantes : p-value = 1.1218668588387619e-05\n",
      "On rejette H0, FL_REL_NON_ANNULE et fl_pass_DET ne sont pas indépendantes : p-value = 1.1171138835676533e-17\n",
      "On rejette H0, FL_ETR et fl_pass_DET ne sont pas indépendantes : p-value = 7.636330035945652e-11\n",
      "On rejette H0, CD_ETAT_CIVIL et fl_pass_DET ne sont pas indépendantes : p-value = 1.3811961547529014e-23\n",
      "On rejette H0, CD_CSP_EMP1 et fl_pass_DET ne sont pas indépendantes : p-value = 6.787332658173082e-06\n",
      "On rejette H0, CD_CSP_EMP2 et fl_pass_DET ne sont pas indépendantes : p-value = 1.3689455643117655e-10\n",
      "On rejette H0, CD_SITFAM_EMP1 et fl_pass_DET ne sont pas indépendantes : p-value = 2.0615927550890238e-08\n",
      ": On conserve H0, CD_SITFAM_EMP2 et fl_pass_DET sont indépendantes : p-value = 0.1074068203744973\n",
      "On rejette H0, fl_prise_de_gar et fl_pass_DET ne sont pas indépendantes : p-value = 0.0\n",
      "On rejette H0, fl_fam_vam et fl_pass_DET ne sont pas indépendantes : p-value = 2.688961734599438e-81\n",
      "On rejette H0, fam_ETH et fl_pass_DET ne sont pas indépendantes : p-value = 5.544190082679868e-25\n",
      "On rejette H0, fam_ENQ et fl_pass_DET ne sont pas indépendantes : p-value = 2.388701573852528e-161\n",
      "On rejette H0, fam_exp et fl_pass_DET ne sont pas indépendantes : p-value = 0.000692615297038006\n",
      "On rejette H0, fam_hyp et fl_pass_DET ne sont pas indépendantes : p-value = 5.648494213598685e-57\n",
      ": On conserve H0, fam_sim et fl_pass_DET sont indépendantes : p-value = 0.4107712171342406\n",
      ": On conserve H0, fam_AEP et fl_pass_DET sont indépendantes : p-value = 0.7048992242376316\n",
      "On rejette H0, dat_dec_echec et fl_pass_DET ne sont pas indépendantes : p-value = 5.9712308011369345e-189\n",
      "On rejette H0, solution et fl_pass_DET ne sont pas indépendantes : p-value = 2.761404009141983e-18\n",
      "On rejette H0, fam_PCD et fl_pass_DET ne sont pas indépendantes : p-value = 0.0\n",
      "On rejette H0, sol_echec et fl_pass_DET ne sont pas indépendantes : p-value = 0.0\n",
      "On rejette H0, CD_MTF_DFC et fl_pass_DET ne sont pas indépendantes : p-value = 0.0\n",
      "On rejette H0, no_pass_def et fl_pass_DET ne sont pas indépendantes : p-value = 9.722565107643758e-08\n",
      "On rejette H0, fl_def_ss_pass_CTX et fl_pass_DET ne sont pas indépendantes : p-value = 2.2147135148265066e-36\n",
      ": On conserve H0, fl_prt_Conso et fl_pass_DET sont indépendantes : p-value = 0.9220112230020732\n",
      ": On conserve H0, fl_fonc et fl_pass_DET sont indépendantes : p-value = 0.38354349307533464\n",
      "On rejette H0, regroup_natur_op et fl_pass_DET ne sont pas indépendantes : p-value = 1.3426616919461487e-07\n"
     ]
    }
   ],
   "source": [
    "from scipy.stats import zscore\n",
    "import scipy.stats as stats\n",
    "from scipy.stats import chi2_contingency\n",
    "\n",
    "var_cat_dependantes = []\n",
    "\n",
    "for column in df_train.select_dtypes(include='object').columns:\n",
    "    if column != 'fl_pass_DET':  \n",
    "        contingency_table = pd.crosstab(df_train['fl_pass_DET'], df_train[column])\n",
    "        _, p_value, _, _ = chi2_contingency(contingency_table)\n",
    "        \n",
    "        if p_value > 0.01 :\n",
    "            print(f\": On conserve H0, {column} et fl_pass_DET sont indépendantes : p-value = {p_value}\")\n",
    "        if p_value < 0.01 :\n",
    "            print(f\"On rejette H0, {column} et fl_pass_DET ne sont pas indépendantes : p-value = {p_value}\")\n",
    "            var_cat_dependantes.append(column)\n"
   ],
   "metadata": {
    "collapsed": false,
    "ExecuteTime": {
     "end_time": "2024-01-08T21:37:28.946789200Z",
     "start_time": "2024-01-08T21:37:27.320255800Z"
    }
   },
   "id": "aa2355a3c6e862d7"
  },
  {
   "cell_type": "markdown",
   "source": [
    "## Var num"
   ],
   "metadata": {
    "collapsed": false
   },
   "id": "f1fe060837fbd48a"
  },
  {
   "cell_type": "code",
   "execution_count": 66,
   "outputs": [
    {
     "name": "stdout",
     "output_type": "stream",
     "text": [
      "On conserve H0, index et fl_pass_DET sont indépendantes : p-value = 0.05916551972546058\n",
      "On conserve H0, nb_prt et fl_pass_DET sont indépendantes : p-value = 0.06728352791147284\n",
      "On conserve H0, ANC_BANC_MAX_PFI et fl_pass_DET sont indépendantes : p-value = 0.13655896172736254\n",
      "On conserve H0, MT_PATRIM_MOB et fl_pass_DET sont indépendantes : p-value = 0.019345580078007147\n",
      "On rejette H0, MT_CHA_HORS_OPE_PFI et fl_pass_DET ne sont pas indépendantes : p-value = 7.164799255059955e-11\n",
      "On rejette H0, NB_CHARGE_HORS_OPE_PFI et fl_pass_DET ne sont pas indépendantes : p-value = 1.5063972996869523e-05\n",
      "On rejette H0, MT_PATRIM_NET et fl_pass_DET ne sont pas indépendantes : p-value = 9.456608626520074e-17\n",
      "On rejette H0, MT_REV_PFI et fl_pass_DET ne sont pas indépendantes : p-value = 1.7683952161935098e-21\n",
      "On conserve H0, NB_DUR_PFI et fl_pass_DET sont indépendantes : p-value = 0.08507238916033885\n",
      "On conserve H0, TX_APPOR et fl_pass_DET sont indépendantes : p-value = 0.8521015216128529\n",
      "On conserve H0, MT_CHA_CSM_REV et fl_pass_DET sont indépendantes : p-value = 0.17047916707515598\n",
      "On rejette H0, MT_CHA_IMP et fl_pass_DET ne sont pas indépendantes : p-value = 0.00012140057509207502\n",
      "On rejette H0, MT_CHA_PIP et fl_pass_DET ne sont pas indépendantes : p-value = 1.1591607581015056e-13\n",
      "On rejette H0, MT_CHA_PIV et fl_pass_DET ne sont pas indépendantes : p-value = 0.0057984153520819655\n",
      "On conserve H0, NB_RP_HOP et fl_pass_DET sont indépendantes : p-value = 0.1764990084680429\n",
      "On rejette H0, NB_RS_HOP et fl_pass_DET ne sont pas indépendantes : p-value = 0.00026704242257426946\n",
      "On conserve H0, NB_LO_HOP et fl_pass_DET sont indépendantes : p-value = 0.8673103005103764\n",
      "On rejette H0, cum_dec et fl_pass_DET ne sont pas indépendantes : p-value = 0.0\n",
      "On rejette H0, cum_rec et fl_pass_DET ne sont pas indépendantes : p-value = 2.2109872676976598e-54\n",
      "On rejette H0, cum_frs_externes et fl_pass_DET ne sont pas indépendantes : p-value = 2.6436051800540652e-282\n",
      "On rejette H0, CD_DNE_CHR_LGD_SAIN et fl_pass_DET ne sont pas indépendantes : p-value = 1.0371366817033424e-06\n",
      "On rejette H0, MT_EAD_RESID et fl_pass_DET ne sont pas indépendantes : p-value = 0.004487737035394404\n",
      "On conserve H0, MT_EAD_DNE_CHR_d et fl_pass_DET sont indépendantes : p-value = 0.580771613616616\n",
      "On rejette H0, MR_arr et fl_pass_DET ne sont pas indépendantes : p-value = 0.0\n",
      "On rejette H0, CD_MTF_ENE_CTX et fl_pass_DET ne sont pas indépendantes : p-value = 9.697653505177218e-103\n",
      "On rejette H0, niv_gravite_mtf_dne et fl_pass_DET ne sont pas indépendantes : p-value = 1.1964807847241153e-82\n",
      "On rejette H0, niv_gravite_mtf_dfs et fl_pass_DET ne sont pas indépendantes : p-value = 1.6661092441380733e-27\n",
      "On rejette H0, dls_mep_entree_def et fl_pass_DET ne sont pas indépendantes : p-value = 0.008304950559501516\n",
      "On rejette H0, nb_bienHOP et fl_pass_DET ne sont pas indépendantes : p-value = 2.3625928414161476e-16\n",
      "On rejette H0, ANC_PRO_MAX_PFI et fl_pass_DET ne sont pas indépendantes : p-value = 2.1049734382996963e-10\n",
      "On conserve H0, max_age_ctx et fl_pass_DET sont indépendantes : p-value = 0.06440593096061364\n",
      "On rejette H0, nb_empr_ope et fl_pass_DET ne sont pas indépendantes : p-value = 3.305307575560088e-16\n",
      "On conserve H0, MT_FMG et fl_pass_DET sont indépendantes : p-value = 0.17720501665682853\n",
      "On rejette H0, mt_dec_cum_IMP_tot et fl_pass_DET ne sont pas indépendantes : p-value = 0.0\n",
      "On rejette H0, MT_CHG_MSL et fl_pass_DET ne sont pas indépendantes : p-value = 2.4371715668884517e-07\n",
      "On rejette H0, mt_rev_dispo et fl_pass_DET ne sont pas indépendantes : p-value = 4.730176718548003e-15\n",
      "On conserve H0, EAD_1an_avant_def et fl_pass_DET sont indépendantes : p-value = 0.15257327060871997\n",
      "On rejette H0, dls_ges_def et fl_pass_DET ne sont pas indépendantes : p-value = 4.229003774235886e-222\n",
      "On rejette H0, AMI et fl_pass_DET ne sont pas indépendantes : p-value = 2.5586720899359e-22\n",
      "On conserve H0, EXE et fl_pass_DET sont indépendantes : p-value = 0.8364502670596464\n",
      "On rejette H0, PTG et fl_pass_DET ne sont pas indépendantes : p-value = 0.0\n",
      "On conserve H0, AGE_EMP1 et fl_pass_DET sont indépendantes : p-value = 0.7752545540628075\n",
      "On conserve H0, AGE_EMP2 et fl_pass_DET sont indépendantes : p-value = 0.46774635153616906\n",
      "On conserve H0, TX_ENDET et fl_pass_DET sont indépendantes : p-value = 0.06085209344837029\n",
      "On rejette H0, MT_REST_VIVRE et fl_pass_DET ne sont pas indépendantes : p-value = 5.479490704864568e-13\n"
     ]
    }
   ],
   "source": [
    "var_num_dependantes = []\n",
    "for column in df_train.select_dtypes(include='number').columns:\n",
    "    if column != 'fl_pass_DET':\n",
    "        groupe_0 = [df_train[column][i] for i in range(len(df_train['fl_pass_DET'])) if df_train['fl_pass_DET'][i] == 0]\n",
    "        groupe_1 = [df_train[column][i] for i in range(len(df_train['fl_pass_DET'])) if df_train['fl_pass_DET'][i] == 1]\n",
    "        \n",
    "        statistique_U, p_value = stats.mannwhitneyu(groupe_0, groupe_1)\n",
    "        \n",
    "        if p_value > 0.01:\n",
    "            print(f\"On conserve H0, {column} et fl_pass_DET sont indépendantes : p-value = {p_value}\")\n",
    "        if p_value < 0.01:\n",
    "            print(f\"On rejette H0, {column} et fl_pass_DET ne sont pas indépendantes : p-value = {p_value}\")\n",
    "            var_num_dependantes.append(column)"
   ],
   "metadata": {
    "collapsed": false,
    "ExecuteTime": {
     "end_time": "2024-01-08T21:40:07.133723600Z",
     "start_time": "2024-01-08T21:37:33.184131100Z"
    }
   },
   "id": "1d0c5eacf56edfa3"
  },
  {
   "cell_type": "code",
   "execution_count": 75,
   "outputs": [],
   "source": [
    "var_num_dependantes.extend(var_cat_dependantes)\n",
    "liste_dep = var_num_dependantes.copy()"
   ],
   "metadata": {
    "collapsed": false,
    "ExecuteTime": {
     "end_time": "2024-01-08T21:43:06.209579800Z",
     "start_time": "2024-01-08T21:43:06.178228300Z"
    }
   },
   "id": "d1d0498c2355222e"
  },
  {
   "cell_type": "code",
   "execution_count": 82,
   "outputs": [],
   "source": [
    "liste_dep = list(set(liste_dep))"
   ],
   "metadata": {
    "collapsed": false,
    "ExecuteTime": {
     "end_time": "2024-01-08T21:44:52.867662600Z",
     "start_time": "2024-01-08T21:44:52.852016500Z"
    }
   },
   "id": "158c27309dbb963"
  },
  {
   "cell_type": "markdown",
   "source": [
    "On va diviser cette liste en 5 pour tester 5 modeles diff, puis on prendra toutes les var significatives pour tester un 6eme modèle"
   ],
   "metadata": {
    "collapsed": false
   },
   "id": "47ba25e3f62e0844"
  },
  {
   "cell_type": "code",
   "execution_count": 103,
   "outputs": [],
   "source": [
    "def diviser_liste(liste, nombre_de_sections):\n",
    "    taille_section = len(liste) // nombre_de_sections\n",
    "    sections = [liste[i * taille_section:(i + 1) * taille_section] for i in range(nombre_de_sections - 1)]\n",
    "    sections.append(liste[(nombre_de_sections - 1) * taille_section:])\n",
    "    return sections\n",
    "\n",
    "\n",
    "liste_1, liste_2, liste_3, liste_4, liste_5 = diviser_liste(liste_dep, 5)"
   ],
   "metadata": {
    "collapsed": false,
    "ExecuteTime": {
     "end_time": "2024-01-08T21:54:13.899304Z",
     "start_time": "2024-01-08T21:54:13.868470Z"
    }
   },
   "id": "7f8ec5837e68ad82"
  },
  {
   "cell_type": "code",
   "execution_count": 123,
   "outputs": [],
   "source": [
    "df_train_var = df[liste_2].copy()\n",
    "df_test_var = df_validation[liste_2].copy()"
   ],
   "metadata": {
    "collapsed": false,
    "ExecuteTime": {
     "end_time": "2024-01-08T22:10:46.510738800Z",
     "start_time": "2024-01-08T22:10:46.407184500Z"
    }
   },
   "id": "b49125cb4693c7e2"
  },
  {
   "cell_type": "markdown",
   "source": [
    "# Encoding"
   ],
   "metadata": {
    "collapsed": false
   },
   "id": "e43d6cf48a236d7b"
  },
  {
   "cell_type": "code",
   "execution_count": 124,
   "outputs": [],
   "source": [
    "def encode_columns(df):\n",
    "    encoders = {}\n",
    "    for column in df.select_dtypes(include='object'):\n",
    "        unique_values = df[column].nunique()\n",
    "        if unique_values <= 10:\n",
    "            # Appliquer OneHotEncoder\n",
    "            encoder = OneHotEncoder(sparse=False)\n",
    "            encoded = encoder.fit_transform(df[[column]])\n",
    "            encoders[column] = encoder\n",
    "\n",
    "            # Remplacer la colonne originale par de nouvelles colonnes pour chaque catégorie\n",
    "            for i, category in enumerate(encoder.categories_[0]):\n",
    "                df[str(column) + '_' + str(category)] = encoded[:, i]\n",
    "            df.drop(column, axis=1, inplace=True)\n",
    "        else:\n",
    "            # Appliquer LabelEncoder\n",
    "            encoder = LabelEncoder()\n",
    "            df[column] = encoder.fit_transform(df[column])\n",
    "            encoders[column] = encoder\n",
    "    return df, encoders\n",
    "\n",
    "encoded_df, encoders = encode_columns(df_train_var)\n",
    "encoded_test, encoder_test = encode_columns(df_test_var)"
   ],
   "metadata": {
    "collapsed": false,
    "ExecuteTime": {
     "end_time": "2024-01-08T22:10:50.681861600Z",
     "start_time": "2024-01-08T22:10:50.024554500Z"
    }
   },
   "id": "6d2898414042b666"
  },
  {
   "cell_type": "code",
   "execution_count": 128,
   "outputs": [],
   "source": [
    "df_train_var['cd_op']  = df['cd_op'].copy()\n",
    "df_train_var['fl_pass_DET'] = df['fl_pass_DET'].copy()\n",
    "df_train_var['date_entree_defaut'] = df['date_entree_defaut'].copy()\n",
    "df_train_var['arrete'] = df['arrete'].copy()"
   ],
   "metadata": {
    "collapsed": false,
    "ExecuteTime": {
     "end_time": "2024-01-08T22:12:26.719964600Z",
     "start_time": "2024-01-08T22:12:26.704035400Z"
    }
   },
   "id": "76fffbb2bcf8f2af"
  },
  {
   "cell_type": "code",
   "execution_count": 129,
   "outputs": [],
   "source": [
    "df_test_var['cd_op']  = df_validation['cd_op'].copy()\n",
    "df_test_var['fl_pass_DET'] = df_validation['fl_pass_DET'].copy()\n",
    "df_test_var['date_entree_defaut'] = df_validation['date_entree_defaut'].copy()\n",
    "df_test_var['arrete'] = df_validation['arrete'].copy()"
   ],
   "metadata": {
    "collapsed": false,
    "ExecuteTime": {
     "end_time": "2024-01-08T22:12:27.255938900Z",
     "start_time": "2024-01-08T22:12:27.214118900Z"
    }
   },
   "id": "ee63c4f5001cef6d"
  },
  {
   "cell_type": "markdown",
   "source": [
    "# Préparation des données"
   ],
   "metadata": {
    "collapsed": false
   },
   "id": "83a691d288db4f6b"
  },
  {
   "cell_type": "code",
   "execution_count": 130,
   "outputs": [],
   "source": [
    "data_haz = df_train_var.copy()\n",
    "data_test =df_test_var.copy()"
   ],
   "metadata": {
    "collapsed": false,
    "ExecuteTime": {
     "end_time": "2024-01-08T22:12:28.252054900Z",
     "start_time": "2024-01-08T22:12:28.160744200Z"
    }
   },
   "id": "6ba556aec2722d85"
  },
  {
   "cell_type": "code",
   "execution_count": 131,
   "outputs": [],
   "source": [
    "data_haz['start'] = 0\n",
    "data_haz['stop'] = data_haz['arrete'] - data_haz['date_entree_defaut']\n",
    "data_haz['stop'] = data_haz['stop'].dt.days\n",
    "\n",
    "data_test['start'] = 0\n",
    "data_test['stop'] = data_test['arrete'] - data_test['date_entree_defaut']\n",
    "data_test['stop'] = data_test['stop'].dt.days"
   ],
   "metadata": {
    "collapsed": false,
    "ExecuteTime": {
     "end_time": "2024-01-08T22:12:28.610772400Z",
     "start_time": "2024-01-08T22:12:28.557298100Z"
    }
   },
   "id": "ed63998ee83be339"
  },
  {
   "cell_type": "code",
   "execution_count": 132,
   "outputs": [],
   "source": [
    "data_haz['id'] = data_haz['cd_op'].apply(lambda x: re.sub(r'\\D', '', str(x)))\n",
    "\n",
    "\n",
    "data_test['id'] = data_test['cd_op'].apply(lambda x: re.sub(r'\\D', '', str(x)))"
   ],
   "metadata": {
    "collapsed": false,
    "ExecuteTime": {
     "end_time": "2024-01-08T22:12:45.832150900Z",
     "start_time": "2024-01-08T22:12:45.198866900Z"
    }
   },
   "id": "6458005d461994e4"
  },
  {
   "cell_type": "code",
   "execution_count": 133,
   "outputs": [],
   "source": [
    "data_haz.loc[(data_haz['start'] == data_haz['stop']) & (data_haz['start'] == 0) & data_haz[\n",
    "    'fl_pass_DET'], 'stop'] = 0.5  # car le modele n'accepte pas les individus qui sortent de la survie au moment ou ils y entrent donc on remplace les 0 par 0.5.\n",
    "\n",
    "data_test.loc[(data_test['start'] == data_test['stop']) & (data_test['start'] == 0) & data_test[\n",
    "    'fl_pass_DET'], 'stop'] = 0.5 "
   ],
   "metadata": {
    "collapsed": false,
    "ExecuteTime": {
     "end_time": "2024-01-08T22:13:19.770630400Z",
     "start_time": "2024-01-08T22:13:19.734159100Z"
    }
   },
   "id": "c166cdd0afea72f5"
  },
  {
   "cell_type": "code",
   "execution_count": 134,
   "outputs": [],
   "source": [
    "data_haz = data_haz.select_dtypes(exclude=[\"datetime64\"])\n",
    "\n",
    "data_test = data_test.select_dtypes(exclude=[\"datetime64\"])"
   ],
   "metadata": {
    "collapsed": false,
    "ExecuteTime": {
     "end_time": "2024-01-08T22:13:33.017326500Z",
     "start_time": "2024-01-08T22:13:32.897427800Z"
    }
   },
   "id": "e2f2ed6be3b153e4"
  },
  {
   "cell_type": "code",
   "execution_count": 135,
   "outputs": [],
   "source": [
    "data_haz.drop(columns = [\"cd_op\"], inplace = True)\n",
    "\n",
    "\n",
    "data_test.drop(columns = [\"cd_op\"], inplace = True)"
   ],
   "metadata": {
    "collapsed": false,
    "ExecuteTime": {
     "end_time": "2024-01-08T22:13:41.832926300Z",
     "start_time": "2024-01-08T22:13:41.781250400Z"
    }
   },
   "id": "cb8c902d74121e54"
  },
  {
   "cell_type": "markdown",
   "source": [
    "# Modélisation"
   ],
   "metadata": {
    "collapsed": false,
    "ExecuteTime": {
     "start_time": "2024-01-08T20:55:44.170112600Z"
    }
   },
   "id": "e2852264f55785db"
  },
  {
   "cell_type": "code",
   "execution_count": 116,
   "outputs": [
    {
     "name": "stdout",
     "output_type": "stream",
     "text": [
      "Iteration 1: norm_delta = 1.54e-01, step_size = 0.9500, log_lik = -86546.11010, newton_decrement = 5.86e+02, seconds_since_start = 27.8\n",
      "Iteration 2: norm_delta = 6.28e-03, step_size = 0.9500, log_lik = -85966.19321, newton_decrement = 9.67e-01, seconds_since_start = 55.6\n",
      "Iteration 3: norm_delta = 3.20e-04, step_size = 0.9500, log_lik = -85965.22816, newton_decrement = 2.50e-03, seconds_since_start = 82.9\n",
      "Iteration 4: norm_delta = 1.69e-05, step_size = 1.0000, log_lik = -85965.22567, newton_decrement = 6.25e-06, seconds_since_start = 109.9\n",
      "Iteration 5: norm_delta = 9.21e-11, step_size = 1.0000, log_lik = -85965.22566, newton_decrement = 1.73e-16, seconds_since_start = 137.7\n",
      "Convergence completed after 5 iterations.\n"
     ]
    },
    {
     "data": {
      "text/plain": "<lifelines.CoxTimeVaryingFitter: fitted with 329064 periods, 23305 subjects, 7463 events>"
     },
     "execution_count": 116,
     "metadata": {},
     "output_type": "execute_result"
    }
   ],
   "source": [
    "ctv = CoxTimeVaryingFitter(penalizer=0.1)\n",
    "ctv.fit(data_haz, id_col=\"id\", event_col=\"fl_pass_DET\", stop_col=\"stop\", show_progress=True)"
   ],
   "metadata": {
    "collapsed": false,
    "ExecuteTime": {
     "end_time": "2024-01-08T21:59:58.124063400Z",
     "start_time": "2024-01-08T21:57:35.890079300Z"
    }
   },
   "id": "1f4b018e34eb2e2a"
  },
  {
   "cell_type": "code",
   "execution_count": 117,
   "outputs": [
    {
     "data": {
      "text/plain": "<lifelines.CoxTimeVaryingFitter: fitted with 329064 periods, 23305 subjects, 7463 events>\n         event col = 'fl_pass_DET'\n         penalizer = 0.1\nnumber of subjects = 23305\n number of periods = 329064\n  number of events = 7463\npartial log-likelihood = -85965.23\n  time fit was run = 2024-01-08 21:57:35 UTC\n\n---\n                                  coef  exp(coef)   se(coef)   coef lower 95%   coef upper 95%  exp(coef) lower 95%  exp(coef) upper 95%\ncovariate                                                                                                                               \nCD_MTF_ENE_CTX                   -0.00       1.00       0.00            -0.00            -0.00                 1.00                 1.00\nniv_gravite_mtf_dne               0.20       1.23       0.02             0.17             0.24                 1.19                 1.27\nNB_CHARGE_HORS_OPE_PFI           -0.01       0.99       0.00            -0.02            -0.01                 0.98                 0.99\nANC_PRO_MAX_PFI                  -0.00       1.00       0.00            -0.00            -0.00                 1.00                 1.00\nCD_DNE_CHR_LGD_SAIN              -0.00       1.00       0.00            -0.01             0.00                 0.99                 1.00\ncum_frs_externes                 -0.00       1.00       0.00            -0.00            -0.00                 1.00                 1.00\nFL_REL_NON_ANNULE_0              -0.13       0.88       0.03            -0.20            -0.07                 0.82                 0.94\nFL_REL_NON_ANNULE_1               0.13       1.14       0.03             0.07             0.20                 1.07                 1.22\nfam_ENQ_0                        -0.06       0.94       0.01            -0.09            -0.04                 0.92                 0.96\nfam_ENQ_1                         0.06       1.07       0.01             0.04             0.09                 1.04                 1.09\nsolution_0                        0.19       1.21       0.01             0.17             0.21                 1.18                 1.23\nsolution_1                       -0.19       0.83       0.01            -0.21            -0.17                 0.81                 0.84\nregroup_natur_op_1_neuf_aco_acr  -0.02       0.98       0.02            -0.06             0.03                 0.94                 1.03\nregroup_natur_op_2_rachat_sou    -0.01       0.99       0.01            -0.04             0.01                 0.96                 1.01\nregroup_natur_op_3_travaux       -0.00       1.00       0.01            -0.03             0.02                 0.97                 1.02\nregroup_natur_op_4_autre          0.01       1.01       0.01            -0.01             0.03                 0.99                 1.04\n\n                                  cmp to      z      p   -log2(p)\ncovariate                                                        \nCD_MTF_ENE_CTX                      0.00  -4.12 <0.005      14.69\nniv_gravite_mtf_dne                 0.00  12.44 <0.005     115.69\nNB_CHARGE_HORS_OPE_PFI              0.00  -4.08 <0.005      14.43\nANC_PRO_MAX_PFI                     0.00  -3.15 <0.005       9.25\nCD_DNE_CHR_LGD_SAIN                 0.00  -1.06   0.29       1.79\ncum_frs_externes                    0.00  -4.65 <0.005      18.20\nFL_REL_NON_ANNULE_0                 0.00  -3.94 <0.005      13.59\nFL_REL_NON_ANNULE_1                 0.00   3.94 <0.005      13.59\nfam_ENQ_0                           0.00  -5.22 <0.005      22.40\nfam_ENQ_1                           0.00   5.22 <0.005      22.40\nsolution_0                          0.00  18.56 <0.005     252.95\nsolution_1                          0.00 -18.56 <0.005     252.95\nregroup_natur_op_1_neuf_aco_acr     0.00  -0.76   0.45       1.16\nregroup_natur_op_2_rachat_sou       0.00  -1.01   0.31       1.69\nregroup_natur_op_3_travaux          0.00  -0.38   0.71       0.50\nregroup_natur_op_4_autre            0.00   1.38   0.17       2.57\n---\nPartial AIC = 171962.45\nlog-likelihood ratio test = 1161.77 on 16 df\n-log2(p) of ll-ratio test = 786.05",
      "text/html": "<div>\n<style scoped>\n    .dataframe tbody tr th:only-of-type {\n        vertical-align: middle;\n    }\n\n    .dataframe tbody tr th {\n        vertical-align: top;\n    }\n\n    .dataframe thead th {\n        text-align: right;\n    }\n</style>\n<table border=\"1\" class=\"dataframe\">\n  <tbody>\n    <tr>\n      <th>model</th>\n      <td>lifelines.CoxTimeVaryingFitter</td>\n    </tr>\n    <tr>\n      <th>event col</th>\n      <td>'fl_pass_DET'</td>\n    </tr>\n    <tr>\n      <th>penalizer</th>\n      <td>0.1</td>\n    </tr>\n    <tr>\n      <th>number of subjects</th>\n      <td>23305</td>\n    </tr>\n    <tr>\n      <th>number of periods</th>\n      <td>329064</td>\n    </tr>\n    <tr>\n      <th>number of events</th>\n      <td>7463</td>\n    </tr>\n    <tr>\n      <th>partial log-likelihood</th>\n      <td>-85965.23</td>\n    </tr>\n    <tr>\n      <th>time fit was run</th>\n      <td>2024-01-08 21:57:35 UTC</td>\n    </tr>\n  </tbody>\n</table>\n</div><table border=\"1\" class=\"dataframe\">\n  <thead>\n    <tr style=\"text-align: right;\">\n      <th style=\"min-width: 12px;\"></th>\n      <th style=\"min-width: 12px;\">coef</th>\n      <th style=\"min-width: 12px;\">exp(coef)</th>\n      <th style=\"min-width: 12px;\">se(coef)</th>\n      <th style=\"min-width: 12px;\">coef lower 95%</th>\n      <th style=\"min-width: 12px;\">coef upper 95%</th>\n      <th style=\"min-width: 12px;\">exp(coef) lower 95%</th>\n      <th style=\"min-width: 12px;\">exp(coef) upper 95%</th>\n      <th style=\"min-width: 12px;\">cmp to</th>\n      <th style=\"min-width: 12px;\">z</th>\n      <th style=\"min-width: 12px;\">p</th>\n      <th style=\"min-width: 12px;\">-log2(p)</th>\n    </tr>\n  </thead>\n  <tbody>\n    <tr>\n      <th>CD_MTF_ENE_CTX</th>\n      <td>-0.00</td>\n      <td>1.00</td>\n      <td>0.00</td>\n      <td>-0.00</td>\n      <td>-0.00</td>\n      <td>1.00</td>\n      <td>1.00</td>\n      <td>0.00</td>\n      <td>-4.12</td>\n      <td>&lt;0.005</td>\n      <td>14.69</td>\n    </tr>\n    <tr>\n      <th>niv_gravite_mtf_dne</th>\n      <td>0.20</td>\n      <td>1.23</td>\n      <td>0.02</td>\n      <td>0.17</td>\n      <td>0.24</td>\n      <td>1.19</td>\n      <td>1.27</td>\n      <td>0.00</td>\n      <td>12.44</td>\n      <td>&lt;0.005</td>\n      <td>115.69</td>\n    </tr>\n    <tr>\n      <th>NB_CHARGE_HORS_OPE_PFI</th>\n      <td>-0.01</td>\n      <td>0.99</td>\n      <td>0.00</td>\n      <td>-0.02</td>\n      <td>-0.01</td>\n      <td>0.98</td>\n      <td>0.99</td>\n      <td>0.00</td>\n      <td>-4.08</td>\n      <td>&lt;0.005</td>\n      <td>14.43</td>\n    </tr>\n    <tr>\n      <th>ANC_PRO_MAX_PFI</th>\n      <td>-0.00</td>\n      <td>1.00</td>\n      <td>0.00</td>\n      <td>-0.00</td>\n      <td>-0.00</td>\n      <td>1.00</td>\n      <td>1.00</td>\n      <td>0.00</td>\n      <td>-3.15</td>\n      <td>&lt;0.005</td>\n      <td>9.25</td>\n    </tr>\n    <tr>\n      <th>CD_DNE_CHR_LGD_SAIN</th>\n      <td>-0.00</td>\n      <td>1.00</td>\n      <td>0.00</td>\n      <td>-0.01</td>\n      <td>0.00</td>\n      <td>0.99</td>\n      <td>1.00</td>\n      <td>0.00</td>\n      <td>-1.06</td>\n      <td>0.29</td>\n      <td>1.79</td>\n    </tr>\n    <tr>\n      <th>cum_frs_externes</th>\n      <td>-0.00</td>\n      <td>1.00</td>\n      <td>0.00</td>\n      <td>-0.00</td>\n      <td>-0.00</td>\n      <td>1.00</td>\n      <td>1.00</td>\n      <td>0.00</td>\n      <td>-4.65</td>\n      <td>&lt;0.005</td>\n      <td>18.20</td>\n    </tr>\n    <tr>\n      <th>FL_REL_NON_ANNULE_0</th>\n      <td>-0.13</td>\n      <td>0.88</td>\n      <td>0.03</td>\n      <td>-0.20</td>\n      <td>-0.07</td>\n      <td>0.82</td>\n      <td>0.94</td>\n      <td>0.00</td>\n      <td>-3.94</td>\n      <td>&lt;0.005</td>\n      <td>13.59</td>\n    </tr>\n    <tr>\n      <th>FL_REL_NON_ANNULE_1</th>\n      <td>0.13</td>\n      <td>1.14</td>\n      <td>0.03</td>\n      <td>0.07</td>\n      <td>0.20</td>\n      <td>1.07</td>\n      <td>1.22</td>\n      <td>0.00</td>\n      <td>3.94</td>\n      <td>&lt;0.005</td>\n      <td>13.59</td>\n    </tr>\n    <tr>\n      <th>fam_ENQ_0</th>\n      <td>-0.06</td>\n      <td>0.94</td>\n      <td>0.01</td>\n      <td>-0.09</td>\n      <td>-0.04</td>\n      <td>0.92</td>\n      <td>0.96</td>\n      <td>0.00</td>\n      <td>-5.22</td>\n      <td>&lt;0.005</td>\n      <td>22.40</td>\n    </tr>\n    <tr>\n      <th>fam_ENQ_1</th>\n      <td>0.06</td>\n      <td>1.07</td>\n      <td>0.01</td>\n      <td>0.04</td>\n      <td>0.09</td>\n      <td>1.04</td>\n      <td>1.09</td>\n      <td>0.00</td>\n      <td>5.22</td>\n      <td>&lt;0.005</td>\n      <td>22.40</td>\n    </tr>\n    <tr>\n      <th>solution_0</th>\n      <td>0.19</td>\n      <td>1.21</td>\n      <td>0.01</td>\n      <td>0.17</td>\n      <td>0.21</td>\n      <td>1.18</td>\n      <td>1.23</td>\n      <td>0.00</td>\n      <td>18.56</td>\n      <td>&lt;0.005</td>\n      <td>252.95</td>\n    </tr>\n    <tr>\n      <th>solution_1</th>\n      <td>-0.19</td>\n      <td>0.83</td>\n      <td>0.01</td>\n      <td>-0.21</td>\n      <td>-0.17</td>\n      <td>0.81</td>\n      <td>0.84</td>\n      <td>0.00</td>\n      <td>-18.56</td>\n      <td>&lt;0.005</td>\n      <td>252.95</td>\n    </tr>\n    <tr>\n      <th>regroup_natur_op_1_neuf_aco_acr</th>\n      <td>-0.02</td>\n      <td>0.98</td>\n      <td>0.02</td>\n      <td>-0.06</td>\n      <td>0.03</td>\n      <td>0.94</td>\n      <td>1.03</td>\n      <td>0.00</td>\n      <td>-0.76</td>\n      <td>0.45</td>\n      <td>1.16</td>\n    </tr>\n    <tr>\n      <th>regroup_natur_op_2_rachat_sou</th>\n      <td>-0.01</td>\n      <td>0.99</td>\n      <td>0.01</td>\n      <td>-0.04</td>\n      <td>0.01</td>\n      <td>0.96</td>\n      <td>1.01</td>\n      <td>0.00</td>\n      <td>-1.01</td>\n      <td>0.31</td>\n      <td>1.69</td>\n    </tr>\n    <tr>\n      <th>regroup_natur_op_3_travaux</th>\n      <td>-0.00</td>\n      <td>1.00</td>\n      <td>0.01</td>\n      <td>-0.03</td>\n      <td>0.02</td>\n      <td>0.97</td>\n      <td>1.02</td>\n      <td>0.00</td>\n      <td>-0.38</td>\n      <td>0.71</td>\n      <td>0.50</td>\n    </tr>\n    <tr>\n      <th>regroup_natur_op_4_autre</th>\n      <td>0.01</td>\n      <td>1.01</td>\n      <td>0.01</td>\n      <td>-0.01</td>\n      <td>0.03</td>\n      <td>0.99</td>\n      <td>1.04</td>\n      <td>0.00</td>\n      <td>1.38</td>\n      <td>0.17</td>\n      <td>2.57</td>\n    </tr>\n  </tbody>\n</table><br><div>\n<style scoped>\n    .dataframe tbody tr th:only-of-type {\n        vertical-align: middle;\n    }\n\n    .dataframe tbody tr th {\n        vertical-align: top;\n    }\n\n    .dataframe thead th {\n        text-align: right;\n    }\n</style>\n<table border=\"1\" class=\"dataframe\">\n  <tbody>\n    <tr>\n      <th>Partial AIC</th>\n      <td>171962.45</td>\n    </tr>\n    <tr>\n      <th>log-likelihood ratio test</th>\n      <td>1161.77 on 16 df</td>\n    </tr>\n    <tr>\n      <th>-log2(p) of ll-ratio test</th>\n      <td>786.05</td>\n    </tr>\n  </tbody>\n</table>\n</div>",
      "text/latex": "\\begin{tabular}{lrrrrrrrrrrr}\n & coef & exp(coef) & se(coef) & coef lower 95% & coef upper 95% & exp(coef) lower 95% & exp(coef) upper 95% & cmp to & z & p & -log2(p) \\\\\ncovariate &  &  &  &  &  &  &  &  &  &  &  \\\\\nCD_MTF_ENE_CTX & -0.00 & 1.00 & 0.00 & -0.00 & -0.00 & 1.00 & 1.00 & 0.00 & -4.12 & 0.00 & 14.69 \\\\\nniv_gravite_mtf_dne & 0.20 & 1.23 & 0.02 & 0.17 & 0.24 & 1.19 & 1.27 & 0.00 & 12.44 & 0.00 & 115.69 \\\\\nNB_CHARGE_HORS_OPE_PFI & -0.01 & 0.99 & 0.00 & -0.02 & -0.01 & 0.98 & 0.99 & 0.00 & -4.08 & 0.00 & 14.43 \\\\\nANC_PRO_MAX_PFI & -0.00 & 1.00 & 0.00 & -0.00 & -0.00 & 1.00 & 1.00 & 0.00 & -3.15 & 0.00 & 9.25 \\\\\nCD_DNE_CHR_LGD_SAIN & -0.00 & 1.00 & 0.00 & -0.01 & 0.00 & 0.99 & 1.00 & 0.00 & -1.06 & 0.29 & 1.79 \\\\\ncum_frs_externes & -0.00 & 1.00 & 0.00 & -0.00 & -0.00 & 1.00 & 1.00 & 0.00 & -4.65 & 0.00 & 18.20 \\\\\nFL_REL_NON_ANNULE_0 & -0.13 & 0.88 & 0.03 & -0.20 & -0.07 & 0.82 & 0.94 & 0.00 & -3.94 & 0.00 & 13.59 \\\\\nFL_REL_NON_ANNULE_1 & 0.13 & 1.14 & 0.03 & 0.07 & 0.20 & 1.07 & 1.22 & 0.00 & 3.94 & 0.00 & 13.59 \\\\\nfam_ENQ_0 & -0.06 & 0.94 & 0.01 & -0.09 & -0.04 & 0.92 & 0.96 & 0.00 & -5.22 & 0.00 & 22.40 \\\\\nfam_ENQ_1 & 0.06 & 1.07 & 0.01 & 0.04 & 0.09 & 1.04 & 1.09 & 0.00 & 5.22 & 0.00 & 22.40 \\\\\nsolution_0 & 0.19 & 1.21 & 0.01 & 0.17 & 0.21 & 1.18 & 1.23 & 0.00 & 18.56 & 0.00 & 252.95 \\\\\nsolution_1 & -0.19 & 0.83 & 0.01 & -0.21 & -0.17 & 0.81 & 0.84 & 0.00 & -18.56 & 0.00 & 252.95 \\\\\nregroup_natur_op_1_neuf_aco_acr & -0.02 & 0.98 & 0.02 & -0.06 & 0.03 & 0.94 & 1.03 & 0.00 & -0.76 & 0.45 & 1.16 \\\\\nregroup_natur_op_2_rachat_sou & -0.01 & 0.99 & 0.01 & -0.04 & 0.01 & 0.96 & 1.01 & 0.00 & -1.01 & 0.31 & 1.69 \\\\\nregroup_natur_op_3_travaux & -0.00 & 1.00 & 0.01 & -0.03 & 0.02 & 0.97 & 1.02 & 0.00 & -0.38 & 0.71 & 0.50 \\\\\nregroup_natur_op_4_autre & 0.01 & 1.01 & 0.01 & -0.01 & 0.03 & 0.99 & 1.04 & 0.00 & 1.38 & 0.17 & 2.57 \\\\\n\\end{tabular}\n"
     },
     "metadata": {},
     "output_type": "display_data"
    }
   ],
   "source": [
    "ctv.print_summary()"
   ],
   "metadata": {
    "collapsed": false,
    "ExecuteTime": {
     "end_time": "2024-01-08T21:59:58.209300Z",
     "start_time": "2024-01-08T21:59:58.130330800Z"
    }
   },
   "id": "bf8a0f070c03ed5f"
  },
  {
   "cell_type": "code",
   "execution_count": 118,
   "outputs": [
    {
     "data": {
      "text/plain": "<Axes: xlabel='log(HR) (95% CI)'>"
     },
     "execution_count": 118,
     "metadata": {},
     "output_type": "execute_result"
    },
    {
     "data": {
      "text/plain": "<Figure size 640x480 with 1 Axes>",
      "image/png": "[encoded data removed]"
     },
     "metadata": {},
     "output_type": "display_data"
    }
   ],
   "source": [
    "ctv.plot()"
   ],
   "metadata": {
    "collapsed": false,
    "ExecuteTime": {
     "end_time": "2024-01-08T21:59:58.573275900Z",
     "start_time": "2024-01-08T21:59:58.205174600Z"
    }
   },
   "id": "f89de305a1f3eb5a"
  },
  {
   "cell_type": "code",
   "execution_count": 136,
   "outputs": [
    {
     "data": {
      "text/plain": "0         1.223155\n1         1.192624\n2         1.192624\n3         1.192624\n4         1.192624\n            ...   \n107088    1.201947\n107089    1.201947\n107090    0.995810\n107091    0.995810\n107092    0.554429\nLength: 107093, dtype: float64"
     },
     "execution_count": 136,
     "metadata": {},
     "output_type": "execute_result"
    }
   ],
   "source": [
    "ctv.predict_partial_hazard(data_test)"
   ],
   "metadata": {
    "collapsed": false,
    "ExecuteTime": {
     "end_time": "2024-01-08T22:13:51.094140Z",
     "start_time": "2024-01-08T22:13:51.000020700Z"
    }
   },
   "id": "20f9f2bb0ed4312d"
  },
  {
   "cell_type": "code",
   "execution_count": 138,
   "outputs": [],
   "source": [],
   "metadata": {
    "collapsed": false,
    "ExecuteTime": {
     "end_time": "2024-01-08T22:16:45.333106300Z",
     "start_time": "2024-01-08T22:16:45.314351400Z"
    }
   },
   "id": "aea9fdeb5bed5f76"
  }
 ],
 "metadata": {
  "kernelspec": {
   "display_name": "Python 3",
   "language": "python",
   "name": "python3"
  },
  "language_info": {
   "codemirror_mode": {
    "name": "ipython",
    "version": 2
   },
   "file_extension": ".py",
   "mimetype": "text/x-python",
   "name": "python",
   "nbconvert_exporter": "python",
   "pygments_lexer": "ipython2",
   "version": "2.7.6"
  }
 },
 "nbformat": 4,
 "nbformat_minor": 5
}
