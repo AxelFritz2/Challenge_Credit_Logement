{
 "cells": [
  {
   "cell_type": "code",
   "execution_count": 12,
   "outputs": [],
   "source": [
    "import pandas as pd\n",
    "import warnings\n",
    "from lifelines import CoxPHFitter, CoxTimeVaryingFitter\n",
    "import re\n",
    "from sklearn.preprocessing import OneHotEncoder, LabelEncoder\n",
    "warnings.filterwarnings(\"ignore\")"
   ],
   "metadata": {
    "collapsed": false,
    "ExecuteTime": {
     "end_time": "2024-01-09T18:50:18.820702400Z",
     "start_time": "2024-01-09T18:50:18.470182Z"
    }
   },
   "id": "15aadaa69e159f2"
  },
  {
   "cell_type": "markdown",
   "source": [
    "# Import des données"
   ],
   "metadata": {
    "collapsed": false
   },
   "id": "94d2a304ff8c99d1"
  },
  {
   "cell_type": "code",
   "execution_count": 13,
   "outputs": [],
   "source": [
    "df = pd.read_csv('../data/base_modelis_pass_det.csv',sep = ';')"
   ],
   "metadata": {
    "collapsed": false,
    "ExecuteTime": {
     "end_time": "2024-01-09T18:50:22.341911100Z",
     "start_time": "2024-01-09T18:50:18.499048500Z"
    }
   },
   "id": "c58c2f0efcb39846"
  },
  {
   "cell_type": "code",
   "execution_count": 14,
   "outputs": [],
   "source": [
    "df['date_entree_defaut'] = pd.to_datetime(df['date_entree_defaut'], format='%d/%m/%y')\n",
    "df['date_sortie_defaut'] = pd.to_datetime(df['date_sortie_defaut'], format='%d/%m/%y', errors='coerce')\n",
    "df['arrete'] = pd.to_datetime(df['arrete'], format='%d/%m/%y')\n",
    "df['DT_MEP_OPE'] = pd.to_datetime(df['DT_MEP_OPE'], format='%d%b%Y:%H:%M:%S.%f')\n",
    "df['dt_arr_last_enc_ope'] = pd.to_datetime(df['dt_arr_last_enc_ope'], errors='coerce')\n",
    "df['dt_arr_1st_enc_ope'] = pd.to_datetime(df['dt_arr_1st_enc_ope'], errors='coerce')\n",
    "df['dtHJD_prov'] = pd.to_datetime(df['dtHJD_prov'], errors='coerce')\n",
    "df['dtHJD_def'] = pd.to_datetime(df['dtHJD_def'], errors='coerce')"
   ],
   "metadata": {
    "collapsed": false,
    "ExecuteTime": {
     "end_time": "2024-01-09T18:50:23.140038400Z",
     "start_time": "2024-01-09T18:50:22.341911100Z"
    }
   },
   "id": "537b9d5beb7c3cec"
  },
  {
   "cell_type": "code",
   "execution_count": 15,
   "outputs": [],
   "source": [
    "for column in df.columns :\n",
    "    if df[column].isna().sum()/df.shape[0] > 0.5 : \n",
    "        df.drop(columns = [column], inplace = True)"
   ],
   "metadata": {
    "collapsed": false,
    "ExecuteTime": {
     "end_time": "2024-01-09T18:50:24.852867300Z",
     "start_time": "2024-01-09T18:50:23.144900500Z"
    }
   },
   "id": "f94beb13ff28d33d"
  },
  {
   "cell_type": "code",
   "execution_count": 16,
   "outputs": [],
   "source": [
    "df.drop(columns = [\"CD_POST_BIEN_PFI\"], inplace = True)"
   ],
   "metadata": {
    "collapsed": false,
    "ExecuteTime": {
     "end_time": "2024-01-09T18:50:25.014678300Z",
     "start_time": "2024-01-09T18:50:24.855983900Z"
    }
   },
   "id": "487fa16e1ac5eca7"
  },
  {
   "cell_type": "code",
   "execution_count": 17,
   "outputs": [],
   "source": [
    "var_to_categorize = [\n",
    "    \"FL_REL_NON_ANNULE\",\n",
    "    \"FL_ETR\",\n",
    "    \"CD_ETAT_CIVIL\",\n",
    "    \"CD_DNE_CHR_LGD_SAIN\",\n",
    "    \"fl_prise_de_gar\",\n",
    "    \"fl_fam_vam\",\n",
    "    \"fam_ETH\",\n",
    "    \"fam_ENQ\",\n",
    "    \"fam_exp\",\n",
    "    \"fam_hyp\",\n",
    "    \"fam_sim\",\n",
    "    \"fam_AEP\",\n",
    "    \"dat_dec_echec\",\n",
    "    \"solution\",\n",
    "    \"fam_PCD\",\n",
    "    \"CD_MTF_ENE_CTX\",\n",
    "    \"niv_gravite_mtf_dne\",\n",
    "    \"niv_gravite_mtf_dfs\",\n",
    "    \"no_pass_def\",\n",
    "    \"fl_def_ss_pass_CTX\",\n",
    "    \"fl_prt_Conso\",\n",
    "    \"fl_fonc\",\n",
    "    \"AMI\",\n",
    "    \"EXE\",\n",
    "    \"PTG\"\n",
    "]\n",
    "for var in var_to_categorize : \n",
    "    df[var] = df[var].astype(\"object\")"
   ],
   "metadata": {
    "collapsed": false,
    "ExecuteTime": {
     "end_time": "2024-01-09T18:50:25.235554100Z",
     "start_time": "2024-01-09T18:50:25.019930600Z"
    }
   },
   "id": "49858d59f7c4bd85"
  },
  {
   "cell_type": "code",
   "execution_count": 18,
   "outputs": [],
   "source": [
    "cols_numeriques = df.select_dtypes(include=['float64', 'int64']).columns.to_list()\n",
    "cols_categorielles = df.select_dtypes(include=['object']).columns.to_list()\n",
    "cols_categorielles.remove(\"cd_op\")\n",
    "\n",
    "for col in cols_numeriques:\n",
    "    df[col].fillna(df[col].mean(), inplace=True)\n",
    "\n",
    "for col in cols_categorielles:\n",
    "    df[col].fillna(df[col].mode()[0], inplace=True)"
   ],
   "metadata": {
    "collapsed": false,
    "ExecuteTime": {
     "end_time": "2024-01-09T18:50:27.383034400Z",
     "start_time": "2024-01-09T18:50:25.242302700Z"
    }
   },
   "id": "871211e6ec41f59"
  },
  {
   "cell_type": "code",
   "execution_count": 18,
   "outputs": [],
   "source": [],
   "metadata": {
    "collapsed": false,
    "ExecuteTime": {
     "end_time": "2024-01-09T18:50:27.397951200Z",
     "start_time": "2024-01-09T18:50:27.387709600Z"
    }
   },
   "id": "421ec129e48b9a1d"
  },
  {
   "cell_type": "markdown",
   "source": [
    "# Tests d'indépendance\n",
    "\n",
    "## Var cat"
   ],
   "metadata": {
    "collapsed": false
   },
   "id": "75d4fd93cc8f031b"
  },
  {
   "cell_type": "code",
   "execution_count": 19,
   "outputs": [],
   "source": [
    "df_validation = df[df['arrete']>\"2020-12-30\"]\n",
    "df_train = df[df['arrete']<\"2020-12-30\"]\n",
    "df_train = df_train.reset_index()"
   ],
   "metadata": {
    "collapsed": false,
    "ExecuteTime": {
     "end_time": "2024-01-09T18:50:28.014727100Z",
     "start_time": "2024-01-09T18:50:27.401442200Z"
    }
   },
   "id": "1925ca0d15f4fc7d"
  },
  {
   "cell_type": "code",
   "execution_count": 20,
   "outputs": [
    {
     "name": "stdout",
     "output_type": "stream",
     "text": [
      "On rejette H0, cd_op et fl_pass_DET ne sont pas indépendantes : p-value = 0.0\n",
      "On rejette H0, CD_NAT_EMP1 et fl_pass_DET ne sont pas indépendantes : p-value = 2.959188471846747e-10\n",
      ": On conserve H0, CD_NAT_EMP2 et fl_pass_DET sont indépendantes : p-value = 0.04426582136894044\n",
      "On rejette H0, CD_DEST_PFI et fl_pass_DET ne sont pas indépendantes : p-value = 1.5289961770566588e-06\n",
      "On rejette H0, CD_NATUR_OP_PFI et fl_pass_DET ne sont pas indépendantes : p-value = 1.1218668588387619e-05\n",
      "On rejette H0, FL_REL_NON_ANNULE et fl_pass_DET ne sont pas indépendantes : p-value = 1.1171138835676533e-17\n",
      "On rejette H0, FL_ETR et fl_pass_DET ne sont pas indépendantes : p-value = 7.636330035945652e-11\n",
      "On rejette H0, CD_ETAT_CIVIL et fl_pass_DET ne sont pas indépendantes : p-value = 1.3811961547529014e-23\n",
      "On rejette H0, CD_CSP_EMP1 et fl_pass_DET ne sont pas indépendantes : p-value = 6.787332658173082e-06\n",
      "On rejette H0, CD_CSP_EMP2 et fl_pass_DET ne sont pas indépendantes : p-value = 1.3689455643117655e-10\n",
      "On rejette H0, CD_SITFAM_EMP1 et fl_pass_DET ne sont pas indépendantes : p-value = 2.0615927550890238e-08\n",
      ": On conserve H0, CD_SITFAM_EMP2 et fl_pass_DET sont indépendantes : p-value = 0.1074068203744973\n",
      "On rejette H0, fl_prise_de_gar et fl_pass_DET ne sont pas indépendantes : p-value = 0.0\n",
      "On rejette H0, fl_fam_vam et fl_pass_DET ne sont pas indépendantes : p-value = 2.688961734599438e-81\n",
      "On rejette H0, fam_ETH et fl_pass_DET ne sont pas indépendantes : p-value = 5.544190082679868e-25\n",
      "On rejette H0, fam_ENQ et fl_pass_DET ne sont pas indépendantes : p-value = 2.388701573852528e-161\n",
      "On rejette H0, fam_exp et fl_pass_DET ne sont pas indépendantes : p-value = 0.000692615297038006\n",
      "On rejette H0, fam_hyp et fl_pass_DET ne sont pas indépendantes : p-value = 5.648494213598685e-57\n",
      ": On conserve H0, fam_sim et fl_pass_DET sont indépendantes : p-value = 0.4107712171342406\n",
      ": On conserve H0, fam_AEP et fl_pass_DET sont indépendantes : p-value = 0.7048992242376316\n",
      "On rejette H0, dat_dec_echec et fl_pass_DET ne sont pas indépendantes : p-value = 5.9712308011369345e-189\n",
      "On rejette H0, solution et fl_pass_DET ne sont pas indépendantes : p-value = 2.761404009141983e-18\n",
      "On rejette H0, fam_PCD et fl_pass_DET ne sont pas indépendantes : p-value = 0.0\n",
      "On rejette H0, sol_echec et fl_pass_DET ne sont pas indépendantes : p-value = 0.0\n",
      "On rejette H0, CD_MTF_DFC et fl_pass_DET ne sont pas indépendantes : p-value = 0.0\n",
      "On rejette H0, no_pass_def et fl_pass_DET ne sont pas indépendantes : p-value = 9.722565107643758e-08\n",
      "On rejette H0, fl_def_ss_pass_CTX et fl_pass_DET ne sont pas indépendantes : p-value = 2.2147135148265066e-36\n",
      ": On conserve H0, fl_prt_Conso et fl_pass_DET sont indépendantes : p-value = 0.9220112230020732\n",
      ": On conserve H0, fl_fonc et fl_pass_DET sont indépendantes : p-value = 0.38354349307533464\n",
      "On rejette H0, regroup_natur_op et fl_pass_DET ne sont pas indépendantes : p-value = 1.3426616919461487e-07\n"
     ]
    }
   ],
   "source": [
    "from scipy.stats import zscore\n",
    "import scipy.stats as stats\n",
    "from scipy.stats import chi2_contingency\n",
    "\n",
    "var_cat_dependantes = []\n",
    "\n",
    "for column in df_train.select_dtypes(include='object').columns:\n",
    "    if column != 'fl_pass_DET':  \n",
    "        contingency_table = pd.crosstab(df_train['fl_pass_DET'], df_train[column])\n",
    "        _, p_value, _, _ = chi2_contingency(contingency_table)\n",
    "        \n",
    "        if p_value > 0.01 :\n",
    "            print(f\": On conserve H0, {column} et fl_pass_DET sont indépendantes : p-value = {p_value}\")\n",
    "        if p_value < 0.01 :\n",
    "            print(f\"On rejette H0, {column} et fl_pass_DET ne sont pas indépendantes : p-value = {p_value}\")\n",
    "            var_cat_dependantes.append(column)\n"
   ],
   "metadata": {
    "collapsed": false,
    "ExecuteTime": {
     "end_time": "2024-01-09T18:50:29.736583200Z",
     "start_time": "2024-01-09T18:50:28.024369100Z"
    }
   },
   "id": "3c9b075d01de5580"
  },
  {
   "cell_type": "markdown",
   "source": [
    "## Var num"
   ],
   "metadata": {
    "collapsed": false
   },
   "id": "f1fe060837fbd48a"
  },
  {
   "cell_type": "code",
   "execution_count": 21,
   "outputs": [
    {
     "name": "stdout",
     "output_type": "stream",
     "text": [
      "On conserve H0, index et fl_pass_DET sont indépendantes : p-value = 0.05916551972546058\n",
      "On conserve H0, nb_prt et fl_pass_DET sont indépendantes : p-value = 0.06728352791147284\n",
      "On conserve H0, ANC_BANC_MAX_PFI et fl_pass_DET sont indépendantes : p-value = 0.13655896172736254\n",
      "On conserve H0, MT_PATRIM_MOB et fl_pass_DET sont indépendantes : p-value = 0.019345580078007147\n",
      "On rejette H0, MT_CHA_HORS_OPE_PFI et fl_pass_DET ne sont pas indépendantes : p-value = 7.164799255059955e-11\n",
      "On rejette H0, NB_CHARGE_HORS_OPE_PFI et fl_pass_DET ne sont pas indépendantes : p-value = 1.5063972996869523e-05\n",
      "On rejette H0, MT_PATRIM_NET et fl_pass_DET ne sont pas indépendantes : p-value = 9.456608626520074e-17\n",
      "On rejette H0, MT_REV_PFI et fl_pass_DET ne sont pas indépendantes : p-value = 1.7683952161935098e-21\n",
      "On conserve H0, NB_DUR_PFI et fl_pass_DET sont indépendantes : p-value = 0.08507238916033885\n",
      "On conserve H0, TX_APPOR et fl_pass_DET sont indépendantes : p-value = 0.8521015216128529\n",
      "On conserve H0, MT_CHA_CSM_REV et fl_pass_DET sont indépendantes : p-value = 0.17047916707515598\n",
      "On rejette H0, MT_CHA_IMP et fl_pass_DET ne sont pas indépendantes : p-value = 0.00012140057509207502\n",
      "On rejette H0, MT_CHA_PIP et fl_pass_DET ne sont pas indépendantes : p-value = 1.1591607581015056e-13\n",
      "On rejette H0, MT_CHA_PIV et fl_pass_DET ne sont pas indépendantes : p-value = 0.0057984153520819655\n",
      "On conserve H0, NB_RP_HOP et fl_pass_DET sont indépendantes : p-value = 0.1764990084680429\n",
      "On rejette H0, NB_RS_HOP et fl_pass_DET ne sont pas indépendantes : p-value = 0.00026704242257426946\n",
      "On conserve H0, NB_LO_HOP et fl_pass_DET sont indépendantes : p-value = 0.8673103005103764\n",
      "On rejette H0, cum_dec et fl_pass_DET ne sont pas indépendantes : p-value = 0.0\n",
      "On rejette H0, cum_rec et fl_pass_DET ne sont pas indépendantes : p-value = 2.2109872676976598e-54\n",
      "On rejette H0, cum_frs_externes et fl_pass_DET ne sont pas indépendantes : p-value = 2.6436051800540652e-282\n",
      "On rejette H0, CD_DNE_CHR_LGD_SAIN et fl_pass_DET ne sont pas indépendantes : p-value = 1.0371366817033424e-06\n",
      "On rejette H0, MT_EAD_RESID et fl_pass_DET ne sont pas indépendantes : p-value = 0.004487737035394404\n",
      "On conserve H0, MT_EAD_DNE_CHR_d et fl_pass_DET sont indépendantes : p-value = 0.580771613616616\n",
      "On rejette H0, MR_arr et fl_pass_DET ne sont pas indépendantes : p-value = 0.0\n",
      "On rejette H0, CD_MTF_ENE_CTX et fl_pass_DET ne sont pas indépendantes : p-value = 9.697653505177218e-103\n",
      "On rejette H0, niv_gravite_mtf_dne et fl_pass_DET ne sont pas indépendantes : p-value = 1.1964807847241153e-82\n",
      "On rejette H0, niv_gravite_mtf_dfs et fl_pass_DET ne sont pas indépendantes : p-value = 1.6661092441380733e-27\n",
      "On rejette H0, dls_mep_entree_def et fl_pass_DET ne sont pas indépendantes : p-value = 0.008304950559501516\n",
      "On rejette H0, nb_bienHOP et fl_pass_DET ne sont pas indépendantes : p-value = 2.3625928414161476e-16\n",
      "On rejette H0, ANC_PRO_MAX_PFI et fl_pass_DET ne sont pas indépendantes : p-value = 2.1049734382996963e-10\n",
      "On conserve H0, max_age_ctx et fl_pass_DET sont indépendantes : p-value = 0.06440593096061364\n",
      "On rejette H0, nb_empr_ope et fl_pass_DET ne sont pas indépendantes : p-value = 3.305307575560088e-16\n",
      "On conserve H0, MT_FMG et fl_pass_DET sont indépendantes : p-value = 0.17720501665682853\n",
      "On rejette H0, mt_dec_cum_IMP_tot et fl_pass_DET ne sont pas indépendantes : p-value = 0.0\n",
      "On rejette H0, MT_CHG_MSL et fl_pass_DET ne sont pas indépendantes : p-value = 2.4371715668884517e-07\n",
      "On rejette H0, mt_rev_dispo et fl_pass_DET ne sont pas indépendantes : p-value = 4.730176718548003e-15\n",
      "On conserve H0, EAD_1an_avant_def et fl_pass_DET sont indépendantes : p-value = 0.15257327060871997\n",
      "On rejette H0, dls_ges_def et fl_pass_DET ne sont pas indépendantes : p-value = 4.229003774235886e-222\n",
      "On rejette H0, AMI et fl_pass_DET ne sont pas indépendantes : p-value = 2.5586720899359e-22\n",
      "On conserve H0, EXE et fl_pass_DET sont indépendantes : p-value = 0.8364502670596464\n",
      "On rejette H0, PTG et fl_pass_DET ne sont pas indépendantes : p-value = 0.0\n",
      "On conserve H0, AGE_EMP1 et fl_pass_DET sont indépendantes : p-value = 0.7752545540628075\n",
      "On conserve H0, AGE_EMP2 et fl_pass_DET sont indépendantes : p-value = 0.46774635153616906\n",
      "On conserve H0, TX_ENDET et fl_pass_DET sont indépendantes : p-value = 0.06085209344837029\n",
      "On rejette H0, MT_REST_VIVRE et fl_pass_DET ne sont pas indépendantes : p-value = 5.479490704864568e-13\n"
     ]
    }
   ],
   "source": [
    "var_num_dependantes = []\n",
    "for column in df_train.select_dtypes(include='number').columns:\n",
    "    if column != 'fl_pass_DET':\n",
    "        groupe_0 = [df_train[column][i] for i in range(len(df_train['fl_pass_DET'])) if df_train['fl_pass_DET'][i] == 0]\n",
    "        groupe_1 = [df_train[column][i] for i in range(len(df_train['fl_pass_DET'])) if df_train['fl_pass_DET'][i] == 1]\n",
    "        \n",
    "        statistique_U, p_value = stats.mannwhitneyu(groupe_0, groupe_1)\n",
    "        \n",
    "        if p_value > 0.01:\n",
    "            print(f\"On conserve H0, {column} et fl_pass_DET sont indépendantes : p-value = {p_value}\")\n",
    "        if p_value < 0.01:\n",
    "            print(f\"On rejette H0, {column} et fl_pass_DET ne sont pas indépendantes : p-value = {p_value}\")\n",
    "            var_num_dependantes.append(column)"
   ],
   "metadata": {
    "collapsed": false,
    "ExecuteTime": {
     "end_time": "2024-01-09T18:53:20.584881700Z",
     "start_time": "2024-01-09T18:50:29.742500900Z"
    }
   },
   "id": "54f7d30d31abc9f8"
  },
  {
   "cell_type": "code",
   "execution_count": 22,
   "outputs": [],
   "source": [
    "var_num_dependantes.extend(var_cat_dependantes)\n",
    "liste_dep = var_num_dependantes.copy()"
   ],
   "metadata": {
    "collapsed": false,
    "ExecuteTime": {
     "end_time": "2024-01-09T18:53:20.592924200Z",
     "start_time": "2024-01-09T18:53:20.574759800Z"
    }
   },
   "id": "d1d0498c2355222e"
  },
  {
   "cell_type": "code",
   "execution_count": 23,
   "outputs": [],
   "source": [
    "liste_dep = list(set(liste_dep))"
   ],
   "metadata": {
    "collapsed": false,
    "ExecuteTime": {
     "end_time": "2024-01-09T18:53:20.643662200Z",
     "start_time": "2024-01-09T18:53:20.592924200Z"
    }
   },
   "id": "158c27309dbb963"
  },
  {
   "cell_type": "markdown",
   "source": [
    "On va diviser cette liste en 5 pour tester 5 modeles diff, puis on prendra toutes les var significatives pour tester un 6eme modèle"
   ],
   "metadata": {
    "collapsed": false
   },
   "id": "47ba25e3f62e0844"
  },
  {
   "cell_type": "code",
   "execution_count": 24,
   "outputs": [],
   "source": [
    "def diviser_liste(liste, nombre_de_sections):\n",
    "    taille_section = len(liste) // nombre_de_sections\n",
    "    sections = [liste[i * taille_section:(i + 1) * taille_section] for i in range(nombre_de_sections - 1)]\n",
    "    sections.append(liste[(nombre_de_sections - 1) * taille_section:])\n",
    "    return sections\n",
    "\n",
    "\n",
    "liste_1, liste_2, liste_3, liste_4, liste_5 = diviser_liste(liste_dep, 5)"
   ],
   "metadata": {
    "collapsed": false,
    "ExecuteTime": {
     "end_time": "2024-01-09T18:53:20.643662200Z",
     "start_time": "2024-01-09T18:53:20.615964400Z"
    }
   },
   "id": "7f8ec5837e68ad82"
  },
  {
   "cell_type": "code",
   "execution_count": 68,
   "outputs": [],
   "source": [
    "df_train_var = df[liste_1].copy()\n",
    "df_test_var = df_validation[liste_1].copy()"
   ],
   "metadata": {
    "collapsed": false,
    "ExecuteTime": {
     "end_time": "2024-01-09T20:55:00.845362800Z",
     "start_time": "2024-01-09T20:55:00.646939200Z"
    }
   },
   "id": "b49125cb4693c7e2"
  },
  {
   "cell_type": "markdown",
   "source": [
    "# Encoding"
   ],
   "metadata": {
    "collapsed": false
   },
   "id": "e43d6cf48a236d7b"
  },
  {
   "cell_type": "code",
   "execution_count": 69,
   "outputs": [],
   "source": [
    "def encode_columns(df):\n",
    "    encoders = {}\n",
    "    for column in df.select_dtypes(include='object'):\n",
    "        unique_values = df[column].nunique()\n",
    "        if unique_values <= 10:\n",
    "            # Appliquer OneHotEncoder\n",
    "            encoder = OneHotEncoder(sparse=False)\n",
    "            encoded = encoder.fit_transform(df[[column]])\n",
    "            encoders[column] = encoder\n",
    "\n",
    "            # Remplacer la colonne originale par de nouvelles colonnes pour chaque catégorie\n",
    "            for i, category in enumerate(encoder.categories_[0]):\n",
    "                df[str(column) + '_' + str(category)] = encoded[:, i]\n",
    "            df.drop(column, axis=1, inplace=True)\n",
    "        else:\n",
    "            # Appliquer LabelEncoder\n",
    "            encoder = LabelEncoder()\n",
    "            df[column] = encoder.fit_transform(df[column])\n",
    "            encoders[column] = encoder\n",
    "    return df, encoders\n",
    "\n",
    "encoded_df, encoders = encode_columns(df_train_var)\n",
    "encoded_test, encoder_test = encode_columns(df_test_var)"
   ],
   "metadata": {
    "collapsed": false,
    "ExecuteTime": {
     "end_time": "2024-01-09T20:55:02.880892800Z",
     "start_time": "2024-01-09T20:55:01.812386100Z"
    }
   },
   "id": "6d2898414042b666"
  },
  {
   "cell_type": "code",
   "execution_count": 70,
   "outputs": [],
   "source": [
    "df_train_var['cd_op']  = df['cd_op'].copy()\n",
    "df_train_var['fl_pass_DET'] = df['fl_pass_DET'].copy()\n",
    "df_train_var['date_entree_defaut'] = df['date_entree_defaut'].copy()\n",
    "df_train_var['arrete'] = df['arrete'].copy()"
   ],
   "metadata": {
    "collapsed": false,
    "ExecuteTime": {
     "end_time": "2024-01-09T20:55:02.921148700Z",
     "start_time": "2024-01-09T20:55:02.888473600Z"
    }
   },
   "id": "76fffbb2bcf8f2af"
  },
  {
   "cell_type": "code",
   "execution_count": 71,
   "outputs": [],
   "source": [
    "df_test_var['cd_op']  = df_validation['cd_op'].copy()\n",
    "df_test_var['fl_pass_DET'] = df_validation['fl_pass_DET'].copy()\n",
    "df_test_var['date_entree_defaut'] = df_validation['date_entree_defaut'].copy()\n",
    "df_test_var['arrete'] = df_validation['arrete'].copy()"
   ],
   "metadata": {
    "collapsed": false,
    "ExecuteTime": {
     "end_time": "2024-01-09T20:55:03.078130900Z",
     "start_time": "2024-01-09T20:55:02.921148700Z"
    }
   },
   "id": "ee63c4f5001cef6d"
  },
  {
   "cell_type": "markdown",
   "source": [
    "# Préparation des données"
   ],
   "metadata": {
    "collapsed": false
   },
   "id": "83a691d288db4f6b"
  },
  {
   "cell_type": "code",
   "execution_count": 72,
   "outputs": [],
   "source": [
    "data_haz = df_train_var.copy()\n",
    "data_test =df_test_var.copy()"
   ],
   "metadata": {
    "collapsed": false,
    "ExecuteTime": {
     "end_time": "2024-01-09T20:55:03.173589700Z",
     "start_time": "2024-01-09T20:55:03.004637800Z"
    }
   },
   "id": "6ba556aec2722d85"
  },
  {
   "cell_type": "code",
   "execution_count": 73,
   "outputs": [],
   "source": [
    "data_haz['start'] = 0\n",
    "data_haz['stop'] = data_haz['arrete'] - data_haz['date_entree_defaut']\n",
    "data_haz['stop'] = data_haz['stop'].dt.days\n",
    "\n",
    "data_test['start'] = 0\n",
    "data_test['stop'] = data_test['arrete'] - data_test['date_entree_defaut']\n",
    "data_test['stop'] = data_test['stop'].dt.days"
   ],
   "metadata": {
    "collapsed": false,
    "ExecuteTime": {
     "end_time": "2024-01-09T20:55:03.290574100Z",
     "start_time": "2024-01-09T20:55:03.157868800Z"
    }
   },
   "id": "ed63998ee83be339"
  },
  {
   "cell_type": "code",
   "execution_count": 74,
   "outputs": [],
   "source": [
    "data_haz['id'] = data_haz['cd_op'].apply(lambda x: re.sub(r'\\D', '', str(x)))\n",
    "\n",
    "\n",
    "data_test['id'] = data_test['cd_op'].apply(lambda x: re.sub(r'\\D', '', str(x)))"
   ],
   "metadata": {
    "collapsed": false,
    "ExecuteTime": {
     "end_time": "2024-01-09T20:55:04.140006900Z",
     "start_time": "2024-01-09T20:55:03.204501700Z"
    }
   },
   "id": "6458005d461994e4"
  },
  {
   "cell_type": "code",
   "execution_count": 75,
   "outputs": [],
   "source": [
    "data_haz.loc[(data_haz['start'] == data_haz['stop']) & (data_haz['start'] == 0) & data_haz[\n",
    "    'fl_pass_DET'], 'stop'] = 0.5  # car le modele n'accepte pas les individus qui sortent de la survie au moment ou ils y entrent donc on remplace les 0 par 0.5.\n",
    "\n",
    "data_test.loc[(data_test['start'] == data_test['stop']) & (data_test['start'] == 0) & data_test[\n",
    "    'fl_pass_DET'], 'stop'] = 0.5 "
   ],
   "metadata": {
    "collapsed": false,
    "ExecuteTime": {
     "end_time": "2024-01-09T20:55:04.187746500Z",
     "start_time": "2024-01-09T20:55:04.155676600Z"
    }
   },
   "id": "c166cdd0afea72f5"
  },
  {
   "cell_type": "code",
   "execution_count": 76,
   "outputs": [],
   "source": [
    "data_haz = data_haz.select_dtypes(exclude=[\"datetime64\"])\n",
    "\n",
    "data_test = data_test.select_dtypes(exclude=[\"datetime64\"])"
   ],
   "metadata": {
    "collapsed": false,
    "ExecuteTime": {
     "end_time": "2024-01-09T20:55:04.357899Z",
     "start_time": "2024-01-09T20:55:04.176233600Z"
    }
   },
   "id": "e2f2ed6be3b153e4"
  },
  {
   "cell_type": "code",
   "execution_count": 77,
   "outputs": [],
   "source": [
    "data_haz.drop(columns = [\"cd_op\"], inplace = True)\n",
    "\n",
    "\n",
    "data_test.drop(columns = [\"cd_op\"], inplace = True)"
   ],
   "metadata": {
    "collapsed": false,
    "ExecuteTime": {
     "end_time": "2024-01-09T20:55:04.464811100Z",
     "start_time": "2024-01-09T20:55:04.357899Z"
    }
   },
   "id": "cb8c902d74121e54"
  },
  {
   "cell_type": "markdown",
   "source": [
    "# Modélisation"
   ],
   "metadata": {
    "collapsed": false,
    "ExecuteTime": {
     "start_time": "2024-01-08T20:55:44.170112600Z"
    }
   },
   "id": "e2852264f55785db"
  },
  {
   "cell_type": "code",
   "execution_count": 78,
   "outputs": [
    {
     "name": "stdout",
     "output_type": "stream",
     "text": [
      "Iteration 1: norm_delta = 2.32e-01, step_size = 0.9500, log_lik = -86546.11010, newton_decrement = 1.27e+03, seconds_since_start = 34.4\n",
      "Iteration 2: norm_delta = 1.51e-02, step_size = 0.9500, log_lik = -85275.03282, newton_decrement = 5.03e+00, seconds_since_start = 68.5\n",
      "Iteration 3: norm_delta = 7.86e-04, step_size = 0.9500, log_lik = -85270.01266, newton_decrement = 1.36e-02, seconds_since_start = 102.9\n",
      "Iteration 4: norm_delta = 4.15e-05, step_size = 1.0000, log_lik = -85269.99907, newton_decrement = 3.42e-05, seconds_since_start = 144.5\n",
      "Iteration 5: norm_delta = 3.08e-10, step_size = 1.0000, log_lik = -85269.99903, newton_decrement = 2.08e-15, seconds_since_start = 179.3\n",
      "Convergence completed after 5 iterations.\n"
     ]
    },
    {
     "data": {
      "text/plain": "<lifelines.CoxTimeVaryingFitter: fitted with 329064 periods, 23305 subjects, 7463 events>"
     },
     "execution_count": 78,
     "metadata": {},
     "output_type": "execute_result"
    }
   ],
   "source": [
    "ctv = CoxTimeVaryingFitter(penalizer=0.1)\n",
    "ctv.fit(data_haz, id_col=\"id\", event_col=\"fl_pass_DET\", stop_col=\"stop\", show_progress=True)"
   ],
   "metadata": {
    "collapsed": false,
    "ExecuteTime": {
     "end_time": "2024-01-09T20:58:09.453724800Z",
     "start_time": "2024-01-09T20:55:04.442631Z"
    }
   },
   "id": "1f4b018e34eb2e2a"
  },
  {
   "cell_type": "code",
   "execution_count": 79,
   "outputs": [
    {
     "data": {
      "text/plain": "<lifelines.CoxTimeVaryingFitter: fitted with 329064 periods, 23305 subjects, 7463 events>\n         event col = 'fl_pass_DET'\n         penalizer = 0.1\nnumber of subjects = 23305\n number of periods = 329064\n  number of events = 7463\npartial log-likelihood = -85270.00\n  time fit was run = 2024-01-09 20:55:04 UTC\n\n---\n                       coef  exp(coef)   se(coef)   coef lower 95%   coef upper 95%  exp(coef) lower 95%  exp(coef) upper 95%\ncovariate                                                                                                                    \nMT_CHA_IMP             0.00       1.00       0.00            -0.00             0.00                 1.00                 1.00\nMT_CHA_PIV             0.00       1.00       0.00            -0.00             0.00                 1.00                 1.00\nCD_CSP_EMP2            0.00       1.00       0.00            -0.00             0.00                 1.00                 1.00\nnb_empr_ope           -0.05       0.95       0.01            -0.06            -0.03                 0.94                 0.97\nCD_MTF_DFC            -0.01       0.99       0.00            -0.01            -0.01                 0.99                 0.99\nMT_CHA_HORS_OPE_PFI   -0.00       1.00       0.00            -0.00            -0.00                 1.00                 1.00\ndls_ges_def           -0.02       0.98       0.00            -0.02            -0.02                 0.98                 0.98\nsol_echec_0_0          0.02       1.02       0.01             0.00             0.05                 1.00                 1.05\nsol_echec_0_1          0.28       1.32       0.01             0.26             0.31                 1.29                 1.36\nsol_echec_1_0         -0.14       0.87       0.01            -0.17            -0.11                 0.85                 0.89\nsol_echec_1_1         -0.14       0.87       0.01            -0.16            -0.11                 0.86                 0.89\nFL_ETR_0              -0.03       0.97       0.02            -0.06             0.00                 0.94                 1.00\nFL_ETR_1               0.03       1.03       0.02            -0.00             0.06                 1.00                 1.06\nfl_def_ss_pass_CTX_0   0.20       1.22       0.03             0.14             0.26                 1.15                 1.30\nfl_def_ss_pass_CTX_1  -0.20       0.82       0.03            -0.26            -0.14                 0.77                 0.87\n\n                       cmp to      z      p   -log2(p)\ncovariate                                             \nMT_CHA_IMP               0.00   0.52   0.60       0.73\nMT_CHA_PIV               0.00   0.25   0.81       0.31\nCD_CSP_EMP2              0.00   1.37   0.17       2.56\nnb_empr_ope              0.00  -5.17 <0.005      22.06\nCD_MTF_DFC               0.00  -9.91 <0.005      74.52\nMT_CHA_HORS_OPE_PFI      0.00  -2.72   0.01       7.28\ndls_ges_def              0.00 -36.92 <0.005     988.74\nsol_echec_0_0            0.00   2.13   0.03       4.91\nsol_echec_0_1            0.00  22.47 <0.005     368.90\nsol_echec_1_0            0.00  -9.83 <0.005      73.33\nsol_echec_1_1            0.00 -12.84 <0.005     122.93\nFL_ETR_0                 0.00  -1.94   0.05       4.26\nFL_ETR_1                 0.00   1.94   0.05       4.26\nfl_def_ss_pass_CTX_0     0.00   6.53 <0.005      33.86\nfl_def_ss_pass_CTX_1     0.00  -6.53 <0.005      33.86\n---\nPartial AIC = 170570.00\nlog-likelihood ratio test = 2552.22 on 15 df\n-log2(p) of ll-ratio test = inf",
      "text/html": "<div>\n<style scoped>\n    .dataframe tbody tr th:only-of-type {\n        vertical-align: middle;\n    }\n\n    .dataframe tbody tr th {\n        vertical-align: top;\n    }\n\n    .dataframe thead th {\n        text-align: right;\n    }\n</style>\n<table border=\"1\" class=\"dataframe\">\n  <tbody>\n    <tr>\n      <th>model</th>\n      <td>lifelines.CoxTimeVaryingFitter</td>\n    </tr>\n    <tr>\n      <th>event col</th>\n      <td>'fl_pass_DET'</td>\n    </tr>\n    <tr>\n      <th>penalizer</th>\n      <td>0.1</td>\n    </tr>\n    <tr>\n      <th>number of subjects</th>\n      <td>23305</td>\n    </tr>\n    <tr>\n      <th>number of periods</th>\n      <td>329064</td>\n    </tr>\n    <tr>\n      <th>number of events</th>\n      <td>7463</td>\n    </tr>\n    <tr>\n      <th>partial log-likelihood</th>\n      <td>-85270.00</td>\n    </tr>\n    <tr>\n      <th>time fit was run</th>\n      <td>2024-01-09 20:55:04 UTC</td>\n    </tr>\n  </tbody>\n</table>\n</div><table border=\"1\" class=\"dataframe\">\n  <thead>\n    <tr style=\"text-align: right;\">\n      <th style=\"min-width: 12px;\"></th>\n      <th style=\"min-width: 12px;\">coef</th>\n      <th style=\"min-width: 12px;\">exp(coef)</th>\n      <th style=\"min-width: 12px;\">se(coef)</th>\n      <th style=\"min-width: 12px;\">coef lower 95%</th>\n      <th style=\"min-width: 12px;\">coef upper 95%</th>\n      <th style=\"min-width: 12px;\">exp(coef) lower 95%</th>\n      <th style=\"min-width: 12px;\">exp(coef) upper 95%</th>\n      <th style=\"min-width: 12px;\">cmp to</th>\n      <th style=\"min-width: 12px;\">z</th>\n      <th style=\"min-width: 12px;\">p</th>\n      <th style=\"min-width: 12px;\">-log2(p)</th>\n    </tr>\n  </thead>\n  <tbody>\n    <tr>\n      <th>MT_CHA_IMP</th>\n      <td>0.00</td>\n      <td>1.00</td>\n      <td>0.00</td>\n      <td>-0.00</td>\n      <td>0.00</td>\n      <td>1.00</td>\n      <td>1.00</td>\n      <td>0.00</td>\n      <td>0.52</td>\n      <td>0.60</td>\n      <td>0.73</td>\n    </tr>\n    <tr>\n      <th>MT_CHA_PIV</th>\n      <td>0.00</td>\n      <td>1.00</td>\n      <td>0.00</td>\n      <td>-0.00</td>\n      <td>0.00</td>\n      <td>1.00</td>\n      <td>1.00</td>\n      <td>0.00</td>\n      <td>0.25</td>\n      <td>0.81</td>\n      <td>0.31</td>\n    </tr>\n    <tr>\n      <th>CD_CSP_EMP2</th>\n      <td>0.00</td>\n      <td>1.00</td>\n      <td>0.00</td>\n      <td>-0.00</td>\n      <td>0.00</td>\n      <td>1.00</td>\n      <td>1.00</td>\n      <td>0.00</td>\n      <td>1.37</td>\n      <td>0.17</td>\n      <td>2.56</td>\n    </tr>\n    <tr>\n      <th>nb_empr_ope</th>\n      <td>-0.05</td>\n      <td>0.95</td>\n      <td>0.01</td>\n      <td>-0.06</td>\n      <td>-0.03</td>\n      <td>0.94</td>\n      <td>0.97</td>\n      <td>0.00</td>\n      <td>-5.17</td>\n      <td>&lt;0.005</td>\n      <td>22.06</td>\n    </tr>\n    <tr>\n      <th>CD_MTF_DFC</th>\n      <td>-0.01</td>\n      <td>0.99</td>\n      <td>0.00</td>\n      <td>-0.01</td>\n      <td>-0.01</td>\n      <td>0.99</td>\n      <td>0.99</td>\n      <td>0.00</td>\n      <td>-9.91</td>\n      <td>&lt;0.005</td>\n      <td>74.52</td>\n    </tr>\n    <tr>\n      <th>MT_CHA_HORS_OPE_PFI</th>\n      <td>-0.00</td>\n      <td>1.00</td>\n      <td>0.00</td>\n      <td>-0.00</td>\n      <td>-0.00</td>\n      <td>1.00</td>\n      <td>1.00</td>\n      <td>0.00</td>\n      <td>-2.72</td>\n      <td>0.01</td>\n      <td>7.28</td>\n    </tr>\n    <tr>\n      <th>dls_ges_def</th>\n      <td>-0.02</td>\n      <td>0.98</td>\n      <td>0.00</td>\n      <td>-0.02</td>\n      <td>-0.02</td>\n      <td>0.98</td>\n      <td>0.98</td>\n      <td>0.00</td>\n      <td>-36.92</td>\n      <td>&lt;0.005</td>\n      <td>988.74</td>\n    </tr>\n    <tr>\n      <th>sol_echec_0_0</th>\n      <td>0.02</td>\n      <td>1.02</td>\n      <td>0.01</td>\n      <td>0.00</td>\n      <td>0.05</td>\n      <td>1.00</td>\n      <td>1.05</td>\n      <td>0.00</td>\n      <td>2.13</td>\n      <td>0.03</td>\n      <td>4.91</td>\n    </tr>\n    <tr>\n      <th>sol_echec_0_1</th>\n      <td>0.28</td>\n      <td>1.32</td>\n      <td>0.01</td>\n      <td>0.26</td>\n      <td>0.31</td>\n      <td>1.29</td>\n      <td>1.36</td>\n      <td>0.00</td>\n      <td>22.47</td>\n      <td>&lt;0.005</td>\n      <td>368.90</td>\n    </tr>\n    <tr>\n      <th>sol_echec_1_0</th>\n      <td>-0.14</td>\n      <td>0.87</td>\n      <td>0.01</td>\n      <td>-0.17</td>\n      <td>-0.11</td>\n      <td>0.85</td>\n      <td>0.89</td>\n      <td>0.00</td>\n      <td>-9.83</td>\n      <td>&lt;0.005</td>\n      <td>73.33</td>\n    </tr>\n    <tr>\n      <th>sol_echec_1_1</th>\n      <td>-0.14</td>\n      <td>0.87</td>\n      <td>0.01</td>\n      <td>-0.16</td>\n      <td>-0.11</td>\n      <td>0.86</td>\n      <td>0.89</td>\n      <td>0.00</td>\n      <td>-12.84</td>\n      <td>&lt;0.005</td>\n      <td>122.93</td>\n    </tr>\n    <tr>\n      <th>FL_ETR_0</th>\n      <td>-0.03</td>\n      <td>0.97</td>\n      <td>0.02</td>\n      <td>-0.06</td>\n      <td>0.00</td>\n      <td>0.94</td>\n      <td>1.00</td>\n      <td>0.00</td>\n      <td>-1.94</td>\n      <td>0.05</td>\n      <td>4.26</td>\n    </tr>\n    <tr>\n      <th>FL_ETR_1</th>\n      <td>0.03</td>\n      <td>1.03</td>\n      <td>0.02</td>\n      <td>-0.00</td>\n      <td>0.06</td>\n      <td>1.00</td>\n      <td>1.06</td>\n      <td>0.00</td>\n      <td>1.94</td>\n      <td>0.05</td>\n      <td>4.26</td>\n    </tr>\n    <tr>\n      <th>fl_def_ss_pass_CTX_0</th>\n      <td>0.20</td>\n      <td>1.22</td>\n      <td>0.03</td>\n      <td>0.14</td>\n      <td>0.26</td>\n      <td>1.15</td>\n      <td>1.30</td>\n      <td>0.00</td>\n      <td>6.53</td>\n      <td>&lt;0.005</td>\n      <td>33.86</td>\n    </tr>\n    <tr>\n      <th>fl_def_ss_pass_CTX_1</th>\n      <td>-0.20</td>\n      <td>0.82</td>\n      <td>0.03</td>\n      <td>-0.26</td>\n      <td>-0.14</td>\n      <td>0.77</td>\n      <td>0.87</td>\n      <td>0.00</td>\n      <td>-6.53</td>\n      <td>&lt;0.005</td>\n      <td>33.86</td>\n    </tr>\n  </tbody>\n</table><br><div>\n<style scoped>\n    .dataframe tbody tr th:only-of-type {\n        vertical-align: middle;\n    }\n\n    .dataframe tbody tr th {\n        vertical-align: top;\n    }\n\n    .dataframe thead th {\n        text-align: right;\n    }\n</style>\n<table border=\"1\" class=\"dataframe\">\n  <tbody>\n    <tr>\n      <th>Partial AIC</th>\n      <td>170570.00</td>\n    </tr>\n    <tr>\n      <th>log-likelihood ratio test</th>\n      <td>2552.22 on 15 df</td>\n    </tr>\n    <tr>\n      <th>-log2(p) of ll-ratio test</th>\n      <td>inf</td>\n    </tr>\n  </tbody>\n</table>\n</div>",
      "text/latex": "\\begin{tabular}{lrrrrrrrrrrr}\n & coef & exp(coef) & se(coef) & coef lower 95% & coef upper 95% & exp(coef) lower 95% & exp(coef) upper 95% & cmp to & z & p & -log2(p) \\\\\ncovariate &  &  &  &  &  &  &  &  &  &  &  \\\\\nMT_CHA_IMP & 0.00 & 1.00 & 0.00 & -0.00 & 0.00 & 1.00 & 1.00 & 0.00 & 0.52 & 0.60 & 0.73 \\\\\nMT_CHA_PIV & 0.00 & 1.00 & 0.00 & -0.00 & 0.00 & 1.00 & 1.00 & 0.00 & 0.25 & 0.81 & 0.31 \\\\\nCD_CSP_EMP2 & 0.00 & 1.00 & 0.00 & -0.00 & 0.00 & 1.00 & 1.00 & 0.00 & 1.37 & 0.17 & 2.56 \\\\\nnb_empr_ope & -0.05 & 0.95 & 0.01 & -0.06 & -0.03 & 0.94 & 0.97 & 0.00 & -5.17 & 0.00 & 22.06 \\\\\nCD_MTF_DFC & -0.01 & 0.99 & 0.00 & -0.01 & -0.01 & 0.99 & 0.99 & 0.00 & -9.91 & 0.00 & 74.52 \\\\\nMT_CHA_HORS_OPE_PFI & -0.00 & 1.00 & 0.00 & -0.00 & -0.00 & 1.00 & 1.00 & 0.00 & -2.72 & 0.01 & 7.28 \\\\\ndls_ges_def & -0.02 & 0.98 & 0.00 & -0.02 & -0.02 & 0.98 & 0.98 & 0.00 & -36.92 & 0.00 & 988.74 \\\\\nsol_echec_0_0 & 0.02 & 1.02 & 0.01 & 0.00 & 0.05 & 1.00 & 1.05 & 0.00 & 2.13 & 0.03 & 4.91 \\\\\nsol_echec_0_1 & 0.28 & 1.32 & 0.01 & 0.26 & 0.31 & 1.29 & 1.36 & 0.00 & 22.47 & 0.00 & 368.90 \\\\\nsol_echec_1_0 & -0.14 & 0.87 & 0.01 & -0.17 & -0.11 & 0.85 & 0.89 & 0.00 & -9.83 & 0.00 & 73.33 \\\\\nsol_echec_1_1 & -0.14 & 0.87 & 0.01 & -0.16 & -0.11 & 0.86 & 0.89 & 0.00 & -12.84 & 0.00 & 122.93 \\\\\nFL_ETR_0 & -0.03 & 0.97 & 0.02 & -0.06 & 0.00 & 0.94 & 1.00 & 0.00 & -1.94 & 0.05 & 4.26 \\\\\nFL_ETR_1 & 0.03 & 1.03 & 0.02 & -0.00 & 0.06 & 1.00 & 1.06 & 0.00 & 1.94 & 0.05 & 4.26 \\\\\nfl_def_ss_pass_CTX_0 & 0.20 & 1.22 & 0.03 & 0.14 & 0.26 & 1.15 & 1.30 & 0.00 & 6.53 & 0.00 & 33.86 \\\\\nfl_def_ss_pass_CTX_1 & -0.20 & 0.82 & 0.03 & -0.26 & -0.14 & 0.77 & 0.87 & 0.00 & -6.53 & 0.00 & 33.86 \\\\\n\\end{tabular}\n"
     },
     "metadata": {},
     "output_type": "display_data"
    }
   ],
   "source": [
    "ctv.print_summary()"
   ],
   "metadata": {
    "collapsed": false,
    "ExecuteTime": {
     "end_time": "2024-01-09T20:58:09.532126800Z",
     "start_time": "2024-01-09T20:58:09.446735300Z"
    }
   },
   "id": "bf8a0f070c03ed5f"
  },
  {
   "cell_type": "code",
   "execution_count": 80,
   "outputs": [
    {
     "data": {
      "text/plain": "<Axes: xlabel='log(HR) (95% CI)'>"
     },
     "execution_count": 80,
     "metadata": {},
     "output_type": "execute_result"
    },
    {
     "data": {
      "text/plain": "<Figure size 640x480 with 1 Axes>",
      "image/png": "[encoded data removed]"
     },
     "metadata": {},
     "output_type": "display_data"
    }
   ],
   "source": [
    "ctv.plot()"
   ],
   "metadata": {
    "collapsed": false,
    "ExecuteTime": {
     "end_time": "2024-01-09T20:58:09.974176300Z",
     "start_time": "2024-01-09T20:58:09.528585400Z"
    }
   },
   "id": "f89de305a1f3eb5a"
  },
  {
   "cell_type": "code",
   "execution_count": 81,
   "outputs": [
    {
     "data": {
      "text/plain": "['MT_CHA_IMP',\n 'sol_echec',\n 'MT_CHA_PIV',\n 'CD_CSP_EMP2',\n 'FL_ETR',\n 'nb_empr_ope',\n 'CD_MTF_DFC',\n 'MT_CHA_HORS_OPE_PFI',\n 'fl_def_ss_pass_CTX',\n 'dls_ges_def']"
     },
     "execution_count": 81,
     "metadata": {},
     "output_type": "execute_result"
    }
   ],
   "source": [
    "liste_1"
   ],
   "metadata": {
    "collapsed": false,
    "ExecuteTime": {
     "end_time": "2024-01-09T20:58:09.980678Z",
     "start_time": "2024-01-09T20:58:09.968743Z"
    }
   },
   "id": "f3839426f99b9e44"
  },
  {
   "cell_type": "markdown",
   "source": [
    "### Prise de notes variables significatives\n",
    "['fam_ENQ','solution','FL_REL_NON_ANNULE','niv_gravite_mtf_dne']\n",
    "['CD_SITFAM_EMP1','regroup_natur_op','PTG','fl_fam_vam']\n",
    "['fam_PCD','AMI','CD_ETAT_CIVIL','CD_NAT_EMP1] les 2 dernieres de cette liste sont bof\n",
    "['niv_gravite_mtf_dne','FL_REL_NON_ANNULE']\n",
    "['sol_echec','fl_def_ss_pass_CTX','nb_empr_ope','CD_MTF_DFC','FL_ETR']\n",
    "\n"
   ],
   "metadata": {
    "collapsed": false
   },
   "id": "8360e278b45afa77"
  },
  {
   "cell_type": "code",
   "execution_count": 38,
   "outputs": [
    {
     "data": {
      "text/plain": "0         109.963467\n1         183.705489\n2         183.705489\n3         183.705489\n4         183.705489\n             ...    \n107088     28.303639\n107089     28.303639\n107090      1.328482\n107091      1.328482\n107092      2.433697\nLength: 107093, dtype: float64"
     },
     "execution_count": 38,
     "metadata": {},
     "output_type": "execute_result"
    }
   ],
   "source": [
    "ctv.predict_partial_hazard(data_test)"
   ],
   "metadata": {
    "collapsed": false,
    "ExecuteTime": {
     "end_time": "2024-01-09T19:25:14.502030200Z",
     "start_time": "2024-01-09T19:25:14.361689Z"
    }
   },
   "id": "20f9f2bb0ed4312d"
  },
  {
   "cell_type": "code",
   "execution_count": 38,
   "outputs": [],
   "source": [],
   "metadata": {
    "collapsed": false,
    "ExecuteTime": {
     "end_time": "2024-01-09T19:25:14.529313Z",
     "start_time": "2024-01-09T19:25:14.498551800Z"
    }
   },
   "id": "aea9fdeb5bed5f76"
  }
 ],
 "metadata": {
  "kernelspec": {
   "display_name": "Python 3",
   "language": "python",
   "name": "python3"
  },
  "language_info": {
   "codemirror_mode": {
    "name": "ipython",
    "version": 2
   },
   "file_extension": ".py",
   "mimetype": "text/x-python",
   "name": "python",
   "nbconvert_exporter": "python",
   "pygments_lexer": "ipython2",
   "version": "2.7.6"
  }
 },
 "nbformat": 4,
 "nbformat_minor": 5
}
