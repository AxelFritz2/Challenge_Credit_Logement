{
 "cells": [
  {
   "cell_type": "code",
   "execution_count": 1,
   "outputs": [],
   "source": [
    "import pandas as pd\n",
    "import warnings\n",
    "from lifelines import CoxPHFitter, CoxTimeVaryingFitter\n",
    "import re\n",
    "from sklearn.preprocessing import OneHotEncoder, LabelEncoder\n",
    "warnings.filterwarnings(\"ignore\")"
   ],
   "metadata": {
    "collapsed": false,
    "ExecuteTime": {
     "end_time": "2024-01-13T17:21:19.214453100Z",
     "start_time": "2024-01-13T17:21:16.645225900Z"
    }
   },
   "id": "15aadaa69e159f2"
  },
  {
   "cell_type": "markdown",
   "source": [
    "# Import des données"
   ],
   "metadata": {
    "collapsed": false
   },
   "id": "94d2a304ff8c99d1"
  },
  {
   "cell_type": "code",
   "execution_count": 2,
   "outputs": [],
   "source": [
    "df = pd.read_csv('../data/base_modelis_pass_det.csv',sep = ';')"
   ],
   "metadata": {
    "collapsed": false,
    "ExecuteTime": {
     "end_time": "2024-01-13T17:21:22.121852200Z",
     "start_time": "2024-01-13T17:21:19.215248500Z"
    }
   },
   "id": "c58c2f0efcb39846"
  },
  {
   "cell_type": "code",
   "execution_count": 3,
   "outputs": [],
   "source": [
    "df['date_entree_defaut'] = pd.to_datetime(df['date_entree_defaut'], format='%d/%m/%y')\n",
    "df['date_sortie_defaut'] = pd.to_datetime(df['date_sortie_defaut'], format='%d/%m/%y', errors='coerce')\n",
    "df['arrete'] = pd.to_datetime(df['arrete'], format='%d/%m/%y')\n",
    "df['DT_MEP_OPE'] = pd.to_datetime(df['DT_MEP_OPE'], format='%d%b%Y:%H:%M:%S.%f')\n",
    "df['dt_arr_last_enc_ope'] = pd.to_datetime(df['dt_arr_last_enc_ope'], errors='coerce')\n",
    "df['dt_arr_1st_enc_ope'] = pd.to_datetime(df['dt_arr_1st_enc_ope'], errors='coerce')\n",
    "df['dtHJD_prov'] = pd.to_datetime(df['dtHJD_prov'], errors='coerce')\n",
    "df['dtHJD_def'] = pd.to_datetime(df['dtHJD_def'], errors='coerce')"
   ],
   "metadata": {
    "collapsed": false,
    "ExecuteTime": {
     "end_time": "2024-01-13T17:21:22.781804700Z",
     "start_time": "2024-01-13T17:21:22.121852200Z"
    }
   },
   "id": "537b9d5beb7c3cec"
  },
  {
   "cell_type": "code",
   "execution_count": 4,
   "outputs": [],
   "source": [
    "for column in df.columns :\n",
    "    if df[column].isna().sum()/df.shape[0] > 0.5 : \n",
    "        df.drop(columns = [column], inplace = True)"
   ],
   "metadata": {
    "collapsed": false,
    "ExecuteTime": {
     "end_time": "2024-01-13T17:21:24.362214800Z",
     "start_time": "2024-01-13T17:21:22.787809300Z"
    }
   },
   "id": "f94beb13ff28d33d"
  },
  {
   "cell_type": "code",
   "execution_count": 5,
   "outputs": [],
   "source": [
    "df.drop(columns = [\"CD_POST_BIEN_PFI\"], inplace = True)"
   ],
   "metadata": {
    "collapsed": false,
    "ExecuteTime": {
     "end_time": "2024-01-13T17:21:24.536087800Z",
     "start_time": "2024-01-13T17:21:24.369239Z"
    }
   },
   "id": "487fa16e1ac5eca7"
  },
  {
   "cell_type": "code",
   "execution_count": 6,
   "outputs": [],
   "source": [
    "var_to_categorize = [\n",
    "    \"FL_REL_NON_ANNULE\",\n",
    "    \"FL_ETR\",\n",
    "    \"CD_ETAT_CIVIL\",\n",
    "    \"CD_DNE_CHR_LGD_SAIN\",\n",
    "    \"fl_prise_de_gar\",\n",
    "    \"fl_fam_vam\",\n",
    "    \"fam_ETH\",\n",
    "    \"fam_ENQ\",\n",
    "    \"fam_exp\",\n",
    "    \"fam_hyp\",\n",
    "    \"fam_sim\",\n",
    "    \"fam_AEP\",\n",
    "    \"dat_dec_echec\",\n",
    "    \"solution\",\n",
    "    \"fam_PCD\",\n",
    "    \"CD_MTF_ENE_CTX\",\n",
    "    \"niv_gravite_mtf_dne\",\n",
    "    \"niv_gravite_mtf_dfs\",\n",
    "    \"no_pass_def\",\n",
    "    \"fl_def_ss_pass_CTX\",\n",
    "    \"fl_prt_Conso\",\n",
    "    \"fl_fonc\",\n",
    "    \"AMI\",\n",
    "    \"EXE\",\n",
    "    \"PTG\"\n",
    "]\n",
    "for var in var_to_categorize : \n",
    "    df[var] = df[var].astype(\"object\")"
   ],
   "metadata": {
    "collapsed": false,
    "ExecuteTime": {
     "end_time": "2024-01-13T17:21:24.830554300Z",
     "start_time": "2024-01-13T17:21:24.541660900Z"
    }
   },
   "id": "49858d59f7c4bd85"
  },
  {
   "cell_type": "code",
   "execution_count": 7,
   "outputs": [],
   "source": [
    "cols_numeriques = df.select_dtypes(include=['float64', 'int64']).columns.to_list()\n",
    "cols_categorielles = df.select_dtypes(include=['object']).columns.to_list()\n",
    "cols_categorielles.remove(\"cd_op\")\n",
    "\n",
    "for col in cols_numeriques:\n",
    "    df[col].fillna(df[col].mean(), inplace=True)\n",
    "\n",
    "for col in cols_categorielles:\n",
    "    df[col].fillna(df[col].mode()[0], inplace=True)"
   ],
   "metadata": {
    "collapsed": false,
    "ExecuteTime": {
     "end_time": "2024-01-13T17:21:26.658039200Z",
     "start_time": "2024-01-13T17:21:24.834933500Z"
    }
   },
   "id": "871211e6ec41f59"
  },
  {
   "cell_type": "code",
   "execution_count": 7,
   "outputs": [],
   "source": [],
   "metadata": {
    "collapsed": false,
    "ExecuteTime": {
     "end_time": "2024-01-13T17:21:26.677696300Z",
     "start_time": "2024-01-13T17:21:26.660053100Z"
    }
   },
   "id": "421ec129e48b9a1d"
  },
  {
   "cell_type": "markdown",
   "source": [
    "# Tests d'indépendance\n",
    "\n",
    "## Var cat"
   ],
   "metadata": {
    "collapsed": false
   },
   "id": "75d4fd93cc8f031b"
  },
  {
   "cell_type": "code",
   "execution_count": 8,
   "outputs": [],
   "source": [
    "df_validation = df[df['arrete']>\"2020-12-30\"]\n",
    "df_train = df[df['arrete']<\"2020-12-30\"]\n",
    "df_train = df_train.reset_index()"
   ],
   "metadata": {
    "collapsed": false,
    "ExecuteTime": {
     "end_time": "2024-01-13T17:21:27.202014700Z",
     "start_time": "2024-01-13T17:21:26.676701700Z"
    }
   },
   "id": "1925ca0d15f4fc7d"
  },
  {
   "cell_type": "code",
   "execution_count": 9,
   "outputs": [
    {
     "name": "stdout",
     "output_type": "stream",
     "text": [
      "On rejette H0, cd_op et fl_pass_DET ne sont pas indépendantes : p-value = 0.0\n",
      "On rejette H0, CD_NAT_EMP1 et fl_pass_DET ne sont pas indépendantes : p-value = 2.959188471846747e-10\n",
      ": On conserve H0, CD_NAT_EMP2 et fl_pass_DET sont indépendantes : p-value = 0.04426582136894044\n",
      "On rejette H0, CD_DEST_PFI et fl_pass_DET ne sont pas indépendantes : p-value = 1.5289961770566588e-06\n",
      "On rejette H0, CD_NATUR_OP_PFI et fl_pass_DET ne sont pas indépendantes : p-value = 1.1218668588387619e-05\n",
      "On rejette H0, FL_REL_NON_ANNULE et fl_pass_DET ne sont pas indépendantes : p-value = 1.1171138835676533e-17\n",
      "On rejette H0, FL_ETR et fl_pass_DET ne sont pas indépendantes : p-value = 7.636330035945652e-11\n",
      "On rejette H0, CD_ETAT_CIVIL et fl_pass_DET ne sont pas indépendantes : p-value = 1.3811961547529014e-23\n",
      "On rejette H0, CD_CSP_EMP1 et fl_pass_DET ne sont pas indépendantes : p-value = 6.787332658173082e-06\n",
      "On rejette H0, CD_CSP_EMP2 et fl_pass_DET ne sont pas indépendantes : p-value = 1.3689455643117655e-10\n",
      "On rejette H0, CD_SITFAM_EMP1 et fl_pass_DET ne sont pas indépendantes : p-value = 2.0615927550890238e-08\n",
      ": On conserve H0, CD_SITFAM_EMP2 et fl_pass_DET sont indépendantes : p-value = 0.1074068203744973\n",
      "On rejette H0, fl_prise_de_gar et fl_pass_DET ne sont pas indépendantes : p-value = 0.0\n",
      "On rejette H0, fl_fam_vam et fl_pass_DET ne sont pas indépendantes : p-value = 2.688961734599438e-81\n",
      "On rejette H0, fam_ETH et fl_pass_DET ne sont pas indépendantes : p-value = 5.544190082679868e-25\n",
      "On rejette H0, fam_ENQ et fl_pass_DET ne sont pas indépendantes : p-value = 2.388701573852528e-161\n",
      "On rejette H0, fam_exp et fl_pass_DET ne sont pas indépendantes : p-value = 0.000692615297038006\n",
      "On rejette H0, fam_hyp et fl_pass_DET ne sont pas indépendantes : p-value = 5.648494213598685e-57\n",
      ": On conserve H0, fam_sim et fl_pass_DET sont indépendantes : p-value = 0.4107712171342406\n",
      ": On conserve H0, fam_AEP et fl_pass_DET sont indépendantes : p-value = 0.7048992242376316\n",
      "On rejette H0, dat_dec_echec et fl_pass_DET ne sont pas indépendantes : p-value = 5.9712308011369345e-189\n",
      "On rejette H0, solution et fl_pass_DET ne sont pas indépendantes : p-value = 2.761404009141983e-18\n",
      "On rejette H0, fam_PCD et fl_pass_DET ne sont pas indépendantes : p-value = 0.0\n",
      "On rejette H0, sol_echec et fl_pass_DET ne sont pas indépendantes : p-value = 0.0\n",
      "On rejette H0, CD_MTF_DFC et fl_pass_DET ne sont pas indépendantes : p-value = 0.0\n",
      "On rejette H0, no_pass_def et fl_pass_DET ne sont pas indépendantes : p-value = 9.722565107643758e-08\n",
      "On rejette H0, fl_def_ss_pass_CTX et fl_pass_DET ne sont pas indépendantes : p-value = 2.2147135148265066e-36\n",
      ": On conserve H0, fl_prt_Conso et fl_pass_DET sont indépendantes : p-value = 0.9220112230020732\n",
      ": On conserve H0, fl_fonc et fl_pass_DET sont indépendantes : p-value = 0.38354349307533464\n",
      "On rejette H0, regroup_natur_op et fl_pass_DET ne sont pas indépendantes : p-value = 1.3426616919461487e-07\n"
     ]
    }
   ],
   "source": [
    "from scipy.stats import zscore\n",
    "import scipy.stats as stats\n",
    "from scipy.stats import chi2_contingency\n",
    "\n",
    "var_cat_dependantes = []\n",
    "\n",
    "for column in df_train.select_dtypes(include='object').columns:\n",
    "    if column != 'fl_pass_DET':  \n",
    "        contingency_table = pd.crosstab(df_train['fl_pass_DET'], df_train[column])\n",
    "        _, p_value, _, _ = chi2_contingency(contingency_table)\n",
    "        \n",
    "        if p_value > 0.01 :\n",
    "            print(f\": On conserve H0, {column} et fl_pass_DET sont indépendantes : p-value = {p_value}\")\n",
    "        if p_value < 0.01 :\n",
    "            print(f\"On rejette H0, {column} et fl_pass_DET ne sont pas indépendantes : p-value = {p_value}\")\n",
    "            var_cat_dependantes.append(column)\n"
   ],
   "metadata": {
    "collapsed": false,
    "ExecuteTime": {
     "end_time": "2024-01-13T17:21:28.809303900Z",
     "start_time": "2024-01-13T17:21:27.209723900Z"
    }
   },
   "id": "3c9b075d01de5580"
  },
  {
   "cell_type": "markdown",
   "source": [
    "## Var num"
   ],
   "metadata": {
    "collapsed": false
   },
   "id": "f1fe060837fbd48a"
  },
  {
   "cell_type": "code",
   "execution_count": 10,
   "outputs": [
    {
     "name": "stdout",
     "output_type": "stream",
     "text": [
      "On conserve H0, index et fl_pass_DET sont indépendantes : p-value = 0.05916551972546058\n",
      "On conserve H0, nb_prt et fl_pass_DET sont indépendantes : p-value = 0.06728352791147284\n",
      "On conserve H0, ANC_BANC_MAX_PFI et fl_pass_DET sont indépendantes : p-value = 0.13655896172736254\n",
      "On conserve H0, MT_PATRIM_MOB et fl_pass_DET sont indépendantes : p-value = 0.019345580078007147\n",
      "On rejette H0, MT_CHA_HORS_OPE_PFI et fl_pass_DET ne sont pas indépendantes : p-value = 7.164799255059955e-11\n",
      "On rejette H0, NB_CHARGE_HORS_OPE_PFI et fl_pass_DET ne sont pas indépendantes : p-value = 1.5063972996869523e-05\n",
      "On rejette H0, MT_PATRIM_NET et fl_pass_DET ne sont pas indépendantes : p-value = 9.456608626520074e-17\n",
      "On rejette H0, MT_REV_PFI et fl_pass_DET ne sont pas indépendantes : p-value = 1.7683952161935098e-21\n",
      "On conserve H0, NB_DUR_PFI et fl_pass_DET sont indépendantes : p-value = 0.08507238916033885\n",
      "On conserve H0, TX_APPOR et fl_pass_DET sont indépendantes : p-value = 0.8521015216128529\n",
      "On conserve H0, MT_CHA_CSM_REV et fl_pass_DET sont indépendantes : p-value = 0.17047916707515598\n",
      "On rejette H0, MT_CHA_IMP et fl_pass_DET ne sont pas indépendantes : p-value = 0.00012140057509207502\n",
      "On rejette H0, MT_CHA_PIP et fl_pass_DET ne sont pas indépendantes : p-value = 1.1591607581015056e-13\n",
      "On rejette H0, MT_CHA_PIV et fl_pass_DET ne sont pas indépendantes : p-value = 0.0057984153520819655\n",
      "On conserve H0, NB_RP_HOP et fl_pass_DET sont indépendantes : p-value = 0.1764990084680429\n",
      "On rejette H0, NB_RS_HOP et fl_pass_DET ne sont pas indépendantes : p-value = 0.00026704242257426946\n",
      "On conserve H0, NB_LO_HOP et fl_pass_DET sont indépendantes : p-value = 0.8673103005103764\n",
      "On rejette H0, cum_dec et fl_pass_DET ne sont pas indépendantes : p-value = 0.0\n",
      "On rejette H0, cum_rec et fl_pass_DET ne sont pas indépendantes : p-value = 2.2109872676976598e-54\n",
      "On rejette H0, cum_frs_externes et fl_pass_DET ne sont pas indépendantes : p-value = 2.6436051800540652e-282\n",
      "On rejette H0, CD_DNE_CHR_LGD_SAIN et fl_pass_DET ne sont pas indépendantes : p-value = 1.0371366817033424e-06\n",
      "On rejette H0, MT_EAD_RESID et fl_pass_DET ne sont pas indépendantes : p-value = 0.004487737035394404\n",
      "On conserve H0, MT_EAD_DNE_CHR_d et fl_pass_DET sont indépendantes : p-value = 0.580771613616616\n",
      "On rejette H0, MR_arr et fl_pass_DET ne sont pas indépendantes : p-value = 0.0\n",
      "On rejette H0, CD_MTF_ENE_CTX et fl_pass_DET ne sont pas indépendantes : p-value = 9.697653505177218e-103\n",
      "On rejette H0, niv_gravite_mtf_dne et fl_pass_DET ne sont pas indépendantes : p-value = 1.1964807847241153e-82\n",
      "On rejette H0, niv_gravite_mtf_dfs et fl_pass_DET ne sont pas indépendantes : p-value = 1.6661092441380733e-27\n",
      "On rejette H0, dls_mep_entree_def et fl_pass_DET ne sont pas indépendantes : p-value = 0.008304950559501516\n",
      "On rejette H0, nb_bienHOP et fl_pass_DET ne sont pas indépendantes : p-value = 2.3625928414161476e-16\n",
      "On rejette H0, ANC_PRO_MAX_PFI et fl_pass_DET ne sont pas indépendantes : p-value = 2.1049734382996963e-10\n",
      "On conserve H0, max_age_ctx et fl_pass_DET sont indépendantes : p-value = 0.06440593096061364\n",
      "On rejette H0, nb_empr_ope et fl_pass_DET ne sont pas indépendantes : p-value = 3.305307575560088e-16\n",
      "On conserve H0, MT_FMG et fl_pass_DET sont indépendantes : p-value = 0.17720501665682853\n",
      "On rejette H0, mt_dec_cum_IMP_tot et fl_pass_DET ne sont pas indépendantes : p-value = 0.0\n",
      "On rejette H0, MT_CHG_MSL et fl_pass_DET ne sont pas indépendantes : p-value = 2.4371715668884517e-07\n",
      "On rejette H0, mt_rev_dispo et fl_pass_DET ne sont pas indépendantes : p-value = 4.730176718548003e-15\n",
      "On conserve H0, EAD_1an_avant_def et fl_pass_DET sont indépendantes : p-value = 0.15257327060871997\n",
      "On rejette H0, dls_ges_def et fl_pass_DET ne sont pas indépendantes : p-value = 4.229003774235886e-222\n",
      "On rejette H0, AMI et fl_pass_DET ne sont pas indépendantes : p-value = 2.5586720899359e-22\n",
      "On conserve H0, EXE et fl_pass_DET sont indépendantes : p-value = 0.8364502670596464\n",
      "On rejette H0, PTG et fl_pass_DET ne sont pas indépendantes : p-value = 0.0\n",
      "On conserve H0, AGE_EMP1 et fl_pass_DET sont indépendantes : p-value = 0.7752545540628075\n",
      "On conserve H0, AGE_EMP2 et fl_pass_DET sont indépendantes : p-value = 0.46774635153616906\n",
      "On conserve H0, TX_ENDET et fl_pass_DET sont indépendantes : p-value = 0.06085209344837029\n"
     ]
    },
    {
     "ename": "KeyboardInterrupt",
     "evalue": "",
     "output_type": "error",
     "traceback": [
      "\u001B[1;31m---------------------------------------------------------------------------\u001B[0m",
      "\u001B[1;31mKeyboardInterrupt\u001B[0m                         Traceback (most recent call last)",
      "\u001B[1;32m~\\AppData\\Local\\Temp\\ipykernel_3008\\4252034526.py\u001B[0m in \u001B[0;36m?\u001B[1;34m()\u001B[0m\n\u001B[0;32m      1\u001B[0m \u001B[0mvar_num_dependantes\u001B[0m \u001B[1;33m=\u001B[0m \u001B[1;33m[\u001B[0m\u001B[1;33m]\u001B[0m\u001B[1;33m\u001B[0m\u001B[1;33m\u001B[0m\u001B[0m\n\u001B[0;32m      2\u001B[0m \u001B[1;32mfor\u001B[0m \u001B[0mcolumn\u001B[0m \u001B[1;32min\u001B[0m \u001B[0mdf_train\u001B[0m\u001B[1;33m.\u001B[0m\u001B[0mselect_dtypes\u001B[0m\u001B[1;33m(\u001B[0m\u001B[0minclude\u001B[0m\u001B[1;33m=\u001B[0m\u001B[1;34m'number'\u001B[0m\u001B[1;33m)\u001B[0m\u001B[1;33m.\u001B[0m\u001B[0mcolumns\u001B[0m\u001B[1;33m:\u001B[0m\u001B[1;33m\u001B[0m\u001B[1;33m\u001B[0m\u001B[0m\n\u001B[0;32m      3\u001B[0m     \u001B[1;32mif\u001B[0m \u001B[0mcolumn\u001B[0m \u001B[1;33m!=\u001B[0m \u001B[1;34m'fl_pass_DET'\u001B[0m\u001B[1;33m:\u001B[0m\u001B[1;33m\u001B[0m\u001B[1;33m\u001B[0m\u001B[0m\n\u001B[1;32m----> 4\u001B[1;33m         \u001B[0mgroupe_0\u001B[0m \u001B[1;33m=\u001B[0m \u001B[1;33m[\u001B[0m\u001B[0mdf_train\u001B[0m\u001B[1;33m[\u001B[0m\u001B[0mcolumn\u001B[0m\u001B[1;33m]\u001B[0m\u001B[1;33m[\u001B[0m\u001B[0mi\u001B[0m\u001B[1;33m]\u001B[0m \u001B[1;32mfor\u001B[0m \u001B[0mi\u001B[0m \u001B[1;32min\u001B[0m \u001B[0mrange\u001B[0m\u001B[1;33m(\u001B[0m\u001B[0mlen\u001B[0m\u001B[1;33m(\u001B[0m\u001B[0mdf_train\u001B[0m\u001B[1;33m[\u001B[0m\u001B[1;34m'fl_pass_DET'\u001B[0m\u001B[1;33m]\u001B[0m\u001B[1;33m)\u001B[0m\u001B[1;33m)\u001B[0m \u001B[1;32mif\u001B[0m \u001B[0mdf_train\u001B[0m\u001B[1;33m[\u001B[0m\u001B[1;34m'fl_pass_DET'\u001B[0m\u001B[1;33m]\u001B[0m\u001B[1;33m[\u001B[0m\u001B[0mi\u001B[0m\u001B[1;33m]\u001B[0m \u001B[1;33m==\u001B[0m \u001B[1;36m0\u001B[0m\u001B[1;33m]\u001B[0m\u001B[1;33m\u001B[0m\u001B[1;33m\u001B[0m\u001B[0m\n\u001B[0m\u001B[0;32m      5\u001B[0m         \u001B[0mgroupe_1\u001B[0m \u001B[1;33m=\u001B[0m \u001B[1;33m[\u001B[0m\u001B[0mdf_train\u001B[0m\u001B[1;33m[\u001B[0m\u001B[0mcolumn\u001B[0m\u001B[1;33m]\u001B[0m\u001B[1;33m[\u001B[0m\u001B[0mi\u001B[0m\u001B[1;33m]\u001B[0m \u001B[1;32mfor\u001B[0m \u001B[0mi\u001B[0m \u001B[1;32min\u001B[0m \u001B[0mrange\u001B[0m\u001B[1;33m(\u001B[0m\u001B[0mlen\u001B[0m\u001B[1;33m(\u001B[0m\u001B[0mdf_train\u001B[0m\u001B[1;33m[\u001B[0m\u001B[1;34m'fl_pass_DET'\u001B[0m\u001B[1;33m]\u001B[0m\u001B[1;33m)\u001B[0m\u001B[1;33m)\u001B[0m \u001B[1;32mif\u001B[0m \u001B[0mdf_train\u001B[0m\u001B[1;33m[\u001B[0m\u001B[1;34m'fl_pass_DET'\u001B[0m\u001B[1;33m]\u001B[0m\u001B[1;33m[\u001B[0m\u001B[0mi\u001B[0m\u001B[1;33m]\u001B[0m \u001B[1;33m==\u001B[0m \u001B[1;36m1\u001B[0m\u001B[1;33m]\u001B[0m\u001B[1;33m\u001B[0m\u001B[1;33m\u001B[0m\u001B[0m\n\u001B[0;32m      6\u001B[0m \u001B[1;33m\u001B[0m\u001B[0m\n\u001B[0;32m      7\u001B[0m         \u001B[0mstatistique_U\u001B[0m\u001B[1;33m,\u001B[0m \u001B[0mp_value\u001B[0m \u001B[1;33m=\u001B[0m \u001B[0mstats\u001B[0m\u001B[1;33m.\u001B[0m\u001B[0mmannwhitneyu\u001B[0m\u001B[1;33m(\u001B[0m\u001B[0mgroupe_0\u001B[0m\u001B[1;33m,\u001B[0m \u001B[0mgroupe_1\u001B[0m\u001B[1;33m)\u001B[0m\u001B[1;33m\u001B[0m\u001B[1;33m\u001B[0m\u001B[0m\n",
      "\u001B[1;32m~\\AppData\\Local\\Temp\\ipykernel_3008\\4252034526.py\u001B[0m in \u001B[0;36m?\u001B[1;34m(.0)\u001B[0m\n\u001B[1;32m----> 4\u001B[1;33m \u001B[0mvar_num_dependantes\u001B[0m \u001B[1;33m=\u001B[0m \u001B[1;33m[\u001B[0m\u001B[1;33m]\u001B[0m\u001B[1;33m\u001B[0m\u001B[1;33m\u001B[0m\u001B[0m\n\u001B[0m",
      "\u001B[1;32m~\\Documents\\M2 MoSEF\\Challenge_Credit_Logement\\venv\\lib\\site-packages\\pandas\\core\\frame.py\u001B[0m in \u001B[0;36m?\u001B[1;34m(self, key)\u001B[0m\n\u001B[0;32m   3854\u001B[0m         \u001B[0mcheck_dict_or_set_indexers\u001B[0m\u001B[1;33m(\u001B[0m\u001B[0mkey\u001B[0m\u001B[1;33m)\u001B[0m\u001B[1;33m\u001B[0m\u001B[1;33m\u001B[0m\u001B[0m\n\u001B[0;32m   3855\u001B[0m         \u001B[0mkey\u001B[0m \u001B[1;33m=\u001B[0m \u001B[0mlib\u001B[0m\u001B[1;33m.\u001B[0m\u001B[0mitem_from_zerodim\u001B[0m\u001B[1;33m(\u001B[0m\u001B[0mkey\u001B[0m\u001B[1;33m)\u001B[0m\u001B[1;33m\u001B[0m\u001B[1;33m\u001B[0m\u001B[0m\n\u001B[0;32m   3856\u001B[0m         \u001B[0mkey\u001B[0m \u001B[1;33m=\u001B[0m \u001B[0mcom\u001B[0m\u001B[1;33m.\u001B[0m\u001B[0mapply_if_callable\u001B[0m\u001B[1;33m(\u001B[0m\u001B[0mkey\u001B[0m\u001B[1;33m,\u001B[0m \u001B[0mself\u001B[0m\u001B[1;33m)\u001B[0m\u001B[1;33m\u001B[0m\u001B[1;33m\u001B[0m\u001B[0m\n\u001B[0;32m   3857\u001B[0m \u001B[1;33m\u001B[0m\u001B[0m\n\u001B[1;32m-> 3858\u001B[1;33m         \u001B[1;32mif\u001B[0m \u001B[0mis_hashable\u001B[0m\u001B[1;33m(\u001B[0m\u001B[0mkey\u001B[0m\u001B[1;33m)\u001B[0m \u001B[1;32mand\u001B[0m \u001B[1;32mnot\u001B[0m \u001B[0mis_iterator\u001B[0m\u001B[1;33m(\u001B[0m\u001B[0mkey\u001B[0m\u001B[1;33m)\u001B[0m\u001B[1;33m:\u001B[0m\u001B[1;33m\u001B[0m\u001B[1;33m\u001B[0m\u001B[0m\n\u001B[0m\u001B[0;32m   3859\u001B[0m             \u001B[1;31m# is_iterator to exclude generator e.g. test_getitem_listlike\u001B[0m\u001B[1;33m\u001B[0m\u001B[1;33m\u001B[0m\u001B[0m\n\u001B[0;32m   3860\u001B[0m             \u001B[1;31m# shortcut if the key is in columns\u001B[0m\u001B[1;33m\u001B[0m\u001B[1;33m\u001B[0m\u001B[0m\n\u001B[0;32m   3861\u001B[0m             \u001B[0mis_mi\u001B[0m \u001B[1;33m=\u001B[0m \u001B[0misinstance\u001B[0m\u001B[1;33m(\u001B[0m\u001B[0mself\u001B[0m\u001B[1;33m.\u001B[0m\u001B[0mcolumns\u001B[0m\u001B[1;33m,\u001B[0m \u001B[0mMultiIndex\u001B[0m\u001B[1;33m)\u001B[0m\u001B[1;33m\u001B[0m\u001B[1;33m\u001B[0m\u001B[0m\n",
      "\u001B[1;31mKeyboardInterrupt\u001B[0m: "
     ]
    }
   ],
   "source": [
    "var_num_dependantes = []\n",
    "for column in df_train.select_dtypes(include='number').columns:\n",
    "    if column != 'fl_pass_DET':\n",
    "        groupe_0 = [df_train[column][i] for i in range(len(df_train['fl_pass_DET'])) if df_train['fl_pass_DET'][i] == 0]\n",
    "        groupe_1 = [df_train[column][i] for i in range(len(df_train['fl_pass_DET'])) if df_train['fl_pass_DET'][i] == 1]\n",
    "        \n",
    "        statistique_U, p_value = stats.mannwhitneyu(groupe_0, groupe_1)\n",
    "        \n",
    "        if p_value > 0.01:\n",
    "            print(f\"On conserve H0, {column} et fl_pass_DET sont indépendantes : p-value = {p_value}\")\n",
    "        if p_value < 0.01:\n",
    "            print(f\"On rejette H0, {column} et fl_pass_DET ne sont pas indépendantes : p-value = {p_value}\")\n",
    "            var_num_dependantes.append(column)"
   ],
   "metadata": {
    "collapsed": false,
    "ExecuteTime": {
     "end_time": "2024-01-13T17:24:28.833097700Z",
     "start_time": "2024-01-13T17:21:28.808304200Z"
    }
   },
   "id": "54f7d30d31abc9f8"
  },
  {
   "cell_type": "code",
   "execution_count": null,
   "outputs": [],
   "source": [
    "var_num_dependantes.extend(var_cat_dependantes)\n",
    "liste_dep = var_num_dependantes.copy()"
   ],
   "metadata": {
    "collapsed": false,
    "ExecuteTime": {
     "end_time": "2024-01-13T17:24:28.887630400Z",
     "start_time": "2024-01-13T17:24:28.840138500Z"
    }
   },
   "id": "d1d0498c2355222e"
  },
  {
   "cell_type": "code",
   "execution_count": null,
   "outputs": [],
   "source": [
    "liste_dep = list(set(liste_dep))"
   ],
   "metadata": {
    "collapsed": false,
    "ExecuteTime": {
     "start_time": "2024-01-13T17:24:28.840217300Z"
    }
   },
   "id": "158c27309dbb963"
  },
  {
   "cell_type": "markdown",
   "source": [
    "On va diviser cette liste en 5 pour tester 5 modeles diff, puis on prendra toutes les var significatives pour tester un 6eme modèle"
   ],
   "metadata": {
    "collapsed": false
   },
   "id": "47ba25e3f62e0844"
  },
  {
   "cell_type": "code",
   "execution_count": null,
   "outputs": [],
   "source": [
    "def diviser_liste(liste, nombre_de_sections):\n",
    "    taille_section = len(liste) // nombre_de_sections\n",
    "    sections = [liste[i * taille_section:(i + 1) * taille_section] for i in range(nombre_de_sections - 1)]\n",
    "    sections.append(liste[(nombre_de_sections - 1) * taille_section:])\n",
    "    return sections\n",
    "\n",
    "\n",
    "liste_1, liste_2, liste_3, liste_4, liste_5 = diviser_liste(liste_dep, 5)"
   ],
   "metadata": {
    "collapsed": false,
    "ExecuteTime": {
     "start_time": "2024-01-13T17:24:28.847364400Z"
    }
   },
   "id": "7f8ec5837e68ad82"
  },
  {
   "cell_type": "code",
   "execution_count": null,
   "outputs": [],
   "source": [
    "df_train_var = df[liste_1].copy()\n",
    "df_test_var = df_validation[liste_1].copy()"
   ],
   "metadata": {
    "collapsed": false,
    "ExecuteTime": {
     "start_time": "2024-01-13T17:24:28.852703200Z"
    }
   },
   "id": "b49125cb4693c7e2"
  },
  {
   "cell_type": "markdown",
   "source": [
    "# Encoding"
   ],
   "metadata": {
    "collapsed": false
   },
   "id": "e43d6cf48a236d7b"
  },
  {
   "cell_type": "code",
   "execution_count": null,
   "outputs": [],
   "source": [
    "def encode_columns(df):\n",
    "    encoders = {}\n",
    "    for column in df.select_dtypes(include='object'):\n",
    "        unique_values = df[column].nunique()\n",
    "        if unique_values <= 10:\n",
    "            # Appliquer OneHotEncoder\n",
    "            encoder = OneHotEncoder(sparse=False)\n",
    "            encoded = encoder.fit_transform(df[[column]])\n",
    "            encoders[column] = encoder\n",
    "\n",
    "            # Remplacer la colonne originale par de nouvelles colonnes pour chaque catégorie\n",
    "            for i, category in enumerate(encoder.categories_[0]):\n",
    "                df[str(column) + '_' + str(category)] = encoded[:, i]\n",
    "            df.drop(column, axis=1, inplace=True)\n",
    "        else:\n",
    "            # Appliquer LabelEncoder\n",
    "            encoder = LabelEncoder()\n",
    "            df[column] = encoder.fit_transform(df[column])\n",
    "            encoders[column] = encoder\n",
    "    return df, encoders\n",
    "\n",
    "encoded_df, encoders = encode_columns(df_train_var)\n",
    "encoded_test, encoder_test = encode_columns(df_test_var)"
   ],
   "metadata": {
    "collapsed": false,
    "ExecuteTime": {
     "start_time": "2024-01-13T17:24:28.858824900Z"
    }
   },
   "id": "6d2898414042b666"
  },
  {
   "cell_type": "code",
   "execution_count": null,
   "outputs": [],
   "source": [
    "df_train_var['cd_op']  = df['cd_op'].copy()\n",
    "df_train_var['fl_pass_DET'] = df['fl_pass_DET'].copy()\n",
    "df_train_var['date_entree_defaut'] = df['date_entree_defaut'].copy()\n",
    "df_train_var['arrete'] = df['arrete'].copy()"
   ],
   "metadata": {
    "collapsed": false,
    "ExecuteTime": {
     "start_time": "2024-01-13T17:24:28.865596200Z"
    }
   },
   "id": "76fffbb2bcf8f2af"
  },
  {
   "cell_type": "code",
   "execution_count": null,
   "outputs": [],
   "source": [
    "df_test_var['cd_op']  = df_validation['cd_op'].copy()\n",
    "df_test_var['fl_pass_DET'] = df_validation['fl_pass_DET'].copy()\n",
    "df_test_var['date_entree_defaut'] = df_validation['date_entree_defaut'].copy()\n",
    "df_test_var['arrete'] = df_validation['arrete'].copy()"
   ],
   "metadata": {
    "collapsed": false,
    "ExecuteTime": {
     "start_time": "2024-01-13T17:24:28.865596200Z"
    }
   },
   "id": "ee63c4f5001cef6d"
  },
  {
   "cell_type": "markdown",
   "source": [
    "# Préparation des données"
   ],
   "metadata": {
    "collapsed": false
   },
   "id": "83a691d288db4f6b"
  },
  {
   "cell_type": "code",
   "execution_count": null,
   "outputs": [],
   "source": [
    "data_haz = df_train_var.copy()\n",
    "data_test =df_test_var.copy()"
   ],
   "metadata": {
    "collapsed": false,
    "ExecuteTime": {
     "start_time": "2024-01-13T17:24:28.871619200Z"
    }
   },
   "id": "6ba556aec2722d85"
  },
  {
   "cell_type": "code",
   "execution_count": null,
   "outputs": [],
   "source": [
    "data_haz['start'] = 0\n",
    "data_haz['stop'] = data_haz['arrete'] - data_haz['date_entree_defaut']\n",
    "data_haz['stop'] = data_haz['stop'].dt.days\n",
    "\n",
    "data_test['start'] = 0\n",
    "data_test['stop'] = data_test['arrete'] - data_test['date_entree_defaut']\n",
    "data_test['stop'] = data_test['stop'].dt.days"
   ],
   "metadata": {
    "collapsed": false,
    "ExecuteTime": {
     "start_time": "2024-01-13T17:24:28.879005Z"
    }
   },
   "id": "ed63998ee83be339"
  },
  {
   "cell_type": "code",
   "execution_count": null,
   "outputs": [],
   "source": [
    "data_haz['id'] = data_haz['cd_op'].apply(lambda x: re.sub(r'\\D', '', str(x)))\n",
    "\n",
    "\n",
    "data_test['id'] = data_test['cd_op'].apply(lambda x: re.sub(r'\\D', '', str(x)))"
   ],
   "metadata": {
    "collapsed": false,
    "ExecuteTime": {
     "start_time": "2024-01-13T17:24:28.883247900Z"
    }
   },
   "id": "6458005d461994e4"
  },
  {
   "cell_type": "code",
   "execution_count": null,
   "outputs": [],
   "source": [
    "data_haz.loc[(data_haz['start'] == data_haz['stop']) & (data_haz['start'] == 0) & data_haz[\n",
    "    'fl_pass_DET'], 'stop'] = 0.5  # car le modele n'accepte pas les individus qui sortent de la survie au moment ou ils y entrent donc on remplace les 0 par 0.5.\n",
    "\n",
    "data_test.loc[(data_test['start'] == data_test['stop']) & (data_test['start'] == 0) & data_test[\n",
    "    'fl_pass_DET'], 'stop'] = 0.5 "
   ],
   "metadata": {
    "collapsed": false,
    "ExecuteTime": {
     "end_time": "2024-01-13T17:24:28.914371600Z",
     "start_time": "2024-01-13T17:24:28.887630400Z"
    }
   },
   "id": "c166cdd0afea72f5"
  },
  {
   "cell_type": "code",
   "execution_count": null,
   "outputs": [],
   "source": [
    "data_haz = data_haz.select_dtypes(exclude=[\"datetime64\"])\n",
    "\n",
    "data_test = data_test.select_dtypes(exclude=[\"datetime64\"])"
   ],
   "metadata": {
    "collapsed": false,
    "ExecuteTime": {
     "start_time": "2024-01-13T17:24:28.887630400Z"
    }
   },
   "id": "e2f2ed6be3b153e4"
  },
  {
   "cell_type": "code",
   "execution_count": null,
   "outputs": [],
   "source": [
    "data_haz.drop(columns = [\"cd_op\"], inplace = True)\n",
    "\n",
    "\n",
    "data_test.drop(columns = [\"cd_op\"], inplace = True)"
   ],
   "metadata": {
    "collapsed": false,
    "ExecuteTime": {
     "start_time": "2024-01-13T17:24:28.895078900Z"
    }
   },
   "id": "cb8c902d74121e54"
  },
  {
   "cell_type": "markdown",
   "source": [
    "# Modélisation"
   ],
   "metadata": {
    "collapsed": false,
    "ExecuteTime": {
     "start_time": "2024-01-08T20:55:44.170112600Z"
    }
   },
   "id": "e2852264f55785db"
  },
  {
   "cell_type": "code",
   "execution_count": null,
   "outputs": [],
   "source": [
    "ctv = CoxTimeVaryingFitter(penalizer=0.1)\n",
    "ctv.fit(data_haz, id_col=\"id\", event_col=\"fl_pass_DET\", stop_col=\"stop\", show_progress=True)"
   ],
   "metadata": {
    "collapsed": false,
    "ExecuteTime": {
     "start_time": "2024-01-13T17:24:28.900419300Z"
    }
   },
   "id": "1f4b018e34eb2e2a"
  },
  {
   "cell_type": "code",
   "execution_count": null,
   "outputs": [],
   "source": [
    "ctv.print_summary()"
   ],
   "metadata": {
    "collapsed": false,
    "ExecuteTime": {
     "start_time": "2024-01-13T17:24:28.903428900Z"
    }
   },
   "id": "bf8a0f070c03ed5f"
  },
  {
   "cell_type": "code",
   "execution_count": null,
   "outputs": [],
   "source": [
    "ctv.plot()"
   ],
   "metadata": {
    "collapsed": false,
    "ExecuteTime": {
     "start_time": "2024-01-13T17:24:28.903428900Z"
    }
   },
   "id": "f89de305a1f3eb5a"
  },
  {
   "cell_type": "code",
   "execution_count": null,
   "outputs": [],
   "source": [
    "liste_1"
   ],
   "metadata": {
    "collapsed": false,
    "ExecuteTime": {
     "start_time": "2024-01-13T17:24:28.903428900Z"
    }
   },
   "id": "f3839426f99b9e44"
  },
  {
   "cell_type": "markdown",
   "source": [
    "### Prise de notes variables significatives\n",
    "['fam_ENQ','solution','FL_REL_NON_ANNULE','niv_gravite_mtf_dne']\n",
    "['CD_SITFAM_EMP1','regroup_natur_op','PTG','fl_fam_vam']\n",
    "['fam_PCD','AMI','CD_ETAT_CIVIL','CD_NAT_EMP1] les 2 dernieres de cette liste sont bof\n",
    "['niv_gravite_mtf_dne','FL_REL_NON_ANNULE']\n",
    "['sol_echec','fl_def_ss_pass_CTX','nb_empr_ope','CD_MTF_DFC','FL_ETR']\n",
    "\n"
   ],
   "metadata": {
    "collapsed": false
   },
   "id": "8360e278b45afa77"
  },
  {
   "cell_type": "code",
   "execution_count": null,
   "outputs": [],
   "source": [
    "ctv.predict_partial_hazard(data_test)"
   ],
   "metadata": {
    "collapsed": false,
    "ExecuteTime": {
     "start_time": "2024-01-13T17:24:28.910748900Z"
    }
   },
   "id": "20f9f2bb0ed4312d"
  },
  {
   "cell_type": "code",
   "execution_count": null,
   "outputs": [],
   "source": [],
   "metadata": {
    "collapsed": false,
    "ExecuteTime": {
     "start_time": "2024-01-13T17:24:28.910748900Z"
    }
   },
   "id": "aea9fdeb5bed5f76"
  }
 ],
 "metadata": {
  "kernelspec": {
   "display_name": "Python 3",
   "language": "python",
   "name": "python3"
  },
  "language_info": {
   "codemirror_mode": {
    "name": "ipython",
    "version": 2
   },
   "file_extension": ".py",
   "mimetype": "text/x-python",
   "name": "python",
   "nbconvert_exporter": "python",
   "pygments_lexer": "ipython2",
   "version": "2.7.6"
  }
 },
 "nbformat": 4,
 "nbformat_minor": 5
}
