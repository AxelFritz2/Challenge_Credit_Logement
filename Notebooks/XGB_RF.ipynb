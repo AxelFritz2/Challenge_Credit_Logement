{
 "cells": [
  {
   "cell_type": "code",
   "execution_count": 283,
   "id": "initial_id",
   "metadata": {
    "collapsed": true,
    "ExecuteTime": {
     "end_time": "2024-02-05T22:45:11.741346700Z",
     "start_time": "2024-02-05T22:45:11.641335400Z"
    }
   },
   "outputs": [],
   "source": [
    "import pandas as pd\n",
    "from sklearn.model_selection import train_test_split\n",
    "import warnings \n",
    "warnings.filterwarnings(\"ignore\")\n",
    "\n",
    "\n",
    "from sklearn.linear_model import LogisticRegression\n",
    "from sklearn.metrics import roc_auc_score, confusion_matrix, classification_report, accuracy_score\n"
   ]
  },
  {
   "cell_type": "code",
   "execution_count": 284,
   "outputs": [],
   "source": [
    "df = pd.read_csv('../data/df.csv',sep = ',')"
   ],
   "metadata": {
    "collapsed": false,
    "ExecuteTime": {
     "end_time": "2024-02-05T22:45:12.478594200Z",
     "start_time": "2024-02-05T22:45:12.143480Z"
    }
   },
   "id": "5c566fee7dc9d843"
  },
  {
   "cell_type": "code",
   "execution_count": 290,
   "outputs": [],
   "source": [],
   "metadata": {
    "collapsed": false,
    "ExecuteTime": {
     "end_time": "2024-02-05T22:46:49.641869900Z",
     "start_time": "2024-02-05T22:46:49.529598600Z"
    }
   },
   "id": "341d76b28b40927"
  },
  {
   "cell_type": "markdown",
   "source": [
    "# Encoding"
   ],
   "metadata": {
    "collapsed": false
   },
   "id": "c96d76ce8442fbe9"
  },
  {
   "cell_type": "code",
   "execution_count": 289,
   "outputs": [],
   "source": [
    "df['Motif'] = df['Motif'].apply(lambda x : 3 if x == 'Motif tres mauvais' else 2 if x == 'Motif mauvais' else 1)\n",
    "\n",
    "df['Situation_fam'] = df['Situation_fam'].apply(lambda x : 2 if x == 'Mauvaise situation' else 1)\n",
    "\n",
    "df['Nature'] = df['Nature'].apply(lambda x : 2 if x == 'Mauvaise nature' else 1)\n",
    "\n",
    "df['Solution_echec'] = df['Solution_echec'].apply(lambda x : 2 if x == 'Mauvaise solution' else 1)\n",
    "\n",
    "df['Nature_op'] = df['Nature_op'].apply(lambda x : 2 if x == 'Mauvaise nature' else 1)\n",
    "\n",
    "df['MTF'] = df['MTF'].apply(lambda x : 2 if x == 'Mauvais MTF' else 1)\n",
    "\n",
    "df['ETAT_CIVIL'] = df['ETAT_CIVIL'].apply(lambda x : 2 if x == 'Mauvais etat' else 1)\n",
    "\n",
    "df['CSP'] = df['CSP'].apply(lambda x : 2 if x == 'Mauvaise CSP' else 1)\n",
    "\n",
    "df['nb_empr_ope'] = df['nb_empr_ope'].apply(lambda x : 1 if x == 'Un emprunteur' else 2)"
   ],
   "metadata": {
    "collapsed": false,
    "ExecuteTime": {
     "end_time": "2024-02-05T22:45:57.758402800Z",
     "start_time": "2024-02-05T22:45:57.613057900Z"
    }
   },
   "id": "83679c603455843"
  },
  {
   "cell_type": "code",
   "execution_count": 272,
   "outputs": [],
   "source": [
    "df = df[['Motif', 'niv_gravite_mtf_dfs', 'MTF', 'dls_mep_entree_def',\n",
    "       'ANC_PRO_MAX_PFI', 'nb_empr_ope', 'CD_DNE_CHR_LGD_SAIN', 'MT_EAD_RESID',\n",
    "       'cum_dec', 'MT_REST_VIVRE', 'DET', 'arrete', 'cd_op']]"
   ],
   "metadata": {
    "collapsed": false,
    "ExecuteTime": {
     "end_time": "2024-02-05T22:36:22.262185200Z",
     "start_time": "2024-02-05T22:36:19.721153900Z"
    }
   },
   "id": "d9ffa929c6ab28c0"
  },
  {
   "cell_type": "code",
   "execution_count": 273,
   "outputs": [],
   "source": [
    "df['arrete'] = pd.to_datetime(df['arrete'])"
   ],
   "metadata": {
    "collapsed": false,
    "ExecuteTime": {
     "end_time": "2024-02-05T22:36:22.262185200Z",
     "start_time": "2024-02-05T22:36:19.758755200Z"
    }
   },
   "id": "b5245f3062662a1e"
  },
  {
   "cell_type": "code",
   "execution_count": 274,
   "outputs": [],
   "source": [
    "df_validation = df[df['arrete']>\"2020-12-30\"]"
   ],
   "metadata": {
    "collapsed": false,
    "ExecuteTime": {
     "end_time": "2024-02-05T22:36:22.262185200Z",
     "start_time": "2024-02-05T22:36:19.779458100Z"
    }
   },
   "id": "357cdf24988227ca"
  },
  {
   "cell_type": "code",
   "execution_count": 275,
   "outputs": [],
   "source": [
    "data = df[df['arrete']<\"2020-12-30\"]"
   ],
   "metadata": {
    "collapsed": false,
    "ExecuteTime": {
     "end_time": "2024-02-05T22:36:22.262185200Z",
     "start_time": "2024-02-05T22:36:19.795430500Z"
    }
   },
   "id": "78a2f4bf353ea47f"
  },
  {
   "cell_type": "markdown",
   "source": [
    "# train test "
   ],
   "metadata": {
    "collapsed": false
   },
   "id": "ff102d276022494a"
  },
  {
   "cell_type": "code",
   "execution_count": 276,
   "outputs": [],
   "source": [
    "# Sélectionner les données\n",
    "X = data.copy() # On drop les var qui ont trop de NaN\n",
    "\n",
    "X = X.select_dtypes(exclude = 'datetime')\n",
    "X.dropna(inplace = True)\n",
    "\n",
    "y = X['DET']\n",
    "\n",
    "X.drop(columns = 'DET', inplace = True)\n"
   ],
   "metadata": {
    "collapsed": false,
    "ExecuteTime": {
     "end_time": "2024-02-05T22:36:22.262185200Z",
     "start_time": "2024-02-05T22:36:19.823541400Z"
    }
   },
   "id": "3ab9b71db661b95a"
  },
  {
   "cell_type": "code",
   "execution_count": 277,
   "outputs": [],
   "source": [
    "X.drop(columns = ['cd_op'], inplace = True)"
   ],
   "metadata": {
    "collapsed": false,
    "ExecuteTime": {
     "end_time": "2024-02-05T22:36:22.262185200Z",
     "start_time": "2024-02-05T22:36:19.863083700Z"
    }
   },
   "id": "99b44130f0472e75"
  },
  {
   "cell_type": "code",
   "execution_count": 278,
   "outputs": [],
   "source": [
    "X_train, X_test, y_train, y_test = train_test_split(X, y, test_size=0.2, random_state=42)"
   ],
   "metadata": {
    "collapsed": false,
    "ExecuteTime": {
     "end_time": "2024-02-05T22:36:22.262185200Z",
     "start_time": "2024-02-05T22:36:19.881348600Z"
    }
   },
   "id": "20fdf4b27f037f19"
  },
  {
   "cell_type": "markdown",
   "source": [
    "# Optimisation hyper parametres"
   ],
   "metadata": {
    "collapsed": false
   },
   "id": "a328140d6829a920"
  },
  {
   "cell_type": "markdown",
   "source": [
    "import optuna\n",
    "import xgboost as xgb\n",
    "from sklearn.metrics import roc_auc_score\n",
    "from sklearn.model_selection import train_test_split\n",
    "\n",
    "# Assume X_train, X_test, y_train, y_test are defined\n",
    "\n",
    "def objective(trial):\n",
    "    params = {\n",
    "        'objective': 'binary:logistic',\n",
    "        'eval_metric': 'logloss',\n",
    "        'max_depth': trial.suggest_int('max_depth', 5, 25),\n",
    "        'eta': trial.suggest_loguniform('eta', 1e-8, 1.0),\n",
    "        'gamma': trial.suggest_loguniform('gamma', 1e-8, 1.0),\n",
    "        'colsample_bytree': trial.suggest_uniform('colsample_bytree', 0.0, 1.0),\n",
    "        'subsample': trial.suggest_uniform('subsample', 0.0, 1.0),\n",
    "        'n_estimators': trial.suggest_int('n_estimators', 25, 150),\n",
    "    }\n",
    "\n",
    "    model = xgb.XGBClassifier(**params)\n",
    "    model.fit(X_train, y_train)\n",
    "    y_prob = model.predict_proba(X_test)[:, 1]\n",
    "    \n",
    "    roc_auc = roc_auc_score(y_test, y_prob)\n",
    "    return roc_auc\n",
    "\n",
    "# Split the data into training and test sets\n",
    "X_train, X_test, y_train, y_test = train_test_split(X, y, test_size=0.2, random_state=42)\n",
    "\n",
    "# Create an Optuna study object and perform the optimization\n",
    "study = optuna.create_study(direction='maximize')\n",
    "study.optimize(objective, n_trials=1000)\n",
    "\n",
    "# Display the optimization results\n",
    "print(f\"Best parameters: {study.best_params}\")\n",
    "print(f\"Best AUC score: {study.best_value}\")\n"
   ],
   "metadata": {
    "collapsed": false
   },
   "id": "c651fa2ae2c2ab93"
  },
  {
   "cell_type": "markdown",
   "source": [
    "Best parameters: {'booster': 'dart', 'max_depth': 11, 'eta': 0.0015707570040851947, 'gamma': 0.01338955350785846, 'colsample_bytree': 0.5086577127913693, 'subsample': 0.5026165152122065, 'n_estimators': 142}\n",
    "Best AUC score: 0.7929119536905505"
   ],
   "metadata": {
    "collapsed": false
   },
   "id": "688e8f7f3f6d641d"
  },
  {
   "cell_type": "code",
   "execution_count": 279,
   "outputs": [
    {
     "data": {
      "text/plain": "<Figure size 800x600 with 1 Axes>",
      "image/png": "[encoded data removed]"
     },
     "metadata": {},
     "output_type": "display_data"
    }
   ],
   "source": [
    "import xgboost as xgb\n",
    "from sklearn.metrics import roc_curve, auc\n",
    "import matplotlib.pyplot as plt\n",
    "\n",
    "params = {'booster': 'gbtree', 'max_depth': 11, 'eta': 0.0015707570040851947, 'gamma': 0.01338955350785846, 'colsample_bytree': 0.5086577127913693, 'subsample': 0.5026165152122065, 'n_estimators': 142}\n",
    "\n",
    "\n",
    "# Créer le modèle avec les hyperparamètres spécifiés\n",
    "model = xgb.XGBClassifier(**params)\n",
    "\n",
    "# Entraîner le modèle\n",
    "model.fit(X_train, y_train)\n",
    "\n",
    "# Faire des prédictions sur l'ensemble de test\n",
    "y_prob = model.predict_proba(X_test)[:, 1]\n",
    "\n",
    "# Calculer la courbe ROC\n",
    "fpr, tpr, thresholds = roc_curve(y_test, y_prob)\n",
    "roc_auc = auc(fpr, tpr)\n",
    "\n",
    "# Afficher la courbe ROC\n",
    "plt.figure(figsize=(8, 6))\n",
    "plt.plot(fpr, tpr, color='darkorange', lw=2, label=f'AUC = {roc_auc:.2f}')\n",
    "plt.plot([0, 1], [0, 1], color='navy', lw=2, linestyle='--')\n",
    "plt.xlabel('Taux de faux positifs')\n",
    "plt.ylabel('Taux de vrais positifs')\n",
    "plt.title('Courbe ROC')\n",
    "plt.legend(loc='lower right')\n",
    "plt.show()"
   ],
   "metadata": {
    "collapsed": false,
    "ExecuteTime": {
     "end_time": "2024-02-05T22:36:22.263989Z",
     "start_time": "2024-02-05T22:36:19.920751500Z"
    }
   },
   "id": "2740536142c1cc7"
  },
  {
   "cell_type": "code",
   "execution_count": 280,
   "outputs": [
    {
     "data": {
      "text/plain": "0.7906647044499866"
     },
     "execution_count": 280,
     "metadata": {},
     "output_type": "execute_result"
    }
   ],
   "source": [
    "roc_auc"
   ],
   "metadata": {
    "collapsed": false,
    "ExecuteTime": {
     "end_time": "2024-02-05T22:36:22.263989Z",
     "start_time": "2024-02-05T22:36:21.155082100Z"
    }
   },
   "id": "16264bcd4b3acb40"
  },
  {
   "cell_type": "code",
   "execution_count": 281,
   "outputs": [
    {
     "data": {
      "text/plain": "<Figure size 800x550 with 2 Axes>",
      "image/png": "[encoded data removed]"
     },
     "metadata": {},
     "output_type": "display_data"
    },
    {
     "data": {
      "text/plain": "<shap.plots._force.AdditiveForceVisualizer at 0x1a31a02b280>",
      "text/html": "\n<div id='iMEHOWZM7LMX72F8CZR9X'>\n<div style='color: #900; text-align: center;'>\n  <b>Visualization omitted, Javascript library not loaded!</b><br>\n  Have you run `initjs()` in this notebook? If this notebook was from another\n  user you must also trust this notebook (File -> Trust notebook). If you are viewing\n  this notebook on github the Javascript has been stripped for security. If you are using\n  JupyterLab this error is because a JupyterLab extension has not yet been written.\n</div></div>\n <script>\n   if (window.SHAP) SHAP.ReactDom.render(\n    SHAP.React.createElement(SHAP.AdditiveForceVisualizer, {\"outNames\": [\"f(x)\"], \"baseValue\": -0.5718652606010437, \"outValue\": -0.5489102005958557, \"link\": \"identity\", \"featureNames\": [\"Motif\", \"niv_gravite_mtf_dfs\", \"MTF\", \"dls_mep_entree_def\", \"ANC_PRO_MAX_PFI\", \"nb_empr_ope\", \"CD_DNE_CHR_LGD_SAIN\", \"MT_EAD_RESID\", \"cum_dec\", \"MT_REST_VIVRE\"], \"features\": {\"0\": {\"effect\": 0.046354569494724274, \"value\": 2.0}, \"1\": {\"effect\": -0.012134265154600143, \"value\": 0.0}, \"2\": {\"effect\": 0.009760953485965729, \"value\": 2.0}, \"3\": {\"effect\": 0.004071128088980913, \"value\": 93.2}, \"4\": {\"effect\": -0.0040218220092356205, \"value\": 89.0}, \"5\": {\"effect\": -0.008319776505231857, \"value\": 2.0}, \"6\": {\"effect\": -0.01816542260348797, \"value\": 1.0}, \"7\": {\"effect\": 0.007978701964020729, \"value\": 326599.35}, \"8\": {\"effect\": -0.0027313856407999992, \"value\": 0.0}, \"9\": {\"effect\": 0.00016236893134191632, \"value\": 1726.0}}, \"plot_cmap\": \"RdBu\", \"labelMargin\": 20}),\n    document.getElementById('iMEHOWZM7LMX72F8CZR9X')\n  );\n</script>"
     },
     "execution_count": 281,
     "metadata": {},
     "output_type": "execute_result"
    }
   ],
   "source": [
    "import shap\n",
    "\n",
    "\n",
    "explainer = shap.TreeExplainer(model)\n",
    "\n",
    "# Calculer les Shapley values pour un échantillon de données (par exemple, les 100 premières observations)\n",
    "shap_values = explainer.shap_values(X_train.iloc[:100, :])\n",
    "\n",
    "# Afficher les Shapley values pour la première observation\n",
    "shap.summary_plot(shap_values, X_train.iloc[:100, :])\n",
    "\n",
    "# Si vous voulez expliquer une prédiction spécifique pour une observation donnée, utilisez la fonction shap_values\n",
    "# par exemple, pour expliquer la prédiction pour la première observation :\n",
    "shap_values_single = explainer.shap_values(X_train.iloc[[0]])\n",
    "shap.force_plot(explainer.expected_value, shap_values_single, X_train.iloc[[0]])"
   ],
   "metadata": {
    "collapsed": false,
    "ExecuteTime": {
     "end_time": "2024-02-05T22:36:25.212858700Z",
     "start_time": "2024-02-05T22:36:21.172454400Z"
    }
   },
   "id": "255efbeb8a54a4b8"
  },
  {
   "cell_type": "code",
   "execution_count": 282,
   "outputs": [
    {
     "data": {
      "text/plain": "Index(['Motif', 'MTF', 'niv_gravite_mtf_dfs', 'CD_DNE_CHR_LGD_SAIN',\n       'ANC_PRO_MAX_PFI', 'nb_empr_ope', 'dls_mep_entree_def', 'MT_REST_VIVRE',\n       'cum_dec', 'MT_EAD_RESID'],\n      dtype='object')"
     },
     "execution_count": 282,
     "metadata": {},
     "output_type": "execute_result"
    }
   ],
   "source": [
    "import numpy as np\n",
    "# Les Shapley values pour chaque variable sont accessibles via l'attribut \"values\" du résultat de la fonction shap_values.\n",
    "shap_values_avg = np.abs(shap_values).mean(axis=0)\n",
    "top_variables_indices = np.argsort(shap_values_avg)[::-1]\n",
    "\n",
    "# Afficher les n variables les plus importantes (par exemple, n=5)\n",
    "n_top_variables = 10\n",
    "top_variables = X_train.columns[top_variables_indices[:n_top_variables]]\n",
    "\n",
    "# Imprimer la liste des variables les plus importantes\n",
    "top_variables"
   ],
   "metadata": {
    "collapsed": false,
    "ExecuteTime": {
     "end_time": "2024-02-05T22:36:25.387456100Z",
     "start_time": "2024-02-05T22:36:25.212858700Z"
    }
   },
   "id": "a9e81f84c5ba8f83"
  },
  {
   "cell_type": "code",
   "execution_count": 282,
   "outputs": [],
   "source": [],
   "metadata": {
    "collapsed": false,
    "ExecuteTime": {
     "end_time": "2024-02-05T22:36:25.387456100Z",
     "start_time": "2024-02-05T22:36:25.220558200Z"
    }
   },
   "id": "2e20e1ece0c046d0"
  },
  {
   "cell_type": "code",
   "execution_count": 282,
   "outputs": [],
   "source": [],
   "metadata": {
    "collapsed": false,
    "ExecuteTime": {
     "end_time": "2024-02-05T22:36:25.387456100Z",
     "start_time": "2024-02-05T22:36:25.246106200Z"
    }
   },
   "id": "913d3d6405e7db09"
  },
  {
   "cell_type": "code",
   "execution_count": 282,
   "outputs": [],
   "source": [],
   "metadata": {
    "collapsed": false,
    "ExecuteTime": {
     "end_time": "2024-02-05T22:36:25.387456100Z",
     "start_time": "2024-02-05T22:36:25.261789700Z"
    }
   },
   "id": "495fed8aefdbddeb"
  },
  {
   "cell_type": "code",
   "execution_count": 282,
   "outputs": [],
   "source": [],
   "metadata": {
    "collapsed": false,
    "ExecuteTime": {
     "end_time": "2024-02-05T22:36:25.418712700Z",
     "start_time": "2024-02-05T22:36:25.296972900Z"
    }
   },
   "id": "41733e9d2b86da67"
  },
  {
   "cell_type": "code",
   "execution_count": 282,
   "outputs": [],
   "source": [],
   "metadata": {
    "collapsed": false,
    "ExecuteTime": {
     "end_time": "2024-02-05T22:36:25.418712700Z",
     "start_time": "2024-02-05T22:36:25.309071600Z"
    }
   },
   "id": "7e7b3c3dafac06dc"
  },
  {
   "cell_type": "code",
   "execution_count": 282,
   "outputs": [],
   "source": [],
   "metadata": {
    "collapsed": false,
    "ExecuteTime": {
     "end_time": "2024-02-05T22:36:25.418712700Z",
     "start_time": "2024-02-05T22:36:25.325154400Z"
    }
   },
   "id": "60d99f13ce7d7596"
  },
  {
   "cell_type": "code",
   "execution_count": 282,
   "outputs": [],
   "source": [],
   "metadata": {
    "collapsed": false,
    "ExecuteTime": {
     "end_time": "2024-02-05T22:36:25.418712700Z",
     "start_time": "2024-02-05T22:36:25.343161500Z"
    }
   },
   "id": "cc01f5561704f115"
  },
  {
   "cell_type": "code",
   "execution_count": 282,
   "outputs": [],
   "source": [],
   "metadata": {
    "collapsed": false,
    "ExecuteTime": {
     "end_time": "2024-02-05T22:36:25.418712700Z",
     "start_time": "2024-02-05T22:36:25.351357300Z"
    }
   },
   "id": "db015801bd7214a4"
  },
  {
   "cell_type": "code",
   "execution_count": 282,
   "outputs": [],
   "source": [],
   "metadata": {
    "collapsed": false,
    "ExecuteTime": {
     "end_time": "2024-02-05T22:36:25.418712700Z",
     "start_time": "2024-02-05T22:36:25.362936900Z"
    }
   },
   "id": "6d9a29aa3ab4d194"
  },
  {
   "cell_type": "code",
   "execution_count": 282,
   "outputs": [],
   "source": [],
   "metadata": {
    "collapsed": false,
    "ExecuteTime": {
     "end_time": "2024-02-05T22:36:25.418712700Z",
     "start_time": "2024-02-05T22:36:25.372838600Z"
    }
   },
   "id": "d546d53eacb55f23"
  },
  {
   "cell_type": "code",
   "execution_count": 282,
   "outputs": [],
   "source": [],
   "metadata": {
    "collapsed": false,
    "ExecuteTime": {
     "end_time": "2024-02-05T22:36:25.443343500Z",
     "start_time": "2024-02-05T22:36:25.382896Z"
    }
   },
   "id": "e87029eb782c0c25"
  },
  {
   "cell_type": "code",
   "execution_count": 282,
   "outputs": [],
   "source": [],
   "metadata": {
    "collapsed": false,
    "ExecuteTime": {
     "end_time": "2024-02-05T22:36:25.487080600Z",
     "start_time": "2024-02-05T22:36:25.394311900Z"
    }
   },
   "id": "a93206fa7a4cdbc9"
  },
  {
   "cell_type": "code",
   "execution_count": 282,
   "outputs": [],
   "source": [],
   "metadata": {
    "collapsed": false,
    "ExecuteTime": {
     "end_time": "2024-02-05T22:36:25.741090900Z",
     "start_time": "2024-02-05T22:36:25.411994600Z"
    }
   },
   "id": "ce5427d816185534"
  },
  {
   "cell_type": "code",
   "execution_count": 282,
   "outputs": [],
   "source": [],
   "metadata": {
    "collapsed": false,
    "ExecuteTime": {
     "end_time": "2024-02-05T22:36:25.769863600Z",
     "start_time": "2024-02-05T22:36:25.426753Z"
    }
   },
   "id": "8354469762d22f80"
  },
  {
   "cell_type": "code",
   "execution_count": 282,
   "outputs": [],
   "source": [],
   "metadata": {
    "collapsed": false,
    "ExecuteTime": {
     "end_time": "2024-02-05T22:36:26.056951700Z",
     "start_time": "2024-02-05T22:36:25.448255800Z"
    }
   },
   "id": "aada6009649a0998"
  },
  {
   "cell_type": "code",
   "execution_count": 282,
   "outputs": [],
   "source": [],
   "metadata": {
    "collapsed": false,
    "ExecuteTime": {
     "end_time": "2024-02-05T22:36:26.056951700Z",
     "start_time": "2024-02-05T22:36:25.462458700Z"
    }
   },
   "id": "26ae9d7e793e53e"
  },
  {
   "cell_type": "code",
   "execution_count": 282,
   "outputs": [],
   "source": [],
   "metadata": {
    "collapsed": false,
    "ExecuteTime": {
     "end_time": "2024-02-05T22:36:26.056951700Z",
     "start_time": "2024-02-05T22:36:25.476127500Z"
    }
   },
   "id": "5753d9277329087a"
  },
  {
   "cell_type": "code",
   "execution_count": 282,
   "outputs": [],
   "source": [],
   "metadata": {
    "collapsed": false,
    "ExecuteTime": {
     "end_time": "2024-02-05T22:36:26.063259800Z",
     "start_time": "2024-02-05T22:36:25.491626600Z"
    }
   },
   "id": "1d848e931853d4e2"
  },
  {
   "cell_type": "code",
   "execution_count": 282,
   "outputs": [],
   "source": [],
   "metadata": {
    "collapsed": false,
    "ExecuteTime": {
     "end_time": "2024-02-05T22:36:26.065731200Z",
     "start_time": "2024-02-05T22:36:25.503274400Z"
    }
   },
   "id": "2b842adf516c5e8c"
  },
  {
   "cell_type": "code",
   "execution_count": 282,
   "outputs": [],
   "source": [],
   "metadata": {
    "collapsed": false,
    "ExecuteTime": {
     "end_time": "2024-02-05T22:36:26.065731200Z",
     "start_time": "2024-02-05T22:36:25.522509900Z"
    }
   },
   "id": "6dd2c4855cf5ed47"
  },
  {
   "cell_type": "code",
   "execution_count": 282,
   "outputs": [],
   "source": [],
   "metadata": {
    "collapsed": false,
    "ExecuteTime": {
     "end_time": "2024-02-05T22:36:26.065731200Z",
     "start_time": "2024-02-05T22:36:25.542598Z"
    }
   },
   "id": "e1d4d9188a3f0707"
  }
 ],
 "metadata": {
  "kernelspec": {
   "display_name": "Python 3",
   "language": "python",
   "name": "python3"
  },
  "language_info": {
   "codemirror_mode": {
    "name": "ipython",
    "version": 2
   },
   "file_extension": ".py",
   "mimetype": "text/x-python",
   "name": "python",
   "nbconvert_exporter": "python",
   "pygments_lexer": "ipython2",
   "version": "2.7.6"
  }
 },
 "nbformat": 4,
 "nbformat_minor": 5
}
