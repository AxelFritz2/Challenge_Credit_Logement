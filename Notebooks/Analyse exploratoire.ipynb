{
 "cells": [
  {
   "cell_type": "markdown",
   "source": [
    "# Import packages"
   ],
   "metadata": {
    "collapsed": false
   },
   "id": "3f182a108e296008"
  },
  {
   "cell_type": "code",
   "execution_count": 1,
   "id": "initial_id",
   "metadata": {
    "collapsed": true,
    "ExecuteTime": {
     "end_time": "2023-12-10T10:18:49.887543700Z",
     "start_time": "2023-12-10T10:18:49.509683500Z"
    }
   },
   "outputs": [],
   "source": [
    "import pandas as pd\n",
    "import numpy as np\n",
    "import seaborn as sns\n",
    "import matplotlib.pyplot as plt\n",
    "import plotly.express as px"
   ]
  },
  {
   "cell_type": "markdown",
   "source": [
    "# Import data bases"
   ],
   "metadata": {
    "collapsed": false
   },
   "id": "8f0734e7cb76468c"
  },
  {
   "cell_type": "code",
   "execution_count": 12,
   "outputs": [],
   "source": [
    "df_pass = pd.read_csv('./data/base_modelis_pass_det.csv',sep = ';')"
   ],
   "metadata": {
    "collapsed": false,
    "ExecuteTime": {
     "end_time": "2023-12-10T10:21:57.566220600Z",
     "start_time": "2023-12-10T10:21:46.644355900Z"
    }
   },
   "id": "9b1ff56104a0a17f"
  },
  {
   "cell_type": "code",
   "execution_count": 18,
   "outputs": [
    {
     "data": {
      "text/plain": "(329064, 90)"
     },
     "execution_count": 18,
     "metadata": {},
     "output_type": "execute_result"
    }
   ],
   "source": [
    "df_pass.shape"
   ],
   "metadata": {
    "collapsed": false,
    "ExecuteTime": {
     "end_time": "2023-12-10T10:30:04.261769100Z",
     "start_time": "2023-12-10T10:30:04.198214400Z"
    }
   },
   "id": "1c1277e8268c72b8"
  },
  {
   "cell_type": "markdown",
   "source": [
    "# To do list\n",
    "\n",
    "Analyse exploratoire : distrib var quali/quanti, visualisation NaN, corrélations, doublons, outliers\n",
    "\n",
    "Analyse + profonde : que prédire, quelles vars sont pertinentes, diff entre les 2 df, liste questions à poser\n",
    "\n",
    "Axel : distrib quanti, correlations, outliers\n",
    "\n",
    "Baheux : distrib quali ,NaN , doublons"
   ],
   "metadata": {
    "collapsed": false
   },
   "id": "fea5febd70d924fb"
  },
  {
   "cell_type": "code",
   "execution_count": 24,
   "outputs": [
    {
     "data": {
      "text/plain": "cd_op                  0.00\ndate_entree_defaut     0.00\ndate_sortie_defaut    95.87\narrete                 0.00\nfl_pass_DET            0.00\n                      ...  \nPTG                    8.84\nAGE_EMP1               0.00\nAGE_EMP2              40.82\nTX_ENDET               6.06\nMT_REST_VIVRE          7.71\nLength: 90, dtype: float64"
     },
     "execution_count": 24,
     "metadata": {},
     "output_type": "execute_result"
    }
   ],
   "source": [
    "round(df_pass.isna().sum()/len(df_pass)*100,2)"
   ],
   "metadata": {
    "collapsed": false,
    "ExecuteTime": {
     "end_time": "2023-12-10T10:50:16.682841300Z",
     "start_time": "2023-12-10T10:50:16.472893Z"
    }
   },
   "id": "cd1f8a36ccbd10b"
  }
 ],
 "metadata": {
  "kernelspec": {
   "display_name": "Python 3",
   "language": "python",
   "name": "python3"
  },
  "language_info": {
   "codemirror_mode": {
    "name": "ipython",
    "version": 2
   },
   "file_extension": ".py",
   "mimetype": "text/x-python",
   "name": "python",
   "nbconvert_exporter": "python",
   "pygments_lexer": "ipython2",
   "version": "2.7.6"
  }
 },
 "nbformat": 4,
 "nbformat_minor": 5
}
