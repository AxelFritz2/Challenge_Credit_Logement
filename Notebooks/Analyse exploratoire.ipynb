{
 "cells": [
  {
   "cell_type": "markdown",
   "source": [
    "# Import packages"
   ],
   "metadata": {
    "collapsed": false
   },
   "id": "3f182a108e296008"
  },
  {
   "cell_type": "code",
   "execution_count": null,
   "id": "initial_id",
   "metadata": {
    "collapsed": true
   },
   "outputs": [],
   "source": [
    "import pandas as pd\n",
    "import numpy as np\n",
    "import seaborn as sns\n",
    "import matplotlib.pyplot as plt\n",
    "import plotly.express as px"
   ]
  },
  {
   "cell_type": "markdown",
   "source": [
    "# Import data bases"
   ],
   "metadata": {
    "collapsed": false
   },
   "id": "8f0734e7cb76468c"
  },
  {
   "cell_type": "code",
   "execution_count": null,
   "outputs": [],
   "source": [
    "df = pd.read_csv('../data/base_modelis_pass_det.csv',sep = ';')"
   ],
   "metadata": {
    "collapsed": false
   },
   "id": "9b1ff56104a0a17f"
  },
  {
   "cell_type": "code",
   "execution_count": null,
   "outputs": [],
   "source": [
    "df.shape"
   ],
   "metadata": {
    "collapsed": false
   },
   "id": "1c1277e8268c72b8"
  },
  {
   "cell_type": "markdown",
   "source": [
    "## analyse des types de var"
   ],
   "metadata": {
    "collapsed": false
   },
   "id": "49f7332ded250d33"
  },
  {
   "cell_type": "code",
   "execution_count": null,
   "outputs": [],
   "source": [
    "df.select_dtypes(include = 'object').shape[1]"
   ],
   "metadata": {
    "collapsed": false
   },
   "id": "f75d8b07c37891d2"
  },
  {
   "cell_type": "code",
   "execution_count": null,
   "outputs": [],
   "source": [
    "df.select_dtypes(include = 'float').shape[1]"
   ],
   "metadata": {
    "collapsed": false
   },
   "id": "d96c17bc1b09dbbe"
  },
  {
   "cell_type": "code",
   "execution_count": null,
   "outputs": [],
   "source": [
    "df.select_dtypes(include = 'int').shape[1]"
   ],
   "metadata": {
    "collapsed": false
   },
   "id": "a196fb359d8039c7"
  },
  {
   "cell_type": "markdown",
   "source": [
    "# Valeurs manquantes"
   ],
   "metadata": {
    "collapsed": false
   },
   "id": "f454f4ef158be5bb"
  },
  {
   "cell_type": "code",
   "execution_count": null,
   "outputs": [],
   "source": [
    "df_temp = df.drop_duplicates(subset = 'cd_op', keep = 'last')"
   ],
   "metadata": {
    "collapsed": false
   },
   "id": "4fad3ba9e697466c"
  },
  {
   "cell_type": "code",
   "execution_count": null,
   "outputs": [],
   "source": [
    "df_temp.shape"
   ],
   "metadata": {
    "collapsed": false
   },
   "id": "e17911df7ce5713"
  },
  {
   "cell_type": "code",
   "execution_count": null,
   "outputs": [],
   "source": [
    "df_temp.isna().sum()/df_temp.shape[0]>0.4"
   ],
   "metadata": {
    "collapsed": false
   },
   "id": "b8172c0719022c57"
  },
  {
   "cell_type": "markdown",
   "source": [
    "# To do list\n",
    "\n",
    "Analyse exploratoire : distrib var quali/quanti, visualisation NaN, corrélations, doublons, outliers\n",
    "\n",
    "Analyse + profonde : que prédire, quelles vars sont pertinentes, diff entre les 2 df, liste questions à poser\n",
    "\n",
    "Axel : distrib quanti, correlations, outliers\n",
    "\n",
    "Baheux : distrib quali ,NaN , doublons"
   ],
   "metadata": {
    "collapsed": false
   },
   "id": "fea5febd70d924fb"
  },
  {
   "cell_type": "markdown",
   "source": [
    "### Interrogations :\n",
    "Faut-il ne garder que la dernière ligne de chaque individu, correspondant à sa sortie de defaut ou bien à son DET pour faire un logit? Ou bien doit on garder toutes les observations au risque d'avoir trop peu de 0 et donc de moins bien classifier?\n",
    "\n",
    "Penser au problème de troncature/censure des données (faut il supprimer les individus dont le dossier est encore en cours?)"
   ],
   "metadata": {
    "collapsed": false
   },
   "id": "655239155d1a0e42"
  },
  {
   "cell_type": "markdown",
   "source": [
    "### Conversion des dates en datetime"
   ],
   "metadata": {
    "collapsed": false
   },
   "id": "e5899446a575af09"
  },
  {
   "cell_type": "code",
   "execution_count": null,
   "outputs": [],
   "source": [
    "df['date_entree_defaut'] = pd.to_datetime(df['date_entree_defaut'])\n",
    "\n",
    "df['date_sortie_defaut'] = pd.to_datetime(df['date_sortie_defaut'])\n",
    "\n",
    "df['arrete'] = pd.to_datetime(df['arrete'])\n",
    "\n",
    "df['dt_arr_last_enc_ope'] = pd.to_datetime(df['dt_arr_last_enc_ope'])\n",
    "df['dt_arr_1st_enc_ope'] = pd.to_datetime(df['dt_arr_1st_enc_ope'])\n",
    "\n",
    "df['DT_MEP_OPE'] = pd.to_datetime(df['DT_MEP_OPE'], format='%d%b%Y:%H:%M:%S.%f')\n",
    "\n",
    "\n",
    "df['dtHJD_prov'] = pd.to_datetime(df['dtHJD_prov'])\n",
    "df['dtHJD_def'] = pd.to_datetime(df['dtHJD_def'])\n",
    "\n",
    "df['date_sortie_defaut'] = pd.to_datetime(df['date_sortie_defaut'])"
   ],
   "metadata": {
    "collapsed": false
   },
   "id": "2594ac51163f6360"
  },
  {
   "cell_type": "markdown",
   "source": [
    "# Analyse préliminaire"
   ],
   "metadata": {
    "collapsed": false
   },
   "id": "ed57c14b9148debe"
  },
  {
   "cell_type": "code",
   "execution_count": null,
   "outputs": [],
   "source": [
    "df_obj = df.drop(columns = ['CD_NAT_EMP2','sol_echec']).select_dtypes(include='object').drop(columns = 'cd_op').copy()\n"
   ],
   "metadata": {
    "collapsed": false
   },
   "id": "e8541cffa6fd9f03"
  },
  {
   "cell_type": "code",
   "execution_count": null,
   "outputs": [],
   "source": [
    "for col in df_obj.columns:\n",
    "    print(f\"{col} : {df_obj[col].nunique()}\")"
   ],
   "metadata": {
    "collapsed": false
   },
   "id": "8f5736ecd0d7be2b"
  },
  {
   "cell_type": "code",
   "execution_count": null,
   "outputs": [],
   "source": [
    "df.drop_duplicates(subset = 'cd_op', keep = 'last')['fl_pass_DET'].value_counts()"
   ],
   "metadata": {
    "collapsed": false
   },
   "id": "7ae3e102ba1fd584"
  },
  {
   "cell_type": "code",
   "execution_count": null,
   "outputs": [],
   "source": [
    "df.head(50)"
   ],
   "metadata": {
    "collapsed": false
   },
   "id": "373df8a1cbfac58f"
  },
  {
   "cell_type": "markdown",
   "source": [
    "- On a 23 305 individus sur l'ensemble de la période\n",
    "- 7463 d'entre eux sont passés en DET\n",
    "- Le reste a remboursé le défaut\n"
   ],
   "metadata": {
    "collapsed": false
   },
   "id": "ed65473807432465"
  },
  {
   "cell_type": "markdown",
   "source": [
    "# Analyse var quali sur dataframe total"
   ],
   "metadata": {
    "collapsed": false
   },
   "id": "aed4eb7bee077083"
  },
  {
   "cell_type": "code",
   "execution_count": null,
   "outputs": [],
   "source": [
    "from plotly.subplots import make_subplots\n",
    "import plotly.graph_objects as go\n",
    "# Définir le nombre de graphiques par ligne\n",
    "graphs_per_row = 3\n",
    "\n",
    "# Calculer le nombre total de lignes nécessaires\n",
    "num_rows = -(-len(df_obj.columns) // graphs_per_row)  # Utilise la division entière vers le haut\n",
    "\n",
    "# Créer une grille de sous-graphiques\n",
    "fig = make_subplots(rows=num_rows, cols=graphs_per_row, subplot_titles=df_obj.columns)\n",
    "\n",
    "for i, col in enumerate(df_obj.columns):\n",
    "    category_counts = df_obj[col].value_counts().reset_index()\n",
    "    category_counts.columns = ['Catégorie', 'Fréquence']\n",
    "\n",
    "    # Création du diagramme à barres avec Plotly Express\n",
    "    bar_fig = px.bar(category_counts, x='Catégorie', y='Fréquence', title=col,\n",
    "                     labels={'Catégorie': 'Catégorie', 'Fréquence': 'Fréquence'})\n",
    "\n",
    "    # Ajout du graphique à la grille\n",
    "    row = i // graphs_per_row + 1\n",
    "    col = i % graphs_per_row + 1\n",
    "    fig.add_trace(bar_fig.data[0], row=row, col=col)\n",
    "\n",
    "# Mettre à jour la mise en page\n",
    "fig.update_layout(height=num_rows * 200, width=graphs_per_row * 400, title_text=\"Graphiques par colonne\")\n",
    "fig.show()\n"
   ],
   "metadata": {
    "collapsed": false
   },
   "id": "6004f416824e260f"
  },
  {
   "cell_type": "markdown",
   "source": [
    "# Distributions des var quanti"
   ],
   "metadata": {
    "collapsed": false
   },
   "id": "d080ddebe1c3dfb4"
  },
  {
   "cell_type": "code",
   "execution_count": null,
   "outputs": [],
   "source": [
    "from plotly.subplots import make_subplots\n",
    "\n",
    "# Définir le nombre de graphiques par ligne\n",
    "graphs_per_row = 3\n",
    "\n",
    "df_num = df.drop(columns = ['NB_RP_HOP', 'mt_inscrip_devant_CL_afr', 'valeur_bien_afr',\n",
    "'CD_CSP_EMP2', 'LTV_actu', 'NB_LO_HOP', \n",
    "'LTVnonactu_1an_avant_def', 'NB_RS_HOP',\n",
    "'dispo_HP_afr', 'CD_NAT_EMP2', 'dtHJD_prov',\n",
    "'dtHJD_def', 'dtSRT1st', 'AGE_EMP2', 'CD_SITFAM_EMP2'])\n",
    "float_columns = df_num.select_dtypes(include='float').columns\n",
    "\n",
    "num_cols = 3\n",
    "num_rows = (len(float_columns) + 1) // 2  # Ajoutez 1 pour gérer les cas impairs\n",
    "\n",
    "fig, axes = plt.subplots(num_rows, num_cols, figsize=(15, 4 * num_rows))\n",
    "\n",
    "fig.subplots_adjust(hspace=0.5)\n",
    "\n",
    "axes = axes.flatten()\n",
    "\n",
    "for i, col in enumerate(float_columns):\n",
    "    sns.kdeplot(x=df[col], ax=axes[i], fill=True)\n",
    "    axes[i].set_title(f'Kernel Plot de {col}')\n",
    "\n",
    "plt.show()"
   ],
   "metadata": {
    "collapsed": false
   },
   "id": "4b750678c90bec89"
  },
  {
   "cell_type": "markdown",
   "source": [
    "# Stabilité des catégories dans le tps par rapport à la target "
   ],
   "metadata": {
    "collapsed": false
   },
   "id": "3fc9c2b3ebf6aaaf"
  },
  {
   "cell_type": "code",
   "execution_count": null,
   "outputs": [],
   "source": [
    "cat_columns = ['CD_NAT_EMP1','CD_MTF_DFC']"
   ],
   "metadata": {
    "collapsed": false
   },
   "id": "7273656522bcba7f"
  },
  {
   "cell_type": "code",
   "execution_count": null,
   "outputs": [],
   "source": [
    "import matplotlib.pyplot as plt\n",
    "\n",
    "for col in df.select_dtypes(include = 'object').columns:\n",
    "    # Calcul de la moyenne par groupe (genre et date)\n",
    "    result = df.groupby([col, 'arrete'])['fl_pass_DET'].mean().reset_index()\n",
    "    \n",
    "    # Tracé des données\n",
    "    fig, ax = plt.subplots(figsize=(10, 6))\n",
    "    \n",
    "    for genre, group in result.groupby(f'{col}'):\n",
    "        ax.plot(group['arrete'], group['fl_pass_DET'], label=f'{genre}')\n",
    "    \n",
    "    # Ajout de légendes et labels\n",
    "    ax.legend()\n",
    "    ax.set_xlabel('Date')\n",
    "    ax.set_ylabel('Moyenne de la target binaire')\n",
    "    ax.set_title(f'Évolution de la moyenne de la target par modalité de {col} dans le temps')\n",
    "    \n",
    "    # Affichage du graphique\n",
    "    plt.show()\n"
   ],
   "metadata": {
    "collapsed": false
   },
   "id": "fb38c876dd1bd8da"
  },
  {
   "cell_type": "markdown",
   "source": [
    "### Dates"
   ],
   "metadata": {
    "collapsed": false
   },
   "id": "87075f9ff639fd46"
  },
  {
   "cell_type": "code",
   "execution_count": null,
   "outputs": [],
   "source": [
    "df.select_dtypes(include='datetime').columns"
   ],
   "metadata": {
    "collapsed": false
   },
   "id": "2a3e435b53010a67"
  },
  {
   "cell_type": "code",
   "execution_count": null,
   "outputs": [],
   "source": [
    "for col in df.select_dtypes(include = 'datetime').columns:\n",
    "    fig = px.histogram(df[col], title=col,\n",
    "                 labels={'Catégorie': 'Catégorie', 'Fréquence': 'Fréquence'})\n",
    "\n",
    "    # Affichage du diagramme\n",
    "    fig.show()"
   ],
   "metadata": {
    "collapsed": false
   },
   "id": "9bc3ba43938069ff"
  },
  {
   "cell_type": "markdown",
   "source": [
    "# Analyse dépendances temporelles"
   ],
   "metadata": {
    "collapsed": false,
    "ExecuteTime": {
     "end_time": "2024-01-29T12:26:19.492405600Z",
     "start_time": "2024-01-29T12:26:17.550753Z"
    }
   },
   "id": "f33428fb252f78b4"
  },
  {
   "cell_type": "code",
   "execution_count": null,
   "outputs": [],
   "source": [
    "var_to_categorize = [\n",
    "    \"fl_pass_DET\",\n",
    "    \"CD_POST_BIEN_PFI\",\n",
    "    \"FL_REL_NON_ANNULE\",\n",
    "    \"FL_ETR\",\n",
    "    \"CD_ETAT_CIVIL\",\n",
    "    \"CD_DNE_CHR_LGD_SAIN\",\n",
    "    \"fl_prise_de_gar\",\n",
    "    \"fl_fam_vam\",\n",
    "    \"fam_ETH\",\n",
    "    \"fam_ENQ\",\n",
    "    \"fam_exp\",\n",
    "    \"fam_hyp\",\n",
    "    \"fam_sim\",\n",
    "    \"fam_AEP\",\n",
    "    \"dat_dec_echec\",\n",
    "    \"solution\",\n",
    "    \"fam_PCD\",\n",
    "    \"CD_MTF_ENE_CTX\",\n",
    "    \"niv_gravite_mtf_dne\",\n",
    "    \"niv_gravite_mtf_dfs\",\n",
    "    \"no_pass_def\",\n",
    "    \"fl_def_ss_pass_CTX\",\n",
    "    \"fl_prt_Conso\",\n",
    "    \"fl_fonc\",\n",
    "    \"AMI\",\n",
    "    \"EXE\",\n",
    "    \"PTG\"\n",
    "]\n",
    "\n",
    "for var in var_to_categorize : \n",
    "    df[var] = df[var].astype(\"object\")"
   ],
   "metadata": {
    "collapsed": false
   },
   "id": "a51ec3cd83ed776b"
  },
  {
   "cell_type": "code",
   "execution_count": null,
   "outputs": [],
   "source": [
    "liste= []\n",
    "for col in df.select_dtypes(include = 'number').columns:\n",
    "    if df[col].nunique()>20:\n",
    "        liste.append(col)"
   ],
   "metadata": {
    "collapsed": false
   },
   "id": "6706b8c6d50c843b"
  },
  {
   "cell_type": "code",
   "execution_count": null,
   "outputs": [],
   "source": [
    "import matplotlib.pyplot as plt\n",
    "\n",
    "grouped_df = df.iloc[:100,:].groupby('cd_op')\n",
    "\n",
    "for cd_op, group in grouped_df:\n",
    "    \n",
    "    plt.figure()\n",
    "    \n",
    "    for col in group[liste].columns:\n",
    "        plt.plot(group['arrete'], group[col], label=col)\n",
    "    \n",
    "    plt.xlabel('arrete')\n",
    "    plt.ylabel('Valeur')\n",
    "    plt.title(f'Evolution des variables pour cd_op={cd_op}')\n",
    "    plt.legend('off')\n",
    "    \n",
    "    plt.show()"
   ],
   "metadata": {
    "collapsed": false
   },
   "id": "d8d5f6b419936cf7"
  },
  {
   "cell_type": "code",
   "execution_count": null,
   "outputs": [],
   "source": [],
   "metadata": {
    "collapsed": false
   },
   "id": "3f5b511f8bf1374d"
  }
 ],
 "metadata": {
  "kernelspec": {
   "display_name": "Python 3",
   "language": "python",
   "name": "python3"
  },
  "language_info": {
   "codemirror_mode": {
    "name": "ipython",
    "version": 2
   },
   "file_extension": ".py",
   "mimetype": "text/x-python",
   "name": "python",
   "nbconvert_exporter": "python",
   "pygments_lexer": "ipython2",
   "version": "2.7.6"
  }
 },
 "nbformat": 4,
 "nbformat_minor": 5
}
