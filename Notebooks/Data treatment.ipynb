{
 "cells": [
  {
   "cell_type": "code",
   "execution_count": 1501,
   "id": "initial_id",
   "metadata": {
    "collapsed": true,
    "ExecuteTime": {
     "end_time": "2024-02-05T22:48:10.775688900Z",
     "start_time": "2024-02-05T22:48:09.646267900Z"
    }
   },
   "outputs": [],
   "source": [
    "import pandas as pd\n",
    "import numpy as np"
   ]
  },
  {
   "cell_type": "code",
   "execution_count": 1502,
   "outputs": [],
   "source": [
    "# Import dataset\n",
    "df = pd.read_csv('../data/base_modelis_pass_det.csv',sep = ';')\n",
    "\n",
    "liste_var = [#'mt_dec_cum_IMP_tot','EAD_1an_avant_def','cum_frs_externes','fl_prise_de_gar', 'cum_rec', 'fam_ETH', 'CD_DNE_CHR_LGD_SAIN','CD_MTF_ENE_CTX',\n",
    "             # anciennes variables ->\n",
    "             'CD_NATUR_OP_PFI', 'CD_SITFAM_EMP1', 'sol_echec', 'CD_MTF_DFC', 'regroup_natur_op', 'fam_PCD', 'fl_prise_de_gar', 'mt_dec_cum_IMP_tot', 'dat_dec_echec', 'fam_ENQ',\n",
    " 'niv_gravite_mtf_dne', 'fl_fam_vam', 'fl_pass_DET', 'arrete', 'cd_op']\n",
    "\n",
    "\n",
    "\n",
    "liste_var = ['AMI', 'regroup_natur_op' , 'fl_fonc', 'fl_prt_Conso', 'nb_empr_ope' , 'niv_gravite_mtf_dfs', 'CD_MTF_DFC', 'sol_echec', 'fam_PCD', 'solution', 'dat_dec_echec', 'NB_RP_HOP', 'CD_DNE_CHR_LGD_SAIN', 'CD_SITFAM_EMP1', 'CD_CSP_EMP1', 'CD_ETAT_CIVIL', 'CD_NATUR_OP_PFI', 'MT_CHA_CSM_REV', 'MT_CHA_IMP', 'MT_CHA_PIP', 'MT_CHA_PIV', 'mt_rev_dispo', 'MT_CHG_MSL', 'MT_REST_VIVRE', 'ANC_BANC_MAX_PFI', 'TX_ENDET', 'CD_MTF_ENE_CTX', 'MT_PATRIM_NET', 'ANC_PRO_MAX_PFI', 'MT_CHA_HORS_OPE_PFI', 'NB_CHARGE_HORS_OPE_PFI', 'max_age_ctx', 'EAD_1an_avant_def', 'MT_REV_PFI', 'TX_APPOR', 'cum_frs_externes', 'MT_PATRIM_MOB', 'AGE_EMP1', 'dls_ges_def', 'NB_DUR_PFI', 'mt_dec_cum_IMP_tot', 'MT_FMG', 'MT_EAD_RESID', 'cum_dec', 'nb_bienHOP', 'dls_mep_entree_def', 'CD_POST_BIEN_PFI', 'cum_rec', 'MT_EAD_DNE_CHR_d', 'MR_arr', 'NB_LO_HOP','fl_pass_DET', 'arrete', 'cd_op','date_entree_defaut'\n",
    "             , 'NB_DUR_PFI',\n",
    "'CD_NATUR_OP_PFI',\n",
    "'regroup_natur_op',\n",
    "'DT_MEP_OPE',\n",
    "'nb_prt',\n",
    "'FL_REL_NON_ANNULE'\n",
    "]\n",
    "\n",
    "liste_var = list(set(liste_var))\n",
    "# Variables selctionnées\n",
    "df = df[liste_var]#'CD_NAT_EMP1', 'CD_NAT_EMP2','CD_CSP_EMP2' trop de NaN pour ces var ,'CD_DEST_PFI',  'CD_CSP_EMP1'\n"
   ],
   "metadata": {
    "collapsed": false,
    "ExecuteTime": {
     "end_time": "2024-02-05T22:48:13.905999Z",
     "start_time": "2024-02-05T22:48:09.700692300Z"
    }
   },
   "id": "d82dc6b4dd60b3f1"
  },
  {
   "cell_type": "markdown",
   "source": [
    "'MT_CHA_PIP', 'FL_ETR', 'cum_frs_externes', 'MT_EAD_RESID',\n",
    "       'fl_prise_de_gar', 'fam_ETH', 'fam_ENQ', 'fam_hyp', 'dat_dec_echec',\n",
    "       'solution', 'fam_PCD', 'dtSRT1st', 'CD_MTF_ENE_CTX',\n",
    "       'niv_gravite_mtf_dne', 'niv_gravite_mtf_dfs', 'dls_mep_entree_def',\n",
    "       'nb_bienHOP', 'ANC_PRO_MAX_PFI', 'nb_empr_ope', 'fl_def_ss_pass_CTX',\n",
    "       'mt_dec_cum_IMP_tot', 'AMI', 'PTG', 'AGE_EMP2',"
   ],
   "metadata": {
    "collapsed": false
   },
   "id": "9344a2238af8f0d8"
  },
  {
   "cell_type": "markdown",
   "source": [
    "# DataTreatment"
   ],
   "metadata": {
    "collapsed": false
   },
   "id": "7f142ae84004c47e"
  },
  {
   "cell_type": "code",
   "execution_count": 1503,
   "outputs": [],
   "source": [
    "filtre = (df.select_dtypes(include = 'number').nunique()<10)\n",
    "for col in df.select_dtypes(include = 'number').loc[:,filtre].columns:\n",
    "    df[col] = df[col].astype('object')"
   ],
   "metadata": {
    "collapsed": false,
    "ExecuteTime": {
     "end_time": "2024-02-05T22:48:14.525224600Z",
     "start_time": "2024-02-05T22:48:13.892329100Z"
    }
   },
   "id": "aa7cace37d6e2bb1"
  },
  {
   "cell_type": "code",
   "execution_count": 1504,
   "outputs": [
    {
     "name": "stderr",
     "output_type": "stream",
     "text": [
      "C:\\Users\\baheu\\AppData\\Local\\Temp\\ipykernel_11088\\3940570831.py:1: UserWarning: Could not infer format, so each element will be parsed individually, falling back to `dateutil`. To ensure parsing is consistent and as-expected, please specify a format.\n",
      "  df['arrete'] = pd.to_datetime(df['arrete'])\n",
      "C:\\Users\\baheu\\AppData\\Local\\Temp\\ipykernel_11088\\3940570831.py:3: UserWarning: Could not infer format, so each element will be parsed individually, falling back to `dateutil`. To ensure parsing is consistent and as-expected, please specify a format.\n",
      "  df['date_entree_defaut'] = pd.to_datetime(df['date_entree_defaut'])\n"
     ]
    }
   ],
   "source": [
    "df['arrete'] = pd.to_datetime(df['arrete'])\n",
    "\n",
    "df['date_entree_defaut'] = pd.to_datetime(df['date_entree_defaut'])\n",
    "\n",
    "df['DT_MEP_OPE'] = pd.to_datetime(df['DT_MEP_OPE'], format='%d%b%Y:%H:%M:%S.%f')\n"
   ],
   "metadata": {
    "collapsed": false,
    "ExecuteTime": {
     "end_time": "2024-02-05T22:48:14.916402300Z",
     "start_time": "2024-02-05T22:48:14.529214300Z"
    }
   },
   "id": "d94f59cb4cc1e2a"
  },
  {
   "cell_type": "code",
   "execution_count": 1505,
   "outputs": [],
   "source": [
    "df['DT_MEP_OPE'] = df['arrete'] - df['DT_MEP_OPE'] # pour avoir l'info de la recence du pret\n",
    "df['DT_MEP_OPE'] = df['DT_MEP_OPE'].dt.days"
   ],
   "metadata": {
    "collapsed": false,
    "ExecuteTime": {
     "end_time": "2024-02-05T22:48:14.916402300Z",
     "start_time": "2024-02-05T22:48:14.888522900Z"
    }
   },
   "id": "1afd26b2cebdbaca"
  },
  {
   "cell_type": "code",
   "execution_count": 1506,
   "outputs": [],
   "source": [
    "liste_det = df[df['fl_pass_DET'] == 1]['cd_op']\n",
    "\n",
    "# on applique le det ou non à toutes les lignes des indiv pour ne garder que la première ligne par individu et garder l'info du passage en DET ou non\n",
    "\n",
    "df['DET'] = np.where(df['cd_op'].isin(liste_det), 1, 0)"
   ],
   "metadata": {
    "collapsed": false,
    "ExecuteTime": {
     "end_time": "2024-02-05T22:48:15.012573800Z",
     "start_time": "2024-02-05T22:48:14.900356400Z"
    }
   },
   "id": "918ef75caa45756d"
  },
  {
   "cell_type": "markdown",
   "source": [
    "Ensuite on va supprimer les individus qui n'ont qu'une ligne dans le dataframe car ce sont des anomalies."
   ],
   "metadata": {
    "collapsed": false
   },
   "id": "5cfb76ed9fd66e81"
  },
  {
   "cell_type": "code",
   "execution_count": 1507,
   "outputs": [],
   "source": [
    "anomalie = (df['cd_op'].value_counts() ==1)\n",
    "anomalie = pd.DataFrame(anomalie)\n",
    "liste_anomalie = anomalie[anomalie['count']==True].index"
   ],
   "metadata": {
    "collapsed": false,
    "ExecuteTime": {
     "end_time": "2024-02-05T22:48:15.084961700Z",
     "start_time": "2024-02-05T22:48:15.004574100Z"
    }
   },
   "id": "868a66ba1c1da56a"
  },
  {
   "cell_type": "code",
   "execution_count": 1508,
   "outputs": [],
   "source": [
    "df['anomalie'] = np.where(df['cd_op'].isin(liste_anomalie), 1, 0)"
   ],
   "metadata": {
    "collapsed": false,
    "ExecuteTime": {
     "end_time": "2024-02-05T22:48:15.117107300Z",
     "start_time": "2024-02-05T22:48:15.068573800Z"
    }
   },
   "id": "7cf959384d62b702"
  },
  {
   "cell_type": "code",
   "execution_count": 1509,
   "outputs": [],
   "source": [
    "df = df[df['anomalie'] == 0]"
   ],
   "metadata": {
    "collapsed": false,
    "ExecuteTime": {
     "end_time": "2024-02-05T22:48:15.342189500Z",
     "start_time": "2024-02-05T22:48:15.101009100Z"
    }
   },
   "id": "a0c8240852529c02"
  },
  {
   "cell_type": "code",
   "execution_count": 1510,
   "outputs": [],
   "source": [
    "df.drop(columns = ['fl_pass_DET','anomalie'], inplace = True)"
   ],
   "metadata": {
    "collapsed": false,
    "ExecuteTime": {
     "end_time": "2024-02-05T22:48:15.545044600Z",
     "start_time": "2024-02-05T22:48:15.352947Z"
    }
   },
   "id": "f29776eb82c391e3"
  },
  {
   "cell_type": "code",
   "execution_count": 1511,
   "outputs": [],
   "source": [
    "df_ph = df.drop_duplicates(subset = 'cd_op' , keep = 'last')\n",
    "df = df.drop_duplicates(subset = 'cd_op' , keep = 'first')"
   ],
   "metadata": {
    "collapsed": false,
    "ExecuteTime": {
     "end_time": "2024-02-05T22:48:15.720266500Z",
     "start_time": "2024-02-05T22:48:15.553044700Z"
    }
   },
   "id": "58c6815dd10c3f06"
  },
  {
   "cell_type": "markdown",
   "source": [
    "# Correction des dates pour ne plus avoir de durées négatives"
   ],
   "metadata": {
    "collapsed": false
   },
   "id": "bea5774fe7942b44"
  },
  {
   "cell_type": "code",
   "execution_count": 1512,
   "outputs": [],
   "source": [
    "df_ph['date_entree_defaut'] = np.where((df_ph['arrete'] - df_ph['date_entree_defaut']).dt.days < 0,\n",
    "                                       df_ph['date_entree_defaut'] - pd.DateOffset(years=1),\n",
    "                                       df_ph['date_entree_defaut'])"
   ],
   "metadata": {
    "collapsed": false,
    "ExecuteTime": {
     "end_time": "2024-02-05T22:48:15.773978300Z",
     "start_time": "2024-02-05T22:48:15.725286100Z"
    }
   },
   "id": "7e48e62de58fed1c"
  },
  {
   "cell_type": "markdown",
   "source": [
    "# NaNs"
   ],
   "metadata": {
    "collapsed": false
   },
   "id": "c593813ebdd7a8d4"
  },
  {
   "cell_type": "code",
   "execution_count": 1513,
   "outputs": [
    {
     "data": {
      "text/plain": "MT_CHG_MSL                 3562\nMT_PATRIM_NET               280\nEAD_1an_avant_def             2\nTX_APPOR                      1\ndat_dec_echec                 0\nANC_PRO_MAX_PFI             241\narrete                        0\nMT_EAD_RESID                  0\nFL_REL_NON_ANNULE             0\nnb_bienHOP                    0\ncum_frs_externes              0\ndls_mep_entree_def            0\nNB_LO_HOP                 11363\nCD_MTF_DFC                  801\nMT_CHA_CSM_REV             6422\nCD_DNE_CHR_LGD_SAIN           2\nMT_EAD_DNE_CHR_d              0\nmt_rev_dispo               3562\nMT_REST_VIVRE              1899\nMR_arr                        0\nNB_DUR_PFI                    0\nfl_fonc                       0\nCD_SITFAM_EMP1                0\nAMI                        4580\nsolution                      0\nAGE_EMP1                      0\ndate_entree_defaut            0\nNB_CHARGE_HORS_OPE_PFI      155\ncum_dec                       0\nMT_CHA_IMP                 6422\nmax_age_ctx                   4\nMT_CHA_PIV                 6422\nMT_CHA_PIP                 6422\nTX_ENDET                   1504\ncum_rec                       0\nnb_empr_ope                   0\nMT_PATRIM_MOB                 0\nfam_PCD                       0\nsol_echec                     0\nCD_MTF_ENE_CTX              801\nNB_RP_HOP                 11363\ndls_ges_def                   0\nnb_prt                        0\nmt_dec_cum_IMP_tot            0\nfl_prt_Conso                  0\nregroup_natur_op              0\nCD_CSP_EMP1                   0\nniv_gravite_mtf_dfs         801\nDT_MEP_OPE                    0\nMT_FMG                        0\nCD_ETAT_CIVIL                 0\ncd_op                         0\nCD_POST_BIEN_PFI              0\nMT_CHA_HORS_OPE_PFI         155\nCD_NATUR_OP_PFI               0\nANC_BANC_MAX_PFI           1797\nMT_REV_PFI                    1\nDET                           0\ndtype: int64"
     },
     "execution_count": 1513,
     "metadata": {},
     "output_type": "execute_result"
    }
   ],
   "source": [
    "df.isna().sum()"
   ],
   "metadata": {
    "collapsed": false,
    "ExecuteTime": {
     "end_time": "2024-02-05T22:48:15.806256Z",
     "start_time": "2024-02-05T22:48:15.750822900Z"
    }
   },
   "id": "3c324aa0b5c14747"
  },
  {
   "cell_type": "code",
   "execution_count": 1514,
   "outputs": [],
   "source": [
    "for col in df.select_dtypes(include = 'number').columns:\n",
    "    valeur = df[col].median()\n",
    "    df[col].fillna(valeur, inplace=True)\n",
    "    \n",
    "    \n",
    "for col in df.select_dtypes(include = 'object').columns:\n",
    "    valeur = df[col].mode()\n",
    "    df[col].fillna(valeur.iloc[0], inplace=True)"
   ],
   "metadata": {
    "collapsed": false,
    "ExecuteTime": {
     "end_time": "2024-02-05T22:48:16.024234200Z",
     "start_time": "2024-02-05T22:48:15.806256Z"
    }
   },
   "id": "63c19dcce9e13039"
  },
  {
   "cell_type": "code",
   "execution_count": 1515,
   "outputs": [],
   "source": [
    "for col in df_ph.select_dtypes(include = 'number').columns:\n",
    "    valeur = df_ph[col].median()\n",
    "    df_ph[col].fillna(valeur, inplace=True)\n",
    "    \n",
    "    \n",
    "for col in df_ph.select_dtypes(include = 'object').columns:\n",
    "    valeur = df_ph[col].mode()\n",
    "    df_ph[col].fillna(valeur.iloc[0], inplace=True)"
   ],
   "metadata": {
    "collapsed": false,
    "ExecuteTime": {
     "end_time": "2024-02-05T22:48:16.246262800Z",
     "start_time": "2024-02-05T22:48:16.036063400Z"
    }
   },
   "id": "74fb87b50084178e"
  },
  {
   "cell_type": "markdown",
   "source": [
    "# Regroupement de categories "
   ],
   "metadata": {
    "collapsed": false
   },
   "id": "1526027abe9d4872"
  },
  {
   "cell_type": "markdown",
   "source": [
    "### Motif"
   ],
   "metadata": {
    "collapsed": false
   },
   "id": "ca40e2cd3d0c214d"
  },
  {
   "cell_type": "code",
   "execution_count": 1516,
   "outputs": [],
   "source": [
    "motif_tres_mauvais = ['ESC' , 'REL', 'ORG', 'PPE', 'DEC', 'SIN']\n",
    "motif_mauvais = ['MOR', 'CHO', 'DIV', 'SUR', 'RIS', 'SEP', 'SAN', 'CON', 'DI1' ]  \n",
    "motif_moyen = ['BDF', 'AUT', 'PCL', 'PCT', 'YYY']\n",
    "\n",
    "df['Motif'] = np.select(\n",
    "    [\n",
    "        df['CD_MTF_DFC'].isin(motif_tres_mauvais),\n",
    "        df['CD_MTF_DFC'].isin(motif_mauvais),\n",
    "        df['CD_MTF_DFC'].isin(motif_moyen)\n",
    "    ],\n",
    "    ['Motif tres mauvais', 'Motif mauvais', 'Motif moyen'],\n",
    "    default='Motif moyen')\n",
    "df.drop(columns ='CD_MTF_DFC', inplace = True)"
   ],
   "metadata": {
    "collapsed": false,
    "ExecuteTime": {
     "end_time": "2024-02-05T22:48:16.312853500Z",
     "start_time": "2024-02-05T22:48:16.256717500Z"
    }
   },
   "id": "e3380308db51e85b"
  },
  {
   "cell_type": "code",
   "execution_count": 1517,
   "outputs": [],
   "source": [
    "motif_tres_mauvais = ['ESC' , 'REL', 'ORG', 'PPE', 'DEC', 'SIN']\n",
    "motif_mauvais = ['MOR', 'CHO', 'DIV', 'SUR', 'RIS', 'SEP', 'SAN', 'CON', 'DI1' ]  \n",
    "motif_moyen = ['BDF', 'AUT', 'PCL', 'PCT', 'YYY']\n",
    "\n",
    "df_ph['Motif'] = np.select(\n",
    "    [\n",
    "        df_ph['CD_MTF_DFC'].isin(motif_tres_mauvais),\n",
    "        df_ph['CD_MTF_DFC'].isin(motif_mauvais),\n",
    "        df_ph['CD_MTF_DFC'].isin(motif_moyen)\n",
    "    ],\n",
    "    ['Motif tres mauvais', 'Motif mauvais', 'Motif moyen'],\n",
    "    default='Motif moyen')\n",
    "df_ph.drop(columns ='CD_MTF_DFC', inplace = True)"
   ],
   "metadata": {
    "collapsed": false,
    "ExecuteTime": {
     "end_time": "2024-02-05T22:48:16.389803100Z",
     "start_time": "2024-02-05T22:48:16.316981900Z"
    }
   },
   "id": "f78b9e4714959cd0"
  },
  {
   "cell_type": "markdown",
   "source": [
    "# Nb emprunteurs"
   ],
   "metadata": {
    "collapsed": false
   },
   "id": "15cfadfb2bd14b2e"
  },
  {
   "cell_type": "code",
   "execution_count": 1518,
   "outputs": [],
   "source": [
    "precaire = [1]\n",
    "# Ajouter une colonne 'Groupe' au DataFrame en fonction des catégories\n",
    "df['nb_empr_ope'] = np.where(df['nb_empr_ope'].isin(precaire), 'Un emprunteur', 'Plus d\\'un emprunteur')\n",
    "\n",
    "\n",
    "precaire = [1]\n",
    "# Ajouter une colonne 'Groupe' au DataFrame en fonction des catégories\n",
    "df_ph['nb_empr_ope'] = np.where(df_ph['nb_empr_ope'].isin(precaire), 'Un emprunteur', 'Plus d\\'un emprunteur')"
   ],
   "metadata": {
    "collapsed": false,
    "ExecuteTime": {
     "end_time": "2024-02-05T22:48:16.421803200Z",
     "start_time": "2024-02-05T22:48:16.357322600Z"
    }
   },
   "id": "78b5a3f8f421e790"
  },
  {
   "cell_type": "markdown",
   "source": [
    "# Gravite"
   ],
   "metadata": {
    "collapsed": false
   },
   "id": "5224bf6093b6d5b5"
  },
  {
   "cell_type": "code",
   "execution_count": 1519,
   "outputs": [],
   "source": [
    "precaire = [2.0,3.0]\n",
    "df['niv_gravite_mtf_dfs'] = np.where(df['niv_gravite_mtf_dfs'].isin(precaire), 'Grave', 'Pas grave')"
   ],
   "metadata": {
    "collapsed": false,
    "ExecuteTime": {
     "end_time": "2024-02-05T22:48:16.421803200Z",
     "start_time": "2024-02-05T22:48:16.389803100Z"
    }
   },
   "id": "6248866d09a8cce"
  },
  {
   "cell_type": "code",
   "execution_count": 1520,
   "outputs": [],
   "source": [
    "precaire = [2.0,3.0]\n",
    "df_ph['niv_gravite_mtf_dfs'] = np.where(df_ph['niv_gravite_mtf_dfs'].isin(precaire), 'Grave', 'Pas grave')"
   ],
   "metadata": {
    "collapsed": false,
    "ExecuteTime": {
     "end_time": "2024-02-05T22:48:16.552112500Z",
     "start_time": "2024-02-05T22:48:16.413802500Z"
    }
   },
   "id": "faef34c9fc7b2a1f"
  },
  {
   "cell_type": "markdown",
   "source": [
    "### CD_SITFAM_EMP1"
   ],
   "metadata": {
    "collapsed": false
   },
   "id": "30bd4e47ac197133"
  },
  {
   "cell_type": "code",
   "execution_count": 1521,
   "outputs": [],
   "source": [
    "precaire = ['I','D','C'] \n",
    "\n",
    "df['Situation_fam'] = np.where(df['CD_SITFAM_EMP1'].isin(precaire), 'Mauvaise situation', 'Bonne situation')\n",
    "\n",
    "df.drop(columns ='CD_SITFAM_EMP1', inplace = True)"
   ],
   "metadata": {
    "collapsed": false,
    "ExecuteTime": {
     "end_time": "2024-02-05T22:48:16.552112500Z",
     "start_time": "2024-02-05T22:48:16.445802100Z"
    }
   },
   "id": "e749e2debe7671a6"
  },
  {
   "cell_type": "code",
   "execution_count": 1522,
   "outputs": [],
   "source": [
    "precaire = ['I','D','C'] \n",
    "\n",
    "df_ph['Situation_fam'] = np.where(df_ph['CD_SITFAM_EMP1'].isin(precaire), 'Mauvaise situation', 'Bonne situation')\n",
    "\n",
    "df_ph.drop(columns ='CD_SITFAM_EMP1', inplace = True)"
   ],
   "metadata": {
    "collapsed": false,
    "ExecuteTime": {
     "end_time": "2024-02-05T22:48:16.583133200Z",
     "start_time": "2024-02-05T22:48:16.494516300Z"
    }
   },
   "id": "f1ac2a1b598b33b9"
  },
  {
   "cell_type": "markdown",
   "source": [
    "### CD_NATUR_OP_PFI"
   ],
   "metadata": {
    "collapsed": false
   },
   "id": "b64cce5381bc6da1"
  },
  {
   "cell_type": "code",
   "execution_count": 1523,
   "outputs": [],
   "source": [
    "precaire = ['ACR', 'ARA', 'SCP', 'ATR', 'COR', 'AQN', 'AQA']\n",
    "\n",
    "df['Nature'] = np.where(df['CD_NATUR_OP_PFI'].isin(precaire), 'Mauvaise nature', 'Bonne nature')\n",
    "\n",
    "df.drop(columns ='CD_NATUR_OP_PFI', inplace = True)"
   ],
   "metadata": {
    "collapsed": false,
    "ExecuteTime": {
     "end_time": "2024-02-05T22:48:16.708448600Z",
     "start_time": "2024-02-05T22:48:16.559388100Z"
    }
   },
   "id": "41500329ae5028e2"
  },
  {
   "cell_type": "code",
   "execution_count": 1524,
   "outputs": [],
   "source": [
    "precaire = ['ACR', 'ARA', 'SCP', 'ATR', 'COR', 'AQN', 'AQA']\n",
    "\n",
    "df_ph['Nature'] = np.where(df_ph['CD_NATUR_OP_PFI'].isin(precaire), 'Mauvaise nature', 'Bonne nature')\n",
    "\n",
    "df_ph.drop(columns ='CD_NATUR_OP_PFI', inplace = True)"
   ],
   "metadata": {
    "collapsed": false,
    "ExecuteTime": {
     "end_time": "2024-02-05T22:48:16.712464100Z",
     "start_time": "2024-02-05T22:48:16.607597800Z"
    }
   },
   "id": "4c6e0421545a8aed"
  },
  {
   "cell_type": "markdown",
   "source": [
    "## Sol_echec"
   ],
   "metadata": {
    "collapsed": false
   },
   "id": "18f969535c5e7013"
  },
  {
   "cell_type": "code",
   "execution_count": 1525,
   "outputs": [],
   "source": [
    "precaire = ['0_1', '1_1']\n",
    "# Ajouter une colonne 'Groupe' au DataFrame en fonction des catégories\n",
    "df['Solution_echec'] = np.where(df['sol_echec'].isin(precaire), 'Mauvaise solution', 'Bonne solution')\n",
    "\n",
    "df.drop(columns ='sol_echec', inplace = True)"
   ],
   "metadata": {
    "collapsed": false,
    "ExecuteTime": {
     "end_time": "2024-02-05T22:48:16.712464100Z",
     "start_time": "2024-02-05T22:48:16.650338Z"
    }
   },
   "id": "b8c04951cf5a4b57"
  },
  {
   "cell_type": "code",
   "execution_count": 1526,
   "outputs": [],
   "source": [
    "precaire = ['0_1', '1_1']\n",
    "# Ajouter une colonne 'Groupe' au DataFrame en fonction des catégories\n",
    "df_ph['Solution_echec'] = np.where(df_ph['sol_echec'].isin(precaire), 'Mauvaise solution', 'Bonne solution')\n",
    "\n",
    "df_ph.drop(columns ='sol_echec', inplace = True)"
   ],
   "metadata": {
    "collapsed": false,
    "ExecuteTime": {
     "end_time": "2024-02-05T22:48:16.817653800Z",
     "start_time": "2024-02-05T22:48:16.696497900Z"
    }
   },
   "id": "424c14ac1bd20b0e"
  },
  {
   "cell_type": "markdown",
   "source": [
    "## Nature operation"
   ],
   "metadata": {
    "collapsed": false
   },
   "id": "b1a78a2d60bcf6d5"
  },
  {
   "cell_type": "code",
   "execution_count": 1527,
   "outputs": [],
   "source": [
    "precaire = ['4_autre']\n",
    "\n",
    "df['Nature_op'] = np.where(df['regroup_natur_op'].isin(precaire), 'Mauvaise nature', 'Bonne nature')\n",
    "\n",
    "df.drop(columns ='regroup_natur_op', inplace = True)"
   ],
   "metadata": {
    "collapsed": false,
    "ExecuteTime": {
     "end_time": "2024-02-05T22:48:16.817653800Z",
     "start_time": "2024-02-05T22:48:16.746462500Z"
    }
   },
   "id": "854a52f5ef88ac49"
  },
  {
   "cell_type": "code",
   "execution_count": 1528,
   "outputs": [],
   "source": [
    "precaire = ['4_autre']\n",
    "\n",
    "df_ph['Nature_op'] = np.where(df_ph['regroup_natur_op'].isin(precaire), 'Mauvaise nature', 'Bonne nature')\n",
    "\n",
    "df_ph.drop(columns ='regroup_natur_op', inplace = True)"
   ],
   "metadata": {
    "collapsed": false,
    "ExecuteTime": {
     "end_time": "2024-02-05T22:48:16.914529100Z",
     "start_time": "2024-02-05T22:48:16.793340900Z"
    }
   },
   "id": "4f5ea1b648a41a26"
  },
  {
   "cell_type": "markdown",
   "source": [
    "# MTF"
   ],
   "metadata": {
    "collapsed": false
   },
   "id": "e52c884441fab2c7"
  },
  {
   "cell_type": "code",
   "execution_count": 1529,
   "outputs": [],
   "source": [
    "precaire = [102.0]\n",
    "df['MTF'] = np.where(df['CD_MTF_ENE_CTX'].isin(precaire), 'Mauvais MTF', 'Bon MTF')\n",
    "df.drop(columns ='CD_MTF_ENE_CTX', inplace = True)\n"
   ],
   "metadata": {
    "collapsed": false,
    "ExecuteTime": {
     "end_time": "2024-02-05T22:48:16.914529100Z",
     "start_time": "2024-02-05T22:48:16.849653800Z"
    }
   },
   "id": "a3b5f600f17261dc"
  },
  {
   "cell_type": "code",
   "execution_count": 1530,
   "outputs": [],
   "source": [
    "precaire = [102.0]\n",
    "df_ph['MTF'] = np.where(df_ph['CD_MTF_ENE_CTX'].isin(precaire), 'Mauvais MTF', 'Bon MTF')\n",
    "df_ph.drop(columns ='CD_MTF_ENE_CTX', inplace = True)\n"
   ],
   "metadata": {
    "collapsed": false,
    "ExecuteTime": {
     "end_time": "2024-02-05T22:48:17.027764900Z",
     "start_time": "2024-02-05T22:48:16.898526100Z"
    }
   },
   "id": "b2821fe39ee150af"
  },
  {
   "cell_type": "markdown",
   "source": [
    "# ETAT_CIVIL"
   ],
   "metadata": {
    "collapsed": false
   },
   "id": "d3b2cd8c88cc6b6a"
  },
  {
   "cell_type": "code",
   "execution_count": 1531,
   "outputs": [],
   "source": [
    "precaire = [4.0,5.0,2.0,8.0,3.0,7.0]\n",
    "df['ETAT_CIVIL'] = np.where(df['CD_ETAT_CIVIL'].isin(precaire), 'Mauvais etat', 'Bon etat')\n",
    "\n",
    "df.drop(columns ='CD_ETAT_CIVIL', inplace = True)"
   ],
   "metadata": {
    "collapsed": false,
    "ExecuteTime": {
     "end_time": "2024-02-05T22:48:17.039207100Z",
     "start_time": "2024-02-05T22:48:16.946990100Z"
    }
   },
   "id": "a2e6bd00fe978175"
  },
  {
   "cell_type": "code",
   "execution_count": 1532,
   "outputs": [],
   "source": [
    "precaire = [4.0,5.0,2.0,8.0,3.0,7.0]\n",
    "df_ph['ETAT_CIVIL'] = np.where(df_ph['CD_ETAT_CIVIL'].isin(precaire), 'Mauvais etat', 'Bon etat')\n",
    "\n",
    "df_ph.drop(columns ='CD_ETAT_CIVIL', inplace = True)"
   ],
   "metadata": {
    "collapsed": false,
    "ExecuteTime": {
     "end_time": "2024-02-05T22:48:17.039207100Z",
     "start_time": "2024-02-05T22:48:16.995161900Z"
    }
   },
   "id": "2ccca6037a9728b8"
  },
  {
   "cell_type": "markdown",
   "source": [
    "# CSP"
   ],
   "metadata": {
    "collapsed": false
   },
   "id": "783c482f5e8a63a5"
  },
  {
   "cell_type": "code",
   "execution_count": 1533,
   "outputs": [],
   "source": [
    "precaire = ['PEO' , 'PAM', 'FEO', 'FCA']\n",
    "# Ajouter une colonne 'Groupe' au DataFrame en fonction des catégories\n",
    "df['CSP'] = np.where(df['CD_CSP_EMP1'].isin(precaire), 'Mauvaise CSP', 'Bonne CSP')\n",
    "\n",
    "df.drop(columns ='CD_CSP_EMP1', inplace = True)"
   ],
   "metadata": {
    "collapsed": false,
    "ExecuteTime": {
     "end_time": "2024-02-05T22:48:17.383246700Z",
     "start_time": "2024-02-05T22:48:17.035753900Z"
    }
   },
   "id": "6378186ccb9ab6b1"
  },
  {
   "cell_type": "code",
   "execution_count": 1534,
   "outputs": [],
   "source": [
    "precaire = ['PEO' , 'PAM', 'FEO', 'FCA']\n",
    "# Ajouter une colonne 'Groupe' au DataFrame en fonction des catégories\n",
    "df_ph['CSP'] = np.where(df_ph['CD_CSP_EMP1'].isin(precaire), 'Mauvaise CSP', 'Bonne CSP')\n",
    "\n",
    "df_ph.drop(columns ='CD_CSP_EMP1', inplace = True)"
   ],
   "metadata": {
    "collapsed": false,
    "ExecuteTime": {
     "end_time": "2024-02-05T22:48:17.383246700Z",
     "start_time": "2024-02-05T22:48:17.084617900Z"
    }
   },
   "id": "ae7e9b984ff2a9ef"
  },
  {
   "cell_type": "markdown",
   "source": [
    "# Index"
   ],
   "metadata": {
    "collapsed": false
   },
   "id": "38b4e7fa255a8582"
  },
  {
   "cell_type": "code",
   "execution_count": 1535,
   "outputs": [],
   "source": [
    "df.index = df['cd_op']\n",
    "df.drop(columns = 'cd_op',inplace = True)\n",
    "\n",
    "df_ph.index = df_ph['cd_op']\n",
    "df_ph.drop(columns = 'cd_op',inplace = True)"
   ],
   "metadata": {
    "collapsed": false,
    "ExecuteTime": {
     "end_time": "2024-02-05T22:48:17.386275700Z",
     "start_time": "2024-02-05T22:48:17.140895700Z"
    }
   },
   "id": "78a8cd45538ddcfa"
  },
  {
   "cell_type": "markdown",
   "source": [
    "# Encoding"
   ],
   "metadata": {
    "collapsed": false
   },
   "id": "fe121a4ea62ca8a"
  },
  {
   "cell_type": "markdown",
   "source": [
    "### Label encoding pour modalités ayant une relation ordinale"
   ],
   "metadata": {
    "collapsed": false
   },
   "id": "dfc0a2cfcf24b973"
  },
  {
   "cell_type": "code",
   "execution_count": 1536,
   "outputs": [],
   "source": [
    "df['niv_gravite_mtf_dfs'] = df['niv_gravite_mtf_dfs'].apply(lambda x : 1 if x == 'Grave' else 0)\n",
    "df['niv_gravite_mtf_dfs'] = df['niv_gravite_mtf_dfs'].astype('int')\n",
    "\n",
    "df_ph['niv_gravite_mtf_dfs'] = df_ph['niv_gravite_mtf_dfs'].apply(lambda x : 1 if x == 'Grave' else 0)\n",
    "df_ph['niv_gravite_mtf_dfs'] = df_ph['niv_gravite_mtf_dfs'].astype('int')"
   ],
   "metadata": {
    "collapsed": false,
    "ExecuteTime": {
     "end_time": "2024-02-05T22:48:17.386275700Z",
     "start_time": "2024-02-05T22:48:17.382113400Z"
    }
   },
   "id": "ed4618afd440d49e"
  },
  {
   "cell_type": "markdown",
   "source": [
    "# OHE pour le reste"
   ],
   "metadata": {
    "collapsed": false
   },
   "id": "8b6c56073a290455"
  },
  {
   "cell_type": "markdown",
   "source": [
    "for col in df.select_dtypes(include = 'object').columns:\n",
    "    dummies_df = pd.get_dummies(df[col], prefix=f'{col}')\n",
    "    \n",
    "    df = pd.concat([df, dummies_df], axis=1)\n",
    "    \n",
    "    df.drop(columns = col, inplace = True)"
   ],
   "metadata": {
    "collapsed": false
   },
   "id": "cff2cc899e817748"
  },
  {
   "cell_type": "markdown",
   "source": [
    "Il faudra penser à drop une colonne pour chaque variable categorielle pour qu'elle soit considérée comme modalité de reference pour eviter les pb de multicolinéarité."
   ],
   "metadata": {
    "collapsed": false
   },
   "id": "86c2964f2d45dffa"
  },
  {
   "cell_type": "markdown",
   "source": [
    "# Var numériques"
   ],
   "metadata": {
    "collapsed": false
   },
   "id": "a6837c2ab6e1a607"
  },
  {
   "cell_type": "code",
   "execution_count": 1537,
   "outputs": [],
   "source": [
    "for col in df.select_dtypes(include = 'bool').columns : \n",
    "    df[col] = df[col].apply(lambda x: 1 if x == True else 0)\n",
    "    \n",
    "for col in df_ph.select_dtypes(include = 'bool').columns : \n",
    "    df_ph[col] = df_ph[col].apply(lambda x: 1 if x == True else 0)"
   ],
   "metadata": {
    "collapsed": false,
    "ExecuteTime": {
     "end_time": "2024-02-05T22:48:17.386275700Z",
     "start_time": "2024-02-05T22:48:17.382113400Z"
    }
   },
   "id": "4c6347b5d3a7d58d"
  },
  {
   "cell_type": "markdown",
   "source": [
    "# Discretisation des variables numériques"
   ],
   "metadata": {
    "collapsed": false
   },
   "id": "357c5a2d1b5674f"
  },
  {
   "cell_type": "markdown",
   "source": [
    "'dls_mep_entree_def', 'ANC_PRO_MAX_PFI', 'CD_DNE_CHR_LGD_SAIN',\n",
    "       'MT_EAD_RESID', 'cum_dec', 'MT_REST_VIVRE'"
   ],
   "metadata": {
    "collapsed": false
   },
   "id": "274ba38dd69d1e0a"
  },
  {
   "cell_type": "code",
   "execution_count": 1538,
   "outputs": [
    {
     "data": {
      "text/plain": "                     Bin  Count  Count (%)  Non-event  Event  Event rate  \\\n0          (-inf, 11.50)   1389   0.061208        860    529    0.380850   \n1         [11.50, 19.50)   1388   0.061164        879    509    0.366715   \n2         [19.50, 30.50)   1710   0.075354       1095    615    0.359649   \n3         [30.50, 68.50)   5040   0.222095       3375   1665    0.330357   \n4        [68.50, 151.50)   7189   0.316794       4966   2223    0.309222   \n5       [151.50, 211.50)   2756   0.121447       1983    773    0.280479   \n6          [211.50, inf)   3221   0.141938       2342    879    0.272897   \n7                Special      0   0.000000          0      0    0.000000   \n8                Missing      0   0.000000          0      0    0.000000   \nTotals                    22693   1.000000      15500   7193    0.316970   \n\n             WoE        IV        JS  \n0      -0.281788  0.005089  0.000634  \n1      -0.221395  0.003111  0.000388  \n2      -0.190844  0.002835  0.000354  \n3      -0.061161  0.000840  0.000105  \n4       0.036025  0.000408  0.000051  \n5       0.174355  0.003569  0.000446  \n6       0.212244  0.006133  0.000765  \n7            0.0  0.000000  0.000000  \n8            0.0  0.000000  0.000000  \nTotals            0.021985  0.002743  ",
      "text/html": "<div>\n<style scoped>\n    .dataframe tbody tr th:only-of-type {\n        vertical-align: middle;\n    }\n\n    .dataframe tbody tr th {\n        vertical-align: top;\n    }\n\n    .dataframe thead th {\n        text-align: right;\n    }\n</style>\n<table border=\"1\" class=\"dataframe\">\n  <thead>\n    <tr style=\"text-align: right;\">\n      <th></th>\n      <th>Bin</th>\n      <th>Count</th>\n      <th>Count (%)</th>\n      <th>Non-event</th>\n      <th>Event</th>\n      <th>Event rate</th>\n      <th>WoE</th>\n      <th>IV</th>\n      <th>JS</th>\n    </tr>\n  </thead>\n  <tbody>\n    <tr>\n      <th>0</th>\n      <td>(-inf, 11.50)</td>\n      <td>1389</td>\n      <td>0.061208</td>\n      <td>860</td>\n      <td>529</td>\n      <td>0.380850</td>\n      <td>-0.281788</td>\n      <td>0.005089</td>\n      <td>0.000634</td>\n    </tr>\n    <tr>\n      <th>1</th>\n      <td>[11.50, 19.50)</td>\n      <td>1388</td>\n      <td>0.061164</td>\n      <td>879</td>\n      <td>509</td>\n      <td>0.366715</td>\n      <td>-0.221395</td>\n      <td>0.003111</td>\n      <td>0.000388</td>\n    </tr>\n    <tr>\n      <th>2</th>\n      <td>[19.50, 30.50)</td>\n      <td>1710</td>\n      <td>0.075354</td>\n      <td>1095</td>\n      <td>615</td>\n      <td>0.359649</td>\n      <td>-0.190844</td>\n      <td>0.002835</td>\n      <td>0.000354</td>\n    </tr>\n    <tr>\n      <th>3</th>\n      <td>[30.50, 68.50)</td>\n      <td>5040</td>\n      <td>0.222095</td>\n      <td>3375</td>\n      <td>1665</td>\n      <td>0.330357</td>\n      <td>-0.061161</td>\n      <td>0.000840</td>\n      <td>0.000105</td>\n    </tr>\n    <tr>\n      <th>4</th>\n      <td>[68.50, 151.50)</td>\n      <td>7189</td>\n      <td>0.316794</td>\n      <td>4966</td>\n      <td>2223</td>\n      <td>0.309222</td>\n      <td>0.036025</td>\n      <td>0.000408</td>\n      <td>0.000051</td>\n    </tr>\n    <tr>\n      <th>5</th>\n      <td>[151.50, 211.50)</td>\n      <td>2756</td>\n      <td>0.121447</td>\n      <td>1983</td>\n      <td>773</td>\n      <td>0.280479</td>\n      <td>0.174355</td>\n      <td>0.003569</td>\n      <td>0.000446</td>\n    </tr>\n    <tr>\n      <th>6</th>\n      <td>[211.50, inf)</td>\n      <td>3221</td>\n      <td>0.141938</td>\n      <td>2342</td>\n      <td>879</td>\n      <td>0.272897</td>\n      <td>0.212244</td>\n      <td>0.006133</td>\n      <td>0.000765</td>\n    </tr>\n    <tr>\n      <th>7</th>\n      <td>Special</td>\n      <td>0</td>\n      <td>0.000000</td>\n      <td>0</td>\n      <td>0</td>\n      <td>0.000000</td>\n      <td>0.0</td>\n      <td>0.000000</td>\n      <td>0.000000</td>\n    </tr>\n    <tr>\n      <th>8</th>\n      <td>Missing</td>\n      <td>0</td>\n      <td>0.000000</td>\n      <td>0</td>\n      <td>0</td>\n      <td>0.000000</td>\n      <td>0.0</td>\n      <td>0.000000</td>\n      <td>0.000000</td>\n    </tr>\n    <tr>\n      <th>Totals</th>\n      <td></td>\n      <td>22693</td>\n      <td>1.000000</td>\n      <td>15500</td>\n      <td>7193</td>\n      <td>0.316970</td>\n      <td></td>\n      <td>0.021985</td>\n      <td>0.002743</td>\n    </tr>\n  </tbody>\n</table>\n</div>"
     },
     "execution_count": 1538,
     "metadata": {},
     "output_type": "execute_result"
    }
   ],
   "source": [
    "from optbinning import OptimalBinning\n",
    "\n",
    "\n",
    "variable = \"ANC_PRO_MAX_PFI\"\n",
    "target = \"DET\"\n",
    "\n",
    "optb = OptimalBinning(name=variable, dtype=\"numerical\")\n",
    "\n",
    "# Ajout des données\n",
    "optb.fit(df[variable].values, df[target])\n",
    "\n",
    "# Affichage des informations sur la discrétisation optimale\n",
    "optb.binning_table.build()\n"
   ],
   "metadata": {
    "collapsed": false,
    "ExecuteTime": {
     "end_time": "2024-02-05T22:48:17.475207200Z",
     "start_time": "2024-02-05T22:48:17.382113400Z"
    }
   },
   "id": "5f245087d4eb9187"
  },
  {
   "cell_type": "markdown",
   "source": [
    "Index du bin : Un numéro attribué à chaque intervalle.\n",
    "\n",
    "Intervalle : La plage de valeurs couverte par le bin. Par exemple, la première ligne indique que le premier intervalle couvre toutes les valeurs inférieures à 11.50.\n",
    "\n",
    "Nombre d'observations : Le nombre d'observations (ou d'éléments de données) incluses dans cet intervalle.\n",
    "\n",
    "Fréquence relative : La fréquence relative des observations dans cet intervalle par rapport au total. Cela peut être interprété comme la proportion d'observations dans cet intervalle par rapport à l'ensemble des données.\n",
    "\n",
    "Cumulative Good : Le nombre cumulatif d'événements \"bons\" jusqu'à cet intervalle. Cela peut dépendre du contexte spécifique de votre problème, mais généralement, \"bons\" signifie quelque chose de positif ou souhaitable.\n",
    "\n",
    "Cumulative Bad : Le nombre cumulatif d'événements \"mauvais\" jusqu'à cet intervalle. De manière similaire à la colonne précédente, cela dépend du contexte de votre modèle ou analyse.\n",
    "\n",
    "WOE (Weight of Evidence) : Le Poids des Évidences pour cet intervalle. C'est une mesure de l'importance de cet intervalle dans la prédiction du résultat. Une valeur positive indique une influence positive, tandis qu'une valeur négative indique une influence négative.\n",
    "\n",
    "IV (Information Value) : La Valeur d'Information pour cet intervalle. C'est une mesure de la qualité prédictive de cet intervalle. Plus la valeur est élevée, meilleure est la capacité de l'intervalle à prédire le résultat.\n",
    "\n",
    "KS (Kolmogorov-Smirnov) : La statistique de Kolmogorov-Smirnov pour cet intervalle. Il mesure la différence cumulée entre la distribution cumulative observée et la distribution cumulative attendue.\n",
    "\n",
    "Diversification : Une mesure de la diversification dans cet intervalle."
   ],
   "metadata": {
    "collapsed": false
   },
   "id": "b06d1cb62c124de1"
  },
  {
   "cell_type": "code",
   "execution_count": 1539,
   "outputs": [
    {
     "data": {
      "text/plain": "<Figure size 640x480 with 2 Axes>",
      "image/png": "[encoded data removed]"
     },
     "metadata": {},
     "output_type": "display_data"
    }
   ],
   "source": [
    "optb.binning_table.plot(metric = \"woe\")"
   ],
   "metadata": {
    "collapsed": false,
    "ExecuteTime": {
     "end_time": "2024-02-05T22:48:17.941778100Z",
     "start_time": "2024-02-05T22:48:17.394708400Z"
    }
   },
   "id": "673aecf162bad89b"
  },
  {
   "cell_type": "code",
   "execution_count": 1540,
   "outputs": [],
   "source": [
    "df['ANC_PRO_MAX_PFI_2'] = optb.transform(df['ANC_PRO_MAX_PFI'], metric=\"woe\")"
   ],
   "metadata": {
    "collapsed": false,
    "ExecuteTime": {
     "end_time": "2024-02-05T22:48:17.965798100Z",
     "start_time": "2024-02-05T22:48:17.933521800Z"
    }
   },
   "id": "41260a820cd756ec"
  },
  {
   "cell_type": "code",
   "execution_count": 1540,
   "outputs": [],
   "source": [],
   "metadata": {
    "collapsed": false,
    "ExecuteTime": {
     "end_time": "2024-02-05T22:48:18.046684200Z",
     "start_time": "2024-02-05T22:48:17.949523300Z"
    }
   },
   "id": "4d69babf398390a5"
  },
  {
   "cell_type": "code",
   "execution_count": 1541,
   "outputs": [
    {
     "data": {
      "text/plain": "cd_op\nI860708600     84.0\nI950404213    203.0\nI950706618     42.0\nI950901248    166.0\nI960300578      3.0\n              ...  \nM220200817    154.0\nM220207473     79.0\nM220330795     61.0\nM220505830    181.0\nM220606878     24.0\nName: ANC_PRO_MAX_PFI, Length: 22693, dtype: float64"
     },
     "execution_count": 1541,
     "metadata": {},
     "output_type": "execute_result"
    }
   ],
   "source": [
    "df['ANC_PRO_MAX_PFI']"
   ],
   "metadata": {
    "collapsed": false,
    "ExecuteTime": {
     "end_time": "2024-02-05T22:48:18.070479700Z",
     "start_time": "2024-02-05T22:48:17.957522Z"
    }
   },
   "id": "be6a1555cfce8beb"
  },
  {
   "cell_type": "markdown",
   "source": [
    "# Export du dataframe "
   ],
   "metadata": {
    "collapsed": false
   },
   "id": "cf5ee3873c1629df"
  },
  {
   "cell_type": "code",
   "execution_count": 1542,
   "outputs": [],
   "source": [
    "df.to_csv('../data/df.csv', sep = ',')\n",
    "\n",
    "df_ph.to_csv('../data/df_ph.csv', sep = ',')"
   ],
   "metadata": {
    "collapsed": false,
    "ExecuteTime": {
     "end_time": "2024-02-05T22:48:20.057735400Z",
     "start_time": "2024-02-05T22:48:17.998479700Z"
    }
   },
   "id": "2b7c21f85f2c45c0"
  },
  {
   "cell_type": "code",
   "execution_count": 1542,
   "outputs": [],
   "source": [],
   "metadata": {
    "collapsed": false,
    "ExecuteTime": {
     "end_time": "2024-02-05T22:48:20.136057800Z",
     "start_time": "2024-02-05T22:48:20.103443700Z"
    }
   },
   "id": "27a713e7f05e5375"
  },
  {
   "cell_type": "code",
   "execution_count": 1542,
   "outputs": [],
   "source": [],
   "metadata": {
    "collapsed": false,
    "ExecuteTime": {
     "end_time": "2024-02-05T22:48:20.146872400Z",
     "start_time": "2024-02-05T22:48:20.126406900Z"
    }
   },
   "id": "e124ff0b94b7f08b"
  }
 ],
 "metadata": {
  "kernelspec": {
   "display_name": "Python 3",
   "language": "python",
   "name": "python3"
  },
  "language_info": {
   "codemirror_mode": {
    "name": "ipython",
    "version": 2
   },
   "file_extension": ".py",
   "mimetype": "text/x-python",
   "name": "python",
   "nbconvert_exporter": "python",
   "pygments_lexer": "ipython2",
   "version": "2.7.6"
  }
 },
 "nbformat": 4,
 "nbformat_minor": 5
}
