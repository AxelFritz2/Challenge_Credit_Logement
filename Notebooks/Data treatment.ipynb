{
 "cells": [
  {
   "cell_type": "code",
   "execution_count": null,
   "id": "initial_id",
   "metadata": {
    "collapsed": true
   },
   "outputs": [],
   "source": [
    "import pandas as pd\n",
    "import numpy as np"
   ]
  },
  {
   "cell_type": "code",
   "execution_count": null,
   "outputs": [],
   "source": [
    "# Import dataset\n",
    "df = pd.read_csv('../data/base_modelis_pass_det.csv',sep = ';')\n",
    "df2 = pd.read_csv('../data/base_modelis_pass_det.csv',sep = ';')\n",
    "\n",
    "liste_var = [#'mt_dec_cum_IMP_tot','EAD_1an_avant_def','cum_frs_externes','fl_prise_de_gar', 'cum_rec', 'fam_ETH', 'CD_DNE_CHR_LGD_SAIN','CD_MTF_ENE_CTX',\n",
    "             # anciennes variables ->\n",
    "             'CD_NATUR_OP_PFI', 'CD_SITFAM_EMP1', 'sol_echec', 'CD_MTF_DFC', 'regroup_natur_op', 'fam_PCD', 'fl_prise_de_gar', 'mt_dec_cum_IMP_tot', 'dat_dec_echec', 'fam_ENQ',\n",
    " 'niv_gravite_mtf_dne', 'fl_fam_vam', 'fl_pass_DET', 'arrete', 'cd_op']\n",
    "\n",
    "\n",
    "\n",
    "liste_var = ['AMI', 'regroup_natur_op' , 'fl_fonc', 'fl_prt_Conso', 'nb_empr_ope' , 'niv_gravite_mtf_dfs', 'CD_MTF_DFC', 'sol_echec', 'fam_PCD', 'solution', 'dat_dec_echec', 'NB_RP_HOP', 'CD_DNE_CHR_LGD_SAIN', 'CD_SITFAM_EMP1', 'CD_CSP_EMP1', 'CD_ETAT_CIVIL', 'CD_NATUR_OP_PFI', 'MT_CHA_CSM_REV', 'MT_CHA_IMP', 'MT_CHA_PIP', 'MT_CHA_PIV', 'mt_rev_dispo', 'MT_CHG_MSL', 'MT_REST_VIVRE', 'ANC_BANC_MAX_PFI', 'TX_ENDET', 'CD_MTF_ENE_CTX', 'MT_PATRIM_NET', 'ANC_PRO_MAX_PFI', 'MT_CHA_HORS_OPE_PFI', 'NB_CHARGE_HORS_OPE_PFI', 'max_age_ctx', 'EAD_1an_avant_def', 'MT_REV_PFI', 'TX_APPOR', 'cum_frs_externes', 'MT_PATRIM_MOB', 'AGE_EMP1', 'dls_ges_def', 'NB_DUR_PFI', 'mt_dec_cum_IMP_tot', 'MT_FMG', 'MT_EAD_RESID', 'cum_dec', 'nb_bienHOP', 'dls_mep_entree_def', 'CD_POST_BIEN_PFI', 'cum_rec', 'MT_EAD_DNE_CHR_d', 'MR_arr', 'NB_LO_HOP','fl_pass_DET', 'arrete', 'cd_op']\n",
    "\n",
    "liste_var = list(set(liste_var))\n",
    "# Variables selctionnées\n",
    "df = df[liste_var]#'CD_NAT_EMP1', 'CD_NAT_EMP2','CD_CSP_EMP2' trop de NaN pour ces var ,'CD_DEST_PFI',  'CD_CSP_EMP1'\n",
    "\n",
    "# Peut etre drop CSP et DEST car on peut pas regrouper les categories"
   ],
   "metadata": {
    "collapsed": false
   },
   "id": "d82dc6b4dd60b3f1"
  },
  {
   "cell_type": "markdown",
   "source": [
    "'MT_CHA_PIP', 'FL_ETR', 'cum_frs_externes', 'MT_EAD_RESID',\n",
    "       'fl_prise_de_gar', 'fam_ETH', 'fam_ENQ', 'fam_hyp', 'dat_dec_echec',\n",
    "       'solution', 'fam_PCD', 'dtSRT1st', 'CD_MTF_ENE_CTX',\n",
    "       'niv_gravite_mtf_dne', 'niv_gravite_mtf_dfs', 'dls_mep_entree_def',\n",
    "       'nb_bienHOP', 'ANC_PRO_MAX_PFI', 'nb_empr_ope', 'fl_def_ss_pass_CTX',\n",
    "       'mt_dec_cum_IMP_tot', 'AMI', 'PTG', 'AGE_EMP2',"
   ],
   "metadata": {
    "collapsed": false
   },
   "id": "9344a2238af8f0d8"
  },
  {
   "cell_type": "markdown",
   "source": [
    "# DataTreatment"
   ],
   "metadata": {
    "collapsed": false
   },
   "id": "7f142ae84004c47e"
  },
  {
   "cell_type": "code",
   "execution_count": null,
   "outputs": [],
   "source": [
    "filtre = (df.select_dtypes(include = 'number').nunique()<10)\n",
    "for col in df.select_dtypes(include = 'number').loc[:,filtre].columns:\n",
    "    df[col] = df[col].astype('object')"
   ],
   "metadata": {
    "collapsed": false
   },
   "id": "aa7cace37d6e2bb1"
  },
  {
   "cell_type": "code",
   "execution_count": null,
   "outputs": [],
   "source": [
    "df['arrete'] = pd.to_datetime(df['arrete'])"
   ],
   "metadata": {
    "collapsed": false
   },
   "id": "d94f59cb4cc1e2a"
  },
  {
   "cell_type": "code",
   "execution_count": null,
   "outputs": [],
   "source": [
    "liste_det = df[df['fl_pass_DET'] == 1]['cd_op']\n",
    "\n",
    "# on applique le det ou non à toutes les lignes des indiv pour ne garder que la première ligne par individu et garder l'info du passage en DET ou non\n",
    "\n",
    "df['DET'] = np.where(df['cd_op'].isin(liste_det), 1, 0)"
   ],
   "metadata": {
    "collapsed": false
   },
   "id": "918ef75caa45756d"
  },
  {
   "cell_type": "code",
   "execution_count": null,
   "outputs": [],
   "source": [
    "liste_det = df2[df2['fl_pass_DET'] == 1]['cd_op']\n",
    "\n",
    "# on applique le det ou non à toutes les lignes des indiv pour ne garder que la première ligne par individu et garder l'info du passage en DET ou non\n",
    "\n",
    "df2['DET'] = np.where(df2['cd_op'].isin(liste_det), 1, 0)"
   ],
   "metadata": {
    "collapsed": false
   },
   "id": "9b8ee58a89370fbb"
  },
  {
   "cell_type": "markdown",
   "source": [
    "Ensuite on va supprimer les individus qui n'ont qu'une ligne dans le dataframe car ce sont des anomalies."
   ],
   "metadata": {
    "collapsed": false
   },
   "id": "5cfb76ed9fd66e81"
  },
  {
   "cell_type": "code",
   "execution_count": null,
   "outputs": [],
   "source": [
    "anomalie = (df['cd_op'].value_counts() ==1)\n",
    "anomalie = pd.DataFrame(anomalie)\n",
    "liste_anomalie = anomalie[anomalie['count']==True].index"
   ],
   "metadata": {
    "collapsed": false
   },
   "id": "868a66ba1c1da56a"
  },
  {
   "cell_type": "code",
   "execution_count": null,
   "outputs": [],
   "source": [
    "df['anomalie'] = np.where(df['cd_op'].isin(liste_anomalie), 1, 0)"
   ],
   "metadata": {
    "collapsed": false
   },
   "id": "7cf959384d62b702"
  },
  {
   "cell_type": "code",
   "execution_count": null,
   "outputs": [],
   "source": [
    "df = df[df['anomalie'] == 0]"
   ],
   "metadata": {
    "collapsed": false
   },
   "id": "a0c8240852529c02"
  },
  {
   "cell_type": "code",
   "execution_count": null,
   "outputs": [],
   "source": [
    "df.drop(columns = ['fl_pass_DET','anomalie'], inplace = True)"
   ],
   "metadata": {
    "collapsed": false
   },
   "id": "f29776eb82c391e3"
  },
  {
   "cell_type": "code",
   "execution_count": null,
   "outputs": [],
   "source": [
    "df.drop_duplicates(subset = 'cd_op', inplace = True , keep = 'first')"
   ],
   "metadata": {
    "collapsed": false
   },
   "id": "58c6815dd10c3f06"
  },
  {
   "cell_type": "code",
   "execution_count": null,
   "outputs": [],
   "source": [
    "df['DET'].value_counts()"
   ],
   "metadata": {
    "collapsed": false
   },
   "id": "35a0bfa643724050"
  },
  {
   "cell_type": "code",
   "execution_count": null,
   "outputs": [],
   "source": [
    "df.shape"
   ],
   "metadata": {
    "collapsed": false
   },
   "id": "a2a536fc5da363b3"
  },
  {
   "cell_type": "markdown",
   "source": [
    "# NaNs"
   ],
   "metadata": {
    "collapsed": false
   },
   "id": "c593813ebdd7a8d4"
  },
  {
   "cell_type": "code",
   "execution_count": null,
   "outputs": [],
   "source": [
    "df.isna().sum()"
   ],
   "metadata": {
    "collapsed": false
   },
   "id": "3c324aa0b5c14747"
  },
  {
   "cell_type": "code",
   "execution_count": null,
   "outputs": [],
   "source": [
    "for col in df.select_dtypes(include = 'number').columns:\n",
    "    valeur = df[col].median()\n",
    "    df[col].fillna(valeur, inplace=True)\n",
    "    \n",
    "    \n",
    "for col in df.select_dtypes(include = 'object').columns:\n",
    "    valeur = df[col].mode()\n",
    "    df[col].fillna(valeur.iloc[0], inplace=True)"
   ],
   "metadata": {
    "collapsed": false
   },
   "id": "63c19dcce9e13039"
  },
  {
   "cell_type": "code",
   "execution_count": null,
   "outputs": [],
   "source": [
    "df.isna().sum().sum()"
   ],
   "metadata": {
    "collapsed": false
   },
   "id": "fcd1f6def2d36048"
  },
  {
   "cell_type": "markdown",
   "source": [
    "# Regroupement de categories "
   ],
   "metadata": {
    "collapsed": false
   },
   "id": "1526027abe9d4872"
  },
  {
   "cell_type": "markdown",
   "source": [
    "### Motif"
   ],
   "metadata": {
    "collapsed": false
   },
   "id": "ca40e2cd3d0c214d"
  },
  {
   "cell_type": "code",
   "execution_count": null,
   "outputs": [],
   "source": [
    "motif_tres_mauvais = ['ESC' , 'REL', 'ORG', 'PPE', 'DEC', 'SIN']\n",
    "motif_mauvais = ['MOR', 'CHO', 'DIV', 'SUR', 'RIS', 'SEP', 'SAN', 'CON', 'DI1' ]  \n",
    "motif_moyen = ['BDF', 'AUT', 'PCL', 'PCT', 'YYY']\n",
    "\n",
    "df['Motif'] = np.select(\n",
    "    [\n",
    "        df['CD_MTF_DFC'].isin(motif_tres_mauvais),\n",
    "        df['CD_MTF_DFC'].isin(motif_mauvais),\n",
    "        df['CD_MTF_DFC'].isin(motif_moyen)\n",
    "    ],\n",
    "    ['Motif tres mauvais', 'Motif mauvais', 'Motif moyen'],\n",
    "    default='Motif moyen')\n",
    "df.drop(columns ='CD_MTF_DFC', inplace = True)"
   ],
   "metadata": {
    "collapsed": false
   },
   "id": "e3380308db51e85b"
  },
  {
   "cell_type": "markdown",
   "source": [
    "# Gravite"
   ],
   "metadata": {
    "collapsed": false
   },
   "id": "5224bf6093b6d5b5"
  },
  {
   "cell_type": "code",
   "execution_count": null,
   "outputs": [],
   "source": [
    "precaire = [2.0,3.0]\n",
    "df['niv_gravite_mtf_dfs'] = np.where(df['niv_gravite_mtf_dfs'].isin(precaire), 'Grave', 'Pas grave')"
   ],
   "metadata": {
    "collapsed": false
   },
   "id": "6248866d09a8cce"
  },
  {
   "cell_type": "markdown",
   "source": [
    "### CD_SITFAM_EMP1"
   ],
   "metadata": {
    "collapsed": false
   },
   "id": "30bd4e47ac197133"
  },
  {
   "cell_type": "code",
   "execution_count": null,
   "outputs": [],
   "source": [
    "precaire = ['I','D','C'] \n",
    "\n",
    "df['Situation_fam'] = np.where(df['CD_SITFAM_EMP1'].isin(precaire), 'Mauvaise situation', 'Bonne situation')\n",
    "\n",
    "df.drop(columns ='CD_SITFAM_EMP1', inplace = True)"
   ],
   "metadata": {
    "collapsed": false
   },
   "id": "e749e2debe7671a6"
  },
  {
   "cell_type": "markdown",
   "source": [
    "### CD_NATUR_OP_PFI"
   ],
   "metadata": {
    "collapsed": false
   },
   "id": "b64cce5381bc6da1"
  },
  {
   "cell_type": "code",
   "execution_count": null,
   "outputs": [],
   "source": [
    "precaire = ['ACR', 'ARA', 'SCP', 'ATR', 'COR', 'AQN', 'AQA']\n",
    "\n",
    "df['Nature'] = np.where(df['CD_NATUR_OP_PFI'].isin(precaire), 'Mauvaise nature', 'Bonne nature')\n",
    "\n",
    "df.drop(columns ='CD_NATUR_OP_PFI', inplace = True)"
   ],
   "metadata": {
    "collapsed": false
   },
   "id": "41500329ae5028e2"
  },
  {
   "cell_type": "markdown",
   "source": [
    "## Sol_echec"
   ],
   "metadata": {
    "collapsed": false
   },
   "id": "18f969535c5e7013"
  },
  {
   "cell_type": "code",
   "execution_count": null,
   "outputs": [],
   "source": [
    "precaire = ['0_1', '1_1']\n",
    "# Ajouter une colonne 'Groupe' au DataFrame en fonction des catégories\n",
    "df['Solution_echec'] = np.where(df['sol_echec'].isin(precaire), 'Mauvaise solution', 'Bonne solution')\n",
    "\n",
    "df.drop(columns ='sol_echec', inplace = True)"
   ],
   "metadata": {
    "collapsed": false
   },
   "id": "b8c04951cf5a4b57"
  },
  {
   "cell_type": "markdown",
   "source": [
    "## Nature operation"
   ],
   "metadata": {
    "collapsed": false
   },
   "id": "b1a78a2d60bcf6d5"
  },
  {
   "cell_type": "code",
   "execution_count": null,
   "outputs": [],
   "source": [
    "precaire = ['4_autre']\n",
    "\n",
    "df['Nature_op'] = np.where(df['regroup_natur_op'].isin(precaire), 'Mauvaise nature', 'Bonne nature')\n",
    "\n",
    "df.drop(columns ='regroup_natur_op', inplace = True)"
   ],
   "metadata": {
    "collapsed": false
   },
   "id": "854a52f5ef88ac49"
  },
  {
   "cell_type": "markdown",
   "source": [
    "# MTF"
   ],
   "metadata": {
    "collapsed": false
   },
   "id": "e52c884441fab2c7"
  },
  {
   "cell_type": "code",
   "execution_count": null,
   "outputs": [],
   "source": [
    "precaire = [102.0]\n",
    "df['MTF'] = np.where(df['CD_MTF_ENE_CTX'].isin(precaire), 'Mauvais MTF', 'Bon MTF')\n",
    "df.drop(columns ='CD_MTF_ENE_CTX', inplace = True)"
   ],
   "metadata": {
    "collapsed": false
   },
   "id": "a3b5f600f17261dc"
  },
  {
   "cell_type": "markdown",
   "source": [
    "# ETAT_CIVIL"
   ],
   "metadata": {
    "collapsed": false
   },
   "id": "d3b2cd8c88cc6b6a"
  },
  {
   "cell_type": "code",
   "execution_count": null,
   "outputs": [],
   "source": [
    "precaire = [4.0,5.0,2.0,8.0,3.0,7.0]\n",
    "df['ETAT_CIVIL'] = np.where(df['CD_ETAT_CIVIL'].isin(precaire), 'Mauvais etat', 'Bon etat')\n",
    "\n",
    "df.drop(columns ='CD_ETAT_CIVIL', inplace = True)"
   ],
   "metadata": {
    "collapsed": false
   },
   "id": "a2e6bd00fe978175"
  },
  {
   "cell_type": "markdown",
   "source": [
    "# CSP"
   ],
   "metadata": {
    "collapsed": false
   },
   "id": "783c482f5e8a63a5"
  },
  {
   "cell_type": "code",
   "execution_count": null,
   "outputs": [],
   "source": [
    "precaire = ['PEO' , 'PAM', 'FEO', 'FCA']\n",
    "# Ajouter une colonne 'Groupe' au DataFrame en fonction des catégories\n",
    "df['CSP'] = np.where(df['CD_CSP_EMP1'].isin(precaire), 'Mauvaise CSP', 'Bonne CSP')\n",
    "\n",
    "df.drop(columns ='CD_CSP_EMP1', inplace = True)"
   ],
   "metadata": {
    "collapsed": false
   },
   "id": "6378186ccb9ab6b1"
  },
  {
   "cell_type": "markdown",
   "source": [
    "# Index"
   ],
   "metadata": {
    "collapsed": false
   },
   "id": "38b4e7fa255a8582"
  },
  {
   "cell_type": "code",
   "execution_count": null,
   "outputs": [],
   "source": [
    "df.index = df['cd_op']\n",
    "df.drop(columns = 'cd_op',inplace = True)"
   ],
   "metadata": {
    "collapsed": false
   },
   "id": "78a8cd45538ddcfa"
  },
  {
   "cell_type": "markdown",
   "source": [
    "# Encoding"
   ],
   "metadata": {
    "collapsed": false
   },
   "id": "fe121a4ea62ca8a"
  },
  {
   "cell_type": "markdown",
   "source": [
    "### Label encoding pour modalités ayant une relation ordinale"
   ],
   "metadata": {
    "collapsed": false
   },
   "id": "dfc0a2cfcf24b973"
  },
  {
   "cell_type": "code",
   "execution_count": null,
   "outputs": [],
   "source": [
    "df['niv_gravite_mtf_dfs'] = df['niv_gravite_mtf_dfs'].apply(lambda x : 1 if x == 'Grave' else 0)\n",
    "df['niv_gravite_mtf_dfs'] = df['niv_gravite_mtf_dfs'].astype('int')"
   ],
   "metadata": {
    "collapsed": false
   },
   "id": "ed4618afd440d49e"
  },
  {
   "cell_type": "markdown",
   "source": [
    "# OHE pour le reste"
   ],
   "metadata": {
    "collapsed": false
   },
   "id": "8b6c56073a290455"
  },
  {
   "cell_type": "markdown",
   "source": [
    "for col in df.select_dtypes(include = 'object').columns:\n",
    "    dummies_df = pd.get_dummies(df[col], prefix=f'{col}')\n",
    "    \n",
    "    df = pd.concat([df, dummies_df], axis=1)\n",
    "    \n",
    "    df.drop(columns = col, inplace = True)"
   ],
   "metadata": {
    "collapsed": false
   },
   "id": "cff2cc899e817748"
  },
  {
   "cell_type": "markdown",
   "source": [
    "Il faudra penser à drop une colonne pour chaque variable categorielle pour qu'elle soit considérée comme modalité de reference pour eviter les pb de multicolinéarité."
   ],
   "metadata": {
    "collapsed": false
   },
   "id": "86c2964f2d45dffa"
  },
  {
   "cell_type": "markdown",
   "source": [
    "# Var numériques"
   ],
   "metadata": {
    "collapsed": false
   },
   "id": "a6837c2ab6e1a607"
  },
  {
   "cell_type": "code",
   "execution_count": null,
   "outputs": [],
   "source": [
    "for col in df.select_dtypes(include = 'bool').columns : \n",
    "    df[col] = df[col].apply(lambda x: 1 if x == True else 0)"
   ],
   "metadata": {
    "collapsed": false
   },
   "id": "4c6347b5d3a7d58d"
  },
  {
   "cell_type": "markdown",
   "source": [
    "# Export du dataframe "
   ],
   "metadata": {
    "collapsed": false
   },
   "id": "cf5ee3873c1629df"
  },
  {
   "cell_type": "code",
   "execution_count": null,
   "outputs": [],
   "source": [
    "df.to_csv('../data/df.csv', sep = ',')"
   ],
   "metadata": {
    "collapsed": false
   },
   "id": "2b7c21f85f2c45c0"
  },
  {
   "cell_type": "markdown",
   "source": [
    "# Discretisation var num"
   ],
   "metadata": {
    "collapsed": false
   },
   "id": "d50bd09ed4078c37"
  },
  {
   "cell_type": "code",
   "execution_count": null,
   "outputs": [],
   "source": [
    "df2.drop_duplicates(subset = 'cd_op', inplace = True, keep = 'first')"
   ],
   "metadata": {
    "collapsed": false
   },
   "id": "ec4a4e8256ad112d"
  },
  {
   "cell_type": "code",
   "execution_count": null,
   "outputs": [],
   "source": [
    "import matplotlib.pyplot as plt\n",
    "\n",
    "df_det = df2[df2['DET'] == 1].iloc[:500,:]\n",
    "df_cool = df2[df2['DET'] == 0].iloc[:500,:]\n",
    "df3 = pd.concat([df_det,df_cool])\n",
    "\n",
    "for col in df3.select_dtypes(include = 'number').columns : \n",
    "    if df3[col].nunique()>1 :\n",
    "        colors = {1 : 'red', 0 : 'blue'}\n",
    "        df3['Couleur'] = df3['DET'].map(colors)\n",
    "        \n",
    "        # Scatter plot\n",
    "        plt.scatter(df3[col], range(len(df3)), c=df3['Couleur'], label=df3['DET'])\n",
    "        \n",
    "        # Ajouter des labels et un titre\n",
    "        plt.xlabel('Variable Quantitative')\n",
    "        plt.ylabel('Index')\n",
    "        plt.title(col)\n",
    "        \n",
    "        # Afficher le plot\n",
    "        plt.show()\n",
    "    else:\n",
    "        pass"
   ],
   "metadata": {
    "collapsed": false
   },
   "id": "64ac443041fd3833"
  },
  {
   "cell_type": "code",
   "execution_count": null,
   "outputs": [],
   "source": [
    "df2['MT_REST_VIVRE'].isna().sum()"
   ],
   "metadata": {
    "collapsed": false
   },
   "id": "8b5502760179093"
  },
  {
   "cell_type": "code",
   "execution_count": null,
   "outputs": [],
   "source": [],
   "metadata": {
    "collapsed": false
   },
   "id": "27a713e7f05e5375"
  },
  {
   "cell_type": "code",
   "execution_count": null,
   "outputs": [],
   "source": [],
   "metadata": {
    "collapsed": false
   },
   "id": "e124ff0b94b7f08b"
  }
 ],
 "metadata": {
  "kernelspec": {
   "display_name": "Python 3",
   "language": "python",
   "name": "python3"
  },
  "language_info": {
   "codemirror_mode": {
    "name": "ipython",
    "version": 2
   },
   "file_extension": ".py",
   "mimetype": "text/x-python",
   "name": "python",
   "nbconvert_exporter": "python",
   "pygments_lexer": "ipython2",
   "version": "2.7.6"
  }
 },
 "nbformat": 4,
 "nbformat_minor": 5
}
