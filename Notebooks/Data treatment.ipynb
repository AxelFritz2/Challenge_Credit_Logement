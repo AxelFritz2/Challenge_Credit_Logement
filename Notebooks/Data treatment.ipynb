{
 "cells": [
  {
   "cell_type": "code",
   "execution_count": 1610,
   "id": "initial_id",
   "metadata": {
    "collapsed": true,
    "ExecuteTime": {
     "end_time": "2024-02-06T18:26:03.086002500Z",
     "start_time": "2024-02-06T18:26:02.667415500Z"
    }
   },
   "outputs": [],
   "source": [
    "import pandas as pd\n",
    "import numpy as np"
   ]
  },
  {
   "cell_type": "code",
   "execution_count": 1611,
   "outputs": [],
   "source": [
    "# Import dataset\n",
    "df = pd.read_csv('../data/base_modelis_pass_det.csv',sep = ';')\n",
    "\n",
    "liste_var = [#'mt_dec_cum_IMP_tot','EAD_1an_avant_def','cum_frs_externes','fl_prise_de_gar', 'cum_rec', 'fam_ETH', 'CD_DNE_CHR_LGD_SAIN','CD_MTF_ENE_CTX',\n",
    "             # anciennes variables ->\n",
    "             'CD_NATUR_OP_PFI', 'CD_SITFAM_EMP1', 'sol_echec', 'CD_MTF_DFC', 'regroup_natur_op', 'fam_PCD', 'fl_prise_de_gar', 'mt_dec_cum_IMP_tot', 'dat_dec_echec', 'fam_ENQ',\n",
    " 'niv_gravite_mtf_dne', 'fl_fam_vam', 'fl_pass_DET', 'arrete', 'cd_op']\n",
    "\n",
    "\n",
    "\n",
    "liste_var = ['AMI', 'regroup_natur_op' , 'fl_fonc', 'fl_prt_Conso', 'nb_empr_ope' , 'niv_gravite_mtf_dfs', 'CD_MTF_DFC', 'sol_echec', 'fam_PCD', 'solution', 'dat_dec_echec', 'NB_RP_HOP', 'CD_DNE_CHR_LGD_SAIN', 'CD_SITFAM_EMP1', 'CD_CSP_EMP1', 'CD_ETAT_CIVIL', 'CD_NATUR_OP_PFI', 'MT_CHA_CSM_REV', 'MT_CHA_IMP', 'MT_CHA_PIP', 'MT_CHA_PIV', 'mt_rev_dispo', 'MT_CHG_MSL', 'MT_REST_VIVRE', 'ANC_BANC_MAX_PFI', 'TX_ENDET', 'CD_MTF_ENE_CTX', 'MT_PATRIM_NET', 'ANC_PRO_MAX_PFI', 'MT_CHA_HORS_OPE_PFI', 'NB_CHARGE_HORS_OPE_PFI', 'max_age_ctx', 'EAD_1an_avant_def', 'MT_REV_PFI', 'TX_APPOR', 'cum_frs_externes', 'MT_PATRIM_MOB', 'AGE_EMP1', 'dls_ges_def', 'NB_DUR_PFI', 'mt_dec_cum_IMP_tot', 'MT_FMG', 'MT_EAD_RESID', 'cum_dec', 'nb_bienHOP', 'dls_mep_entree_def', 'CD_POST_BIEN_PFI', 'cum_rec', 'MT_EAD_DNE_CHR_d', 'MR_arr', 'NB_LO_HOP','fl_pass_DET', 'arrete', 'cd_op','date_entree_defaut'\n",
    "             , 'NB_DUR_PFI',\n",
    "'CD_NATUR_OP_PFI',\n",
    "'regroup_natur_op',\n",
    "'DT_MEP_OPE',\n",
    "'nb_prt',\n",
    "'FL_REL_NON_ANNULE'\n",
    "]\n",
    "\n",
    "liste_var = list(set(liste_var))\n",
    "# Variables selctionnées\n",
    "df = df[liste_var]#'CD_NAT_EMP1', 'CD_NAT_EMP2','CD_CSP_EMP2' trop de NaN pour ces var ,'CD_DEST_PFI',  'CD_CSP_EMP1'\n"
   ],
   "metadata": {
    "collapsed": false,
    "ExecuteTime": {
     "end_time": "2024-02-06T18:26:05.487199100Z",
     "start_time": "2024-02-06T18:26:02.679417400Z"
    }
   },
   "id": "d82dc6b4dd60b3f1"
  },
  {
   "cell_type": "markdown",
   "source": [
    "'MT_CHA_PIP', 'FL_ETR', 'cum_frs_externes', 'MT_EAD_RESID',\n",
    "       'fl_prise_de_gar', 'fam_ETH', 'fam_ENQ', 'fam_hyp', 'dat_dec_echec',\n",
    "       'solution', 'fam_PCD', 'dtSRT1st', 'CD_MTF_ENE_CTX',\n",
    "       'niv_gravite_mtf_dne', 'niv_gravite_mtf_dfs', 'dls_mep_entree_def',\n",
    "       'nb_bienHOP', 'ANC_PRO_MAX_PFI', 'nb_empr_ope', 'fl_def_ss_pass_CTX',\n",
    "       'mt_dec_cum_IMP_tot', 'AMI', 'PTG', 'AGE_EMP2',"
   ],
   "metadata": {
    "collapsed": false
   },
   "id": "9344a2238af8f0d8"
  },
  {
   "cell_type": "markdown",
   "source": [
    "# DataTreatment"
   ],
   "metadata": {
    "collapsed": false
   },
   "id": "7f142ae84004c47e"
  },
  {
   "cell_type": "code",
   "execution_count": 1612,
   "outputs": [],
   "source": [
    "filtre = (df.select_dtypes(include = 'number').nunique()<10)\n",
    "for col in df.select_dtypes(include = 'number').loc[:,filtre].columns:\n",
    "    df[col] = df[col].astype('object')"
   ],
   "metadata": {
    "collapsed": false,
    "ExecuteTime": {
     "end_time": "2024-02-06T18:26:06.353183600Z",
     "start_time": "2024-02-06T18:26:05.474350700Z"
    }
   },
   "id": "aa7cace37d6e2bb1"
  },
  {
   "cell_type": "code",
   "execution_count": 1613,
   "outputs": [
    {
     "name": "stderr",
     "output_type": "stream",
     "text": [
      "C:\\Users\\baheu\\AppData\\Local\\Temp\\ipykernel_11088\\3940570831.py:1: UserWarning: Could not infer format, so each element will be parsed individually, falling back to `dateutil`. To ensure parsing is consistent and as-expected, please specify a format.\n",
      "  df['arrete'] = pd.to_datetime(df['arrete'])\n",
      "C:\\Users\\baheu\\AppData\\Local\\Temp\\ipykernel_11088\\3940570831.py:3: UserWarning: Could not infer format, so each element will be parsed individually, falling back to `dateutil`. To ensure parsing is consistent and as-expected, please specify a format.\n",
      "  df['date_entree_defaut'] = pd.to_datetime(df['date_entree_defaut'])\n"
     ]
    }
   ],
   "source": [
    "df['arrete'] = pd.to_datetime(df['arrete'])\n",
    "\n",
    "df['date_entree_defaut'] = pd.to_datetime(df['date_entree_defaut'])\n",
    "\n",
    "df['DT_MEP_OPE'] = pd.to_datetime(df['DT_MEP_OPE'], format='%d%b%Y:%H:%M:%S.%f')\n"
   ],
   "metadata": {
    "collapsed": false,
    "ExecuteTime": {
     "end_time": "2024-02-06T18:26:06.560201700Z",
     "start_time": "2024-02-06T18:26:06.340158800Z"
    }
   },
   "id": "d94f59cb4cc1e2a"
  },
  {
   "cell_type": "code",
   "execution_count": 1614,
   "outputs": [],
   "source": [
    "df['DT_MEP_OPE'] = df['arrete'] - df['DT_MEP_OPE'] # pour avoir l'info de la recence du pret\n",
    "df['DT_MEP_OPE'] = df['DT_MEP_OPE'].dt.days"
   ],
   "metadata": {
    "collapsed": false,
    "ExecuteTime": {
     "end_time": "2024-02-06T18:26:06.629415600Z",
     "start_time": "2024-02-06T18:26:06.559187800Z"
    }
   },
   "id": "1afd26b2cebdbaca"
  },
  {
   "cell_type": "code",
   "execution_count": 1615,
   "outputs": [],
   "source": [
    "liste_det = df[df['fl_pass_DET'] == 1]['cd_op']\n",
    "\n",
    "# on applique le det ou non à toutes les lignes des indiv pour ne garder que la première ligne par individu et garder l'info du passage en DET ou non\n",
    "\n",
    "df['DET'] = np.where(df['cd_op'].isin(liste_det), 1, 0)"
   ],
   "metadata": {
    "collapsed": false,
    "ExecuteTime": {
     "end_time": "2024-02-06T18:26:06.701122300Z",
     "start_time": "2024-02-06T18:26:06.620248400Z"
    }
   },
   "id": "918ef75caa45756d"
  },
  {
   "cell_type": "markdown",
   "source": [
    "Ensuite on va supprimer les individus qui n'ont qu'une ligne dans le dataframe car ce sont des anomalies."
   ],
   "metadata": {
    "collapsed": false
   },
   "id": "5cfb76ed9fd66e81"
  },
  {
   "cell_type": "code",
   "execution_count": 1616,
   "outputs": [],
   "source": [
    "anomalie = (df['cd_op'].value_counts() ==1)\n",
    "anomalie = pd.DataFrame(anomalie)\n",
    "liste_anomalie = anomalie[anomalie['count']==True].index"
   ],
   "metadata": {
    "collapsed": false,
    "ExecuteTime": {
     "end_time": "2024-02-06T18:26:06.753505700Z",
     "start_time": "2024-02-06T18:26:06.701122300Z"
    }
   },
   "id": "868a66ba1c1da56a"
  },
  {
   "cell_type": "code",
   "execution_count": 1617,
   "outputs": [],
   "source": [
    "df['anomalie'] = np.where(df['cd_op'].isin(liste_anomalie), 1, 0)"
   ],
   "metadata": {
    "collapsed": false,
    "ExecuteTime": {
     "end_time": "2024-02-06T18:26:06.773482300Z",
     "start_time": "2024-02-06T18:26:06.747353400Z"
    }
   },
   "id": "7cf959384d62b702"
  },
  {
   "cell_type": "code",
   "execution_count": 1618,
   "outputs": [],
   "source": [
    "df = df[df['anomalie'] == 0]"
   ],
   "metadata": {
    "collapsed": false,
    "ExecuteTime": {
     "end_time": "2024-02-06T18:26:06.957465100Z",
     "start_time": "2024-02-06T18:26:06.779514Z"
    }
   },
   "id": "a0c8240852529c02"
  },
  {
   "cell_type": "code",
   "execution_count": 1619,
   "outputs": [],
   "source": [
    "df.drop(columns = ['fl_pass_DET','anomalie'], inplace = True)"
   ],
   "metadata": {
    "collapsed": false,
    "ExecuteTime": {
     "end_time": "2024-02-06T18:26:07.113549100Z",
     "start_time": "2024-02-06T18:26:06.961207500Z"
    }
   },
   "id": "f29776eb82c391e3"
  },
  {
   "cell_type": "code",
   "execution_count": 1620,
   "outputs": [],
   "source": [
    "df_ph = df.drop_duplicates(subset = 'cd_op' , keep = 'last')\n",
    "df = df.drop_duplicates(subset = 'cd_op' , keep = 'first')"
   ],
   "metadata": {
    "collapsed": false,
    "ExecuteTime": {
     "end_time": "2024-02-06T18:26:07.269857Z",
     "start_time": "2024-02-06T18:26:07.119513Z"
    }
   },
   "id": "58c6815dd10c3f06"
  },
  {
   "cell_type": "markdown",
   "source": [
    "# Correction des dates pour ne plus avoir de durées négatives"
   ],
   "metadata": {
    "collapsed": false
   },
   "id": "bea5774fe7942b44"
  },
  {
   "cell_type": "code",
   "execution_count": 1621,
   "outputs": [],
   "source": [
    "df_ph['date_entree_defaut'] = np.where((df_ph['arrete'] - df_ph['date_entree_defaut']).dt.days < 0,\n",
    "                                       df_ph['date_entree_defaut'] - pd.DateOffset(years=1),\n",
    "                                       df_ph['date_entree_defaut'])"
   ],
   "metadata": {
    "collapsed": false,
    "ExecuteTime": {
     "end_time": "2024-02-06T18:26:07.293406300Z",
     "start_time": "2024-02-06T18:26:07.275014100Z"
    }
   },
   "id": "7e48e62de58fed1c"
  },
  {
   "cell_type": "markdown",
   "source": [
    "# NaNs"
   ],
   "metadata": {
    "collapsed": false
   },
   "id": "c593813ebdd7a8d4"
  },
  {
   "cell_type": "code",
   "execution_count": 1622,
   "outputs": [
    {
     "data": {
      "text/plain": "MT_CHG_MSL                 3562\nMT_PATRIM_NET               280\nEAD_1an_avant_def             2\nTX_APPOR                      1\ndat_dec_echec                 0\nANC_PRO_MAX_PFI             241\narrete                        0\nMT_EAD_RESID                  0\nFL_REL_NON_ANNULE             0\nnb_bienHOP                    0\ncum_frs_externes              0\ndls_mep_entree_def            0\nNB_LO_HOP                 11363\nCD_MTF_DFC                  801\nMT_CHA_CSM_REV             6422\nCD_DNE_CHR_LGD_SAIN           2\nMT_EAD_DNE_CHR_d              0\nmt_rev_dispo               3562\nMT_REST_VIVRE              1899\nMR_arr                        0\nNB_DUR_PFI                    0\nfl_fonc                       0\nCD_SITFAM_EMP1                0\nAMI                        4580\nsolution                      0\nAGE_EMP1                      0\ndate_entree_defaut            0\nNB_CHARGE_HORS_OPE_PFI      155\ncum_dec                       0\nMT_CHA_IMP                 6422\nmax_age_ctx                   4\nMT_CHA_PIV                 6422\nMT_CHA_PIP                 6422\nTX_ENDET                   1504\ncum_rec                       0\nnb_empr_ope                   0\nMT_PATRIM_MOB                 0\nfam_PCD                       0\nsol_echec                     0\nCD_MTF_ENE_CTX              801\nNB_RP_HOP                 11363\ndls_ges_def                   0\nnb_prt                        0\nmt_dec_cum_IMP_tot            0\nfl_prt_Conso                  0\nregroup_natur_op              0\nCD_CSP_EMP1                   0\nniv_gravite_mtf_dfs         801\nDT_MEP_OPE                    0\nMT_FMG                        0\nCD_ETAT_CIVIL                 0\ncd_op                         0\nCD_POST_BIEN_PFI              0\nMT_CHA_HORS_OPE_PFI         155\nCD_NATUR_OP_PFI               0\nANC_BANC_MAX_PFI           1797\nMT_REV_PFI                    1\nDET                           0\ndtype: int64"
     },
     "execution_count": 1622,
     "metadata": {},
     "output_type": "execute_result"
    }
   ],
   "source": [
    "df.isna().sum()"
   ],
   "metadata": {
    "collapsed": false,
    "ExecuteTime": {
     "end_time": "2024-02-06T18:26:07.337209100Z",
     "start_time": "2024-02-06T18:26:07.288405600Z"
    }
   },
   "id": "3c324aa0b5c14747"
  },
  {
   "cell_type": "code",
   "execution_count": 1623,
   "outputs": [],
   "source": [
    "for col in df.select_dtypes(include = 'number').columns:\n",
    "    valeur = df[col].median()\n",
    "    df[col].fillna(valeur, inplace=True)\n",
    "    \n",
    "    \n",
    "for col in df.select_dtypes(include = 'object').columns:\n",
    "    valeur = df[col].mode()\n",
    "    df[col].fillna(valeur.iloc[0], inplace=True)"
   ],
   "metadata": {
    "collapsed": false,
    "ExecuteTime": {
     "end_time": "2024-02-06T18:26:07.500428400Z",
     "start_time": "2024-02-06T18:26:07.335199300Z"
    }
   },
   "id": "63c19dcce9e13039"
  },
  {
   "cell_type": "code",
   "execution_count": 1624,
   "outputs": [],
   "source": [
    "for col in df_ph.select_dtypes(include = 'number').columns:\n",
    "    valeur = df_ph[col].median()\n",
    "    df_ph[col].fillna(valeur, inplace=True)\n",
    "    \n",
    "    \n",
    "for col in df_ph.select_dtypes(include = 'object').columns:\n",
    "    valeur = df_ph[col].mode()\n",
    "    df_ph[col].fillna(valeur.iloc[0], inplace=True)"
   ],
   "metadata": {
    "collapsed": false,
    "ExecuteTime": {
     "end_time": "2024-02-06T18:26:07.654148400Z",
     "start_time": "2024-02-06T18:26:07.503534500Z"
    }
   },
   "id": "74fb87b50084178e"
  },
  {
   "cell_type": "markdown",
   "source": [
    "# Regroupement de categories "
   ],
   "metadata": {
    "collapsed": false
   },
   "id": "1526027abe9d4872"
  },
  {
   "cell_type": "markdown",
   "source": [
    "### Motif"
   ],
   "metadata": {
    "collapsed": false
   },
   "id": "ca40e2cd3d0c214d"
  },
  {
   "cell_type": "code",
   "execution_count": 1625,
   "outputs": [],
   "source": [
    "motif_tres_mauvais = ['ESC' , 'REL', 'ORG', 'PPE', 'DEC', 'SIN']\n",
    "motif_mauvais = ['MOR', 'CHO', 'DIV', 'SUR', 'RIS', 'SEP', 'SAN', 'CON', 'DI1' ]  \n",
    "motif_moyen = ['BDF', 'AUT', 'PCL', 'PCT', 'YYY']\n",
    "\n",
    "df['Motif'] = np.select(\n",
    "    [\n",
    "        df['CD_MTF_DFC'].isin(motif_tres_mauvais),\n",
    "        df['CD_MTF_DFC'].isin(motif_mauvais),\n",
    "        df['CD_MTF_DFC'].isin(motif_moyen)\n",
    "    ],\n",
    "    ['Motif tres mauvais', 'Motif mauvais', 'Motif moyen'],\n",
    "    default='Motif moyen')\n",
    "df.drop(columns ='CD_MTF_DFC', inplace = True)"
   ],
   "metadata": {
    "collapsed": false,
    "ExecuteTime": {
     "end_time": "2024-02-06T18:26:07.709159900Z",
     "start_time": "2024-02-06T18:26:07.656147Z"
    }
   },
   "id": "e3380308db51e85b"
  },
  {
   "cell_type": "code",
   "execution_count": 1626,
   "outputs": [],
   "source": [
    "motif_tres_mauvais = ['ESC' , 'REL', 'ORG', 'PPE', 'DEC', 'SIN']\n",
    "motif_mauvais = ['MOR', 'CHO', 'DIV', 'SUR', 'RIS', 'SEP', 'SAN', 'CON', 'DI1' ]  \n",
    "motif_moyen = ['BDF', 'AUT', 'PCL', 'PCT', 'YYY']\n",
    "\n",
    "df_ph['Motif'] = np.select(\n",
    "    [\n",
    "        df_ph['CD_MTF_DFC'].isin(motif_tres_mauvais),\n",
    "        df_ph['CD_MTF_DFC'].isin(motif_mauvais),\n",
    "        df_ph['CD_MTF_DFC'].isin(motif_moyen)\n",
    "    ],\n",
    "    ['Motif tres mauvais', 'Motif mauvais', 'Motif moyen'],\n",
    "    default='Motif moyen')\n",
    "df_ph.drop(columns ='CD_MTF_DFC', inplace = True)"
   ],
   "metadata": {
    "collapsed": false,
    "ExecuteTime": {
     "end_time": "2024-02-06T18:26:07.730730900Z",
     "start_time": "2024-02-06T18:26:07.691304600Z"
    }
   },
   "id": "f78b9e4714959cd0"
  },
  {
   "cell_type": "markdown",
   "source": [
    "# Nb emprunteurs"
   ],
   "metadata": {
    "collapsed": false
   },
   "id": "15cfadfb2bd14b2e"
  },
  {
   "cell_type": "code",
   "execution_count": 1627,
   "outputs": [],
   "source": [
    "precaire = [1]\n",
    "# Ajouter une colonne 'Groupe' au DataFrame en fonction des catégories\n",
    "df['nb_empr_ope'] = np.where(df['nb_empr_ope'].isin(precaire), 'Un emprunteur', 'Plus d\\'un emprunteur')\n",
    "\n",
    "\n",
    "precaire = [1]\n",
    "# Ajouter une colonne 'Groupe' au DataFrame en fonction des catégories\n",
    "df_ph['nb_empr_ope'] = np.where(df_ph['nb_empr_ope'].isin(precaire), 'Un emprunteur', 'Plus d\\'un emprunteur')"
   ],
   "metadata": {
    "collapsed": false,
    "ExecuteTime": {
     "end_time": "2024-02-06T18:26:07.777437300Z",
     "start_time": "2024-02-06T18:26:07.721733900Z"
    }
   },
   "id": "78b5a3f8f421e790"
  },
  {
   "cell_type": "markdown",
   "source": [
    "# Gravite"
   ],
   "metadata": {
    "collapsed": false
   },
   "id": "5224bf6093b6d5b5"
  },
  {
   "cell_type": "code",
   "execution_count": 1628,
   "outputs": [],
   "source": [
    "precaire = [2.0,3.0]\n",
    "df['niv_gravite_mtf_dfs'] = np.where(df['niv_gravite_mtf_dfs'].isin(precaire), 'Grave', 'Pas grave')"
   ],
   "metadata": {
    "collapsed": false,
    "ExecuteTime": {
     "end_time": "2024-02-06T18:26:07.787153Z",
     "start_time": "2024-02-06T18:26:07.753668100Z"
    }
   },
   "id": "6248866d09a8cce"
  },
  {
   "cell_type": "code",
   "execution_count": 1629,
   "outputs": [],
   "source": [
    "precaire = [2.0,3.0]\n",
    "df_ph['niv_gravite_mtf_dfs'] = np.where(df_ph['niv_gravite_mtf_dfs'].isin(precaire), 'Grave', 'Pas grave')"
   ],
   "metadata": {
    "collapsed": false,
    "ExecuteTime": {
     "end_time": "2024-02-06T18:26:07.807718200Z",
     "start_time": "2024-02-06T18:26:07.783142500Z"
    }
   },
   "id": "faef34c9fc7b2a1f"
  },
  {
   "cell_type": "markdown",
   "source": [
    "### CD_SITFAM_EMP1"
   ],
   "metadata": {
    "collapsed": false
   },
   "id": "30bd4e47ac197133"
  },
  {
   "cell_type": "code",
   "execution_count": 1630,
   "outputs": [],
   "source": [
    "precaire = ['I','D','C'] \n",
    "\n",
    "df['Situation_fam'] = np.where(df['CD_SITFAM_EMP1'].isin(precaire), 'Mauvaise situation', 'Bonne situation')\n",
    "\n",
    "df.drop(columns ='CD_SITFAM_EMP1', inplace = True)"
   ],
   "metadata": {
    "collapsed": false,
    "ExecuteTime": {
     "end_time": "2024-02-06T18:26:07.856175100Z",
     "start_time": "2024-02-06T18:26:07.799700200Z"
    }
   },
   "id": "e749e2debe7671a6"
  },
  {
   "cell_type": "code",
   "execution_count": 1631,
   "outputs": [],
   "source": [
    "precaire = ['I','D','C'] \n",
    "\n",
    "df_ph['Situation_fam'] = np.where(df_ph['CD_SITFAM_EMP1'].isin(precaire), 'Mauvaise situation', 'Bonne situation')\n",
    "\n",
    "df_ph.drop(columns ='CD_SITFAM_EMP1', inplace = True)"
   ],
   "metadata": {
    "collapsed": false,
    "ExecuteTime": {
     "end_time": "2024-02-06T18:26:07.882053900Z",
     "start_time": "2024-02-06T18:26:07.832294700Z"
    }
   },
   "id": "f1ac2a1b598b33b9"
  },
  {
   "cell_type": "markdown",
   "source": [
    "### CD_NATUR_OP_PFI"
   ],
   "metadata": {
    "collapsed": false
   },
   "id": "b64cce5381bc6da1"
  },
  {
   "cell_type": "code",
   "execution_count": 1632,
   "outputs": [],
   "source": [
    "precaire = ['ACR', 'ARA', 'SCP', 'ATR', 'COR', 'AQN', 'AQA']\n",
    "\n",
    "df['Nature'] = np.where(df['CD_NATUR_OP_PFI'].isin(precaire), 'Mauvaise nature', 'Bonne nature')\n",
    "\n",
    "df.drop(columns ='CD_NATUR_OP_PFI', inplace = True)"
   ],
   "metadata": {
    "collapsed": false,
    "ExecuteTime": {
     "end_time": "2024-02-06T18:26:07.924143100Z",
     "start_time": "2024-02-06T18:26:07.863029800Z"
    }
   },
   "id": "41500329ae5028e2"
  },
  {
   "cell_type": "code",
   "execution_count": 1633,
   "outputs": [],
   "source": [
    "precaire = ['ACR', 'ARA', 'SCP', 'ATR', 'COR', 'AQN', 'AQA']\n",
    "\n",
    "df_ph['Nature'] = np.where(df_ph['CD_NATUR_OP_PFI'].isin(precaire), 'Mauvaise nature', 'Bonne nature')\n",
    "\n",
    "df_ph.drop(columns ='CD_NATUR_OP_PFI', inplace = True)"
   ],
   "metadata": {
    "collapsed": false,
    "ExecuteTime": {
     "end_time": "2024-02-06T18:26:07.929175300Z",
     "start_time": "2024-02-06T18:26:07.892487100Z"
    }
   },
   "id": "4c6e0421545a8aed"
  },
  {
   "cell_type": "markdown",
   "source": [
    "## Sol_echec"
   ],
   "metadata": {
    "collapsed": false
   },
   "id": "18f969535c5e7013"
  },
  {
   "cell_type": "code",
   "execution_count": 1634,
   "outputs": [],
   "source": [
    "precaire = ['0_1', '1_1']\n",
    "# Ajouter une colonne 'Groupe' au DataFrame en fonction des catégories\n",
    "df['Solution_echec'] = np.where(df['sol_echec'].isin(precaire), 'Mauvaise solution', 'Bonne solution')\n",
    "\n",
    "df.drop(columns ='sol_echec', inplace = True)"
   ],
   "metadata": {
    "collapsed": false,
    "ExecuteTime": {
     "end_time": "2024-02-06T18:26:07.986781600Z",
     "start_time": "2024-02-06T18:26:07.924143100Z"
    }
   },
   "id": "b8c04951cf5a4b57"
  },
  {
   "cell_type": "code",
   "execution_count": 1635,
   "outputs": [],
   "source": [
    "precaire = ['0_1', '1_1']\n",
    "# Ajouter une colonne 'Groupe' au DataFrame en fonction des catégories\n",
    "df_ph['Solution_echec'] = np.where(df_ph['sol_echec'].isin(precaire), 'Mauvaise solution', 'Bonne solution')\n",
    "\n",
    "df_ph.drop(columns ='sol_echec', inplace = True)"
   ],
   "metadata": {
    "collapsed": false,
    "ExecuteTime": {
     "end_time": "2024-02-06T18:26:07.987982400Z",
     "start_time": "2024-02-06T18:26:07.965399700Z"
    }
   },
   "id": "424c14ac1bd20b0e"
  },
  {
   "cell_type": "markdown",
   "source": [
    "## Nature operation"
   ],
   "metadata": {
    "collapsed": false
   },
   "id": "b1a78a2d60bcf6d5"
  },
  {
   "cell_type": "code",
   "execution_count": 1636,
   "outputs": [],
   "source": [
    "precaire = ['4_autre']\n",
    "\n",
    "df['Nature_op'] = np.where(df['regroup_natur_op'].isin(precaire), 'Mauvaise nature', 'Bonne nature')\n",
    "\n",
    "df.drop(columns ='regroup_natur_op', inplace = True)"
   ],
   "metadata": {
    "collapsed": false,
    "ExecuteTime": {
     "end_time": "2024-02-06T18:26:08.038889Z",
     "start_time": "2024-02-06T18:26:07.983783800Z"
    }
   },
   "id": "854a52f5ef88ac49"
  },
  {
   "cell_type": "code",
   "execution_count": 1637,
   "outputs": [],
   "source": [
    "precaire = ['4_autre']\n",
    "\n",
    "df_ph['Nature_op'] = np.where(df_ph['regroup_natur_op'].isin(precaire), 'Mauvaise nature', 'Bonne nature')\n",
    "\n",
    "df_ph.drop(columns ='regroup_natur_op', inplace = True)"
   ],
   "metadata": {
    "collapsed": false,
    "ExecuteTime": {
     "end_time": "2024-02-06T18:26:08.089269400Z",
     "start_time": "2024-02-06T18:26:08.033831400Z"
    }
   },
   "id": "4f5ea1b648a41a26"
  },
  {
   "cell_type": "markdown",
   "source": [
    "# MTF"
   ],
   "metadata": {
    "collapsed": false
   },
   "id": "e52c884441fab2c7"
  },
  {
   "cell_type": "code",
   "execution_count": 1638,
   "outputs": [],
   "source": [
    "precaire = [102.0]\n",
    "df['MTF'] = np.where(df['CD_MTF_ENE_CTX'].isin(precaire), 'Mauvais MTF', 'Bon MTF')\n",
    "df.drop(columns ='CD_MTF_ENE_CTX', inplace = True)\n"
   ],
   "metadata": {
    "collapsed": false,
    "ExecuteTime": {
     "end_time": "2024-02-06T18:26:08.123951100Z",
     "start_time": "2024-02-06T18:26:08.068810300Z"
    }
   },
   "id": "a3b5f600f17261dc"
  },
  {
   "cell_type": "code",
   "execution_count": 1639,
   "outputs": [],
   "source": [
    "precaire = [102.0]\n",
    "df_ph['MTF'] = np.where(df_ph['CD_MTF_ENE_CTX'].isin(precaire), 'Mauvais MTF', 'Bon MTF')\n",
    "df_ph.drop(columns ='CD_MTF_ENE_CTX', inplace = True)\n"
   ],
   "metadata": {
    "collapsed": false,
    "ExecuteTime": {
     "end_time": "2024-02-06T18:26:08.152910300Z",
     "start_time": "2024-02-06T18:26:08.094853900Z"
    }
   },
   "id": "b2821fe39ee150af"
  },
  {
   "cell_type": "markdown",
   "source": [
    "# ETAT_CIVIL"
   ],
   "metadata": {
    "collapsed": false
   },
   "id": "d3b2cd8c88cc6b6a"
  },
  {
   "cell_type": "code",
   "execution_count": 1640,
   "outputs": [],
   "source": [
    "precaire = [4.0,5.0,2.0,8.0,3.0,7.0]\n",
    "df['ETAT_CIVIL'] = np.where(df['CD_ETAT_CIVIL'].isin(precaire), 'Mauvais etat', 'Bon etat')\n",
    "\n",
    "df.drop(columns ='CD_ETAT_CIVIL', inplace = True)"
   ],
   "metadata": {
    "collapsed": false,
    "ExecuteTime": {
     "end_time": "2024-02-06T18:26:08.176556100Z",
     "start_time": "2024-02-06T18:26:08.128242500Z"
    }
   },
   "id": "a2e6bd00fe978175"
  },
  {
   "cell_type": "code",
   "execution_count": 1641,
   "outputs": [],
   "source": [
    "precaire = [4.0,5.0,2.0,8.0,3.0,7.0]\n",
    "df_ph['ETAT_CIVIL'] = np.where(df_ph['CD_ETAT_CIVIL'].isin(precaire), 'Mauvais etat', 'Bon etat')\n",
    "\n",
    "df_ph.drop(columns ='CD_ETAT_CIVIL', inplace = True)"
   ],
   "metadata": {
    "collapsed": false,
    "ExecuteTime": {
     "end_time": "2024-02-06T18:26:08.241259500Z",
     "start_time": "2024-02-06T18:26:08.160558300Z"
    }
   },
   "id": "2ccca6037a9728b8"
  },
  {
   "cell_type": "markdown",
   "source": [
    "# CSP"
   ],
   "metadata": {
    "collapsed": false
   },
   "id": "783c482f5e8a63a5"
  },
  {
   "cell_type": "code",
   "execution_count": 1642,
   "outputs": [],
   "source": [
    "precaire = ['PEO' , 'PAM', 'FEO', 'FCA']\n",
    "# Ajouter une colonne 'Groupe' au DataFrame en fonction des catégories\n",
    "df['CSP'] = np.where(df['CD_CSP_EMP1'].isin(precaire), 'Mauvaise CSP', 'Bonne CSP')\n",
    "\n",
    "df.drop(columns ='CD_CSP_EMP1', inplace = True)"
   ],
   "metadata": {
    "collapsed": false,
    "ExecuteTime": {
     "end_time": "2024-02-06T18:26:08.245477Z",
     "start_time": "2024-02-06T18:26:08.191087600Z"
    }
   },
   "id": "6378186ccb9ab6b1"
  },
  {
   "cell_type": "code",
   "execution_count": 1643,
   "outputs": [],
   "source": [
    "precaire = ['PEO' , 'PAM', 'FEO', 'FCA']\n",
    "# Ajouter une colonne 'Groupe' au DataFrame en fonction des catégories\n",
    "df_ph['CSP'] = np.where(df_ph['CD_CSP_EMP1'].isin(precaire), 'Mauvaise CSP', 'Bonne CSP')\n",
    "\n",
    "df_ph.drop(columns ='CD_CSP_EMP1', inplace = True)"
   ],
   "metadata": {
    "collapsed": false,
    "ExecuteTime": {
     "end_time": "2024-02-06T18:26:08.290462500Z",
     "start_time": "2024-02-06T18:26:08.222697400Z"
    }
   },
   "id": "ae7e9b984ff2a9ef"
  },
  {
   "cell_type": "markdown",
   "source": [
    "# Index"
   ],
   "metadata": {
    "collapsed": false
   },
   "id": "38b4e7fa255a8582"
  },
  {
   "cell_type": "code",
   "execution_count": 1644,
   "outputs": [],
   "source": [
    "df.index = df['cd_op']\n",
    "df.drop(columns = 'cd_op',inplace = True)\n",
    "\n",
    "df_ph.index = df_ph['cd_op']\n",
    "df_ph.drop(columns = 'cd_op',inplace = True)"
   ],
   "metadata": {
    "collapsed": false,
    "ExecuteTime": {
     "end_time": "2024-02-06T18:26:08.323085700Z",
     "start_time": "2024-02-06T18:26:08.253160900Z"
    }
   },
   "id": "78a8cd45538ddcfa"
  },
  {
   "cell_type": "markdown",
   "source": [
    "# Encoding"
   ],
   "metadata": {
    "collapsed": false
   },
   "id": "fe121a4ea62ca8a"
  },
  {
   "cell_type": "markdown",
   "source": [
    "### Label encoding pour modalités ayant une relation ordinale"
   ],
   "metadata": {
    "collapsed": false
   },
   "id": "dfc0a2cfcf24b973"
  },
  {
   "cell_type": "code",
   "execution_count": 1645,
   "outputs": [],
   "source": [
    "df['niv_gravite_mtf_dfs'] = df['niv_gravite_mtf_dfs'].apply(lambda x : 1 if x == 'Grave' else 0)\n",
    "df['niv_gravite_mtf_dfs'] = df['niv_gravite_mtf_dfs'].astype('int')\n",
    "\n",
    "df_ph['niv_gravite_mtf_dfs'] = df_ph['niv_gravite_mtf_dfs'].apply(lambda x : 1 if x == 'Grave' else 0)\n",
    "df_ph['niv_gravite_mtf_dfs'] = df_ph['niv_gravite_mtf_dfs'].astype('int')"
   ],
   "metadata": {
    "collapsed": false,
    "ExecuteTime": {
     "end_time": "2024-02-06T18:26:08.357202600Z",
     "start_time": "2024-02-06T18:26:08.298721800Z"
    }
   },
   "id": "ed4618afd440d49e"
  },
  {
   "cell_type": "markdown",
   "source": [
    "# OHE pour le reste"
   ],
   "metadata": {
    "collapsed": false
   },
   "id": "8b6c56073a290455"
  },
  {
   "cell_type": "markdown",
   "source": [
    "for col in df.select_dtypes(include = 'object').columns:\n",
    "    dummies_df = pd.get_dummies(df[col], prefix=f'{col}')\n",
    "    \n",
    "    df = pd.concat([df, dummies_df], axis=1)\n",
    "    \n",
    "    df.drop(columns = col, inplace = True)"
   ],
   "metadata": {
    "collapsed": false
   },
   "id": "cff2cc899e817748"
  },
  {
   "cell_type": "markdown",
   "source": [
    "Il faudra penser à drop une colonne pour chaque variable categorielle pour qu'elle soit considérée comme modalité de reference pour eviter les pb de multicolinéarité."
   ],
   "metadata": {
    "collapsed": false
   },
   "id": "86c2964f2d45dffa"
  },
  {
   "cell_type": "markdown",
   "source": [
    "# Var numériques"
   ],
   "metadata": {
    "collapsed": false
   },
   "id": "a6837c2ab6e1a607"
  },
  {
   "cell_type": "code",
   "execution_count": 1646,
   "outputs": [],
   "source": [
    "for col in df.select_dtypes(include = 'bool').columns : \n",
    "    df[col] = df[col].apply(lambda x: 1 if x == True else 0)\n",
    "    \n",
    "for col in df_ph.select_dtypes(include = 'bool').columns : \n",
    "    df_ph[col] = df_ph[col].apply(lambda x: 1 if x == True else 0)"
   ],
   "metadata": {
    "collapsed": false,
    "ExecuteTime": {
     "end_time": "2024-02-06T18:26:08.359230400Z",
     "start_time": "2024-02-06T18:26:08.330948300Z"
    }
   },
   "id": "4c6347b5d3a7d58d"
  },
  {
   "cell_type": "markdown",
   "source": [
    "# Discretisation des variables numériques"
   ],
   "metadata": {
    "collapsed": false
   },
   "id": "357c5a2d1b5674f"
  },
  {
   "cell_type": "markdown",
   "source": [
    "'dls_mep_entree_def', 'ANC_PRO_MAX_PFI', 'CD_DNE_CHR_LGD_SAIN',\n",
    "       'MT_EAD_RESID', 'cum_dec', 'MT_REST_VIVRE'"
   ],
   "metadata": {
    "collapsed": false
   },
   "id": "274ba38dd69d1e0a"
  },
  {
   "cell_type": "code",
   "execution_count": 1647,
   "outputs": [
    {
     "data": {
      "text/plain": "                    Bin  Count  Count (%)  Non-event  Event  Event rate  \\\n0         (-inf, 30.50)   4487   0.197726       2834   1653    0.368398   \n1        [30.50, 68.50)   5040   0.222095       3375   1665    0.330357   \n2       [68.50, 151.50)   7189   0.316794       4966   2223    0.309222   \n3         [151.50, inf)   5977   0.263385       4325   1652    0.276393   \n4               Special      0   0.000000          0      0    0.000000   \n5               Missing      0   0.000000          0      0    0.000000   \nTotals                   22693   1.000000      15500   7193    0.316970   \n\n             WoE        IV        JS  \n0      -0.228634  0.010739  0.001339  \n1      -0.061161  0.000840  0.000105  \n2       0.036025  0.000408  0.000051  \n3       0.194694  0.009611  0.001199  \n4            0.0  0.000000  0.000000  \n5            0.0  0.000000  0.000000  \nTotals            0.021598  0.002695  ",
      "text/html": "<div>\n<style scoped>\n    .dataframe tbody tr th:only-of-type {\n        vertical-align: middle;\n    }\n\n    .dataframe tbody tr th {\n        vertical-align: top;\n    }\n\n    .dataframe thead th {\n        text-align: right;\n    }\n</style>\n<table border=\"1\" class=\"dataframe\">\n  <thead>\n    <tr style=\"text-align: right;\">\n      <th></th>\n      <th>Bin</th>\n      <th>Count</th>\n      <th>Count (%)</th>\n      <th>Non-event</th>\n      <th>Event</th>\n      <th>Event rate</th>\n      <th>WoE</th>\n      <th>IV</th>\n      <th>JS</th>\n    </tr>\n  </thead>\n  <tbody>\n    <tr>\n      <th>0</th>\n      <td>(-inf, 30.50)</td>\n      <td>4487</td>\n      <td>0.197726</td>\n      <td>2834</td>\n      <td>1653</td>\n      <td>0.368398</td>\n      <td>-0.228634</td>\n      <td>0.010739</td>\n      <td>0.001339</td>\n    </tr>\n    <tr>\n      <th>1</th>\n      <td>[30.50, 68.50)</td>\n      <td>5040</td>\n      <td>0.222095</td>\n      <td>3375</td>\n      <td>1665</td>\n      <td>0.330357</td>\n      <td>-0.061161</td>\n      <td>0.000840</td>\n      <td>0.000105</td>\n    </tr>\n    <tr>\n      <th>2</th>\n      <td>[68.50, 151.50)</td>\n      <td>7189</td>\n      <td>0.316794</td>\n      <td>4966</td>\n      <td>2223</td>\n      <td>0.309222</td>\n      <td>0.036025</td>\n      <td>0.000408</td>\n      <td>0.000051</td>\n    </tr>\n    <tr>\n      <th>3</th>\n      <td>[151.50, inf)</td>\n      <td>5977</td>\n      <td>0.263385</td>\n      <td>4325</td>\n      <td>1652</td>\n      <td>0.276393</td>\n      <td>0.194694</td>\n      <td>0.009611</td>\n      <td>0.001199</td>\n    </tr>\n    <tr>\n      <th>4</th>\n      <td>Special</td>\n      <td>0</td>\n      <td>0.000000</td>\n      <td>0</td>\n      <td>0</td>\n      <td>0.000000</td>\n      <td>0.0</td>\n      <td>0.000000</td>\n      <td>0.000000</td>\n    </tr>\n    <tr>\n      <th>5</th>\n      <td>Missing</td>\n      <td>0</td>\n      <td>0.000000</td>\n      <td>0</td>\n      <td>0</td>\n      <td>0.000000</td>\n      <td>0.0</td>\n      <td>0.000000</td>\n      <td>0.000000</td>\n    </tr>\n    <tr>\n      <th>Totals</th>\n      <td></td>\n      <td>22693</td>\n      <td>1.000000</td>\n      <td>15500</td>\n      <td>7193</td>\n      <td>0.316970</td>\n      <td></td>\n      <td>0.021598</td>\n      <td>0.002695</td>\n    </tr>\n  </tbody>\n</table>\n</div>"
     },
     "execution_count": 1647,
     "metadata": {},
     "output_type": "execute_result"
    }
   ],
   "source": [
    "from optbinning import OptimalBinning\n",
    "\n",
    "\n",
    "variable = \"ANC_PRO_MAX_PFI\"\n",
    "target = \"DET\"\n",
    "\n",
    "optb = OptimalBinning(name=variable, dtype=\"numerical\", max_n_bins = 4)\n",
    "\n",
    "# Ajout des données\n",
    "optb.fit(df[variable].values, df[target])\n",
    "\n",
    "# Affichage des informations sur la discrétisation optimale\n",
    "optb.binning_table.build()"
   ],
   "metadata": {
    "collapsed": false,
    "ExecuteTime": {
     "end_time": "2024-02-06T18:26:08.438893900Z",
     "start_time": "2024-02-06T18:26:08.345800700Z"
    }
   },
   "id": "5f245087d4eb9187"
  },
  {
   "cell_type": "markdown",
   "source": [
    "Index du bin : Un numéro attribué à chaque intervalle.\n",
    "\n",
    "Intervalle : La plage de valeurs couverte par le bin. Par exemple, la première ligne indique que le premier intervalle couvre toutes les valeurs inférieures à 11.50.\n",
    "\n",
    "Nombre d'observations : Le nombre d'observations (ou d'éléments de données) incluses dans cet intervalle.\n",
    "\n",
    "Fréquence relative : La fréquence relative des observations dans cet intervalle par rapport au total. Cela peut être interprété comme la proportion d'observations dans cet intervalle par rapport à l'ensemble des données.\n",
    "\n",
    "Cumulative Good : Le nombre cumulatif d'événements \"bons\" jusqu'à cet intervalle. Cela peut dépendre du contexte spécifique de votre problème, mais généralement, \"bons\" signifie quelque chose de positif ou souhaitable.\n",
    "\n",
    "Cumulative Bad : Le nombre cumulatif d'événements \"mauvais\" jusqu'à cet intervalle. De manière similaire à la colonne précédente, cela dépend du contexte de votre modèle ou analyse.\n",
    "\n",
    "WOE (Weight of Evidence) : Le Poids des Évidences pour cet intervalle. C'est une mesure de l'importance de cet intervalle dans la prédiction du résultat. Une valeur positive indique une influence positive, tandis qu'une valeur négative indique une influence négative.\n",
    "\n",
    "IV (Information Value) : La Valeur d'Information pour cet intervalle. C'est une mesure de la qualité prédictive de cet intervalle. Plus la valeur est élevée, meilleure est la capacité de l'intervalle à prédire le résultat.\n",
    "\n",
    "KS (Kolmogorov-Smirnov) : La statistique de Kolmogorov-Smirnov pour cet intervalle. Il mesure la différence cumulée entre la distribution cumulative observée et la distribution cumulative attendue.\n",
    "\n",
    "Diversification : Une mesure de la diversification dans cet intervalle."
   ],
   "metadata": {
    "collapsed": false
   },
   "id": "b06d1cb62c124de1"
  },
  {
   "cell_type": "code",
   "execution_count": 1648,
   "outputs": [
    {
     "data": {
      "text/plain": "<Figure size 640x480 with 2 Axes>",
      "image/png": "[encoded data removed]"
     },
     "metadata": {},
     "output_type": "display_data"
    }
   ],
   "source": [
    "optb.binning_table.plot(metric = \"woe\")"
   ],
   "metadata": {
    "collapsed": false,
    "ExecuteTime": {
     "end_time": "2024-02-06T18:26:08.839773Z",
     "start_time": "2024-02-06T18:26:08.438893900Z"
    }
   },
   "id": "673aecf162bad89b"
  },
  {
   "cell_type": "code",
   "execution_count": 1649,
   "outputs": [],
   "source": [
    "df['ANC_PRO_MAX_PFI_2'] = optb.transform(df['ANC_PRO_MAX_PFI'], metric=\"woe\")\n",
    "\n"
   ],
   "metadata": {
    "collapsed": false,
    "ExecuteTime": {
     "end_time": "2024-02-06T18:26:08.864627800Z",
     "start_time": "2024-02-06T18:26:08.840788100Z"
    }
   },
   "id": "41260a820cd756ec"
  },
  {
   "cell_type": "code",
   "execution_count": 1650,
   "outputs": [],
   "source": [
    "variable = \"ANC_PRO_MAX_PFI\"\n",
    "target = \"DET\"\n",
    "\n",
    "optb = OptimalBinning(name=variable, dtype=\"numerical\", max_n_bins = 4)\n",
    "\n",
    "# Ajout des données\n",
    "optb.fit(df_ph[variable].values, df_ph[target])\n",
    "\n",
    "# Affichage des informations sur la discrétisation optimale\n",
    "optb.binning_table.build()\n",
    "\n",
    "df_ph['ANC_PRO_MAX_PFI_2'] = optb.transform(df_ph['ANC_PRO_MAX_PFI'], metric = 'bins')"
   ],
   "metadata": {
    "collapsed": false,
    "ExecuteTime": {
     "end_time": "2024-02-06T18:26:09.135197600Z",
     "start_time": "2024-02-06T18:26:08.856278200Z"
    }
   },
   "id": "4d69babf398390a5"
  },
  {
   "cell_type": "code",
   "execution_count": 1650,
   "outputs": [],
   "source": [
    "\n"
   ],
   "metadata": {
    "collapsed": false,
    "ExecuteTime": {
     "end_time": "2024-02-06T18:26:09.135197600Z",
     "start_time": "2024-02-06T18:26:09.067182100Z"
    }
   },
   "id": "be6a1555cfce8beb"
  },
  {
   "cell_type": "markdown",
   "source": [
    "# Discretisation MT_REST_VIVRE"
   ],
   "metadata": {
    "collapsed": false
   },
   "id": "d87c2782981074b2"
  },
  {
   "cell_type": "code",
   "execution_count": 1651,
   "outputs": [],
   "source": [
    "variable = \"MT_REST_VIVRE\"\n",
    "target = \"DET\"\n",
    "\n",
    "optb = OptimalBinning(name=variable, dtype=\"numerical\", max_n_bins = 2)\n",
    "\n",
    "# Ajout des données\n",
    "optb.fit(df_ph[variable].values, df_ph[target])\n",
    "\n",
    "# Affichage des informations sur la discrétisation optimale\n",
    "optb.binning_table.build()\n",
    "\n",
    "df_ph['MT_REST_VIVRE'] = optb.transform(df_ph['MT_REST_VIVRE'], metric = 'bins')"
   ],
   "metadata": {
    "collapsed": false,
    "ExecuteTime": {
     "end_time": "2024-02-06T18:26:09.208690400Z",
     "start_time": "2024-02-06T18:26:09.067182100Z"
    }
   },
   "id": "d4c496c304c42f23"
  },
  {
   "cell_type": "code",
   "execution_count": 1652,
   "outputs": [
    {
     "data": {
      "text/plain": "<Figure size 640x480 with 2 Axes>",
      "image/png": "[encoded data removed]"
     },
     "metadata": {},
     "output_type": "display_data"
    }
   ],
   "source": [
    "optb.binning_table.plot(metric = \"woe\")"
   ],
   "metadata": {
    "collapsed": false,
    "ExecuteTime": {
     "end_time": "2024-02-06T18:26:09.623685700Z",
     "start_time": "2024-02-06T18:26:09.170975200Z"
    }
   },
   "id": "22da671a75c02fc9"
  },
  {
   "cell_type": "markdown",
   "source": [
    "# Export du dataframe "
   ],
   "metadata": {
    "collapsed": false
   },
   "id": "cf5ee3873c1629df"
  },
  {
   "cell_type": "code",
   "execution_count": 1653,
   "outputs": [],
   "source": [
    "df.to_csv('../data/df.csv', sep = ',')\n",
    "\n",
    "df_ph.to_csv('../data/df_ph.csv', sep = ',')"
   ],
   "metadata": {
    "collapsed": false,
    "ExecuteTime": {
     "end_time": "2024-02-06T18:26:11.254612700Z",
     "start_time": "2024-02-06T18:26:09.622680600Z"
    }
   },
   "id": "2b7c21f85f2c45c0"
  },
  {
   "cell_type": "code",
   "execution_count": 1653,
   "outputs": [],
   "source": [],
   "metadata": {
    "collapsed": false,
    "ExecuteTime": {
     "end_time": "2024-02-06T18:26:11.274616900Z",
     "start_time": "2024-02-06T18:26:11.258618700Z"
    }
   },
   "id": "27a713e7f05e5375"
  },
  {
   "cell_type": "code",
   "execution_count": 1653,
   "outputs": [],
   "source": [],
   "metadata": {
    "collapsed": false,
    "ExecuteTime": {
     "end_time": "2024-02-06T18:26:11.308391100Z",
     "start_time": "2024-02-06T18:26:11.273612600Z"
    }
   },
   "id": "e124ff0b94b7f08b"
  }
 ],
 "metadata": {
  "kernelspec": {
   "display_name": "Python 3",
   "language": "python",
   "name": "python3"
  },
  "language_info": {
   "codemirror_mode": {
    "name": "ipython",
    "version": 2
   },
   "file_extension": ".py",
   "mimetype": "text/x-python",
   "name": "python",
   "nbconvert_exporter": "python",
   "pygments_lexer": "ipython2",
   "version": "2.7.6"
  }
 },
 "nbformat": 4,
 "nbformat_minor": 5
}
